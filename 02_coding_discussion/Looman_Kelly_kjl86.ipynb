{
 "cells": [
  {
   "cell_type": "markdown",
   "metadata": {},
   "source": [
    "## Coding Discussion 2\n",
    "### Preparation "
   ]
  },
  {
   "cell_type": "code",
   "execution_count": 1,
   "metadata": {},
   "outputs": [
    {
     "data": {
      "text/plain": [
       "10080"
      ]
     },
     "execution_count": 1,
     "metadata": {},
     "output_type": "execute_result"
    }
   ],
   "source": [
    "# Import libraries \n",
    "import pandas as pd\n",
    "# Read in US States csv file \n",
    "import csv\n",
    "with open('us-states.csv') as file:\n",
    "    state_covid_data = []\n",
    "    for row in csv.reader(file):\n",
    "        state_covid_data.append(row)\n",
    "\n",
    "len(state_covid_data) # Length of data "
   ]
  },
  {
   "cell_type": "markdown",
   "metadata": {},
   "source": [
    "### (1) Count up the number of _unique_ dates in the data."
   ]
  },
  {
   "cell_type": "code",
   "execution_count": 3,
   "metadata": {},
   "outputs": [
    {
     "name": "stdout",
     "output_type": "stream",
     "text": [
      "['2020-01-22', '2020-01-23', '2020-01-24', '2020-01-25', '2020-01-26', '2020-01-27', '2020-01-28', '2020-01-29', '2020-01-30']\n",
      "225\n"
     ]
    }
   ],
   "source": [
    "df = pd.DataFrame(state_covid_data) # Add data as a dataframe  \n",
    "df = df.iloc[1: , :] # Remove header \n",
    "unique_dates = [] # Create empty list to store unique dates \n",
    "\n",
    "for i in df[0]: # Create for loop that runs through first column of df\n",
    "    if i not in unique_dates: # If i is not found in list\n",
    "        unique_dates.append(i) # Append i to list \n",
    "print(unique_dates[1:10]) # Print first 9 dates of list \n",
    "print(len(unique_dates)) # Print length of list "
   ]
  },
  {
   "cell_type": "markdown",
   "metadata": {},
   "source": [
    "### (2) Find the first date in which the District of Columbia recorded a case. "
   ]
  },
  {
   "cell_type": "code",
   "execution_count": 4,
   "metadata": {},
   "outputs": [
    {
     "name": "stdout",
     "output_type": "stream",
     "text": [
      "2020-03-07\n"
     ]
    }
   ],
   "source": [
    "sort_df = df.sort_values(0) # Sort df by date\n",
    "counter = 0 # Incremental counter \n",
    "for i in sort_df[1]: # Create for loop to run through state column \n",
    "    if i == (\"District of Columbia\"): # If value is equivalent to Washington \n",
    "        print(df.iat[counter,0]) # Print corresponding date value \n",
    "        break # End function\n",
    "    counter += 1 # Otherwise increase counter value by 1"
   ]
  },
  {
   "cell_type": "markdown",
   "metadata": {},
   "source": [
    "### (3) Write a function that takes in a state name as input (e.g. \"Wisconsin\") and outputs the date of its first case."
   ]
  },
  {
   "cell_type": "code",
   "execution_count": 5,
   "metadata": {},
   "outputs": [],
   "source": [
    "def name_date(state_name = \"\"): \n",
    "    \n",
    "    \"\"\"\n",
    "    Takes in a string state and returns the date of state's first case. \n",
    "    \n",
    "    Arguments\n",
    "    --------------\n",
    "    state : str\n",
    "        A text string of a U.S. state name. \n",
    "    \n",
    "    Return\n",
    "    --------------\n",
    "        Date of state's first case \n",
    "    \"\"\"\n",
    "    \n",
    "    sort_df = df.sort_values(0) # Sort df by date\n",
    "    counter = 0 # Incremental counter\n",
    "    for i in sort_df[1]: # Create for loop to run through state column\n",
    "        if i == (state_name): # If value is equivalent to Washington \n",
    "            return(sort_df.iat[counter,0]) # Print corresponding date value \n",
    "            break # End function\n",
    "        counter += 1 # Otherwise increase counter value by 1\n",
    "    return \"Value not found. Please try again.\""
   ]
  },
  {
   "cell_type": "code",
   "execution_count": 6,
   "metadata": {},
   "outputs": [
    {
     "data": {
      "text/plain": [
       "'2020-02-05'"
      ]
     },
     "execution_count": 6,
     "metadata": {},
     "output_type": "execute_result"
    }
   ],
   "source": [
    "name_date(\"Wisconsin\") # Example 1 "
   ]
  },
  {
   "cell_type": "code",
   "execution_count": 7,
   "metadata": {},
   "outputs": [
    {
     "data": {
      "text/plain": [
       "'Value not found. Please try again.'"
      ]
     },
     "execution_count": 7,
     "metadata": {},
     "output_type": "execute_result"
    }
   ],
   "source": [
    "name_date(\"hello\") # Example 2"
   ]
  },
  {
   "cell_type": "markdown",
   "metadata": {},
   "source": [
    "### (Optional) Bonus: Write a function that takes in a state name as input (e.g. \"Wisconsin\") and outputs the date when the number of reported cases within the state exceeded 1000."
   ]
  },
  {
   "cell_type": "code",
   "execution_count": 8,
   "metadata": {},
   "outputs": [],
   "source": [
    "def name_date_cases(state_cases = \"\"): \n",
    "    \n",
    "    \"\"\"\n",
    "    Takes in a string state and returns the date of state's first case that exceeds 1000. \n",
    "    \n",
    "    Arguments\n",
    "    --------------\n",
    "    state : str\n",
    "        A text string of a U.S. state name. \n",
    "    \n",
    "    Return\n",
    "    --------------\n",
    "        Date of state's first case that exceeds 1000. \n",
    "    \"\"\"\n",
    "    \n",
    "    sort_df = df.sort_values(0) # Sort df by date\n",
    "    counter = 0 # Incremental counter \n",
    "    dict = {\"Date\":[],\"State\":[],\"Cases\":[]} # Create dictionary \n",
    "    for i in sort_df[1]: # Create for loop to run through state column \n",
    "        if (i == (state_cases)) and (float(sort_df.iat[counter,3]) > 1000): # If value is equivalent to Washington \n",
    "                                                                            # And cases are greater than 1000 \n",
    "            dict.update({\"Date\": i, \"State\": sort_df.iat[counter,0], \"Cases\": sort_df.iat[counter,3]}) # Update dictionary\n",
    "            return(dict) # Return dictionary \n",
    "            break # End function \n",
    "        counter += 1 # Otherwise increase counter value by 1\n",
    "    return \"Value not found. Please try again.\""
   ]
  },
  {
   "cell_type": "code",
   "execution_count": 9,
   "metadata": {},
   "outputs": [
    {
     "data": {
      "text/plain": [
       "{'Date': 'Washington', 'State': '2020-03-18', 'Cases': '1026'}"
      ]
     },
     "execution_count": 9,
     "metadata": {},
     "output_type": "execute_result"
    }
   ],
   "source": [
    "name_date_cases(\"Washington\") # Example 1 "
   ]
  },
  {
   "cell_type": "code",
   "execution_count": 10,
   "metadata": {},
   "outputs": [
    {
     "data": {
      "text/plain": [
       "'Value not found. Please try again.'"
      ]
     },
     "execution_count": 10,
     "metadata": {},
     "output_type": "execute_result"
    }
   ],
   "source": [
    "name_date_cases(\"hello\") # Example 2"
   ]
  }
 ],
 "metadata": {
  "kernelspec": {
   "display_name": "Python 3",
   "language": "python",
   "name": "python3"
  },
  "language_info": {
   "codemirror_mode": {
    "name": "ipython",
    "version": 3
   },
   "file_extension": ".py",
   "mimetype": "text/x-python",
   "name": "python",
   "nbconvert_exporter": "python",
   "pygments_lexer": "ipython3",
   "version": "3.7.1"
  }
 },
 "nbformat": 4,
 "nbformat_minor": 2
}
