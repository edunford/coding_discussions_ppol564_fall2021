{
 "cells": [
  {
   "cell_type": "code",
   "execution_count": 1,
   "id": "86290470",
   "metadata": {},
   "outputs": [],
   "source": [
    "#Reading in data\n",
    "import csv\n",
    "with open('us-states.csv') as file:\n",
    "    state_covid_data = []\n",
    "    for row in csv.reader(file):\n",
    "        state_covid_data.append(row)"
   ]
  },
  {
   "cell_type": "markdown",
   "id": "80fe0a41",
   "metadata": {},
   "source": [
    "#### Question 1: Count up the number of unique dates in the data:\n",
    "\n",
    "The number of unique dates in the data is 225."
   ]
  },
  {
   "cell_type": "code",
   "execution_count": 2,
   "id": "04686b98",
   "metadata": {},
   "outputs": [
    {
     "data": {
      "text/plain": [
       "225"
      ]
     },
     "execution_count": 2,
     "metadata": {},
     "output_type": "execute_result"
    }
   ],
   "source": [
    "#Creating an empty list for unique dates\n",
    "unique_dates=[]\n",
    "\n",
    "#Creating a for loop that iterates over the length of state_covid_data minus the first value and appends dates not in the empty list to the unique_dates list\n",
    "for i in range(1,len(state_covid_data[1:])):\n",
    "    date=state_covid_data[i][0]\n",
    "    if date not in unique_dates:\n",
    "        unique_dates+=[date]\n",
    "\n",
    "#Counting the number of unique dates\n",
    "len(unique_dates)"
   ]
  },
  {
   "cell_type": "markdown",
   "id": "dac2cecf",
   "metadata": {},
   "source": [
    "#### Question 2: Find the first date in which the District of Columbia recorded a case:\n",
    "\n",
    "The first date in which the District of Columbia recorded a case was March 7, 2020."
   ]
  },
  {
   "cell_type": "code",
   "execution_count": 3,
   "id": "7cc05ec2",
   "metadata": {},
   "outputs": [
    {
     "name": "stdout",
     "output_type": "stream",
     "text": [
      "2020-03-07\n"
     ]
    }
   ],
   "source": [
    "#Creating a for loop to iterate through state_covid_data and print the first date in which DC recorded a covid case\n",
    "\n",
    "for i in range(1,len(state_covid_data[1:])):\n",
    "    if state_covid_data[i][1]==\"District of Columbia\":\n",
    "        #The date of D.C.'s first covid case prints\n",
    "        print(state_covid_data[i][0])\n",
    "        #The for loop breaks after the first case is identified and the date is printed\n",
    "        break"
   ]
  },
  {
   "cell_type": "markdown",
   "id": "8dc7a611",
   "metadata": {},
   "source": [
    "#### Question 3: Write a function that takes in a state name as input (e.g. \"Wisconsin\") and outputs the date of its first case:"
   ]
  },
  {
   "cell_type": "code",
   "execution_count": 4,
   "id": "e6b56d18",
   "metadata": {},
   "outputs": [
    {
     "data": {
      "text/plain": [
       "'2020-02-05'"
      ]
     },
     "execution_count": 4,
     "metadata": {},
     "output_type": "execute_result"
    }
   ],
   "source": [
    "#Creating a function that takes in a state name as input and outputs the date of its first case\n",
    "\n",
    "#Defining the function\n",
    "def first_case(state: str):\n",
    "    #Adding in the docstring to explain what the function will take as input and return as output\n",
    "    \"\"\"\n",
    "    Takes in a string state, returns the date of the state's first COVID-19 case. \n",
    "    \n",
    "    Arguments\n",
    "    --------------\n",
    "    state : str\n",
    "        A text string of a United States state name\n",
    "    \n",
    "    Return\n",
    "    --------------\n",
    "        The date of the state's first COVID-19 case\n",
    "    \"\"\"\n",
    "    #Initiating a type error if a non-string is passed into the function as an argument\n",
    "    if not isinstance(state, str):\n",
    "        raise TypeError\n",
    "    else: \n",
    "        #Creating a for loop that iterates through the length of state_covid_data minus the first value and finds the date of a state's first covid case\n",
    "        for i in range(1,len(state_covid_data[1:])):\n",
    "            if state_covid_data[i][1]==state:\n",
    "                #The date of the first case will be returned\n",
    "                return(state_covid_data[i][0])\n",
    "                #After the date of the first case is found, the for loop will break\n",
    "                break\n",
    "            \n",
    "#Calling the function on the state of Wisconsin as an example          \n",
    "first_case(\"Wisconsin\")"
   ]
  },
  {
   "cell_type": "markdown",
   "id": "a6b6c2e8",
   "metadata": {},
   "source": [
    "#### Bonus: Write a function that takes in a state name as input (e.g. \"Wisconsin\") and outputs the date when the number of reported cases within the state exceeded 1000:"
   ]
  },
  {
   "cell_type": "code",
   "execution_count": 5,
   "id": "0de883fd",
   "metadata": {},
   "outputs": [
    {
     "data": {
      "text/plain": [
       "'2020-03-22'"
      ]
     },
     "execution_count": 5,
     "metadata": {},
     "output_type": "execute_result"
    }
   ],
   "source": [
    "#Creating a function that takes in a state name as input and outputs the date when the number of reported cases within the state exceeded 1000.\n",
    "\n",
    "#Defining the function\n",
    "def over_1000_date(state: str):\n",
    "    #Adding in the docstring to explain what the function will take as input and return as output\n",
    "    \"\"\"\n",
    "    Takes in a string state, returns the date when state's number of COVID-19 cases exceeded 1000. \n",
    "    \n",
    "    Arguments\n",
    "    --------------\n",
    "    state : str\n",
    "        A text string of a United States state name\n",
    "    \n",
    "    Return\n",
    "    --------------\n",
    "        The date when the state's number of COVID-19 cases exceeded 1000\n",
    "    \"\"\"\n",
    "    #Initiating a type error if a non-string is passed into the function as an argument\n",
    "    if not isinstance(state, str):\n",
    "        raise TypeError\n",
    "    else: \n",
    "        #Creating a for loop that iterates through the length of state_covid_data minus the first value and finds the first date at which a state's covid case number exceeds 1000\n",
    "        for i in range(1,len(state_covid_data[1:])):\n",
    "            if state_covid_data[i][1]==state:\n",
    "                if int(state_covid_data[i][3])>1000:\n",
    "                    #The first date of cases over 1000 will be returned\n",
    "                    return(state_covid_data[i][0])\n",
    "                    #Once the first date of cases over 1000 is found, the for loop will break\n",
    "                    break\n",
    "                \n",
    "#Calling the function on the state of Michigan as an example\n",
    "over_1000_date(\"Michigan\")"
   ]
  }
 ],
 "metadata": {
  "kernelspec": {
   "display_name": "Python 3",
   "language": "python",
   "name": "python3"
  },
  "language_info": {
   "codemirror_mode": {
    "name": "ipython",
    "version": 3
   },
   "file_extension": ".py",
   "mimetype": "text/x-python",
   "name": "python",
   "nbconvert_exporter": "python",
   "pygments_lexer": "ipython3",
   "version": "3.8.8"
  }
 },
 "nbformat": 4,
 "nbformat_minor": 5
}
