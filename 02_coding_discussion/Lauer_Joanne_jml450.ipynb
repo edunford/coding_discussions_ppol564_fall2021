{
 "cells": [
  {
   "cell_type": "markdown",
   "source": [
    "### Joanne Lauer\n",
    "### September 19, 2021\n",
    "### Coding Discussion 2"
   ],
   "metadata": {}
  },
  {
   "cell_type": "code",
   "execution_count": 11,
   "source": [
    "## Read in the data provided\n",
    "import csv\n",
    "with open('us-states.csv') as file:\n",
    "    state_covid_data = []\n",
    "    for row in csv.reader(file):\n",
    "        state_covid_data.append(row)"
   ],
   "outputs": [],
   "metadata": {}
  },
  {
   "cell_type": "code",
   "execution_count": 12,
   "source": [
    "## show first 5 lines of the file to verify file details\n",
    "state_covid_data[:5]"
   ],
   "outputs": [
    {
     "output_type": "execute_result",
     "data": {
      "text/plain": [
       "[['date', 'state', 'fips', 'cases', 'deaths'],\n",
       " ['2020-01-21', 'Washington', '53', '1', '0'],\n",
       " ['2020-01-22', 'Washington', '53', '1', '0'],\n",
       " ['2020-01-23', 'Washington', '53', '1', '0'],\n",
       " ['2020-01-24', 'Illinois', '17', '1', '0']]"
      ]
     },
     "metadata": {},
     "execution_count": 12
    }
   ],
   "metadata": {}
  },
  {
   "cell_type": "code",
   "execution_count": 13,
   "source": [
    "## Show the number of entries in the file to determine size and help check results\n",
    "len(state_covid_data)"
   ],
   "outputs": [
    {
     "output_type": "execute_result",
     "data": {
      "text/plain": [
       "10080"
      ]
     },
     "metadata": {},
     "execution_count": 13
    }
   ],
   "metadata": {}
  },
  {
   "cell_type": "markdown",
   "source": [
    "### (1) Count up the number of _unique_ dates in the data. \n",
    "## 225 unique dates exist"
   ],
   "metadata": {}
  },
  {
   "cell_type": "code",
   "execution_count": 14,
   "source": [
    "## list to hold unique dates\n",
    "unique_dates=[]\n",
    "## loop to iterate over the dataset and store each unique date \n",
    "for i in range(1,len(state_covid_data[1:])):\n",
    "    date=state_covid_data[i][0]\n",
    "    if date not in unique_dates:\n",
    "        unique_dates+=[date]\n"
   ],
   "outputs": [],
   "metadata": {}
  },
  {
   "cell_type": "code",
   "execution_count": 15,
   "source": [
    "## check the lenght of the file \n",
    "len(unique_dates)"
   ],
   "outputs": [
    {
     "output_type": "execute_result",
     "data": {
      "text/plain": [
       "225"
      ]
     },
     "metadata": {},
     "execution_count": 15
    }
   ],
   "metadata": {}
  },
  {
   "cell_type": "markdown",
   "source": [
    "### (2) Find the first date in which the District of Columbia recorded a case. \n",
    "### The first date is 03-07-2020"
   ],
   "metadata": {}
  },
  {
   "cell_type": "code",
   "execution_count": 16,
   "source": [
    "## loop to iterate over the entries in the dataset and return the first instance of DC\n",
    "## the dates are in order so we can do it this way\n",
    "for state_name in state_covid_data [1:]:\n",
    "    if state_name[1] == \"District of Columbia\":\n",
    "        first_date = state_name[0]\n",
    "        break\n",
    "print(first_date)"
   ],
   "outputs": [
    {
     "output_type": "stream",
     "name": "stdout",
     "text": [
      "2020-03-07\n"
     ]
    }
   ],
   "metadata": {}
  },
  {
   "cell_type": "markdown",
   "source": [
    "### (3) Write a function that takes in a _state name_ as input (e.g. \"Wisconsin\") and outputs the date of its first case.\n"
   ],
   "metadata": {}
  },
  {
   "cell_type": "code",
   "execution_count": 17,
   "source": [
    "## loop to terate over the entries in the data and save the date if state is equal to \n",
    "## the state in the input\n",
    "def first_case_date(state_input):\n",
    "    \"\"\"\n",
    "    This function returns the date of the states first Covid case.\n",
    "    \n",
    "    Argument\n",
    "    --------\n",
    "    state_input: str\n",
    "        State name\n",
    "    \n",
    "    Return\n",
    "    ------\n",
    "    date of first covid case\n",
    "    \n",
    "    \"\"\"\n",
    "    for entry in state_covid_data:\n",
    "        if entry[1] == state_input:\n",
    "            first_case = entry[0]\n",
    "            break\n",
    "    \n",
    "    return first_case\n",
    "\n",
    "\n",
    "first_case_date('Wisconsin')"
   ],
   "outputs": [
    {
     "output_type": "execute_result",
     "data": {
      "text/plain": [
       "'2020-02-05'"
      ]
     },
     "metadata": {},
     "execution_count": 17
    }
   ],
   "metadata": {}
  },
  {
   "cell_type": "markdown",
   "source": [
    "### Write a function that takes in a _state name_ as input (e.g. \"Wisconsin\") and outputs the date when the number of reported cases within the state exceeded 1000."
   ],
   "metadata": {}
  },
  {
   "cell_type": "code",
   "execution_count": 31,
   "source": [
    "## loop to terate over the entries in the data and save the date if state is equal to the state in the input\n",
    "def case_1000(state_input):\n",
    "    \"\"\"\n",
    "    This function returns the date of the state's Covid case count hit 1000.\n",
    "    \n",
    "    Argument\n",
    "    --------\n",
    "    state: str\n",
    "        State name\n",
    "    \n",
    "    Return\n",
    "    ------\n",
    "    date the covid case cout hit 1000\n",
    "    \n",
    "    \"\"\"\n",
    "    for entry in state_covid_data:\n",
    "        if entry[1] == state_input and entry[3]>=1000:\n",
    "            date_1000 = entry[0]\n",
    "        break              \n",
    "    return date_1000\n",
    "\n",
    "case_1000(\"Wisconsin\")"
   ],
   "outputs": [],
   "metadata": {}
  },
  {
   "cell_type": "code",
   "execution_count": 30,
   "source": [],
   "outputs": [
    {
     "output_type": "error",
     "ename": "UnboundLocalError",
     "evalue": "local variable 'date_1000' referenced before assignment",
     "traceback": [
      "\u001b[0;31m---------------------------------------------------------------------------\u001b[0m",
      "\u001b[0;31mUnboundLocalError\u001b[0m                         Traceback (most recent call last)",
      "\u001b[0;32m/var/folders/9z/q5llybcd2ljfm1q5sv5rcxt40000gn/T/ipykernel_6566/4176847596.py\u001b[0m in \u001b[0;36m<module>\u001b[0;34m\u001b[0m\n\u001b[0;32m----> 1\u001b[0;31m \u001b[0mcase_1000\u001b[0m\u001b[0;34m(\u001b[0m\u001b[0;34m\"Wisconsin\"\u001b[0m\u001b[0;34m)\u001b[0m\u001b[0;34m\u001b[0m\u001b[0;34m\u001b[0m\u001b[0m\n\u001b[0m",
      "\u001b[0;32m/var/folders/9z/q5llybcd2ljfm1q5sv5rcxt40000gn/T/ipykernel_6566/1497387.py\u001b[0m in \u001b[0;36mcase_1000\u001b[0;34m(state_input)\u001b[0m\n\u001b[1;32m     19\u001b[0m         \u001b[0;32mbreak\u001b[0m\u001b[0;34m\u001b[0m\u001b[0;34m\u001b[0m\u001b[0m\n\u001b[1;32m     20\u001b[0m \u001b[0;34m\u001b[0m\u001b[0m\n\u001b[0;32m---> 21\u001b[0;31m     \u001b[0;32mreturn\u001b[0m \u001b[0mdate_1000\u001b[0m\u001b[0;34m\u001b[0m\u001b[0;34m\u001b[0m\u001b[0m\n\u001b[0m\u001b[1;32m     22\u001b[0m \u001b[0;34m\u001b[0m\u001b[0m\n\u001b[1;32m     23\u001b[0m \u001b[0mcase_1000\u001b[0m\u001b[0;34m(\u001b[0m\u001b[0;34m\"Wisconsin\"\u001b[0m\u001b[0;34m)\u001b[0m\u001b[0;34m\u001b[0m\u001b[0;34m\u001b[0m\u001b[0m\n",
      "\u001b[0;31mUnboundLocalError\u001b[0m: local variable 'date_1000' referenced before assignment"
     ]
    }
   ],
   "metadata": {}
  }
 ],
 "metadata": {
  "orig_nbformat": 4,
  "language_info": {
   "name": "python",
   "version": "3.9.7",
   "mimetype": "text/x-python",
   "codemirror_mode": {
    "name": "ipython",
    "version": 3
   },
   "pygments_lexer": "ipython3",
   "nbconvert_exporter": "python",
   "file_extension": ".py"
  },
  "kernelspec": {
   "name": "python3",
   "display_name": "Python 3.9.7 64-bit"
  },
  "interpreter": {
   "hash": "aee8b7b246df8f9039afb4144a1f6fd8d2ca17a180786b69acc140d282b71a49"
  }
 },
 "nbformat": 4,
 "nbformat_minor": 2
}