{
 "cells": [
  {
   "cell_type": "code",
   "execution_count": 2,
   "id": "e819ade4",
   "metadata": {},
   "outputs": [
    {
     "data": {
      "text/plain": [
       "10080"
      ]
     },
     "execution_count": 2,
     "metadata": {},
     "output_type": "execute_result"
    }
   ],
   "source": [
    "## Read in the data (we would provide this)\n",
    "import csv\n",
    "with open('us-states.csv') as file:\n",
    "    state_covid_data = []\n",
    "    for row in csv.reader(file):\n",
    "        state_covid_data.append(row)\n",
    "\n",
    "len(state_covid_data)\n"
   ]
  },
  {
   "cell_type": "code",
   "execution_count": 3,
   "id": "d5d49662",
   "metadata": {},
   "outputs": [
    {
     "data": {
      "text/plain": [
       "[['date', 'state', 'fips', 'cases', 'deaths'],\n",
       " ['2020-01-21', 'Washington', '53', '1', '0'],\n",
       " ['2020-01-22', 'Washington', '53', '1', '0'],\n",
       " ['2020-01-23', 'Washington', '53', '1', '0'],\n",
       " ['2020-01-24', 'Illinois', '17', '1', '0']]"
      ]
     },
     "execution_count": 3,
     "metadata": {},
     "output_type": "execute_result"
    }
   ],
   "source": [
    "state_covid_data[:5]"
   ]
  },
  {
   "cell_type": "code",
   "execution_count": 132,
   "id": "3656d331",
   "metadata": {},
   "outputs": [
    {
     "name": "stdout",
     "output_type": "stream",
     "text": [
      "225\n"
     ]
    }
   ],
   "source": [
    "#creates empty list to add observed dates (eliminating duplicates) and count value to add once each time a new value is observed\n",
    "observed_dates = []\n",
    "count = 0 \n",
    "\n",
    "for x in range(1,len(state_covid_data)-1):\n",
    "    if state_covid_data[x][0] not in observed_dates:\n",
    "        count += 1 \n",
    "        observed_dates.append(state_covid_data[x][0]) #adds just the date value of each list into the observed dates (if they have not been already observed)\n",
    "        \n",
    "print(count)"
   ]
  },
  {
   "cell_type": "code",
   "execution_count": 116,
   "id": "d4fbe88d",
   "metadata": {},
   "outputs": [
    {
     "name": "stdout",
     "output_type": "stream",
     "text": [
      "2020-03-07\n"
     ]
    }
   ],
   "source": [
    "#creating empty list to add final result to\n",
    "FirstDCCase = []\n",
    "\n",
    "\n",
    "for x in range(1,len(state_covid_data)-1):\n",
    "    if state_covid_data[x][1] == \"District of Columbia\":\n",
    "        FirstDCCase = state_covid_data[x][0] #indexing the date when state is equal to DC \n",
    "        break #ending the if statement after the first time state is equal to DC \n",
    "        \n",
    "print(FirstDCCase)\n"
   ]
  },
  {
   "cell_type": "code",
   "execution_count": 130,
   "id": "0ea7053e",
   "metadata": {},
   "outputs": [],
   "source": [
    "def firstcase(state):\n",
    "    \"\"\"\n",
    "    Takes US State entry and returns the first date where a COVID case was observed in that state \n",
    "    \n",
    "    Arguments \n",
    "    ---------\n",
    "    state: string \n",
    "    \n",
    "    Return\n",
    "    ------\n",
    "    string with date(YYYY-MM-DD) of first COVID case \n",
    "    \"\"\"\n",
    "#creating empty list to add first observation to \n",
    "    first_case_notification = []\n",
    "    for x in range(1,len(state_covid_data)-1):\n",
    "        if state_covid_data[x][1] == state:\n",
    "            first_case_notification = state_covid_data[x][0] #indexing date when state listed is equal to the state entered by user \n",
    "            break\n",
    "    return first_case_notification \n",
    "        "
   ]
  },
  {
   "cell_type": "code",
   "execution_count": 128,
   "id": "8db89fc9",
   "metadata": {},
   "outputs": [
    {
     "data": {
      "text/plain": [
       "'2020-02-12'"
      ]
     },
     "execution_count": 128,
     "metadata": {},
     "output_type": "execute_result"
    }
   ],
   "source": [
    "#test with random state \n",
    "firstcase(\"Texas\")"
   ]
  },
  {
   "cell_type": "code",
   "execution_count": 131,
   "id": "6b3b36fb",
   "metadata": {},
   "outputs": [
    {
     "name": "stdout",
     "output_type": "stream",
     "text": [
      "\n",
      "    Takes US State entry and returns the first date where a COVID case was observed in that state \n",
      "    \n",
      "    Arguments \n",
      "    ---------\n",
      "    state: string \n",
      "    \n",
      "    Return\n",
      "    ------\n",
      "    string with date(YYYY-MM-DD) of first COVID case \n",
      "    \n"
     ]
    }
   ],
   "source": [
    "#printing the doc string \n",
    "print(firstcase.__doc__)"
   ]
  },
  {
   "cell_type": "code",
   "execution_count": null,
   "id": "551591c7",
   "metadata": {},
   "outputs": [],
   "source": []
  }
 ],
 "metadata": {
  "kernelspec": {
   "display_name": "Python 3",
   "language": "python",
   "name": "python3"
  },
  "language_info": {
   "codemirror_mode": {
    "name": "ipython",
    "version": 3
   },
   "file_extension": ".py",
   "mimetype": "text/x-python",
   "name": "python",
   "nbconvert_exporter": "python",
   "pygments_lexer": "ipython3",
   "version": "3.8.8"
  }
 },
 "nbformat": 4,
 "nbformat_minor": 5
}
