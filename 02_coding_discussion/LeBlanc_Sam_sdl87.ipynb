{
 "cells": [
  {
   "cell_type": "markdown",
   "metadata": {},
   "source": [
    "# Coding Discussion 02"
   ]
  },
  {
   "cell_type": "markdown",
   "metadata": {},
   "source": [
    "### (0) Data Preparation"
   ]
  },
  {
   "cell_type": "code",
   "execution_count": 1,
   "metadata": {},
   "outputs": [
    {
     "data": {
      "text/plain": [
       "10080"
      ]
     },
     "execution_count": 1,
     "metadata": {},
     "output_type": "execute_result"
    }
   ],
   "source": [
    "## Read in the data\n",
    "import csv\n",
    "with open('us-states.csv') as file:\n",
    "    state_covid_data = []\n",
    "    for row in csv.reader(file):\n",
    "        state_covid_data.append(row)\n",
    "        \n",
    "len(state_covid_data) # total rows in data"
   ]
  },
  {
   "cell_type": "code",
   "execution_count": 2,
   "metadata": {},
   "outputs": [
    {
     "data": {
      "text/plain": [
       "[['date', 'state', 'fips', 'cases', 'deaths'],\n",
       " ['2020-01-21', 'Washington', '53', '1', '0'],\n",
       " ['2020-01-22', 'Washington', '53', '1', '0'],\n",
       " ['2020-01-23', 'Washington', '53', '1', '0'],\n",
       " ['2020-01-24', 'Illinois', '17', '1', '0']]"
      ]
     },
     "execution_count": 2,
     "metadata": {},
     "output_type": "execute_result"
    }
   ],
   "source": [
    "state_covid_data[:5] # data head"
   ]
  },
  {
   "cell_type": "markdown",
   "metadata": {},
   "source": [
    "### (1) Count up the number of unique dates in the data."
   ]
  },
  {
   "cell_type": "code",
   "execution_count": 3,
   "metadata": {
    "scrolled": true
   },
   "outputs": [
    {
     "name": "stdout",
     "output_type": "stream",
     "text": [
      "Total Observations: 10079\n",
      "Unique Dates: 225 (2020-01-21 to 2020-09-01)\n"
     ]
    }
   ],
   "source": [
    "dates = [] # empty list of dates\n",
    "for row in state_covid_data[1:]: # bc of headers, data starts at row 1\n",
    "    dates.append(row[0]) # add each date to list of dates\n",
    "dates.sort() # sort list of dates, in case they were not sorted in original data\n",
    "\n",
    "print(f'Total Observations: {len(dates)}') # total dates in list, with duplicates\n",
    "print(f'Unique Dates: {len(set(dates))} ({dates[0]} to {dates[-1]})') # use set to find all unique dates in list"
   ]
  },
  {
   "cell_type": "markdown",
   "metadata": {},
   "source": [
    "### (2) Find the first date in which the District of Columbia recorded a case."
   ]
  },
  {
   "cell_type": "markdown",
   "metadata": {},
   "source": [
    "see (3)"
   ]
  },
  {
   "cell_type": "markdown",
   "metadata": {},
   "source": [
    "### (3) Write a function that takes in a state name as input (e.g. \"Wisconsin\") and outputs the date of its first case."
   ]
  },
  {
   "cell_type": "code",
   "execution_count": 4,
   "metadata": {},
   "outputs": [],
   "source": [
    "def state_exists(state_name):\n",
    "    \"\"\"\n",
    "    the method 'state_exists' accepts a state_name as an argument,\n",
    "    returns True if the state name appears in data set, otherwise returns False\n",
    "    \"\"\"\n",
    "    for row in state_covid_data[1:]: # bc of headers, data starts at row 1\n",
    "        if row[1] == state_name: # check if a row has the provided state_name \n",
    "            return True\n",
    "    print(f\"State of '{state_name}' does not exist in data set. Please try again.\") # print error statement\n",
    "    return False\n",
    "\n",
    "def first_case(state_name):\n",
    "    \"\"\"\n",
    "    the method 'first_case' accepts a state_name as an argument,\n",
    "    and returns the date of the first reported covid case in that state\n",
    "    \"\"\"\n",
    "    if not state_exists(state_name): return # ensure that state_name exists in data set\n",
    "    dates = [] # empty list of dates\n",
    "    for row in state_covid_data[1:]: # bc of headers, data starts at row 1\n",
    "        if row[1] == state_name: # check if the row has the correct state_name \n",
    "            dates.append(row[0]) # if so, add the date to our list\n",
    "    dates.sort() # sort list of dates, in case they were not sorted in original data\n",
    "    return dates[0] # return first date in list"
   ]
  },
  {
   "cell_type": "code",
   "execution_count": 5,
   "metadata": {},
   "outputs": [
    {
     "name": "stdout",
     "output_type": "stream",
     "text": [
      "State of 'Canada' does not exist in data set. Please try again.\n"
     ]
    }
   ],
   "source": [
    "first_case('Canada')"
   ]
  },
  {
   "cell_type": "code",
   "execution_count": 6,
   "metadata": {},
   "outputs": [
    {
     "data": {
      "text/plain": [
       "'2020-03-07'"
      ]
     },
     "execution_count": 6,
     "metadata": {},
     "output_type": "execute_result"
    }
   ],
   "source": [
    "first_case('District of Columbia')"
   ]
  },
  {
   "cell_type": "code",
   "execution_count": 7,
   "metadata": {},
   "outputs": [
    {
     "data": {
      "text/plain": [
       "'2020-03-13'"
      ]
     },
     "execution_count": 7,
     "metadata": {},
     "output_type": "execute_result"
    }
   ],
   "source": [
    "first_case('Alabama')"
   ]
  },
  {
   "cell_type": "markdown",
   "metadata": {},
   "source": [
    "### (4) Write a function that takes in a state name as input (e.g. \"Wisconsin\") and outputs the date when the number of reported cases within the state exceeded 1000."
   ]
  },
  {
   "cell_type": "code",
   "execution_count": 8,
   "metadata": {},
   "outputs": [],
   "source": [
    "def locate_date_1000(state_name):\n",
    "    \"\"\"\n",
    "    the method 'locate_date_1000' accepts a state_name as an argument,\n",
    "    and returns the first date with >1000 reported covid case in that state\n",
    "    \"\"\"\n",
    "    if not state_exists(state_name): return # ensure that state_name exists in data set\n",
    "    dates = [] # empty list of dates\n",
    "    for row in state_covid_data[1:]: # bc of headers, data starts at row 1\n",
    "        if row[1] == state_name and int(row[3]) > 1000: # check if the row has the correct state_name and if cases are greater than 1000\n",
    "            dates.append(row[0]) # if so, add date to our list\n",
    "    dates.sort() # sort list of dates, in case they were not sorted in original data\n",
    "    if len(dates) == 0: \n",
    "        return \"No dates with >1000 cases\" # make sure at least one date was found with >1000 cases\n",
    "    else: \n",
    "        return dates[0] # return first date in list"
   ]
  },
  {
   "cell_type": "code",
   "execution_count": 9,
   "metadata": {},
   "outputs": [
    {
     "data": {
      "text/plain": [
       "'2020-04-06'"
      ]
     },
     "execution_count": 9,
     "metadata": {},
     "output_type": "execute_result"
    }
   ],
   "source": [
    "locate_date_1000('District of Columbia')"
   ]
  },
  {
   "cell_type": "markdown",
   "metadata": {},
   "source": [
    "### (5) Write a function that outputs the date of the first case in every state"
   ]
  },
  {
   "cell_type": "code",
   "execution_count": 10,
   "metadata": {},
   "outputs": [],
   "source": [
    "def first_case_all():\n",
    "    \"\"\"\n",
    "    the method 'first_case_all' returns a dictionary with states as keys,\n",
    "    and values of the date of the first reported covid case in that state\n",
    "    \"\"\"\n",
    "    all_dates_in_state = {} # empty dictionary to contain all dates with covid cases in each state\n",
    "    first_date_in_state = {} # empty dictionary to contain the FIRST date of a covid case in each state\n",
    "    for row in state_covid_data[1:]: # bc of headers, data starts at row 1\n",
    "        date = row[0] # get date from row\n",
    "        state = row[1] # get state name from row\n",
    "        if state in all_dates_in_state.keys(): \n",
    "            all_dates_in_state[state].append(date) # if state is already in dictionary, append date to date list\n",
    "        else:\n",
    "            all_dates_in_state[state] = [date] # if state not in dictionary, initialize list with date\n",
    "            \n",
    "    for state in all_dates_in_state.keys():\n",
    "        all_dates_in_state[state].sort() # sort date list, in case they were not sorted in original data\n",
    "        first_date_in_state[state] = all_dates_in_state[state][0] # extract first date and add to other dictionary\n",
    "    \n",
    "    return first_date_in_state # return dictionary with state and date of first covid case"
   ]
  },
  {
   "cell_type": "code",
   "execution_count": 11,
   "metadata": {},
   "outputs": [
    {
     "data": {
      "text/plain": [
       "{'Washington': '2020-01-21',\n",
       " 'Illinois': '2020-01-24',\n",
       " 'California': '2020-01-25',\n",
       " 'Arizona': '2020-01-26',\n",
       " 'Massachusetts': '2020-02-01',\n",
       " 'Wisconsin': '2020-02-05',\n",
       " 'Texas': '2020-02-12',\n",
       " 'Nebraska': '2020-02-17',\n",
       " 'Utah': '2020-02-25',\n",
       " 'Oregon': '2020-02-28',\n",
       " 'Florida': '2020-03-01',\n",
       " 'New York': '2020-03-01',\n",
       " 'Rhode Island': '2020-03-01',\n",
       " 'Georgia': '2020-03-02',\n",
       " 'New Hampshire': '2020-03-02',\n",
       " 'North Carolina': '2020-03-03',\n",
       " 'New Jersey': '2020-03-04',\n",
       " 'Colorado': '2020-03-05',\n",
       " 'Maryland': '2020-03-05',\n",
       " 'Nevada': '2020-03-05',\n",
       " 'Tennessee': '2020-03-05',\n",
       " 'Hawaii': '2020-03-06',\n",
       " 'Indiana': '2020-03-06',\n",
       " 'Kentucky': '2020-03-06',\n",
       " 'Minnesota': '2020-03-06',\n",
       " 'Oklahoma': '2020-03-06',\n",
       " 'Pennsylvania': '2020-03-06',\n",
       " 'South Carolina': '2020-03-06',\n",
       " 'District of Columbia': '2020-03-07',\n",
       " 'Kansas': '2020-03-07',\n",
       " 'Missouri': '2020-03-07',\n",
       " 'Vermont': '2020-03-07',\n",
       " 'Virginia': '2020-03-07',\n",
       " 'Connecticut': '2020-03-08',\n",
       " 'Iowa': '2020-03-08',\n",
       " 'Louisiana': '2020-03-09',\n",
       " 'Ohio': '2020-03-09',\n",
       " 'Michigan': '2020-03-10',\n",
       " 'South Dakota': '2020-03-10',\n",
       " 'Arkansas': '2020-03-11',\n",
       " 'Delaware': '2020-03-11',\n",
       " 'Mississippi': '2020-03-11',\n",
       " 'New Mexico': '2020-03-11',\n",
       " 'North Dakota': '2020-03-11',\n",
       " 'Wyoming': '2020-03-11',\n",
       " 'Alaska': '2020-03-12',\n",
       " 'Maine': '2020-03-12',\n",
       " 'Alabama': '2020-03-13',\n",
       " 'Idaho': '2020-03-13',\n",
       " 'Montana': '2020-03-13',\n",
       " 'Puerto Rico': '2020-03-13',\n",
       " 'Virgin Islands': '2020-03-14',\n",
       " 'Guam': '2020-03-15',\n",
       " 'West Virginia': '2020-03-17',\n",
       " 'Northern Mariana Islands': '2020-03-28'}"
      ]
     },
     "execution_count": 11,
     "metadata": {},
     "output_type": "execute_result"
    }
   ],
   "source": [
    "first_case_all()"
   ]
  },
  {
   "cell_type": "markdown",
   "metadata": {},
   "source": [
    "### (6) Write a function that outputs the maximum daily cases (with date) in every state"
   ]
  },
  {
   "cell_type": "code",
   "execution_count": 12,
   "metadata": {},
   "outputs": [],
   "source": [
    "def max_cases_all():\n",
    "    \"\"\"\n",
    "    the method 'max_cases_all' returns a dictionary with states as keys,\n",
    "    and value of a list with maximum daily covid cases, and the date which it occured\n",
    "    \"\"\"\n",
    "    max_daily_cases_in_state = {} # empty dictionary to contain the maximum daily cases (and date) in every state\n",
    "    for row in state_covid_data[1:]: # bc of headers, data starts at row 1\n",
    "        date = row[0] # get date from row\n",
    "        state = row[1] # get state name from row\n",
    "        cases = int(row[3]) # get daily case count from row, as an integer\n",
    "        if not state in max_daily_cases_in_state.keys(): # if state not in dict, create list with cases and date\n",
    "            max_daily_cases_in_state[state] = [cases, date] \n",
    "        elif cases > max_daily_cases_in_state[state][0]: # check if new date has more cases than previous maximum\n",
    "            max_daily_cases_in_state[state] = [cases, date] # if so, replace mwith new maximum and date\n",
    "            \n",
    "    return max_daily_cases_in_state # return dictionary with state and date of first covid case"
   ]
  },
  {
   "cell_type": "code",
   "execution_count": 13,
   "metadata": {},
   "outputs": [
    {
     "data": {
      "text/plain": [
       "{'Washington': [78062, '2020-09-01'],\n",
       " 'Illinois': [239115, '2020-09-01'],\n",
       " 'California': [716628, '2020-09-01'],\n",
       " 'Arizona': [202375, '2020-09-01'],\n",
       " 'Massachusetts': [128888, '2020-09-01'],\n",
       " 'Wisconsin': [81688, '2020-09-01'],\n",
       " 'Texas': [645534, '2020-09-01'],\n",
       " 'Nebraska': [34574, '2020-09-01'],\n",
       " 'Utah': [52505, '2020-09-01'],\n",
       " 'Oregon': [26958, '2020-09-01'],\n",
       " 'Florida': [631032, '2020-09-01'],\n",
       " 'New York': [440237, '2020-09-01'],\n",
       " 'Rhode Island': [22002, '2020-09-01'],\n",
       " 'Georgia': [256544, '2020-09-01'],\n",
       " 'New Hampshire': [7297, '2020-09-01'],\n",
       " 'North Carolina': [169966, '2020-09-01'],\n",
       " 'New Jersey': [194070, '2020-09-01'],\n",
       " 'Colorado': [58118, '2020-09-01'],\n",
       " 'Maryland': [109353, '2020-09-01'],\n",
       " 'Nevada': [69708, '2020-09-01'],\n",
       " 'Tennessee': [153274, '2020-09-01'],\n",
       " 'Hawaii': [8628, '2020-09-01'],\n",
       " 'Indiana': [96988, '2020-09-01'],\n",
       " 'Kentucky': [51762, '2020-09-01'],\n",
       " 'Minnesota': [76404, '2020-09-01'],\n",
       " 'Oklahoma': [59399, '2020-09-01'],\n",
       " 'Pennsylvania': [139591, '2020-09-01'],\n",
       " 'South Carolina': [119846, '2020-09-01'],\n",
       " 'District of Columbia': [14049, '2020-09-01'],\n",
       " 'Kansas': [43491, '2020-09-01'],\n",
       " 'Missouri': [87289, '2020-09-01'],\n",
       " 'Vermont': [1635, '2020-09-01'],\n",
       " 'Virginia': [121615, '2020-09-01'],\n",
       " 'Connecticut': [53006, '2020-09-01'],\n",
       " 'Iowa': [65846, '2020-09-01'],\n",
       " 'Louisiana': [149045, '2020-09-01'],\n",
       " 'Ohio': [124610, '2020-09-01'],\n",
       " 'Michigan': [113969, '2020-09-01'],\n",
       " 'South Dakota': [13749, '2020-09-01'],\n",
       " 'Arkansas': [61497, '2020-09-01'],\n",
       " 'Delaware': [17535, '2020-09-01'],\n",
       " 'Mississippi': [83584, '2020-09-01'],\n",
       " 'New Mexico': [25460, '2020-09-01'],\n",
       " 'North Dakota': [12004, '2020-09-01'],\n",
       " 'Wyoming': [3866, '2020-09-01'],\n",
       " 'Alaska': [6109, '2020-09-01'],\n",
       " 'Maine': [4548, '2020-09-01'],\n",
       " 'Alabama': [127616, '2020-09-01'],\n",
       " 'Idaho': [32703, '2020-09-01'],\n",
       " 'Montana': [7526, '2020-09-01'],\n",
       " 'Puerto Rico': [33421, '2020-09-01'],\n",
       " 'Virgin Islands': [1143, '2020-09-01'],\n",
       " 'Guam': [2416, '2020-09-01'],\n",
       " 'West Virginia': [10507, '2020-09-01'],\n",
       " 'Northern Mariana Islands': [57, '2020-09-01']}"
      ]
     },
     "execution_count": 13,
     "metadata": {},
     "output_type": "execute_result"
    }
   ],
   "source": [
    "max_cases_all()"
   ]
  }
 ],
 "metadata": {
  "kernelspec": {
   "display_name": "Python 3 (ipykernel)",
   "language": "python",
   "name": "python3"
  },
  "language_info": {
   "codemirror_mode": {
    "name": "ipython",
    "version": 3
   },
   "file_extension": ".py",
   "mimetype": "text/x-python",
   "name": "python",
   "nbconvert_exporter": "python",
   "pygments_lexer": "ipython3",
   "version": "3.8.10"
  }
 },
 "nbformat": 4,
 "nbformat_minor": 4
}
