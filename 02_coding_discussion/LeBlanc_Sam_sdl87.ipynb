{
 "cells": [
  {
   "cell_type": "markdown",
   "metadata": {},
   "source": [
    "# Coding Discussion 02"
   ]
  },
  {
   "cell_type": "markdown",
   "metadata": {},
   "source": [
    "### (0) Data Preparation"
   ]
  },
  {
   "cell_type": "code",
   "execution_count": 2,
   "metadata": {},
   "outputs": [
    {
     "data": {
      "text/plain": [
       "10080"
      ]
     },
     "execution_count": 2,
     "metadata": {},
     "output_type": "execute_result"
    }
   ],
   "source": [
    "## Read in the data\n",
    "import csv\n",
    "with open('us-states.csv') as file:\n",
    "    state_covid_data = []\n",
    "    for row in csv.reader(file):\n",
    "        state_covid_data.append(row)\n",
    "        \n",
    "len(state_covid_data) # total rows in data"
   ]
  },
  {
   "cell_type": "code",
   "execution_count": 33,
   "metadata": {},
   "outputs": [
    {
     "data": {
      "text/plain": [
       "[['date', 'state', 'fips', 'cases', 'deaths'],\n",
       " ['2020-01-21', 'Washington', '53', '1', '0'],\n",
       " ['2020-01-22', 'Washington', '53', '1', '0'],\n",
       " ['2020-01-23', 'Washington', '53', '1', '0'],\n",
       " ['2020-01-24', 'Illinois', '17', '1', '0']]"
      ]
     },
     "execution_count": 33,
     "metadata": {},
     "output_type": "execute_result"
    }
   ],
   "source": [
    "state_covid_data[:5] # data head"
   ]
  },
  {
   "cell_type": "markdown",
   "metadata": {},
   "source": [
    "### (1) Count up the number of unique dates in the data."
   ]
  },
  {
   "cell_type": "code",
   "execution_count": 35,
   "metadata": {
    "scrolled": true
   },
   "outputs": [
    {
     "name": "stdout",
     "output_type": "stream",
     "text": [
      "Total Observations: 10079\n",
      "Unique Dates: 225 (2020-01-21 to 2020-09-01)\n"
     ]
    }
   ],
   "source": [
    "dates = [] # empty list of dates\n",
    "for row in state_covid_data[1:]: # bc of headers, data starts at row 1\n",
    "    dates.append(row[0]) # add each date to list of dates\n",
    "dates.sort() # sort list of dates, in case they were not sorted in original data\n",
    "\n",
    "print(f'Total Observations: {len(dates)}') # total dates in list, with duplicates\n",
    "print(f'Unique Dates: {len(set(dates))} ({dates[0]} to {dates[-1]})') # use set to find all unique dates in list"
   ]
  },
  {
   "cell_type": "markdown",
   "metadata": {},
   "source": [
    "### (2) Find the first date in which the District of Columbia recorded a case."
   ]
  },
  {
   "cell_type": "markdown",
   "metadata": {},
   "source": [
    "see (3)"
   ]
  },
  {
   "cell_type": "markdown",
   "metadata": {},
   "source": [
    "### (3) Write a function that takes in a state name as input (e.g. \"Wisconsin\") and outputs the date of its first case."
   ]
  },
  {
   "cell_type": "code",
   "execution_count": 62,
   "metadata": {},
   "outputs": [],
   "source": [
    "def first_case(state_name):\n",
    "    \"\"\"\n",
    "    the method 'first_case' accepts a state_name as an argument,\n",
    "    and returns the date of the first reported covid case in that state\n",
    "    \"\"\"\n",
    "    dates = [] # empty list of dates\n",
    "    for row in state_covid_data[1:]: # bc of headers, data starts at row 1\n",
    "        if row[1] == state_name: # check if the row has the correct state_name \n",
    "            dates.append(row[0]) # if so, add the date to our list\n",
    "    dates.sort() # sort list of dates, in case they were not sorted in original data\n",
    "    return dates[0] # return first date in list"
   ]
  },
  {
   "cell_type": "code",
   "execution_count": 63,
   "metadata": {},
   "outputs": [
    {
     "data": {
      "text/plain": [
       "'2020-03-07'"
      ]
     },
     "execution_count": 63,
     "metadata": {},
     "output_type": "execute_result"
    }
   ],
   "source": [
    "first_case('District of Columbia')"
   ]
  },
  {
   "cell_type": "code",
   "execution_count": 64,
   "metadata": {},
   "outputs": [
    {
     "data": {
      "text/plain": [
       "'2020-03-13'"
      ]
     },
     "execution_count": 64,
     "metadata": {},
     "output_type": "execute_result"
    }
   ],
   "source": [
    "first_case('Alabama')"
   ]
  },
  {
   "cell_type": "markdown",
   "metadata": {},
   "source": [
    "### (4) Write a function that takes in a state name as input (e.g. \"Wisconsin\") and outputs the date when the number of reported cases within the state exceeded 1000."
   ]
  },
  {
   "cell_type": "code",
   "execution_count": 70,
   "metadata": {},
   "outputs": [],
   "source": [
    "def locate_date_1000(state_name):\n",
    "    \"\"\"\n",
    "    the method 'locate_date_1000' accepts a state_name as an argument,\n",
    "    and returns the first date with >1000 reported covid case in that state\n",
    "    \"\"\"\n",
    "    dates = [] # empty list of dates\n",
    "    for row in state_covid_data[1:]: # bc of headers, data starts at row 1\n",
    "        if row[1] == state_name and int(row[3]) > 1000: # check if the row has the correct state_name and if cases are greater than 1000\n",
    "            dates.append(row[0]) # if so, add date to our list\n",
    "    dates.sort() # sort list of dates, in case they were not sorted in original data\n",
    "    return dates[0] # return first date in list"
   ]
  },
  {
   "cell_type": "code",
   "execution_count": 71,
   "metadata": {},
   "outputs": [
    {
     "data": {
      "text/plain": [
       "'2020-04-01'"
      ]
     },
     "execution_count": 71,
     "metadata": {},
     "output_type": "execute_result"
    }
   ],
   "source": [
    "locate_date_1000('Alabama')"
   ]
  },
  {
   "cell_type": "markdown",
   "metadata": {},
   "source": [
    "### (5) Write a function that outputs the date of the first case in every state"
   ]
  },
  {
   "cell_type": "code",
   "execution_count": 93,
   "metadata": {},
   "outputs": [],
   "source": [
    "def first_case_all():\n",
    "    \"\"\"\n",
    "    the method 'first_case_all' returns a dictionary with states as keys,\n",
    "    and values of the date of the first reported covid case in that state\n",
    "    \"\"\"\n",
    "    all_dates_in_state = {} # empty dictionary to contain all dates with covid cases in each state\n",
    "    first_date_in_state = {} # empty dictionary to contain the FIRST date of a covid case in each state\n",
    "    for row in state_covid_data[1:]: # bc of headers, data starts at row 1\n",
    "        date = row[0] # get date from row\n",
    "        state = row[1] # get state name from row\n",
    "        if state in all_dates_in_state.keys(): \n",
    "            all_dates_in_state[state].append(date) # if state is already in dictionary, append date to date list\n",
    "        else:\n",
    "            all_dates_in_state[state] = [date] # if state not in dictionary, initialize list with date\n",
    "            \n",
    "    for state in all_dates_in_state.keys():\n",
    "        all_dates_in_state[state].sort() # sort date list, in case they were not sorted in original data\n",
    "        first_date_in_state[state] = all_dates_in_state[state][0] # extract first date and add to other dictionary\n",
    "    \n",
    "    return first_date_in_state # return dictionary with state and date of first covid case\n"
   ]
  },
  {
   "cell_type": "code",
   "execution_count": 94,
   "metadata": {},
   "outputs": [
    {
     "data": {
      "text/plain": [
       "{'Washington': '2020-01-21',\n",
       " 'Illinois': '2020-01-24',\n",
       " 'California': '2020-01-25',\n",
       " 'Arizona': '2020-01-26',\n",
       " 'Massachusetts': '2020-02-01',\n",
       " 'Wisconsin': '2020-02-05',\n",
       " 'Texas': '2020-02-12',\n",
       " 'Nebraska': '2020-02-17',\n",
       " 'Utah': '2020-02-25',\n",
       " 'Oregon': '2020-02-28',\n",
       " 'Florida': '2020-03-01',\n",
       " 'New York': '2020-03-01',\n",
       " 'Rhode Island': '2020-03-01',\n",
       " 'Georgia': '2020-03-02',\n",
       " 'New Hampshire': '2020-03-02',\n",
       " 'North Carolina': '2020-03-03',\n",
       " 'New Jersey': '2020-03-04',\n",
       " 'Colorado': '2020-03-05',\n",
       " 'Maryland': '2020-03-05',\n",
       " 'Nevada': '2020-03-05',\n",
       " 'Tennessee': '2020-03-05',\n",
       " 'Hawaii': '2020-03-06',\n",
       " 'Indiana': '2020-03-06',\n",
       " 'Kentucky': '2020-03-06',\n",
       " 'Minnesota': '2020-03-06',\n",
       " 'Oklahoma': '2020-03-06',\n",
       " 'Pennsylvania': '2020-03-06',\n",
       " 'South Carolina': '2020-03-06',\n",
       " 'District of Columbia': '2020-03-07',\n",
       " 'Kansas': '2020-03-07',\n",
       " 'Missouri': '2020-03-07',\n",
       " 'Vermont': '2020-03-07',\n",
       " 'Virginia': '2020-03-07',\n",
       " 'Connecticut': '2020-03-08',\n",
       " 'Iowa': '2020-03-08',\n",
       " 'Louisiana': '2020-03-09',\n",
       " 'Ohio': '2020-03-09',\n",
       " 'Michigan': '2020-03-10',\n",
       " 'South Dakota': '2020-03-10',\n",
       " 'Arkansas': '2020-03-11',\n",
       " 'Delaware': '2020-03-11',\n",
       " 'Mississippi': '2020-03-11',\n",
       " 'New Mexico': '2020-03-11',\n",
       " 'North Dakota': '2020-03-11',\n",
       " 'Wyoming': '2020-03-11',\n",
       " 'Alaska': '2020-03-12',\n",
       " 'Maine': '2020-03-12',\n",
       " 'Alabama': '2020-03-13',\n",
       " 'Idaho': '2020-03-13',\n",
       " 'Montana': '2020-03-13',\n",
       " 'Puerto Rico': '2020-03-13',\n",
       " 'Virgin Islands': '2020-03-14',\n",
       " 'Guam': '2020-03-15',\n",
       " 'West Virginia': '2020-03-17',\n",
       " 'Northern Mariana Islands': '2020-03-28'}"
      ]
     },
     "execution_count": 94,
     "metadata": {},
     "output_type": "execute_result"
    }
   ],
   "source": [
    "first_case_all()"
   ]
  }
 ],
 "metadata": {
  "kernelspec": {
   "display_name": "Python 3 (ipykernel)",
   "language": "python",
   "name": "python3"
  },
  "language_info": {
   "codemirror_mode": {
    "name": "ipython",
    "version": 3
   },
   "file_extension": ".py",
   "mimetype": "text/x-python",
   "name": "python",
   "nbconvert_exporter": "python",
   "pygments_lexer": "ipython3",
   "version": "3.8.10"
  }
 },
 "nbformat": 4,
 "nbformat_minor": 4
}
