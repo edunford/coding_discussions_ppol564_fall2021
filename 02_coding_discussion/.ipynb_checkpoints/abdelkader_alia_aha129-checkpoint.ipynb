{
 "cells": [
  {
   "cell_type": "code",
   "execution_count": 1,
   "id": "eef35a49",
   "metadata": {},
   "outputs": [
    {
     "data": {
      "text/plain": [
       "10080"
      ]
     },
     "execution_count": 1,
     "metadata": {},
     "output_type": "execute_result"
    }
   ],
   "source": [
    "## Change working directory to the location of the cloned repository, where the data file is saved\n",
    "import os\n",
    "os.chdir('/Users/Alia/Documents/Github/coding_discussions_ppol564_fall2021/02_coding_discussion')\n",
    "\n",
    "## Read in the data\n",
    "import csv\n",
    "with open('us-states.csv') as file:\n",
    "    state_covid_data = []\n",
    "    for row in csv.reader(file):\n",
    "        state_covid_data.append(row)\n",
    "        \n",
    "## Check the length of the list to ensure the import was successful\n",
    "len(state_covid_data)"
   ]
  },
  {
   "cell_type": "code",
   "execution_count": 2,
   "id": "6b82087b",
   "metadata": {},
   "outputs": [
    {
     "name": "stdout",
     "output_type": "stream",
     "text": [
      "There are 225 unique dates in the data.\n"
     ]
    }
   ],
   "source": [
    "## 1) Count up the number of unique dates in the data.\n",
    "\n",
    "# Create a set, which will store only unique values of dates\n",
    "date_set = set()\n",
    "\n",
    "# Loop through the data and add the date from each row to the set\n",
    "for item in state_covid_data[1:]:\n",
    "    date_set.add(item[0])\n",
    "\n",
    "# Show the length of the set\n",
    "print(\"There are \" + str(len(date_set)) + \" unique dates in the data.\")"
   ]
  },
  {
   "cell_type": "code",
   "execution_count": 3,
   "id": "80d289be",
   "metadata": {},
   "outputs": [
    {
     "name": "stdout",
     "output_type": "stream",
     "text": [
      "The first case in the District of Columbia was recorded on 2020-03-07.\n"
     ]
    }
   ],
   "source": [
    "## 2) Find the first date in which the District of Columbia recorded a case.\n",
    "\n",
    "# Define  \"first_date\" in case there are no recorded cases for District of Columbia\n",
    "first_date = \"The District of Columbia has not recorded any cases.\"\n",
    "\n",
    "# Loop through the data and if District of Columbia is found, replace the value of first_date with the date of the first recorded case, then break the loop\n",
    "for item in state_covid_data[1:]:\n",
    "    if item[1] == \"District of Columbia\":\n",
    "        first_date = \"The first case in the District of Columbia was recorded on \" + item[0] +\".\"\n",
    "        break\n",
    "\n",
    "print(first_date)"
   ]
  },
  {
   "cell_type": "code",
   "execution_count": 4,
   "id": "4d6062b9",
   "metadata": {},
   "outputs": [
    {
     "data": {
      "text/plain": [
       "'Maryland recorded its first case on 2020-03-05.'"
      ]
     },
     "execution_count": 4,
     "metadata": {},
     "output_type": "execute_result"
    }
   ],
   "source": [
    "## 3) Write a function that takes in a state name as input (e.g. \"Wisconsin\") and outputs the date of its first case.\n",
    "\n",
    "def first_case(state):\n",
    "    \"\"\"This is a function that returns the date of a state's first COVID case, and returns \"This state has not recorded any cases\" if a state is not found in the data.\n",
    "\n",
    "    Args:\n",
    "        state (str): name of the state\n",
    "\n",
    "    Returns:\n",
    "        str: date of the state's first COVID case\n",
    "\n",
    "    \"\"\"\n",
    "    first_date = state + \" has not recorded any cases.\"\n",
    "    for item in state_covid_data[1:]:\n",
    "        if item[1] == state: # Check if the state name is equal to the function input\n",
    "            first_date = state + \" recorded its first case on \" + item[0] + \".\" # Replace first_date value with the date of the case\n",
    "            break # Break the loop\n",
    "    return first_date\n",
    "\n",
    "first_case(\"Maryland\")"
   ]
  },
  {
   "cell_type": "code",
   "execution_count": 5,
   "id": "3b4cf4d6",
   "metadata": {},
   "outputs": [
    {
     "data": {
      "text/plain": [
       "'Maryland exceeded 1000 cases on 2020-03-28.'"
      ]
     },
     "execution_count": 5,
     "metadata": {},
     "output_type": "execute_result"
    }
   ],
   "source": [
    "## Bonus: Write a function that takes in a state name as input (e.g. \"Wisconsin\") and outputs the date when the number of reported cases within the state exceeded 1000.\n",
    "\n",
    "def locate_date_1000(state):\n",
    "    \"\"\"This is a function that returns the date that a state's cases exceeds 1000, returns \"This state has not exceeded 1000 cases\" if the state is not found in the data\n",
    "    or has less than 1000 cases\n",
    "\n",
    "    Args:\n",
    "        state (str): name of the state\n",
    "\n",
    "    Returns:\n",
    "        str: date that a state's cases exceeded 1000\n",
    "\n",
    "    \"\"\"\n",
    "    locate_date = state + \" has not exceeded 1000 cases.\"\n",
    "    for item in state_covid_data[1:]:\n",
    "        if item[1]==state and int(item[3]) > 1000: # Check if the state name is equal to the function input and that the case count is >1000 (convert case count from string to integer)\n",
    "            locate_date = state + \" exceeded 1000 cases on \" + item[0] + \".\" # Replace locate_date value with the date of the case\n",
    "            break # Break the loop\n",
    "    return  locate_date\n",
    "\n",
    "locate_date_1000(\"Maryland\")"
   ]
  },
  {
   "cell_type": "code",
   "execution_count": null,
   "id": "105a3a3c",
   "metadata": {},
   "outputs": [],
   "source": []
  }
 ],
 "metadata": {
  "kernelspec": {
   "display_name": "Python 3",
   "language": "python",
   "name": "python3"
  },
  "language_info": {
   "codemirror_mode": {
    "name": "ipython",
    "version": 3
   },
   "file_extension": ".py",
   "mimetype": "text/x-python",
   "name": "python",
   "nbconvert_exporter": "python",
   "pygments_lexer": "ipython3",
   "version": "3.8.8"
  }
 },
 "nbformat": 4,
 "nbformat_minor": 5
}
