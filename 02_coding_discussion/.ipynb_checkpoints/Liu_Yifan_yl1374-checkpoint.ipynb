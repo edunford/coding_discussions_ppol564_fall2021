{
 "cells": [
  {
   "cell_type": "markdown",
   "id": "4889b9ab",
   "metadata": {},
   "source": [
    "### Preparation "
   ]
  },
  {
   "cell_type": "code",
   "execution_count": 2,
   "id": "3a6e3cf2",
   "metadata": {},
   "outputs": [
    {
     "data": {
      "text/plain": [
       "10080"
      ]
     },
     "execution_count": 2,
     "metadata": {},
     "output_type": "execute_result"
    }
   ],
   "source": [
    "import csv\n",
    "with open('us-states.csv') as file:\n",
    "    state_covid_data = []\n",
    "    for row in csv.reader(file):\n",
    "        state_covid_data.append(row)\n",
    "\n",
    "len(state_covid_data)"
   ]
  },
  {
   "cell_type": "markdown",
   "id": "7e5668a2",
   "metadata": {},
   "source": [
    "### (1) Count up the number of _unique_ dates in the data. "
   ]
  },
  {
   "cell_type": "code",
   "execution_count": 3,
   "id": "f5862f46",
   "metadata": {},
   "outputs": [
    {
     "name": "stdout",
     "output_type": "stream",
     "text": [
      "225\n"
     ]
    }
   ],
   "source": [
    "unique_data = [] #Create an empty list.\n",
    "\n",
    "for i in range(1,10080,+1):\n",
    "    unique_data.append(state_covid_data[i][0]) #Get the state name of every column into the list.\n",
    "    \n",
    "print(len(set(unique_data))) #Turn the list into a set and see the length of the set.\n"
   ]
  },
  {
   "cell_type": "markdown",
   "id": "3e3f69f0",
   "metadata": {},
   "source": [
    "### (2) Find the first date in which the District of Columbia recorded a case. "
   ]
  },
  {
   "cell_type": "code",
   "execution_count": 4,
   "id": "1c9de559",
   "metadata": {},
   "outputs": [
    {
     "name": "stdout",
     "output_type": "stream",
     "text": [
      "2020-03-07\n"
     ]
    }
   ],
   "source": [
    "dc_first_date = [] #Create an empty list.\n",
    "\n",
    "for i in range(1,10080,+1): \n",
    "    if state_covid_data[i][1] == \"District of Columbia\": # Find the list that contains the first date in which the District of Columbia recorded a case.\n",
    "        dc_first_date = state_covid_data[i][0] #Put the date of that list into the empty list and break the loop.\n",
    "        break\n",
    "    else:\n",
    "        continue\n",
    "        \n",
    "print(dc_first_date)\n"
   ]
  },
  {
   "cell_type": "markdown",
   "id": "1de0dba0",
   "metadata": {},
   "source": [
    "### (3) Write a function that takes in a _state name_ as input (e.g. \"Wisconsin\") and outputs the date of its first case."
   ]
  },
  {
   "cell_type": "code",
   "execution_count": 149,
   "id": "6619e0d9",
   "metadata": {},
   "outputs": [],
   "source": [
    "def first_case(state_name=\"\"):\n",
    "    '''\n",
    "    This function takes state name as input and outputs the date of that state's first reported case.\n",
    "    \n",
    "    Arguements\n",
    "    ----------\n",
    "    state_name: state names as string.\n",
    "    \n",
    "    Return\n",
    "    ------\n",
    "    the date of that state's first reported case.\n",
    "    '''\n",
    "    state_first_date = [] #Create an empty list.\n",
    "    for i in range(1,10080,+1):\n",
    "        if state_covid_data[i][1] == state_name: # Find the list that contains the first date in which the function arguement, state name, recorded a case.\n",
    "            state_first_date = state_covid_data[i][0] #Put the date of that list into the empty list and break the loop.\n",
    "            break\n",
    "        else:\n",
    "            continue\n",
    "    return state_first_date "
   ]
  },
  {
   "cell_type": "code",
   "execution_count": 150,
   "id": "f6440177",
   "metadata": {},
   "outputs": [
    {
     "data": {
      "text/plain": [
       "'2020-03-07'"
      ]
     },
     "execution_count": 150,
     "metadata": {},
     "output_type": "execute_result"
    }
   ],
   "source": [
    "first_case(\"District of Columbia\") #Test run."
   ]
  },
  {
   "cell_type": "markdown",
   "id": "2a44efa5",
   "metadata": {},
   "source": [
    "### Bonus"
   ]
  },
  {
   "cell_type": "markdown",
   "id": "c2699ccb",
   "metadata": {},
   "source": [
    "#### First solution"
   ]
  },
  {
   "cell_type": "code",
   "execution_count": 151,
   "id": "6a8fafc1",
   "metadata": {},
   "outputs": [],
   "source": [
    "def first_case_1000(state_name=\"\"):\n",
    "    '''\n",
    "    This function takes state name as input and outputs the date when the number of reported cases within the state exceeded 1000.\n",
    "    \n",
    "    Arguements\n",
    "    ----------\n",
    "    state_name: state names as string.\n",
    "    \n",
    "    Return\n",
    "    ------\n",
    "    the date when the number of reported case exceeded 1000.\n",
    "    '''\n",
    "    state_first_date_1000 = []\n",
    "    for i in range(1,10080,+1):\n",
    "        if state_covid_data[i][1] == state_name and int(state_covid_data[i][3]) > 1000:# Find the list that contains the date in which the function arguement, state name, recorded reported cases that exceeds 1000.\n",
    "            state_first_date_1000 = state_covid_data[i][0] #Put the date of that list into the empty list and break the loop.\n",
    "            break\n",
    "        else:\n",
    "            continue\n",
    "    return state_first_date_1000"
   ]
  },
  {
   "cell_type": "code",
   "execution_count": 152,
   "id": "bac81517",
   "metadata": {},
   "outputs": [
    {
     "data": {
      "text/plain": [
       "'2020-04-06'"
      ]
     },
     "execution_count": 152,
     "metadata": {},
     "output_type": "execute_result"
    }
   ],
   "source": [
    "first_case_1000(\"District of Columbia\") #Test run."
   ]
  },
  {
   "cell_type": "markdown",
   "id": "6a582f38",
   "metadata": {},
   "source": [
    "#### A more complicated solution"
   ]
  },
  {
   "cell_type": "code",
   "execution_count": 157,
   "id": "e99456f3",
   "metadata": {},
   "outputs": [],
   "source": [
    "def locate_date_1000(state_name=\"\"):\n",
    "    '''\n",
    "    This function takes state name as input and outputs every date when the number of that day's reported cases within the state exceeded 1000.\n",
    "    \n",
    "    Arguements\n",
    "    ----------\n",
    "    state_name: state names as string.\n",
    "    \n",
    "    Return\n",
    "    ------\n",
    "    every date when the number of that day's reported cases within the state exceeded 1000.\n",
    "    '''\n",
    "    date_1000 = []\n",
    "    k = 0\n",
    "    j = 0 #Set two Variable to identify useful lists.\n",
    "    for i in range(1,10080,+1):\n",
    "        if state_covid_data[i][1] == state_name:\n",
    "            k += 1\n",
    "            if k == 1: # This is for the first time when a state is records as having covid cases.\n",
    "                num_cases_icr = int(state_covid_data[i][3]) # Create a variable to hold the increased number of reported cases.\n",
    "                j = i #locate the list that hold the first recrd of a state.\n",
    "            else:\n",
    "                num_cases_ytd = int(state_covid_data[j][3]) #store the number of cases of the day before \n",
    "                num_cases_td = int(state_covid_data[i][3]) #store the number of cases of the current day.\n",
    "                num_cases_icr = num_cases_td - num_cases_ytd #calculate the increased number by extraction.\n",
    "                j = i #make the current day as yesterday for next calculation.\n",
    "            if num_cases_icr > 1000: # find out if the increased number exceeds 1000. If so, append that date to the empty list.\n",
    "                date_1000.append(state_covid_data[i][0])\n",
    "                num_cases_icr = 0        \n",
    "        else:\n",
    "            continue\n",
    "    return date_1000"
   ]
  },
  {
   "cell_type": "code",
   "execution_count": 158,
   "id": "88158ebf",
   "metadata": {
    "scrolled": true
   },
   "outputs": [
    {
     "data": {
      "text/plain": [
       "['2020-05-01',\n",
       " '2020-05-07',\n",
       " '2020-05-14',\n",
       " '2020-05-16',\n",
       " '2020-05-21',\n",
       " '2020-05-25',\n",
       " '2020-05-26',\n",
       " '2020-05-28',\n",
       " '2020-05-29',\n",
       " '2020-05-30',\n",
       " '2020-06-07',\n",
       " '2020-07-15',\n",
       " '2020-07-17',\n",
       " '2020-07-19',\n",
       " '2020-07-22',\n",
       " '2020-07-24',\n",
       " '2020-07-25',\n",
       " '2020-07-27',\n",
       " '2020-08-03',\n",
       " '2020-08-04',\n",
       " '2020-08-07',\n",
       " '2020-08-08',\n",
       " '2020-08-13',\n",
       " '2020-08-14',\n",
       " '2020-08-22',\n",
       " '2020-08-25',\n",
       " '2020-08-27',\n",
       " '2020-08-28',\n",
       " '2020-08-29',\n",
       " '2020-09-01']"
      ]
     },
     "execution_count": 158,
     "metadata": {},
     "output_type": "execute_result"
    }
   ],
   "source": [
    "locate_date_1000(\"Virginia\") #Test run."
   ]
  }
 ],
 "metadata": {
  "kernelspec": {
   "display_name": "Python 3",
   "language": "python",
   "name": "python3"
  },
  "language_info": {
   "codemirror_mode": {
    "name": "ipython",
    "version": 3
   },
   "file_extension": ".py",
   "mimetype": "text/x-python",
   "name": "python",
   "nbconvert_exporter": "python",
   "pygments_lexer": "ipython3",
   "version": "3.8.8"
  }
 },
 "nbformat": 4,
 "nbformat_minor": 5
}
