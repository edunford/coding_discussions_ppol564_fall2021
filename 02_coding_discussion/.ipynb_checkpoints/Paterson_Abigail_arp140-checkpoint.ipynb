{
 "cells": [
  {
   "cell_type": "markdown",
   "id": "19327146",
   "metadata": {},
   "source": [
    "## PPOL 560 Coding Discussion 2\n",
    "### Abigail Paterson\n",
    "### arp140"
   ]
  },
  {
   "cell_type": "code",
   "execution_count": 1,
   "id": "683fb88a",
   "metadata": {},
   "outputs": [
    {
     "data": {
      "text/plain": [
       "10080"
      ]
     },
     "execution_count": 1,
     "metadata": {},
     "output_type": "execute_result"
    }
   ],
   "source": [
    "## Read in the data (we would provide this)\n",
    "import csv\n",
    "with open('us-states.csv') as file:\n",
    "    state_covid_data = []\n",
    "    for row in csv.reader(file):\n",
    "        state_covid_data.append(row)\n",
    "\n",
    "len(state_covid_data)"
   ]
  },
  {
   "cell_type": "code",
   "execution_count": 2,
   "id": "e10a2c91",
   "metadata": {},
   "outputs": [
    {
     "data": {
      "text/plain": [
       "[['date', 'state', 'fips', 'cases', 'deaths'],\n",
       " ['2020-01-21', 'Washington', '53', '1', '0'],\n",
       " ['2020-01-22', 'Washington', '53', '1', '0'],\n",
       " ['2020-01-23', 'Washington', '53', '1', '0'],\n",
       " ['2020-01-24', 'Illinois', '17', '1', '0']]"
      ]
     },
     "execution_count": 2,
     "metadata": {},
     "output_type": "execute_result"
    }
   ],
   "source": [
    "state_covid_data[:5]"
   ]
  },
  {
   "cell_type": "markdown",
   "id": "c02c53c2",
   "metadata": {},
   "source": [
    "### Q1"
   ]
  },
  {
   "cell_type": "code",
   "execution_count": 5,
   "id": "cd52622d",
   "metadata": {},
   "outputs": [
    {
     "name": "stdout",
     "output_type": "stream",
     "text": [
      "There are 225 unique dates in the date\n"
     ]
    }
   ],
   "source": [
    "# Find the numbe of unique dates in the data\n",
    "\n",
    "#empty list to hold results\n",
    "unique = []\n",
    "\n",
    "#loop through the data by row\n",
    "for row in state_covid_data[1:]:\n",
    "    #check the first item in the row for the date\n",
    "    date = row[0]\n",
    "    #check if date is in our list\n",
    "    if date not in unique:\n",
    "        #if not in list, add to list\n",
    "        unique.append(date)\n",
    " #print results\n",
    "print(\"There are \" + str(len(unique)) + \" unique dates in the date\")"
   ]
  },
  {
   "cell_type": "markdown",
   "id": "9799d375",
   "metadata": {},
   "source": [
    "### Q2"
   ]
  },
  {
   "cell_type": "code",
   "execution_count": 6,
   "id": "a0d8aee7",
   "metadata": {},
   "outputs": [
    {
     "name": "stdout",
     "output_type": "stream",
     "text": [
      "The first date of a recorded COVID case in DC is 2020-03-07\n"
     ]
    }
   ],
   "source": [
    "# find the first date in which DC recorded a case\n",
    "#empty var to hold first date of case\n",
    "first_date = 0\n",
    "#iterate through data by row\n",
    "for row in state_covid_data[1:]:\n",
    "    #check if the state in the row is DC\n",
    "    if (row[1] == \"District of Columbia\"):\n",
    "        #assign the date of the first instance of a DC case to first_date \n",
    "        first_date = row[0]\n",
    "        #use break command to stop the loop when first instance is found\n",
    "        break\n",
    "        \n",
    "#print results\n",
    "print(\"The first date of a recorded COVID case in DC is \" + first_date)"
   ]
  },
  {
   "cell_type": "markdown",
   "id": "d1a1a9df",
   "metadata": {},
   "source": [
    "### Q3"
   ]
  },
  {
   "cell_type": "code",
   "execution_count": 20,
   "id": "b48b33a0",
   "metadata": {},
   "outputs": [],
   "source": [
    "#Write a function that takes in a state name as input and outputs the date of its first case.\n",
    "def first_case(state):\n",
    "    \n",
    "    \"\"\"\n",
    "    This function returns the date of a state's first recorded case.\n",
    "    \n",
    "    Arguments\n",
    "    ---------\n",
    "    state: str\n",
    "        A string for the state's name\n",
    "    \n",
    "    Return\n",
    "    ------\n",
    "    A string for the date of the first observed case\n",
    "    \"\"\"\n",
    "    #variable to hold date in\n",
    "    first_date = 0\n",
    "    #iterate through dataframe\n",
    "    for row in state_covid_data:\n",
    "        #check for the state in question\n",
    "        if row[1] == state:\n",
    "            #record the date and break\n",
    "            first_date = row[0]\n",
    "            break\n",
    "            \n",
    "    return (\"The date of the first recorded COVID case in \" + state + \" is \" + str(first_date))"
   ]
  },
  {
   "cell_type": "code",
   "execution_count": 21,
   "id": "76003ae2",
   "metadata": {},
   "outputs": [
    {
     "data": {
      "text/plain": [
       "'The date of the first recorded COVID case in Wisconsin is 2020-02-05'"
      ]
     },
     "execution_count": 21,
     "metadata": {},
     "output_type": "execute_result"
    }
   ],
   "source": [
    "first_case(\"Wisconsin\")"
   ]
  },
  {
   "cell_type": "code",
   "execution_count": null,
   "id": "c63e6749",
   "metadata": {},
   "outputs": [],
   "source": []
  }
 ],
 "metadata": {
  "kernelspec": {
   "display_name": "Python 3 (ipykernel)",
   "language": "python",
   "name": "python3"
  },
  "language_info": {
   "codemirror_mode": {
    "name": "ipython",
    "version": 3
   },
   "file_extension": ".py",
   "mimetype": "text/x-python",
   "name": "python",
   "nbconvert_exporter": "python",
   "pygments_lexer": "ipython3",
   "version": "3.9.7"
  }
 },
 "nbformat": 4,
 "nbformat_minor": 5
}
