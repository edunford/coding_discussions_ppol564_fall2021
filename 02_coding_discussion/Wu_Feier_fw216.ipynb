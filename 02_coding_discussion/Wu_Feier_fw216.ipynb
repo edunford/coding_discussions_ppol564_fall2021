{
 "cells": [
  {
   "cell_type": "markdown",
   "id": "ac5adbb8",
   "metadata": {},
   "source": [
    "# Set up"
   ]
  },
  {
   "cell_type": "code",
   "execution_count": 20,
   "id": "24e776b8",
   "metadata": {},
   "outputs": [
    {
     "name": "stdout",
     "output_type": "stream",
     "text": [
      "10080\n"
     ]
    },
    {
     "data": {
      "text/plain": [
       "[['date', 'state', 'fips', 'cases', 'deaths'],\n",
       " ['2020-01-21', 'Washington', '53', '1', '0'],\n",
       " ['2020-01-22', 'Washington', '53', '1', '0'],\n",
       " ['2020-01-23', 'Washington', '53', '1', '0'],\n",
       " ['2020-01-24', 'Illinois', '17', '1', '0']]"
      ]
     },
     "execution_count": 20,
     "metadata": {},
     "output_type": "execute_result"
    }
   ],
   "source": [
    "#Set Up\n",
    import csv
    "with open('us-states.csv') as file:\n",
    "    state_covid_data = []\n",
    "    for row in csv.reader(file):\n",
    "        state_covid_data.append(row)\n",
    "\n",
    "len(state_covid_data)\n",
    "print(len(state_covid_data))\n",
    "\n",
    "state_covid_data[:5]"
   ]
  },
  {
   "cell_type": "markdown",
   "id": "210d8563",
   "metadata": {},
   "source": [
    "## (1) Count up the number of unique dates in the data."
   ]
  },
  {
   "cell_type": "code",
   "execution_count": null,
   "id": "0fade869",
   "metadata": {},
   "outputs": [],
   "source": [
    "#Create a function for number of unique dates\n",
    "def unique_dates():\n",
    "    \"\"\"\n",
    "    The unique_dates() function returns unique dates in the data.\n",
    "    \n",
    "    Arguments\n",
    "    ---------\n",
    "    No arguments\n",
    "    \n",
    "    Return\n",
    "    ---------\n",
    "    The number of unique dates.\n",
    "    \"\"\"\n",
    "    #Prepare an empty list for unique dates\n",
    "    unique_dates = []\n",
    "    #Create a loop to iterates over dates in the dataset.\n",
    "    for date in state_covid_data [1:]:\n",
    "        #Identify the entry of date.\n",
    "        row_date = date[0]\n",
    "        #For dates not in the list we want, put them in the list, otherwise continue sortting.\n",
    "        if row_date not in unique_dates:\n",
    "            unique_dates.append(row_date)\n",
    "        count = len (unique_dates)\n",
    "    #Return the number of unique dates.\n",
    "    return(count)\n",
    "\n",
    "unique_dates()\n",
    "    \n",
    "\n"
   ]
  },
  {
   "cell_type": "markdown",
   "id": "e873be1a",
   "metadata": {},
   "source": [
    "## (2) Find the first date in which the District of Columbia recorded a case."
   ]
  },
  {
   "cell_type": "code",
   "execution_count": 110,
   "id": "50bb9203",
   "metadata": {},
   "outputs": [
    {
     "data": {
      "text/plain": [
       "['2020-03-07']"
      ]
     },
     "execution_count": 110,
     "metadata": {},
     "output_type": "execute_result"
    }
   ],
   "source": [
    "#Define a new function for the first date recorded a case\n",
    "def first_case_dc():\n",
    "    \"\"\"\n",
    "    The first_case_dc()function returns the first date in which the District of Columbia recorded a case.\n",
    "    \n",
    "    Arguments\n",
    "    ---------\n",
    "    No arguments\n",
    "    \n",
    "    Return\n",
    "    ---------\n",
    "    The string of date of first case recorded in DC.\n",
    "    \"\"\"\n",
    "    #Prepare an empty list for string of date.\n",
    "    first_date = []  \n",
    "\n",
    "    #Create a loop to iterates over dates in the dataset.\n",
    "    for row in state_covid_data [1:]:\n",
    "        #Identify the entry of state.\n",
    "        state = row[1]\n",
    "        #For the first date for District of Columbia we sort, we put it in the list. Then we stop the loop.\n",
    "        if state == \"District of Columbia\":\n",
    "            first_date.append(row[0])\n",
    "            break\n",
    "    #Return the date of first recorded case in DC.\n",
    "    return first_date\n",
    "\n",
    "first_case_dc()\n",
    "\n",
    "        \n",
    "        \n",
    "        \n",
    "        \n",
    "    \n"
   ]
  },
  {
   "cell_type": "markdown",
   "id": "ba72ee1f",
   "metadata": {},
   "source": [
    "## (3) Write a function that takes in a state name as input (e.g. \"Wisconsin\") and outputs the date of its first case."
   ]
  },
  {
   "cell_type": "code",
   "execution_count": 115,
   "id": "e52b1674",
   "metadata": {},
   "outputs": [
    {
     "data": {
      "text/plain": [
       "['2020-02-05']"
      ]
     },
     "execution_count": 115,
     "metadata": {},
     "output_type": "execute_result"
    }
   ],
   "source": [
    "#Define a new function for the first date recorded a case in given state\n",
    "def first_case_date(state):\n",
    "    \"\"\"\n",
    "    The first_case_date()function returns the first date in which the given state recorded a case.\n",
    "    \n",
    "    Arguments\n",
    "    ---------\n",
    "    state: (String) A text storing the name of the given state finding the date of the first case.\n",
    "    \n",
    "    Return\n",
    "    ---------\n",
    "    The string of date of first case recorded in given state.\n",
    "    \"\"\"\n",
    "    #Prepare an empty list for string of date.\n",
    "    first_case = []\n",
    "    \n",
    "    #Create a loop to iterates over dates in the dataset.\n",
    "    for row in state_covid_data [1:]:\n",
    "        #Identify the entry of state.\n",
    "        states = row[1]\n",
    "        #For the first date for given state we sort, we put it in the list. Then we stop the loop.\n",
    "        if states == state:\n",
    "            first_case.append(row[0])\n",
    "            break\n",
    "    #Return the date of first recorded case in the state.\n",
    "    return first_case\n",
    "\n",
    "first_case_date(\"Wisconsin\")\n"
   ]
  },
  {
   "cell_type": "markdown",
   "id": "e368829f",
   "metadata": {},
   "source": [
    "## Bonus Write a function that takes in a state name as input (e.g. \"Wisconsin\") and outputs the date when the number of reported cases within the state exceeded 1000."
   ]
  },
  {
   "cell_type": "code",
   "execution_count": 119,
   "id": "5a35d2ec",
   "metadata": {},
   "outputs": [
    {
     "data": {
      "text/plain": [
       "['2020-03-28']"
      ]
     },
     "execution_count": 119,
     "metadata": {},
     "output_type": "execute_result"
    }
   ],
   "source": [
    "#Define a new function for the date recorded when the number of reported cases within the state exceeded 1000.\n",
    "def locate_date_1000(state):\n",
    "    \"\"\"\n",
    "    The locate_date_1000() function returns the first date when the number of reported cases within the state exceeded 1000.\n",
    "    \n",
    "    Arguments\n",
    "    ---------\n",
    "    state: (String) A text storing the name of the given state finding twhen the reported cases exceeded 1000.\n",
    "    \n",
    "    Return\n",
    "    ---------\n",
    "    The string of date of first case recorded when the reported cases exceeded 1000 in the given state.\n",
    "    \"\"\"\n",
    "    #Prepare an empty list for string of date.\n",
    "    date_1000 = []\n",
    "    #Create a loop to iterates over dates in the dataset.\n",
    "    for row in state_covid_data [1:]: \n",
    "        #Identify the entry of state and number of cases(integer).\n",
    "        states = row[1]\n",
    "        cases = int(row [3])\n",
    "        #For the first date for given state while the number of its cases is greater than 1000, we put it in the list. Then we stop the loop.\n",
    "        if states == state and cases > 1000:\n",
    "            date_1000.append(row[0])\n",
    "            break\n",
    "    ##Return the date of te time exceeded 1000 case in the state.\n",
    "    return date_1000\n",
    "\n",
    "locate_date_1000(\"Wisconsin\")\n",
    "\n",
    "    \n",
    "    "
   ]
  },
  {
   "cell_type": "code",
   "execution_count": null,
   "id": "9382551b",
   "metadata": {},
   "outputs": [],
   "source": []
  }
 ],
 "metadata": {
  "kernelspec": {
   "display_name": "Python 3",
   "language": "python",
   "name": "python3"
  },
  "language_info": {
   "codemirror_mode": {
    "name": "ipython",
    "version": 3
   },
   "file_extension": ".py",
   "mimetype": "text/x-python",
   "name": "python",
   "nbconvert_exporter": "python",
   "pygments_lexer": "ipython3",
   "version": "3.8.8"
  }
 },
 "nbformat": 4,
 "nbformat_minor": 5
}
