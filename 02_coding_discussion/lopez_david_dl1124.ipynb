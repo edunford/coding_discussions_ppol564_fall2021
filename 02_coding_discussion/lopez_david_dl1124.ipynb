{
 "cells": [
  {
   "cell_type": "code",
   "execution_count": 71,
   "id": "a6bacdb3",
   "metadata": {},
   "outputs": [
    {
     "data": {
      "text/plain": [
       "[['date', 'state', 'fips', 'cases', 'deaths'],\n",
       " ['2020-01-21', 'Washington', '53', '1', '0'],\n",
       " ['2020-01-22', 'Washington', '53', '1', '0'],\n",
       " ['2020-01-23', 'Washington', '53', '1', '0'],\n",
       " ['2020-01-24', 'Illinois', '17', '1', '0']]"
      ]
     },
     "execution_count": 71,
     "metadata": {},
     "output_type": "execute_result"
    }
   ],
   "source": [
    "import csv\n",
    "with open('us-states.csv') as file:\n",
    "    state_covid_data = []\n",
    "    for row in csv.reader(file):\n",
    "        state_covid_data.append(row)\n",
    "        \n",
    "len(state_covid_data) # return length of data\n",
    "\n",
    "state_covid_data[:5] # displays first five rows of data including column names and first four entries"
   ]
  },
  {
   "cell_type": "code",
   "execution_count": 89,
   "id": "ff2d6956",
   "metadata": {},
   "outputs": [
    {
     "name": "stdout",
     "output_type": "stream",
     "text": [
      "The number of unique dates is 226.\n"
     ]
    }
   ],
   "source": [
    "# (1) Count up the number of unique dates in the data.\n",
    "\n",
    "unique_dates_list = [] # Create list for unique dates\n",
    "\n",
    "for i in state_covid_data:            # A loop that adds a date from the date column zero to the unique dates list if that date is not already in the list\n",
    "    if i[0] not in unique_dates_list:\n",
    "        unique_dates_list.append(i[0])\n",
    "        \n",
    "print(\"The number of unique dates is \" + str(len(unique_dates_list)) + \".\") # Counts the number of dates in the unique dates list and puts the output in a sentence by making the number of dates a string.\n",
    "            "
   ]
  },
  {
   "cell_type": "code",
   "execution_count": 81,
   "id": "3ded5231",
   "metadata": {},
   "outputs": [
    {
     "name": "stdout",
     "output_type": "stream",
     "text": [
      "The first date the District of Columbia recorded a case was 2020-03-07.\n"
     ]
    }
   ],
   "source": [
    "# (2) Find the first date in which the District of Columbia recorded a case.\n",
    "\n",
    "for i in state_covid_data:              # A loop that finds the earliest date in the date column where the entered name of the state is exactly 'District of Columbia'.\n",
    "    if i[1] == \"District of Columbia\":  # sets condition of the required state name\n",
    "        first_date = i[0]\n",
    "        break # Stops the loop when the condition is met\n",
    "         \n",
    "        \n",
    "print(\"The first date the District of Columbia recorded a case was \" + str(first_date) + \".\") # Makes the date found by the loop a string to be used in a sentence."
   ]
  },
  {
   "cell_type": "code",
   "execution_count": 91,
   "id": "f85a3c08",
   "metadata": {},
   "outputs": [
    {
     "data": {
      "text/plain": [
       "'2020-03-12'"
      ]
     },
     "execution_count": 91,
     "metadata": {},
     "output_type": "execute_result"
    }
   ],
   "source": [
    "# (3) Write a function that takes in a state name as input (e.g. \"Wisconsin\") and outputs the date of its first case.\n",
    "\n",
    "def state_first_case(state):\n",
    "    \"\"\"\n",
    "    This function shows the first date a certain state recorded its first case.\n",
    "    \n",
    "    Arguments - Input: text of state name as entered in the dataset;\n",
    "                Output: date of the first recorded case of the state.\n",
    "    \"\"\"\n",
    "    \n",
    "    for i in state_covid_data:\n",
    "        if i[1] == state:       # Loop finds where the entered state name condition is met and the earliest date listed for that state.\n",
    "            date = i[0]\n",
    "            break\n",
    "            \n",
    "    return date\n",
    "\n",
    "state_first_case(\"Maine\")"
   ]
  },
  {
   "cell_type": "code",
   "execution_count": 79,
   "id": "ea4a2861",
   "metadata": {},
   "outputs": [
    {
     "data": {
      "text/plain": [
       "'2020-03-25'"
      ]
     },
     "execution_count": 79,
     "metadata": {},
     "output_type": "execute_result"
    }
   ],
   "source": [
    "# Bonus: Write a function that takes in a state name as input (e.g. \"Wisconsin\") and outputs the date when the number of reported cases within the state exceeded 1000.\n",
    "\n",
    "\n",
    "def state_1001_cases_date(state):\n",
    "    \"\"\"\n",
    "    This function shows the date when a certain state recorded its 1001th case.\n",
    "    \n",
    "    Arguments - Input: text state name as entered in the dataset;\n",
    "                Output: date the state recorded its 1001th case.\n",
    "    \"\"\"\n",
    "    \n",
    "    \n",
    "    for i in state_covid_data:\n",
    "        if (i[1] == state) and (int(i[3]) > 1000):   # Loop finds the date where both conditions of state name and the number of cases greater than 1000 is true. \n",
    "                                                     #int() makes the value of the cases column a numerical integer to agree with the '>' condition.\n",
    "            date = i[0]\n",
    "            break  # The loop stops on the first date that the condition is met.\n",
    "            \n",
    "    return date\n",
    "\n",
    "state_1001_cases_date(\"Texas\")\n"
   ]
  }
 ],
 "metadata": {
  "kernelspec": {
   "display_name": "Python 3 (ipykernel)",
   "language": "python",
   "name": "python3"
  },
  "language_info": {
   "codemirror_mode": {
    "name": "ipython",
    "version": 3
   },
   "file_extension": ".py",
   "mimetype": "text/x-python",
   "name": "python",
   "nbconvert_exporter": "python",
   "pygments_lexer": "ipython3",
   "version": "3.9.7"
  }
 },
 "nbformat": 4,
 "nbformat_minor": 5
}
