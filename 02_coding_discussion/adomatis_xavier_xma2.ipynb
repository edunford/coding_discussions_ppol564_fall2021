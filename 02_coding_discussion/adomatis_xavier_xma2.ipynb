{
 "cells": [
  {
   "cell_type": "code",
   "execution_count": 2,
   "metadata": {},
   "outputs": [
    {
     "data": {
      "text/plain": [
       "[['date', 'state', 'fips', 'cases', 'deaths'],\n",
       " ['2020-01-21', 'Washington', '53', '1', '0'],\n",
       " ['2020-01-22', 'Washington', '53', '1', '0'],\n",
       " ['2020-01-23', 'Washington', '53', '1', '0'],\n",
       " ['2020-01-24', 'Illinois', '17', '1', '0']]"
      ]
     },
     "execution_count": 2,
     "metadata": {},
     "output_type": "execute_result"
    }
   ],
   "source": [
    "##Setup and Checks\n",
    "\n",
    "# Change WD to repository\n",
    "import os\n",
    "os.chdir('/Users/xavier/Desktop/DSPP/DS/Dirwk2/coding_discussions_ppol564_fall2021/02_coding_discussion')\n",
    "\n",
    "# Import\n",
    "import csv\n",
    "with open('us-states.csv') as file:\n",
    "    state_covid_data = []\n",
    "    for row in csv.reader(file):\n",
    "        state_covid_data.append(row)\n",
    "        \n",
    "# Compare list length\n",
    "len(state_covid_data)\n",
    "\n",
    "# View first five\n",
    "state_covid_data[:5]"
   ]
  },
  {
   "cell_type": "code",
   "execution_count": 5,
   "metadata": {},
   "outputs": [
    {
     "name": "stdout",
     "output_type": "stream",
     "text": [
      "225 different dates exist in this dataset\n"
     ]
    }
   ],
   "source": [
    "## Q1\n",
    "# (1) Count up the number of unique dates in the data.\n",
    "\n",
    "# Get set by setting up a set\n",
    "date_set = set()\n",
    "\n",
    "# Insert dates via loop\n",
    "for i in state_covid_data[1:]:\n",
    "    date_set.add(i[0])\n",
    "\n",
    "# Do a cool print name function 'cause I saw other people doing it\n",
    "print(str(len(date_set)) + \" different dates exist in this dataset\")\n",
    "\n",
    "## Answer: 225 unique dates"
   ]
  },
  {
   "cell_type": "code",
   "execution_count": 4,
   "metadata": {},
   "outputs": [
    {
     "name": "stdout",
     "output_type": "stream",
     "text": [
      "2020-03-07\n"
     ]
    }
   ],
   "source": [
    "## Q2\n",
    "# (2) Find the first date in which the District of Columbia recorded a case.\n",
    "\n",
    "#Use a loop to ID the first occurance of a case in DC\n",
    "\n",
    "for datetest in range(1,len(state_covid_data[1:])):\n",
    "    if state_covid_data[datetest][1]==\"District of Columbia\":\n",
    "        print(state_covid_data[datetest][0])\n",
    "        #Set the poop to break after the first case is identified\n",
    "        break\n",
    "        \n",
    "#Answer: 3/7/2020"
   ]
  },
  {
   "cell_type": "code",
   "execution_count": 22,
   "metadata": {},
   "outputs": [
    {
     "data": {
      "text/plain": [
       "'Learn how to spell Coneticut'"
      ]
     },
     "execution_count": 22,
     "metadata": {},
     "output_type": "execute_result"
    }
   ],
   "source": [
    "##Q3\n",
    "# (3) Write a function that takes in a state name as input (e.g. \"Wisconsin\") and outputs the date of its first case.\n",
    "\n",
    "#first, create a docstring to determine what a function does\n",
    "def first_case(state):\n",
    "    \"\"\"\n",
    "    Input a state and this function oputputs the date of the first COVID case in that state; tells you to correct your spelling if state not found\n",
    "\n",
    "    Arguments:\n",
    "        state (str): \n",
    "            text of state name\n",
    "\n",
    "    Returns:\n",
    "        str: date of first case\n",
    "\n",
    "    \"\"\"\n",
    "    #second, always assume that people don't know how to spell state names and write a line to correct them\n",
    "    first_case_phrase = \"Learn how to spell \" + state\n",
    "    #third create a loop for the off chance in which they did it right\n",
    "    for date1 in state_covid_data[1:]:\n",
    "        # the following element quates the input to a state name\n",
    "        if date1[1] == state: \n",
    "            #the next element establishes a phrase that will read a correctly spelled output\n",
    "            first_case_phrase = date1[0] + \" was the first date in which \" + state + \" had a case\"\n",
    "            #finally, we break the loop once we have a first date\n",
    "            break\n",
    "    return(first_case_phrase)\n",
    "\n",
    "first_case(\"Wisconsin\")\n",
    "first_case(\"South Carolina\")\n",
    "first_case(\"Coneticut\")"
   ]
  },
  {
   "cell_type": "code",
   "execution_count": 25,
   "metadata": {},
   "outputs": [
    {
     "data": {
      "text/plain": [
       "'2020-03-28 was the first date in which Wisconsin had more than 1,000 cases'"
      ]
     },
     "execution_count": 25,
     "metadata": {},
     "output_type": "execute_result"
    }
   ],
   "source": [
    "## Bonus points\n",
    "# Bonus: Write a function that takes in a state name as input (e.g. \"Wisconsin\") and outputs the date when the number of reported cases within the state exceeded 1000.\n",
    "\n",
    "#first, create a docstring to determine what a function does\n",
    "def thousandth_case(state):\n",
    "    \"\"\"Input a state and this functions oputputs the date of the 1001st first COVID case in that state; tells you to correct your spelling if state not found\n",
    "\n",
    "\n",
    "\n",
    "    Arguments:\n",
    "        state (str): \n",
    "            text of state name\n",
    "\n",
    "    Returns:\n",
    "        str: date of thousandth case\n",
    "\n",
    "    \"\"\"\n",
    "    #second, prepare for spelling errors\n",
    "    case_1000 = \"Learn how to spell \" + state\n",
    "    #setup loop\n",
    "    for date1000 in state_covid_data[1:]:\n",
    "        #set it to read for both the correct state and the case number being greater than 1000 \n",
    "        if date1000[1]==state and int(date1000[3]) >= 1001: \n",
    "            #create an output phrase\n",
    "            case_1000 = date1000[0] + \" was the first date in which \" + state + \" had more than 1,000 cases\"\n",
    "            #break the loop once the first instance is found\n",
    "            break \n",
    "    return  case_1000\n",
    "\n",
    "thousandth_case(\"Wisconsin\")"
   ]
  },
  {
   "cell_type": "code",
   "execution_count": null,
   "metadata": {},
   "outputs": [],
   "source": []
  }
 ],
 "metadata": {
  "kernelspec": {
   "display_name": "Python 3",
   "language": "python",
   "name": "python3"
  },
  "language_info": {
   "codemirror_mode": {
    "name": "ipython",
    "version": 3
   },
   "file_extension": ".py",
   "mimetype": "text/x-python",
   "name": "python",
   "nbconvert_exporter": "python",
   "pygments_lexer": "ipython3",
   "version": "3.8.5"
  }
 },
 "nbformat": 4,
 "nbformat_minor": 4
}
