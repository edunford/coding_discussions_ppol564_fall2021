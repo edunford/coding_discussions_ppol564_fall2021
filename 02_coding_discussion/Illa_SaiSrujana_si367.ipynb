{
 "cells": [
  {
   "cell_type": "code",
   "execution_count": 1,
   "metadata": {},
   "outputs": [
    {
     "data": {
      "text/plain": [
       "10080"
      ]
     },
     "execution_count": 1,
     "metadata": {},
     "output_type": "execute_result"
    }
   ],
   "source": [
    "## Read in the data (we would provide this)\n",
    "import csv\n",
    "with open('C:/Users/hp/Desktop/DSPP - GU/Data Science/Datasets/02_coding_discussion/us-states.csv') as file:\n",
    "    state_covid_data = []\n",
    "    for row in csv.reader(file):\n",
    "        state_covid_data.append(row)\n",
    "\n",
    "len(state_covid_data)"
   ]
  },
  {
   "cell_type": "code",
   "execution_count": 2,
   "metadata": {},
   "outputs": [
    {
     "data": {
      "text/plain": [
       "[['date', 'state', 'fips', 'cases', 'deaths'],\n",
       " ['2020-01-21', 'Washington', '53', '1', '0'],\n",
       " ['2020-01-22', 'Washington', '53', '1', '0'],\n",
       " ['2020-01-23', 'Washington', '53', '1', '0'],\n",
       " ['2020-01-24', 'Illinois', '17', '1', '0']]"
      ]
     },
     "execution_count": 2,
     "metadata": {},
     "output_type": "execute_result"
    }
   ],
   "source": [
    "state_covid_data[:5]"
   ]
  },
  {
   "cell_type": "code",
   "execution_count": 3,
   "metadata": {},
   "outputs": [
    {
     "data": {
      "text/plain": [
       "'2020-01-21'"
      ]
     },
     "execution_count": 3,
     "metadata": {},
     "output_type": "execute_result"
    }
   ],
   "source": [
    "#Accessing date on 2nd row, 1st column\n",
    "\n",
    "state_covid_data[1][0]\n",
    "    "
   ]
  },
  {
   "cell_type": "code",
   "execution_count": 4,
   "metadata": {},
   "outputs": [
    {
     "data": {
      "text/plain": [
       "226"
      ]
     },
     "execution_count": 4,
     "metadata": {},
     "output_type": "execute_result"
    }
   ],
   "source": [
    "#QUESTION 1\n",
    "#No of unique dates. Collected all the dates in a list and then transformed it to a set inorder to have the unique dates\n",
    "\n",
    "dates = []\n",
    "for i in range(len(state_covid_data)):\n",
    "    dates.append(state_covid_data[i][0])\n",
    "  \n",
    "unique_dates = set(dates)\n",
    "len(unique_dates)\n",
    "    \n"
   ]
  },
  {
   "cell_type": "code",
   "execution_count": 5,
   "metadata": {},
   "outputs": [
    {
     "data": {
      "text/plain": [
       "{'Alabama',\n",
       " 'Alaska',\n",
       " 'Arizona',\n",
       " 'Arkansas',\n",
       " 'California',\n",
       " 'Colorado',\n",
       " 'Connecticut',\n",
       " 'Delaware',\n",
       " 'District of Columbia',\n",
       " 'Florida',\n",
       " 'Georgia',\n",
       " 'Guam',\n",
       " 'Hawaii',\n",
       " 'Idaho',\n",
       " 'Illinois',\n",
       " 'Indiana',\n",
       " 'Iowa',\n",
       " 'Kansas',\n",
       " 'Kentucky',\n",
       " 'Louisiana',\n",
       " 'Maine',\n",
       " 'Maryland',\n",
       " 'Massachusetts',\n",
       " 'Michigan',\n",
       " 'Minnesota',\n",
       " 'Mississippi',\n",
       " 'Missouri',\n",
       " 'Montana',\n",
       " 'Nebraska',\n",
       " 'Nevada',\n",
       " 'New Hampshire',\n",
       " 'New Jersey',\n",
       " 'New Mexico',\n",
       " 'New York',\n",
       " 'North Carolina',\n",
       " 'North Dakota',\n",
       " 'Northern Mariana Islands',\n",
       " 'Ohio',\n",
       " 'Oklahoma',\n",
       " 'Oregon',\n",
       " 'Pennsylvania',\n",
       " 'Puerto Rico',\n",
       " 'Rhode Island',\n",
       " 'South Carolina',\n",
       " 'South Dakota',\n",
       " 'Tennessee',\n",
       " 'Texas',\n",
       " 'Utah',\n",
       " 'Vermont',\n",
       " 'Virgin Islands',\n",
       " 'Virginia',\n",
       " 'Washington',\n",
       " 'West Virginia',\n",
       " 'Wisconsin',\n",
       " 'Wyoming',\n",
       " 'state'}"
      ]
     },
     "execution_count": 5,
     "metadata": {},
     "output_type": "execute_result"
    }
   ],
   "source": [
    "#Unique_states - Checking for the spelling of \"District of Columbia\"\n",
    "\n",
    "states = []\n",
    "for i in range(len(state_covid_data)):\n",
    "    states.append(state_covid_data[i][1])\n",
    "  \n",
    "states = set(states)\n",
    "states"
   ]
  },
  {
   "cell_type": "code",
   "execution_count": 6,
   "metadata": {},
   "outputs": [
    {
     "name": "stdout",
     "output_type": "stream",
     "text": [
      "The first date when District of Columbia has recorded a case is : 2020-03-07\n"
     ]
    }
   ],
   "source": [
    "#QUESTION 2\n",
    "# Ran a loop for the no of rows on the dataset. The loop breaks when the if condition on state is met, returning the corresponding date. \n",
    "\n",
    "for i in range(len(state_covid_data)):\n",
    "    if state_covid_data[i][1]==\"District of Columbia\":\n",
    "        date = state_covid_data[i][0]\n",
    "        print (\"The first date when District of Columbia has recorded a case is :\",date)\n",
    "        break\n",
    "    else:\n",
    "        continue\n",
    "        "
   ]
  },
  {
   "cell_type": "markdown",
   "metadata": {},
   "source": [
    "#QUESTION 3 - First covid case in a given state\n",
    "<br>\n",
    "<br>-Ran a loop through the of rows on the dataset.\n",
    "<br>-Cleaned the state name (both input argument and in the dataset) for commas, full stops, spaces and letter cases before sending through if condition for matching state. \n",
    "<br>-When the condition on state name is met, we return the corresponding date and break the loop. If not, we continue to the next row until the last row.\n",
    "<br>-An empty list 'partial_match_states' is set up before the loop begins. This list collects state names with the same first letter as the input argument and returns them if even at the last row, we don't find a state which matches the input.\n",
    "\n"
   ]
  },
  {
   "cell_type": "code",
   "execution_count": 7,
   "metadata": {},
   "outputs": [],
   "source": [
    "def first_case(state):\n",
    "    \"\"\" \n",
    "        This function returns the date when the first Covid case was \n",
    "        recorded for a given state in the Unites States.\n",
    "        \n",
    "        ------------------------------------------------------------------------------------------------------------------\n",
    "        Argument: State name\n",
    "        \n",
    "        ------------------------------------------------------------------------------------------------------------------\n",
    "        Output  : The date when the first covid case was recorded in the given state.\n",
    "        \n",
    "        ------------------------------------------------------------------------------------------------------------------\n",
    "        \n",
    "        Disclaimer: \n",
    "        \n",
    "        * Variations of input paramter w.r.to spaces, commas, letter cases and full stops are taken care of.\n",
    "        \n",
    "        *In case of other spelling differences: \n",
    "        Input needs to be modified as per the suggestions provided, based on first letter of the input parameter.\n",
    "        If you don't find the desired state name on the suggested inputs: Sorry, we don't have any related observations.\n",
    "        \n",
    "        -------------------------------------------------------------------------------------------------------------------\n",
    "    \"\"\"\n",
    "    partial_match_states =[]\n",
    "    for i in range(len(state_covid_data)):\n",
    "        \n",
    "        input_state_cleaned = state.strip().lower().replace(\" \", \"\")\n",
    "        input_state_cleaned = input_state_cleaned.replace(\".\",\"\")\n",
    "        input_state_cleaned = input_state_cleaned.replace(\",\",\"\")\n",
    "        \n",
    "        state_cleaned = state_covid_data[i][1].strip().lower().replace(\" \", \"\")\n",
    "        state_cleaned = state_cleaned.replace(\".\",\"\")\n",
    "        state_cleaned = state_cleaned.replace(\",\",\"\")\n",
    "        \n",
    "        if state_cleaned[0]==input_state_cleaned[0]:\n",
    "            partial_match_states.append(state_covid_data[i][1])\n",
    "            \n",
    "        if state_cleaned==input_state_cleaned:\n",
    "            date = state_covid_data[i][0]\n",
    "            print (date)\n",
    "            break\n",
    "         \n",
    "        elif i<len(state_covid_data)-1:\n",
    "            continue\n",
    "            \n",
    "        else:\n",
    "             print(\"Please try again.\\n Either we don't have a record for the desired state or the input needs to be modified.\\n Did you mean any of the following states? \\n \\n\", set(partial_match_states))\n",
    "            \n",
    "            \n",
    "        \n",
    "                \n"
   ]
  },
  {
   "cell_type": "code",
   "execution_count": 8,
   "metadata": {},
   "outputs": [
    {
     "name": "stdout",
     "output_type": "stream",
     "text": [
      "Please try again.\n",
      " Either we don't have a record for the desired state or the input needs to be modified.\n",
      " Did you mean any of the following states? \n",
      " \n",
      " {'Delaware', 'District of Columbia'}\n"
     ]
    }
   ],
   "source": [
    "#Gives suggestions based on the first letter, incase of spelling match not found.\n",
    "first_case(\"DC\")"
   ]
  },
  {
   "cell_type": "code",
   "execution_count": 9,
   "metadata": {
    "scrolled": true
   },
   "outputs": [
    {
     "name": "stdout",
     "output_type": "stream",
     "text": [
      "2020-03-01\n"
     ]
    }
   ],
   "source": [
    "#Word variations with spaces, letter cases, full stops and commas are handled\n",
    "first_case(\"newyork.\")"
   ]
  },
  {
   "cell_type": "markdown",
   "metadata": {},
   "source": [
    "#OPTIONAL 1 - First date when more than 1000 covid cases were recorded in a given state\n",
    "<br>\n",
    "<br>-Ran a loop through the of rows on the dataset.\n",
    "<br>-Cleaned the state name (both input argument and in the dataset) for commas, full stops, spaces and letter cases before sending through if condition for matching state. \n",
    "<br>-When the condition on state name and number of covid cases is met, we return the corresponding date and break the loop. If not, we continue to the next row until the last row.\n",
    "<br>-An empty list 'partial_match_states' is set up before the loop begins. This list collects state names with the same first letter as the input argument and returns them if even at the last row, we don't find a state which matches the input.\n"
   ]
  },
  {
   "cell_type": "code",
   "execution_count": 10,
   "metadata": {},
   "outputs": [],
   "source": [
    "def date_over_1000_first(state):\n",
    "    \"\"\" \n",
    "         This function returns the date when the Covid cases were over 1000 for the first time in\n",
    "         a given state of the Unites States.\n",
    "        \n",
    "        ------------------------------------------------------------------------------------------------------------------\n",
    "        Argument: State name\n",
    "        \n",
    "        ------------------------------------------------------------------------------------------------------------------\n",
    "        Output  : The date when the state has first recorded more than thousand cases\n",
    "        \n",
    "        ------------------------------------------------------------------------------------------------------------------\n",
    "        \n",
    "        Disclaimer: \n",
    "        \n",
    "        * Variations of input paramter w.r.to spaces, commas, letter cases and full stops are taken care of.\n",
    "        \n",
    "        *In case of other spelling differences: \n",
    "        Input needs to be modified as per the suggestions provided, based on first letter of the input parameter.\n",
    "        If you don't find the desired state name on the suggested inputs: Sorry, we don't have any related observations.\n",
    "        \n",
    "        -------------------------------------------------------------------------------------------------------------------\n",
    "    \"\"\"\n",
    "    partial_match_states =[]\n",
    "    for i in range(len(state_covid_data)):\n",
    "        \n",
    "        input_state_cleaned = state.strip().lower().replace(\" \", \"\")\n",
    "        input_state_cleaned = input_state_cleaned.replace(\".\",\"\")\n",
    "        input_state_cleaned = input_state_cleaned.replace(\",\",\"\")\n",
    "        \n",
    "        state_cleaned = state_covid_data[i][1].strip().lower().replace(\" \", \"\")\n",
    "        state_cleaned = state_cleaned.replace(\".\",\"\")\n",
    "        state_cleaned = state_cleaned.replace(\",\",\"\")\n",
    "        \n",
    "        if state_cleaned[0]==input_state_cleaned[0]:\n",
    "            partial_match_states.append(state_covid_data[i][1])\n",
    "            \n",
    "        if state_cleaned==input_state_cleaned and int(state_covid_data[i][3])>1000:\n",
    "            date = state_covid_data[i][0]\n",
    "            cases = state_covid_data[i][3]\n",
    "            print (state_covid_data[i][1], \" had \", int(state_covid_data[i][3]), \" cases on \",  date, \". \\nIt was the first day with more than 1000 recorded cases\")\n",
    "            break\n",
    "         \n",
    "        elif i<len(state_covid_data)-1:\n",
    "            continue\n",
    "            \n",
    "        else:\n",
    "             print(\"Please try again.\\n Either we don't have a record for the desired state or the input needs to be modified.\\n Did you mean any of the following states? \\n \\n\", set(partial_match_states))\n",
    "            \n",
    "             "
   ]
  },
  {
   "cell_type": "code",
   "execution_count": 11,
   "metadata": {},
   "outputs": [
    {
     "name": "stdout",
     "output_type": "stream",
     "text": [
      "New York  had  1375  cases on  2020-03-17 . \n",
      "It was the first day with more than 1000 recorded cases\n"
     ]
    }
   ],
   "source": [
    "date_over_1000_first('newyork')"
   ]
  },
  {
   "cell_type": "code",
   "execution_count": 12,
   "metadata": {
    "scrolled": true
   },
   "outputs": [
    {
     "name": "stdout",
     "output_type": "stream",
     "text": [
      "Please try again.\n",
      " Either we don't have a record for the desired state or the input needs to be modified.\n",
      " Did you mean any of the following states? \n",
      " \n",
      " {'North Carolina', 'New Mexico', 'Nevada', 'Nebraska', 'Northern Mariana Islands', 'New York', 'New Jersey', 'North Dakota', 'New Hampshire'}\n"
     ]
    }
   ],
   "source": [
    "date_over_1000_first('newyoark')"
   ]
  },
  {
   "cell_type": "markdown",
   "metadata": {},
   "source": [
    "#OPTIONAL 2 - All dates when more than 1000 covid cases were recorded in a given state\n",
    "<br>\n",
    "<br>-Ran a loop through the of rows on the dataset.\n",
    "<br>-Cleaned the state name (both input argument and in the dataset) for commas, full stops, spaces and letter cases before sending through if condition for matching state. \n",
    "<br>-An empty list 'dates_over_1000' is created before the loop begins, to collect all the dates when cases were over 1000 for a given state\n",
    "<br>-When the condition on state name and number of covid cases is met, corresponding date is appended to the 'dates_over_1000' list earlier created. If not, we continue to the next row until the last row. At the last row, if 'dates_over_1000' list is not empty we print it. \n",
    "<br>-If not, we return the 'partial_match_states' list which collects state names with the same first letter as the input argument."
   ]
  },
  {
   "cell_type": "code",
   "execution_count": 13,
   "metadata": {},
   "outputs": [],
   "source": [
    "def dates_over_1000_all(state):\n",
    "    \"\"\" \n",
    "         This function returns all the dates when the Covid cases were over 1000 in\n",
    "         a given state of the Unites States.\n",
    "        \n",
    "        ------------------------------------------------------------------------------------------------------------------\n",
    "        Argument: State name\n",
    "        \n",
    "        ------------------------------------------------------------------------------------------------------------------\n",
    "        Output  : The dates when the state recorded more than thousand cases\n",
    "        \n",
    "        ------------------------------------------------------------------------------------------------------------------\n",
    "        \n",
    "        Disclaimer: \n",
    "        \n",
    "        * Variations of input paramter w.r.to spaces, commas, letter cases and full stops are taken care of.\n",
    "        \n",
    "        *In case of other spelling differences: \n",
    "        Input needs to be modified as per the suggestions provided, based on first letter of the input parameter.\n",
    "        If you don't find the desired state name on the suggested inputs: Sorry, we don't have any related observations.\n",
    "        \n",
    "        -------------------------------------------------------------------------------------------------------------------\n",
    "    \"\"\"\n",
    "    partial_match_states =[]\n",
    "    dates_over_1000=[]\n",
    "    for i in range(len(state_covid_data)):\n",
    "        \n",
    "        input_state_cleaned = state.strip().lower().replace(\" \", \"\")\n",
    "        input_state_cleaned = input_state_cleaned.replace(\".\",\"\")\n",
    "        input_state_cleaned = input_state_cleaned.replace(\",\",\"\")\n",
    "        \n",
    "        state_cleaned = state_covid_data[i][1].strip().lower().replace(\" \", \"\")\n",
    "        state_cleaned = state_cleaned.replace(\".\",\"\")\n",
    "        state_cleaned = state_cleaned.replace(\",\",\"\")\n",
    "        \n",
    "        if state_cleaned[0]==input_state_cleaned[0]:\n",
    "            partial_match_states.append(state_covid_data[i][1])\n",
    "            \n",
    "        if state_cleaned==input_state_cleaned and int(state_covid_data[i][3])>1000:\n",
    "            date = state_covid_data[i][0]\n",
    "            dates_over_1000.append(date)\n",
    "         \n",
    "        elif i<len(state_covid_data)-1:\n",
    "            continue\n",
    "            \n",
    "        elif len(dates_over_1000) !=0:\n",
    "            print (state, \" noted over 1000 cases on the following dates: \\n\\n\", dates_over_1000)\n",
    "            break  \n",
    "            \n",
    "        else:\n",
    "            \n",
    "            print(\"Please try again.\\n Either we don't have a record for the desired state or the input needs to be modified.\\n Did you mean any of the following states? \\n \\n\", set(partial_match_states))\n",
    "            \n",
    "             "
   ]
  },
  {
   "cell_type": "code",
   "execution_count": 14,
   "metadata": {},
   "outputs": [
    {
     "name": "stdout",
     "output_type": "stream",
     "text": [
      "wisconsin  noted over 1000 cases on the following dates: \n",
      "\n",
      " ['2020-03-28', '2020-03-29', '2020-03-30', '2020-03-31', '2020-04-01', '2020-04-02', '2020-04-03', '2020-04-04', '2020-04-05', '2020-04-06', '2020-04-07', '2020-04-08', '2020-04-09', '2020-04-10', '2020-04-11', '2020-04-12', '2020-04-13', '2020-04-14', '2020-04-15', '2020-04-16', '2020-04-17', '2020-04-18', '2020-04-19', '2020-04-20', '2020-04-21', '2020-04-22', '2020-04-23', '2020-04-24', '2020-04-25', '2020-04-26', '2020-04-27', '2020-04-28', '2020-04-29', '2020-04-30', '2020-05-01', '2020-05-02', '2020-05-03', '2020-05-04', '2020-05-05', '2020-05-06', '2020-05-07', '2020-05-08', '2020-05-09', '2020-05-10', '2020-05-11', '2020-05-12', '2020-05-13', '2020-05-14', '2020-05-15', '2020-05-16', '2020-05-17', '2020-05-18', '2020-05-19', '2020-05-20', '2020-05-21', '2020-05-22', '2020-05-23', '2020-05-24', '2020-05-25', '2020-05-26', '2020-05-27', '2020-05-28', '2020-05-29', '2020-05-30', '2020-05-31', '2020-06-01', '2020-06-02', '2020-06-03', '2020-06-04', '2020-06-05', '2020-06-06', '2020-06-07', '2020-06-08', '2020-06-09', '2020-06-10', '2020-06-11', '2020-06-12', '2020-06-13', '2020-06-14', '2020-06-15', '2020-06-16', '2020-06-17', '2020-06-18', '2020-06-19', '2020-06-20', '2020-06-21', '2020-06-22', '2020-06-23', '2020-06-24', '2020-06-25', '2020-06-26', '2020-06-27', '2020-06-28', '2020-06-29', '2020-06-30', '2020-07-01', '2020-07-02', '2020-07-03', '2020-07-04', '2020-07-05', '2020-07-06', '2020-07-07', '2020-07-08', '2020-07-09', '2020-07-10', '2020-07-11', '2020-07-12', '2020-07-13', '2020-07-14', '2020-07-15', '2020-07-16', '2020-07-17', '2020-07-18', '2020-07-19', '2020-07-20', '2020-07-21', '2020-07-22', '2020-07-23', '2020-07-24', '2020-07-25', '2020-07-26', '2020-07-27', '2020-07-28', '2020-07-29', '2020-07-30', '2020-07-31', '2020-08-01', '2020-08-02', '2020-08-03', '2020-08-04', '2020-08-05', '2020-08-06', '2020-08-07', '2020-08-08', '2020-08-09', '2020-08-10', '2020-08-11', '2020-08-12', '2020-08-13', '2020-08-14', '2020-08-15', '2020-08-16', '2020-08-17', '2020-08-18', '2020-08-19', '2020-08-20', '2020-08-21', '2020-08-22', '2020-08-23', '2020-08-24', '2020-08-25', '2020-08-26', '2020-08-27', '2020-08-28', '2020-08-29', '2020-08-30', '2020-08-31', '2020-09-01']\n"
     ]
    }
   ],
   "source": [
    "dates_over_1000_all(\"wisconsin\")"
   ]
  },
  {
   "cell_type": "code",
   "execution_count": 15,
   "metadata": {},
   "outputs": [
    {
     "name": "stdout",
     "output_type": "stream",
     "text": [
      "Please try again.\n",
      " Either we don't have a record for the desired state or the input needs to be modified.\n",
      " Did you mean any of the following states? \n",
      " \n",
      " {'Wisconsin', 'Washington', 'West Virginia', 'Wyoming'}\n"
     ]
    }
   ],
   "source": [
    "dates_over_1000_all(\"Wiscon\")"
   ]
  }
 ],
 "metadata": {
  "kernelspec": {
   "display_name": "Python 3",
   "language": "python",
   "name": "python3"
  },
  "language_info": {
   "codemirror_mode": {
    "name": "ipython",
    "version": 3
   },
   "file_extension": ".py",
   "mimetype": "text/x-python",
   "name": "python",
   "nbconvert_exporter": "python",
   "pygments_lexer": "ipython3",
   "version": "3.8.3"
  }
 },
 "nbformat": 4,
 "nbformat_minor": 4
}
