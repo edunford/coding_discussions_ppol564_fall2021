{
 "cells": [
  {
   "cell_type": "markdown",
   "id": "70c77ce7",
   "metadata": {},
   "source": [
    "Coding Discussion 2 "
   ]
  },
  {
   "cell_type": "code",
   "execution_count": 1,
   "id": "a5d8e89d",
   "metadata": {},
   "outputs": [
    {
     "data": {
      "text/plain": [
       "10080"
      ]
     },
     "execution_count": 1,
     "metadata": {},
     "output_type": "execute_result"
    }
   ],
   "source": [
    "import csv\n",
    "with open('us-states.csv') as file:\n",
    "    state_covid_data = []\n",
    "    for row in csv.reader(file):\n",
    "        state_covid_data.append(row)\n",
    "\n",
    "len(state_covid_data)"
   ]
  },
  {
   "cell_type": "code",
   "execution_count": 2,
   "id": "2ef26b88",
   "metadata": {},
   "outputs": [
    {
     "data": {
      "text/plain": [
       "[['date', 'state', 'fips', 'cases', 'deaths'],\n",
       " ['2020-01-21', 'Washington', '53', '1', '0'],\n",
       " ['2020-01-22', 'Washington', '53', '1', '0'],\n",
       " ['2020-01-23', 'Washington', '53', '1', '0'],\n",
       " ['2020-01-24', 'Illinois', '17', '1', '0']]"
      ]
     },
     "execution_count": 2,
     "metadata": {},
     "output_type": "execute_result"
    }
   ],
   "source": [
    "state_covid_data[:5]"
   ]
  },
  {
   "cell_type": "code",
   "execution_count": 3,
   "id": "732e4c52",
   "metadata": {},
   "outputs": [
    {
     "data": {
      "text/plain": [
       "225"
      ]
     },
     "execution_count": 3,
     "metadata": {},
     "output_type": "execute_result"
    }
   ],
   "source": [
    "#Counting unique dates in the data\n",
    "\n",
    "unique_dates = []\n",
    "\n",
    "for i in state_covid_data[1:]:\n",
    "    if i[0] not in unique_dates:\n",
    "        unique_dates.append(i[0])\n",
    "           \n",
    "    \n",
    "len(unique_dates)"
   ]
  },
  {
   "cell_type": "code",
   "execution_count": 4,
   "id": "f9f0d60d",
   "metadata": {},
   "outputs": [
    {
     "name": "stdout",
     "output_type": "stream",
     "text": [
      "2020-03-07\n"
     ]
    }
   ],
   "source": [
    "#First date DC recorded a case\n",
    "\n",
    "for i in state_covid_data: \n",
    "        if i[1] == \"District of Columbia\":\n",
    "            print(i[0])\n",
    "            break"
   ]
  },
  {
   "cell_type": "code",
   "execution_count": 5,
   "id": "93da9794",
   "metadata": {},
   "outputs": [
    {
     "name": "stdout",
     "output_type": "stream",
     "text": [
      "2020-02-05\n"
     ]
    }
   ],
   "source": [
    "#function taking state name and outputting the date of the fist case\n",
    "\n",
    "def first_case(state):\n",
    "    for i in state_covid_data: \n",
    "        if i[1] == state:\n",
    "            return i[0]\n",
    "        \n",
    "print(first_case(\"Wisconsin\"))"
   ]
  },
  {
   "cell_type": "code",
   "execution_count": 6,
   "id": "ac9bbb37",
   "metadata": {},
   "outputs": [
    {
     "data": {
      "text/plain": [
       "'2020-03-28'"
      ]
     },
     "execution_count": 6,
     "metadata": {},
     "output_type": "execute_result"
    }
   ],
   "source": [
    "#function taking state name and outputting the date of the fist case\n",
    "\n",
    "def date_1000(state):\n",
    "    for i in state_covid_data: \n",
    "        if i[1] == state and int(i[3])>1000:\n",
    "            return i[0]\n",
    "        \n",
    "date_1000(\"Wisconsin\")"
   ]
  },
  {
   "cell_type": "code",
   "execution_count": null,
   "id": "1fff14c2",
   "metadata": {},
   "outputs": [],
   "source": []
  }
 ],
 "metadata": {
  "kernelspec": {
   "display_name": "Python 3",
   "language": "python",
   "name": "python3"
  },
  "language_info": {
   "codemirror_mode": {
    "name": "ipython",
    "version": 3
   },
   "file_extension": ".py",
   "mimetype": "text/x-python",
   "name": "python",
   "nbconvert_exporter": "python",
   "pygments_lexer": "ipython3",
   "version": "3.8.8"
  }
 },
 "nbformat": 4,
 "nbformat_minor": 5
}
