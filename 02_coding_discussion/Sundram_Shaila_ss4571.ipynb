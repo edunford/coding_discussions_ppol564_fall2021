{
 "cells": [
  {
   "cell_type": "code",
   "execution_count": 1,
   "id": "099df36f",
   "metadata": {},
   "outputs": [
    {
     "data": {
      "text/plain": [
       "10080"
      ]
     },
     "execution_count": 1,
     "metadata": {},
     "output_type": "execute_result"
    }
   ],
   "source": [
    "## Read in the data (we would provide this)\n",
    "import csv\n",
    "with open('us-states.csv') as file:\n",
    "    state_covid_data = []\n",
    "    for row in csv.reader(file):\n",
    "        state_covid_data.append(row)\n",
    "\n",
    "len(state_covid_data)"
   ]
  },
  {
   "cell_type": "code",
   "execution_count": 16,
   "id": "0630d79d",
   "metadata": {},
   "outputs": [
    {
     "data": {
      "text/plain": [
       "[['date', 'state', 'fips', 'cases', 'deaths'],\n",
       " ['2020-01-21', 'Washington', '53', '1', '0'],\n",
       " ['2020-01-22', 'Washington', '53', '1', '0'],\n",
       " ['2020-01-23', 'Washington', '53', '1', '0'],\n",
       " ['2020-01-24', 'Illinois', '17', '1', '0']]"
      ]
     },
     "execution_count": 16,
     "metadata": {},
     "output_type": "execute_result"
    }
   ],
   "source": [
    "state_covid_data[:5]"
   ]
  },
  {
   "cell_type": "code",
   "execution_count": 54,
   "id": "8023225d",
   "metadata": {},
   "outputs": [
    {
     "name": "stdout",
     "output_type": "stream",
     "text": [
      "2020-01-24\n",
      "Washington\n"
     ]
    }
   ],
   "source": [
    "#test: reference date test\n",
    "list_test = state_covid_data[1:][4]\n",
    "print(list_test[0])\n",
    "\n",
    "#test: reference state\n",
    "print(list_test[1])"
   ]
  },
  {
   "cell_type": "code",
   "execution_count": 61,
   "id": "18938747",
   "metadata": {},
   "outputs": [
    {
     "name": "stdout",
     "output_type": "stream",
     "text": [
      "There are 225 unique dates.\n"
     ]
    }
   ],
   "source": [
    "##Q1: Count up the number of _unique_ dates in the data. \n",
    "\n",
    "\n",
    "\n",
    "#Create empty list to store unique dates\n",
    "dateStore = []\n",
    "\n",
    "#Iterate through the data\n",
    "for i in range(0, len(state_covid_data)-1):\n",
    "    list_1 = state_covid_data[1:][i]\n",
    "    \n",
    "    #Update list if it does not already contain iteration's date\n",
    "    if list_1[0] not in dateStore:\n",
    "        dateStore.append(list_1[0])\n",
    "\n",
    "#Count the number of unique dates and print        \n",
    "print(\"There are \" + str(len(dateStore)) + \" unique dates.\")"
   ]
  },
  {
   "cell_type": "code",
   "execution_count": 62,
   "id": "1bb05d61",
   "metadata": {},
   "outputs": [
    {
     "name": "stdout",
     "output_type": "stream",
     "text": [
      "The first date for which DC recorded a case was 2020-03-07.\n"
     ]
    }
   ],
   "source": [
    "##Q2: Find the first date in which the District of Columbia recorded a case. \n",
    "\n",
    "\n",
    "\n",
    "#Indicator: 0 when searching, 1 when DC has been found\n",
    "dcFound = 0\n",
    "\n",
    "#Counter\n",
    "i = 0\n",
    "\n",
    "#Print iteration's date when DC first found in data\n",
    "#Terminate when DC has been found (dcFound=1) or data search complete\n",
    "while dcFound == 0 and i<(len(state_covid_data)-1):\n",
    "    list_1 = state_covid_data[1:][i]\n",
    "    if list_1[1] == 'District of Columbia':\n",
    "        dcFound = 1\n",
    "        print('The first date for which DC recorded a case was ' + str(list_1[0])+'.')\n",
    "    i +=1\n"
   ]
  },
  {
   "cell_type": "code",
   "execution_count": 63,
   "id": "7c560c37",
   "metadata": {},
   "outputs": [
    {
     "name": "stdout",
     "output_type": "stream",
     "text": [
      "2020-03-07\n",
      "2020-02-05\n",
      "\n",
      "Illinois first case date: 2020-01-24\n",
      "Guam first case date: 2020-03-15\n",
      "American Samoa first case date: No cases found.\n"
     ]
    }
   ],
   "source": [
    "##Q3: Write a function that takes in a _state name_ as input (e.g. \"Wisconsin\") and outputs the date of \n",
    "##    its first case.\n",
    "\n",
    "\n",
    "\n",
    "##Function: locate_date\n",
    "##Input(string): Takes in a state name \n",
    "##Return(string): Returns the first date for which that state recorded a case\n",
    "def locate_date(stName):\n",
    "    \n",
    "    #Indicator: 0 when searching, 1 when state has been found\n",
    "    stFound = 0\n",
    "    \n",
    "    #Counter\n",
    "    i = 0\n",
    "    \n",
    "    #Save case1 as iteration's date when state first found in data\n",
    "    #Terminate when state has been found (stFound=1) or data search complete\n",
    "    while stFound == 0 and i<(len(state_covid_data)-1):\n",
    "        list_1 = state_covid_data[1:][i]\n",
    "        if list_1[1] == stName:\n",
    "            stFound = 1\n",
    "            case1 = str(list_1[0])\n",
    "        i +=1\n",
    "        \n",
    "    #Create output if state not found in data\n",
    "    if stFound == 0:\n",
    "        case1 = \"No cases found.\"\n",
    "    \n",
    "    #Return date of first case\n",
    "    return(case1)\n",
    "\n",
    "\n",
    "##TEST CASES\n",
    "#\n",
    "#test function with DC, Wisconsin\n",
    "print(locate_date('District of Columbia'))\n",
    "print(locate_date('Wisconsin'))\n",
    "\n",
    "#additional print statements to test\n",
    "print('\\nIllinois first case date: '+ locate_date('Illinois'))\n",
    "print('Guam first case date: ' + locate_date('Guam'))\n",
    "print('American Samoa first case date: ' + locate_date('American Samoa'))\n",
    "\n"
   ]
  },
  {
   "cell_type": "code",
   "execution_count": null,
   "id": "554c3ae5",
   "metadata": {},
   "outputs": [],
   "source": [
    "\n"
   ]
  },
  {
   "cell_type": "code",
   "execution_count": null,
   "id": "8d4a2864",
   "metadata": {},
   "outputs": [],
   "source": []
  }
 ],
 "metadata": {
  "kernelspec": {
   "display_name": "Python 3 (ipykernel)",
   "language": "python",
   "name": "python3"
  },
  "language_info": {
   "codemirror_mode": {
    "name": "ipython",
    "version": 3
   },
   "file_extension": ".py",
   "mimetype": "text/x-python",
   "name": "python",
   "nbconvert_exporter": "python",
   "pygments_lexer": "ipython3",
   "version": "3.9.7"
  }
 },
 "nbformat": 4,
 "nbformat_minor": 5
}
