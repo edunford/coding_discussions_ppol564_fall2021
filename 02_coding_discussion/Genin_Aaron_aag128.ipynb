{
 "cells": [
  {
   "cell_type": "code",
   "execution_count": 1,
   "source": [
    "import csv\r\n",
    "with open('us-states.csv') as file:\r\n",
    "    state_covid_data = []\r\n",
    "    for row in csv.reader(file):\r\n",
    "        state_covid_data.append(row)\r\n",
    "\r\n",
    "len(state_covid_data)"
   ],
   "outputs": [
    {
     "output_type": "execute_result",
     "data": {
      "text/plain": [
       "10080"
      ]
     },
     "metadata": {},
     "execution_count": 1
    }
   ],
   "metadata": {}
  },
  {
   "cell_type": "markdown",
   "source": [
    "1."
   ],
   "metadata": {}
  },
  {
   "cell_type": "code",
   "execution_count": 14,
   "source": [
    "#set is a list of unique values\r\n",
    "unique_dates = set()\r\n",
    "#arrays provides arrays of all values within the data, excluding header\r\n",
    "for arrays in state_covid_data[1:]:\r\n",
    "    #arrays[0] to get dates only\r\n",
    "    unique_dates.add(arrays[0])\r\n",
    "len(unique_dates)"
   ],
   "outputs": [
    {
     "output_type": "execute_result",
     "data": {
      "text/plain": [
       "225"
      ]
     },
     "metadata": {},
     "execution_count": 14
    }
   ],
   "metadata": {}
  },
  {
   "cell_type": "markdown",
   "source": [
    "2."
   ],
   "metadata": {}
  },
  {
   "cell_type": "code",
   "execution_count": 10,
   "source": [
    "for arrays in state_covid_data[1:]:\r\n",
    "    #searches for equivalence in state\r\n",
    "    if arrays[1] == \"District of Columbia\":\r\n",
    "        print(arrays[0])\r\n",
    "        #stops loop from progressing, moves to previous level\r\n",
    "        break\r\n"
   ],
   "outputs": [
    {
     "output_type": "stream",
     "name": "stdout",
     "text": [
      "2020-03-07\n"
     ]
    }
   ],
   "metadata": {}
  },
  {
   "cell_type": "markdown",
   "source": [
    "3."
   ],
   "metadata": {}
  },
  {
   "cell_type": "code",
   "execution_count": 13,
   "source": [
    "def first_date(state):\r\n",
    "    for arrays in state_covid_data[1:]:\r\n",
    "    #searches for equivalence in state\r\n",
    "        if arrays[1] == state:\r\n",
    "            print(arrays[0])\r\n",
    "            #stops loop from progressing, moves to previous level\r\n",
    "            break\r\n",
    "first_date(\"Wisconsin\")"
   ],
   "outputs": [
    {
     "output_type": "stream",
     "name": "stdout",
     "text": [
      "2020-02-05\n"
     ]
    }
   ],
   "metadata": {}
  }
 ],
 "metadata": {
  "orig_nbformat": 4,
  "language_info": {
   "name": "python",
   "version": "3.9.5",
   "mimetype": "text/x-python",
   "codemirror_mode": {
    "name": "ipython",
    "version": 3
   },
   "pygments_lexer": "ipython3",
   "nbconvert_exporter": "python",
   "file_extension": ".py"
  },
  "kernelspec": {
   "name": "python3",
   "display_name": "Python 3.9.5 64-bit"
  },
  "interpreter": {
   "hash": "28a81214f7478740f45598c48c99274242b50f964bf4d41318ceccbdc4979f9f"
  }
 },
 "nbformat": 4,
 "nbformat_minor": 2
}