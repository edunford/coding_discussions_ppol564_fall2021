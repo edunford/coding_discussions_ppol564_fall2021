{
 "cells": [
  {
   "cell_type": "code",
   "execution_count": 1,
   "id": "f1026d21",
   "metadata": {},
   "outputs": [
    {
     "data": {
      "text/plain": [
       "10080"
      ]
     },
     "execution_count": 1,
     "metadata": {},
     "output_type": "execute_result"
    }
   ],
   "source": [
    "# import data\n",
    "import csv\n",
    "with open('us-states.csv') as file:\n",
    "    state_covid_data = []\n",
    "    for row in csv.reader(file):\n",
    "        state_covid_data.append(row)\n",
    "\n",
    "len(state_covid_data)"
   ]
  },
  {
   "cell_type": "code",
   "execution_count": 2,
   "id": "f2a3199f",
   "metadata": {},
   "outputs": [
    {
     "data": {
      "text/plain": [
       "[['date', 'state', 'fips', 'cases', 'deaths'],\n",
       " ['2020-01-21', 'Washington', '53', '1', '0'],\n",
       " ['2020-01-22', 'Washington', '53', '1', '0'],\n",
       " ['2020-01-23', 'Washington', '53', '1', '0'],\n",
       " ['2020-01-24', 'Illinois', '17', '1', '0']]"
      ]
     },
     "execution_count": 2,
     "metadata": {},
     "output_type": "execute_result"
    }
   ],
   "source": [
    "# show first 5 rows\n",
    "state_covid_data[:5]"
   ]
  },
  {
   "cell_type": "code",
   "execution_count": 16,
   "id": "9883867f",
   "metadata": {},
   "outputs": [
    {
     "name": "stdout",
     "output_type": "stream",
     "text": [
      "There are 225 unique dates.\n"
     ]
    }
   ],
   "source": [
    "# count number of unique dates in data\n",
    "dates = [] #create empty list\n",
    "\n",
    "for row in state_covid_data: #loop through all date subsets\n",
    "    date = row[0] #extract index 0 from all rows\n",
    "    dates.append(date) #add each date to dates list\n",
    "    \n",
    "print(\"There are\", str(len(set(dates))), \"unique dates.\") #use set() to get unique dates"
   ]
  },
  {
   "cell_type": "code",
   "execution_count": 39,
   "id": "0e3d16fe",
   "metadata": {},
   "outputs": [
    {
     "name": "stdout",
     "output_type": "stream",
     "text": [
      "The first date in which the District of Columbia recorded a case was 2020-03-07 .\n"
     ]
    }
   ],
   "source": [
    "# find first date where DC recorded a case\n",
    "\n",
    "for row in state_covid_data: #create loop to go through all rows\n",
    "    if (row[1] == 'District of Columbia'): #find first row where District of Columbia is recorded\n",
    "        print(\"The first date in which the District of Columbia recorded a case was\", str(row[0]),\".\")\n",
    "        break #and then break to only have the first line\n",
    "        \n"
   ]
  },
  {
   "cell_type": "code",
   "execution_count": 73,
   "id": "e3c90f5c",
   "metadata": {},
   "outputs": [
    {
     "name": "stdout",
     "output_type": "stream",
     "text": [
      "2020-03-13\n"
     ]
    }
   ],
   "source": [
    "# write function that takes in state name and ouputs date of first recorded case\n",
    "\n",
    "def first_case(state):\n",
    "    '''This function takes in a state as input, loops through the rows of the data until it finds the state, and outputs the date of the first appearance of the state on the list.\n",
    "    Arguments: state\n",
    "    Returns: date'''\n",
    "    for row in state_covid_data:\n",
    "        if (row[1] == state):\n",
    "            print(row[0])\n",
    "            break\n",
    "\n",
    "first_case(\"Idaho\")"
   ]
  },
  {
   "cell_type": "code",
   "execution_count": 75,
   "id": "01116c75",
   "metadata": {},
   "outputs": [
    {
     "name": "stdout",
     "output_type": "stream",
     "text": [
      "2020-05-15\n"
     ]
    }
   ],
   "source": [
    "# write function that takes in state name and ouputs dates where recorded cases exceeded 1000\n",
    "\n",
    "def over_1000(state):\n",
    "    '''This function takes in a state as input, loops through the rows of the data that have the state name, and adds the number of cases to the count value until the number exceeds 1000, after which it will print out the date where cases exceeded 1000.\n",
    "    Arguments: state\n",
    "    Returns: date'''\n",
    "    count = 0\n",
    "    for row in state_covid_data:\n",
    "        if (row[1] == state):\n",
    "            if (count < 1000):\n",
    "                count = count + int(row[2])\n",
    "            else:\n",
    "                print(row[0])\n",
    "                break\n",
    "\n",
    "over_1000(\"Idaho\")"
   ]
  }
 ],
 "metadata": {
  "kernelspec": {
   "display_name": "Python 3",
   "language": "python",
   "name": "python3"
  },
  "language_info": {
   "codemirror_mode": {
    "name": "ipython",
    "version": 3
   },
   "file_extension": ".py",
   "mimetype": "text/x-python",
   "name": "python",
   "nbconvert_exporter": "python",
   "pygments_lexer": "ipython3",
   "version": "3.8.8"
  }
 },
 "nbformat": 4,
 "nbformat_minor": 5
}
