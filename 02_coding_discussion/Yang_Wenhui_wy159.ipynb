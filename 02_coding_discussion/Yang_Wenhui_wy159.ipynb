{
 "cells": [
  {
   "cell_type": "code",
   "execution_count": 1,
   "id": "f546456e",
   "metadata": {},
   "outputs": [
    {
     "data": {
      "text/plain": [
       "10080"
      ]
     },
     "execution_count": 1,
     "metadata": {},
     "output_type": "execute_result"
    }
   ],
   "source": [
    "## Read in the data (we would provide this)\n",
    "import csv\n",
    "with open('us-states.csv') as file:\n",
    "    state_covid_data = []\n",
    "    for row in csv.reader(file):\n",
    "        state_covid_data.append(row)\n",
    "\n",
    "len(state_covid_data)"
   ]
  },
  {
   "cell_type": "markdown",
   "id": "87b1f137",
   "metadata": {},
   "source": [
    "#  (1) Count up the number of unique dates in the data."
   ]
  },
  {
   "cell_type": "code",
   "execution_count": 2,
   "id": "965647d7",
   "metadata": {},
   "outputs": [
    {
     "name": "stdout",
     "output_type": "stream",
     "text": [
      "There are 225 unique dates in the data.\n"
     ]
    }
   ],
   "source": [
    "# Extract the date column\n",
    "date = []\n",
    "for i in range(1,len(state_covid_data)):\n",
    "    date.append(state_covid_data[i][0])\n",
    "\n",
    "# Use set to eliminate repeat dates\n",
    "date_set = set(date)\n",
    "len(date_set)\n",
    "print(\"There are\",len(date_set),\"unique dates in the data.\")"
   ]
  },
  {
   "cell_type": "markdown",
   "id": "271c2a32",
   "metadata": {},
   "source": [
    "# (2) Find the first date in which the District of Columbia recorded a case"
   ]
  },
  {
   "cell_type": "code",
   "execution_count": 3,
   "id": "a24cf2d0",
   "metadata": {},
   "outputs": [
    {
     "name": "stdout",
     "output_type": "stream",
     "text": [
      "The first date in which the District of Columbia recorded a case is 2020-01-21\n"
     ]
    }
   ],
   "source": [
    "# Extract date data for District of Columbia. \n",
    "DC = []\n",
    "for i in range(1,len(state_covid_data)):\n",
    "    if(state_covid_data[i][1] == \"Washington\"):\n",
    "        DC.append(state_covid_data[i][0])\n",
    "\n",
    "# Find the date of the first case\n",
    "DC_first = min(DC)\n",
    "print(\"The first date in which the District of Columbia recorded a case is\",DC_first)\n"
   ]
  },
  {
   "cell_type": "markdown",
   "id": "425e6d62",
   "metadata": {},
   "source": [
    "# (3) Write a function that takes in a state name as input (e.g. \"Wisconsin\") and outputs the date of its first case."
   ]
  },
  {
   "cell_type": "code",
   "execution_count": 5,
   "id": "5a42df3c",
   "metadata": {},
   "outputs": [
    {
     "ename": "IndentationError",
     "evalue": "unindent does not match any outer indentation level (<tokenize>, line 14)",
     "output_type": "error",
     "traceback": [
      "\u001b[1;36m  File \u001b[1;32m\"<tokenize>\"\u001b[1;36m, line \u001b[1;32m14\u001b[0m\n\u001b[1;33m    output = []\u001b[0m\n\u001b[1;37m    ^\u001b[0m\n\u001b[1;31mIndentationError\u001b[0m\u001b[1;31m:\u001b[0m unindent does not match any outer indentation level\n"
     ]
    }
   ],
   "source": [
    "def first_case(state):\n",
    "    \n",
    "     \"\"\"\n",
    "    This function calculates date of its first case for a given state,\n",
    "       \n",
    "    Arguments:\n",
    "    state: Name of the given State.\n",
    "    \n",
    "    Return: \n",
    "    The date of its first case for a given state.\n",
    "   \n",
    "    \"\"\"\n",
    "    \n",
    "    output = []\n",
    "    for i in range(1,len(state_covid_data)):\n",
    "        if(state_covid_data[i][1] == state):\n",
    "            output.append(state_covid_data[i][0])\n",
    "    final = min(output)\n",
    "    return(final)\n",
    "\n",
    "first_case(\"Wisconsin\") "
   ]
  },
  {
   "cell_type": "code",
   "execution_count": null,
   "id": "30f1ff0c",
   "metadata": {},
   "outputs": [],
   "source": [
    "# States and dates of their first cases.\n",
    "\n",
    "state_unique = []\n",
    "for i in range(1,len(state_covid_data)):\n",
    "    if((state_covid_data[i][1] in state_unique)==0):\n",
    "        state_unique.append(state_covid_data[i][1])\n",
    "\n",
    "for i in state_unique:\n",
    "    print(i,first_case(i))\n"
   ]
  },
  {
   "cell_type": "markdown",
   "id": "ee703ba9",
   "metadata": {},
   "source": [
    "# (Optional) Bonus\n",
    "# Write a function that takes in a state name as input (e.g. \"Wisconsin\") and outputs the date when the number of reported cases within the state exceeded 1000.\n"
   ]
  },
  {
   "cell_type": "code",
   "execution_count": 6,
   "id": "be36c9d3",
   "metadata": {},
   "outputs": [
    {
     "name": "stdout",
     "output_type": "stream",
     "text": [
      "The first day that reported cases within the state exceeded 1000 for Wisconsin is 2020-03-28\n"
     ]
    }
   ],
   "source": [
    "def locate_date_1000(state):\n",
    "    \n",
    "    \"\"\"\n",
    "    This function calculates the date when the number of reported cases within a given state\n",
    "    exceeded 1000 by collecting all dates that exceed 1000\n",
    "    and then compare collected dates to get the first one.\n",
    "    \n",
    "    Arguments:\n",
    "    state: Name of the given State.\n",
    "    \n",
    "    Return: \n",
    "    The first date that reported cases exceed 1000 for the given state.\n",
    "   \n",
    "    \"\"\"\n",
    "    \n",
    "    locate_date = [] #collect all dates exceed 1000 for the state\n",
    "    x = [] #store the first day\n",
    "    for i in range(1,len(state_covid_data)):\n",
    "        if((state_covid_data[i][1] == state) & (int(state_covid_data[i][3]) > 1000)):\n",
    "            locate_date.append(state_covid_data[i][0])\n",
    "            x = min(locate_date)\n",
    "    return(x)\n",
    "\n",
    "print(\"The first day that reported cases within the state exceeded 1000 for Wisconsin is\",locate_date_1000(\"Wisconsin\"))"
   ]
  }
 ],
 "metadata": {
  "kernelspec": {
   "display_name": "Python 3",
   "language": "python",
   "name": "python3"
  },
  "language_info": {
   "codemirror_mode": {
    "name": "ipython",
    "version": 3
   },
   "file_extension": ".py",
   "mimetype": "text/x-python",
   "name": "python",
   "nbconvert_exporter": "python",
   "pygments_lexer": "ipython3",
   "version": "3.9.4"
  }
 },
 "nbformat": 4,
 "nbformat_minor": 5
}
