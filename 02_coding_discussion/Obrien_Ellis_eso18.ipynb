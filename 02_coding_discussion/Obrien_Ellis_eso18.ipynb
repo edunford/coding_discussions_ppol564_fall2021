{
 "cells": [
  {
   "cell_type": "code",
   "execution_count": 39,
   "id": "7dfb3687",
   "metadata": {},
   "outputs": [
    {
     "data": {
      "text/plain": [
       "10080"
      ]
     },
     "execution_count": 39,
     "metadata": {},
     "output_type": "execute_result"
    }
   ],
   "source": [
    "## Read in the data \n",
    "import csv\n",
    "with open('us-states.csv') as file:\n",
    "    state_covid_data = []\n",
    "    for row in csv.reader(file):\n",
    "        state_covid_data.append(row)\n",
    "## Length of data set\n",
    "len(state_covid_data)"
   ]
  },
  {
   "cell_type": "code",
   "execution_count": 40,
   "id": "e6aa2321",
   "metadata": {},
   "outputs": [
    {
     "data": {
      "text/plain": [
       "[['date', 'state', 'fips', 'cases', 'deaths'],\n",
       " ['2020-01-21', 'Washington', '53', '1', '0'],\n",
       " ['2020-01-22', 'Washington', '53', '1', '0'],\n",
       " ['2020-01-23', 'Washington', '53', '1', '0'],\n",
       " ['2020-01-24', 'Illinois', '17', '1', '0']]"
      ]
     },
     "execution_count": 40,
     "metadata": {},
     "output_type": "execute_result"
    }
   ],
   "source": [
    "#Viewing data \n",
    "state_covid_data[:5]\n"
   ]
  },
  {
   "cell_type": "markdown",
   "id": "c31d999e",
   "metadata": {},
   "source": [
    "### (1) Count up the number of _unique_ dates in the data. "
   ]
  },
  {
   "cell_type": "code",
   "execution_count": 53,
   "id": "13fceb42",
   "metadata": {},
   "outputs": [
    {
     "name": "stdout",
     "output_type": "stream",
     "text": [
      "225\n"
     ]
    }
   ],
   "source": [
    "#Creating unique dates list \n",
    "unique_list=[]\n",
    "\n",
    "#looping through each row to append it to the date list \n",
    "for i in range(len(state_covid_data[1:])):\n",
    "     unique_list.append(state_covid_data[i+1][0])\n",
    "\n",
    "#converting list to set to get unique values and printing the length        \n",
    "print(len(set(unique_list)))"
   ]
  },
  {
   "cell_type": "markdown",
   "id": "63204b41",
   "metadata": {},
   "source": [
    "### (2) Find the first date in which the District of Columbia recorded a case. "
   ]
  },
  {
   "cell_type": "code",
   "execution_count": 61,
   "id": "812f419c",
   "metadata": {},
   "outputs": [
    {
     "name": "stdout",
     "output_type": "stream",
     "text": [
      "2020-03-07\n"
     ]
    }
   ],
   "source": [
    "#Creating a list to store DC date data \n",
    "DC_First_Case=[]\n",
    "\n",
    "#looping through each row and adding it to the list if state is DC \n",
    "for i in range(len(state_covid_data[1:])):\n",
    "        if (state_covid_data[i+1][1])== \"District of Columbia\":\n",
    "            DC_First_Case.append(state_covid_data[i+1][0])\n",
    "\n",
    "#Printing the date of the first DC case             \n",
    "print(DC_First_Case[0])"
   ]
  },
  {
   "cell_type": "markdown",
   "id": "56ab9f82",
   "metadata": {},
   "source": [
    "### (3) Write a function that takes in a _state name_ as input (e.g. \"Wisconsin\") and outputs the date of its first case."
   ]
  },
  {
   "cell_type": "code",
   "execution_count": 64,
   "id": "286642f7",
   "metadata": {},
   "outputs": [],
   "source": [
    "#Creating list for first case \n",
    "First_Case=[]\n",
    "\n",
    "\n",
    "#creating state first case function \n",
    "def statefunction(statename=\"\"):\n",
    "    '''\n",
    "    This function provides the date of the first recorded covid case in the input state.\n",
    "    \n",
    "    Arguements\n",
    "    ---------------------------------\n",
    "    statename: name of state of interest.\n",
    "    \n",
    "    Outputs\n",
    "    ---------------------------------\n",
    "    date of input states first recorded covid case.. \n",
    "    '''\n",
    "#looping through each row and adding it to the list if is the appropriate state \n",
    "    for i in range(len(state_covid_data[1:])):\n",
    "        if (state_covid_data[i+1][1])== statename:\n",
    "            First_Case.append(state_covid_data[i+1][0])\n",
    "    #printing first case \n",
    "    print(First_Case[0])\n"
   ]
  },
  {
   "cell_type": "code",
   "execution_count": 65,
   "id": "c521678a",
   "metadata": {},
   "outputs": [
    {
     "name": "stdout",
     "output_type": "stream",
     "text": [
      "2020-01-21\n"
     ]
    }
   ],
   "source": [
    "statefunction(statename=\"Washington\")"
   ]
  },
  {
   "cell_type": "markdown",
   "id": "498b36c8",
   "metadata": {},
   "source": [
    "### Write a function that takes in a _state name_ as input (e.g. \"Wisconsin\") and outputs the date when the number of reported cases within the state exceeded 1000."
   ]
  },
  {
   "cell_type": "code",
   "execution_count": 81,
   "id": "2d4c4428",
   "metadata": {},
   "outputs": [],
   "source": [
    "#Creating list for first case \n",
    "First_Case_Over_1000=[]\n",
    "\n",
    "\n",
    "#creating state first case function \n",
    "def statefunction1000(statename=\"\"):\n",
    "    '''\n",
    "    This function provides the date of the input states first day exceeding 1000 Covid cases.\n",
    "    \n",
    "    Arguements\n",
    "    ---------------------------------\n",
    "    statename: name of state of interest.\n",
    "    \n",
    "    Outputs\n",
    "    ---------------------------------\n",
    "    date of input states first recorded covid case.. \n",
    "    '''\n",
    "#looping through each row and adding it to the list if is the appropriate state and over 1000\n",
    "    for i in range(len(state_covid_data[1:])):\n",
    "        if (state_covid_data[i+1][1])== statename and int(state_covid_data[i+1][3]) > 1000:\n",
    "            First_Case_Over_1000.append(state_covid_data[i+1][0])\n",
    "    #printing first case over 1000 \n",
    "    print(First_Case_Over_1000[0])\n"
   ]
  },
  {
   "cell_type": "code",
   "execution_count": 82,
   "id": "7fbd1e4e",
   "metadata": {},
   "outputs": [
    {
     "name": "stdout",
     "output_type": "stream",
     "text": [
      "2020-03-18\n"
     ]
    }
   ],
   "source": [
    "statefunction1000(statename=\"Washington\")"
   ]
  },
  {
   "cell_type": "code",
   "execution_count": null,
   "id": "f7cec248",
   "metadata": {},
   "outputs": [],
   "source": []
  }
 ],
 "metadata": {
  "kernelspec": {
   "display_name": "Python 3",
   "language": "python",
   "name": "python3"
  },
  "language_info": {
   "codemirror_mode": {
    "name": "ipython",
    "version": 3
   },
   "file_extension": ".py",
   "mimetype": "text/x-python",
   "name": "python",
   "nbconvert_exporter": "python",
   "pygments_lexer": "ipython3",
   "version": "3.8.8"
  }
 },
 "nbformat": 4,
 "nbformat_minor": 5
}
