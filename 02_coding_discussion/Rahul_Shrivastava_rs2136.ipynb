{
 "cells": [
  {
   "cell_type": "markdown",
   "id": "f717c66c",
   "metadata": {},
   "source": [
    "# Coding Discussion 2\n",
    "__Rahul Shrivastava__\n",
    "\n",
    "### Set Up"
   ]
  },
  {
   "cell_type": "code",
   "execution_count": 1,
   "id": "da338124",
   "metadata": {},
   "outputs": [
    {
     "data": {
      "text/plain": [
       "10080"
      ]
     },
     "execution_count": 1,
     "metadata": {},
     "output_type": "execute_result"
    }
   ],
   "source": [
    "import csv\n",
    "with open('us-states.csv') as file:\n",
    "    state_covid_data = []\n",
    "    for row in csv.reader(file):\n",
    "        state_covid_data.append(row)\n",
    "\n",
    "len(state_covid_data)"
   ]
  },
  {
   "cell_type": "markdown",
   "id": "d0c4c0e6",
   "metadata": {},
   "source": [
    "Check file for data and correct loading below."
   ]
  },
  {
   "cell_type": "code",
   "execution_count": 2,
   "id": "939d06e3",
   "metadata": {},
   "outputs": [
    {
     "data": {
      "text/plain": [
       "[['date', 'state', 'fips', 'cases', 'deaths'],\n",
       " ['2020-01-21', 'Washington', '53', '1', '0'],\n",
       " ['2020-01-22', 'Washington', '53', '1', '0'],\n",
       " ['2020-01-23', 'Washington', '53', '1', '0'],\n",
       " ['2020-01-24', 'Illinois', '17', '1', '0']]"
      ]
     },
     "execution_count": 2,
     "metadata": {},
     "output_type": "execute_result"
    }
   ],
   "source": [
    "state_covid_data[:5]"
   ]
  },
  {
   "cell_type": "markdown",
   "id": "566ff04e",
   "metadata": {},
   "source": [
    "### Question 1\n",
    "\n",
    "Counting up the number of unique dates in the data using set function"
   ]
  },
  {
   "cell_type": "code",
   "execution_count": 33,
   "id": "b7cb84fd",
   "metadata": {},
   "outputs": [
    {
     "name": "stdout",
     "output_type": "stream",
     "text": [
      "Unique dates = 226\n"
     ]
    }
   ],
   "source": [
    "#Subsetting for all dates in a list named 'dates'\n",
    "dates = []\n",
    "\n",
    "# Using for loop to add all dates to the list 'dates'\n",
    "for row in state_covid_data:\n",
    "    date = row[0]\n",
    "    dates.append(date)\n",
    "\n",
    "# Using set method for selecting distinct elements from 'dates' into 'uni_dates'\n",
    "uni_dates = set(dates)\n",
    "\n",
    "# Print the length of the set 'uni_dates' as output\n",
    "print('Unique dates =' + ' ' + str(len(uni_dates)))\n"
   ]
  },
  {
   "cell_type": "markdown",
   "id": "d9086d20",
   "metadata": {},
   "source": [
    "### Question 2\n",
    "\n",
    "Finding the first date in which the District of Columbia recorded a case using ..."
   ]
  },
  {
   "cell_type": "code",
   "execution_count": 81,
   "id": "ad301cc0",
   "metadata": {},
   "outputs": [
    {
     "name": "stdout",
     "output_type": "stream",
     "text": [
      "The first case reported in DC was on 2020-03-07\n"
     ]
    }
   ],
   "source": [
    "# Create a list for all data for DC\n",
    "DC_list = []\n",
    "\n",
    "# Create a for loop to extract all values for the state of DC into the list 'DC_list'\n",
    "for row in state_covid_data[1:]:\n",
    "    state = row[1]\n",
    "    if state == \"District of Columbia\":\n",
    "        DC_list.append(row)\n",
    "    \n",
    "# Sort the list 'DC_list' by the dates and add this to a new list named 'firstDC'\n",
    "firstDC = [sorted(DC_list)[i] for i in (0,)]\n",
    "\n",
    "# Print the output with the first element of the first row and column for the list 'firstDC'\n",
    "print(\"The first case reported in DC was on \" + firstDC[0][0])"
   ]
  },
  {
   "cell_type": "markdown",
   "id": "f4b0823b",
   "metadata": {},
   "source": [
    "### Question 3\n",
    "\n",
    "Write a function that takes in a state name as input (e.g. \"Wisconsin\") and outputs the date of its first case."
   ]
  },
  {
   "cell_type": "code",
   "execution_count": 148,
   "id": "123d9cb4",
   "metadata": {},
   "outputs": [
    {
     "name": "stdout",
     "output_type": "stream",
     "text": [
      "First case in Texas was on 2020-02-12\n",
      "Please enter correct name\n"
     ]
    }
   ],
   "source": [
    "# Defining a function called 'first_case'\n",
    "def first_case(state_name):\n",
    "\n",
    "# Creating a list of states and running for loop to identify and append all state rows of the entered state name\n",
    "    state_list = list()\n",
    "    for row in state_covid_data:\n",
    "        state = row[1]\n",
    "        if state == state_name:\n",
    "            state_list.append(row)\n",
    "# Using len argument to identify the first case by sorted values and printing out the output\n",
    "    if len(state_list) > 0:\n",
    "        print('First case in ' + state_name + ' was on ' + state_list[0][0])\n",
    "    else:\n",
    "        print('Please enter correct name')\n",
    "            \n",
    "first_case(\"Texas\")\n",
    "first_case(\"Mexico\")"
   ]
  },
  {
   "cell_type": "markdown",
   "id": "6365e8c2",
   "metadata": {},
   "source": [
    "### Bonus\n",
    "Write a function that takes in a state name as input (e.g. \"Wisconsin\") and outputs the date when the number of reported cases within the state exceeded 1000."
   ]
  },
  {
   "cell_type": "code",
   "execution_count": 147,
   "id": "48fe7853",
   "metadata": {},
   "outputs": [
    {
     "name": "stdout",
     "output_type": "stream",
     "text": [
      "2020-03-17\n",
      "2020-03-28\n",
      "Result not found\n"
     ]
    }
   ],
   "source": [
    "def locate_date_1000(state_name):\n",
    "    \n",
    "    try:\n",
    "        state = [s for s in state_covid_data if state_name in s\n",
    "                 if int(str(s[3])) > 1000][0][0]\n",
    "        print(state)\n",
    "    except: \n",
    "        print('Result not found')\n",
    "    \n",
    "    \n",
    "   \n",
    "        \n",
    "            \n",
    "locate_date_1000(\"New York\")\n",
    "locate_date_1000(\"Indiana\")\n",
    "locate_date_1000(\"India\")"
   ]
  }
 ],
 "metadata": {
  "kernelspec": {
   "display_name": "Python 3",
   "language": "python",
   "name": "python3"
  },
  "language_info": {
   "codemirror_mode": {
    "name": "ipython",
    "version": 3
   },
   "file_extension": ".py",
   "mimetype": "text/x-python",
   "name": "python",
   "nbconvert_exporter": "python",
   "pygments_lexer": "ipython3",
   "version": "3.8.8"
  }
 },
 "nbformat": 4,
 "nbformat_minor": 5
}
