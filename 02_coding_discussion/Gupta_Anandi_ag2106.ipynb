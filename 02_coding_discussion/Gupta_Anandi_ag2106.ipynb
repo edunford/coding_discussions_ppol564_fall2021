{
 "cells": [
  {
   "cell_type": "code",
   "execution_count": 162,
   "id": "ae54ff78",
   "metadata": {},
   "outputs": [
    {
     "data": {
      "text/plain": [
       "10080"
      ]
     },
     "execution_count": 162,
     "metadata": {},
     "output_type": "execute_result"
    }
   ],
   "source": [
    "## Read in the data (we would provide this)\n",
    "import csv\n",
    "with open('/Users/anandigupta/Documents/GitHub/coding_discussions_ppol564_fall2021/02_coding_discussion/us-states.csv') as file:\n",
    "    state_covid_data = []\n",
    "    for row in csv.reader(file):\n",
    "        state_covid_data.append(row)\n",
    "\n",
    "len(state_covid_data)"
   ]
  },
  {
   "cell_type": "code",
   "execution_count": 163,
   "id": "19bc48ab",
   "metadata": {},
   "outputs": [
    {
     "data": {
      "text/plain": [
       "[['date', 'state', 'fips', 'cases', 'deaths'],\n",
       " ['2020-01-21', 'Washington', '53', '1', '0'],\n",
       " ['2020-01-22', 'Washington', '53', '1', '0'],\n",
       " ['2020-01-23', 'Washington', '53', '1', '0'],\n",
       " ['2020-01-24', 'Illinois', '17', '1', '0']]"
      ]
     },
     "execution_count": 163,
     "metadata": {},
     "output_type": "execute_result"
    }
   ],
   "source": [
    "state_covid_data[:5]"
   ]
  },
  {
   "cell_type": "code",
   "execution_count": 164,
   "id": "837d6fa5",
   "metadata": {},
   "outputs": [
    {
     "name": "stdout",
     "output_type": "stream",
     "text": [
      "225\n"
     ]
    }
   ],
   "source": [
    "#Question 1\n",
    "\n",
    "#Create an empty list for dates\n",
    "dates=[]\n",
    "\n",
    "#Create a loop that iterates over the dataset and appends dates to the dates list\n",
    "for i in range(1,len(state_covid_data)):\n",
    "    date=state_covid_data[i][0]\n",
    "    dates+=[date]\n",
    "\n",
    "a = set(dates)\n",
    "#count number of dates in set\n",
    "count = len(a)\n",
    "print(count)\n",
    "\n",
    "#225 unique dates"
   ]
  },
  {
   "cell_type": "code",
   "execution_count": 165,
   "id": "0e53087b",
   "metadata": {},
   "outputs": [
    {
     "name": "stdout",
     "output_type": "stream",
     "text": [
      "First case in D.C was on 2020-03-07\n"
     ]
    }
   ],
   "source": [
    "#Question 2\n",
    "\n",
    "#Create an empty list for D.C dates\n",
    "dates_dc=[]\n",
    "\n",
    "#Creating a loop that iterates over the dataset and appends dates to the dates list\n",
    "for i in range(1,len(state_covid_data)):\n",
    "    if state_covid_data[i][1] == \"District of Columbia\":\n",
    "        date_dc =state_covid_data[i][0]\n",
    "        dates_dc+=[date_dc]\n",
    "\n",
    "dates_dc.sort\n",
    "print(\"First case in D.C was on\", dates_dc[0])"
   ]
  },
  {
   "cell_type": "code",
   "execution_count": 166,
   "id": "9879a633",
   "metadata": {},
   "outputs": [],
   "source": [
    "#Create a list of unique states to check validity of inputs in question 3\n",
    "states = []\n",
    "\n",
    "for i in range(1,len(state_covid_data)):\n",
    "        state = state_covid_data[i][1]\n",
    "        states+=[state]\n",
    "        \n",
    "unique_states = set(states)"
   ]
  },
  {
   "cell_type": "code",
   "execution_count": 158,
   "id": "6764a947",
   "metadata": {},
   "outputs": [
    {
     "name": "stdout",
     "output_type": "stream",
     "text": [
      "First case in Alabama was on 2020-03-13\n",
      "Invalid state. Please check input.\n"
     ]
    }
   ],
   "source": [
    "#Question 3\n",
    "\n",
    "def state_first_case(state):\n",
    "    \n",
    "    \"\"\"\n",
    "    Finds date of first case in inputted state\n",
    "    \n",
    "    Arguments\n",
    "    ---------\n",
    "    state: str \n",
    "        A text string indicating which state the user is interested in\n",
    "    \n",
    "    return\n",
    "    ------\n",
    "    A statement showing date of first case in relevant state\n",
    "    \"\"\"\n",
    "    \n",
    "    if state in states:\n",
    "        #Create an empty list for state dates\n",
    "        dates_state=[]\n",
    "\n",
    "        #Creating a loop that iterates over the dataset and appends dates to the dates list\n",
    "        for i in range(1,len(state_covid_data)):\n",
    "            if state_covid_data[i][1] == state:\n",
    "                date_state =state_covid_data[i][0]\n",
    "                dates_state+=[date_state]\n",
    "\n",
    "        #sort the date\n",
    "        dates_state.sort\n",
    "        dates_state\n",
    "        print(\"First case in\", state, \"was on\", dates_state[0])\n",
    "    else: \n",
    "        print(\"Invalid state. Please check input.\")\n",
    "\n",
    "    \n",
    "state_first_case(\"Alabama\")\n",
    "state_first_case(\"Mexico\")"
   ]
  },
  {
   "cell_type": "code",
   "execution_count": 167,
   "id": "2d1c26e2",
   "metadata": {},
   "outputs": [
    {
     "name": "stdout",
     "output_type": "stream",
     "text": [
      "Cases were first higher than 1000 in New York on 2020-03-17\n",
      "Invalid state. Please check input.\n"
     ]
    }
   ],
   "source": [
    "#Bonus question\n",
    "def state_high_cases(state):\n",
    "    \n",
    "    \"\"\"\n",
    "    Finds first date with more than 1000 cases in inputted state\n",
    "    \n",
    "    Arguments\n",
    "    ---------\n",
    "    state: str \n",
    "        A text string indicating which state the user is interested in\n",
    "    \n",
    "    return\n",
    "    ------\n",
    "    A statement showing first date with more than 1000 cases in relevant state\n",
    "    \"\"\"\n",
    "    \n",
    "    if state in states:\n",
    "        #Create an empty list for state dates\n",
    "        dates_state_high=[]\n",
    "\n",
    "        #Creating a loop that iterates over the dataset and appends dates to the dates list\n",
    "        for i in range(1,len(state_covid_data)):\n",
    "            if state_covid_data[i][1] == state and int(state_covid_data[i][3]) > 1000:\n",
    "                date_state_high =state_covid_data[i][0]\n",
    "                dates_state_high+=[date_state_high]\n",
    "        \n",
    "        dates_state_high.sort\n",
    "        \n",
    "        print(\"Cases were first higher than 1000 in\", state, \"on\", dates_state_high[0])\n",
    "        \n",
    "    else: \n",
    "        print(\"Invalid state. Please check input.\")\n",
    "\n",
    "    \n",
    "state_high_cases(\"New York\")\n",
    "state_first_case(\"Mexico\")\n"
   ]
  },
  {
   "cell_type": "code",
   "execution_count": null,
   "id": "1acdb107",
   "metadata": {},
   "outputs": [],
   "source": []
  }
 ],
 "metadata": {
  "kernelspec": {
   "display_name": "Python 3",
   "language": "python",
   "name": "python3"
  },
  "language_info": {
   "codemirror_mode": {
    "name": "ipython",
    "version": 3
   },
   "file_extension": ".py",
   "mimetype": "text/x-python",
   "name": "python",
   "nbconvert_exporter": "python",
   "pygments_lexer": "ipython3",
   "version": "3.8.8"
  }
 },
 "nbformat": 4,
 "nbformat_minor": 5
}
