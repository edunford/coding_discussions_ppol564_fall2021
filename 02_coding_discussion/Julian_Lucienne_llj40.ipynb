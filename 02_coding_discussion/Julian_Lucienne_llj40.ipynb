{
 "cells": [
  {
   "cell_type": "code",
   "execution_count": 130,
   "metadata": {},
   "outputs": [
    {
     "data": {
      "text/plain": [
       "10080"
      ]
     },
     "execution_count": 130,
     "metadata": {},
     "output_type": "execute_result"
    }
   ],
   "source": [
    "## Reading in the csv data into a list\n",
    "\n",
    "import csv ## Required package\n",
    "with open('us-states.csv') as file : \n",
    "    state_covid_data = [] ## Intializing an empty list that'll contain the data\n",
    "    for row in csv.reader(file) : ## Reading in the data row by row\n",
    "        state_covid_data.append(row) ## Populating the list\n",
    "        \n",
    "len(state_covid_data) ## No. of observations "
   ]
  },
  {
   "cell_type": "code",
   "execution_count": 154,
   "metadata": {},
   "outputs": [],
   "source": [
    "## Function to count unique dates in data\n",
    "def count_date(data) :\n",
    "    \"\"\"\n",
    "    Function for finding the number of unique dates in the data set.\n",
    "    \n",
    "    Arguments\n",
    "    ~~~~~~~~~~~~\n",
    "    data -- The data to be used\n",
    "    \n",
    "    Return \n",
    "    ~~~~~~~~~~~~\n",
    "    NoUniqueDates -- No of unique dates\n",
    "    \n",
    "    \"\"\"\n",
    "    \n",
    "    dates = [] ## Empty list\n",
    "    titles = data[0] ## The column names\n",
    "    in_date = titles.index(\"date\") ## The index of dates column\n",
    "    \n",
    "    ## Finding the number of unique dates\n",
    "    for i in range(1, len(data)) :\n",
    "        obs = data[i] ## Takes in one row of observations\n",
    "        dates.append(obs[in_date])  ## Populating the list\n",
    "  \n",
    "    dates = set(dates) ## Getting the unique list\n",
    "    NoUniqueDates = len(dates) ## The number of unique dates\n",
    "    \n",
    "    return NoUniqueDates ## Returning the value \n",
    "        "
   ]
  },
  {
   "cell_type": "code",
   "execution_count": 155,
   "metadata": {},
   "outputs": [
    {
     "data": {
      "text/plain": [
       "225"
      ]
     },
     "execution_count": 155,
     "metadata": {},
     "output_type": "execute_result"
    }
   ],
   "source": [
    "count_date(state_covid_data)"
   ]
  },
  {
   "cell_type": "code",
   "execution_count": 141,
   "metadata": {},
   "outputs": [],
   "source": [
    "def DC_first_date(data) :\n",
    "    \"\"\"\n",
    "    Function for finding and returning the date when the first case was recorded in DC.\n",
    "    \n",
    "    Arguments\n",
    "    ~~~~~~~~~~~~\n",
    "    data -- The data to be used\n",
    "    \n",
    "    Return \n",
    "    ~~~~~~~~~~~~\n",
    "    date -- Containing the date when first case was recorded in DC\n",
    "    \n",
    "    \"\"\"\n",
    "    dates = [] ## Empty list initialised\n",
    "    titles = data[0] ## The column names\n",
    "    in_date = titles.index(\"date\") ## The index of dates column\n",
    "    in_state = titles.index(\"state\") ## The index of state column\n",
    "    \n",
    "    ## Searching for the date of first case\n",
    "    for i in range(1, len(data)) :\n",
    "        obs = data[i] ## Takes in one row of observations\n",
    "        if obs[in_state] == \"District of Columbia\" : ## Applying the condition\n",
    "            dates.append(obs[in_date]) ## Populating the list\n",
    "    \n",
    "    date = min(dates) ## The first case\n",
    "    \n",
    "    return date ## Returning the value"
   ]
  },
  {
   "cell_type": "code",
   "execution_count": 142,
   "metadata": {},
   "outputs": [
    {
     "data": {
      "text/plain": [
       "'2020-03-07'"
      ]
     },
     "execution_count": 142,
     "metadata": {},
     "output_type": "execute_result"
    }
   ],
   "source": [
    "DC_first_date(state_covid_data)"
   ]
  },
  {
   "cell_type": "code",
   "execution_count": 135,
   "metadata": {},
   "outputs": [],
   "source": [
    "def first_case(data, state) :\n",
    "    \"\"\"\n",
    "    Function for finding and returning the date when the first case was recorded in a given state.\n",
    "    \n",
    "    Arguments\n",
    "    ~~~~~~~~~~~~\n",
    "    data -- The data to be used\n",
    "    state -- The desired state \n",
    "    \n",
    "    Return \n",
    "    ~~~~~~~~~~~~\n",
    "    date -- Containing the date when first case was recorded\n",
    "    \n",
    "    \"\"\"\n",
    "    \n",
    "    dates = [] ## Empty list initialised\n",
    "    titles = data[0] ## The column names\n",
    "    in_date = titles.index(\"date\") ## The index of dates column\n",
    "    in_state = titles.index(\"state\") ## The index of state column\n",
    "    \n",
    "    ## Finding the first case for given state\n",
    "    for i in range(1, len(data)) :\n",
    "        obs = data[i] ## Takes in one row of observations\n",
    "        if obs[in_state] == state : ## Applying the condition\n",
    "            dates.append(obs[in_date]) ## Populating the list\n",
    "    \n",
    "    if len(dates) == 0 : ## If state name entered is not right\n",
    "        print(\"Please enter a valid state name!!\")\n",
    "        return None \n",
    "    else :     \n",
    "        date = min(dates) ## First case\n",
    "        return date ## Returning the value\n",
    "    \n",
    "    "
   ]
  },
  {
   "cell_type": "code",
   "execution_count": 156,
   "metadata": {},
   "outputs": [
    {
     "data": {
      "text/plain": [
       "'2020-02-05'"
      ]
     },
     "execution_count": 156,
     "metadata": {},
     "output_type": "execute_result"
    }
   ],
   "source": [
    "first_case(state_covid_data, \"Wisconsin\")"
   ]
  },
  {
   "cell_type": "code",
   "execution_count": 159,
   "metadata": {},
   "outputs": [],
   "source": [
    "def locate_date_1000(data, state) :\n",
    "    \"\"\"\n",
    "    Function for finding and returning the date when the cases recorded exceeded 1000 for a given state.\n",
    "    \n",
    "    Arguments\n",
    "    ~~~~~~~~~~~~\n",
    "    data -- The data to be used\n",
    "    state -- The desired state \n",
    "    \n",
    "    Return \n",
    "    ~~~~~~~~~~~~\n",
    "    dates[0] -- Containing the first date with 1000 cases \n",
    "    \n",
    "    \"\"\"\n",
    "    \n",
    "    dates = [] ## Empty list initialised\n",
    "    titles = data[0] ## The column names\n",
    "    in_date = titles.index(\"date\") ## The index of dates column\n",
    "    in_state = titles.index(\"state\") ## The index of state column\n",
    "    in_cases = titles.index(\"cases\") ## The index of cases column\n",
    "    \n",
    "    ## To check if entered state name is valid \n",
    "    for i in range(1, len(data)) :\n",
    "        obs = data[i]  ## Takes in one row of observations\n",
    "        if obs[in_state] == state : ## Checks if state is there\n",
    "            break\n",
    "        \n",
    "        if i == len(data) - 1 : ## At the end of all observations\n",
    "            print(\"Please enter a valid state name!!\")\n",
    "            return None ## Exits the function\n",
    "    \n",
    "    ## To generate a list of dates when cases exceeded 1000\n",
    "    for i in range(1, len(data)) :\n",
    "        obs = data[i] ## Takes in one row of observations\n",
    "        if (obs[in_state] == state) and (int(obs[in_cases]) > 1000) : ## Applying conditions \n",
    "            dates.append(obs[in_date])\n",
    "     \n",
    "    if len(dates) == 0 :\n",
    "        print(\"The state has no day with more than 1000 cases!!\") ## State has less than 1000 cases only\n",
    "        return None \n",
    "    else :     \n",
    "        return dates[0] ## Returning the first entry \n",
    "      \n",
    "            "
   ]
  },
  {
   "cell_type": "code",
   "execution_count": 160,
   "metadata": {},
   "outputs": [
    {
     "data": {
      "text/plain": [
       "'2020-03-28'"
      ]
     },
     "execution_count": 160,
     "metadata": {},
     "output_type": "execute_result"
    }
   ],
   "source": [
    "locate_date_1000(state_covid_data, \"Wisconsin\")"
   ]
  }
 ],
 "metadata": {
  "kernelspec": {
   "display_name": "Python 3",
   "language": "python",
   "name": "python3"
  },
  "language_info": {
   "codemirror_mode": {
    "name": "ipython",
    "version": 3
   },
   "file_extension": ".py",
   "mimetype": "text/x-python",
   "name": "python",
   "nbconvert_exporter": "python",
   "pygments_lexer": "ipython3",
   "version": "3.6.5"
  }
 },
 "nbformat": 4,
 "nbformat_minor": 2
}
