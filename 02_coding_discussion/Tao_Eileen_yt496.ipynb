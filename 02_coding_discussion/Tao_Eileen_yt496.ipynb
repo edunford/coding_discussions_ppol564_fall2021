{
 "cells": [
  {
   "cell_type": "code",
   "execution_count": 1,
   "id": "7209b191",
   "metadata": {},
   "outputs": [],
   "source": [
    "#Import and open file\n",
    "import csv\n",
    "with open('us-states.csv') as file:\n",
    "    state_covid_data = [] \n",
    "    for row in csv.reader(file):\n",
    "        state_covid_data.append(row)"
   ]
  },
  {
   "cell_type": "code",
   "execution_count": 2,
   "id": "a52ac729",
   "metadata": {},
   "outputs": [
    {
     "data": {
      "text/plain": [
       "[['date', 'state', 'fips', 'cases', 'deaths'],\n",
       " ['2020-01-21', 'Washington', '53', '1', '0'],\n",
       " ['2020-01-22', 'Washington', '53', '1', '0'],\n",
       " ['2020-01-23', 'Washington', '53', '1', '0'],\n",
       " ['2020-01-24', 'Illinois', '17', '1', '0']]"
      ]
     },
     "execution_count": 2,
     "metadata": {},
     "output_type": "execute_result"
    }
   ],
   "source": [
    "#Check the first 5 rows of data\n",
    "state_covid_data[:5]"
   ]
  },
  {
   "cell_type": "markdown",
   "id": "19e7e75d",
   "metadata": {},
   "source": [
    "## Question\n",
    "\n",
    "### (1) Count up the number of _unique_ dates in the data. \n",
    "\n"
   ]
  },
  {
   "cell_type": "code",
   "execution_count": 3,
   "id": "6d05c716",
   "metadata": {},
   "outputs": [
    {
     "name": "stdout",
     "output_type": "stream",
     "text": [
      "225\n"
     ]
    }
   ],
   "source": [
    "#Create a variable for the number of unique dates    \n",
    "number=0  \n",
    "#Create a string for unique dates\n",
    "date = \"\"\n",
    "#Make a loop for elements in the data set\n",
    "for i in range(len(state_covid_data)):\n",
    "#The first row is column name, so we skip it\n",
    "    if i == 0:\n",
    "     continue\n",
    "#When new date shows up, we add \"1\" on \"number\"\n",
    "    if state_covid_data[i][0] != date:\n",
    "        number +=1\n",
    "    date =  state_covid_data[i][0]\n",
    "#Print the number of unique dates\n",
    "print(number)"
   ]
  },
  {
   "cell_type": "markdown",
   "id": "3980b160",
   "metadata": {},
   "source": [
    "### (2) Find the first date in which the District of Columbia recorded a case. "
   ]
  },
  {
   "cell_type": "code",
   "execution_count": 4,
   "id": "263dbeab",
   "metadata": {},
   "outputs": [
    {
     "name": "stdout",
     "output_type": "stream",
     "text": [
      "2020-03-07\n"
     ]
    }
   ],
   "source": [
    "#Make a loop for elements in the data set\n",
    "for i in range(len(state_covid_data)):\n",
    "#The first row is column name, so we skip it\n",
    " if i == 0:\n",
    "    continue\n",
    "#When \"District of Columbia\" appears, we stop the loop, and find the corresponding date\n",
    " if state_covid_data[i][1] == \"District of Columbia\":\n",
    "        date =  state_covid_data[i][0]\n",
    "        break\n",
    "#Print the first date in which the District of Columbia recorded a case. \n",
    "print(date) "
   ]
  },
  {
   "cell_type": "markdown",
   "id": "42894eeb",
   "metadata": {},
   "source": [
    "### (3) Write a function that takes in a _state name_ as input (e.g. \"Wisconsin\") and outputs the date of its first case."
   ]
  },
  {
   "cell_type": "code",
   "execution_count": 5,
   "id": "541bd84a",
   "metadata": {},
   "outputs": [
    {
     "name": "stdout",
     "output_type": "stream",
     "text": [
      "2020-02-05\n"
     ]
    }
   ],
   "source": [
    "#Define a function for the first case in states\n",
    "def first_case(value): \n",
    "#Create a string for the date of first case in states\n",
    "    date = \"\"\n",
    "#Make a loop for elements in the data set\n",
    "    for i in range(len(state_covid_data)):\n",
    "#The first row is column name, so we skip it\n",
    "        if i == 0:\n",
    "         continue\n",
    "#When the state we want to check appears, it will return to the corresponding report date\n",
    "        if state_covid_data[i][1] == value:\n",
    "                 date =  state_covid_data[i][0]\n",
    "                 break\n",
    "    return date\n",
    "#Print the date of first case in Wisconsin \n",
    "print(first_case(\"Wisconsin\"))"
   ]
  },
  {
   "cell_type": "markdown",
   "id": "1b9edb68",
   "metadata": {},
   "source": [
    "### (Optional) Bonus"
   ]
  },
  {
   "cell_type": "code",
   "execution_count": 6,
   "id": "2819aed7",
   "metadata": {},
   "outputs": [
    {
     "name": "stdout",
     "output_type": "stream",
     "text": [
      "['2020-03-28', '2020-03-29', '2020-03-30', '2020-03-31', '2020-04-01', '2020-04-02', '2020-04-03', '2020-04-04', '2020-04-05', '2020-04-06', '2020-04-07', '2020-04-08', '2020-04-09', '2020-04-10', '2020-04-11', '2020-04-12', '2020-04-13', '2020-04-14', '2020-04-15', '2020-04-16', '2020-04-17', '2020-04-18', '2020-04-19', '2020-04-20', '2020-04-21', '2020-04-22', '2020-04-23', '2020-04-24', '2020-04-25', '2020-04-26', '2020-04-27', '2020-04-28', '2020-04-29', '2020-04-30', '2020-05-01', '2020-05-02', '2020-05-03', '2020-05-04', '2020-05-05', '2020-05-06', '2020-05-07', '2020-05-08', '2020-05-09', '2020-05-10', '2020-05-11', '2020-05-12', '2020-05-13', '2020-05-14', '2020-05-15', '2020-05-16', '2020-05-17', '2020-05-18', '2020-05-19', '2020-05-20', '2020-05-21', '2020-05-22', '2020-05-23', '2020-05-24', '2020-05-25', '2020-05-26', '2020-05-27', '2020-05-28', '2020-05-29', '2020-05-30', '2020-05-31', '2020-06-01', '2020-06-02', '2020-06-03', '2020-06-04', '2020-06-05', '2020-06-06', '2020-06-07', '2020-06-08', '2020-06-09', '2020-06-10', '2020-06-11', '2020-06-12', '2020-06-13', '2020-06-14', '2020-06-15', '2020-06-16', '2020-06-17', '2020-06-18', '2020-06-19', '2020-06-20', '2020-06-21', '2020-06-22', '2020-06-23', '2020-06-24', '2020-06-25', '2020-06-26', '2020-06-27', '2020-06-28', '2020-06-29', '2020-06-30', '2020-07-01', '2020-07-02', '2020-07-03', '2020-07-04', '2020-07-05', '2020-07-06', '2020-07-07', '2020-07-08', '2020-07-09', '2020-07-10', '2020-07-11', '2020-07-12', '2020-07-13', '2020-07-14', '2020-07-15', '2020-07-16', '2020-07-17', '2020-07-18', '2020-07-19', '2020-07-20', '2020-07-21', '2020-07-22', '2020-07-23', '2020-07-24', '2020-07-25', '2020-07-26', '2020-07-27', '2020-07-28', '2020-07-29', '2020-07-30', '2020-07-31', '2020-08-01', '2020-08-02', '2020-08-03', '2020-08-04', '2020-08-05', '2020-08-06', '2020-08-07', '2020-08-08', '2020-08-09', '2020-08-10', '2020-08-11', '2020-08-12', '2020-08-13', '2020-08-14', '2020-08-15', '2020-08-16', '2020-08-17', '2020-08-18', '2020-08-19', '2020-08-20', '2020-08-21', '2020-08-22', '2020-08-23', '2020-08-24', '2020-08-25', '2020-08-26', '2020-08-27', '2020-08-28', '2020-08-29', '2020-08-30', '2020-08-31', '2020-09-01']\n"
     ]
    }
   ],
   "source": [
    "#Define a function for the the number of cases more than 1000 of states\n",
    "def locate_date_1000(value):\n",
    "#Create a list for the date in which the number of cases more than 1000\n",
    "    date = []\n",
    "#Make a loop for elements in the data set\n",
    "    for i in range(len(state_covid_data)):\n",
    "#When the target state appears in second column,and the number of cases they reported more than 1000, it will return to the corresponding date\n",
    "        if state_covid_data[i][1] == value:\n",
    "            if int(state_covid_data[i][3])> 1000:\n",
    "                date.append(state_covid_data[i][0])\n",
    "    return date\n",
    "#Print the date which Wisconsin reported more than 1000 cases\n",
    "print(locate_date_1000(\"Wisconsin\"))"
   ]
  }
 ],
 "metadata": {
  "kernelspec": {
   "display_name": "Python 3 (ipykernel)",
   "language": "python",
   "name": "python3"
  },
  "language_info": {
   "codemirror_mode": {
    "name": "ipython",
    "version": 3
   },
   "file_extension": ".py",
   "mimetype": "text/x-python",
   "name": "python",
   "nbconvert_exporter": "python",
   "pygments_lexer": "ipython3",
   "version": "3.9.7"
  }
 },
 "nbformat": 4,
 "nbformat_minor": 5
}
