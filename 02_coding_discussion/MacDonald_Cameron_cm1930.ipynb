{
 "cells": [
  {
   "cell_type": "markdown",
   "id": "104c3fbc",
   "metadata": {},
   "source": [
    "###Coding Discussion 2"
   ]
  },
  {
   "cell_type": "code",
   "execution_count": 2,
   "id": "5316fdc2",
   "metadata": {},
   "outputs": [],
   "source": [
    "#load packages\n",
    "import csv\n",
    "\n",
    "#read the data\n",
    "with open('us-states.csv') as file:\n",
    "    state_covid_data = []\n",
    "    for row in csv.reader(file):\n",
    "        state_covid_data.append(row)"
   ]
  },
  {
   "cell_type": "markdown",
   "id": "fa8d08bd",
   "metadata": {},
   "source": [
    "##Count up the number of unique dates in the data."
   ]
  },
  {
   "cell_type": "code",
   "execution_count": 3,
   "id": "6d8d7d9b",
   "metadata": {},
   "outputs": [],
   "source": [
    "#1\n",
    "\"\"\"\n",
    "This function takes a nested list of strings and searches through each sublist for strings containing a specific term and creates a list of unique occurences of strings that term appears in.\n",
    "\n",
    "Arguments\n",
    "---------\n",
    "list: list\n",
    "    a nested list of strings\n",
    "term: str\n",
    "    a string of text, special charachters, or numbers\n",
    "    \n",
    "return\n",
    "-------\n",
    "the length of the list of unique occurences\n",
    "\"\"\"\n",
    "def unique_dates(list=[], term=''):\n",
    "    list_of_dates = [] #create an empty list\n",
    "    for index in range(len(list)): #iterate through the first layer, each sublist\n",
    "        for index_2 in range(len(list[index])): #iterate through the second layer, each sublist's contents\n",
    "            if term in list[index][index_2]: #find a character in contents of sublist\n",
    "                list_of_dates.append(list[index][index_2]) #add each date to the list_of_dates list\n",
    "    unique_list_of_dates = set(list_of_dates) #apply set function to return a list_of_unique_dates\n",
    "    return len(unique_list_of_dates) #return the desired value"
   ]
  },
  {
   "cell_type": "code",
   "execution_count": 4,
   "id": "924befbd",
   "metadata": {
    "scrolled": true
   },
   "outputs": [
    {
     "data": {
      "text/plain": [
       "225"
      ]
     },
     "execution_count": 4,
     "metadata": {},
     "output_type": "execute_result"
    }
   ],
   "source": [
    "#1 \n",
    "unique_dates(state_covid_data,'-')"
   ]
  },
  {
   "cell_type": "markdown",
   "id": "7384d741",
   "metadata": {},
   "source": [
    "There are 225 unique dates."
   ]
  },
  {
   "cell_type": "markdown",
   "id": "67b3889a",
   "metadata": {},
   "source": [
    "##Write a function that takes in a state name as input (e.g. \"Wisconsin\") and outputs the date of its first case."
   ]
  },
  {
   "cell_type": "code",
   "execution_count": 5,
   "id": "fe17775a",
   "metadata": {},
   "outputs": [],
   "source": [
    "#answer to #3\n",
    "\"\"\"\n",
    "This function takes a nested list of strings and searches through each sublist for strings containing a specified state, creates a list of the sublists containing said state and returns the date associated with the first observation containing said state.\n",
    "Argument\n",
    "---------\n",
    "list: list\n",
    "    a nested list of strings.\n",
    "state_name: str\n",
    "    a string of text referring to the name of a state.\n",
    "value: int\n",
    "    an integer value referring to the index of the sublist\n",
    "return\n",
    "-------\n",
    "the date associated the first occurence of that state in the data or a message marking clear that the state had no observations.\n",
    "\"\"\"\n",
    "def first_occurence(list=[], state_name=''):\n",
    "    list_of_occurences = [] #create an empty list\n",
    "    for index in range(1,len(list)): #iterate through the first layer, each sublist\n",
    "        for index_2 in range(len(list[index])): #iterate through the second layer, each sublist's contents\n",
    "            if state_name.lower() == list[index][index_2].lower(): #find the state string in contents of sublist.    \n",
    "                list_of_occurences.append(list[index]) #add the entire sublist to the list of occurences\n",
    "    if len(list_of_occurences) != 0:\n",
    "        return list_of_occurences[0][0] #return the desired value for the first occurence of the state in the data.\n",
    "        \n",
    "    else:\n",
    "            return \"There are no observations for that state.\""
   ]
  },
  {
   "cell_type": "markdown",
   "id": "a04954cb",
   "metadata": {},
   "source": [
    "##Find the first date in which the District of Columbia recorded a case."
   ]
  },
  {
   "cell_type": "code",
   "execution_count": 6,
   "id": "4a875003",
   "metadata": {},
   "outputs": [
    {
     "data": {
      "text/plain": [
       "'2020-03-07'"
      ]
     },
     "execution_count": 6,
     "metadata": {},
     "output_type": "execute_result"
    }
   ],
   "source": [
    "first_occurence(state_covid_data, \"District of Columbia\")"
   ]
  },
  {
   "cell_type": "markdown",
   "id": "8196a2ad",
   "metadata": {},
   "source": [
    "The first recorded case in DC was March 7, 2020."
   ]
  },
  {
   "cell_type": "markdown",
   "id": "d8c3244d",
   "metadata": {},
   "source": [
    "##Write a function that takes in a state name as input (e.g. \"Wisconsin\") and outputs the date when the number of reported cases within the state exceeded 1000."
   ]
  },
  {
   "cell_type": "code",
   "execution_count": null,
   "id": "940e89e9",
   "metadata": {},
   "outputs": [],
   "source": [
    "\"\"\"\n",
    "This function takes a nested list of strings and searches through each sublist and returns a date for the sublist containing a specified state and that has a number of cases greater than or equal the requested value.\n",
    "Argument\n",
    "---------\n",
    "list: list\n",
    "    a nested list of strings.\n",
    "state_name: str\n",
    "    a string of text referring to the name of a state.\n",
    "caase_number: int\n",
    "    an integer value for the number of cases you are interested in finding.\n",
    "return\n",
    "-------\n",
    "the date associated the first occurence of that state where the cases value is greater than case_number.\n",
    "\"\"\"   \n",
    "def first_day_x_cases_or_more(list=[],state_name='',case_number=int):\n",
    "    list_of_occurences = [] #create an empty list\n",
    "    for index in range(1,len(list)): #iterate through the first layer, each sublist\n",
    "        for index_2 in range(len(list[index])): #iterate through the second layer, each sublist's contents\n",
    "            if (int(list[index][3]) > case_number):\n",
    "                if state_name.lower() == list[index][index_2].lower(): #find the state string in contents of sublist.\n",
    "                    list_of_occurences.append(state_covid_data[index]) #add the entire sublist to the list of occurences\n",
    "    if len(list_of_occurences) != 0:\n",
    "        return list_of_occurences[0][0] #return the desired value for the first occurence of the state in the data.\n",
    "        print(list_of_occurences)\n",
    "    else:\n",
    "            return \"There are no instances of that state exceeding that many cases.\""
   ]
  }
 ],
 "metadata": {
  "kernelspec": {
   "display_name": "Python 3 (ipykernel)",
   "language": "python",
   "name": "python3"
  },
  "language_info": {
   "codemirror_mode": {
    "name": "ipython",
    "version": 3
   },
   "file_extension": ".py",
   "mimetype": "text/x-python",
   "name": "python",
   "nbconvert_exporter": "python",
   "pygments_lexer": "ipython3",
   "version": "3.9.7"
  }
 },
 "nbformat": 4,
 "nbformat_minor": 5
}
