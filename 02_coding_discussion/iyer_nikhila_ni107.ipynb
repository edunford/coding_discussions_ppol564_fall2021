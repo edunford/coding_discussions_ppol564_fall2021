{
 "cells": [
  {
   "cell_type": "code",
   "execution_count": 2,
   "id": "82660396",
   "metadata": {},
   "outputs": [
    {
     "data": {
      "text/plain": [
       "[['date', 'state', 'fips', 'cases', 'deaths'],\n",
       " ['2020-01-21', 'Washington', '53', '1', '0'],\n",
       " ['2020-01-22', 'Washington', '53', '1', '0'],\n",
       " ['2020-01-23', 'Washington', '53', '1', '0'],\n",
       " ['2020-01-24', 'Illinois', '17', '1', '0']]"
      ]
     },
     "execution_count": 2,
     "metadata": {},
     "output_type": "execute_result"
    }
   ],
   "source": [
    "## Read in the data (we would provide this)\n",
    "import csv\n",
    "with open('/Users/nikhilaiyer/Documents/GRAD SCHOOL/ppol564/coding_discussions_ppol564_fall2021/02_coding_discussion/us-states.csv') as file:\n",
    "    state_covid_data = []\n",
    "    for row in csv.reader(file):\n",
    "        state_covid_data.append(row)\n",
    "\n",
    "len(state_covid_data)\n",
    "\n",
    "state_covid_data[:5]"
   ]
  },
  {
   "cell_type": "code",
   "execution_count": 7,
   "id": "c8339092",
   "metadata": {},
   "outputs": [
    {
     "data": {
      "text/plain": [
       "225"
      ]
     },
     "execution_count": 7,
     "metadata": {},
     "output_type": "execute_result"
    }
   ],
   "source": [
    "## (1) Count number of unique dates in the data\n",
    "## setting an empty variable to hold all the unique dates\n",
    "unique_dates = []\n",
    "## for every row in the data set, if the date is not already in the unique_dates list,\n",
    "## add the date to the unique_dates list\n",
    "for row in state_covid_data[1:]:\n",
    "    if row[0] not in unique_dates:\n",
    "        unique_dates.append(row[0])\n",
    "## print the length of the unique_dates list\n",
    "len(unique_dates)"
   ]
  },
  {
   "cell_type": "code",
   "execution_count": 8,
   "id": "26c198e0",
   "metadata": {},
   "outputs": [
    {
     "name": "stdout",
     "output_type": "stream",
     "text": [
      "2020-03-07\n"
     ]
    }
   ],
   "source": [
    "## (2) Find the first date in which the District of Columbia recorded a case\n",
    "## setting an empty string variable to hold the date\n",
    "dc_date = ''\n",
    "## for every row in the data set, check if the state value is \"District of Columbia\"; \n",
    "## if it is, set the date value equal to the empty date variable\n",
    "for row in state_covid_data[1:]:\n",
    "    if row[1] == 'District of Columbia':\n",
    "        dc_date = row[0]\n",
    "        break\n",
    "## print the date of the first case in DC\n",
    "print(dc_date)"
   ]
  },
  {
   "cell_type": "code",
   "execution_count": 9,
   "id": "6bb01330",
   "metadata": {},
   "outputs": [
    {
     "data": {
      "text/plain": [
       "'2020-03-07'"
      ]
     },
     "execution_count": 9,
     "metadata": {},
     "output_type": "execute_result"
    }
   ],
   "source": [
    "## (3) Write a function that takes in a state name as input (e.g. \"Wisconsin\") and outputs the date of its first case.\n",
    "'''\n",
    "    Takes a state name as input and returns the date of its first case.\n",
    "\n",
    "            Parameters:\n",
    "                    state (str): A string of a state name\n",
    "\n",
    "            Returns:\n",
    "                    date (str): A string of the date\n",
    "'''\n",
    "## This function is working the same as the question above, but replacing \"DC\" with any state using input parameter\n",
    "def first_case(state):\n",
    "    date = ''\n",
    "    for row in state_covid_data[1:]:\n",
    "        if row[1] == state:\n",
    "            date = row[0]\n",
    "            break\n",
    "    return date\n",
    "\n",
    "## testing this function using \"DC\", should match to the above question\n",
    "first_case('District of Columbia')"
   ]
  },
  {
   "cell_type": "code",
   "execution_count": 6,
   "id": "042108be",
   "metadata": {},
   "outputs": [
    {
     "data": {
      "text/plain": [
       "'2020-03-10'"
      ]
     },
     "execution_count": 6,
     "metadata": {},
     "output_type": "execute_result"
    }
   ],
   "source": [
    "## (Optional Bonus)\n",
    "## Write a function that takes in a state name as input (e.g. \"Wisconsin\") and outputs the date when the number of reported cases within the state exceeded 1000.\n",
    "'''\n",
    "    Takes a state name as input and returns the date of when the state hits over 1000 COVID cases.\n",
    "\n",
    "            Parameters:\n",
    "                    state (str): A string of a state name\n",
    "\n",
    "            Returns:\n",
    "                    date (str): A string of the date\n",
    "'''\n",
    "\n",
    "def over_thousand(state):\n",
    "    date = ''\n",
    "    case_counter = 0\n",
    "## for every row in the data set, check if the state value is state the user input; \n",
    "## if it is, take the number of cases on that date and add it to the case counter variable\n",
    "    for row in state_covid_data[1:]:\n",
    "        if row[1] == state:\n",
    "            case_counter += int(row[3])\n",
    "## checking if the case counter variable has hit 1000; if it has, set the date equal to the date variable and break\n",
    "        if case_counter >= 1000:\n",
    "            date = row[0]\n",
    "            break\n",
    "    ## print(case_counter) -- check state cases are over 1000\n",
    "    return date\n",
    "\n",
    "## test case using Washington state\n",
    "over_thousand('Washington')"
   ]
  },
  {
   "cell_type": "code",
   "execution_count": null,
   "id": "411d9c5c",
   "metadata": {},
   "outputs": [],
   "source": []
  }
 ],
 "metadata": {
  "kernelspec": {
   "display_name": "Python 3 (ipykernel)",
   "language": "python",
   "name": "python3"
  },
  "language_info": {
   "codemirror_mode": {
    "name": "ipython",
    "version": 3
   },
   "file_extension": ".py",
   "mimetype": "text/x-python",
   "name": "python",
   "nbconvert_exporter": "python",
   "pygments_lexer": "ipython3",
   "version": "3.9.7"
  }
 },
 "nbformat": 4,
 "nbformat_minor": 5
}
