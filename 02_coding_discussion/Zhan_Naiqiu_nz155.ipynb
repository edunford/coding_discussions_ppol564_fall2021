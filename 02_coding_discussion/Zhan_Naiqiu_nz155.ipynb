{
 "cells": [
  {
   "cell_type": "markdown",
   "metadata": {},
   "source": [
    "### Preparation"
   ]
  },
  {
   "cell_type": "code",
   "execution_count": 10,
   "metadata": {},
   "outputs": [
    {
     "data": {
      "text/plain": [
       "10080"
      ]
     },
     "execution_count": 10,
     "metadata": {},
     "output_type": "execute_result"
    }
   ],
   "source": [
    "# ## Read in the data\n",
    "import csv\n",
    "with open('us-states.csv') as file:\n",
    "    state_covid_data = []\n",
    "    for row in csv.reader(file):\n",
    "        state_covid_data.append(row)\n",
    "\n",
    "len(state_covid_data)"
   ]
  },
  {
   "cell_type": "markdown",
   "metadata": {},
   "source": [
    "### (1) Count up the number of unique dates in the data."
   ]
  },
  {
   "cell_type": "code",
   "execution_count": 14,
   "metadata": {},
   "outputs": [
    {
     "data": {
      "text/plain": [
       "225"
      ]
     },
     "execution_count": 14,
     "metadata": {},
     "output_type": "execute_result"
    }
   ],
   "source": [
    "# Create empty list.\n",
    "uni_date = []\n",
    "\n",
    "# Pick out dates to the empty list\n",
    "for a in range(1,10080):\n",
    "    uni_date.append(state_covid_data[a][0])\n",
    "\n",
    "# See the length to count up the unique dates.  \n",
    "len(set(uni_date))"
   ]
  },
  {
   "cell_type": "markdown",
   "metadata": {},
   "source": [
    "### (2) Find the first date in which the District of Columbia recorded a case."
   ]
  },
  {
   "cell_type": "code",
   "execution_count": 39,
   "metadata": {},
   "outputs": [
    {
     "name": "stdout",
     "output_type": "stream",
     "text": [
      "2020-03-07\n"
     ]
    }
   ],
   "source": [
    "dc_1 = [] # Create empty list. \n",
    "\n",
    "for a in range(1,10080):\n",
    "    if state_covid_data[a][1] == \"District of Columbia\": # Find the list contains the first date of DC.\n",
    "        dc_1= state_covid_data[a][0] # Put the data in the list and end the loop.\n",
    "        break\n",
    "        \n",
    "print(dc_1) # Show the date"
   ]
  },
  {
   "cell_type": "markdown",
   "metadata": {},
   "source": [
    "### (3) Write a function that takes in a state name as input (e.g. \"Wisconsin\") and outputs the date of its first case.\n"
   ]
  },
  {
   "cell_type": "code",
   "execution_count": 43,
   "metadata": {},
   "outputs": [],
   "source": [
    "def state_name(state):\n",
    "    '''\n",
    "    This function input state name and outputs \n",
    "    date of first reported case of that state.\n",
    "    \n",
    "    Arguements\n",
    "    ----------\n",
    "    state: string for the state name.\n",
    "    \n",
    "    Return\n",
    "    ------\n",
    "    the date of first reported case of that state.\n",
    "    '''\n",
    "    state_1 = []\n",
    "    for a in range(1,10080): #Create empty list.\n",
    "        if state_covid_data[a][1] == state: # Find the list contains the first date.\n",
    "            state_1 = state_covid_data[a][0]  # Put the data in the list. \n",
    "            break\n",
    "        else:\n",
    "            continue\n",
    "            \n",
    "    return state_1"
   ]
  },
  {
   "cell_type": "code",
   "execution_count": 44,
   "metadata": {},
   "outputs": [
    {
     "data": {
      "text/plain": [
       "'2020-03-01'"
      ]
     },
     "execution_count": 44,
     "metadata": {},
     "output_type": "execute_result"
    }
   ],
   "source": [
    "state_name(\"New York\")"
   ]
  },
  {
   "cell_type": "markdown",
   "metadata": {},
   "source": [
    "### Bonus\n",
    "\n",
    "Write a function that takes in a state name as input (e.g. \"Wisconsin\") and outputs the date when the number of reported cases within the state exceeded 1000."
   ]
  },
  {
   "cell_type": "code",
   "execution_count": 50,
   "metadata": {},
   "outputs": [],
   "source": [
    "def first_1000(state):\n",
    "    '''\n",
    "    This function inputs state name and outputs the\n",
    "    date when the number of reported cases within \n",
    "    the state exceeded 1000.\n",
    "    \n",
    "    Arguements\n",
    "    ----------\n",
    "    state_name: string for the state name.\n",
    "    \n",
    "    Return\n",
    "    ------\n",
    "    the date of the number of reported case exceeded 1000.\n",
    "    '''\n",
    "    state_first_date_1000 = []\n",
    "    for a in range(1,10080):\n",
    "        if state_covid_data[a][1] == state and int(state_covid_data[a][3]) > 1000: # Find the list. \n",
    "            state_first_date_1000 = state_covid_data[a][0] # Put the date of that list into the empty list.\n",
    "            break\n",
    "        else:\n",
    "            continue\n",
    "    return state_first_date_1000"
   ]
  },
  {
   "cell_type": "code",
   "execution_count": 51,
   "metadata": {},
   "outputs": [
    {
     "data": {
      "text/plain": [
       "'2020-03-17'"
      ]
     },
     "execution_count": 51,
     "metadata": {},
     "output_type": "execute_result"
    }
   ],
   "source": [
    "first_1000(\"New York\")"
   ]
  }
 ],
 "metadata": {
  "kernelspec": {
   "display_name": "Python 3",
   "language": "python",
   "name": "python3"
  },
  "language_info": {
   "codemirror_mode": {
    "name": "ipython",
    "version": 3
   },
   "file_extension": ".py",
   "mimetype": "text/x-python",
   "name": "python",
   "nbconvert_exporter": "python",
   "pygments_lexer": "ipython3",
   "version": "3.8.5"
  }
 },
 "nbformat": 4,
 "nbformat_minor": 4
}
