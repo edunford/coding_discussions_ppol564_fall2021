{
 "cells": [
  {
   "cell_type": "markdown",
   "id": "ca5b79fd",
   "metadata": {},
   "source": [
    "# Julie Antão Discussion"
   ]
  },
  {
   "cell_type": "code",
   "execution_count": 4,
   "id": "b17ee3bd",
   "metadata": {},
   "outputs": [],
   "source": [
    "# first step given to us in the discussion section repo\n",
    "import csv\n",
    "with open('us-states.csv') as file:\n",
    "    state_covid_data = []\n",
    "    for row in csv.reader(file):\n",
    "        state_covid_data.append(row)\n"
   ]
  },
  {
   "cell_type": "code",
   "execution_count": 5,
   "id": "01d48f9c",
   "metadata": {},
   "outputs": [
    {
     "data": {
      "text/plain": [
       "10080"
      ]
     },
     "execution_count": 5,
     "metadata": {},
     "output_type": "execute_result"
    }
   ],
   "source": [
    "len(state_covid_data)"
   ]
  },
  {
   "cell_type": "code",
   "execution_count": 9,
   "id": "c0e58650",
   "metadata": {
    "scrolled": false
   },
   "outputs": [
    {
     "data": {
      "text/plain": [
       "[['date', 'state', 'fips', 'cases', 'deaths'],\n",
       " ['2020-01-21', 'Washington', '53', '1', '0'],\n",
       " ['2020-01-22', 'Washington', '53', '1', '0'],\n",
       " ['2020-01-23', 'Washington', '53', '1', '0'],\n",
       " ['2020-01-24', 'Illinois', '17', '1', '0']]"
      ]
     },
     "execution_count": 9,
     "metadata": {},
     "output_type": "execute_result"
    }
   ],
   "source": [
    "state_covid_data[:5]"
   ]
  },
  {
   "cell_type": "markdown",
   "id": "b6e41c2e",
   "metadata": {},
   "source": [
    "# (1) Count up the number of unique dates in the data."
   ]
  },
  {
   "cell_type": "code",
   "execution_count": 18,
   "id": "7ce6e398",
   "metadata": {
    "scrolled": false
   },
   "outputs": [
    {
     "name": "stdout",
     "output_type": "stream",
     "text": [
      "225\n"
     ]
    }
   ],
   "source": [
    "unique_dates = [] #I created an empty parameter so that unique dates could be recorded in this\n",
    "\n",
    "for row in state_covid_data[1:]:\n",
    "    date = row[0] #defined date as column 0 not to get confused\n",
    "    if date not in unique_dates: #used not in function to make sure only dates which were not already in parameter were added\n",
    "        unique_dates.append(date) #appended the dates into the new parameter\n",
    "        \n",
    "print (len(unique_dates)) #used the length function to get the number of dates instead of the unique dates themselves\n"
   ]
  },
  {
   "cell_type": "code",
   "execution_count": null,
   "id": "d301375b",
   "metadata": {},
   "outputs": [],
   "source": [
    "# There are 225 number of unique dates in the data"
   ]
  },
  {
   "cell_type": "markdown",
   "id": "e874a2d4",
   "metadata": {},
   "source": [
    "# (2) Find the first date in which the District of Columbia recorded a case.\n"
   ]
  },
  {
   "cell_type": "code",
   "execution_count": 19,
   "id": "e7f3982a",
   "metadata": {},
   "outputs": [
    {
     "name": "stdout",
     "output_type": "stream",
     "text": [
      "2020-03-07\n"
     ]
    }
   ],
   "source": [
    "# Making a loop to find which date was the first in DC to record a case\n",
    "\n",
    "DC_dates = [] #created an empty parameter\n",
    "\n",
    "#created for loop\n",
    "for row in state_covid_data[1:]:\n",
    "    state = row[1] #defined state as column 1 not to get confused\n",
    "    date = row[0] #defined date as column 0 not to get confused\n",
    "    if state == \"District of Columbia\":\n",
    "        DC_dates.append(date) #appended the dates into the new parameter\n",
    "        \n",
    "DC_dates.sort() #sorted so that dates would appear in the correct order\n",
    "\n",
    "print(DC_dates[0]) #found the first date by using 0"
   ]
  },
  {
   "cell_type": "code",
   "execution_count": null,
   "id": "da29e24f",
   "metadata": {},
   "outputs": [],
   "source": [
    "#The first recorded case in DC was on 2020-03-07"
   ]
  },
  {
   "cell_type": "markdown",
   "id": "cac237ce",
   "metadata": {},
   "source": [
    "# (3) Write a function that takes in a state name as input (e.g. \"Wisconsin\") and outputs the date of its first case."
   ]
  },
  {
   "cell_type": "code",
   "execution_count": 12,
   "id": "b0c86ad0",
   "metadata": {},
   "outputs": [],
   "source": [
    "def first_case(state): #defined the first_case as the function in which the loop is contained so that it can be replicated with multiple states\n",
    "#same code as previous question however I changed the name so that state would be changeable rather than the definition of thhe column\n",
    "    first_date = []\n",
    "\n",
    "    for row in state_covid_data[1:]:\n",
    "        states_column = row[1]\n",
    "        date = row[0]\n",
    "        if states_column == state:\n",
    "            first_date.append(date)\n",
    "\n",
    "    first_date.sort()\n",
    "\n",
    "    print(first_date[0])"
   ]
  },
  {
   "cell_type": "code",
   "execution_count": 13,
   "id": "77d7f71a",
   "metadata": {},
   "outputs": [
    {
     "name": "stdout",
     "output_type": "stream",
     "text": [
      "2020-02-05\n"
     ]
    }
   ],
   "source": [
    "first_case(\"Wisconsin\") #Now any state can replace Wisconsin and we will know the date of the first recorded case"
   ]
  }
 ],
 "metadata": {
  "kernelspec": {
   "display_name": "Python 3 (ipykernel)",
   "language": "python",
   "name": "python3"
  },
  "language_info": {
   "codemirror_mode": {
    "name": "ipython",
    "version": 3
   },
   "file_extension": ".py",
   "mimetype": "text/x-python",
   "name": "python",
   "nbconvert_exporter": "python",
   "pygments_lexer": "ipython3",
   "version": "3.9.5"
  }
 },
 "nbformat": 4,
 "nbformat_minor": 5
}
