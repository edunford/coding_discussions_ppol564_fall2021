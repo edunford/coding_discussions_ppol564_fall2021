{
 "cells": [
  {
   "cell_type": "markdown",
   "id": "ede46a58",
   "metadata": {},
   "source": [
    "### PPOL 564 - Coding Discussion \\#2 <br/> Ryan Ripper <br/> 9/19/21"
   ]
  },
  {
   "cell_type": "code",
   "execution_count": 1,
   "id": "ab052647",
   "metadata": {},
   "outputs": [],
   "source": [
    "## Read in the data (we would provide this)\n",
    "import csv\n",
    "with open('us-states.csv') as file:\n",
    "    state_covid_data = []\n",
    "    for row in csv.reader(file):\n",
    "        state_covid_data.append(row)\n",
    "        \n",
    "## We now sort the loaded data to ensure when we iterate through we go from oldest to newest entries.\n",
    "\n",
    "# Create a function that returns the date of an observation.\n",
    "def covid_date(e):\n",
    "    \"\"\"\n",
    "    The covid_date() function returns the date of an observation.\n",
    "    \n",
    "    Arguments\n",
    "    ---------\n",
    "    e: list\n",
    "        A list representing an observation.\n",
    "        \n",
    "    return\n",
    "    ------\n",
    "    A string of the date associated with the observation.\n",
    "    \"\"\"\n",
    "    \n",
    "    # Return the date entry (the first entry) of the observation\n",
    "    return e[0]\n",
    "\n",
    "## We now sort the loaded Covid Data for only the 2nd row and on since the first row contains the variable names.\n",
    "## We sort the list using the key function covid_date(e) which sorts the list by ascending date.\n",
    "## We store the sorted list in the variable __state_covid_data_sorted__.\n",
    "state_covid_data_sorted = sorted(state_covid_data[1:], key = covid_date)"
   ]
  },
  {
   "cell_type": "code",
   "execution_count": 2,
   "id": "977ff40f",
   "metadata": {},
   "outputs": [
    {
     "data": {
      "text/plain": [
       "10079"
      ]
     },
     "execution_count": 2,
     "metadata": {},
     "output_type": "execute_result"
    }
   ],
   "source": [
    "## We confirm that there are 10,079 entries in the sorted data.\n",
    "len(state_covid_data_sorted)"
   ]
  },
  {
   "cell_type": "code",
   "execution_count": 3,
   "id": "f1568494",
   "metadata": {},
   "outputs": [
    {
     "data": {
      "text/plain": [
       "[['2020-01-21', 'Washington', '53', '1', '0'],\n",
       " ['2020-01-22', 'Washington', '53', '1', '0'],\n",
       " ['2020-01-23', 'Washington', '53', '1', '0'],\n",
       " ['2020-01-24', 'Illinois', '17', '1', '0'],\n",
       " ['2020-01-24', 'Washington', '53', '1', '0']]"
      ]
     },
     "execution_count": 3,
     "metadata": {},
     "output_type": "execute_result"
    }
   ],
   "source": [
    "## We also observe the first five items in the sorted data to ensure it has been loaded and sorted properly.\n",
    "state_covid_data_sorted[:5]"
   ]
  },
  {
   "cell_type": "markdown",
   "id": "cec088be",
   "metadata": {},
   "source": [
    "#### (A) Count the number of unique dates in the data."
   ]
  },
  {
   "cell_type": "code",
   "execution_count": 4,
   "id": "241b73b8",
   "metadata": {},
   "outputs": [],
   "source": [
    "## Create a function that finds the number of unique dates.\n",
    "def unique_dates():\n",
    "    \"\"\"\n",
    "    The unique_dates() function returns the number of unique dates.\n",
    "    \n",
    "    Arguments\n",
    "    ---------\n",
    "    No arguments\n",
    "        \n",
    "    return\n",
    "    ------\n",
    "    An int with the count of unique date entries.\n",
    "    \"\"\"\n",
    "    \n",
    "    # Prepare empty list where we will hold the unique dates.\n",
    "    unique_dates = []\n",
    "    \n",
    "    # Iterate through each entry in the sorted Covid Data.\n",
    "    for obs in state_covid_data_sorted:\n",
    "        # Identify the associated date of the entry.\n",
    "        obs_date = obs[0]\n",
    "        \n",
    "        # If the date we are considering is not in the list of unique dates, then add it to the list.\n",
    "        if obs_date not in unique_dates:\n",
    "            unique_dates.append(obs_date)\n",
    "            \n",
    "        # If the date we are considering is in the list of unique dates, then we continue with the next observation.\n",
    "    \n",
    "    # Count the number of dates in the list of unique dates.\n",
    "    num_unique = len(unique_dates)\n",
    "           \n",
    "    # Return the number of unique dates.\n",
    "    return num_unique"
   ]
  },
  {
   "cell_type": "code",
   "execution_count": 5,
   "id": "36bf430f",
   "metadata": {},
   "outputs": [
    {
     "data": {
      "text/plain": [
       "225"
      ]
     },
     "execution_count": 5,
     "metadata": {},
     "output_type": "execute_result"
    }
   ],
   "source": [
    "## We run the function we created to count the number of unique dates in the data.\n",
    "## We find 225 unique dates.\n",
    "unique_dates()"
   ]
  },
  {
   "cell_type": "markdown",
   "id": "cf61193f",
   "metadata": {},
   "source": [
    "#### (B) Find the first date in which the District of Columbia recorded a case."
   ]
  },
  {
   "cell_type": "code",
   "execution_count": 6,
   "id": "aa73e4d7",
   "metadata": {},
   "outputs": [],
   "source": [
    "## We create a function that finds the first date in which DC recorded a case.\n",
    "def first_case_DC():\n",
    "    \"\"\"\n",
    "    The first_case_DC() function returns the first date in which DC recorded a case.\n",
    "    \n",
    "    Arguments\n",
    "    ---------\n",
    "    No arguments\n",
    "        \n",
    "    return\n",
    "    ------\n",
    "    A string with the date of the first recorded case in DC.\n",
    "    \"\"\"\n",
    "    \n",
    "    # Prepare empty string where we will hold the first date in which DC recorded a case.\n",
    "    first_date_covid = \"\"\n",
    "    \n",
    "    # Iterate through each entry in the sorted Covid Data.\n",
    "    for obs in state_covid_data_sorted:\n",
    "        # Identify the associated date (str) and state (str) of the entry.\n",
    "        covid_date = str(obs[0])\n",
    "        covid_state = str(obs[1])\n",
    "        \n",
    "        # If the state we are considering is \"District of Columbia\".\n",
    "        if covid_state == \"District of Columbia\":\n",
    "            # Record covid_date as first_date_covid.\n",
    "            first_date_covid = covid_date\n",
    "            \n",
    "            # Break out of the for loop since we found the first date.\n",
    "            break\n",
    "            \n",
    "    # Return the date of first recorded case in the District of Columbia.\n",
    "    return first_date_covid"
   ]
  },
  {
   "cell_type": "code",
   "execution_count": 7,
   "id": "7f323fb2",
   "metadata": {},
   "outputs": [
    {
     "data": {
      "text/plain": [
       "'2020-03-07'"
      ]
     },
     "execution_count": 7,
     "metadata": {},
     "output_type": "execute_result"
    }
   ],
   "source": [
    "## We run the function we created to find the first date in which DC recorded a case.\n",
    "## We find the first date in which DC recorded a case is March 7, 2020.\n",
    "first_case_DC()"
   ]
  },
  {
   "cell_type": "markdown",
   "id": "51e27ba5",
   "metadata": {},
   "source": [
    "#### (C) Write a function that takes in a state name as input and outputs the date of its first case."
   ]
  },
  {
   "cell_type": "code",
   "execution_count": 8,
   "id": "ddd2b57b",
   "metadata": {},
   "outputs": [],
   "source": [
    "## We create a function that finds the first date in which a specific state recorded a case.\n",
    "def first_case(state):\n",
    "    \"\"\"\n",
    "    The first_case(state) function returns the first date in which a specific state recorded a case.\n",
    "    \n",
    "    Arguments\n",
    "    ---------\n",
    "    state: str\n",
    "        A text storing the name of the state we are finding the date of its first case.\n",
    "        \n",
    "    return\n",
    "    ------\n",
    "    A string with the date of the first recorded case in the given state.\n",
    "    \"\"\"\n",
    "    \n",
    "    # Prepare empty string where we will hold the first date in which the state recorded a case.\n",
    "    first_date_covid = \"\"\n",
    "    \n",
    "    # Iterate through each entry in the sorted Covid Data.\n",
    "    for obs in state_covid_data_sorted:\n",
    "        # Identify the associated date (str) and state (str) of the entry.\n",
    "        covid_date = str(obs[0])\n",
    "        covid_state = str(obs[1])\n",
    "        \n",
    "        # If the state we are considering is the state we are finding the date of its first case.\n",
    "        if covid_state == state:\n",
    "            # Record covid_date as first_date_covid.\n",
    "            first_date_covid = covid_date\n",
    "            \n",
    "            # Break out of the for loop since we found the first date.\n",
    "            break\n",
    "            \n",
    "    # Return the date of first recorded case in the state.\n",
    "    return first_date_covid"
   ]
  },
  {
   "cell_type": "code",
   "execution_count": 9,
   "id": "1bebaea6",
   "metadata": {},
   "outputs": [
    {
     "data": {
      "text/plain": [
       "'2020-02-05'"
      ]
     },
     "execution_count": 9,
     "metadata": {},
     "output_type": "execute_result"
    }
   ],
   "source": [
    "## We run the function we created to find the date of a state's first case.\n",
    "## We find the first case in Wisconsin occurred on February 5, 2020.\n",
    "first_case(\"Wisconsin\")"
   ]
  },
  {
   "cell_type": "markdown",
   "id": "0ec9c506",
   "metadata": {},
   "source": [
    "#### (Optional) Bonus - Write a function that takes in a state name as input and outputs the date when the number of reported cases within the state exceeded 1000."
   ]
  },
  {
   "cell_type": "code",
   "execution_count": 10,
   "id": "a5603b87",
   "metadata": {},
   "outputs": [],
   "source": [
    "## We create a function that finds the first date of a state when the number of reported cases exceeded 1000.\n",
    "def locate_date_1000(state):\n",
    "    \"\"\"\n",
    "    The locate_date_1000(state) function returns the first date of a state when reported cases exceeded 1000.\n",
    "    \n",
    "    Arguments\n",
    "    ---------\n",
    "    state: str\n",
    "        A text storing the name of the state we are finding the first date when the reported cases exceeded 1000.\n",
    "        \n",
    "    return\n",
    "    ------\n",
    "    A string with the first date when the reported cases exceeded 1000 in the given state.\n",
    "    \"\"\"\n",
    "    \n",
    "    # Prepare empty string where we will hold the first date in which the number of reported cases exceeded 1000.\n",
    "    date_covid_1000 = \"\"\n",
    "    \n",
    "    # Iterate through each entry in the sorted Covid Data.\n",
    "    for obs in state_covid_data_sorted:\n",
    "        # Identify associated date (str), state (str), and number of reported cases (int) of the entry.\n",
    "        covid_date = str(obs[0])\n",
    "        covid_state = str(obs[1])\n",
    "        covid_cases = int(obs[3])\n",
    "        \n",
    "        # If we are looking for the corresponding state and the number of reported cases exceeded 1000.\n",
    "        if covid_state == state and covid_cases > 1000:\n",
    "            # Record covid_date as date_covid_1000\n",
    "            date_covid_1000 = covid_date\n",
    "            \n",
    "            # Break out of the for loop since we found the first date.\n",
    "            break\n",
    "       \n",
    "    # Return the first date where the number of reported cases exceeded 1000 in the state.\n",
    "    return date_covid_1000"
   ]
  },
  {
   "cell_type": "code",
   "execution_count": 11,
   "id": "e73e736f",
   "metadata": {},
   "outputs": [
    {
     "data": {
      "text/plain": [
       "'2020-03-28'"
      ]
     },
     "execution_count": 11,
     "metadata": {},
     "output_type": "execute_result"
    }
   ],
   "source": [
    "## We run the function we created to find the first date of a state when the number of reported cases exceeded 1000.\n",
    "### We find the first date where the number of reported cases exceeded 1000 in Wisconsin was March 28, 2020.\n",
    "locate_date_1000(\"Wisconsin\")"
   ]
  }
 ],
 "metadata": {
  "kernelspec": {
   "display_name": "Python 3",
   "language": "python",
   "name": "python3"
  },
  "language_info": {
   "codemirror_mode": {
    "name": "ipython",
    "version": 3
   },
   "file_extension": ".py",
   "mimetype": "text/x-python",
   "name": "python",
   "nbconvert_exporter": "python",
   "pygments_lexer": "ipython3",
   "version": "3.8.8"
  }
 },
 "nbformat": 4,
 "nbformat_minor": 5
}
