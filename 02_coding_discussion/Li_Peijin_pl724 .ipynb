{
 "cells": [
  {
   "cell_type": "markdown",
   "id": "40d9a9e6",
   "metadata": {},
   "source": [
    "Coding discussion2_Peijin "
   ]
  },
  {
   "cell_type": "code",
   "execution_count": 2,
   "id": "50e4ea92",
   "metadata": {},
   "outputs": [
    {
     "data": {
      "text/plain": [
       "10080"
      ]
     },
     "execution_count": 2,
     "metadata": {},
     "output_type": "execute_result"
    }
   ],
   "source": [
    "## Read in the data\n",
    "import csv\n",
    "with open('us-states.csv') as file:\n",
    "    state_covid_data = []\n",
    "    for row in csv.reader(file):\n",
    "        state_covid_data.append(row)\n",
    "\n",
    "len(state_covid_data)"
   ]
  },
  {
   "cell_type": "code",
   "execution_count": 3,
   "id": "e7050101",
   "metadata": {},
   "outputs": [
    {
     "data": {
      "text/plain": [
       "[['date', 'state', 'fips', 'cases', 'deaths'],\n",
       " ['2020-01-21', 'Washington', '53', '1', '0'],\n",
       " ['2020-01-22', 'Washington', '53', '1', '0'],\n",
       " ['2020-01-23', 'Washington', '53', '1', '0'],\n",
       " ['2020-01-24', 'Illinois', '17', '1', '0']]"
      ]
     },
     "execution_count": 3,
     "metadata": {},
     "output_type": "execute_result"
    }
   ],
   "source": [
    "state_covid_data[:5]"
   ]
  },
  {
   "cell_type": "markdown",
   "id": "cfbc741e",
   "metadata": {},
   "source": [
    "(1) Count up the number of _unique_ dates in the data."
   ]
  },
  {
   "cell_type": "code",
   "execution_count": 4,
   "id": "a25b5681",
   "metadata": {},
   "outputs": [
    {
     "name": "stdout",
     "output_type": "stream",
     "text": [
      "225\n"
     ]
    }
   ],
   "source": [
    "unique_list = []##initialize a null list\n",
    "for x in state_covid_data[1:]: \n",
    "    y=x[0] # traverse for all related elements\n",
    "    if y not in unique_list: # check if exists in unique_list or not\n",
    "        unique_list.append(y)##add unique dates into unique_list\n",
    "print(len(unique_list))\n",
    "    "
   ]
  },
  {
   "cell_type": "markdown",
   "id": "99ff0ee4",
   "metadata": {},
   "source": [
    "(2) Find the first date in which the District of Columbia recorded a case. "
   ]
  },
  {
   "cell_type": "code",
   "execution_count": 5,
   "id": "fcdbe9b8",
   "metadata": {},
   "outputs": [
    {
     "name": "stdout",
     "output_type": "stream",
     "text": [
      "2020-03-07\n"
     ]
    }
   ],
   "source": [
    "for x in state_covid_data:\n",
    "    if x[1]==\"District of Columbia\":##select data of \"District of Columbia\"\n",
    "        date=x[0]##select date of \"District of Columbia\"\n",
    "        break \n",
    "print(date) \n"
   ]
  },
  {
   "cell_type": "markdown",
   "id": "787a18e6",
   "metadata": {},
   "source": [
    "(3) Write a function that takes in a _state name_ as input (e.g. \"Wisconsin\") and outputs the date of its first case."
   ]
  },
  {
   "cell_type": "code",
   "execution_count": 6,
   "id": "02735b83",
   "metadata": {},
   "outputs": [
    {
     "name": "stdout",
     "output_type": "stream",
     "text": [
      "['2020-01-21']\n"
     ]
    }
   ],
   "source": [
    "def state_name_date(state):\n",
    "    \"\"\"\"\"\n",
    "    This function returns the first-case date of a state\n",
    "    \n",
    "    Arguments\n",
    "    -----\n",
    "    state: a string for the state name\n",
    "    Return\n",
    "    -----\n",
    "    A string for the first-case date of a state\n",
    "    \"\"\"\n",
    "    first_case = []##initialize a null list\n",
    "    for x in state_covid_data [1:]:\n",
    "        state=x[1]# traverse for all related elements\n",
    "        if state==state:\n",
    "            first_case.append(x[0])##add first_case date into first_case\n",
    "            break\n",
    "\n",
    "    return first_case\n",
    "##e.g. \"Wisconsin\"\n",
    "first = state_name_date(\"Wisconsin\")\n",
    "print(first)"
   ]
  },
  {
   "cell_type": "markdown",
   "id": "46ff955d",
   "metadata": {},
   "source": [
    "Write a function that takes in a _state name_ as input (e.g. \"Wisconsin\") and outputs the date when the number of reported cases within the state exceeded 1000."
   ]
  },
  {
   "cell_type": "code",
   "execution_count": 15,
   "id": "85726bc4",
   "metadata": {},
   "outputs": [
    {
     "name": "stdout",
     "output_type": "stream",
     "text": [
      "['2020-03-29']\n"
     ]
    }
   ],
   "source": [
    "def state_name_1000(state):\n",
    "    \"\"\"\"\"\n",
    "    This function returns the date when the number of reported cases within the state exceeded 1000\n",
    "    \n",
    "    Arguments\n",
    "    -----\n",
    "    state: a string for the state name\n",
    "    Return\n",
    "    -----\n",
    "    A string for the date when the number of reported cases within the state exceeded 1000\n",
    "    \"\"\"\n",
    "    exceed = []##initialize a null list\n",
    "    for x in state_covid_data [1:]:\n",
    "        state=x[1]# traverse for all related elements\n",
    "        if (state==state) and (int(x[4])>1000):##select the x when the number of reported cases within the state exceeded 1000\n",
    "            exceed.append(x[0])##add exceed_1000 date into exceed\n",
    "            break\n",
    "\n",
    "    return exceed\n",
    "##e.g. \"Wisconsin\"\n",
    "exceed_1000 = state_name_1000(\"Wisconsin\")\n",
    "print(exceed_1000)"
   ]
  },
  {
   "cell_type": "code",
   "execution_count": null,
   "id": "fc89a65a",
   "metadata": {},
   "outputs": [],
   "source": []
  }
 ],
 "metadata": {
  "kernelspec": {
   "display_name": "Python 3",
   "language": "python",
   "name": "python3"
  },
  "language_info": {
   "codemirror_mode": {
    "name": "ipython",
    "version": 3
   },
   "file_extension": ".py",
   "mimetype": "text/x-python",
   "name": "python",
   "nbconvert_exporter": "python",
   "pygments_lexer": "ipython3",
   "version": "3.8.8"
  }
 },
 "nbformat": 4,
 "nbformat_minor": 5
}
