{
 "cells": [
  {
   "cell_type": "code",
   "execution_count": 1,
   "id": "d8948781",
   "metadata": {},
   "outputs": [
    {
     "data": {
      "text/plain": [
       "10080"
      ]
     },
     "execution_count": 1,
     "metadata": {},
     "output_type": "execute_result"
    }
   ],
   "source": [
    "import csv\n",
    "with open('us-states.csv') as file:\n",
    "    state_covid_data = []\n",
    "    for row in csv.reader(file):\n",
    "        state_covid_data.append(row)\n",
    "\n",
    "len(state_covid_data)"
   ]
  },
  {
   "cell_type": "code",
   "execution_count": 2,
   "id": "f5415860",
   "metadata": {},
   "outputs": [
    {
     "data": {
      "text/plain": [
       "[['date', 'state', 'fips', 'cases', 'deaths'],\n",
       " ['2020-01-21', 'Washington', '53', '1', '0'],\n",
       " ['2020-01-22', 'Washington', '53', '1', '0'],\n",
       " ['2020-01-23', 'Washington', '53', '1', '0'],\n",
       " ['2020-01-24', 'Illinois', '17', '1', '0']]"
      ]
     },
     "execution_count": 2,
     "metadata": {},
     "output_type": "execute_result"
    }
   ],
   "source": [
    "state_covid_data[:5]"
   ]
  },
  {
   "cell_type": "code",
   "execution_count": 3,
   "id": "d0272783",
   "metadata": {},
   "outputs": [
    {
     "data": {
      "text/plain": [
       "225"
      ]
     },
     "execution_count": 3,
     "metadata": {},
     "output_type": "execute_result"
    }
   ],
   "source": [
    "# Question 1: Count number of unique dates in data\n",
    "\n",
    "# Create empty list of unique dates\n",
    "unique = []\n",
    "\n",
    "# Create for loop that adds new dates from state_covid_data to unique if they are not already in unique\n",
    "for i in range(len(state_covid_data)-1):\n",
    "    date = state_covid_data[i+1][0]\n",
    "    if date not in unique:\n",
    "        unique.append(date)\n",
    "\n",
    "# Return number of items in unique\n",
    "len(unique)"
   ]
  },
  {
   "cell_type": "code",
   "execution_count": 6,
   "id": "1d3286b5",
   "metadata": {},
   "outputs": [
    {
     "name": "stdout",
     "output_type": "stream",
     "text": [
      "2020-03-07\n"
     ]
    }
   ],
   "source": [
    "# Question 2: Find the first date in which the District of Columbia recorded a COVID case\n",
    "\n",
    "# Create for loop that breaks after finding the first index with a mention of the District of Columbia in the list and prints its date\n",
    "for i in range(len(state_covid_data)-1):\n",
    "    if state_covid_data[i+1][1] == 'District of Columbia':\n",
    "        print(state_covid_data[i+1][0])\n",
    "        break   "
   ]
  },
  {
   "cell_type": "code",
   "execution_count": 7,
   "id": "ee21cb27",
   "metadata": {},
   "outputs": [
    {
     "name": "stdout",
     "output_type": "stream",
     "text": [
      "2020-02-05\n"
     ]
    }
   ],
   "source": [
    "# Question 3: Write a function that takes in a state name as input and outputs the date of its first COVID case\n",
    "\n",
    "# Using code from question 2 to define a function called first case that takes a string as an input and outputs the first date that it appears in the list  \n",
    "def first_case(state):\n",
    "    for i in range(len(state_covid_data)-1):\n",
    "        if state_covid_data[i+1][1] == state:\n",
    "            print(state_covid_data[i+1][0])\n",
    "            break\n",
    "            \n",
    "# Find the date of the first COVID case in Wisconsin\n",
    "first_case(\"Wisconsin\")"
   ]
  },
  {
   "cell_type": "code",
   "execution_count": 11,
   "id": "545aa5bf",
   "metadata": {},
   "outputs": [
    {
     "name": "stdout",
     "output_type": "stream",
     "text": [
      "2020-03-21\n"
     ]
    }
   ],
   "source": [
    "# Bonus question: write a function that takes a state name as input and outputs the date when the number of cases in that state exceeded 1000\n",
    "\n",
    "#locate_date_1000 uses a for loop that adds to a variable called total_cases and breaks when total_cases exceeds 1000\n",
    "def locate_date_1000(state):\n",
    "    total_cases = 0\n",
    "    for i in range(len(state_covid_data)-1):\n",
    "        cases = int(state_covid_data[i+1][3])\n",
    "        if state_covid_data[i+1][1] == state:\n",
    "            total_cases = total_cases + cases\n",
    "        if total_cases >= 1000:\n",
    "            print(state_covid_data[i+1][0])\n",
    "            break\n",
    "\n",
    "# Find the date when the number of COVID cases in Wisconsin exceeded 1000            \n",
    "locate_date_1000(\"Wisconsin\")            "
   ]
  },
  {
   "cell_type": "code",
   "execution_count": null,
   "id": "f5d52185",
   "metadata": {},
   "outputs": [],
   "source": []
  }
 ],
 "metadata": {
  "kernelspec": {
   "display_name": "Python 3",
   "language": "python",
   "name": "python3"
  },
  "language_info": {
   "codemirror_mode": {
    "name": "ipython",
    "version": 3
   },
   "file_extension": ".py",
   "mimetype": "text/x-python",
   "name": "python",
   "nbconvert_exporter": "python",
   "pygments_lexer": "ipython3",
   "version": "3.8.8"
  }
 },
 "nbformat": 4,
 "nbformat_minor": 5
}
