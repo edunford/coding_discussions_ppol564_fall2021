{
 "cells": [
  {
   "cell_type": "code",
   "execution_count": 6,
   "id": "95310245",
   "metadata": {
    "scrolled": false
   },
   "outputs": [
    {
     "data": {
      "text/plain": [
       "10080"
      ]
     },
     "execution_count": 6,
     "metadata": {},
     "output_type": "execute_result"
    }
   ],
   "source": [
    "## Read in the data\n",
    "import csv\n",
    "with open(\"D:\\\\Downloads\\\\us-states.csv\") as file:\n",
    "    state_covid_data = []\n",
    "    for row in csv.reader(file):\n",
    "        state_covid_data.append(row)\n",
    "        \n",
    "len(state_covid_data) # total rows in data"
   ]
  },
  {
   "cell_type": "code",
   "execution_count": 7,
   "id": "275f2357",
   "metadata": {},
   "outputs": [
    {
     "data": {
      "text/plain": [
       "[['date', 'state', 'fips', 'cases', 'deaths'],\n",
       " ['2020-01-21', 'Washington', '53', '1', '0'],\n",
       " ['2020-01-22', 'Washington', '53', '1', '0'],\n",
       " ['2020-01-23', 'Washington', '53', '1', '0'],\n",
       " ['2020-01-24', 'Illinois', '17', '1', '0']]"
      ]
     },
     "execution_count": 7,
     "metadata": {},
     "output_type": "execute_result"
    }
   ],
   "source": [
    "state_covid_data[:5]"
   ]
  },
  {
   "cell_type": "markdown",
   "id": "22a731b5",
   "metadata": {},
   "source": [
    "(1) Count up the number of unique dates in the data."
   ]
  },
  {
   "cell_type": "code",
   "execution_count": 8,
   "id": "c770e26f",
   "metadata": {},
   "outputs": [
    {
     "data": {
      "text/plain": [
       "225"
      ]
     },
     "execution_count": 8,
     "metadata": {},
     "output_type": "execute_result"
    }
   ],
   "source": [
    "dates = [] #Creates an empty list to store the dates\n",
    "for row in state_covid_data[1:]: #loop through the data\n",
    "    dates.append(row[0]) #add the values to the created list\n",
    "\n",
    "len(set(dates)) ## I converted the list into a set (so there would not be repeated values). Then I used the len function to count the number of values."
   ]
  },
  {
   "cell_type": "markdown",
   "id": "19ccc3ae",
   "metadata": {},
   "source": [
    "(2) Find the first date in which the District of Columbia recorded a case."
   ]
  },
  {
   "cell_type": "code",
   "execution_count": 9,
   "id": "ef780bab",
   "metadata": {
    "scrolled": true
   },
   "outputs": [
    {
     "name": "stdout",
     "output_type": "stream",
     "text": [
      "['2020-03-07', 'District of Columbia', '11', '1', '0']\n"
     ]
    }
   ],
   "source": [
    "DC = []\n",
    "for row in state_covid_data: #Loops through and finds values that match \"District of Columbia\" \n",
    "    if row[1] == \"District of Columbia\":\n",
    "        DC.append(row) #Adds rows to the created list\n",
    "\n",
    "print(DC[0]) #Prints only the first row, instead of all DC dates\n",
    "\n",
    "#Note: this works because the dates are already in increasing order"
   ]
  },
  {
   "cell_type": "markdown",
   "id": "25f5853a",
   "metadata": {},
   "source": [
    "(3) Write a function that takes in a state name as input (e.g., \"Wisconsin\") and outputs the date of its first case."
   ]
  },
  {
   "cell_type": "code",
   "execution_count": 11,
   "id": "717e01a9",
   "metadata": {},
   "outputs": [
    {
     "data": {
      "text/plain": [
       "'2020-02-01'"
      ]
     },
     "execution_count": 11,
     "metadata": {},
     "output_type": "execute_result"
    }
   ],
   "source": [
    "def first_case(state):\n",
    "    \"\"\"\n",
    "    The function returns the first observed case for a given state\n",
    "    \n",
    "    Arguments:\n",
    "    -----------\n",
    "    state: str\n",
    "        A string containing the state's name\n",
    "    \n",
    "    state_dates: str\n",
    "        A string containing the date of the first observed case\n",
    "    \n",
    "    Return:\n",
    "    ----------\n",
    "    A string with the date of the first recorded case (in a given state)\n",
    "    \"\"\"\n",
    "    state_dates = [] #creates empty list\n",
    "    for row in state_covid_data: #loops through the list to find the first occurence for a given state\n",
    "        if row[1] == state:\n",
    "            date = row[0]\n",
    "            state_dates.append(date) #adds the date of first case to the previously empty list\n",
    "\n",
    "    return state_dates[0]\n",
    "\n",
    "first_case(\"Massachusetts\")"
   ]
  },
  {
   "cell_type": "markdown",
   "id": "0848a88c",
   "metadata": {},
   "source": [
    "Bonus"
   ]
  },
  {
   "cell_type": "code",
   "execution_count": 20,
   "id": "5ebdb773",
   "metadata": {},
   "outputs": [
    {
     "data": {
      "text/plain": [
       "'2020-03-27'"
      ]
     },
     "execution_count": 20,
     "metadata": {},
     "output_type": "execute_result"
    }
   ],
   "source": [
    "def locate_date_1000(state_n):\n",
    "    \"\"\"\n",
    "    The function returns the date that a given state first had >1000 cases\n",
    "    \n",
    "    Arguments:\n",
    "    -----------\n",
    "    state_n: str\n",
    "        A string containing the state's name\n",
    "    \n",
    "    big_case_dates: str\n",
    "        A string containing the first date of >1000 cases\n",
    "    \n",
    "    Return:\n",
    "    ----------_\n",
    "    A string holding the first date of >1000 cases for a given state\n",
    "    \"\"\"\n",
    "    big_case_dates = [] #creates an empty list\n",
    "    for row in state_covid_data: #loops through the list to find the described values\n",
    "        if row[1] == state_n and int(row[3])>1000:\n",
    "            date = row[0]\n",
    "            big_case_dates.append(date) #adss the values to the new list\n",
    "    return(big_case_dates[0])\n",
    "\n",
    "locate_date_1000(\"Wisconsin\")\n",
    "        "
   ]
  }
 ],
 "metadata": {
  "kernelspec": {
   "display_name": "Python 3",
   "language": "python",
   "name": "python3"
  },
  "language_info": {
   "codemirror_mode": {
    "name": "ipython",
    "version": 3
   },
   "file_extension": ".py",
   "mimetype": "text/x-python",
   "name": "python",
   "nbconvert_exporter": "python",
   "pygments_lexer": "ipython3",
   "version": "3.8.8"
  }
 },
 "nbformat": 4,
 "nbformat_minor": 5
}
