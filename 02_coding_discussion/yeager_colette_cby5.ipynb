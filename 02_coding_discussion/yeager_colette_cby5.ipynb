{
 "cells": [
  {
   "cell_type": "markdown",
   "id": "db91d968",
   "metadata": {},
   "source": [
    "# Coding Discussion 02\n",
    "### Colette Yeager"
   ]
  },
  {
   "cell_type": "code",
   "execution_count": 5,
   "id": "d175feca",
   "metadata": {},
   "outputs": [
    {
     "data": {
      "text/plain": [
       "[['date', 'state', 'fips', 'cases', 'deaths'],\n",
       " ['2020-01-21', 'Washington', '53', '1', '0'],\n",
       " ['2020-01-22', 'Washington', '53', '1', '0'],\n",
       " ['2020-01-23', 'Washington', '53', '1', '0'],\n",
       " ['2020-01-24', 'Illinois', '17', '1', '0']]"
      ]
     },
     "execution_count": 5,
     "metadata": {},
     "output_type": "execute_result"
    }
   ],
   "source": [
    "## Read in the data (we would provide this)\n",
    "import csv\n",
    "with open('us-states.csv') as file:\n",
    "    state_covid_data = []\n",
    "    for row in csv.reader(file):\n",
    "        state_covid_data.append(row)\n",
    "\n",
    "len(state_covid_data)\n",
    "state_covid_data[:5]"
   ]
  },
  {
   "cell_type": "markdown",
   "id": "fdb9f23e",
   "metadata": {},
   "source": [
    "### (1) Count up the number of unique dates in the data"
   ]
  },
  {
   "cell_type": "code",
   "execution_count": 25,
   "id": "e2d4d60f",
   "metadata": {},
   "outputs": [],
   "source": [
    "# Create an empty list for unique dates\n",
    "unique_dates = []\n",
    "\n",
    "# Iterate through the data and add the date if not already in list\n",
    "for row in state_covid_data[1:]:\n",
    "    date = row[0]\n",
    "    if date not in unique_dates:\n",
    "        unique_dates.append(date)"
   ]
  },
  {
   "cell_type": "code",
   "execution_count": 23,
   "id": "29f5c0a1",
   "metadata": {},
   "outputs": [
    {
     "name": "stdout",
     "output_type": "stream",
     "text": [
      "The number of unique dates in the data is: 225\n"
     ]
    }
   ],
   "source": [
    "print(\"The number of unique dates in the data is: \" + \n",
    "      str(len(unique_dates)))"
   ]
  },
  {
   "cell_type": "markdown",
   "id": "7875bf0c",
   "metadata": {},
   "source": [
    "### (2) Find the first date in which the DIstrict of Columbia recorded a case."
   ]
  },
  {
   "cell_type": "code",
   "execution_count": 26,
   "id": "b3a75935",
   "metadata": {},
   "outputs": [
    {
     "name": "stdout",
     "output_type": "stream",
     "text": [
      "The first date is: 2020-03-07\n"
     ]
    }
   ],
   "source": [
    "# Iterate through the data and save the date if state is equal to District of Columbia\n",
    "for row in state_covid_data:\n",
    "    if row[1] == \"District of Columbia\":\n",
    "        date = row[0]\n",
    "        break\n",
    "        \n",
    "print(\"The first date is: \" + date)"
   ]
  },
  {
   "cell_type": "code",
   "execution_count": 28,
   "id": "57991e0c",
   "metadata": {},
   "outputs": [],
   "source": [
    "# Iterate through the data and save the date if state is equal to the input\n",
    "def first_case(state):\n",
    "    \"\"\"\n",
    "    This function returns the date of a state's first case.\n",
    "    \n",
    "    Arguments\n",
    "    ---------\n",
    "    state: str\n",
    "        A string for the state's name\n",
    "    \n",
    "    Return\n",
    "    ------\n",
    "    A string for the date of the first observed case\n",
    "    \"\"\"\n",
    "    for row in state_covid_data:\n",
    "        if row[1] == state:\n",
    "            date = row[0]\n",
    "            break\n",
    "    \n",
    "    return date"
   ]
  },
  {
   "cell_type": "code",
   "execution_count": 29,
   "id": "a7ea14dc",
   "metadata": {},
   "outputs": [
    {
     "data": {
      "text/plain": [
       "'2020-02-05'"
      ]
     },
     "execution_count": 29,
     "metadata": {},
     "output_type": "execute_result"
    }
   ],
   "source": [
    "first_case(\"Wisconsin\")"
   ]
  },
  {
   "cell_type": "markdown",
   "id": "0c72144d",
   "metadata": {},
   "source": [
    "### (Optional) Bonus"
   ]
  },
  {
   "cell_type": "code",
   "execution_count": 36,
   "id": "e77cb809",
   "metadata": {},
   "outputs": [],
   "source": [
    "# Iterate througn data and save date if state is equal to input and number of cases is greater than 1000\n",
    "def locate_date_1000(state):\n",
    "    \"\"\"\n",
    "    This function returns the date of a state's first occasion of the number of cases being greater than 1000.\n",
    "    \n",
    "    Arguments\n",
    "    ---------\n",
    "    state: str\n",
    "        A string for the state's name\n",
    "    \n",
    "    Return\n",
    "    ------\n",
    "    A string for the date of the first occasion of the number of cases being greater than 100\n",
    "    \"\"\"\n",
    "    for row in state_covid_data:\n",
    "        if (row[1] == state) and (int(row[3]) > 1000):\n",
    "            date = row[0]\n",
    "            break\n",
    "    \n",
    "    return date"
   ]
  },
  {
   "cell_type": "code",
   "execution_count": 37,
   "id": "285baa10",
   "metadata": {},
   "outputs": [
    {
     "data": {
      "text/plain": [
       "'2020-03-28'"
      ]
     },
     "execution_count": 37,
     "metadata": {},
     "output_type": "execute_result"
    }
   ],
   "source": [
    "locate_date_1000(\"Wisconsin\")"
   ]
  }
 ],
 "metadata": {
  "kernelspec": {
   "display_name": "Python 3",
   "language": "python",
   "name": "python3"
  },
  "language_info": {
   "codemirror_mode": {
    "name": "ipython",
    "version": 3
   },
   "file_extension": ".py",
   "mimetype": "text/x-python",
   "name": "python",
   "nbconvert_exporter": "python",
   "pygments_lexer": "ipython3",
   "version": "3.8.8"
  }
 },
 "nbformat": 4,
 "nbformat_minor": 5
}
