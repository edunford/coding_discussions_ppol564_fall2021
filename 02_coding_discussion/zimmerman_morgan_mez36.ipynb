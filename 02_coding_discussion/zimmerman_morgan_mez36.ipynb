{
 "cells": [
  {
   "cell_type": "markdown",
   "id": "f582e602",
   "metadata": {},
   "source": [
    "Read in the data."
   ]
  },
  {
   "cell_type": "code",
   "execution_count": 25,
   "id": "f130e5d3",
   "metadata": {},
   "outputs": [
    {
     "data": {
      "text/plain": [
       "10080"
      ]
     },
     "execution_count": 25,
     "metadata": {},
     "output_type": "execute_result"
    }
   ],
   "source": [
    "## Read in the data\n",
    "import csv\n",
    "with open('/Users/morganzimmerman/Desktop/GitHub/coding_discussions_ppol564_fall2021/02_coding_discussion/us-states.csv') as file:\n",
    "    state_covid_data = []\n",
    "    for row in csv.reader(file):\n",
    "        state_covid_data.append(row)\n",
    "\n",
    "len(state_covid_data)"
   ]
  },
  {
   "cell_type": "markdown",
   "id": "3194adf4",
   "metadata": {},
   "source": [
    "Print first 5 rows of the data."
   ]
  },
  {
   "cell_type": "code",
   "execution_count": 26,
   "id": "eb6a9745",
   "metadata": {},
   "outputs": [
    {
     "data": {
      "text/plain": [
       "[['date', 'state', 'fips', 'cases', 'deaths'],\n",
       " ['2020-01-21', 'Washington', '53', '1', '0'],\n",
       " ['2020-01-22', 'Washington', '53', '1', '0'],\n",
       " ['2020-01-23', 'Washington', '53', '1', '0'],\n",
       " ['2020-01-24', 'Illinois', '17', '1', '0']]"
      ]
     },
     "execution_count": 26,
     "metadata": {},
     "output_type": "execute_result"
    }
   ],
   "source": [
    "# Print first 5 rows of the data\n",
    "state_covid_data[:5]"
   ]
  },
  {
   "cell_type": "markdown",
   "id": "081486d1",
   "metadata": {},
   "source": [
    "1 - Count up the number of unique dates in the data"
   ]
  },
  {
   "cell_type": "code",
   "execution_count": 27,
   "id": "345236be",
   "metadata": {},
   "outputs": [
    {
     "name": "stdout",
     "output_type": "stream",
     "text": [
      "225\n"
     ]
    }
   ],
   "source": [
    "# Create empty set to add unique dates to\n",
    "unique_dates = []\n",
    "\n",
    "for row in state_covid_data[1:]:\n",
    "    date = row[0]\n",
    "    if date not in unique_dates:\n",
    "        unique_dates.append(date)\n",
    "\n",
    "count = len(unique_dates)\n",
    "print(count)"
   ]
  },
  {
   "cell_type": "markdown",
   "id": "30b0ab17",
   "metadata": {},
   "source": [
    "2 - Find first date in which the District of Columbia recorded a case"
   ]
  },
  {
   "cell_type": "code",
   "execution_count": 28,
   "id": "8a850272",
   "metadata": {},
   "outputs": [
    {
     "name": "stdout",
     "output_type": "stream",
     "text": [
      "2020-03-07\n"
     ]
    }
   ],
   "source": [
    "for row in state_covid_data:\n",
    "    # Starts iterating through data to find first occurence\n",
    "    if row[1] == \"District of Columbia\":\n",
    "        # Finds date associated with the first occurence\n",
    "        first_occurence = row[0]\n",
    "        # Breaks loop after finding the first occurence\n",
    "        break\n",
    "\n",
    "print(first_occurence)"
   ]
  },
  {
   "cell_type": "markdown",
   "id": "0d550f17",
   "metadata": {},
   "source": [
    "3 - Write a function that takes in a state name as input and outputs the date of its first case."
   ]
  },
  {
   "cell_type": "code",
   "execution_count": 30,
   "id": "8a5c66d0",
   "metadata": {},
   "outputs": [
    {
     "name": "stdout",
     "output_type": "stream",
     "text": [
      "Enter a state: Wisconsin\n"
     ]
    },
    {
     "data": {
      "text/plain": [
       "'2020-02-05'"
      ]
     },
     "execution_count": 30,
     "metadata": {},
     "output_type": "execute_result"
    }
   ],
   "source": [
    "# Asks for input of a state name\n",
    "state = str(input(\"Enter a state: \"))\n",
    "\n",
    "def first_case(state):\n",
    "    \"\"\"\n",
    "    This function returns the date of a state's first recorded Covid case.\n",
    "\n",
    "    Arguments\n",
    "    ---------\n",
    "    state: str\n",
    "        a string of the state's name\n",
    "\n",
    "    Return\n",
    "    ------\n",
    "    a string of the date of a state's first recorded Covid case\n",
    "    \"\"\"\n",
    "\n",
    "    for row in state_covid_data:\n",
    "        # Iterates through to find first occurence for a inputted state\n",
    "        if row[1] == state:\n",
    "            # Finds date associated with the first occurence\n",
    "            date = row[0]\n",
    "            # Breaks loop after finding the first occurence\n",
    "            break\n",
    "\n",
    "    return date\n",
    "\n",
    "first_case(state)"
   ]
  },
  {
   "cell_type": "markdown",
   "id": "5c8f4d98",
   "metadata": {},
   "source": [
    "Bonus - Write a function that takes in a state name as input and outputs the date of when the number of reported cases for the state exceeded 1000"
   ]
  },
  {
   "cell_type": "code",
   "execution_count": 31,
   "id": "3754c2ca",
   "metadata": {},
   "outputs": [
    {
     "name": "stdout",
     "output_type": "stream",
     "text": [
      "Enter a state: Wisconsin\n"
     ]
    },
    {
     "data": {
      "text/plain": [
       "'2020-03-28'"
      ]
     },
     "execution_count": 31,
     "metadata": {},
     "output_type": "execute_result"
    }
   ],
   "source": [
    "# Asks for input of a state name\n",
    "state = str(input(\"Enter a state: \"))\n",
    "        \n",
    "def locate_date_1000(state):\n",
    "    \"\"\"\n",
    "    This function returns the date when a state's number of Covid\n",
    "    cases exceeded 1000.\n",
    "\n",
    "    Arguments\n",
    "    ---------\n",
    "    state: str\n",
    "        a string of the state's name\n",
    "\n",
    "    Return\n",
    "    ------\n",
    "    a string of the date when a state's number of Covid cases exceeded 1000\n",
    "    \"\"\"\n",
    "\n",
    "    for row in state_covid_data:\n",
    "        # Iterates through to find first occurence for a inputted state that has a case count above 1000\n",
    "        if (row[1] == state) and (int(row[3]) > 1000):\n",
    "            # Finds date associated with the first occurence\n",
    "            date = row[0]\n",
    "            # Breaks loop after finding the first occurence\n",
    "            break\n",
    "\n",
    "    return date\n",
    "\n",
    "locate_date_1000(state)"
   ]
  },
  {
   "cell_type": "code",
   "execution_count": null,
   "id": "3177b8c0",
   "metadata": {},
   "outputs": [],
   "source": []
  }
 ],
 "metadata": {
  "kernelspec": {
   "display_name": "Python 3 (ipykernel)",
   "language": "python",
   "name": "python3"
  },
  "language_info": {
   "codemirror_mode": {
    "name": "ipython",
    "version": 3
   },
   "file_extension": ".py",
   "mimetype": "text/x-python",
   "name": "python",
   "nbconvert_exporter": "python",
   "pygments_lexer": "ipython3",
   "version": "3.9.5"
  }
 },
 "nbformat": 4,
 "nbformat_minor": 5
}
