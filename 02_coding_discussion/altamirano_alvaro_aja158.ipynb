{
 "cells": [
  {
   "cell_type": "markdown",
   "metadata": {},
   "source": [
    "# Coding Discussion 2\n",
    "\n",
    "###  1: Configuration"
   ]
  },
  {
   "cell_type": "code",
   "execution_count": 27,
   "metadata": {},
   "outputs": [],
   "source": [
    "# 1.1 Import CSV file\n",
    "import csv\n",
    "with open('us-states.csv') as file:\n",
    "    state_covid_data = []\n",
    "    for row in csv.reader(file):\n",
    "        state_covid_data.append(row)"
   ]
  },
  {
   "cell_type": "markdown",
   "metadata": {},
   "source": [
    "###  2: Questions\n",
    "\n",
    "#### 1: Count up the number of unique dates in the data."
   ]
  },
  {
   "cell_type": "code",
   "execution_count": 28,
   "metadata": {},
   "outputs": [
    {
     "name": "stdout",
     "output_type": "stream",
     "text": [
      "225\n"
     ]
    }
   ],
   "source": [
    "# I use list comprehension to loop through each sublist after the 'date' row ([1:])\n",
    "# and print the number of unique dates in the original nested list (There are 225 unique dates).\n",
    "print(len(set([str(s[0:1]) for s in state_covid_data[1:]])))"
   ]
  },
  {
   "cell_type": "markdown",
   "metadata": {},
   "source": [
    "#### 2 : Find the first date in which the District of Columbia recorded a case"
   ]
  },
  {
   "cell_type": "code",
   "execution_count": 29,
   "metadata": {},
   "outputs": [
    {
     "name": "stdout",
     "output_type": "stream",
     "text": [
      "2020-03-07\n"
     ]
    }
   ],
   "source": [
    "# I use list comprehension again to loop through each sublist in the nested list\n",
    "# and find all rows containing the value of 'District of Columbia', and print \n",
    "# the first date value for covid cases in DC = 2020-03-07\n",
    "print([s for s in state_covid_data if \"District of Columbia\" in s][0][0])"
   ]
  },
  {
   "cell_type": "markdown",
   "metadata": {},
   "source": [
    "#### 3: Write a function that takes in a state name as input (e.g. \"Wisconsin\") and outputs the date of its first case."
   ]
  },
  {
   "cell_type": "code",
   "execution_count": 30,
   "metadata": {},
   "outputs": [
    {
     "name": "stdout",
     "output_type": "stream",
     "text": [
      "2020-02-05\n",
      "2020-03-09\n",
      "state not found\n"
     ]
    },
    {
     "data": {
      "text/plain": [
       "()"
      ]
     },
     "execution_count": 30,
     "metadata": {},
     "output_type": "execute_result"
    }
   ],
   "source": [
    "def first_case(name):\n",
    "    \"\"\"\n",
    "    The first_case(name) function returns the date in which the queried state first recorded a case.\n",
    "    Arguments\n",
    "    ---------\n",
    "    name: str\n",
    "        A text storing the name of the queried state.\n",
    "    returns\n",
    "    ------\n",
    "    A print for the string with the date when the state first reported a covid case.\n",
    "    \"\"\"\n",
    "    try:\n",
    "        state = [s for s in state_covid_data if name in s][0][0]\n",
    "        print(state)\n",
    "    except:\n",
    "        print('state not found')\n",
    "    return()\n",
    "\n",
    "first_case('Wisconsin') # First case in Winsconsin  =  2020-02-05\n",
    "first_case('Ohio') # Example 2\n",
    "first_case('Managua') # Example 3"
   ]
  },
  {
   "cell_type": "markdown",
   "metadata": {},
   "source": [
    "#### Optional(Bonus): Write a function that takes in a state name as input (e.g. \"Wisconsin\") and outputs the date of its first case."
   ]
  },
  {
   "cell_type": "code",
   "execution_count": 31,
   "metadata": {},
   "outputs": [
    {
     "name": "stdout",
     "output_type": "stream",
     "text": [
      "2020-03-28\n",
      "2020-03-27\n",
      "state not found or did not report 1k cases or more\n"
     ]
    },
    {
     "data": {
      "text/plain": [
       "()"
      ]
     },
     "execution_count": 31,
     "metadata": {},
     "output_type": "execute_result"
    }
   ],
   "source": [
    "def locate_date_1000(name):\n",
    "    \"\"\"\n",
    "    The locate_date_1000(name): function returns the date in which the number of cases first exceeded 1000 for the queried state.\n",
    "    Arguments\n",
    "    ---------\n",
    "    name: str\n",
    "        A text storing the name of the queried state.\n",
    "    returns\n",
    "    ------\n",
    "    A print for the string with the date when the state first reported 1000 covid cases.\n",
    "    \"\"\"\n",
    "    try:\n",
    "        state = [s for s in state_covid_data if name in s \n",
    "                 if int(str(s[3])) >= 1000][0][0]\n",
    "        print(state)\n",
    "    except:\n",
    "        print('state not found or did not report 1k cases or more')\n",
    "    return()\n",
    "\n",
    "locate_date_1000('Wisconsin')  # First 1k case in Winsconsin  =  2020-03-28   \n",
    "locate_date_1000('Ohio') # Example 2\n",
    "locate_date_1000('Managua') # Example 3"
   ]
  }
 ],
 "metadata": {
  "kernelspec": {
   "display_name": "Python 3",
   "language": "python",
   "name": "python3"
  },
  "language_info": {
   "codemirror_mode": {
    "name": "ipython",
    "version": 3
   },
   "file_extension": ".py",
   "mimetype": "text/x-python",
   "name": "python",
   "nbconvert_exporter": "python",
   "pygments_lexer": "ipython3",
   "version": "3.7.4"
  }
 },
 "nbformat": 4,
 "nbformat_minor": 2
}
