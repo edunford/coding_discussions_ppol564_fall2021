{
 "cells": [
  {
   "cell_type": "code",
   "execution_count": 28,
   "id": "cada78db",
   "metadata": {},
   "outputs": [
    {
     "name": "stdout",
     "output_type": "stream",
     "text": [
      "10080\n"
     ]
    },
    {
     "data": {
      "text/plain": [
       "[['date', 'state', 'fips', 'cases', 'deaths'],\n",
       " ['2020-01-21', 'Washington', '53', '1', '0'],\n",
       " ['2020-01-22', 'Washington', '53', '1', '0'],\n",
       " ['2020-01-23', 'Washington', '53', '1', '0'],\n",
       " ['2020-01-24', 'Illinois', '17', '1', '0']]"
      ]
     },
     "execution_count": 28,
     "metadata": {},
     "output_type": "execute_result"
    }
   ],
   "source": [
    "import csv\n",
    "with open('us-states.csv') as file:\n",
    "    state_covid_data = []\n",
    "    for row in csv.reader(file):\n",
    "        state_covid_data.append(row)\n",
    "\n",
    "print(len(state_covid_data))\n",
    "\n",
    "state_covid_data[:5]"
   ]
  },
  {
   "cell_type": "markdown",
   "id": "56ec9b4d",
   "metadata": {},
   "source": [
    "### (1) Count up the number of _unique_ dates in the data. "
   ]
  },
  {
   "cell_type": "code",
   "execution_count": 12,
   "id": "31e8d64b",
   "metadata": {},
   "outputs": [
    {
     "name": "stdout",
     "output_type": "stream",
     "text": [
      "There are 226 unique dates in the dataset.\n"
     ]
    }
   ],
   "source": [
    "dates = set()\n",
    "\n",
    "for row in state_covid_data:\n",
    "    date = row[0]\n",
    "    dates.add(date)\n",
    "\n",
    "print('There are ' + str(len(dates)) + ' unique dates in the dataset.')"
   ]
  },
  {
   "cell_type": "markdown",
   "id": "ddb20741",
   "metadata": {},
   "source": [
    "### (2) Find the first date in which the District of Columbia recorded a case. "
   ]
  },
  {
   "cell_type": "code",
   "execution_count": 20,
   "id": "61357a6d",
   "metadata": {},
   "outputs": [
    {
     "name": "stdout",
     "output_type": "stream",
     "text": [
      "The first date in which DC recorded a case was 2020-03-07.\n"
     ]
    }
   ],
   "source": [
    "dc = list()\n",
    "for row in state_covid_data:\n",
    "    state = row[1]\n",
    "    if state == \"District of Columbia\":\n",
    "        dc.append(row)\n",
    "    \n",
    "print('The first date in which DC recorded a case was ' + dc[0][0] + '.')"
   ]
  },
  {
   "cell_type": "markdown",
   "id": "edf7d064",
   "metadata": {},
   "source": [
    "### (3) Write a function that takes in a _state name_ as input (e.g. \"Wisconsin\") and outputs the date of its first case."
   ]
  },
  {
   "cell_type": "code",
   "execution_count": 27,
   "id": "6ae6dbdc",
   "metadata": {},
   "outputs": [
    {
     "name": "stdout",
     "output_type": "stream",
     "text": [
      "State not found.\n"
     ]
    }
   ],
   "source": [
    "def first_case(state_name):\n",
    "        \"\"\"\n",
    "    Takes a state name, creates a subste of the dataset for each row that matches the state,\n",
    "    and returns the earliest date, which happens to be the first reference in this dataset.\n",
    "\n",
    "    Argument:\n",
    "    ------\n",
    "    state_name: str\n",
    "    A text string that is ideally one of the 50 states or District of Columbia represented in the dataset.\n",
    "    \"\"\"\n",
    "    \n",
    "    state_list = list()\n",
    "    for row in state_covid_data:\n",
    "        state = row[1]\n",
    "        if state == state_name:\n",
    "            state_list.append(row)\n",
    "    if len(state_list) > 0:        \n",
    "        print('The first date in which ' + state_name + ' recorded a case was ' + state_list[0][0] + '.')\n",
    "    else:\n",
    "        print('State not found.')\n",
    "    \n",
    "first_case(\"New York\")"
   ]
  },
  {
   "cell_type": "markdown",
   "id": "33b555b6",
   "metadata": {},
   "source": [
    "### (Optional) Bonus\n",
    "\n",
    "Write a function that takes in a _state name_ as input (e.g. \"Wisconsin\") and outputs the date when the number of reported cases within the state exceeded 1000."
   ]
  },
  {
   "cell_type": "code",
   "execution_count": 41,
   "id": "fd30037f",
   "metadata": {},
   "outputs": [
    {
     "name": "stdout",
     "output_type": "stream",
     "text": [
      "The first date in which California recorded more than 1000 cases was 2020-03-19.\n"
     ]
    }
   ],
   "source": [
    "def over_1000(state_name):\n",
    "    \"\"\"\n",
    "    Takes a state name, creates a subste of the dataset for each row that matches the state,\n",
    "    checks the length of the string variable representing cases to see when it is of length 4,\n",
    "    and returns the earliest date of this subset.\n",
    "    Argument:\n",
    "    ------\n",
    "    state_name: str\n",
    "    A text string that is ideally one of the 50 states or District of Columbia represented in the dataset.\n",
    "    \"\"\"\n",
    "    \n",
    "    state_list = list()\n",
    "    for row in state_covid_data:\n",
    "        state = row[1]\n",
    "        cases = row[3]\n",
    "        if (state == state_name) & (len(cases) > 3):\n",
    "            state_list.append(row)\n",
    "\n",
    "    if len(state_list) > 0:        \n",
    "        print('The first date in which ' + state_name + ' recorded more than 1000 cases was ' + state_list[0][0] + '.')\n",
    "    else:\n",
    "        print('No results.')\n",
    "    \n",
    "over_1000(\"California\")"
   ]
  }
 ],
 "metadata": {
  "kernelspec": {
   "display_name": "Python 3",
   "language": "python",
   "name": "python3"
  },
  "language_info": {
   "codemirror_mode": {
    "name": "ipython",
    "version": 3
   },
   "file_extension": ".py",
   "mimetype": "text/x-python",
   "name": "python",
   "nbconvert_exporter": "python",
   "pygments_lexer": "ipython3",
   "version": "3.8.8"
  }
 },
 "nbformat": 4,
 "nbformat_minor": 5
}
