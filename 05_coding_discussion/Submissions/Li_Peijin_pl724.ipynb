{
 "cells": [
  {
   "cell_type": "markdown",
   "id": "b001be42",
   "metadata": {},
   "source": [
    "Peijin_coding discussion5"
   ]
  },
  {
   "cell_type": "code",
   "execution_count": 1,
   "id": "41744de4",
   "metadata": {},
   "outputs": [],
   "source": [
    "import pandas as pd\n",
    "import numpy as np\n",
    "import pprint as pp # for printing\n",
    "import scipy.stats as st # for Normal PDF\n",
    "# Silence warnings \n",
    "import warnings\n",
    "warnings.filterwarnings(\"ignore\")"
   ]
  },
  {
   "cell_type": "code",
   "execution_count": 2,
   "id": "30c33fa5",
   "metadata": {},
   "outputs": [],
   "source": [
    "turnout_data = pd.read_csv(\"turnout.csv\")# read in data"
   ]
  },
  {
   "cell_type": "code",
   "execution_count": 3,
   "id": "a88a3171",
   "metadata": {},
   "outputs": [],
   "source": [
    "# Train-Test split (just using Pandas)\n",
    "train = turnout_data.sample(frac=.8).reset_index(drop=True)\n",
    "test = turnout_data.drop(train.index).reset_index(drop=True)"
   ]
  },
  {
   "cell_type": "code",
   "execution_count": 4,
   "id": "0ec441fc",
   "metadata": {},
   "outputs": [
    {
     "name": "stdout",
     "output_type": "stream",
     "text": [
      "Training Data: 1600 \n",
      "Test Data: 400\n"
     ]
    },
    {
     "data": {
      "text/html": [
       "<div>\n",
       "<style scoped>\n",
       "    .dataframe tbody tr th:only-of-type {\n",
       "        vertical-align: middle;\n",
       "    }\n",
       "\n",
       "    .dataframe tbody tr th {\n",
       "        vertical-align: top;\n",
       "    }\n",
       "\n",
       "    .dataframe thead th {\n",
       "        text-align: right;\n",
       "    }\n",
       "</style>\n",
       "<table border=\"1\" class=\"dataframe\">\n",
       "  <thead>\n",
       "    <tr style=\"text-align: right;\">\n",
       "      <th></th>\n",
       "      <th>id</th>\n",
       "      <th>age</th>\n",
       "      <th>educate</th>\n",
       "      <th>income</th>\n",
       "      <th>vote</th>\n",
       "      <th>white</th>\n",
       "    </tr>\n",
       "  </thead>\n",
       "  <tbody>\n",
       "    <tr>\n",
       "      <th>0</th>\n",
       "      <td>1239</td>\n",
       "      <td>50</td>\n",
       "      <td>12.0</td>\n",
       "      <td>11.8939</td>\n",
       "      <td>0</td>\n",
       "      <td>1</td>\n",
       "    </tr>\n",
       "    <tr>\n",
       "      <th>1</th>\n",
       "      <td>251</td>\n",
       "      <td>23</td>\n",
       "      <td>12.0</td>\n",
       "      <td>2.5220</td>\n",
       "      <td>1</td>\n",
       "      <td>1</td>\n",
       "    </tr>\n",
       "    <tr>\n",
       "      <th>2</th>\n",
       "      <td>93</td>\n",
       "      <td>30</td>\n",
       "      <td>15.0</td>\n",
       "      <td>7.7751</td>\n",
       "      <td>1</td>\n",
       "      <td>1</td>\n",
       "    </tr>\n",
       "    <tr>\n",
       "      <th>3</th>\n",
       "      <td>756</td>\n",
       "      <td>55</td>\n",
       "      <td>13.0</td>\n",
       "      <td>8.7545</td>\n",
       "      <td>1</td>\n",
       "      <td>1</td>\n",
       "    </tr>\n",
       "    <tr>\n",
       "      <th>4</th>\n",
       "      <td>574</td>\n",
       "      <td>26</td>\n",
       "      <td>8.0</td>\n",
       "      <td>2.1309</td>\n",
       "      <td>1</td>\n",
       "      <td>1</td>\n",
       "    </tr>\n",
       "  </tbody>\n",
       "</table>\n",
       "</div>"
      ],
      "text/plain": [
       "     id  age  educate   income  vote  white\n",
       "0  1239   50     12.0  11.8939     0      1\n",
       "1   251   23     12.0   2.5220     1      1\n",
       "2    93   30     15.0   7.7751     1      1\n",
       "3   756   55     13.0   8.7545     1      1\n",
       "4   574   26      8.0   2.1309     1      1"
      ]
     },
     "execution_count": 4,
     "metadata": {},
     "output_type": "execute_result"
    }
   ],
   "source": [
    "# Print off the split count \n",
    "print(\"Training Data:\",train.shape[0],\n",
    "      \"\\nTest Data:\",test.shape[0])\n",
    "# Look at the head of the data\n",
    "train.head()"
   ]
  },
  {
   "cell_type": "markdown",
   "id": "f1dc72b7",
   "metadata": {},
   "source": [
    "Coding below follows these five steps:\n",
    "1.\tCalculating class probabilities, the proportion of people vote and not vote;\n",
    "2.\tCalculating conditional probabilities, including the probabilities of three continuous variables(age, educate, income) and one dichotomous variable(white);\n",
    "3.\tMultiplying conditional probabilities and predicting a single observation to test;\n",
    "4.\tConducting a function to predicting multiple observations;\n",
    "5.\tExamining the predictive accuracy. \n"
   ]
  },
  {
   "cell_type": "markdown",
   "id": "525baa91",
   "metadata": {},
   "source": [
    "Calculate Class Probabilities: Pr(class)"
   ]
  },
  {
   "cell_type": "code",
   "execution_count": 5,
   "id": "48f272fd",
   "metadata": {},
   "outputs": [
    {
     "name": "stdout",
     "output_type": "stream",
     "text": [
      "\n",
      "Pr(vote = 1): 0.74125\n",
      "Pr(vote = 0): 0.25875\n",
      "\n"
     ]
    }
   ],
   "source": [
    "N = train.shape[0]##count the number of the obs\n",
    "vote1 = train.query(\"vote == 1\")# Subset the data by class\n",
    "vote0 = train.query(\"vote == 0\")\n",
    "pr_vote1 = vote1.shape[0]/N# Calculate the probability for each class\n",
    "pr_vote0 = vote0.shape[0]/N\n",
    "\n",
    "# Print the probabilities\n",
    "print(\n",
    "f\"\"\"\n",
    "Pr(vote = 1): {pr_vote1}\n",
    "Pr(vote = 0): {pr_vote0}\n",
    "\"\"\")"
   ]
  },
  {
   "cell_type": "markdown",
   "id": "b3cc05fc",
   "metadata": {},
   "source": [
    "Calculate the Conditional Probabilities Pr(data|class)"
   ]
  },
  {
   "cell_type": "code",
   "execution_count": 6,
   "id": "232b63e8",
   "metadata": {},
   "outputs": [
    {
     "name": "stdout",
     "output_type": "stream",
     "text": [
      "\n",
      "Pr(white  = 1 |vote = 1): 0.8768971332209107\n",
      "Pr(white  = 0 |vote = 1): 0.12310286677908938\n",
      "Pr(white  = 1 |vote = 0): 0.7922705314009661\n",
      "Pr(white  = 0 |vote = 0): 0.20772946859903382\n",
      "\n"
     ]
    }
   ],
   "source": [
    "##Calculate the Conditional Probabilities of each category \n",
    "# Given vote == 1\n",
    "w1_vote1 = vote1.query(\"white == 1\").shape[0]/vote1.shape[0]\n",
    "w0_vote1 = vote1.query(\"white == 0\").shape[0]/vote1.shape[0]\n",
    "\n",
    "# Given vote == 0\n",
    "w1_vote0 = vote0.query(\"white == 1\").shape[0]/vote0.shape[0]\n",
    "w0_vote0 = vote0.query(\"white == 0\").shape[0]/vote0.shape[0]\n",
    "\n",
    "print(\n",
    "f\"\"\"\n",
    "Pr(white  = 1 |vote = 1): {w1_vote1}\n",
    "Pr(white  = 0 |vote = 1): {w0_vote1}\n",
    "Pr(white  = 1 |vote = 0): {w1_vote0}\n",
    "Pr(white  = 0 |vote = 0): {w0_vote0}\n",
    "\"\"\")"
   ]
  },
  {
   "cell_type": "markdown",
   "id": "fc8d336c",
   "metadata": {},
   "source": [
    "Calculate the conditional means/standard deviations"
   ]
  },
  {
   "cell_type": "code",
   "execution_count": 7,
   "id": "a2df018d",
   "metadata": {
    "scrolled": true
   },
   "outputs": [
    {
     "name": "stdout",
     "output_type": "stream",
     "text": [
      "{('age', 0): {'mean': 42.78019323671498, 'sd': 16.978818227174425},\n",
      " ('age', 1): {'mean': 46.42664418212479, 'sd': 16.978818227174425},\n",
      " ('educate', 0): {'mean': 10.785024154589372, 'sd': 3.2227126579837133},\n",
      " ('educate', 1): {'mean': 12.603709949409781, 'sd': 3.322058189262507},\n",
      " ('income', 0): {'mean': 2.8050637681159425, 'sd': 2.233623471467791},\n",
      " ('income', 1): {'mean': 4.279906492411462, 'sd': 2.9359841296004734}}\n"
     ]
    }
   ],
   "source": [
    "# Collect the mean and standard dev. of each conditional distribution\n",
    "dist_locs = \\\n",
    "{(\"age\",1):{'mean':vote1.age.mean(),'sd':vote1.age.std()},\n",
    " (\"age\",0):{'mean':vote0.age.mean(),'sd':vote1.age.std()},\n",
    " (\"educate\",1):{'mean':vote1.educate.mean(),'sd':vote1.educate.std()},\n",
    " (\"educate\",0):{'mean':vote0.educate.mean(),'sd':vote0.educate.std()},\n",
    " (\"income\",1):{'mean':vote1.income.mean(),'sd':vote1.income.std()},\n",
    " (\"income\",0):{'mean':vote0.income.mean(),'sd':vote0.income.std()}\n",
    "}\n",
    "pp.pprint(dist_locs)# Print"
   ]
  },
  {
   "cell_type": "markdown",
   "id": "35a9743c",
   "metadata": {},
   "source": [
    "Predicting a single observation"
   ]
  },
  {
   "cell_type": "code",
   "execution_count": 8,
   "id": "4a06cd8a",
   "metadata": {},
   "outputs": [
    {
     "name": "stdout",
     "output_type": "stream",
     "text": [
      "251.0 23.0 12.0 2.522 1.0 1.0\n"
     ]
    }
   ],
   "source": [
    "code,age,educate,income,vote,white  = train.iloc[1,:]##take the first ob as an example \n",
    "print(code,age,educate,income,vote,white )"
   ]
  },
  {
   "cell_type": "code",
   "execution_count": 9,
   "id": "7ad28528",
   "metadata": {},
   "outputs": [
    {
     "name": "stdout",
     "output_type": "stream",
     "text": [
      "\n",
      "    Pr(vote == 1| X): 7.909843320187016e-05\n",
      "    Pr(vote == 0| X): 4.9920653367261156e-05\n",
      "\n"
     ]
    }
   ],
   "source": [
    "# Prediction for the 1 class\n",
    "a = st.norm(dist_locs[(\"age\",1)]['mean'], dist_locs[(\"age\",1)]['sd']).pdf(age)\n",
    "b = st.norm(dist_locs[(\"educate\",1)]['mean'], dist_locs[(\"educate\",1)]['sd']).pdf(educate)\n",
    "c = st.norm(dist_locs[(\"income\",1)]['mean'], dist_locs[(\"income\",1)]['sd']).pdf(income)\n",
    "d = w1_vote1 \n",
    "e = pr_vote1\n",
    "pr_1 = a * b * c * d * e\n",
    "\n",
    "# Prediction for the 0 class\n",
    "a = st.norm(dist_locs[(\"age\",0)]['mean'], dist_locs[(\"age\",0)]['sd']).pdf(age)\n",
    "b = st.norm(dist_locs[(\"educate\",0)]['mean'], dist_locs[(\"educate\",0)]['sd']).pdf(educate)\n",
    "c = st.norm(dist_locs[(\"income\",0)]['mean'], dist_locs[(\"income\",0)]['sd']).pdf(income)\n",
    "d = w1_vote0\n",
    "e = pr_vote0\n",
    "pr_0 =  a * b * c * d * e\n",
    "\n",
    "print(\n",
    "f'''\n",
    "    Pr(vote == 1| X): {pr_1}\n",
    "    Pr(vote == 0| X): {pr_0}\n",
    "''')"
   ]
  },
  {
   "cell_type": "markdown",
   "id": "30c91908",
   "metadata": {},
   "source": [
    " 0.00011 is greater than 4.3575944751434353e-05, so we predict that vote=1"
   ]
  },
  {
   "cell_type": "markdown",
   "id": "3b50c8e3",
   "metadata": {},
   "source": [
    "Predicting multiple observations"
   ]
  },
  {
   "cell_type": "code",
   "execution_count": 10,
   "id": "ba5e9d29",
   "metadata": {},
   "outputs": [],
   "source": [
    "def predict(data,dist_locs):\n",
    "    '''\n",
    "    Function multiplys the conditional probabilities of the continuous variable with the conditional probabilities of the binary variable to predicte. The results is defined by the higher probability.\n",
    "    -----\n",
    "    Arguments:\n",
    "    data is the dataset(with three continuous variables in the front of row ) need working on\n",
    "    dist_locs is the dictionary containing the conditional probabilities of the continuous variables\n",
    "    -----\n",
    "    Results:\n",
    "    A df containing the predicted result of each respondent will be returned \n",
    "    \n",
    "    '''\n",
    "    store_preds = []##create a null list to store data \n",
    "    for i,row in data.iterrows():\n",
    "        \n",
    "        # Get the predictions using a Gaussan distribution\n",
    "        pr_0 = 1; pr_1 = 1##assign  pr_0 and pr_1 to a value \n",
    "        for j in range(1,4):##interate through the three continuous variables\n",
    "\n",
    "            pr_0 *= st.norm(dist_locs[(row.index[j],0)]['mean'],\n",
    "                            dist_locs[(row.index[j],0)]['sd']).pdf(row.values[j])\n",
    "            pr_1 *= st.norm(dist_locs[(row.index[j],1)]['mean'], \n",
    "                            dist_locs[(row.index[j],1)]['sd']).pdf(row.values[j])\n",
    "        #take the race(white==1) into consideration\n",
    "        if(row[\"white\"]==1):\n",
    "            pr_0*=w1_vote0\n",
    "        else:\n",
    "            pr_0*=w0_vote0\n",
    "    \n",
    "        if(row[\"white\"]==1):\n",
    "            pr_1*=w1_vote1\n",
    "        else:\n",
    "            pr_1*=w0_vote1\n",
    "        pr_0 *= pr_vote0##multiply conditional probabilities of all variables \n",
    "        pr_1 *= pr_vote1\n",
    "        # Assign the class designation to the highest probability\n",
    "        if pr_0 >= pr_1:\n",
    "            class_pred = 0\n",
    "        else:\n",
    "            class_pred = 1\n",
    "        ## iterate through each observation \n",
    "        store_preds.append([pr_0,pr_1,class_pred])\n",
    "        ##store the list as a df \n",
    "    return pd.DataFrame(store_preds,columns=[\"pr_0\",\"pr_1\",\"prediction\"])"
   ]
  },
  {
   "cell_type": "code",
   "execution_count": 11,
   "id": "ab698bcf",
   "metadata": {},
   "outputs": [],
   "source": [
    "# Run this function on train dataset\n",
    "preds_train = predict(train,dist_locs)"
   ]
  },
  {
   "cell_type": "code",
   "execution_count": 12,
   "id": "7d364bf9",
   "metadata": {
    "scrolled": true
   },
   "outputs": [
    {
     "data": {
      "text/html": [
       "<div>\n",
       "<style scoped>\n",
       "    .dataframe tbody tr th:only-of-type {\n",
       "        vertical-align: middle;\n",
       "    }\n",
       "\n",
       "    .dataframe tbody tr th {\n",
       "        vertical-align: top;\n",
       "    }\n",
       "\n",
       "    .dataframe thead th {\n",
       "        text-align: right;\n",
       "    }\n",
       "</style>\n",
       "<table border=\"1\" class=\"dataframe\">\n",
       "  <thead>\n",
       "    <tr style=\"text-align: right;\">\n",
       "      <th></th>\n",
       "      <th>pr_0</th>\n",
       "      <th>pr_1</th>\n",
       "      <th>prediction</th>\n",
       "    </tr>\n",
       "  </thead>\n",
       "  <tbody>\n",
       "    <tr>\n",
       "      <th>0</th>\n",
       "      <td>2.300313e-08</td>\n",
       "      <td>0.000008</td>\n",
       "      <td>1</td>\n",
       "    </tr>\n",
       "    <tr>\n",
       "      <th>1</th>\n",
       "      <td>4.992065e-05</td>\n",
       "      <td>0.000079</td>\n",
       "      <td>1</td>\n",
       "    </tr>\n",
       "    <tr>\n",
       "      <th>2</th>\n",
       "      <td>2.869141e-06</td>\n",
       "      <td>0.000059</td>\n",
       "      <td>1</td>\n",
       "    </tr>\n",
       "    <tr>\n",
       "      <th>3</th>\n",
       "      <td>1.869407e-06</td>\n",
       "      <td>0.000068</td>\n",
       "      <td>1</td>\n",
       "    </tr>\n",
       "    <tr>\n",
       "      <th>4</th>\n",
       "      <td>4.298307e-05</td>\n",
       "      <td>0.000035</td>\n",
       "      <td>0</td>\n",
       "    </tr>\n",
       "    <tr>\n",
       "      <th>5</th>\n",
       "      <td>1.658771e-05</td>\n",
       "      <td>0.000014</td>\n",
       "      <td>0</td>\n",
       "    </tr>\n",
       "    <tr>\n",
       "      <th>6</th>\n",
       "      <td>8.397865e-07</td>\n",
       "      <td>0.000043</td>\n",
       "      <td>1</td>\n",
       "    </tr>\n",
       "    <tr>\n",
       "      <th>7</th>\n",
       "      <td>4.765175e-05</td>\n",
       "      <td>0.000144</td>\n",
       "      <td>1</td>\n",
       "    </tr>\n",
       "    <tr>\n",
       "      <th>8</th>\n",
       "      <td>2.063641e-05</td>\n",
       "      <td>0.000098</td>\n",
       "      <td>1</td>\n",
       "    </tr>\n",
       "    <tr>\n",
       "      <th>9</th>\n",
       "      <td>1.501618e-08</td>\n",
       "      <td>0.000001</td>\n",
       "      <td>1</td>\n",
       "    </tr>\n",
       "  </tbody>\n",
       "</table>\n",
       "</div>"
      ],
      "text/plain": [
       "           pr_0      pr_1  prediction\n",
       "0  2.300313e-08  0.000008           1\n",
       "1  4.992065e-05  0.000079           1\n",
       "2  2.869141e-06  0.000059           1\n",
       "3  1.869407e-06  0.000068           1\n",
       "4  4.298307e-05  0.000035           0\n",
       "5  1.658771e-05  0.000014           0\n",
       "6  8.397865e-07  0.000043           1\n",
       "7  4.765175e-05  0.000144           1\n",
       "8  2.063641e-05  0.000098           1\n",
       "9  1.501618e-08  0.000001           1"
      ]
     },
     "execution_count": 12,
     "metadata": {},
     "output_type": "execute_result"
    }
   ],
   "source": [
    "# Predicted output\n",
    "preds_train.head(10)"
   ]
  },
  {
   "cell_type": "code",
   "execution_count": 13,
   "id": "c9e0c9b7",
   "metadata": {},
   "outputs": [],
   "source": [
    "# Run this function on test dataset\n",
    "preds_test = predict(test,dist_locs)"
   ]
  },
  {
   "cell_type": "code",
   "execution_count": 14,
   "id": "87247156",
   "metadata": {},
   "outputs": [
    {
     "data": {
      "text/html": [
       "<div>\n",
       "<style scoped>\n",
       "    .dataframe tbody tr th:only-of-type {\n",
       "        vertical-align: middle;\n",
       "    }\n",
       "\n",
       "    .dataframe tbody tr th {\n",
       "        vertical-align: top;\n",
       "    }\n",
       "\n",
       "    .dataframe thead th {\n",
       "        text-align: right;\n",
       "    }\n",
       "</style>\n",
       "<table border=\"1\" class=\"dataframe\">\n",
       "  <thead>\n",
       "    <tr style=\"text-align: right;\">\n",
       "      <th></th>\n",
       "      <th>pr_0</th>\n",
       "      <th>pr_1</th>\n",
       "      <th>prediction</th>\n",
       "    </tr>\n",
       "  </thead>\n",
       "  <tbody>\n",
       "    <tr>\n",
       "      <th>0</th>\n",
       "      <td>5.209828e-06</td>\n",
       "      <td>1.363811e-05</td>\n",
       "      <td>1</td>\n",
       "    </tr>\n",
       "    <tr>\n",
       "      <th>1</th>\n",
       "      <td>2.373622e-05</td>\n",
       "      <td>1.780097e-04</td>\n",
       "      <td>1</td>\n",
       "    </tr>\n",
       "    <tr>\n",
       "      <th>2</th>\n",
       "      <td>2.847919e-05</td>\n",
       "      <td>6.752376e-05</td>\n",
       "      <td>1</td>\n",
       "    </tr>\n",
       "    <tr>\n",
       "      <th>3</th>\n",
       "      <td>8.391783e-05</td>\n",
       "      <td>1.789943e-04</td>\n",
       "      <td>1</td>\n",
       "    </tr>\n",
       "    <tr>\n",
       "      <th>4</th>\n",
       "      <td>1.955891e-06</td>\n",
       "      <td>4.258618e-05</td>\n",
       "      <td>1</td>\n",
       "    </tr>\n",
       "    <tr>\n",
       "      <th>5</th>\n",
       "      <td>5.342983e-05</td>\n",
       "      <td>7.978750e-05</td>\n",
       "      <td>1</td>\n",
       "    </tr>\n",
       "    <tr>\n",
       "      <th>6</th>\n",
       "      <td>5.233246e-08</td>\n",
       "      <td>1.469802e-08</td>\n",
       "      <td>0</td>\n",
       "    </tr>\n",
       "    <tr>\n",
       "      <th>7</th>\n",
       "      <td>4.042522e-05</td>\n",
       "      <td>7.248681e-05</td>\n",
       "      <td>1</td>\n",
       "    </tr>\n",
       "    <tr>\n",
       "      <th>8</th>\n",
       "      <td>9.388557e-06</td>\n",
       "      <td>7.243149e-06</td>\n",
       "      <td>0</td>\n",
       "    </tr>\n",
       "    <tr>\n",
       "      <th>9</th>\n",
       "      <td>3.607851e-05</td>\n",
       "      <td>1.034091e-04</td>\n",
       "      <td>1</td>\n",
       "    </tr>\n",
       "  </tbody>\n",
       "</table>\n",
       "</div>"
      ],
      "text/plain": [
       "           pr_0          pr_1  prediction\n",
       "0  5.209828e-06  1.363811e-05           1\n",
       "1  2.373622e-05  1.780097e-04           1\n",
       "2  2.847919e-05  6.752376e-05           1\n",
       "3  8.391783e-05  1.789943e-04           1\n",
       "4  1.955891e-06  4.258618e-05           1\n",
       "5  5.342983e-05  7.978750e-05           1\n",
       "6  5.233246e-08  1.469802e-08           0\n",
       "7  4.042522e-05  7.248681e-05           1\n",
       "8  9.388557e-06  7.243149e-06           0\n",
       "9  3.607851e-05  1.034091e-04           1"
      ]
     },
     "execution_count": 14,
     "metadata": {},
     "output_type": "execute_result"
    }
   ],
   "source": [
    "# Predicted output\n",
    "preds_test.head(10)"
   ]
  },
  {
   "cell_type": "markdown",
   "id": "5898a7c0",
   "metadata": {},
   "source": [
    "Examine the predictive accuracy of the training data."
   ]
  },
  {
   "cell_type": "code",
   "execution_count": 15,
   "id": "55497199",
   "metadata": {
    "scrolled": true
   },
   "outputs": [
    {
     "data": {
      "text/plain": [
       "0.73625"
      ]
     },
     "execution_count": 15,
     "metadata": {},
     "output_type": "execute_result"
    }
   ],
   "source": [
    "accuracy_train = sum(train.vote == preds_train.prediction)/train.shape[0]##Examine the predictive accuracy of the training data.\n",
    "accuracy_train"
   ]
  },
  {
   "cell_type": "markdown",
   "id": "34f8d1e0",
   "metadata": {},
   "source": [
    "Examine the predictive accuracy on the test data."
   ]
  },
  {
   "cell_type": "code",
   "execution_count": 16,
   "id": "9f5fc48c",
   "metadata": {},
   "outputs": [
    {
     "data": {
      "text/plain": [
       "0.705"
      ]
     },
     "execution_count": 16,
     "metadata": {},
     "output_type": "execute_result"
    }
   ],
   "source": [
    "accuracy_test = sum(test.vote == preds_test.prediction)/test.shape[0]##Examine the predictive accuracy on the test data.\n",
    "accuracy_test"
   ]
  },
  {
   "cell_type": "markdown",
   "id": "a57d62f7",
   "metadata": {},
   "source": [
    "In a nut shell, with an accuracy of 70.5% on the test data, the prediction performs better than chance(coin flip), which would be 50%."
   ]
  }
 ],
 "metadata": {
  "kernelspec": {
   "display_name": "Python 3",
   "language": "python",
   "name": "python3"
  },
  "language_info": {
   "codemirror_mode": {
    "name": "ipython",
    "version": 3
   },
   "file_extension": ".py",
   "mimetype": "text/x-python",
   "name": "python",
   "nbconvert_exporter": "python",
   "pygments_lexer": "ipython3",
   "version": "3.8.8"
  }
 },
 "nbformat": 4,
 "nbformat_minor": 5
}
