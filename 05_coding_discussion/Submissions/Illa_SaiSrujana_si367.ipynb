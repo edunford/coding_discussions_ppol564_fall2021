{
 "cells": [
  {
   "cell_type": "code",
   "execution_count": 1,
   "metadata": {},
   "outputs": [],
   "source": [
    "import pandas as pd\n",
    "import numpy as np\n",
    "import pprint as pp # for printing\n",
    "import scipy.stats as st # for Normal PDF \n",
    "import matplotlib.pyplot as plt\n",
    "import seaborn as sns\n",
    "from plotnine import *\n",
    "import warnings\n",
    "warnings.filterwarnings(\"ignore\")"
   ]
  },
  {
   "cell_type": "code",
   "execution_count": 2,
   "metadata": {},
   "outputs": [
    {
     "data": {
      "text/html": [
       "<div>\n",
       "<style scoped>\n",
       "    .dataframe tbody tr th:only-of-type {\n",
       "        vertical-align: middle;\n",
       "    }\n",
       "\n",
       "    .dataframe tbody tr th {\n",
       "        vertical-align: top;\n",
       "    }\n",
       "\n",
       "    .dataframe thead th {\n",
       "        text-align: right;\n",
       "    }\n",
       "</style>\n",
       "<table border=\"1\" class=\"dataframe\">\n",
       "  <thead>\n",
       "    <tr style=\"text-align: right;\">\n",
       "      <th></th>\n",
       "      <th>id</th>\n",
       "      <th>age</th>\n",
       "      <th>educate</th>\n",
       "      <th>income</th>\n",
       "      <th>vote</th>\n",
       "      <th>white</th>\n",
       "    </tr>\n",
       "  </thead>\n",
       "  <tbody>\n",
       "    <tr>\n",
       "      <th>0</th>\n",
       "      <td>1</td>\n",
       "      <td>60</td>\n",
       "      <td>14.0</td>\n",
       "      <td>3.3458</td>\n",
       "      <td>1</td>\n",
       "      <td>1</td>\n",
       "    </tr>\n",
       "    <tr>\n",
       "      <th>1</th>\n",
       "      <td>2</td>\n",
       "      <td>51</td>\n",
       "      <td>10.0</td>\n",
       "      <td>1.8561</td>\n",
       "      <td>0</td>\n",
       "      <td>1</td>\n",
       "    </tr>\n",
       "    <tr>\n",
       "      <th>2</th>\n",
       "      <td>3</td>\n",
       "      <td>24</td>\n",
       "      <td>12.0</td>\n",
       "      <td>0.6304</td>\n",
       "      <td>0</td>\n",
       "      <td>1</td>\n",
       "    </tr>\n",
       "    <tr>\n",
       "      <th>3</th>\n",
       "      <td>4</td>\n",
       "      <td>38</td>\n",
       "      <td>8.0</td>\n",
       "      <td>3.4183</td>\n",
       "      <td>1</td>\n",
       "      <td>1</td>\n",
       "    </tr>\n",
       "    <tr>\n",
       "      <th>4</th>\n",
       "      <td>5</td>\n",
       "      <td>25</td>\n",
       "      <td>12.0</td>\n",
       "      <td>2.7852</td>\n",
       "      <td>1</td>\n",
       "      <td>1</td>\n",
       "    </tr>\n",
       "  </tbody>\n",
       "</table>\n",
       "</div>"
      ],
      "text/plain": [
       "   id  age  educate  income  vote  white\n",
       "0   1   60     14.0  3.3458     1      1\n",
       "1   2   51     10.0  1.8561     0      1\n",
       "2   3   24     12.0  0.6304     0      1\n",
       "3   4   38      8.0  3.4183     1      1\n",
       "4   5   25     12.0  2.7852     1      1"
      ]
     },
     "execution_count": 2,
     "metadata": {},
     "output_type": "execute_result"
    }
   ],
   "source": [
    "turnout = pd.read_csv(\"turnout.csv\") #reading in the dataset\n",
    "turnout.head()"
   ]
  },
  {
   "cell_type": "code",
   "execution_count": 3,
   "metadata": {},
   "outputs": [
    {
     "data": {
      "text/html": [
       "<div>\n",
       "<style scoped>\n",
       "    .dataframe tbody tr th:only-of-type {\n",
       "        vertical-align: middle;\n",
       "    }\n",
       "\n",
       "    .dataframe tbody tr th {\n",
       "        vertical-align: top;\n",
       "    }\n",
       "\n",
       "    .dataframe thead th {\n",
       "        text-align: right;\n",
       "    }\n",
       "</style>\n",
       "<table border=\"1\" class=\"dataframe\">\n",
       "  <thead>\n",
       "    <tr style=\"text-align: right;\">\n",
       "      <th></th>\n",
       "      <th>id</th>\n",
       "      <th>age</th>\n",
       "      <th>educate</th>\n",
       "      <th>income</th>\n",
       "      <th>vote</th>\n",
       "      <th>white</th>\n",
       "    </tr>\n",
       "  </thead>\n",
       "  <tbody>\n",
       "    <tr>\n",
       "      <th>0</th>\n",
       "      <td>1861</td>\n",
       "      <td>54</td>\n",
       "      <td>10.0</td>\n",
       "      <td>1.2659</td>\n",
       "      <td>1</td>\n",
       "      <td>1</td>\n",
       "    </tr>\n",
       "    <tr>\n",
       "      <th>1</th>\n",
       "      <td>354</td>\n",
       "      <td>44</td>\n",
       "      <td>16.0</td>\n",
       "      <td>3.1676</td>\n",
       "      <td>1</td>\n",
       "      <td>0</td>\n",
       "    </tr>\n",
       "    <tr>\n",
       "      <th>2</th>\n",
       "      <td>1334</td>\n",
       "      <td>45</td>\n",
       "      <td>14.0</td>\n",
       "      <td>5.1780</td>\n",
       "      <td>1</td>\n",
       "      <td>0</td>\n",
       "    </tr>\n",
       "    <tr>\n",
       "      <th>3</th>\n",
       "      <td>906</td>\n",
       "      <td>80</td>\n",
       "      <td>8.0</td>\n",
       "      <td>1.2610</td>\n",
       "      <td>0</td>\n",
       "      <td>1</td>\n",
       "    </tr>\n",
       "    <tr>\n",
       "      <th>4</th>\n",
       "      <td>1290</td>\n",
       "      <td>26</td>\n",
       "      <td>14.0</td>\n",
       "      <td>7.0281</td>\n",
       "      <td>0</td>\n",
       "      <td>1</td>\n",
       "    </tr>\n",
       "  </tbody>\n",
       "</table>\n",
       "</div>"
      ],
      "text/plain": [
       "     id  age  educate  income  vote  white\n",
       "0  1861   54     10.0  1.2659     1      1\n",
       "1   354   44     16.0  3.1676     1      0\n",
       "2  1334   45     14.0  5.1780     1      0\n",
       "3   906   80      8.0  1.2610     0      1\n",
       "4  1290   26     14.0  7.0281     0      1"
      ]
     },
     "execution_count": 3,
     "metadata": {},
     "output_type": "execute_result"
    }
   ],
   "source": [
    "np.random.seed(42)\n",
    "train = turnout.sample(frac=.8).reset_index(drop=True) #splitting 80% dataset for training\n",
    "train.head()"
   ]
  },
  {
   "cell_type": "code",
   "execution_count": 4,
   "metadata": {},
   "outputs": [
    {
     "data": {
      "text/html": [
       "<div>\n",
       "<style scoped>\n",
       "    .dataframe tbody tr th:only-of-type {\n",
       "        vertical-align: middle;\n",
       "    }\n",
       "\n",
       "    .dataframe tbody tr th {\n",
       "        vertical-align: top;\n",
       "    }\n",
       "\n",
       "    .dataframe thead th {\n",
       "        text-align: right;\n",
       "    }\n",
       "</style>\n",
       "<table border=\"1\" class=\"dataframe\">\n",
       "  <thead>\n",
       "    <tr style=\"text-align: right;\">\n",
       "      <th></th>\n",
       "      <th>id</th>\n",
       "      <th>age</th>\n",
       "      <th>educate</th>\n",
       "      <th>income</th>\n",
       "      <th>vote</th>\n",
       "      <th>white</th>\n",
       "    </tr>\n",
       "  </thead>\n",
       "  <tbody>\n",
       "    <tr>\n",
       "      <th>0</th>\n",
       "      <td>1601</td>\n",
       "      <td>31</td>\n",
       "      <td>16.0</td>\n",
       "      <td>3.9394</td>\n",
       "      <td>1</td>\n",
       "      <td>0</td>\n",
       "    </tr>\n",
       "    <tr>\n",
       "      <th>1</th>\n",
       "      <td>1602</td>\n",
       "      <td>53</td>\n",
       "      <td>12.0</td>\n",
       "      <td>6.3352</td>\n",
       "      <td>1</td>\n",
       "      <td>1</td>\n",
       "    </tr>\n",
       "    <tr>\n",
       "      <th>2</th>\n",
       "      <td>1603</td>\n",
       "      <td>65</td>\n",
       "      <td>12.0</td>\n",
       "      <td>0.8284</td>\n",
       "      <td>0</td>\n",
       "      <td>1</td>\n",
       "    </tr>\n",
       "    <tr>\n",
       "      <th>3</th>\n",
       "      <td>1604</td>\n",
       "      <td>34</td>\n",
       "      <td>12.0</td>\n",
       "      <td>3.3834</td>\n",
       "      <td>1</td>\n",
       "      <td>1</td>\n",
       "    </tr>\n",
       "    <tr>\n",
       "      <th>4</th>\n",
       "      <td>1605</td>\n",
       "      <td>28</td>\n",
       "      <td>12.0</td>\n",
       "      <td>8.7545</td>\n",
       "      <td>0</td>\n",
       "      <td>1</td>\n",
       "    </tr>\n",
       "  </tbody>\n",
       "</table>\n",
       "</div>"
      ],
      "text/plain": [
       "     id  age  educate  income  vote  white\n",
       "0  1601   31     16.0  3.9394     1      0\n",
       "1  1602   53     12.0  6.3352     1      1\n",
       "2  1603   65     12.0  0.8284     0      1\n",
       "3  1604   34     12.0  3.3834     1      1\n",
       "4  1605   28     12.0  8.7545     0      1"
      ]
     },
     "execution_count": 4,
     "metadata": {},
     "output_type": "execute_result"
    }
   ],
   "source": [
    "test = turnout.drop(train.index).reset_index(drop=True)# and the rest 20% for testing\n",
    "test.head()"
   ]
  },
  {
   "cell_type": "code",
   "execution_count": 5,
   "metadata": {},
   "outputs": [
    {
     "name": "stdout",
     "output_type": "stream",
     "text": [
      "No of observations in training data: 1600 \n",
      "No of observations in test data: 400\n"
     ]
    }
   ],
   "source": [
    "print(\"No of observations in training data:\", train.shape[0], \"\\nNo of observations in test data:\", test.shape[0])"
   ]
  },
  {
   "cell_type": "markdown",
   "metadata": {},
   "source": [
    "## Naive Bayes Classifier\n",
    "\n",
    "$$Pr(class | data) = Pr( x_1| class)\\times Pr( x_2| class) \\times \\dots \\times  Pr(class)$$"
   ]
  },
  {
   "cell_type": "markdown",
   "metadata": {},
   "source": [
    "### APPROACH: Following the Naive Bayes Classifier approach, we will mulitpy the conditional probabilities of both discrete and continuous variables with each other and then multipy the product with class proability to arrive at the predictions"
   ]
  },
  {
   "cell_type": "markdown",
   "metadata": {},
   "source": [
    "### Conditional Probability of discrete variables"
   ]
  },
  {
   "cell_type": "markdown",
   "metadata": {},
   "source": [
    "#### Class Probabilities - we calculate the probability of someone voting and not voting in the training dataset"
   ]
  },
  {
   "cell_type": "code",
   "execution_count": 6,
   "metadata": {},
   "outputs": [
    {
     "name": "stdout",
     "output_type": "stream",
     "text": [
      "\n",
      "Pr(vote = 1): 0.75125\n",
      "Pr(vote = 0): 0.24875\n",
      "\n"
     ]
    }
   ],
   "source": [
    "vote_0 = train.query(\"vote == 0\") #pulling observations of people who didn't vote\n",
    "vote_1 = train.query(\"vote == 1\") #pulling observations of people who voted\n",
    "\n",
    "N = train.shape[0]\n",
    "\n",
    "#Calculating class probability\n",
    "pr_vote_0 = vote_0.shape[0]/N  \n",
    "pr_vote_1 = vote_1.shape[0]/N\n",
    "\n",
    "#Printing the class probabilities that we calculated\n",
    "print(\n",
    "f\"\"\"\n",
    "Pr(vote = 1): {pr_vote_1}\n",
    "Pr(vote = 0): {pr_vote_0}\n",
    "\"\"\")"
   ]
  },
  {
   "cell_type": "markdown",
   "metadata": {},
   "source": [
    "#### Conditional Probabilities"
   ]
  },
  {
   "cell_type": "code",
   "execution_count": 7,
   "metadata": {},
   "outputs": [
    {
     "name": "stdout",
     "output_type": "stream",
     "text": [
      "\n",
      "Pr(white = 1 |vote = 1): 0.8743760399334443\n",
      "Pr(white = 0 |vote = 1): 0.12562396006655574\n",
      "\n",
      "Pr(white = 1 |vote = 0): 0.7889447236180904\n",
      "Pr(white = 0 |vote = 0): 0.21105527638190955\n",
      "\n"
     ]
    }
   ],
   "source": [
    "\n",
    "white1_vote1 = vote_1.query(\"white==1\").shape[0]/ vote_1.shape[0] #probaility of a person being white given that they vote\n",
    "white0_vote1 = vote_1.query(\"white==0\").shape[0]/ vote_1.shape[0] #probaility of a person not being white given that they vote\n",
    "\n",
    "#probaility of a person being white given that they didn't vote\n",
    "white1_vote0 = vote_0.query(\"white==1\").shape[0]/ vote_0.shape[0]\n",
    "\n",
    "#probaility of a person not being white given that they didn't vote\n",
    "white0_vote0 = vote_0.query(\"white==0\").shape[0]/ vote_0.shape[0] \n",
    "\n",
    "print(\n",
    "f\"\"\"\n",
    "Pr(white = 1 |vote = 1): {white1_vote1}\n",
    "Pr(white = 0 |vote = 1): {white0_vote1}\n",
    "\n",
    "Pr(white = 1 |vote = 0): {white1_vote0}\n",
    "Pr(white = 0 |vote = 0): {white0_vote0}\n",
    "\"\"\")"
   ]
  },
  {
   "cell_type": "markdown",
   "metadata": {},
   "source": [
    "#### Predicting Multiple observations"
   ]
  },
  {
   "cell_type": "code",
   "execution_count": 8,
   "metadata": {},
   "outputs": [
    {
     "name": "stdout",
     "output_type": "stream",
     "text": [
      "class probabilities\n",
      "\n",
      "{0: 0.24875, 1: 0.75125}\n",
      "\n",
      "\n",
      "conditional probabilities\n",
      "\n",
      "{('white', 0, 0): 0.21105527638190957,\n",
      " ('white', 0, 1): 0.12562396006655574,\n",
      " ('white', 1, 0): 0.7889447236180904,\n",
      " ('white', 1, 1): 0.8743760399334443}\n"
     ]
    }
   ],
   "source": [
    "# We generate dictionaries for class and conditional probabilities\n",
    "\n",
    "def calc_probs(data, var=\"vote\"):\n",
    "    '''\n",
    "    Function calculates the class and conditional probabilities in \n",
    "    the binary data. \n",
    "    \n",
    "    '''\n",
    "    # Generate empty dictionary containers.\n",
    "    class_probs = {};cond_probs = {}\n",
    "\n",
    "    # iterate through the class outcomes\n",
    "    for v_0, v_1 in data.groupby(\"vote\"): \n",
    "        # calculate the class probabilities\n",
    "        class_probs.update({v_0: v_1.shape[0]/data.shape[0]})\n",
    "        pr = v_1[\"white\"].sum()/v_1.shape[0]\n",
    "        cond_probs[(\"white\",1,v_0)] = pr \n",
    "        cond_probs[(\"white\",0,v_0)] = 1 - pr\n",
    "    return class_probs, cond_probs\n",
    "\n",
    "\n",
    "# storing the function output into class_probs and cond_probs objects\n",
    "class_probs, cond_probs = calc_probs(train,\"vote\")\n",
    "\n",
    "# Printing class and conditional probabilities\n",
    "print(\"class probabilities\",end=\"\\n\\n\")\n",
    "pp.pprint(class_probs)\n",
    "print(\"\\n\")\n",
    "print(\"conditional probabilities\",end=\"\\n\\n\")\n",
    "pp.pprint(cond_probs)"
   ]
  },
  {
   "cell_type": "code",
   "execution_count": 10,
   "metadata": {},
   "outputs": [
    {
     "data": {
      "text/html": [
       "<div>\n",
       "<style scoped>\n",
       "    .dataframe tbody tr th:only-of-type {\n",
       "        vertical-align: middle;\n",
       "    }\n",
       "\n",
       "    .dataframe tbody tr th {\n",
       "        vertical-align: top;\n",
       "    }\n",
       "\n",
       "    .dataframe thead th {\n",
       "        text-align: right;\n",
       "    }\n",
       "</style>\n",
       "<table border=\"1\" class=\"dataframe\">\n",
       "  <thead>\n",
       "    <tr style=\"text-align: right;\">\n",
       "      <th></th>\n",
       "      <th>pr_d_0</th>\n",
       "      <th>pr_d_1</th>\n",
       "    </tr>\n",
       "  </thead>\n",
       "  <tbody>\n",
       "    <tr>\n",
       "      <th>0</th>\n",
       "      <td>0.788945</td>\n",
       "      <td>0.874376</td>\n",
       "    </tr>\n",
       "    <tr>\n",
       "      <th>1</th>\n",
       "      <td>0.211055</td>\n",
       "      <td>0.125624</td>\n",
       "    </tr>\n",
       "    <tr>\n",
       "      <th>2</th>\n",
       "      <td>0.211055</td>\n",
       "      <td>0.125624</td>\n",
       "    </tr>\n",
       "    <tr>\n",
       "      <th>3</th>\n",
       "      <td>0.788945</td>\n",
       "      <td>0.874376</td>\n",
       "    </tr>\n",
       "    <tr>\n",
       "      <th>4</th>\n",
       "      <td>0.788945</td>\n",
       "      <td>0.874376</td>\n",
       "    </tr>\n",
       "  </tbody>\n",
       "</table>\n",
       "</div>"
      ],
      "text/plain": [
       "     pr_d_0    pr_d_1\n",
       "0  0.788945  0.874376\n",
       "1  0.211055  0.125624\n",
       "2  0.211055  0.125624\n",
       "3  0.788945  0.874376\n",
       "4  0.788945  0.874376"
      ]
     },
     "execution_count": 10,
     "metadata": {},
     "output_type": "execute_result"
    }
   ],
   "source": [
    "def predict(data,cond_probs):\n",
    "    '''\n",
    "    Function calculates the conditional probability for membership into each class.\n",
    "    '''\n",
    "    store_preds = []\n",
    "    for i,row in data.iterrows():\n",
    "        \n",
    "        pr_0 = cond_probs[('white',row.white,0)] \n",
    "        pr_1 = cond_probs[('white',row.white,1)]  \n",
    "        \n",
    "        store_preds.append([pr_0,pr_1])\n",
    "    return pd.DataFrame(store_preds,columns=[\"pr_d_0\",\"pr_d_1\"])\n",
    "\n",
    "#calculating the conditional probabilitie for the discrete variable on the training data set \n",
    "preds_discrete = predict(train, cond_probs)\n",
    "preds_discrete.head()"
   ]
  },
  {
   "cell_type": "markdown",
   "metadata": {},
   "source": [
    "### Continuous variables on our dataset- age, educate, income"
   ]
  },
  {
   "cell_type": "code",
   "execution_count": 17,
   "metadata": {},
   "outputs": [
    {
     "name": "stdout",
     "output_type": "stream",
     "text": [
      "{('age', 0): {'mean': 42.37185929648241, 'sd': 19.006625175567997},\n",
      " ('age', 1): {'mean': 46.44925124792013, 'sd': 16.936758606996662},\n",
      " ('educate', 0): {'mean': 10.825376884422111, 'sd': 3.1563432966353564},\n",
      " ('educate', 1): {'mean': 12.517054908485857, 'sd': 3.2786113780338866},\n",
      " ('income', 0): {'mean': 2.8102128140703533, 'sd': 2.2937124906875623},\n",
      " ('income', 1): {'mean': 4.254539267886853, 'sd': 2.942782307111688}}\n"
     ]
    }
   ],
   "source": [
    "# Collect the mean and standard dev. of each conditional distribution\n",
    "dist_locs = \\\n",
    "{(\"age\",1):{'mean':vote_1.age.mean(),'sd':vote_1.age.std()},\n",
    " (\"age\",0):{'mean':vote_0.age.mean(),'sd':vote_0.age.std()},\n",
    " (\"educate\",1):{'mean':vote_1.educate.mean(),'sd':vote_1.educate.std()},\n",
    " (\"educate\",0):{'mean':vote_0.educate.mean(),'sd':vote_0.educate.std()},\n",
    " (\"income\",1):{'mean':vote_1.income.mean(),'sd':vote_1.income.std()},\n",
    " (\"income\",0):{'mean':vote_0.income.mean(),'sd':vote_0.income.std()}\n",
    "}\n",
    "\n",
    "pp.pprint(dist_locs)"
   ]
  },
  {
   "cell_type": "code",
   "execution_count": 12,
   "metadata": {},
   "outputs": [
    {
     "data": {
      "text/html": [
       "<div>\n",
       "<style scoped>\n",
       "    .dataframe tbody tr th:only-of-type {\n",
       "        vertical-align: middle;\n",
       "    }\n",
       "\n",
       "    .dataframe tbody tr th {\n",
       "        vertical-align: top;\n",
       "    }\n",
       "\n",
       "    .dataframe thead th {\n",
       "        text-align: right;\n",
       "    }\n",
       "</style>\n",
       "<table border=\"1\" class=\"dataframe\">\n",
       "  <thead>\n",
       "    <tr style=\"text-align: right;\">\n",
       "      <th></th>\n",
       "      <th>pr_c_0</th>\n",
       "      <th>pr_c_1</th>\n",
       "    </tr>\n",
       "  </thead>\n",
       "  <tbody>\n",
       "    <tr>\n",
       "      <th>0</th>\n",
       "      <td>0.000295</td>\n",
       "      <td>0.000156</td>\n",
       "    </tr>\n",
       "    <tr>\n",
       "      <th>1</th>\n",
       "      <td>0.000118</td>\n",
       "      <td>0.000204</td>\n",
       "    </tr>\n",
       "    <tr>\n",
       "      <th>2</th>\n",
       "      <td>0.000162</td>\n",
       "      <td>0.000333</td>\n",
       "    </tr>\n",
       "    <tr>\n",
       "      <th>3</th>\n",
       "      <td>0.000035</td>\n",
       "      <td>0.000013</td>\n",
       "    </tr>\n",
       "    <tr>\n",
       "      <th>4</th>\n",
       "      <td>0.000035</td>\n",
       "      <td>0.000109</td>\n",
       "    </tr>\n",
       "  </tbody>\n",
       "</table>\n",
       "</div>"
      ],
      "text/plain": [
       "     pr_c_0    pr_c_1\n",
       "0  0.000295  0.000156\n",
       "1  0.000118  0.000204\n",
       "2  0.000162  0.000333\n",
       "3  0.000035  0.000013\n",
       "4  0.000035  0.000109"
      ]
     },
     "execution_count": 12,
     "metadata": {},
     "output_type": "execute_result"
    }
   ],
   "source": [
    "def predict_cont(data,dist_locs):\n",
    "    '''\n",
    "    This function calculates the product of conditional probabilities of continuous variables assuming normal distribution based \n",
    "    on their descriptive statistics.\n",
    "    '''\n",
    "    store_preds = []\n",
    "    \n",
    "    #for each row, we multiply the conditional probabilties corresponding to the three continuous variables and store them.\n",
    "    for i,row in data.iterrows():\n",
    "        \n",
    "        # Get the predictions using a Gaussan distribution\n",
    "        pr_c_0 = 1; pr_c_1 = 1\n",
    "        for j in [1,2,3]: #1,2,3 are the column indices of the continuous variables in our dataset\n",
    "            \n",
    "            #we get the probability density correspoinding to a variable's value from a normal distribution \n",
    "            #based on the variable's mean and standard devaition\n",
    "            pr_c_0 *= st.norm(dist_locs[(row.index[j],0)]['mean'],\n",
    "                            dist_locs[(row.index[j],0)]['sd']).pdf(row.values[j])\n",
    "            pr_c_1 *= st.norm(dist_locs[(row.index[j],1)]['mean'], \n",
    "                            dist_locs[(row.index[j],1)]['sd']).pdf(row.values[j])\n",
    "            \n",
    "\n",
    "        store_preds.append([pr_c_0,pr_c_1])\n",
    "        \n",
    "    return pd.DataFrame(store_preds,columns=[\"pr_c_0\",\"pr_c_1\"])\n",
    "\n",
    "# Conditional probabilities of the continuous variables on the training data set \n",
    "preds_continuous = predict_cont(train,dist_locs)\n",
    "preds_continuous.head()"
   ]
  },
  {
   "cell_type": "code",
   "execution_count": 13,
   "metadata": {},
   "outputs": [
    {
     "data": {
      "text/html": [
       "<div>\n",
       "<style scoped>\n",
       "    .dataframe tbody tr th:only-of-type {\n",
       "        vertical-align: middle;\n",
       "    }\n",
       "\n",
       "    .dataframe tbody tr th {\n",
       "        vertical-align: top;\n",
       "    }\n",
       "\n",
       "    .dataframe thead th {\n",
       "        text-align: right;\n",
       "    }\n",
       "</style>\n",
       "<table border=\"1\" class=\"dataframe\">\n",
       "  <thead>\n",
       "    <tr style=\"text-align: right;\">\n",
       "      <th></th>\n",
       "      <th>pr_d_0</th>\n",
       "      <th>pr_d_1</th>\n",
       "      <th>pr_c_0</th>\n",
       "      <th>pr_c_1</th>\n",
       "      <th>pr_0</th>\n",
       "      <th>pr_1</th>\n",
       "      <th>final_pred</th>\n",
       "    </tr>\n",
       "  </thead>\n",
       "  <tbody>\n",
       "    <tr>\n",
       "      <th>0</th>\n",
       "      <td>0.788945</td>\n",
       "      <td>0.874376</td>\n",
       "      <td>0.000295</td>\n",
       "      <td>0.000156</td>\n",
       "      <td>0.000058</td>\n",
       "      <td>0.000103</td>\n",
       "      <td>1</td>\n",
       "    </tr>\n",
       "    <tr>\n",
       "      <th>1</th>\n",
       "      <td>0.211055</td>\n",
       "      <td>0.125624</td>\n",
       "      <td>0.000118</td>\n",
       "      <td>0.000204</td>\n",
       "      <td>0.000006</td>\n",
       "      <td>0.000019</td>\n",
       "      <td>1</td>\n",
       "    </tr>\n",
       "    <tr>\n",
       "      <th>2</th>\n",
       "      <td>0.211055</td>\n",
       "      <td>0.125624</td>\n",
       "      <td>0.000162</td>\n",
       "      <td>0.000333</td>\n",
       "      <td>0.000008</td>\n",
       "      <td>0.000031</td>\n",
       "      <td>1</td>\n",
       "    </tr>\n",
       "    <tr>\n",
       "      <th>3</th>\n",
       "      <td>0.788945</td>\n",
       "      <td>0.874376</td>\n",
       "      <td>0.000035</td>\n",
       "      <td>0.000013</td>\n",
       "      <td>0.000007</td>\n",
       "      <td>0.000008</td>\n",
       "      <td>1</td>\n",
       "    </tr>\n",
       "    <tr>\n",
       "      <th>4</th>\n",
       "      <td>0.788945</td>\n",
       "      <td>0.874376</td>\n",
       "      <td>0.000035</td>\n",
       "      <td>0.000109</td>\n",
       "      <td>0.000007</td>\n",
       "      <td>0.000071</td>\n",
       "      <td>1</td>\n",
       "    </tr>\n",
       "  </tbody>\n",
       "</table>\n",
       "</div>"
      ],
      "text/plain": [
       "     pr_d_0    pr_d_1    pr_c_0    pr_c_1      pr_0      pr_1  final_pred\n",
       "0  0.788945  0.874376  0.000295  0.000156  0.000058  0.000103           1\n",
       "1  0.211055  0.125624  0.000118  0.000204  0.000006  0.000019           1\n",
       "2  0.211055  0.125624  0.000162  0.000333  0.000008  0.000031           1\n",
       "3  0.788945  0.874376  0.000035  0.000013  0.000007  0.000008           1\n",
       "4  0.788945  0.874376  0.000035  0.000109  0.000007  0.000071           1"
      ]
     },
     "execution_count": 13,
     "metadata": {},
     "output_type": "execute_result"
    }
   ],
   "source": [
    "#Now that we have the conditional probabilities of each obeservations based on a class , \n",
    "#we can calcuate the probabilty of observing a class, given the data \n",
    "#by multiplying the condtitional probabilities with each other and then with the class probability.\n",
    "\n",
    "def join_cont_dis(dataset1, dataset2):\n",
    "    data_set = dataset1.join(dataset2) #Joining all the conditional probabilties.\n",
    "    #multiplying the conditional probabilities with class probability\n",
    "    data_set['pr_0'] = data_set['pr_d_0'] * data_set['pr_c_0'] * class_probs[0] \n",
    "    data_set['pr_1'] = data_set['pr_d_1'] * data_set['pr_c_1'] * class_probs[1]\n",
    "    data_set['final_pred'] = [1 if row['pr_1'] > row['pr_0'] else 0 for index, row in data_set.iterrows()]\n",
    "    \n",
    "    return (data_set)\n",
    "\n",
    "#This dataset just shows the conditional probability of the discrete variable given a class and \n",
    "#the product of the conditional probabilities of the continuous variables pr_c_0, pr_c_1. \n",
    "#And the final prediction based on conditional and class probabilities\n",
    "train_output = join_cont_dis(preds_discrete,preds_continuous )\n",
    "train_output.head()"
   ]
  },
  {
   "cell_type": "code",
   "execution_count": 19,
   "metadata": {},
   "outputs": [
    {
     "name": "stdout",
     "output_type": "stream",
     "text": [
      "Accuracy on training data set:  0.743125\n"
     ]
    }
   ],
   "source": [
    "#Accuracy on the training data set\n",
    "accuracy_train_final = sum(train.vote == train_output.final_pred)/train.shape[0]\n",
    "print(\"Accuracy on training data set: \",accuracy_train_final)"
   ]
  },
  {
   "cell_type": "code",
   "execution_count": 20,
   "metadata": {},
   "outputs": [
    {
     "name": "stdout",
     "output_type": "stream",
     "text": [
      "Accuracy on test data set:  0.7125\n"
     ]
    }
   ],
   "source": [
    "# Running the model on test data\n",
    "\n",
    "Pred_discrete_test = predict(test, cond_probs) # Conditional probabilities of binary varibales\n",
    "predict_continuous_test = predict_cont(test,dist_locs) #Product of conditional probabilities of continous variables\n",
    "test_output = join_cont_dis(Pred_discrete_test,predict_continuous_test ) \n",
    "#Putting the data generated from above functions together and then creating the final prediction for each observation\n",
    "accuracy_test = sum(test.vote == test_output.final_pred)/test.shape[0]\n",
    "#Calculating accuracy\n",
    "print(\"Accuracy on test data set: \",accuracy_test)\n"
   ]
  },
  {
   "cell_type": "markdown",
   "metadata": {},
   "source": [
    "### The model's accuracy on training data set is74% and on testing data set is 71%. "
   ]
  },
  {
   "cell_type": "code",
   "execution_count": null,
   "metadata": {},
   "outputs": [],
   "source": []
  }
 ],
 "metadata": {
  "kernelspec": {
   "display_name": "Python 3",
   "language": "python",
   "name": "python3"
  },
  "language_info": {
   "codemirror_mode": {
    "name": "ipython",
    "version": 3
   },
   "file_extension": ".py",
   "mimetype": "text/x-python",
   "name": "python",
   "nbconvert_exporter": "python",
   "pygments_lexer": "ipython3",
   "version": "3.8.3"
  }
 },
 "nbformat": 4,
 "nbformat_minor": 4
}
