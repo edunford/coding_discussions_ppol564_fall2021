{
 "cells": [
  {
   "cell_type": "markdown",
   "metadata": {},
   "source": [
    "# Coding Discussion 5\n",
    "# Joanne Lauer jml450\n",
    "# November 14, 2021"
   ]
  },
  {
   "cell_type": "markdown",
   "metadata": {},
   "source": [
    "# Break the data up into a training (1600 entries, 80%) and test dataset (400 entries, 20%).\n",
    "# Build a Naive Bayesian Classifier from scratch that tries to predict whether a respondent \n",
    "# will vote in a presidential election or not, pr(Vote==1)."
   ]
  },
  {
   "cell_type": "code",
   "execution_count": 1,
   "metadata": {},
   "outputs": [],
   "source": [
    "# import libraries\n",
    "import pandas as pd\n",
    "import numpy as np\n",
    "import pprint as pp # for printing\n",
    "import scipy.stats as st # for Normal PDF\n",
    "\n",
    "# Plotting libraries \n",
    "import matplotlib.pyplot as plt\n",
    "import seaborn as sns\n",
    "from plotnine import *\n",
    "\n",
    "# Silence warnings \n",
    "import warnings\n",
    "warnings.filterwarnings(\"ignore\")"
   ]
  },
  {
   "cell_type": "code",
   "execution_count": 2,
   "metadata": {},
   "outputs": [],
   "source": [
    "# Set seed\n",
    "np.random.seed(1234)\n"
   ]
  },
  {
   "cell_type": "code",
   "execution_count": 4,
   "metadata": {},
   "outputs": [
    {
     "name": "stdout",
     "output_type": "stream",
     "text": [
      "   id  age  educate  income  vote  white\n",
      "0   1   60     14.0  3.3458     1      1\n",
      "1   2   51     10.0  1.8561     0      1\n",
      "2   3   24     12.0  0.6304     0      1\n",
      "3   4   38      8.0  3.4183     1      1\n",
      "4   5   25     12.0  2.7852     1      1\n"
     ]
    },
    {
     "data": {
      "text/plain": [
       "pandas.core.frame.DataFrame"
      ]
     },
     "execution_count": 4,
     "metadata": {},
     "output_type": "execute_result"
    }
   ],
   "source": [
    "\n",
    "# Read file using url\n",
    "url = 'https://raw.githubusercontent.com/edunford/coding_discussions_ppol564_fall2021/main/05_coding_discussion/turnout.csv'\n",
    "turnout = pd.read_csv(url)\n",
    "print(turnout.head(5))\n",
    "type(turnout)\n"
   ]
  },
  {
   "cell_type": "code",
   "execution_count": 5,
   "metadata": {},
   "outputs": [],
   "source": [
    "# drop the id column which is the same as the pandas indicies\n",
    "turnout.drop(['id'], axis=1, inplace=True)"
   ]
  },
  {
   "cell_type": "code",
   "execution_count": 16,
   "metadata": {},
   "outputs": [
    {
     "data": {
      "text/plain": [
       "<bound method NDFrame.head of       age  educate  income  vote  white  e_bins_below  e_bins_average  \\\n",
       "0      60     14.0  3.3458     1      1             0               0   \n",
       "1      51     10.0  1.8561     0      1             0               1   \n",
       "2      24     12.0  0.6304     0      1             0               1   \n",
       "3      38      8.0  3.4183     1      1             0               1   \n",
       "4      25     12.0  2.7852     1      1             0               1   \n",
       "...   ...      ...     ...   ...    ...           ...             ...   \n",
       "1995   26     16.0  3.3834     0      1             0               0   \n",
       "1996   34     12.0  2.9170     1      1             0               1   \n",
       "1997   51     16.0  7.8949     1      1             0               0   \n",
       "1998   22     10.0  2.4811     0      1             0               1   \n",
       "1999   59     10.0  0.5523     0      1             0               1   \n",
       "\n",
       "      e_bins_high  i_bins_low  i_bins_mid  i_bins_high  a_bins_01-19  \\\n",
       "0               1           1           0            0             0   \n",
       "1               0           1           0            0             0   \n",
       "2               0           1           0            0             1   \n",
       "3               0           1           0            0             0   \n",
       "4               0           1           0            0             1   \n",
       "...           ...         ...         ...          ...           ...   \n",
       "1995            1           1           0            0             0   \n",
       "1996            0           1           0            0             0   \n",
       "1997            1           0           1            0             0   \n",
       "1998            0           1           0            0             1   \n",
       "1999            0           1           0            0             0   \n",
       "\n",
       "      a_bins_20-29  a_bins_30-39  a_bins_40-49  a_bins_50-59  a_bins_60-69  \\\n",
       "0                0             0             0             1             0   \n",
       "1                0             0             1             0             0   \n",
       "2                0             0             0             0             0   \n",
       "3                0             1             0             0             0   \n",
       "4                0             0             0             0             0   \n",
       "...            ...           ...           ...           ...           ...   \n",
       "1995             1             0             0             0             0   \n",
       "1996             1             0             0             0             0   \n",
       "1997             0             0             1             0             0   \n",
       "1998             0             0             0             0             0   \n",
       "1999             0             0             0             1             0   \n",
       "\n",
       "      a_bins_70-79  a_bins_80-89  a_bins_90-99  \n",
       "0                0             0             0  \n",
       "1                0             0             0  \n",
       "2                0             0             0  \n",
       "3                0             0             0  \n",
       "4                0             0             0  \n",
       "...            ...           ...           ...  \n",
       "1995             0             0             0  \n",
       "1996             0             0             0  \n",
       "1997             0             0             0  \n",
       "1998             0             0             0  \n",
       "1999             0             0             0  \n",
       "\n",
       "[2000 rows x 20 columns]>"
      ]
     },
     "execution_count": 16,
     "metadata": {},
     "output_type": "execute_result"
    }
   ],
   "source": [
    "# create bins for non bianary variables to transform into binary dummy variables\n",
    "\n",
    "turnout['e_bins'] = pd.cut(turnout['educate'], bins=3, labels=['below','average','high'])\n",
    "turnout['i_bins'] = pd.cut(turnout['income'], bins=3, labels=['low','mid','high'])\n",
    "turnout['a_bins'] = pd.cut(turnout['age'], bins=9, labels=['01-19','20-29','30-39','40-49','50-59','60-69','70-79','80-89','90-99'])\n",
    "\n",
    "turnout_b = pd.get_dummies(turnout)\n",
    "turnout_b.head"
   ]
  },
  {
   "cell_type": "code",
   "execution_count": 17,
   "metadata": {},
   "outputs": [
    {
     "data": {
      "text/plain": [
       "<bound method NDFrame.head of       vote  white  e_bins_below  e_bins_average  e_bins_high  i_bins_low  \\\n",
       "0        1      1             0               0            1           1   \n",
       "1        0      1             0               1            0           1   \n",
       "2        0      1             0               1            0           1   \n",
       "3        1      1             0               1            0           1   \n",
       "4        1      1             0               1            0           1   \n",
       "...    ...    ...           ...             ...          ...         ...   \n",
       "1995     0      1             0               0            1           1   \n",
       "1996     1      1             0               1            0           1   \n",
       "1997     1      1             0               0            1           0   \n",
       "1998     0      1             0               1            0           1   \n",
       "1999     0      1             0               1            0           1   \n",
       "\n",
       "      i_bins_mid  i_bins_high  a_bins_01-19  a_bins_20-29  a_bins_30-39  \\\n",
       "0              0            0             0             0             0   \n",
       "1              0            0             0             0             0   \n",
       "2              0            0             1             0             0   \n",
       "3              0            0             0             0             1   \n",
       "4              0            0             1             0             0   \n",
       "...          ...          ...           ...           ...           ...   \n",
       "1995           0            0             0             1             0   \n",
       "1996           0            0             0             1             0   \n",
       "1997           1            0             0             0             0   \n",
       "1998           0            0             1             0             0   \n",
       "1999           0            0             0             0             0   \n",
       "\n",
       "      a_bins_40-49  a_bins_50-59  a_bins_60-69  a_bins_70-79  a_bins_80-89  \\\n",
       "0                0             1             0             0             0   \n",
       "1                1             0             0             0             0   \n",
       "2                0             0             0             0             0   \n",
       "3                0             0             0             0             0   \n",
       "4                0             0             0             0             0   \n",
       "...            ...           ...           ...           ...           ...   \n",
       "1995             0             0             0             0             0   \n",
       "1996             0             0             0             0             0   \n",
       "1997             1             0             0             0             0   \n",
       "1998             0             0             0             0             0   \n",
       "1999             0             1             0             0             0   \n",
       "\n",
       "      a_bins_90-99  \n",
       "0                0  \n",
       "1                0  \n",
       "2                0  \n",
       "3                0  \n",
       "4                0  \n",
       "...            ...  \n",
       "1995             0  \n",
       "1996             0  \n",
       "1997             0  \n",
       "1998             0  \n",
       "1999             0  \n",
       "\n",
       "[2000 rows x 17 columns]>"
      ]
     },
     "execution_count": 17,
     "metadata": {},
     "output_type": "execute_result"
    }
   ],
   "source": [
    "# drop the categorical variables and replace with the new bin based dummy variables\n",
    "turnout_b.drop(['age','educate','income'],axis=1, inplace=True)\n",
    "turnout_b.head"
   ]
  },
  {
   "cell_type": "code",
   "execution_count": 18,
   "metadata": {},
   "outputs": [
    {
     "name": "stdout",
     "output_type": "stream",
     "text": [
      "Training Data: 1600 \n",
      "Test Data: 400\n"
     ]
    },
    {
     "data": {
      "text/html": [
       "<div>\n",
       "<style scoped>\n",
       "    .dataframe tbody tr th:only-of-type {\n",
       "        vertical-align: middle;\n",
       "    }\n",
       "\n",
       "    .dataframe tbody tr th {\n",
       "        vertical-align: top;\n",
       "    }\n",
       "\n",
       "    .dataframe thead th {\n",
       "        text-align: right;\n",
       "    }\n",
       "</style>\n",
       "<table border=\"1\" class=\"dataframe\">\n",
       "  <thead>\n",
       "    <tr style=\"text-align: right;\">\n",
       "      <th></th>\n",
       "      <th>vote</th>\n",
       "      <th>white</th>\n",
       "      <th>e_bins_below</th>\n",
       "      <th>e_bins_average</th>\n",
       "      <th>e_bins_high</th>\n",
       "      <th>i_bins_low</th>\n",
       "      <th>i_bins_mid</th>\n",
       "      <th>i_bins_high</th>\n",
       "      <th>a_bins_01-19</th>\n",
       "      <th>a_bins_20-29</th>\n",
       "      <th>a_bins_30-39</th>\n",
       "      <th>a_bins_40-49</th>\n",
       "      <th>a_bins_50-59</th>\n",
       "      <th>a_bins_60-69</th>\n",
       "      <th>a_bins_70-79</th>\n",
       "      <th>a_bins_80-89</th>\n",
       "      <th>a_bins_90-99</th>\n",
       "    </tr>\n",
       "  </thead>\n",
       "  <tbody>\n",
       "    <tr>\n",
       "      <th>0</th>\n",
       "      <td>1</td>\n",
       "      <td>1</td>\n",
       "      <td>0</td>\n",
       "      <td>1</td>\n",
       "      <td>0</td>\n",
       "      <td>0</td>\n",
       "      <td>1</td>\n",
       "      <td>0</td>\n",
       "      <td>0</td>\n",
       "      <td>0</td>\n",
       "      <td>0</td>\n",
       "      <td>1</td>\n",
       "      <td>0</td>\n",
       "      <td>0</td>\n",
       "      <td>0</td>\n",
       "      <td>0</td>\n",
       "      <td>0</td>\n",
       "    </tr>\n",
       "    <tr>\n",
       "      <th>1</th>\n",
       "      <td>1</td>\n",
       "      <td>1</td>\n",
       "      <td>0</td>\n",
       "      <td>0</td>\n",
       "      <td>1</td>\n",
       "      <td>1</td>\n",
       "      <td>0</td>\n",
       "      <td>0</td>\n",
       "      <td>0</td>\n",
       "      <td>0</td>\n",
       "      <td>1</td>\n",
       "      <td>0</td>\n",
       "      <td>0</td>\n",
       "      <td>0</td>\n",
       "      <td>0</td>\n",
       "      <td>0</td>\n",
       "      <td>0</td>\n",
       "    </tr>\n",
       "    <tr>\n",
       "      <th>2</th>\n",
       "      <td>0</td>\n",
       "      <td>1</td>\n",
       "      <td>0</td>\n",
       "      <td>0</td>\n",
       "      <td>1</td>\n",
       "      <td>0</td>\n",
       "      <td>1</td>\n",
       "      <td>0</td>\n",
       "      <td>0</td>\n",
       "      <td>1</td>\n",
       "      <td>0</td>\n",
       "      <td>0</td>\n",
       "      <td>0</td>\n",
       "      <td>0</td>\n",
       "      <td>0</td>\n",
       "      <td>0</td>\n",
       "      <td>0</td>\n",
       "    </tr>\n",
       "    <tr>\n",
       "      <th>3</th>\n",
       "      <td>0</td>\n",
       "      <td>1</td>\n",
       "      <td>0</td>\n",
       "      <td>1</td>\n",
       "      <td>0</td>\n",
       "      <td>1</td>\n",
       "      <td>0</td>\n",
       "      <td>0</td>\n",
       "      <td>1</td>\n",
       "      <td>0</td>\n",
       "      <td>0</td>\n",
       "      <td>0</td>\n",
       "      <td>0</td>\n",
       "      <td>0</td>\n",
       "      <td>0</td>\n",
       "      <td>0</td>\n",
       "      <td>0</td>\n",
       "    </tr>\n",
       "    <tr>\n",
       "      <th>4</th>\n",
       "      <td>0</td>\n",
       "      <td>1</td>\n",
       "      <td>0</td>\n",
       "      <td>1</td>\n",
       "      <td>0</td>\n",
       "      <td>1</td>\n",
       "      <td>0</td>\n",
       "      <td>0</td>\n",
       "      <td>1</td>\n",
       "      <td>0</td>\n",
       "      <td>0</td>\n",
       "      <td>0</td>\n",
       "      <td>0</td>\n",
       "      <td>0</td>\n",
       "      <td>0</td>\n",
       "      <td>0</td>\n",
       "      <td>0</td>\n",
       "    </tr>\n",
       "  </tbody>\n",
       "</table>\n",
       "</div>"
      ],
      "text/plain": [
       "   vote  white  e_bins_below  e_bins_average  e_bins_high  i_bins_low  \\\n",
       "0     1      1             0               1            0           0   \n",
       "1     1      1             0               0            1           1   \n",
       "2     0      1             0               0            1           0   \n",
       "3     0      1             0               1            0           1   \n",
       "4     0      1             0               1            0           1   \n",
       "\n",
       "   i_bins_mid  i_bins_high  a_bins_01-19  a_bins_20-29  a_bins_30-39  \\\n",
       "0           1            0             0             0             0   \n",
       "1           0            0             0             0             1   \n",
       "2           1            0             0             1             0   \n",
       "3           0            0             1             0             0   \n",
       "4           0            0             1             0             0   \n",
       "\n",
       "   a_bins_40-49  a_bins_50-59  a_bins_60-69  a_bins_70-79  a_bins_80-89  \\\n",
       "0             1             0             0             0             0   \n",
       "1             0             0             0             0             0   \n",
       "2             0             0             0             0             0   \n",
       "3             0             0             0             0             0   \n",
       "4             0             0             0             0             0   \n",
       "\n",
       "   a_bins_90-99  \n",
       "0             0  \n",
       "1             0  \n",
       "2             0  \n",
       "3             0  \n",
       "4             0  "
      ]
     },
     "execution_count": 18,
     "metadata": {},
     "output_type": "execute_result"
    }
   ],
   "source": [
    "# Train-Test split (just using Pandas)\n",
    "train = turnout_b.sample(frac=.8).reset_index(drop=True)\n",
    "test = turnout_b.drop(train.index).reset_index(drop=True)\n",
    "# Print off the split count \n",
    "print(\"Training Data:\",train.shape[0],\n",
    "      \"\\nTest Data:\",test.shape[0])\n",
    "# Look at the head of the data\n",
    "train.head()     "
   ]
  },
  {
   "cell_type": "code",
   "execution_count": 19,
   "metadata": {},
   "outputs": [
    {
     "name": "stdout",
     "output_type": "stream",
     "text": [
      "\n",
      "Pr(vote1 = 1): 0.740625\n",
      "Pr(vote0 = 0): 0.259375\n",
      "\n"
     ]
    }
   ],
   "source": [
    "N = train.shape[0]\n",
    "\n",
    "# Subset the data by class\n",
    "vote1 = train.query(\"vote == 1\")\n",
    "vote0 = train.query(\"vote == 0\")\n",
    "\n",
    "# Calculate the probability for each class\n",
    "pr_vote1 = vote1.shape[0]/N\n",
    "pr_vote0 = vote0.shape[0]/N\n",
    "\n",
    "# Print the probabilities\n",
    "print(\n",
    "f\"\"\"\n",
    "Pr(vote1 = 1): {pr_vote1}\n",
    "Pr(vote0 = 0): {pr_vote0}\n",
    "\"\"\")"
   ]
  },
  {
   "cell_type": "code",
   "execution_count": 21,
   "metadata": {},
   "outputs": [
    {
     "name": "stdout",
     "output_type": "stream",
     "text": [
      "class probabilities\n",
      "\n",
      "{0: 0.259375, 1: 0.740625}\n",
      "\n",
      "\n",
      "conditional probabilities\n",
      "\n",
      "{('a_bins_01-19', 0, 0): 0.7734939759036145,\n",
      " ('a_bins_01-19', 0, 1): 0.8978902953586498,\n",
      " ('a_bins_01-19', 1, 0): 0.22650602409638554,\n",
      " ('a_bins_01-19', 1, 1): 0.1021097046413502,\n",
      " ('a_bins_20-29', 0, 0): 0.7831325301204819,\n",
      " ('a_bins_20-29', 0, 1): 0.8,\n",
      " ('a_bins_20-29', 1, 0): 0.21686746987951808,\n",
      " ('a_bins_20-29', 1, 1): 0.2,\n",
      " ('a_bins_30-39', 0, 0): 0.8289156626506025,\n",
      " ('a_bins_30-39', 0, 1): 0.810126582278481,\n",
      " ('a_bins_30-39', 1, 0): 0.1710843373493976,\n",
      " ('a_bins_30-39', 1, 1): 0.189873417721519,\n",
      " ('a_bins_40-49', 0, 0): 0.8987951807228916,\n",
      " ('a_bins_40-49', 0, 1): 0.8514767932489451,\n",
      " ('a_bins_40-49', 1, 0): 0.10120481927710843,\n",
      " ('a_bins_40-49', 1, 1): 0.14852320675105485,\n",
      " ('a_bins_50-59', 0, 0): 0.9156626506024097,\n",
      " ('a_bins_50-59', 0, 1): 0.8675105485232067,\n",
      " ('a_bins_50-59', 1, 0): 0.08433734939759036,\n",
      " ('a_bins_50-59', 1, 1): 0.13248945147679325,\n",
      " ('a_bins_60-69', 0, 0): 0.9156626506024097,\n",
      " ('a_bins_60-69', 0, 1): 0.889451476793249,\n",
      " ('a_bins_60-69', 1, 0): 0.08433734939759036,\n",
      " ('a_bins_60-69', 1, 1): 0.11054852320675106,\n",
      " ('a_bins_70-79', 0, 0): 0.9566265060240964,\n",
      " ('a_bins_70-79', 0, 1): 0.9265822784810127,\n",
      " ('a_bins_70-79', 1, 0): 0.043373493975903614,\n",
      " ('a_bins_70-79', 1, 1): 0.07341772151898734,\n",
      " ('a_bins_80-89', 0, 0): 0.9325301204819277,\n",
      " ('a_bins_80-89', 0, 1): 0.9654008438818565,\n",
      " ('a_bins_80-89', 1, 0): 0.06746987951807229,\n",
      " ('a_bins_80-89', 1, 1): 0.03459915611814346,\n",
      " ('a_bins_90-99', 0, 0): 0.9951807228915662,\n",
      " ('a_bins_90-99', 0, 1): 0.9915611814345991,\n",
      " ('a_bins_90-99', 1, 0): 0.004819277108433735,\n",
      " ('a_bins_90-99', 1, 1): 0.008438818565400843,\n",
      " ('e_bins_average', 0, 0): 0.28915662650602414,\n",
      " ('e_bins_average', 0, 1): 0.45738396624472577,\n",
      " ('e_bins_average', 1, 0): 0.7108433734939759,\n",
      " ('e_bins_average', 1, 1): 0.5426160337552742,\n",
      " ('e_bins_below', 0, 0): 0.9132530120481928,\n",
      " ('e_bins_below', 0, 1): 0.9611814345991561,\n",
      " ('e_bins_below', 1, 0): 0.08674698795180723,\n",
      " ('e_bins_below', 1, 1): 0.038818565400843885,\n",
      " ('e_bins_high', 0, 0): 0.7975903614457831,\n",
      " ('e_bins_high', 0, 1): 0.5814345991561182,\n",
      " ('e_bins_high', 1, 0): 0.20240963855421687,\n",
      " ('e_bins_high', 1, 1): 0.41856540084388183,\n",
      " ('i_bins_high', 0, 0): 0.983132530120482,\n",
      " ('i_bins_high', 0, 1): 0.9451476793248945,\n",
      " ('i_bins_high', 1, 0): 0.016867469879518072,\n",
      " ('i_bins_high', 1, 1): 0.05485232067510549,\n",
      " ('i_bins_low', 0, 0): 0.14216867469879513,\n",
      " ('i_bins_low', 0, 1): 0.32067510548523204,\n",
      " ('i_bins_low', 1, 0): 0.8578313253012049,\n",
      " ('i_bins_low', 1, 1): 0.679324894514768,\n",
      " ('i_bins_mid', 0, 0): 0.8746987951807229,\n",
      " ('i_bins_mid', 0, 1): 0.7341772151898734,\n",
      " ('i_bins_mid', 1, 0): 0.12530120481927712,\n",
      " ('i_bins_mid', 1, 1): 0.26582278481012656,\n",
      " ('white', 0, 0): 0.21445783132530116,\n",
      " ('white', 0, 1): 0.12151898734177213,\n",
      " ('white', 1, 0): 0.7855421686746988,\n",
      " ('white', 1, 1): 0.8784810126582279}\n"
     ]
    }
   ],
   "source": [
    "def calc_probs(data,outcome_var=\"\"):\n",
    "    '''\n",
    "    Function calculates the class and conditional probabilities for binary data. \n",
    "    \n",
    "    Dictionaries with tuple keys to track of the variable, value, and the outcome, which we're conditioning on. \n",
    "\n",
    "    Returns the probabilities of each class and the condition probabilities for each variable given which\n",
    "    class is being iterated on in the for loop.\n",
    "    '''\n",
    "    # Generate empty dictionary containers.\n",
    "    class_probs = {};cond_probs = {}\n",
    "    # Locate all variables that are not the outcome.\n",
    "    vars = [v for v in data.columns if v != outcome_var]\n",
    "    # iterate through the class outcomes\n",
    "    for y, d in data.groupby(outcome_var): \n",
    "        # calculate the class probabilities\n",
    "        class_probs.update({y: d.shape[0]/data.shape[0]})\n",
    "        for v in vars:\n",
    "            # calculate the conditional probabilities for each variable given the class.\n",
    "            pr = d[v].sum()/d.shape[0]\n",
    "            cond_probs[(v,1,y)] = pr \n",
    "            cond_probs[(v,0,y)] = 1 - pr\n",
    "    return class_probs, cond_probs\n",
    "\n",
    "\n",
    "# Run\n",
    "class_probs, cond_probs = calc_probs(train,outcome_var=\"vote\")\n",
    "\n",
    "# Print\n",
    "print(\"class probabilities\",end=\"\\n\\n\")\n",
    "pp.pprint(class_probs)\n",
    "print(\"\\n\")\n",
    "print(\"conditional probabilities\",end=\"\\n\\n\")\n",
    "pp.pprint(cond_probs)"
   ]
  },
  {
   "cell_type": "code",
   "execution_count": 22,
   "metadata": {},
   "outputs": [
    {
     "data": {
      "text/html": [
       "<div>\n",
       "<style scoped>\n",
       "    .dataframe tbody tr th:only-of-type {\n",
       "        vertical-align: middle;\n",
       "    }\n",
       "\n",
       "    .dataframe tbody tr th {\n",
       "        vertical-align: top;\n",
       "    }\n",
       "\n",
       "    .dataframe thead th {\n",
       "        text-align: right;\n",
       "    }\n",
       "</style>\n",
       "<table border=\"1\" class=\"dataframe\">\n",
       "  <thead>\n",
       "    <tr style=\"text-align: right;\">\n",
       "      <th></th>\n",
       "      <th>pr_0</th>\n",
       "      <th>pr_1</th>\n",
       "      <th>pred</th>\n",
       "    </tr>\n",
       "  </thead>\n",
       "  <tbody>\n",
       "    <tr>\n",
       "      <th>0</th>\n",
       "      <td>0.000070</td>\n",
       "      <td>0.000940</td>\n",
       "      <td>1</td>\n",
       "    </tr>\n",
       "    <tr>\n",
       "      <th>1</th>\n",
       "      <td>0.000557</td>\n",
       "      <td>0.004486</td>\n",
       "      <td>1</td>\n",
       "    </tr>\n",
       "    <tr>\n",
       "      <th>2</th>\n",
       "      <td>0.000018</td>\n",
       "      <td>0.000818</td>\n",
       "      <td>1</td>\n",
       "    </tr>\n",
       "    <tr>\n",
       "      <th>3</th>\n",
       "      <td>0.007656</td>\n",
       "      <td>0.003587</td>\n",
       "      <td>0</td>\n",
       "    </tr>\n",
       "    <tr>\n",
       "      <th>4</th>\n",
       "      <td>0.007656</td>\n",
       "      <td>0.003587</td>\n",
       "      <td>0</td>\n",
       "    </tr>\n",
       "  </tbody>\n",
       "</table>\n",
       "</div>"
      ],
      "text/plain": [
       "       pr_0      pr_1  pred\n",
       "0  0.000070  0.000940     1\n",
       "1  0.000557  0.004486     1\n",
       "2  0.000018  0.000818     1\n",
       "3  0.007656  0.003587     0\n",
       "4  0.007656  0.003587     0"
      ]
     },
     "execution_count": 22,
     "metadata": {},
     "output_type": "execute_result"
    }
   ],
   "source": [
    "def predict(data,class_probs,cond_probs):\n",
    "    '''\n",
    "    Function calculates the conditional probability for membership into each class.\n",
    "    Then returns both the probabilities and the most likely class. \n",
    "    '''\n",
    "    store_preds = []\n",
    "    for i,row in data.iterrows():\n",
    "        pr_1 = 1; pr_0 = 1\n",
    "        for j in range(1,len(row.index)):\n",
    "            pr_0 *= cond_probs[(row.index[j],row.values[j],0)]\n",
    "            pr_1 *= cond_probs[(row.index[j],row.values[j],1)]     \n",
    "        pr_0 *= class_probs[0]\n",
    "        pr_1 *= class_probs[1]\n",
    "        store_preds.append([pr_0,pr_1,max([(pr_0,0),(pr_1,1)])[1]])\n",
    "    return pd.DataFrame(store_preds,columns=[\"pr_0\",\"pr_1\",\"pred\"])\n",
    "\n",
    "# Run \n",
    "preds = predict(train, class_probs, cond_probs)\n",
    "preds.head()"
   ]
  },
  {
   "cell_type": "markdown",
   "metadata": {},
   "source": [
    "# Run your algorithm and see how it predicts on the test data by calculating the predictive accuracy.\n",
    "# Does your model perform better than chance (i.e. coin flip)?"
   ]
  },
  {
   "cell_type": "code",
   "execution_count": 23,
   "metadata": {},
   "outputs": [
    {
     "data": {
      "text/plain": [
       "0.7475"
      ]
     },
     "execution_count": 23,
     "metadata": {},
     "output_type": "execute_result"
    }
   ],
   "source": [
    "accuracy = sum(train.vote == preds.pred)/train.shape[0]\n",
    "accuracy"
   ]
  },
  {
   "cell_type": "markdown",
   "metadata": {},
   "source": [
    "# The accuracy is .74 which is on par for the training values.  "
   ]
  },
  {
   "cell_type": "code",
   "execution_count": 25,
   "metadata": {},
   "outputs": [
    {
     "data": {
      "text/plain": [
       "0.7175"
      ]
     },
     "execution_count": 25,
     "metadata": {},
     "output_type": "execute_result"
    }
   ],
   "source": [
    "test_preds = predict(test, class_probs, cond_probs)\n",
    "test_accuracy = sum(test.vote == test_preds.pred)/test.shape[0]\n",
    "test_accuracy"
   ]
  },
  {
   "cell_type": "markdown",
   "metadata": {},
   "source": [
    "# The prediction is .71 which is better than a coin flip but not out performing the accuracy of the model so it seems to be relatively good.  "
   ]
  }
 ],
 "metadata": {
  "interpreter": {
   "hash": "aee8b7b246df8f9039afb4144a1f6fd8d2ca17a180786b69acc140d282b71a49"
  },
  "kernelspec": {
   "display_name": "Python 3.9.7 64-bit",
   "name": "python3"
  },
  "language_info": {
   "codemirror_mode": {
    "name": "ipython",
    "version": 3
   },
   "file_extension": ".py",
   "mimetype": "text/x-python",
   "name": "python",
   "nbconvert_exporter": "python",
   "pygments_lexer": "ipython3",
   "version": "3.9.7"
  },
  "orig_nbformat": 4
 },
 "nbformat": 4,
 "nbformat_minor": 2
}
