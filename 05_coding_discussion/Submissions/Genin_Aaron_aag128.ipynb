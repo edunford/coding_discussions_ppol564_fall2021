{
 "cells": [
  {
   "cell_type": "code",
   "execution_count": 3,
   "metadata": {},
   "outputs": [],
   "source": [
    "import pandas as pd\n",
    "import numpy as np\n",
    "#for working with income\n",
    "import scipy.stats as st\n",
    "#for pretty printing\n",
    "import pprint as pp\n"
   ]
  },
  {
   "cell_type": "code",
   "execution_count": 4,
   "metadata": {},
   "outputs": [],
   "source": [
    "# read in data\n",
    "vote_dta = pd.read_csv(\"../turnout.csv\")"
   ]
  },
  {
   "cell_type": "code",
   "execution_count": 5,
   "metadata": {},
   "outputs": [
    {
     "data": {
      "text/html": [
       "<div>\n",
       "<style scoped>\n",
       "    .dataframe tbody tr th:only-of-type {\n",
       "        vertical-align: middle;\n",
       "    }\n",
       "\n",
       "    .dataframe tbody tr th {\n",
       "        vertical-align: top;\n",
       "    }\n",
       "\n",
       "    .dataframe thead th {\n",
       "        text-align: right;\n",
       "    }\n",
       "</style>\n",
       "<table border=\"1\" class=\"dataframe\">\n",
       "  <thead>\n",
       "    <tr style=\"text-align: right;\">\n",
       "      <th></th>\n",
       "      <th>id</th>\n",
       "      <th>age</th>\n",
       "      <th>educate</th>\n",
       "      <th>income</th>\n",
       "      <th>vote</th>\n",
       "      <th>white</th>\n",
       "    </tr>\n",
       "  </thead>\n",
       "  <tbody>\n",
       "    <tr>\n",
       "      <th>0</th>\n",
       "      <td>1601</td>\n",
       "      <td>31</td>\n",
       "      <td>16.0</td>\n",
       "      <td>3.9394</td>\n",
       "      <td>1</td>\n",
       "      <td>0</td>\n",
       "    </tr>\n",
       "    <tr>\n",
       "      <th>1</th>\n",
       "      <td>1602</td>\n",
       "      <td>53</td>\n",
       "      <td>12.0</td>\n",
       "      <td>6.3352</td>\n",
       "      <td>1</td>\n",
       "      <td>1</td>\n",
       "    </tr>\n",
       "    <tr>\n",
       "      <th>2</th>\n",
       "      <td>1603</td>\n",
       "      <td>65</td>\n",
       "      <td>12.0</td>\n",
       "      <td>0.8284</td>\n",
       "      <td>0</td>\n",
       "      <td>1</td>\n",
       "    </tr>\n",
       "    <tr>\n",
       "      <th>3</th>\n",
       "      <td>1604</td>\n",
       "      <td>34</td>\n",
       "      <td>12.0</td>\n",
       "      <td>3.3834</td>\n",
       "      <td>1</td>\n",
       "      <td>1</td>\n",
       "    </tr>\n",
       "    <tr>\n",
       "      <th>4</th>\n",
       "      <td>1605</td>\n",
       "      <td>28</td>\n",
       "      <td>12.0</td>\n",
       "      <td>8.7545</td>\n",
       "      <td>0</td>\n",
       "      <td>1</td>\n",
       "    </tr>\n",
       "  </tbody>\n",
       "</table>\n",
       "</div>"
      ],
      "text/plain": [
       "     id  age  educate  income  vote  white\n",
       "0  1601   31     16.0  3.9394     1      0\n",
       "1  1602   53     12.0  6.3352     1      1\n",
       "2  1603   65     12.0  0.8284     0      1\n",
       "3  1604   34     12.0  3.3834     1      1\n",
       "4  1605   28     12.0  8.7545     0      1"
      ]
     },
     "metadata": {},
     "output_type": "display_data"
    }
   ],
   "source": [
    "# break the data up into a training (1600 entries, 80%) and test dataset (400 entries, 20%). \n",
    "\n",
    "# Train-Test split (using Pandas)\n",
    "trainprime = vote_dta.sample(frac=.8).reset_index(drop=True)\n",
    "test = vote_dta.drop(trainprime.index).reset_index(drop=True)\n",
    "\n",
    "display(test.head())"
   ]
  },
  {
   "cell_type": "code",
   "execution_count": 6,
   "metadata": {},
   "outputs": [
    {
     "name": "stdout",
     "output_type": "stream",
     "text": [
      "   vote  white\n",
      "0     1      0\n",
      "1     1      1\n",
      "2     0      1\n",
      "3     1      1\n",
      "4     0      1\n",
      "   age  educate  income  vote\n",
      "0   31     16.0  3.9394     1\n",
      "1   53     12.0  6.3352     1\n",
      "2   65     12.0  0.8284     0\n",
      "3   34     12.0  3.3834     1\n",
      "4   28     12.0  8.7545     0\n"
     ]
    }
   ],
   "source": [
    "#removed id, must define column number either by variable or directly to remove\n",
    "left_df = trainprime.iloc[:, :1]\n",
    "#left is ids so right will remain\n",
    "right_df = trainprime.iloc[:, 1:]\n",
    "train = right_df\n",
    "\n",
    "#create binary variables, looking back i did not need to do the above portion,\n",
    "# but thought I would keep it for the recored\n",
    "train_bin = train.drop(columns=['age','educate','income'])\n",
    "test_bin = test.drop(columns=['id','age','educate','income'])\n",
    "\n",
    "#create numreic version\n",
    "train_num = train.drop(columns=['white'])\n",
    "test_num = test.drop(columns=['id','white'])\n",
    "\n",
    "print(test_bin.head())\n",
    "print(test_num.head())\n"
   ]
  },
  {
   "cell_type": "code",
   "execution_count": 7,
   "metadata": {},
   "outputs": [
    {
     "name": "stdout",
     "output_type": "stream",
     "text": [
      "class probabilities\n",
      "\n",
      "{0: 0.2575, 1: 0.7425}\n",
      "\n",
      "\n",
      "conditional probabilities\n",
      "\n",
      "{('white', 0, 0): 0.2038834951456311,\n",
      " ('white', 0, 1): 0.1262626262626263,\n",
      " ('white', 1, 0): 0.7961165048543689,\n",
      " ('white', 1, 1): 0.8737373737373737}\n"
     ]
    }
   ],
   "source": [
    "def calc_prob(data, outcome=\"\"):\n",
    "    '''\n",
    "    Function calculates the class and conditional probabilities in\n",
    "    the binary data. produces tuples to keep\n",
    "    track of the variable, it's val, and the outcome\n",
    "    '''\n",
    "    # Generate empty dictionary containers.\n",
    "    class_probs = {}\n",
    "    cond_probs = {}\n",
    "    # Locate all variables that are not the outcome.\n",
    "    vars = [v for v in data.columns if v != outcome]\n",
    "    # iterate through the class outcomes\n",
    "    for y, d in data.groupby(outcome): \n",
    "        # calculate the class probabilities\n",
    "        class_probs.update({y: d.shape[0]/data.shape[0]})\n",
    "        for v in vars:\n",
    "            # calculate the conditional probabilities for each\n",
    "            # variable given the class.\n",
    "            pr = d[v].sum()/d.shape[0]\n",
    "            cond_probs[(v,1,y)] = pr \n",
    "            cond_probs[(v,0,y)] = 1 - pr\n",
    "    return class_probs, cond_probs\n",
    "\n",
    "\n",
    "x = calc_prob(train_bin,outcome=\"vote\")\n",
    "#separate out the class prob from the cond prob\n",
    "class_probs = x[0]\n",
    "cond_probs = x[1]\n",
    "\n",
    "# Print with pp to format better\n",
    "print(\"class probabilities\",end=\"\\n\\n\")\n",
    "pp.pprint(class_probs)\n",
    "print(\"\\n\")\n",
    "print(\"conditional probabilities\",end=\"\\n\\n\")\n",
    "pp.pprint(cond_probs)"
   ]
  },
  {
   "cell_type": "code",
   "execution_count": 8,
   "metadata": {},
   "outputs": [
    {
     "data": {
      "text/html": [
       "<div>\n",
       "<style scoped>\n",
       "    .dataframe tbody tr th:only-of-type {\n",
       "        vertical-align: middle;\n",
       "    }\n",
       "\n",
       "    .dataframe tbody tr th {\n",
       "        vertical-align: top;\n",
       "    }\n",
       "\n",
       "    .dataframe thead th {\n",
       "        text-align: right;\n",
       "    }\n",
       "</style>\n",
       "<table border=\"1\" class=\"dataframe\">\n",
       "  <thead>\n",
       "    <tr style=\"text-align: right;\">\n",
       "      <th></th>\n",
       "      <th>pr_0</th>\n",
       "      <th>pr_1</th>\n",
       "      <th>pred</th>\n",
       "    </tr>\n",
       "  </thead>\n",
       "  <tbody>\n",
       "    <tr>\n",
       "      <th>0</th>\n",
       "      <td>0.2050</td>\n",
       "      <td>0.64875</td>\n",
       "      <td>1</td>\n",
       "    </tr>\n",
       "    <tr>\n",
       "      <th>1</th>\n",
       "      <td>0.0525</td>\n",
       "      <td>0.09375</td>\n",
       "      <td>1</td>\n",
       "    </tr>\n",
       "    <tr>\n",
       "      <th>2</th>\n",
       "      <td>0.0525</td>\n",
       "      <td>0.09375</td>\n",
       "      <td>1</td>\n",
       "    </tr>\n",
       "    <tr>\n",
       "      <th>3</th>\n",
       "      <td>0.2050</td>\n",
       "      <td>0.64875</td>\n",
       "      <td>1</td>\n",
       "    </tr>\n",
       "    <tr>\n",
       "      <th>4</th>\n",
       "      <td>0.2050</td>\n",
       "      <td>0.64875</td>\n",
       "      <td>1</td>\n",
       "    </tr>\n",
       "  </tbody>\n",
       "</table>\n",
       "</div>"
      ],
      "text/plain": [
       "     pr_0     pr_1  pred\n",
       "0  0.2050  0.64875     1\n",
       "1  0.0525  0.09375     1\n",
       "2  0.0525  0.09375     1\n",
       "3  0.2050  0.64875     1\n",
       "4  0.2050  0.64875     1"
      ]
     },
     "execution_count": 8,
     "metadata": {},
     "output_type": "execute_result"
    }
   ],
   "source": [
    "def predict(data,class_probs,cond_probs):\n",
    "    '''\n",
    "    Function calculates the conditiona probability for membership into each class.\n",
    "    Then returns both the probabilities and the most likely class. \n",
    "    '''\n",
    "    #\n",
    "    stored_pred = []\n",
    "    # iterate through the rows of data\n",
    "    for i,row in data.iterrows():\n",
    "        #set initial probabilities to be modified\n",
    "        pr_1 = 1; pr_0 = 1\n",
    "        # mutiply conditional probabilities of continuous varables\n",
    "        for j in range(1,len(row.index)):\n",
    "            pr_0 *= cond_probs[(row.index[j],row.values[j],0)]\n",
    "            pr_1 *= cond_probs[(row.index[j],row.values[j],1)]     \n",
    "        pr_0 *= class_probs[0]\n",
    "        pr_1 *= class_probs[1]\n",
    "        stored_pred.append([pr_0,pr_1,max([(pr_0,0),(pr_1,1)])[1]])\n",
    "    return pd.DataFrame(stored_pred,columns=[\"pr_0\",\"pr_1\",\"pred\"])\n",
    "\n",
    "# Run \n",
    "preds = predict(train_bin, class_probs, cond_probs)\n",
    "preds.head()"
   ]
  },
  {
   "cell_type": "code",
   "execution_count": 9,
   "metadata": {},
   "outputs": [
    {
     "name": "stdout",
     "output_type": "stream",
     "text": [
      "0.7425\n"
     ]
    },
    {
     "data": {
      "text/plain": [
       "0.7"
      ]
     },
     "execution_count": 9,
     "metadata": {},
     "output_type": "execute_result"
    }
   ],
   "source": [
    "bin_accuracy = sum(train_bin.vote == preds.pred)/train.shape[0]\n",
    "print(bin_accuracy)\n",
    "test_preds = predict(test_bin, class_probs, cond_probs)\n",
    "bin_test_acc = sum(test_bin.vote == test_preds.pred)/test.shape[0]\n",
    "bin_test_acc"
   ]
  },
  {
   "cell_type": "markdown",
   "metadata": {},
   "source": [
    "The binary predictor is more accurate than a coin flip when attempting to predict the test data."
   ]
  },
  {
   "cell_type": "code",
   "execution_count": 10,
   "metadata": {},
   "outputs": [
    {
     "name": "stdout",
     "output_type": "stream",
     "text": [
      "{('age', 1): {'mean': 46.20454545454545, 'sd': 16.82927043172548}, ('age', 0): {'mean': 42.61407766990291, 'sd': 19.36935387315589}, ('educate', 1): {'mean': 12.508838383838384, 'sd': 3.2209635040880196}, ('educate', 0): {'mean': 10.688106796116505, 'sd': 3.2593387158255354}, ('income', 1): {'mean': 4.22915244107744, 'sd': 2.8895094614694696}, ('income', 0): {'mean': 2.746505097087379, 'sd': 2.1695839598930142}}\n"
     ]
    }
   ],
   "source": [
    "#Subset train data by 'vote' column.\n",
    "vote1 = train_num.query(\"vote == 1\")\n",
    "vote0 = train_num.query(\"vote == 0\")\n",
    "\n",
    "# probabilities\n",
    "pr_vote1 = vote1.shape[0]/train_num.shape[0]\n",
    "pr_vote0 = vote0.shape[0]/train_num.shape[0]\n",
    "\n",
    "\n",
    "# Collect the mean and standard dev. of each condition\n",
    "dist_locs = \\\n",
    "{(\"age\",1):{'mean':vote1.age.mean(),'sd':vote1.age.std()},\n",
    " (\"age\",0):{'mean':vote0.age.mean(),'sd':vote0.age.std()},\n",
    " (\"educate\",1):{'mean':vote1.educate.mean(),'sd':vote1.educate.std()},\n",
    " (\"educate\",0):{'mean':vote0.educate.mean(),'sd':vote0.educate.std()},\n",
    " (\"income\",1):{'mean':vote1.income.mean(),'sd':vote1.income.std()},\n",
    " (\"income\",0):{'mean':vote0.income.mean(),'sd':vote0.income.std()}\n",
    "}\n",
    "print(dist_locs)"
   ]
  },
  {
   "cell_type": "code",
   "execution_count": 16,
   "metadata": {},
   "outputs": [
    {
     "name": "stdout",
     "output_type": "stream",
     "text": [
      "\n",
      "    Pr(y == 1| X): 5.252583494610646e-06\n",
      "    Pr(y == 0| X): 4.353899564219851e-06\n",
      "\n"
     ]
    }
   ],
   "source": [
    "age, ed, inc, vote = train_num.iloc[1,:]\n",
    "# Prediction for the 1 class\n",
    "a1 = st.norm(dist_locs[(\"age\",1)]['mean'], dist_locs[(\"age\",1)]['sd']).pdf(age)\n",
    "b1 = st.norm(dist_locs[(\"educate\",1)]['mean'], dist_locs[(\"educate\",1)]['sd']).pdf(ed)\n",
    "c1 = st.norm(dist_locs[(\"income\",1)]['mean'], dist_locs[(\"income\",1)]['sd']).pdf(inc)\n",
    "d1 = pr_vote1\n",
    "pr_1 = a1 * b1 * c1 * d1 \n",
    "\n",
    "# Prediction for the 0 class\n",
    "a0 = st.norm(dist_locs[(\"age\",0)]['mean'], dist_locs[(\"age\",0)]['sd']).pdf(age)\n",
    "b0 = st.norm(dist_locs[(\"educate\",0)]['mean'], dist_locs[(\"educate\",0)]['sd']).pdf(ed)\n",
    "c0 = st.norm(dist_locs[(\"income\",0)]['mean'], dist_locs[(\"income\",0)]['sd']).pdf(inc)\n",
    "d0 = pr_vote0\n",
    "pr_0 = a0 * b0 * c0 * d0 \n",
    "\n",
    "print(\n",
    "f'''\n",
    "    Pr(y == 1| X): {pr_1}\n",
    "    Pr(y == 0| X): {pr_0}\n",
    "''')"
   ]
  },
  {
   "cell_type": "code",
   "execution_count": 12,
   "metadata": {},
   "outputs": [
    {
     "name": "stdout",
     "output_type": "stream",
     "text": [
      "           pr_0          pr_1  pred\n",
      "0  2.925197e-08  1.318409e-05     1\n",
      "1  6.979789e-07  3.526562e-07     0\n",
      "2  4.106011e-05  5.140602e-05     1\n",
      "3  7.269929e-06  6.113275e-05     1\n",
      "4  2.944359e-05  7.601721e-05     1\n"
     ]
    },
    {
     "data": {
      "text/plain": [
       "0.745"
      ]
     },
     "execution_count": 12,
     "metadata": {},
     "output_type": "execute_result"
    }
   ],
   "source": [
    "def num_predict(data,dist_locs):\n",
    "    ''''''\n",
    "    store_preds = []\n",
    "    for i,row in data.iterrows():\n",
    "        \n",
    "        # set predictions \n",
    "        pr_0 = 1; pr_1 = 1\n",
    "        #subtract 1 since that is the vote value\n",
    "        for j in range(0,len(row)-1):\n",
    "            pr_0 *= st.norm(dist_locs[(row.index[j],0)]['mean'],\n",
    "                            dist_locs[(row.index[j],0)]['sd']).pdf(row.values[j])\n",
    "            pr_1 *= st.norm(dist_locs[(row.index[j],1)]['mean'], \n",
    "                            dist_locs[(row.index[j],1)]['sd']).pdf(row.values[j])\n",
    "        pr_0 *= pr_vote0\n",
    "        pr_1 *= pr_vote1\n",
    " \n",
    " #       # Assign the class designation to the highest probability\n",
    "        if pr_0 >= pr_1:\n",
    "            class_pred = 0\n",
    "        else:\n",
    "            class_pred = 1\n",
    "            \n",
    "        store_preds.append([pr_0,pr_1,class_pred])\n",
    "        \n",
    "    return pd.DataFrame(store_preds,columns=[\"pr_0\",\"pr_1\",\"pred\"])\n",
    "pred_train = num_predict(train_num,dist_locs)\n",
    "print(pred_train.head())\n",
    "\n",
    "#determine accuracy of the predictive model for training data\n",
    "accuracy_train = sum(train_num.vote == pred_train.pred)/train_num.shape[0]\n",
    "print(accuracy_train)"
   ]
  },
  {
   "cell_type": "code",
   "execution_count": 16,
   "metadata": {},
   "outputs": [
    {
     "data": {
      "text/plain": [
       "0.7225"
      ]
     },
     "execution_count": 16,
     "metadata": {},
     "output_type": "execute_result"
    }
   ],
   "source": [
    "# run by test data\n",
    "preds_test = num_predict(test_num, dist_locs)\n",
    "\n",
    "# determine accuracy against test data\n",
    "acc_test = sum(test_num.vote == preds_test.pred)/test_num.shape[0]\n",
    "acc_test"
   ]
  },
  {
   "cell_type": "markdown",
   "metadata": {},
   "source": [
    "The numeric predictor is more accurate than the previous binary predictor, and also a coin flip."
   ]
  }
 ],
 "metadata": {
  "interpreter": {
   "hash": "28a81214f7478740f45598c48c99274242b50f964bf4d41318ceccbdc4979f9f"
  },
  "kernelspec": {
   "display_name": "Python 3.9.5 64-bit",
   "language": "python",
   "name": "python3"
  },
  "language_info": {
   "codemirror_mode": {
    "name": "ipython",
    "version": 3
   },
   "file_extension": ".py",
   "mimetype": "text/x-python",
   "name": "python",
   "nbconvert_exporter": "python",
   "pygments_lexer": "ipython3",
   "version": "3.9.5"
  },
  "orig_nbformat": 4
 },
 "nbformat": 4,
 "nbformat_minor": 2
}
