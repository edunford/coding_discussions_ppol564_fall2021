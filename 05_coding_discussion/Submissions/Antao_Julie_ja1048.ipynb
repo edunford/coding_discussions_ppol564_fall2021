{
 "cells": [
  {
   "cell_type": "markdown",
   "id": "6e2d70cc",
   "metadata": {},
   "source": [
    "# Can we predict whether someone will vote or not?\n"
   ]
  },
  {
   "cell_type": "markdown",
   "id": "dd19f0ba",
   "metadata": {},
   "source": [
    "##### Please break the data up into a training (1600 entries, 80%) and test dataset (400 entries, 20%)."
   ]
  },
  {
   "cell_type": "code",
   "execution_count": 144,
   "id": "66af5cf6",
   "metadata": {},
   "outputs": [],
   "source": [
    "#importing relevant methods\n",
    "\n",
    "import pandas as pd\n",
    "import numpy as np\n",
    "import pprint as pp # for printing\n",
    "import scipy.stats as st # for Normal PDF\n",
    "\n",
    "# Plotting libraries \n",
    "import matplotlib.pyplot as plt\n",
    "import seaborn as sns\n",
    "from plotnine import *\n",
    "\n",
    "# Silence warnings \n",
    "import warnings\n",
    "warnings.filterwarnings(\"ignore\")"
   ]
  },
  {
   "cell_type": "code",
   "execution_count": 145,
   "id": "f5bead7b",
   "metadata": {},
   "outputs": [
    {
     "data": {
      "text/html": [
       "<div>\n",
       "<style scoped>\n",
       "    .dataframe tbody tr th:only-of-type {\n",
       "        vertical-align: middle;\n",
       "    }\n",
       "\n",
       "    .dataframe tbody tr th {\n",
       "        vertical-align: top;\n",
       "    }\n",
       "\n",
       "    .dataframe thead th {\n",
       "        text-align: right;\n",
       "    }\n",
       "</style>\n",
       "<table border=\"1\" class=\"dataframe\">\n",
       "  <thead>\n",
       "    <tr style=\"text-align: right;\">\n",
       "      <th></th>\n",
       "      <th>id</th>\n",
       "      <th>age</th>\n",
       "      <th>educate</th>\n",
       "      <th>income</th>\n",
       "      <th>vote</th>\n",
       "      <th>white</th>\n",
       "    </tr>\n",
       "  </thead>\n",
       "  <tbody>\n",
       "    <tr>\n",
       "      <th>0</th>\n",
       "      <td>1</td>\n",
       "      <td>60</td>\n",
       "      <td>14.0</td>\n",
       "      <td>3.3458</td>\n",
       "      <td>1</td>\n",
       "      <td>1</td>\n",
       "    </tr>\n",
       "    <tr>\n",
       "      <th>1</th>\n",
       "      <td>2</td>\n",
       "      <td>51</td>\n",
       "      <td>10.0</td>\n",
       "      <td>1.8561</td>\n",
       "      <td>0</td>\n",
       "      <td>1</td>\n",
       "    </tr>\n",
       "    <tr>\n",
       "      <th>2</th>\n",
       "      <td>3</td>\n",
       "      <td>24</td>\n",
       "      <td>12.0</td>\n",
       "      <td>0.6304</td>\n",
       "      <td>0</td>\n",
       "      <td>1</td>\n",
       "    </tr>\n",
       "    <tr>\n",
       "      <th>3</th>\n",
       "      <td>4</td>\n",
       "      <td>38</td>\n",
       "      <td>8.0</td>\n",
       "      <td>3.4183</td>\n",
       "      <td>1</td>\n",
       "      <td>1</td>\n",
       "    </tr>\n",
       "    <tr>\n",
       "      <th>4</th>\n",
       "      <td>5</td>\n",
       "      <td>25</td>\n",
       "      <td>12.0</td>\n",
       "      <td>2.7852</td>\n",
       "      <td>1</td>\n",
       "      <td>1</td>\n",
       "    </tr>\n",
       "  </tbody>\n",
       "</table>\n",
       "</div>"
      ],
      "text/plain": [
       "   id  age  educate  income  vote  white\n",
       "0   1   60     14.0  3.3458     1      1\n",
       "1   2   51     10.0  1.8561     0      1\n",
       "2   3   24     12.0  0.6304     0      1\n",
       "3   4   38      8.0  3.4183     1      1\n",
       "4   5   25     12.0  2.7852     1      1"
      ]
     },
     "execution_count": 145,
     "metadata": {},
     "output_type": "execute_result"
    }
   ],
   "source": [
    "turnout = pd.read_csv('/Users/juliezantao/coding_discussions_ppol564_fall2021/05_coding_discussion/turnout.csv')\n",
    "turnout.head()"
   ]
  },
  {
   "cell_type": "code",
   "execution_count": 146,
   "id": "d34d7c3f",
   "metadata": {},
   "outputs": [
    {
     "name": "stdout",
     "output_type": "stream",
     "text": [
      "Training Data: 1600 \n",
      "Test Data: 400\n"
     ]
    }
   ],
   "source": [
    "# Train-Test split (just using Pandas)\n",
    "train = turnout.sample(frac=.8).reset_index(drop=True) #pulling out random 80%\n",
    "test = turnout.drop(train.index).reset_index(drop=True) #pulling out the other 20%\n",
    "\n",
    "# Print off the split count \n",
    "print(\"Training Data:\",train.shape[0],\n",
    "      \"\\nTest Data:\",test.shape[0])"
   ]
  },
  {
   "cell_type": "code",
   "execution_count": 147,
   "id": "4e2d5e8a",
   "metadata": {},
   "outputs": [
    {
     "data": {
      "text/html": [
       "<div>\n",
       "<style scoped>\n",
       "    .dataframe tbody tr th:only-of-type {\n",
       "        vertical-align: middle;\n",
       "    }\n",
       "\n",
       "    .dataframe tbody tr th {\n",
       "        vertical-align: top;\n",
       "    }\n",
       "\n",
       "    .dataframe thead th {\n",
       "        text-align: right;\n",
       "    }\n",
       "</style>\n",
       "<table border=\"1\" class=\"dataframe\">\n",
       "  <thead>\n",
       "    <tr style=\"text-align: right;\">\n",
       "      <th></th>\n",
       "      <th>id</th>\n",
       "      <th>age</th>\n",
       "      <th>educate</th>\n",
       "      <th>income</th>\n",
       "      <th>vote</th>\n",
       "      <th>white</th>\n",
       "    </tr>\n",
       "  </thead>\n",
       "  <tbody>\n",
       "    <tr>\n",
       "      <th>0</th>\n",
       "      <td>159</td>\n",
       "      <td>40</td>\n",
       "      <td>15.0</td>\n",
       "      <td>13.6702</td>\n",
       "      <td>1</td>\n",
       "      <td>1</td>\n",
       "    </tr>\n",
       "    <tr>\n",
       "      <th>1</th>\n",
       "      <td>1271</td>\n",
       "      <td>45</td>\n",
       "      <td>12.0</td>\n",
       "      <td>0.4607</td>\n",
       "      <td>1</td>\n",
       "      <td>0</td>\n",
       "    </tr>\n",
       "    <tr>\n",
       "      <th>2</th>\n",
       "      <td>1723</td>\n",
       "      <td>22</td>\n",
       "      <td>13.0</td>\n",
       "      <td>0.7568</td>\n",
       "      <td>1</td>\n",
       "      <td>1</td>\n",
       "    </tr>\n",
       "    <tr>\n",
       "      <th>3</th>\n",
       "      <td>1215</td>\n",
       "      <td>33</td>\n",
       "      <td>19.0</td>\n",
       "      <td>5.6622</td>\n",
       "      <td>1</td>\n",
       "      <td>1</td>\n",
       "    </tr>\n",
       "    <tr>\n",
       "      <th>4</th>\n",
       "      <td>599</td>\n",
       "      <td>48</td>\n",
       "      <td>12.0</td>\n",
       "      <td>3.7042</td>\n",
       "      <td>1</td>\n",
       "      <td>1</td>\n",
       "    </tr>\n",
       "  </tbody>\n",
       "</table>\n",
       "</div>"
      ],
      "text/plain": [
       "     id  age  educate   income  vote  white\n",
       "0   159   40     15.0  13.6702     1      1\n",
       "1  1271   45     12.0   0.4607     1      0\n",
       "2  1723   22     13.0   0.7568     1      1\n",
       "3  1215   33     19.0   5.6622     1      1\n",
       "4   599   48     12.0   3.7042     1      1"
      ]
     },
     "execution_count": 147,
     "metadata": {},
     "output_type": "execute_result"
    }
   ],
   "source": [
    "# Look at the head of the data\n",
    "train.head()"
   ]
  },
  {
   "cell_type": "markdown",
   "id": "2cab4fe8",
   "metadata": {},
   "source": [
    "##### Build a Naive Bayesian Classifier from scratch that tries to predict whether a respondent will vote in a presidential election or not, pr(Vote==1). The classifier must be built from scratch. Do not use a third party ML or statistical package."
   ]
  },
  {
   "cell_type": "code",
   "execution_count": 148,
   "id": "73aa8a8c",
   "metadata": {},
   "outputs": [
    {
     "name": "stdout",
     "output_type": "stream",
     "text": [
      "class probabilities\n",
      "\n",
      "{0: 0.246875, 1: 0.753125}\n",
      "\n",
      "\n",
      "conditional probabilities\n",
      "\n",
      "{('age', 0, 0): -41.278481012658226,\n",
      " ('age', 0, 1): -45.38091286307054,\n",
      " ('age', 1, 0): 42.278481012658226,\n",
      " ('age', 1, 1): 46.38091286307054,\n",
      " ('educate', 0, 0): -9.716455696202532,\n",
      " ('educate', 0, 1): -11.605394190871369,\n",
      " ('educate', 1, 0): 10.716455696202532,\n",
      " ('educate', 1, 1): 12.605394190871369,\n",
      " ('id', 0, 0): -1058.427848101266,\n",
      " ('id', 0, 1): -979.0730290456431,\n",
      " ('id', 1, 0): 1059.427848101266,\n",
      " ('id', 1, 1): 980.0730290456431,\n",
      " ('income', 0, 0): -1.8713470886075951,\n",
      " ('income', 0, 1): -3.2998618257261416,\n",
      " ('income', 1, 0): 2.871347088607595,\n",
      " ('income', 1, 1): 4.299861825726142,\n",
      " ('white', 0, 0): 0.22784810126582278,\n",
      " ('white', 0, 1): 0.1203319502074689,\n",
      " ('white', 1, 0): 0.7721518987341772,\n",
      " ('white', 1, 1): 0.8796680497925311}\n"
     ]
    }
   ],
   "source": [
    "def calc_probs(data,outcome_var=\"\"):\n",
    "    '''\n",
    "    Function calculates the class and conditional probabilities in \n",
    "    the binary data. \n",
    "    \n",
    "    Note that I'm using dictionaries with tuple keys to keep\n",
    "    track of the variable, it's val, and the outcome, which we're conditioning on. \n",
    "    '''\n",
    "    # Generate empty dictionary containers.\n",
    "    class_probs = {};cond_probs = {}\n",
    "    # Locate all variables that are not the outcome.\n",
    "    vars = [v for v in data.columns if v != outcome_var]\n",
    "    # iterate through the class outcomes\n",
    "    for y, d in data.groupby(outcome_var): \n",
    "        # calculate the class probabilities\n",
    "        class_probs.update({y: d.shape[0]/data.shape[0]})\n",
    "        for v in vars:\n",
    "            # calculate the conditional probabilities for each variable given the class.\n",
    "            pr = d[v].sum()/d.shape[0]\n",
    "            cond_probs[(v,1,y)] = pr \n",
    "            cond_probs[(v,0,y)] = 1 - pr\n",
    "    return class_probs, cond_probs\n",
    "\n",
    "\n",
    "# Run\n",
    "class_probs, cond_probs = calc_probs(train,outcome_var=\"vote\")\n",
    "\n",
    "# Print\n",
    "print(\"class probabilities\",end=\"\\n\\n\")\n",
    "pp.pprint(class_probs)\n",
    "print(\"\\n\")\n",
    "print(\"conditional probabilities\",end=\"\\n\\n\")\n",
    "pp.pprint(cond_probs)"
   ]
  },
  {
   "cell_type": "code",
   "execution_count": 149,
   "id": "05beed3b",
   "metadata": {},
   "outputs": [],
   "source": [
    "vote1 = train.query(\"vote == 1\")\n",
    "vote0 = train.query(\"vote == 0\")\n",
    "\n",
    "# Class probabilities.\n",
    "prob_v1 = y1.shape[0]/train.shape[0]\n",
    "prob_v0 = y0.shape[0]/train.shape[0]\n",
    "\n"
   ]
  },
  {
   "cell_type": "code",
   "execution_count": 150,
   "id": "d43afde2",
   "metadata": {},
   "outputs": [
    {
     "name": "stdout",
     "output_type": "stream",
     "text": [
      "\n",
      "Pr(white = 1 |vote = 0): 0.7721518987341772\n",
      "Pr(white = 0 |vote = 0): 0.22784810126582278\n",
      "Pr(white = 1 |vote = 1): 0.8796680497925311\n",
      "Pr(white = 0 |vote = 1): 0.12033195020746888\n",
      "\n"
     ]
    }
   ],
   "source": [
    "#Calculating the conditional probability for white\n",
    "\n",
    "#Given vote =0 \n",
    "white1_vote0 = vote0.query(\"white == 1\").shape[0]/vote0.shape[0]\n",
    "white0_vote0 = vote0.query(\"white == 0\").shape[0]/vote0.shape[0]\n",
    "\n",
    "#Given vote =1\n",
    "white1_vote1 = vote1.query(\"white == 1\").shape[0]/vote1.shape[0]\n",
    "white0_vote1 = vote1.query(\"white == 0\").shape[0]/vote1.shape[0]\n",
    "\n",
    "\n",
    "#Printing the results\n",
    "print(\n",
    "f\"\"\"\n",
    "Pr(white = 1 |vote = 0): {white1_vote0}\n",
    "Pr(white = 0 |vote = 0): {white0_vote0}\n",
    "Pr(white = 1 |vote = 1): {white1_vote1}\n",
    "Pr(white = 0 |vote = 1): {white0_vote1}\n",
    "\"\"\")"
   ]
  },
  {
   "cell_type": "code",
   "execution_count": 151,
   "id": "ffc40361",
   "metadata": {},
   "outputs": [
    {
     "name": "stdout",
     "output_type": "stream",
     "text": [
      "{('age', 0): {'mean': 42.13895781637717, 'sd': 18.684352298158444},\n",
      " ('age', 1): {'mean': 46.345029239766085, 'sd': 16.803818419680265},\n",
      " ('educate', 0): {'mean': 10.805210918114144, 'sd': 3.2678743289074386},\n",
      " ('educate', 1): {'mean': 12.52172096908939, 'sd': 3.299746019262978},\n",
      " ('income', 0): {'mean': 2.855613151364764, 'sd': 2.1986517629056457},\n",
      " ('income', 1): {'mean': 4.216433416875523, 'sd': 2.9060407685079377},\n",
      " ('white', 0): {'mean': 0.7766749379652605, 'sd': 0.41699214476797114},\n",
      " ('white', 1): {'mean': 0.8830409356725146, 'sd': 0.321505825475229}}\n"
     ]
    }
   ],
   "source": [
    "# Collect the mean and standard dev. of each conditional distribution\n",
    "dist_locs = \\\n",
    "{(\"age\",1):{'mean':y1.age.mean(),'sd':y1.age.std()},\n",
    " (\"age\",0):{'mean':y0.age.mean(),'sd':y0.age.std()},\n",
    " (\"educate\",1):{'mean':y1.educate.mean(),'sd':y1.educate.std()},\n",
    " (\"educate\",0):{'mean':y0.educate.mean(),'sd':y0.educate.std()},\n",
    " (\"income\",1):{'mean':y1.income.mean(),'sd':y1.income.std()},\n",
    " (\"income\",0):{'mean':y0.income.mean(),'sd':y0.income.std()},\n",
    " (\"white\",1):{'mean':y1.white.mean(),'sd':y1.white.std()},\n",
    " (\"white\",0):{'mean':y0.white.mean(),'sd':y0.white.std()}\n",
    "}\n",
    "\n",
    "# Print\n",
    "pp.pprint(dist_locs)"
   ]
  },
  {
   "cell_type": "code",
   "execution_count": 168,
   "id": "460a3dde",
   "metadata": {},
   "outputs": [],
   "source": [
    "def predict(data,dist_locs):\n",
    "    \n",
    "    #An empty list that will be used to store data in the function\n",
    "    store_preds = []\n",
    "    \n",
    "    #Iterating through the data\n",
    "    for i,row in data.iterrows():\n",
    "        \n",
    "        # Get the predictions using a Gaussan distribution\n",
    "        pr_0 = 1; pr_1 = 1\n",
    "        \n",
    "        for j in range(1,4): \n",
    "            pr_0 *= st.norm(dist_locs[(row.index[j],0)]['mean'],\n",
    "                            dist_locs[(row.index[j],0)]['sd']).pdf(row.values[j])\n",
    "            pr_1 *= st.norm(dist_locs[(row.index[j],1)]['mean'], \n",
    "                            dist_locs[(row.index[j],1)]['sd']).pdf(row.values[j])\n",
    "        if(row[\"white\"]==0):\n",
    "            pr_0*=white0_vote0\n",
    "        else:\n",
    "            pr_0*=white1_vote0\n",
    "    \n",
    "            \n",
    "        if(row[\"white\"]==0):\n",
    "            pr_1*=white0_vote1\n",
    "        else:\n",
    "            pr_1*=white1_vote1\n",
    "        \n",
    "        pr_0 *= prob_v0\n",
    "        pr_1 *= prob_v1\n",
    "        \n",
    "        # Assign the class designation to the highest probability\n",
    "        if pr_0 >= pr_1:\n",
    "            class_pred = 0\n",
    "        else:\n",
    "            class_pred = 1\n",
    "            \n",
    "        store_preds.append([pr_0,pr_1,class_pred])\n",
    "        \n",
    "    return pd.DataFrame(store_preds,columns=[\"Vote_0\",\"Vote_1\",\"Final_Prediction\"])"
   ]
  },
  {
   "cell_type": "code",
   "execution_count": 163,
   "id": "043c6975",
   "metadata": {},
   "outputs": [],
   "source": [
    "# Running function\n",
    "pred_train = predict(train, dist_locs)"
   ]
  },
  {
   "cell_type": "code",
   "execution_count": 165,
   "id": "08a2c772",
   "metadata": {
    "scrolled": false
   },
   "outputs": [
    {
     "data": {
      "text/html": [
       "<div>\n",
       "<style scoped>\n",
       "    .dataframe tbody tr th:only-of-type {\n",
       "        vertical-align: middle;\n",
       "    }\n",
       "\n",
       "    .dataframe tbody tr th {\n",
       "        vertical-align: top;\n",
       "    }\n",
       "\n",
       "    .dataframe thead th {\n",
       "        text-align: right;\n",
       "    }\n",
       "</style>\n",
       "<table border=\"1\" class=\"dataframe\">\n",
       "  <thead>\n",
       "    <tr style=\"text-align: right;\">\n",
       "      <th></th>\n",
       "      <th>Vote_0</th>\n",
       "      <th>Vote_1</th>\n",
       "      <th>Final_Prediction</th>\n",
       "    </tr>\n",
       "  </thead>\n",
       "  <tbody>\n",
       "    <tr>\n",
       "      <th>0</th>\n",
       "      <td>2.235721e-10</td>\n",
       "      <td>9.169134e-07</td>\n",
       "      <td>1</td>\n",
       "    </tr>\n",
       "    <tr>\n",
       "      <th>1</th>\n",
       "      <td>1.386429e-05</td>\n",
       "      <td>1.514891e-05</td>\n",
       "      <td>1</td>\n",
       "    </tr>\n",
       "    <tr>\n",
       "      <th>2</th>\n",
       "      <td>2.603869e-05</td>\n",
       "      <td>4.423111e-05</td>\n",
       "      <td>1</td>\n",
       "    </tr>\n",
       "    <tr>\n",
       "      <th>3</th>\n",
       "      <td>1.557438e-06</td>\n",
       "      <td>2.433082e-05</td>\n",
       "      <td>1</td>\n",
       "    </tr>\n",
       "    <tr>\n",
       "      <th>4</th>\n",
       "      <td>7.602855e-05</td>\n",
       "      <td>2.509295e-04</td>\n",
       "      <td>1</td>\n",
       "    </tr>\n",
       "    <tr>\n",
       "      <th>5</th>\n",
       "      <td>7.187075e-05</td>\n",
       "      <td>1.796456e-04</td>\n",
       "      <td>1</td>\n",
       "    </tr>\n",
       "    <tr>\n",
       "      <th>6</th>\n",
       "      <td>1.384173e-05</td>\n",
       "      <td>9.083325e-06</td>\n",
       "      <td>0</td>\n",
       "    </tr>\n",
       "    <tr>\n",
       "      <th>7</th>\n",
       "      <td>3.233333e-05</td>\n",
       "      <td>1.168288e-04</td>\n",
       "      <td>1</td>\n",
       "    </tr>\n",
       "    <tr>\n",
       "      <th>8</th>\n",
       "      <td>3.615985e-05</td>\n",
       "      <td>5.936521e-05</td>\n",
       "      <td>1</td>\n",
       "    </tr>\n",
       "    <tr>\n",
       "      <th>9</th>\n",
       "      <td>2.063777e-05</td>\n",
       "      <td>8.815863e-05</td>\n",
       "      <td>1</td>\n",
       "    </tr>\n",
       "  </tbody>\n",
       "</table>\n",
       "</div>"
      ],
      "text/plain": [
       "         Vote_0        Vote_1  Final_Prediction\n",
       "0  2.235721e-10  9.169134e-07                 1\n",
       "1  1.386429e-05  1.514891e-05                 1\n",
       "2  2.603869e-05  4.423111e-05                 1\n",
       "3  1.557438e-06  2.433082e-05                 1\n",
       "4  7.602855e-05  2.509295e-04                 1\n",
       "5  7.187075e-05  1.796456e-04                 1\n",
       "6  1.384173e-05  9.083325e-06                 0\n",
       "7  3.233333e-05  1.168288e-04                 1\n",
       "8  3.615985e-05  5.936521e-05                 1\n",
       "9  2.063777e-05  8.815863e-05                 1"
      ]
     },
     "execution_count": 165,
     "metadata": {},
     "output_type": "execute_result"
    }
   ],
   "source": [
    "#Getting snapshot \n",
    "pred_train.head(10)"
   ]
  },
  {
   "cell_type": "markdown",
   "id": "1ac92766",
   "metadata": {},
   "source": [
    "##### Run your algorithm and see how it predicts on the test data by calculating the predictive accuracy."
   ]
  },
  {
   "cell_type": "code",
   "execution_count": 166,
   "id": "238cd7e6",
   "metadata": {},
   "outputs": [
    {
     "data": {
      "text/plain": [
       "0.7475"
      ]
     },
     "execution_count": 166,
     "metadata": {},
     "output_type": "execute_result"
    }
   ],
   "source": [
    "#Examining the predictive accuracy of the training data.\n",
    "accuracy_train = sum(train.vote == pred_train.Final_Prediction)/train.shape[0]\n",
    "accuracy_train"
   ]
  },
  {
   "cell_type": "code",
   "execution_count": 156,
   "id": "49a51a8f",
   "metadata": {},
   "outputs": [],
   "source": [
    "#Run the function for test data\n",
    "pred_test = predict(test, dist_locs)"
   ]
  },
  {
   "cell_type": "code",
   "execution_count": 157,
   "id": "af6a4f0f",
   "metadata": {},
   "outputs": [
    {
     "data": {
      "text/html": [
       "<div>\n",
       "<style scoped>\n",
       "    .dataframe tbody tr th:only-of-type {\n",
       "        vertical-align: middle;\n",
       "    }\n",
       "\n",
       "    .dataframe tbody tr th {\n",
       "        vertical-align: top;\n",
       "    }\n",
       "\n",
       "    .dataframe thead th {\n",
       "        text-align: right;\n",
       "    }\n",
       "</style>\n",
       "<table border=\"1\" class=\"dataframe\">\n",
       "  <thead>\n",
       "    <tr style=\"text-align: right;\">\n",
       "      <th></th>\n",
       "      <th>Vote_0</th>\n",
       "      <th>Vote_1</th>\n",
       "      <th>Final_Prediction</th>\n",
       "    </tr>\n",
       "  </thead>\n",
       "  <tbody>\n",
       "    <tr>\n",
       "      <th>0</th>\n",
       "      <td>5.688398e-06</td>\n",
       "      <td>1.335242e-05</td>\n",
       "      <td>1</td>\n",
       "    </tr>\n",
       "    <tr>\n",
       "      <th>1</th>\n",
       "      <td>2.077040e-05</td>\n",
       "      <td>1.815165e-04</td>\n",
       "      <td>1</td>\n",
       "    </tr>\n",
       "    <tr>\n",
       "      <th>2</th>\n",
       "      <td>2.660769e-05</td>\n",
       "      <td>7.008527e-05</td>\n",
       "      <td>1</td>\n",
       "    </tr>\n",
       "    <tr>\n",
       "      <th>3</th>\n",
       "      <td>7.602813e-05</td>\n",
       "      <td>1.876561e-04</td>\n",
       "      <td>1</td>\n",
       "    </tr>\n",
       "    <tr>\n",
       "      <th>4</th>\n",
       "      <td>1.767109e-06</td>\n",
       "      <td>4.169324e-05</td>\n",
       "      <td>1</td>\n",
       "    </tr>\n",
       "    <tr>\n",
       "      <th>5</th>\n",
       "      <td>5.036046e-05</td>\n",
       "      <td>8.363252e-05</td>\n",
       "      <td>1</td>\n",
       "    </tr>\n",
       "    <tr>\n",
       "      <th>6</th>\n",
       "      <td>6.165724e-08</td>\n",
       "      <td>1.480605e-08</td>\n",
       "      <td>0</td>\n",
       "    </tr>\n",
       "    <tr>\n",
       "      <th>7</th>\n",
       "      <td>3.838394e-05</td>\n",
       "      <td>7.603654e-05</td>\n",
       "      <td>1</td>\n",
       "    </tr>\n",
       "    <tr>\n",
       "      <th>8</th>\n",
       "      <td>1.126187e-05</td>\n",
       "      <td>7.306106e-06</td>\n",
       "      <td>0</td>\n",
       "    </tr>\n",
       "    <tr>\n",
       "      <th>9</th>\n",
       "      <td>3.654490e-05</td>\n",
       "      <td>1.059103e-04</td>\n",
       "      <td>1</td>\n",
       "    </tr>\n",
       "  </tbody>\n",
       "</table>\n",
       "</div>"
      ],
      "text/plain": [
       "         Vote_0        Vote_1  Final_Prediction\n",
       "0  5.688398e-06  1.335242e-05                 1\n",
       "1  2.077040e-05  1.815165e-04                 1\n",
       "2  2.660769e-05  7.008527e-05                 1\n",
       "3  7.602813e-05  1.876561e-04                 1\n",
       "4  1.767109e-06  4.169324e-05                 1\n",
       "5  5.036046e-05  8.363252e-05                 1\n",
       "6  6.165724e-08  1.480605e-08                 0\n",
       "7  3.838394e-05  7.603654e-05                 1\n",
       "8  1.126187e-05  7.306106e-06                 0\n",
       "9  3.654490e-05  1.059103e-04                 1"
      ]
     },
     "execution_count": 157,
     "metadata": {},
     "output_type": "execute_result"
    }
   ],
   "source": [
    "pred_test.head(10)"
   ]
  },
  {
   "cell_type": "code",
   "execution_count": 158,
   "id": "98e29449",
   "metadata": {},
   "outputs": [
    {
     "data": {
      "text/plain": [
       "0.7075"
      ]
     },
     "execution_count": 158,
     "metadata": {},
     "output_type": "execute_result"
    }
   ],
   "source": [
    "#Examining the predictive accuracy on the test data.\n",
    "accuracy_test = sum(test.vote == pred_test.Final_Prediction)/test.shape[0]\n",
    "accuracy_test"
   ]
  },
  {
   "cell_type": "markdown",
   "id": "c782669f",
   "metadata": {},
   "source": [
    "##### Does your model perform better than chance (i.e. coin flip)?"
   ]
  },
  {
   "cell_type": "markdown",
   "id": "d9c6412f",
   "metadata": {},
   "source": [
    "My model does perform better than a chance flip. As we can see, the train model's (1600 entries, 80%) accuracy is 0.7475 and the test model is 0.7075. Since these are both greater than 0.5 which is the probability of a coin flip by chance, it is possible to see that this model does in fact perform better than a chance flip. "
   ]
  }
 ],
 "metadata": {
  "kernelspec": {
   "display_name": "Python 3 (ipykernel)",
   "language": "python",
   "name": "python3"
  },
  "language_info": {
   "codemirror_mode": {
    "name": "ipython",
    "version": 3
   },
   "file_extension": ".py",
   "mimetype": "text/x-python",
   "name": "python",
   "nbconvert_exporter": "python",
   "pygments_lexer": "ipython3",
   "version": "3.9.5"
  }
 },
 "nbformat": 4,
 "nbformat_minor": 5
}
