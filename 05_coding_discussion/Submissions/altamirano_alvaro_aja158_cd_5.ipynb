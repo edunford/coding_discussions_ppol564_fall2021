{
 "cells": [
  {
   "cell_type": "markdown",
   "metadata": {},
   "source": [
    "### PPOL564 | Data Science 1: Foundations | Coding discussion 05\n",
    "####  Alvaro Altamirano Montoya"
   ]
  },
  {
   "cell_type": "markdown",
   "metadata": {},
   "source": [
    "#### 1 : Import Libraries, set WD, and load files."
   ]
  },
  {
   "cell_type": "code",
   "execution_count": 42,
   "metadata": {},
   "outputs": [],
   "source": [
    "# 1.1 Importing required libraries\n",
    "import numpy as np, pandas as pd, os\n",
    "import scipy.stats as st\n",
    "import pprint as pp # for printing"
   ]
  },
  {
   "cell_type": "code",
   "execution_count": 43,
   "metadata": {},
   "outputs": [
    {
     "name": "stdout",
     "output_type": "stream",
     "text": [
      "training: 1600 ; test: 400\n"
     ]
    }
   ],
   "source": [
    "# 1.2 Set paths and read files\n",
    "path = r'C:\\Users\\unily\\Documents\\Georgetown\\PPOL 564 - Intro to Data Science\\Coding discussions\\5'\n",
    "os.chdir(path) # Set WD\n",
    "# 1.3 Load and split data in training and test\n",
    "# Set seed\n",
    "np.random.seed(1234)\n",
    "# read in data\n",
    "vt_data = pd.read_csv(\"turnout.csv\")\n",
    "# Train-Test split (just using Pandas)\n",
    "train = vt_data.sample(frac=.8).reset_index(drop=True)\n",
    "test = vt_data.drop(train.index).reset_index(drop=True)\n",
    "print('training: '+str(train.shape[0]), '; test: '+str(test.shape[0]))"
   ]
  },
  {
   "cell_type": "markdown",
   "metadata": {},
   "source": [
    "#### Calculate Class Probabilities: $Pr(class)$"
   ]
  },
  {
   "cell_type": "code",
   "execution_count": 44,
   "metadata": {},
   "outputs": [
    {
     "name": "stdout",
     "output_type": "stream",
     "text": [
      "\n",
      "Pr(vote = 1): 0.7425\n",
      "Pr(vote = 0): 0.2575\n",
      "\n"
     ]
    }
   ],
   "source": [
    "N = train.shape[0]\n",
    "# Subset the data by class\n",
    "vt1 = train.query(\"vote == 1\")\n",
    "vt0 = train.query(\"vote == 0\")\n",
    "# Calculate the probability for each class\n",
    "pr_vt_1 = vt1.shape[0]/N\n",
    "pr_vt_0 = vt0.shape[0]/N\n",
    "# Print the probabilities\n",
    "print(\n",
    "f\"\"\"\n",
    "Pr(vote = 1): {pr_vt_1}\n",
    "Pr(vote = 0): {pr_vt_0}\n",
    "\"\"\")"
   ]
  },
  {
   "cell_type": "markdown",
   "metadata": {},
   "source": [
    "#### Conditional probabilities function"
   ]
  },
  {
   "cell_type": "code",
   "execution_count": 45,
   "metadata": {},
   "outputs": [
    {
     "name": "stdout",
     "output_type": "stream",
     "text": [
      "class probabilities\n",
      "\n",
      "{0: 0.2575, 1: 0.7425}\n",
      "\n",
      "conditional probabilities\n",
      "\n",
      "{('age', 0, 0): -41.601941747572816,\n",
      " ('age', 0, 1): -45.32491582491583,\n",
      " ('age', 1, 0): 42.601941747572816,\n",
      " ('age', 1, 1): 46.32491582491583,\n",
      " ('educate', 0, 0): -9.62864077669903,\n",
      " ('educate', 0, 1): -11.558922558922559,\n",
      " ('educate', 1, 0): 10.62864077669903,\n",
      " ('educate', 1, 1): 12.558922558922559,\n",
      " ('id', 0, 0): -1052.5606796116506,\n",
      " ('id', 0, 1): -971.0942760942761,\n",
      " ('id', 1, 0): 1053.5606796116506,\n",
      " ('id', 1, 1): 972.0942760942761,\n",
      " ('income', 0, 0): -1.7381618932038831,\n",
      " ('income', 0, 1): -3.2294619528619526,\n",
      " ('income', 1, 0): 2.738161893203883,\n",
      " ('income', 1, 1): 4.229461952861953,\n",
      " ('white', 0, 0): 0.20145631067961167,\n",
      " ('white', 0, 1): 0.13131313131313127,\n",
      " ('white', 1, 0): 0.7985436893203883,\n",
      " ('white', 1, 1): 0.8686868686868687}\n"
     ]
    }
   ],
   "source": [
    "def calc_probs(data,outcome_var=\"\"):\n",
    "    '''\n",
    "    calc_probs():\n",
    "    This function calculates the class and conditional probabilities for the dummy variables. \n",
    "    -------------------------------------------------------------------------------------------\n",
    "    Arguments:\n",
    "    The prior probabilities based on the dimensions of variables/outcomes within original dataset.\n",
    "    -------------------------------------------------------------------------------------------\n",
    "    return:\n",
    "    Dictionary objects with three key/values sets.\n",
    "    '''\n",
    "    # Generate empty dictionary containers.\n",
    "    class_probs = {};cond_probs = {}\n",
    "    # Locate all variables that are not the outcome.\n",
    "    vars = [v for v in data.columns if v != outcome_var]\n",
    "    # iterate through the class outcomes\n",
    "    for y, d in data.groupby(outcome_var): \n",
    "        # calculate the class probabilities\n",
    "        class_probs.update({y: d.shape[0]/data.shape[0]})\n",
    "        for v in vars:\n",
    "            # calculate the conditional probabilities for each variable given the class.\n",
    "            pr = d[v].sum()/d.shape[0]\n",
    "            cond_probs[(v,1,y)] = pr \n",
    "            cond_probs[(v,0,y)] = 1 - pr\n",
    "    return class_probs, cond_probs\n",
    "\n",
    "# Run\n",
    "class_probs, cond_probs = calc_probs(train,outcome_var=\"vote\")\n",
    "# Print\n",
    "print(\"class probabilities\",end=\"\\n\\n\")\n",
    "pp.pprint(class_probs)\n",
    "print(\"\\n\" + \"conditional probabilities\",end=\"\\n\\n\")\n",
    "pp.pprint(cond_probs)"
   ]
  },
  {
   "cell_type": "markdown",
   "metadata": {},
   "source": [
    "#### Class prediction. Create conditional probabilities and predict using bayes formula. "
   ]
  },
  {
   "cell_type": "code",
   "execution_count": 46,
   "metadata": {},
   "outputs": [
    {
     "name": "stdout",
     "output_type": "stream",
     "text": [
      "{('age', 0): {'mean': 42.601941747572816, 'sd': 19.147825402160812},\n",
      " ('age', 1): {'mean': 46.32491582491583, 'sd': 16.924844588853716},\n",
      " ('educate', 0): {'mean': 10.62864077669903, 'sd': 3.304381091983527},\n",
      " ('educate', 1): {'mean': 12.558922558922559, 'sd': 3.295714127444309},\n",
      " ('income', 0): {'mean': 2.7381618932038836, 'sd': 2.2429913729337625},\n",
      " ('income', 1): {'mean': 4.229461952861947, 'sd': 2.8482089910676964}}\n"
     ]
    }
   ],
   "source": [
    "# Calculate Class Probabilities\n",
    "y1 = train.query(\"vote == 1\")\n",
    "y0 = train.query(\"vote == 0\")\n",
    "#del y1['vote'], y0['vote']\n",
    "# Class probabilities.\n",
    "pr_y1 = y1.shape[0]/train.shape[0]\n",
    "pr_y0 = y0.shape[0]/train.shape[0]\n",
    "# Collect the mean and standard dev. of each conditional distribution\n",
    "dist_locs = \\\n",
    "{(\"income\",1):{'mean':y1.income.mean(),'sd':y1.income.std()},\n",
    " (\"income\",0):{'mean':y0.income.mean(),'sd':y0.income.std()},\n",
    "  (\"age\",1):{'mean':y1.age.mean(),'sd':y1.age.std()},\n",
    " (\"age\",0):{'mean':y0.age.mean(),'sd':y0.age.std()},\n",
    "   (\"educate\",1):{'mean':y1.educate.mean(),'sd':y1.educate.std()},\n",
    " (\"educate\",0):{'mean':y0.educate.mean(),'sd':y0.educate.std()},\n",
    "}\n",
    "# Print\n",
    "pp.pprint(dist_locs)"
   ]
  },
  {
   "cell_type": "code",
   "execution_count": 47,
   "metadata": {},
   "outputs": [],
   "source": [
    "#Calculating the conditional probability for the binary variable\n",
    "#Given vote = 0 \n",
    "w1v0 = y0.query(\"white == 1\").shape[0]/y0.shape[0]\n",
    "w0v0 = y0.query(\"white == 0\").shape[0]/y0.shape[0]\n",
    "#Given vote = 1\n",
    "w1v1 = y1.query(\"white == 1\").shape[0]/y1.shape[0]\n",
    "w0v1 = y1.query(\"white == 0\").shape[0]/y1.shape[0]"
   ]
  },
  {
   "cell_type": "code",
   "execution_count": 48,
   "metadata": {},
   "outputs": [],
   "source": [
    "# Created copies of both train and tests without the dependent variable\n",
    "train_xs = train.copy()\n",
    "test_xs = test.copy()\n",
    "train_xs = train_xs[['white','age','income','educate']]\n",
    "test_xs = test_xs[['white','age','income','educate']]"
   ]
  },
  {
   "cell_type": "code",
   "execution_count": 49,
   "metadata": {},
   "outputs": [],
   "source": [
    "def predict(data,dist_locs):\n",
    "    '''\n",
    "    Predict():\n",
    "    Multiplies the conditional probabilities of the continous variables with the conditional probability of the discrete variable for each individual respondent. Then, this is \n",
    "    multiplied with each class probability. \n",
    "    -------------------------------------------------------------------------------------------------------------------------\n",
    "    Arguments: \n",
    "    A dataframe and a dictionary object with the conditional probabilities.\n",
    "    -------------------------------------------------------------------------------------------------------------------------\n",
    "    Return Value: \n",
    "    A classification of class by individual, within a dataframe. \n",
    "    ------------------------------------------------------------------------------------------------------------------------\n",
    "    '''    \n",
    "    store_preds = []\n",
    "    for i,row in data.iterrows():\n",
    "        \n",
    "        # Get the predictions using a Gaussian distribution\n",
    "        pr_0 = 1; pr_1 = 1\n",
    "        for j in range(1,len(row)):\n",
    "            pr_0 *= st.norm(dist_locs[(row.index[j],0)]['mean'],\n",
    "                            dist_locs[(row.index[j],0)]['sd']).pdf(row.values[j])\n",
    "            pr_1 *= st.norm(dist_locs[(row.index[j],1)]['mean'], \n",
    "                            dist_locs[(row.index[j],1)]['sd']).pdf(row.values[j])\n",
    "        \n",
    "        # Get predictions for dummy variable using conditional probabilities from previuos exercise\n",
    "        if(row[\"white\"]==0):\n",
    "            pr_0*=w0v0 # given vote = 0\n",
    "        else:\n",
    "            pr_0*=w1v0\n",
    "        if(row[\"white\"]==0):\n",
    "            pr_1*=w0v1 # given vote = 1\n",
    "        else:\n",
    "            pr_1*=w1v1\n",
    "            \n",
    "        #Multiplying with the class probability \n",
    "        pr_0 *= pr_y0\n",
    "        pr_1 *= pr_y1\n",
    "        \n",
    "        # Assign the class designation to the highest probability\n",
    "        if pr_0 >= pr_1:\n",
    "            class_pred = 0\n",
    "        else:\n",
    "            class_pred = 1\n",
    "            \n",
    "        store_preds.append([pr_0,pr_1,class_pred])\n",
    "        \n",
    "    return pd.DataFrame(store_preds,columns=[\"pr_0\",\"pr_1\",\"pred\"])"
   ]
  },
  {
   "cell_type": "markdown",
   "metadata": {},
   "source": [
    "#### Prediction metrics and discussion"
   ]
  },
  {
   "cell_type": "code",
   "execution_count": 50,
   "metadata": {},
   "outputs": [
    {
     "name": "stdout",
     "output_type": "stream",
     "text": [
      "Accuracy metric for train data: 73.6%\n"
     ]
    }
   ],
   "source": [
    "# Accuracy metric for train data\n",
    "preds_train = predict(train_xs,dist_locs)\n",
    "accuracy_train = sum(train.vote == preds_train.pred)/train.shape[0]\n",
    "print(\"Accuracy metric for train data: \" + str(accuracy_train*100)[0:4]+'%')"
   ]
  },
  {
   "cell_type": "code",
   "execution_count": 51,
   "metadata": {},
   "outputs": [
    {
     "name": "stdout",
     "output_type": "stream",
     "text": [
      "Accuracy metric for train data: 71.5%\n"
     ]
    }
   ],
   "source": [
    "# Accuracy metric for test data\n",
    "preds_test = predict(test_xs, dist_locs)\n",
    "accuracy_test = sum(test.vote == preds_test.pred)/test.shape[0]\n",
    "print(\"Accuracy metric for train data: \"+ str(accuracy_test*100)[0:4]+'%')"
   ]
  },
  {
   "cell_type": "markdown",
   "metadata": {},
   "source": [
    "#### In terms of performance metrics, the accuracy coefficient is greater for the training set than for the test set, although by a small percentage difference (73.6% vs 71.5%). Result = ~72% > ~50% (coin flip)."
   ]
  },
  {
   "cell_type": "code",
   "execution_count": null,
   "metadata": {},
   "outputs": [],
   "source": []
  }
 ],
 "metadata": {
  "kernelspec": {
   "display_name": "Python 3",
   "language": "python",
   "name": "python3"
  },
  "language_info": {
   "codemirror_mode": {
    "name": "ipython",
    "version": 3
   },
   "file_extension": ".py",
   "mimetype": "text/x-python",
   "name": "python",
   "nbconvert_exporter": "python",
   "pygments_lexer": "ipython3",
   "version": "3.7.4"
  }
 },
 "nbformat": 4,
 "nbformat_minor": 2
}
