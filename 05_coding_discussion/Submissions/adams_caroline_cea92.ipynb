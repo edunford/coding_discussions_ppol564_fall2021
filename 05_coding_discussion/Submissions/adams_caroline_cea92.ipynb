{
 "cells": [
  {
   "cell_type": "markdown",
   "id": "ad3bfe80",
   "metadata": {},
   "source": [
    "# Coding Discussion 5"
   ]
  },
  {
   "cell_type": "code",
   "execution_count": 1,
   "id": "629ecefd",
   "metadata": {},
   "outputs": [],
   "source": [
    "#importing packages\n",
    "import pandas as pd\n",
    "import pprint as pp\n",
    "import scipy.stats as st"
   ]
  },
  {
   "cell_type": "code",
   "execution_count": 2,
   "id": "5e5599f7",
   "metadata": {},
   "outputs": [],
   "source": [
    "#importing data\n",
    "turnout=pd.read_csv(\"/Users/carolineadams/coding_discussions_ppol564_fall2021/05_coding_discussion/turnout.csv\")"
   ]
  },
  {
   "cell_type": "code",
   "execution_count": 3,
   "id": "3ae6a6a9",
   "metadata": {},
   "outputs": [
    {
     "data": {
      "text/html": [
       "<div>\n",
       "<style scoped>\n",
       "    .dataframe tbody tr th:only-of-type {\n",
       "        vertical-align: middle;\n",
       "    }\n",
       "\n",
       "    .dataframe tbody tr th {\n",
       "        vertical-align: top;\n",
       "    }\n",
       "\n",
       "    .dataframe thead th {\n",
       "        text-align: right;\n",
       "    }\n",
       "</style>\n",
       "<table border=\"1\" class=\"dataframe\">\n",
       "  <thead>\n",
       "    <tr style=\"text-align: right;\">\n",
       "      <th></th>\n",
       "      <th>id</th>\n",
       "      <th>age</th>\n",
       "      <th>educate</th>\n",
       "      <th>income</th>\n",
       "      <th>vote</th>\n",
       "      <th>white</th>\n",
       "    </tr>\n",
       "  </thead>\n",
       "  <tbody>\n",
       "    <tr>\n",
       "      <th>0</th>\n",
       "      <td>1</td>\n",
       "      <td>60</td>\n",
       "      <td>14.0</td>\n",
       "      <td>3.3458</td>\n",
       "      <td>1</td>\n",
       "      <td>1</td>\n",
       "    </tr>\n",
       "    <tr>\n",
       "      <th>1</th>\n",
       "      <td>2</td>\n",
       "      <td>51</td>\n",
       "      <td>10.0</td>\n",
       "      <td>1.8561</td>\n",
       "      <td>0</td>\n",
       "      <td>1</td>\n",
       "    </tr>\n",
       "    <tr>\n",
       "      <th>2</th>\n",
       "      <td>3</td>\n",
       "      <td>24</td>\n",
       "      <td>12.0</td>\n",
       "      <td>0.6304</td>\n",
       "      <td>0</td>\n",
       "      <td>1</td>\n",
       "    </tr>\n",
       "    <tr>\n",
       "      <th>3</th>\n",
       "      <td>4</td>\n",
       "      <td>38</td>\n",
       "      <td>8.0</td>\n",
       "      <td>3.4183</td>\n",
       "      <td>1</td>\n",
       "      <td>1</td>\n",
       "    </tr>\n",
       "    <tr>\n",
       "      <th>4</th>\n",
       "      <td>5</td>\n",
       "      <td>25</td>\n",
       "      <td>12.0</td>\n",
       "      <td>2.7852</td>\n",
       "      <td>1</td>\n",
       "      <td>1</td>\n",
       "    </tr>\n",
       "  </tbody>\n",
       "</table>\n",
       "</div>"
      ],
      "text/plain": [
       "   id  age  educate  income  vote  white\n",
       "0   1   60     14.0  3.3458     1      1\n",
       "1   2   51     10.0  1.8561     0      1\n",
       "2   3   24     12.0  0.6304     0      1\n",
       "3   4   38      8.0  3.4183     1      1\n",
       "4   5   25     12.0  2.7852     1      1"
      ]
     },
     "execution_count": 3,
     "metadata": {},
     "output_type": "execute_result"
    }
   ],
   "source": [
    "#displaying the first five rows of the data\n",
    "turnout.head()"
   ]
  },
  {
   "cell_type": "code",
   "execution_count": 4,
   "id": "7dcfe819",
   "metadata": {},
   "outputs": [
    {
     "name": "stdout",
     "output_type": "stream",
     "text": [
      "Training Data: 1600 \n",
      "Test Data: 400\n"
     ]
    },
    {
     "data": {
      "text/html": [
       "<div>\n",
       "<style scoped>\n",
       "    .dataframe tbody tr th:only-of-type {\n",
       "        vertical-align: middle;\n",
       "    }\n",
       "\n",
       "    .dataframe tbody tr th {\n",
       "        vertical-align: top;\n",
       "    }\n",
       "\n",
       "    .dataframe thead th {\n",
       "        text-align: right;\n",
       "    }\n",
       "</style>\n",
       "<table border=\"1\" class=\"dataframe\">\n",
       "  <thead>\n",
       "    <tr style=\"text-align: right;\">\n",
       "      <th></th>\n",
       "      <th>id</th>\n",
       "      <th>age</th>\n",
       "      <th>educate</th>\n",
       "      <th>income</th>\n",
       "      <th>vote</th>\n",
       "      <th>white</th>\n",
       "    </tr>\n",
       "  </thead>\n",
       "  <tbody>\n",
       "    <tr>\n",
       "      <th>0</th>\n",
       "      <td>331</td>\n",
       "      <td>62</td>\n",
       "      <td>6.0</td>\n",
       "      <td>2.9170</td>\n",
       "      <td>1</td>\n",
       "      <td>1</td>\n",
       "    </tr>\n",
       "    <tr>\n",
       "      <th>1</th>\n",
       "      <td>739</td>\n",
       "      <td>45</td>\n",
       "      <td>19.0</td>\n",
       "      <td>7.8949</td>\n",
       "      <td>1</td>\n",
       "      <td>1</td>\n",
       "    </tr>\n",
       "    <tr>\n",
       "      <th>2</th>\n",
       "      <td>1839</td>\n",
       "      <td>40</td>\n",
       "      <td>13.0</td>\n",
       "      <td>0.4607</td>\n",
       "      <td>0</td>\n",
       "      <td>1</td>\n",
       "    </tr>\n",
       "    <tr>\n",
       "      <th>3</th>\n",
       "      <td>481</td>\n",
       "      <td>41</td>\n",
       "      <td>9.0</td>\n",
       "      <td>4.0702</td>\n",
       "      <td>1</td>\n",
       "      <td>1</td>\n",
       "    </tr>\n",
       "    <tr>\n",
       "      <th>4</th>\n",
       "      <td>1351</td>\n",
       "      <td>57</td>\n",
       "      <td>8.0</td>\n",
       "      <td>1.7723</td>\n",
       "      <td>1</td>\n",
       "      <td>1</td>\n",
       "    </tr>\n",
       "  </tbody>\n",
       "</table>\n",
       "</div>"
      ],
      "text/plain": [
       "     id  age  educate  income  vote  white\n",
       "0   331   62      6.0  2.9170     1      1\n",
       "1   739   45     19.0  7.8949     1      1\n",
       "2  1839   40     13.0  0.4607     0      1\n",
       "3   481   41      9.0  4.0702     1      1\n",
       "4  1351   57      8.0  1.7723     1      1"
      ]
     },
     "execution_count": 4,
     "metadata": {},
     "output_type": "execute_result"
    }
   ],
   "source": [
    "#creating the train data (80% of the original dataset)\n",
    "train = turnout.sample(frac=.8).reset_index(drop=True)\n",
    "#creating the test data (20% of the original dataset)\n",
    "test = turnout.drop(train.index).reset_index(drop=True)\n",
    "\n",
    "# Print off the split count \n",
    "print(\"Training Data:\",train.shape[0],\n",
    "      \"\\nTest Data:\",test.shape[0])\n",
    "\n",
    "#displaying the first five rows of the training data\n",
    "train.head()"
   ]
  },
  {
   "cell_type": "code",
   "execution_count": 5,
   "id": "ab3d6ee5",
   "metadata": {},
   "outputs": [
    {
     "name": "stdout",
     "output_type": "stream",
     "text": [
      "\n",
      "Pr(vote = 1): 0.7525\n",
      "Pr(vote = 0): 0.2475\n",
      "\n"
     ]
    }
   ],
   "source": [
    "#calculating class probabilities\n",
    "\n",
    "#counting the number of observations\n",
    "N=train.shape[0]\n",
    "\n",
    "##subset the data by class\n",
    "vote1 = train.query(\"vote == 1\")\n",
    "vote0 = train.query(\"vote == 0\")\n",
    "\n",
    "#calculate the probability for each class\n",
    "pr_vote_1 = vote1.shape[0]/N\n",
    "pr_vote_0 = vote0.shape[0]/N\n",
    "\n",
    "#Print the probabilities\n",
    "print(\n",
    "f\"\"\"\n",
    "Pr(vote = 1): {pr_vote_1}\n",
    "Pr(vote = 0): {pr_vote_0}\n",
    "\"\"\")\n"
   ]
  },
  {
   "cell_type": "markdown",
   "id": "ca6b95ee",
   "metadata": {},
   "source": [
    "## Part 1. Discrete Data\n",
    "A naive Bayes classifier that predicts whether or not a person voted based on discrete outcome contained in the dataset was created. The discrete variable was whether or not a person was white. The classifier is based on an assumption that each variable is independent of the others in the model. Class probabilities were calculated; the probability that someone voted was 0.739375 and the probability that someone did not vote was 0.260625. Conditional probabilities were calculated for each class; whether or not a person was white given that they did or did not vote.\n",
    "\n",
    "The probabilities were multiplied together for each outcome to predict whether a given person would vote. This was done for each observation in the data. When run on the training data, the classifer was accurate approximately 75% of the time. When run on the test data, the classifer was accurate approximately 70% of the time, which was slightly less accurate than the training data, as expected. However, the classifer worked much better than a coin flip."
   ]
  },
  {
   "cell_type": "code",
   "execution_count": 17,
   "id": "471d8d3e",
   "metadata": {},
   "outputs": [
    {
     "name": "stdout",
     "output_type": "stream",
     "text": [
      "class probabilities\n",
      "\n",
      "{0: 0.2475, 1: 0.7525}\n",
      "\n",
      "\n",
      "conditional probabilities\n",
      "\n",
      "{('white', 0, 0): 0.202020202020202,\n",
      " ('white', 0, 1): 0.12624584717607978,\n",
      " ('white', 1, 0): 0.797979797979798,\n",
      " ('white', 1, 1): 0.8737541528239202}\n"
     ]
    }
   ],
   "source": [
    "#defining a function that takes in a dataset and outcome variable and returns the class and conditional probabilities in the binary data\n",
    "def calc_probs(data,outcome_var=\"\"):\n",
    "    '''\n",
    "    Takes in a dataset and an outcome variable;\n",
    "    returns the class and conditional probabilities in the binary data.\n",
    "   \n",
    "    Arguments\n",
    "    --------------\n",
    "    data : a dataset\n",
    "    outcome_var: a string referring to the outcome variable\n",
    "    \n",
    "    Return\n",
    "    --------------\n",
    "    Returns the class and conditional probabilities in the binary data    \n",
    "    '''\n",
    "    # Generate empty dictionary containers.\n",
    "    class_probs = {};cond_probs = {}\n",
    "    # Locate all variables that are not the outcome.\n",
    "    vars = [v for v in data.columns if v == 'white']\n",
    "    # iterate through the class outcomes\n",
    "    for y, d in data.groupby(outcome_var): \n",
    "        # calculate the class probabilities\n",
    "        class_probs.update({y: d.shape[0]/data.shape[0]})\n",
    "        for v in vars:\n",
    "            # calculate the conditional probabilities for each variable given the class.\n",
    "            pr = d[v].sum()/d.shape[0]\n",
    "            cond_probs[(v,1,y)] = pr \n",
    "            cond_probs[(v,0,y)] = 1 - pr\n",
    "    return class_probs, cond_probs\n",
    "\n",
    "\n",
    "#running the function on the training data\n",
    "class_probs, cond_probs = calc_probs(train,outcome_var=\"vote\")\n",
    "\n",
    "#printing the class and conditional probabilities\n",
    "print(\"class probabilities\",end=\"\\n\\n\")\n",
    "pp.pprint(class_probs)\n",
    "print(\"\\n\")\n",
    "print(\"conditional probabilities\",end=\"\\n\\n\")\n",
    "pp.pprint(cond_probs)"
   ]
  },
  {
   "cell_type": "code",
   "execution_count": 18,
   "id": "d3f7e459",
   "metadata": {},
   "outputs": [
    {
     "data": {
      "text/html": [
       "<div>\n",
       "<style scoped>\n",
       "    .dataframe tbody tr th:only-of-type {\n",
       "        vertical-align: middle;\n",
       "    }\n",
       "\n",
       "    .dataframe tbody tr th {\n",
       "        vertical-align: top;\n",
       "    }\n",
       "\n",
       "    .dataframe thead th {\n",
       "        text-align: right;\n",
       "    }\n",
       "</style>\n",
       "<table border=\"1\" class=\"dataframe\">\n",
       "  <thead>\n",
       "    <tr style=\"text-align: right;\">\n",
       "      <th></th>\n",
       "      <th>pr_0</th>\n",
       "      <th>pr_1</th>\n",
       "      <th>pred</th>\n",
       "    </tr>\n",
       "  </thead>\n",
       "  <tbody>\n",
       "    <tr>\n",
       "      <th>0</th>\n",
       "      <td>0.1975</td>\n",
       "      <td>0.6575</td>\n",
       "      <td>1</td>\n",
       "    </tr>\n",
       "    <tr>\n",
       "      <th>1</th>\n",
       "      <td>0.1975</td>\n",
       "      <td>0.6575</td>\n",
       "      <td>1</td>\n",
       "    </tr>\n",
       "    <tr>\n",
       "      <th>2</th>\n",
       "      <td>0.1975</td>\n",
       "      <td>0.6575</td>\n",
       "      <td>1</td>\n",
       "    </tr>\n",
       "    <tr>\n",
       "      <th>3</th>\n",
       "      <td>0.1975</td>\n",
       "      <td>0.6575</td>\n",
       "      <td>1</td>\n",
       "    </tr>\n",
       "    <tr>\n",
       "      <th>4</th>\n",
       "      <td>0.1975</td>\n",
       "      <td>0.6575</td>\n",
       "      <td>1</td>\n",
       "    </tr>\n",
       "  </tbody>\n",
       "</table>\n",
       "</div>"
      ],
      "text/plain": [
       "     pr_0    pr_1  pred\n",
       "0  0.1975  0.6575     1\n",
       "1  0.1975  0.6575     1\n",
       "2  0.1975  0.6575     1\n",
       "3  0.1975  0.6575     1\n",
       "4  0.1975  0.6575     1"
      ]
     },
     "execution_count": 18,
     "metadata": {},
     "output_type": "execute_result"
    }
   ],
   "source": [
    "#creating a subset of the train data with only discrete variables\n",
    "discrete_dta_train=train[['vote', \"white\"]]\n",
    "\n",
    "#defining a function that predicts the most likely class based on conditional probabilities\n",
    "def predict(data,class_probs,cond_probs):\n",
    "    '''\n",
    "    Takes in a dataset, class and conditional probabilities;\n",
    "    calculates the conditional probability for membership in each class;\n",
    "    returns both the probabilities and the most likely class.\n",
    "   \n",
    "    Arguments\n",
    "    --------------\n",
    "    data : a dataset\n",
    "    class_probs: class probabilities for binary data\n",
    "    cond_probs: conditional probabilities for binary data\n",
    "    \n",
    "    Return\n",
    "    --------------\n",
    "    Returns the conditional probability for membership in each class \n",
    "    and the most likely class.   \n",
    "    '''\n",
    "    store_preds = [] #create an empty list\n",
    "    for i,row in data.iterrows():  #iterate through rows in dataset and calculate conditional probabilities\n",
    "        pr_1 = 1; pr_0 = 1\n",
    "        for j in range(1,len(row.index)):\n",
    "            pr_0 *= cond_probs[(row.index[j],row.values[j],0)]\n",
    "            pr_1 *= cond_probs[(row.index[j],row.values[j],1)]     \n",
    "        pr_0 *= class_probs[0]\n",
    "        pr_1 *= class_probs[1]\n",
    "        store_preds.append([pr_0,pr_1,max([(pr_0,0),(pr_1,1)])[1]])  #append probabilities and class with highest probability to list\n",
    "    return pd.DataFrame(store_preds,columns=[\"pr_0\",\"pr_1\",\"pred\"])  #return list information as a dataframe\n",
    "\n",
    "#Run the function on the train data\n",
    "preds = predict(discrete_dta_train, class_probs, cond_probs)\n",
    "#display the first five rows of the training data predictions\n",
    "preds.head()"
   ]
  },
  {
   "cell_type": "code",
   "execution_count": 19,
   "id": "78ffbf6d",
   "metadata": {},
   "outputs": [
    {
     "data": {
      "text/plain": [
       "0.7525"
      ]
     },
     "execution_count": 19,
     "metadata": {},
     "output_type": "execute_result"
    }
   ],
   "source": [
    "#calculating the accuracy of the classifer on the training data\n",
    "train_accuracy_discrete = sum(discrete_dta_train.vote == preds.pred)/discrete_dta_train.shape[0]\n",
    "train_accuracy_discrete"
   ]
  },
  {
   "cell_type": "code",
   "execution_count": 20,
   "id": "68a3d8f1",
   "metadata": {},
   "outputs": [
    {
     "data": {
      "text/plain": [
       "0.7"
      ]
     },
     "execution_count": 20,
     "metadata": {},
     "output_type": "execute_result"
    }
   ],
   "source": [
    "#creating a subset of the test data for discrete variables only\n",
    "discrete_dta_test=test[['vote', \"white\"]]\n",
    "#testing the classifer on the test data\n",
    "test_preds_discrete = predict(discrete_dta_test, class_probs, cond_probs)\n",
    "#calculating the accuracy of the classifer on the test data\n",
    "test_accuracy_discrete = sum(discrete_dta_test.vote == test_preds_discrete.pred)/discrete_dta_test.shape[0]\n",
    "test_accuracy_discrete"
   ]
  },
  {
   "cell_type": "markdown",
   "id": "b8bb5a0b",
   "metadata": {},
   "source": [
    "## Part 2: Continuous Variables\n",
    "A naive Bayes classifier that predicts whether or not a person voted based on the continuous variables in the dataset (age, education level, income) was created. Again, the classifier is based on an assumption that each variable is independent of the others in the model. Class probabilities calculated above were used; the probability that someone voted was 0.739375 and the probability that someone did not vote was 0.260625. The probability density function for the normal distribution was used to convert the continuous variables into probabilities. The conditional means and standard deviations were calculated for each value of the outcomes. These were then used to calculate predictions for all observations in the dataset.\n",
    "\n",
    "The probabilities were multiplied together for each outcome to predict whether a given person would vote. This was done for each observation in the data. When run on the training data, the classifer was accurate approximately 75% of the time. When run on the test data, the classifer was accurate approximately 72% of the time, which was slightly less accurate than the training data, as expected. However, the classifer worked much better than a coin flip."
   ]
  },
  {
   "cell_type": "code",
   "execution_count": 9,
   "id": "4b8e184d",
   "metadata": {},
   "outputs": [],
   "source": [
    "#creating a subset of the data with only continuous variables and the outcome variable\n",
    "cont_dta_train=train[['vote', \"age\", \"educate\", \"income\"]]"
   ]
  },
  {
   "cell_type": "code",
   "execution_count": 10,
   "id": "c6cb1c75",
   "metadata": {},
   "outputs": [
    {
     "name": "stdout",
     "output_type": "stream",
     "text": [
      "{('age', 0): {'mean': 42.98232323232323, 'sd': 19.451652252403164},\n",
      " ('age', 1): {'mean': 46.41860465116279, 'sd': 16.756111359048045},\n",
      " ('educate', 0): {'mean': 10.723484848484848, 'sd': 3.191353663390057},\n",
      " ('educate', 1): {'mean': 12.568936877076412, 'sd': 3.298060872523699},\n",
      " ('income', 0): {'mean': 2.9112669191919194, 'sd': 2.2969743546380554},\n",
      " ('income', 1): {'mean': 4.289075249169438, 'sd': 2.95348997768988}}\n"
     ]
    }
   ],
   "source": [
    "#Collecting the mean and standard deviation of each conditional distribution\n",
    "dist_locs = \\\n",
    "{(\"age\",1):{'mean':vote1.age.mean(),'sd':vote1.age.std()},\n",
    " (\"age\",0):{'mean':vote0.age.mean(),'sd':vote0.age.std()},\n",
    " (\"educate\",1):{'mean':vote1.educate.mean(),'sd':vote1.educate.std()},\n",
    " (\"educate\",0):{'mean':vote0.educate.mean(),'sd':vote0.educate.std()},\n",
    " (\"income\",1):{'mean':vote1.income.mean(),'sd':vote1.income.std()},\n",
    " (\"income\",0):{'mean':vote0.income.mean(),'sd':vote0.income.std()}\n",
    "}\n",
    "\n",
    "#printing the mean and standard deviation and each conditional distribution\n",
    "pp.pprint(dist_locs)"
   ]
  },
  {
   "cell_type": "code",
   "execution_count": 21,
   "id": "c6afdefc",
   "metadata": {},
   "outputs": [],
   "source": [
    "#defining a function that predicts the most likely class based on conditional probabilities, using continuous variables\n",
    "def predict(data,dist_locs):\n",
    "    '''\n",
    "    Takes in a dataset, and a dictionary of mean and standard deviations for conditional distributions;\n",
    "    calculates the conditional probability for membership in each class;\n",
    "    returns both the probabilities and the most likely class.\n",
    "   \n",
    "    Arguments\n",
    "    --------------\n",
    "    data : a dataset\n",
    "    dist_locs: dictionary of meanas and standard deviations for conditional distributions\n",
    "    \n",
    "    Return\n",
    "    --------------\n",
    "    Returns the conditional probability for membership in each class \n",
    "    and the most likely class.   \n",
    "    '''\n",
    "    store_preds = []  #create an empty list\n",
    "    for i,row in data.iterrows():  #iterate through rows in data\n",
    "        \n",
    "        #get the predictions using a Gaussan distribution\n",
    "        pr_0 = 1; pr_1 = 1\n",
    "        for j in range(1,len(row)):\n",
    "            pr_0 *= st.norm(dist_locs[(row.index[j],0)]['mean'],\n",
    "                            dist_locs[(row.index[j],0)]['sd']).pdf(row.values[j])\n",
    "            pr_1 *= st.norm(dist_locs[(row.index[j],1)]['mean'], \n",
    "                            dist_locs[(row.index[j],1)]['sd']).pdf(row.values[j])\n",
    "        pr_0 *= pr_vote_0\n",
    "        pr_1 *= pr_vote_1\n",
    "        \n",
    "        #assign the class designation to the highest probability\n",
    "        if pr_0 >= pr_1:\n",
    "            class_pred = 0\n",
    "        else:\n",
    "            class_pred = 1\n",
    "            \n",
    "        store_preds.append([pr_0,pr_1,class_pred])  #append probabilities and prediction to list\n",
    "        \n",
    "    return pd.DataFrame(store_preds,columns=[\"pr_0\",\"pr_1\",\"pred\"])  #return list as dataframe\n",
    "\n",
    "#Running the classifer on the continuous training data\n",
    "preds_train_cont = predict(cont_dta_train,dist_locs)"
   ]
  },
  {
   "cell_type": "code",
   "execution_count": 22,
   "id": "78046b74",
   "metadata": {},
   "outputs": [
    {
     "data": {
      "text/html": [
       "<div>\n",
       "<style scoped>\n",
       "    .dataframe tbody tr th:only-of-type {\n",
       "        vertical-align: middle;\n",
       "    }\n",
       "\n",
       "    .dataframe tbody tr th {\n",
       "        vertical-align: top;\n",
       "    }\n",
       "\n",
       "    .dataframe thead th {\n",
       "        text-align: right;\n",
       "    }\n",
       "</style>\n",
       "<table border=\"1\" class=\"dataframe\">\n",
       "  <thead>\n",
       "    <tr style=\"text-align: right;\">\n",
       "      <th></th>\n",
       "      <th>pr_0</th>\n",
       "      <th>pr_1</th>\n",
       "      <th>pred</th>\n",
       "    </tr>\n",
       "  </thead>\n",
       "  <tbody>\n",
       "    <tr>\n",
       "      <th>0</th>\n",
       "      <td>2.285359e-05</td>\n",
       "      <td>0.000023</td>\n",
       "      <td>1</td>\n",
       "    </tr>\n",
       "    <tr>\n",
       "      <th>1</th>\n",
       "      <td>3.607385e-07</td>\n",
       "      <td>0.000021</td>\n",
       "      <td>1</td>\n",
       "    </tr>\n",
       "    <tr>\n",
       "      <th>2</th>\n",
       "      <td>4.780346e-05</td>\n",
       "      <td>0.000116</td>\n",
       "      <td>1</td>\n",
       "    </tr>\n",
       "    <tr>\n",
       "      <th>3</th>\n",
       "      <td>8.343578e-05</td>\n",
       "      <td>0.000154</td>\n",
       "      <td>1</td>\n",
       "    </tr>\n",
       "    <tr>\n",
       "      <th>4</th>\n",
       "      <td>5.222912e-05</td>\n",
       "      <td>0.000064</td>\n",
       "      <td>1</td>\n",
       "    </tr>\n",
       "  </tbody>\n",
       "</table>\n",
       "</div>"
      ],
      "text/plain": [
       "           pr_0      pr_1  pred\n",
       "0  2.285359e-05  0.000023     1\n",
       "1  3.607385e-07  0.000021     1\n",
       "2  4.780346e-05  0.000116     1\n",
       "3  8.343578e-05  0.000154     1\n",
       "4  5.222912e-05  0.000064     1"
      ]
     },
     "execution_count": 22,
     "metadata": {},
     "output_type": "execute_result"
    }
   ],
   "source": [
    "#displaying the head of continuous training prediction data\n",
    "preds_train_cont.head()"
   ]
  },
  {
   "cell_type": "code",
   "execution_count": 23,
   "id": "2b9fd020",
   "metadata": {},
   "outputs": [
    {
     "data": {
      "text/plain": [
       "0.755625"
      ]
     },
     "execution_count": 23,
     "metadata": {},
     "output_type": "execute_result"
    }
   ],
   "source": [
    "#calculating the percentage of the time that the classifer accurately predicted whether or not someone voted\n",
    "accuracy_train_cont = sum(train.vote == preds_train_cont.pred)/cont_dta_train.shape[0]\n",
    "accuracy_train_cont"
   ]
  },
  {
   "cell_type": "code",
   "execution_count": 24,
   "id": "9988fd19",
   "metadata": {},
   "outputs": [],
   "source": [
    "#creating a subset of the test data with only continuous variables and the outcome variable\n",
    "cont_dta_test=test[['vote', \"age\", \"educate\", \"income\"]]"
   ]
  },
  {
   "cell_type": "code",
   "execution_count": 25,
   "id": "b3afc903",
   "metadata": {},
   "outputs": [
    {
     "data": {
      "text/plain": [
       "0.7225"
      ]
     },
     "execution_count": 25,
     "metadata": {},
     "output_type": "execute_result"
    }
   ],
   "source": [
    "#running the predict function on the test data\n",
    "preds_test_cont = predict(cont_dta_test,dist_locs)\n",
    "#calculating the percentage of the time that the classifer accurately predicted whether or not someone voted\n",
    "accuracy_test = sum(cont_dta_test.vote == preds_test_cont.pred)/cont_dta_test.shape[0]\n",
    "accuracy_test"
   ]
  }
 ],
 "metadata": {
  "kernelspec": {
   "display_name": "Python 3",
   "language": "python",
   "name": "python3"
  },
  "language_info": {
   "codemirror_mode": {
    "name": "ipython",
    "version": 3
   },
   "file_extension": ".py",
   "mimetype": "text/x-python",
   "name": "python",
   "nbconvert_exporter": "python",
   "pygments_lexer": "ipython3",
   "version": "3.8.8"
  }
 },
 "nbformat": 4,
 "nbformat_minor": 5
}
