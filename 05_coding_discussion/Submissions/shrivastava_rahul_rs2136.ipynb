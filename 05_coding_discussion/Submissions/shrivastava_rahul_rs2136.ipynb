{
 "cells": [
  {
   "cell_type": "markdown",
   "id": "6b68d760",
   "metadata": {},
   "source": [
    "# <center> Coding Discussion 04"
   ]
  },
  {
   "cell_type": "markdown",
   "id": "c1a396ec",
   "metadata": {},
   "source": [
    "### <center> <font color='gray'>by Rahul Shrivastava</font> "
   ]
  },
  {
   "cell_type": "markdown",
   "id": "db48b1ae",
   "metadata": {},
   "source": [
    "Loading in the required libraries and setting up the environment."
   ]
  },
  {
   "cell_type": "code",
   "execution_count": 5,
   "id": "c97db96f",
   "metadata": {},
   "outputs": [],
   "source": [
    "import pandas as pd\n",
    "import numpy as np\n",
    "import pprint as pp # for printing\n",
    "import scipy.stats as st # for Normal PDF\n",
    "\n",
    "# Plotting libraries \n",
    "import matplotlib.pyplot as plt\n",
    "import seaborn as sns\n",
    "from plotnine import *\n",
    "\n",
    "# Silence warnings \n",
    "import warnings\n",
    "warnings.filterwarnings(\"ignore\")"
   ]
  },
  {
   "cell_type": "code",
   "execution_count": 7,
   "id": "b2fed3b4",
   "metadata": {},
   "outputs": [
    {
     "data": {
      "text/html": [
       "<div>\n",
       "<style scoped>\n",
       "    .dataframe tbody tr th:only-of-type {\n",
       "        vertical-align: middle;\n",
       "    }\n",
       "\n",
       "    .dataframe tbody tr th {\n",
       "        vertical-align: top;\n",
       "    }\n",
       "\n",
       "    .dataframe thead th {\n",
       "        text-align: right;\n",
       "    }\n",
       "</style>\n",
       "<table border=\"1\" class=\"dataframe\">\n",
       "  <thead>\n",
       "    <tr style=\"text-align: right;\">\n",
       "      <th></th>\n",
       "      <th>id</th>\n",
       "      <th>age</th>\n",
       "      <th>educate</th>\n",
       "      <th>income</th>\n",
       "      <th>vote</th>\n",
       "      <th>white</th>\n",
       "    </tr>\n",
       "  </thead>\n",
       "  <tbody>\n",
       "    <tr>\n",
       "      <th>0</th>\n",
       "      <td>1</td>\n",
       "      <td>60</td>\n",
       "      <td>14.0</td>\n",
       "      <td>3.3458</td>\n",
       "      <td>1</td>\n",
       "      <td>1</td>\n",
       "    </tr>\n",
       "    <tr>\n",
       "      <th>1</th>\n",
       "      <td>2</td>\n",
       "      <td>51</td>\n",
       "      <td>10.0</td>\n",
       "      <td>1.8561</td>\n",
       "      <td>0</td>\n",
       "      <td>1</td>\n",
       "    </tr>\n",
       "    <tr>\n",
       "      <th>2</th>\n",
       "      <td>3</td>\n",
       "      <td>24</td>\n",
       "      <td>12.0</td>\n",
       "      <td>0.6304</td>\n",
       "      <td>0</td>\n",
       "      <td>1</td>\n",
       "    </tr>\n",
       "    <tr>\n",
       "      <th>3</th>\n",
       "      <td>4</td>\n",
       "      <td>38</td>\n",
       "      <td>8.0</td>\n",
       "      <td>3.4183</td>\n",
       "      <td>1</td>\n",
       "      <td>1</td>\n",
       "    </tr>\n",
       "    <tr>\n",
       "      <th>4</th>\n",
       "      <td>5</td>\n",
       "      <td>25</td>\n",
       "      <td>12.0</td>\n",
       "      <td>2.7852</td>\n",
       "      <td>1</td>\n",
       "      <td>1</td>\n",
       "    </tr>\n",
       "  </tbody>\n",
       "</table>\n",
       "</div>"
      ],
      "text/plain": [
       "   id  age  educate  income  vote  white\n",
       "0   1   60     14.0  3.3458     1      1\n",
       "1   2   51     10.0  1.8561     0      1\n",
       "2   3   24     12.0  0.6304     0      1\n",
       "3   4   38      8.0  3.4183     1      1\n",
       "4   5   25     12.0  2.7852     1      1"
      ]
     },
     "execution_count": 7,
     "metadata": {},
     "output_type": "execute_result"
    }
   ],
   "source": [
    "# Reading in the csv files\n",
    "turnout = pd.read_csv(r\"Data\\turnout.csv\")\n",
    "turnout.head()"
   ]
  },
  {
   "cell_type": "code",
   "execution_count": 8,
   "id": "9a25a62c",
   "metadata": {},
   "outputs": [
    {
     "name": "stdout",
     "output_type": "stream",
     "text": [
      "Training Data: 1600 \n",
      "Test Data: 400\n"
     ]
    },
    {
     "data": {
      "text/html": [
       "<div>\n",
       "<style scoped>\n",
       "    .dataframe tbody tr th:only-of-type {\n",
       "        vertical-align: middle;\n",
       "    }\n",
       "\n",
       "    .dataframe tbody tr th {\n",
       "        vertical-align: top;\n",
       "    }\n",
       "\n",
       "    .dataframe thead th {\n",
       "        text-align: right;\n",
       "    }\n",
       "</style>\n",
       "<table border=\"1\" class=\"dataframe\">\n",
       "  <thead>\n",
       "    <tr style=\"text-align: right;\">\n",
       "      <th></th>\n",
       "      <th>id</th>\n",
       "      <th>age</th>\n",
       "      <th>educate</th>\n",
       "      <th>income</th>\n",
       "      <th>vote</th>\n",
       "      <th>white</th>\n",
       "    </tr>\n",
       "  </thead>\n",
       "  <tbody>\n",
       "    <tr>\n",
       "      <th>0</th>\n",
       "      <td>1749</td>\n",
       "      <td>78</td>\n",
       "      <td>16.0</td>\n",
       "      <td>1.3131</td>\n",
       "      <td>1</td>\n",
       "      <td>1</td>\n",
       "    </tr>\n",
       "    <tr>\n",
       "      <th>1</th>\n",
       "      <td>935</td>\n",
       "      <td>72</td>\n",
       "      <td>3.0</td>\n",
       "      <td>0.6765</td>\n",
       "      <td>1</td>\n",
       "      <td>0</td>\n",
       "    </tr>\n",
       "    <tr>\n",
       "      <th>2</th>\n",
       "      <td>1034</td>\n",
       "      <td>64</td>\n",
       "      <td>10.0</td>\n",
       "      <td>1.3131</td>\n",
       "      <td>1</td>\n",
       "      <td>1</td>\n",
       "    </tr>\n",
       "    <tr>\n",
       "      <th>3</th>\n",
       "      <td>244</td>\n",
       "      <td>80</td>\n",
       "      <td>8.0</td>\n",
       "      <td>1.1839</td>\n",
       "      <td>1</td>\n",
       "      <td>1</td>\n",
       "    </tr>\n",
       "    <tr>\n",
       "      <th>4</th>\n",
       "      <td>929</td>\n",
       "      <td>19</td>\n",
       "      <td>14.0</td>\n",
       "      <td>2.9072</td>\n",
       "      <td>1</td>\n",
       "      <td>1</td>\n",
       "    </tr>\n",
       "  </tbody>\n",
       "</table>\n",
       "</div>"
      ],
      "text/plain": [
       "     id  age  educate  income  vote  white\n",
       "0  1749   78     16.0  1.3131     1      1\n",
       "1   935   72      3.0  0.6765     1      0\n",
       "2  1034   64     10.0  1.3131     1      1\n",
       "3   244   80      8.0  1.1839     1      1\n",
       "4   929   19     14.0  2.9072     1      1"
      ]
     },
     "execution_count": 8,
     "metadata": {},
     "output_type": "execute_result"
    }
   ],
   "source": [
    "# Set seed\n",
    "np.random.seed(1234)\n",
    "\n",
    "# Train-Test split (just using Pandas)\n",
    "train = turnout.sample(frac=.8).reset_index(drop=True)\n",
    "test = turnout.drop(train.index).reset_index(drop=True)\n",
    "\n",
    "# Print off the split count \n",
    "print(\"Training Data:\",train.shape[0],\n",
    "      \"\\nTest Data:\",test.shape[0])\n",
    "\n",
    "# Look at the head of the data\n",
    "train.head()"
   ]
  },
  {
   "cell_type": "code",
   "execution_count": 9,
   "id": "24eb489a",
   "metadata": {
    "scrolled": true
   },
   "outputs": [
    {
     "name": "stdout",
     "output_type": "stream",
     "text": [
      "\n",
      "Pr(voter_turnout = 1): 0.7425\n",
      "Pr(voter_turnout = 0): 0.2575\n",
      "\n"
     ]
    }
   ],
   "source": [
    "N = train.shape[0]\n",
    "\n",
    "# Subset the data by class\n",
    "vt1 = train.query(\"vote == 1\")\n",
    "vt0 = train.query(\"vote == 0\")\n",
    "\n",
    "# Calculate the probability for each class\n",
    "pr_vt_1 = vt1.shape[0]/N\n",
    "pr_vt_0 = vt0.shape[0]/N\n",
    "\n",
    "# Print the probabilities\n",
    "print(\n",
    "f\"\"\"\n",
    "Pr(voter_turnout = 1): {pr_vt_1}\n",
    "Pr(voter_turnout = 0): {pr_vt_0}\n",
    "\"\"\")"
   ]
  },
  {
   "cell_type": "code",
   "execution_count": 10,
   "id": "1b621395",
   "metadata": {},
   "outputs": [
    {
     "name": "stdout",
     "output_type": "stream",
     "text": [
      "\n",
      "Pr(white = 1 |voted = 1): 0.8686868686868687\n",
      "Pr(white = 0 |voted = 1): 0.13131313131313133\n",
      "Pr(white = 1 |voted = 0): 0.7985436893203883\n",
      "Pr(white = 0 |voted = 0): 0.20145631067961164\n",
      "\n"
     ]
    }
   ],
   "source": [
    "# Given voted\n",
    "w1_vt1 = vt1.query(\"white == 1\").shape[0]/vt1.shape[0]\n",
    "w0_vt1 = vt1.query(\"white == 0\").shape[0]/vt1.shape[0]\n",
    "\n",
    "# Given not voted\n",
    "w1_vt0 = vt0.query(\"white == 1\").shape[0]/vt0.shape[0]\n",
    "w0_vt0 = vt0.query(\"white == 0\").shape[0]/vt0.shape[0]\n",
    "\n",
    "print(\n",
    "f\"\"\"\n",
    "Pr(white = 1 |voted = 1): {w1_vt1}\n",
    "Pr(white = 0 |voted = 1): {w0_vt1}\n",
    "Pr(white = 1 |voted = 0): {w1_vt0}\n",
    "Pr(white = 0 |voted = 0): {w0_vt0}\n",
    "\"\"\")"
   ]
  },
  {
   "cell_type": "markdown",
   "id": "970d55c1",
   "metadata": {},
   "source": [
    "### Making a sample prediction\n",
    "Making a prediction on whether a person will vote **given they are white**."
   ]
  },
  {
   "cell_type": "code",
   "execution_count": 11,
   "id": "b7061d76",
   "metadata": {},
   "outputs": [
    {
     "name": "stdout",
     "output_type": "stream",
     "text": [
      "\n",
      "Pr(vt = 1) = 0.6450000000000001\n",
      "Pr(vt = 0) = 0.205625\n",
      "\n"
     ]
    }
   ],
   "source": [
    "prob_vt1 = w1_vt1 * pr_vt_1\n",
    "prob_vt0 = w1_vt0 * pr_vt_0\n",
    "\n",
    "print(f\"\"\"\n",
    "Pr(vt = 1) = {prob_vt1}\n",
    "Pr(vt = 0) = {prob_vt0}\n",
    "\"\"\")"
   ]
  },
  {
   "cell_type": "markdown",
   "id": "52838bb1",
   "metadata": {},
   "source": [
    "In this case we can see the probablilty of a person voting when they are white is 0.645 which is greater than 0.206, here we can predict that the person will vote **(vt = 1)**."
   ]
  },
  {
   "cell_type": "markdown",
   "id": "83514481",
   "metadata": {},
   "source": [
    "### Predictions for Multiple Observations"
   ]
  },
  {
   "cell_type": "code",
   "execution_count": 12,
   "id": "639af2cc",
   "metadata": {},
   "outputs": [],
   "source": [
    "# Remove Variables that are not required\n",
    "\n",
    "train_disc = train.drop(columns=['id', 'age', 'educate', 'income'])\n",
    "test_disc = test.drop(columns=['id', 'age', 'educate', 'income'])"
   ]
  },
  {
   "cell_type": "code",
   "execution_count": 15,
   "id": "018cfd2f",
   "metadata": {
    "scrolled": true
   },
   "outputs": [
    {
     "name": "stdout",
     "output_type": "stream",
     "text": [
      "class probabilities\n",
      "\n",
      "{0: 0.2575, 1: 0.7425}\n",
      "\n",
      "\n",
      "conditional probabilities\n",
      "\n",
      "{('white', 0, 0): 0.20145631067961167,\n",
      " ('white', 0, 1): 0.13131313131313127,\n",
      " ('white', 1, 0): 0.7985436893203883,\n",
      " ('white', 1, 1): 0.8686868686868687}\n"
     ]
    }
   ],
   "source": [
    "def calc_probs(data,outcome_var=\"\"):\n",
    "    '''\n",
    "    Function calculates the class and conditional probabilities in \n",
    "    the binary data. \n",
    "    \n",
    "    Note that I'm using dictionaries with tuple keys to keep\n",
    "    track of the variable, it's val, and the outcome, which we're conditioning on. \n",
    "    '''\n",
    "    # Generate empty dictionary containers.\n",
    "    class_probs = {};cond_probs = {}\n",
    "    # Locate all variables that are not the outcome.\n",
    "    vars = [v for v in data.columns if v != outcome_var]\n",
    "    # iterate through the class outcomes\n",
    "    for y, d in data.groupby(outcome_var): \n",
    "        # calculate the class probabilities\n",
    "        class_probs.update({y: d.shape[0]/data.shape[0]})\n",
    "        for v in vars:\n",
    "            # calculate the conditional probabilities for each variable given the class.\n",
    "            pr = d[v].sum()/d.shape[0]\n",
    "            cond_probs[(v,1,y)] = pr \n",
    "            cond_probs[(v,0,y)] = 1 - pr\n",
    "    return class_probs, cond_probs\n",
    "\n",
    "\n",
    "# Run\n",
    "class_probs, cond_probs = calc_probs(train_disc,outcome_var=\"vote\")\n",
    "\n",
    "# Print\n",
    "print(\"class probabilities\",end=\"\\n\\n\")\n",
    "pp.pprint(class_probs)\n",
    "print(\"\\n\")\n",
    "print(\"conditional probabilities\",end=\"\\n\\n\")\n",
    "pp.pprint(cond_probs)"
   ]
  },
  {
   "cell_type": "code",
   "execution_count": 16,
   "id": "a236c8eb",
   "metadata": {},
   "outputs": [
    {
     "data": {
      "text/html": [
       "<div>\n",
       "<style scoped>\n",
       "    .dataframe tbody tr th:only-of-type {\n",
       "        vertical-align: middle;\n",
       "    }\n",
       "\n",
       "    .dataframe tbody tr th {\n",
       "        vertical-align: top;\n",
       "    }\n",
       "\n",
       "    .dataframe thead th {\n",
       "        text-align: right;\n",
       "    }\n",
       "</style>\n",
       "<table border=\"1\" class=\"dataframe\">\n",
       "  <thead>\n",
       "    <tr style=\"text-align: right;\">\n",
       "      <th></th>\n",
       "      <th>pr_0</th>\n",
       "      <th>pr_1</th>\n",
       "      <th>pred</th>\n",
       "    </tr>\n",
       "  </thead>\n",
       "  <tbody>\n",
       "    <tr>\n",
       "      <th>0</th>\n",
       "      <td>0.205625</td>\n",
       "      <td>0.6450</td>\n",
       "      <td>1</td>\n",
       "    </tr>\n",
       "    <tr>\n",
       "      <th>1</th>\n",
       "      <td>0.051875</td>\n",
       "      <td>0.0975</td>\n",
       "      <td>1</td>\n",
       "    </tr>\n",
       "    <tr>\n",
       "      <th>2</th>\n",
       "      <td>0.205625</td>\n",
       "      <td>0.6450</td>\n",
       "      <td>1</td>\n",
       "    </tr>\n",
       "    <tr>\n",
       "      <th>3</th>\n",
       "      <td>0.205625</td>\n",
       "      <td>0.6450</td>\n",
       "      <td>1</td>\n",
       "    </tr>\n",
       "    <tr>\n",
       "      <th>4</th>\n",
       "      <td>0.205625</td>\n",
       "      <td>0.6450</td>\n",
       "      <td>1</td>\n",
       "    </tr>\n",
       "  </tbody>\n",
       "</table>\n",
       "</div>"
      ],
      "text/plain": [
       "       pr_0    pr_1  pred\n",
       "0  0.205625  0.6450     1\n",
       "1  0.051875  0.0975     1\n",
       "2  0.205625  0.6450     1\n",
       "3  0.205625  0.6450     1\n",
       "4  0.205625  0.6450     1"
      ]
     },
     "execution_count": 16,
     "metadata": {},
     "output_type": "execute_result"
    }
   ],
   "source": [
    "# Building a funciton to iterate throgh the data and calculate probability of outcome to make predictions for each observation and selects the class.\n",
    "\n",
    "def predict(data,class_probs,cond_probs):\n",
    "    '''\n",
    "    Function calculates the conditional probability for membership into each class.\n",
    "    Then returns both the probabilities and the most likely class. \n",
    "    '''\n",
    "    store_preds = []\n",
    "    for i,row in data.iterrows():\n",
    "        pr_1 = 1; pr_0 = 1\n",
    "        for j in range(1,len(row.index)):\n",
    "            pr_0 *= cond_probs[(row.index[j],row.values[j],0)]\n",
    "            pr_1 *= cond_probs[(row.index[j],row.values[j],1)]     \n",
    "        pr_0 *= class_probs[0]\n",
    "        pr_1 *= class_probs[1]\n",
    "        store_preds.append([pr_0,pr_1,max([(pr_0,0),(pr_1,1)])[1]])\n",
    "    return pd.DataFrame(store_preds,columns=[\"pr_0\",\"pr_1\",\"pred\"])\n",
    "\n",
    "# Run \n",
    "preds = predict(train_disc, class_probs, cond_probs)\n",
    "preds.head()"
   ]
  },
  {
   "cell_type": "markdown",
   "id": "5f5ded07",
   "metadata": {},
   "source": [
    "Now we can assess the accuracy of the model for training data"
   ]
  },
  {
   "cell_type": "code",
   "execution_count": 17,
   "id": "248bb7f6",
   "metadata": {},
   "outputs": [
    {
     "data": {
      "text/plain": [
       "0.7425"
      ]
     },
     "execution_count": 17,
     "metadata": {},
     "output_type": "execute_result"
    }
   ],
   "source": [
    "accuracy = sum(train_disc.vote == preds.pred)/train.shape[0]\n",
    "accuracy"
   ]
  },
  {
   "cell_type": "markdown",
   "id": "65ae030a",
   "metadata": {},
   "source": [
    "Accuracy of the training data is at 74% - this is decent. Now let's assess the accuracy of the model for the test data:"
   ]
  },
  {
   "cell_type": "code",
   "execution_count": 19,
   "id": "f905f7e7",
   "metadata": {},
   "outputs": [
    {
     "data": {
      "text/plain": [
       "0.7"
      ]
     },
     "execution_count": 19,
     "metadata": {},
     "output_type": "execute_result"
    }
   ],
   "source": [
    "test_preds = predict(test_disc, class_probs, cond_probs)\n",
    "test_accuracy = sum(test_disc.vote == test_preds.pred)/test.shape[0]\n",
    "test_accuracy"
   ]
  },
  {
   "cell_type": "markdown",
   "id": "b8e3f623",
   "metadata": {},
   "source": [
    "The Test data gives us an accuracy of 70%."
   ]
  },
  {
   "cell_type": "markdown",
   "id": "cf973453",
   "metadata": {},
   "source": [
    "## Naive Bayesian Classification for Continuous Variables in the Data"
   ]
  },
  {
   "cell_type": "code",
   "execution_count": 21,
   "id": "3215bce1",
   "metadata": {},
   "outputs": [],
   "source": [
    "# Remove Variables that are not required and re-structure data\n",
    "\n",
    "train_cont = train.drop(columns=['id', 'white', 'age'])\n",
    "train_cont = train_cont[['vote', 'educate', 'income']]\n",
    "train_cont.columns = ['y', 'x1', 'x2']\n",
    "\n",
    "\n",
    "test_cont = test.drop(columns=['id', 'white', 'age'])\n",
    "test_cont = test_cont[['vote', 'educate', 'income']]\n",
    "test_cont.columns = ['y', 'x1', 'x2']"
   ]
  },
  {
   "cell_type": "code",
   "execution_count": 20,
   "id": "5ad2e1b4",
   "metadata": {},
   "outputs": [
    {
     "data": {
      "text/plain": [
       "0.09565679616352402"
      ]
     },
     "execution_count": 20,
     "metadata": {},
     "output_type": "execute_result"
    }
   ],
   "source": [
    "st.norm(0, 1).pdf(-1.69) # using the scipy.stats module"
   ]
  },
  {
   "cell_type": "markdown",
   "id": "55009ef4",
   "metadata": {},
   "source": [
    "### Calculate Probabilities"
   ]
  },
  {
   "cell_type": "code",
   "execution_count": 22,
   "id": "ffd95c94",
   "metadata": {},
   "outputs": [],
   "source": [
    "y1 = train_cont.query(\"y == 1\")\n",
    "y0 = train_cont.query(\"y == 0\")\n",
    "\n",
    "# Class probabilities.\n",
    "pr_y1 = y1.shape[0]/train_cont.shape[0]\n",
    "pr_y0 = y0.shape[0]/train_cont.shape[0]"
   ]
  },
  {
   "cell_type": "markdown",
   "id": "497484a5",
   "metadata": {},
   "source": [
    "Calculating the conditional mean/standard deviations"
   ]
  },
  {
   "cell_type": "code",
   "execution_count": 23,
   "id": "51651b5b",
   "metadata": {},
   "outputs": [
    {
     "name": "stdout",
     "output_type": "stream",
     "text": [
      "{('x1', 0): {'mean': 10.62864077669903, 'sd': 3.304381091983527},\n",
      " ('x1', 1): {'mean': 12.558922558922559, 'sd': 3.295714127444309},\n",
      " ('x2', 0): {'mean': 2.7381618932038836, 'sd': 2.2429913729337625},\n",
      " ('x2', 1): {'mean': 4.229461952861947, 'sd': 2.8482089910676964}}\n"
     ]
    }
   ],
   "source": [
    "# Collect the mean and standard dev. of each conditional distribution\n",
    "dist_locs = \\\n",
    "{(\"x1\",1):{'mean':y1.x1.mean(),'sd':y1.x1.std()},\n",
    " (\"x1\",0):{'mean':y0.x1.mean(),'sd':y0.x1.std()},\n",
    " (\"x2\",1):{'mean':y1.x2.mean(),'sd':y1.x2.std()},\n",
    " (\"x2\",0):{'mean':y0.x2.mean(),'sd':y0.x2.std()}\n",
    "}\n",
    "\n",
    "# Print\n",
    "pp.pprint(dist_locs)"
   ]
  },
  {
   "cell_type": "markdown",
   "id": "082c1f4b",
   "metadata": {},
   "source": [
    "Graphing these conditional means"
   ]
  },
  {
   "cell_type": "code",
   "execution_count": 24,
   "id": "913e90be",
   "metadata": {},
   "outputs": [
    {
     "data": {
      "image/png": "[encoded data removed]",
      "text/plain": [
       "<Figure size 1500x600 with 1 Axes>"
      ]
     },
     "metadata": {
      "needs_background": "light"
     },
     "output_type": "display_data"
    }
   ],
   "source": [
    "# Plot with seaborn\n",
    "plt.figure(figsize=(10,4),dpi=150)\n",
    "for key in dist_locs.keys():\n",
    "    locs = dist_locs[key]\n",
    "    d = pd.DataFrame([[i,st.norm(locs['mean'], locs['sd']).pdf(i)] \n",
    "                      for i in np.linspace(-3,3)])\n",
    "    ax = sns.lineplot(d[0],d[1],label=f\"{key[0]} where y = {key[1]}\")"
   ]
  },
  {
   "cell_type": "markdown",
   "id": "ba891708",
   "metadata": {},
   "source": [
    "### Making Predictions"
   ]
  },
  {
   "cell_type": "code",
   "execution_count": 26,
   "id": "a4c034a2",
   "metadata": {},
   "outputs": [
    {
     "name": "stdout",
     "output_type": "stream",
     "text": [
      "1.0 3.0 0.6765\n"
     ]
    }
   ],
   "source": [
    "y,x1,x2 = train_cont.iloc[1,:]\n",
    "print(y,x1,x2)"
   ]
  },
  {
   "cell_type": "code",
   "execution_count": 27,
   "id": "c128fe95",
   "metadata": {},
   "outputs": [
    {
     "name": "stdout",
     "output_type": "stream",
     "text": [
      "\n",
      "    Pr(y == 1| X): 8.617228592896047e-05\n",
      "    Pr(y == 0| X): 0.00025226846729919694\n",
      "\n"
     ]
    }
   ],
   "source": [
    "# Prediction for the 1 class\n",
    "a = st.norm(dist_locs[(\"x1\",1)]['mean'], dist_locs[(\"x1\",1)]['sd']).pdf(x1)\n",
    "b = st.norm(dist_locs[(\"x2\",1)]['mean'], dist_locs[(\"x2\",1)]['sd']).pdf(x2)\n",
    "c = pr_y1\n",
    "pr_1 = a * b * c\n",
    "\n",
    "# Prediction for the 0 class\n",
    "a = st.norm(dist_locs[(\"x1\",0)]['mean'], dist_locs[(\"x1\",0)]['sd']).pdf(x1)\n",
    "b = st.norm(dist_locs[(\"x2\",0)]['mean'], dist_locs[(\"x2\",0)]['sd']).pdf(x2)\n",
    "c = pr_y0\n",
    "pr_0 = a * b * c\n",
    "\n",
    "print(\n",
    "f'''\n",
    "    Pr(y == 1| X): {pr_1}\n",
    "    Pr(y == 0| X): {pr_0}\n",
    "''')"
   ]
  },
  {
   "cell_type": "markdown",
   "id": "dc994bb2",
   "metadata": {},
   "source": [
    "Prediction y == 1 is 8.61 against the prediction of y == 0 of 0.00025, the first prediction is much bigger so we predict that the outcome for this observation is y == 1, i.e. the person will vote."
   ]
  },
  {
   "cell_type": "markdown",
   "id": "6d3b236c",
   "metadata": {},
   "source": [
    "### Predictions For the Data"
   ]
  },
  {
   "cell_type": "code",
   "execution_count": 28,
   "id": "9c2eddfe",
   "metadata": {},
   "outputs": [],
   "source": [
    "def predict(data,dist_locs):\n",
    "    ''''''\n",
    "    store_preds = []\n",
    "    for i,row in data.iterrows():\n",
    "        \n",
    "        # Get the predictions using a Gaussan distribution\n",
    "        pr_0 = 1; pr_1 = 1\n",
    "        for j in range(1,len(row)):\n",
    "            pr_0 *= st.norm(dist_locs[(row.index[j],0)]['mean'],\n",
    "                            dist_locs[(row.index[j],0)]['sd']).pdf(row.values[j])\n",
    "            pr_1 *= st.norm(dist_locs[(row.index[j],1)]['mean'], \n",
    "                            dist_locs[(row.index[j],1)]['sd']).pdf(row.values[j])\n",
    "        pr_0 *= pr_y0\n",
    "        pr_1 *= pr_y1\n",
    "        \n",
    "        # Assign the class designation to the highest probability\n",
    "        if pr_0 >= pr_1:\n",
    "            class_pred = 0\n",
    "        else:\n",
    "            class_pred = 1\n",
    "            \n",
    "        store_preds.append([pr_0,pr_1,class_pred])\n",
    "        \n",
    "    return pd.DataFrame(store_preds,columns=[\"pr_0\",\"pr_1\",\"pred\"])\n",
    "\n",
    "# Run\n",
    "preds_train = predict(train_cont,dist_locs)"
   ]
  },
  {
   "cell_type": "code",
   "execution_count": 45,
   "id": "bcb674f3",
   "metadata": {},
   "outputs": [
    {
     "data": {
      "text/html": [
       "<div>\n",
       "<style scoped>\n",
       "    .dataframe tbody tr th:only-of-type {\n",
       "        vertical-align: middle;\n",
       "    }\n",
       "\n",
       "    .dataframe tbody tr th {\n",
       "        vertical-align: top;\n",
       "    }\n",
       "\n",
       "    .dataframe thead th {\n",
       "        text-align: right;\n",
       "    }\n",
       "</style>\n",
       "<table border=\"1\" class=\"dataframe\">\n",
       "  <thead>\n",
       "    <tr style=\"text-align: right;\">\n",
       "      <th></th>\n",
       "      <th>pr_0</th>\n",
       "      <th>pr_1</th>\n",
       "      <th>pred</th>\n",
       "    </tr>\n",
       "  </thead>\n",
       "  <tbody>\n",
       "    <tr>\n",
       "      <th>0</th>\n",
       "      <td>0.001206</td>\n",
       "      <td>0.004321</td>\n",
       "      <td>1</td>\n",
       "    </tr>\n",
       "    <tr>\n",
       "      <th>1</th>\n",
       "      <td>0.000252</td>\n",
       "      <td>0.000086</td>\n",
       "      <td>0</td>\n",
       "    </tr>\n",
       "    <tr>\n",
       "      <th>2</th>\n",
       "      <td>0.004438</td>\n",
       "      <td>0.005513</td>\n",
       "      <td>1</td>\n",
       "    </tr>\n",
       "    <tr>\n",
       "      <th>3</th>\n",
       "      <td>0.003170</td>\n",
       "      <td>0.002730</td>\n",
       "      <td>0</td>\n",
       "    </tr>\n",
       "    <tr>\n",
       "      <th>4</th>\n",
       "      <td>0.003276</td>\n",
       "      <td>0.010273</td>\n",
       "      <td>1</td>\n",
       "    </tr>\n",
       "    <tr>\n",
       "      <th>5</th>\n",
       "      <td>0.000466</td>\n",
       "      <td>0.000190</td>\n",
       "      <td>0</td>\n",
       "    </tr>\n",
       "    <tr>\n",
       "      <th>6</th>\n",
       "      <td>0.004891</td>\n",
       "      <td>0.009462</td>\n",
       "      <td>1</td>\n",
       "    </tr>\n",
       "    <tr>\n",
       "      <th>7</th>\n",
       "      <td>0.001431</td>\n",
       "      <td>0.006917</td>\n",
       "      <td>1</td>\n",
       "    </tr>\n",
       "    <tr>\n",
       "      <th>8</th>\n",
       "      <td>0.002290</td>\n",
       "      <td>0.004604</td>\n",
       "      <td>1</td>\n",
       "    </tr>\n",
       "    <tr>\n",
       "      <th>9</th>\n",
       "      <td>0.002755</td>\n",
       "      <td>0.011423</td>\n",
       "      <td>1</td>\n",
       "    </tr>\n",
       "  </tbody>\n",
       "</table>\n",
       "</div>"
      ],
      "text/plain": [
       "       pr_0      pr_1  pred\n",
       "0  0.001206  0.004321     1\n",
       "1  0.000252  0.000086     0\n",
       "2  0.004438  0.005513     1\n",
       "3  0.003170  0.002730     0\n",
       "4  0.003276  0.010273     1\n",
       "5  0.000466  0.000190     0\n",
       "6  0.004891  0.009462     1\n",
       "7  0.001431  0.006917     1\n",
       "8  0.002290  0.004604     1\n",
       "9  0.002755  0.011423     1"
      ]
     },
     "execution_count": 45,
     "metadata": {},
     "output_type": "execute_result"
    }
   ],
   "source": [
    "# Predicted output\n",
    "preds_train.head(10)"
   ]
  },
  {
   "cell_type": "markdown",
   "id": "1b85abc1",
   "metadata": {},
   "source": [
    "Checking the accuracy of the model"
   ]
  },
  {
   "cell_type": "code",
   "execution_count": 30,
   "id": "6e97932d",
   "metadata": {},
   "outputs": [
    {
     "data": {
      "text/plain": [
       "0.73125"
      ]
     },
     "execution_count": 30,
     "metadata": {},
     "output_type": "execute_result"
    }
   ],
   "source": [
    "accuracy_train = sum(train_cont.y == preds_train.pred)/train_cont.shape[0]\n",
    "accuracy_train"
   ]
  },
  {
   "cell_type": "markdown",
   "id": "847d5076",
   "metadata": {},
   "source": [
    "We have an accuracy of 73% for the training data. Let's check the accuracy for test data:"
   ]
  },
  {
   "cell_type": "code",
   "execution_count": 31,
   "id": "975e3579",
   "metadata": {},
   "outputs": [],
   "source": [
    "preds_test = predict(test_cont,dist_locs)"
   ]
  },
  {
   "cell_type": "code",
   "execution_count": 32,
   "id": "64aa9961",
   "metadata": {},
   "outputs": [
    {
     "data": {
      "text/plain": [
       "0.7075"
      ]
     },
     "execution_count": 32,
     "metadata": {},
     "output_type": "execute_result"
    }
   ],
   "source": [
    "accuracy_test = sum(test_cont.y == preds_test.pred)/test_cont.shape[0]\n",
    "accuracy_test"
   ]
  },
  {
   "cell_type": "markdown",
   "id": "c36dbe70",
   "metadata": {},
   "source": [
    "**We have an accuracy of 70% for the test data which is better than a coin flip and therefore this model is relatively reliable, however it could be improved.**"
   ]
  },
  {
   "cell_type": "markdown",
   "id": "ee7f9396",
   "metadata": {},
   "source": [
    "### Confusion Matrix Using sklearn"
   ]
  },
  {
   "cell_type": "code",
   "execution_count": 33,
   "id": "6d4a31db",
   "metadata": {},
   "outputs": [],
   "source": [
    "# Organize our data real quick so it plugs into the sklearn API easily \n",
    "train_y = train_cont['y']\n",
    "train_x = train_cont[['x1','x2']]\n",
    "test_y = test_cont['y']\n",
    "test_x = test_cont[['x1','x2']]"
   ]
  },
  {
   "cell_type": "code",
   "execution_count": 34,
   "id": "cfa421c0",
   "metadata": {},
   "outputs": [
    {
     "data": {
      "text/plain": [
       "0.705"
      ]
     },
     "execution_count": 34,
     "metadata": {},
     "output_type": "execute_result"
    }
   ],
   "source": [
    "from sklearn.naive_bayes import GaussianNB # Classifier \n",
    "import sklearn.metrics as m # Metrics to determine the classification \n",
    "\n",
    "# Instantiate the model class\n",
    "gnb = GaussianNB()\n",
    "gnb.fit(train_x, train_y) # Train\n",
    "\n",
    "# Predict \n",
    "y_pred = gnb.predict(test_x)\n",
    "\n",
    "# Out-of-sample performance \n",
    "m.accuracy_score(test_y,y_pred)"
   ]
  },
  {
   "cell_type": "code",
   "execution_count": 56,
   "id": "c19c17dd",
   "metadata": {},
   "outputs": [
    {
     "data": {
      "image/png": "[encoded data removed]",
      "text/plain": [
       "<Figure size 540x540 with 1 Axes>"
      ]
     },
     "metadata": {
      "needs_background": "light"
     },
     "output_type": "display_data"
    }
   ],
   "source": [
    "from sklearn import datasets\n",
    "from sklearn.model_selection import train_test_split\n",
    "from sklearn.preprocessing import StandardScaler\n",
    "from sklearn.ensemble import RandomForestClassifier\n",
    "from sklearn.pipeline import make_pipeline\n",
    "\n",
    "# Creating a confusion matrix\n",
    "conf_matrix = m.confusion_matrix(test_y, y_pred)\n",
    "\n",
    "# Print the confusion matrix using Matplotlib\n",
    "\n",
    "fig, ax = plt.subplots(figsize=(7.5, 7.5))\n",
    "ax.matshow(conf_matrix, cmap=plt.cm.Blues, alpha=0.3)\n",
    "for i in range(conf_matrix.shape[0]):\n",
    "    for j in range(conf_matrix.shape[1]):\n",
    "        ax.text(x=j, y=i,s=conf_matrix[i, j], va='center', ha='center', size='xx-large')\n",
    " \n",
    "plt.xlabel('Predictions', fontsize=18)\n",
    "plt.ylabel('Actuals', fontsize=18)\n",
    "plt.title('Confusion Matrix', fontsize=18)\n",
    "plt.show()"
   ]
  },
  {
   "cell_type": "markdown",
   "id": "16cec26b",
   "metadata": {},
   "source": [
    "Our Sklearn model give us the following Metrics:\n",
    "    <br>Accuracy: 70.5%\n",
    "    <br>Precision: 72.6%\n",
    "    <br>Specifity: 18.33%\n",
    "    <br>Recall: 92.85%\n",
    "    \n",
    "Here we can see that the model does not have the best Specificity and this can be problematic when our key consideration is getting the negative predictions right."
   ]
  }
 ],
 "metadata": {
  "kernelspec": {
   "display_name": "Python 3",
   "language": "python",
   "name": "python3"
  },
  "language_info": {
   "codemirror_mode": {
    "name": "ipython",
    "version": 3
   },
   "file_extension": ".py",
   "mimetype": "text/x-python",
   "name": "python",
   "nbconvert_exporter": "python",
   "pygments_lexer": "ipython3",
   "version": "3.8.8"
  }
 },
 "nbformat": 4,
 "nbformat_minor": 5
}
