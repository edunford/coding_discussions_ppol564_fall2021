{
 "cells": [
  {
   "cell_type": "markdown",
   "id": "55ac043d",
   "metadata": {},
   "source": [
    "## Nikhila Iyer\n",
    "### November 14, 2021\n",
    "### Coding Discussion #5"
   ]
  },
  {
   "cell_type": "code",
   "execution_count": 1,
   "id": "278d3fd0",
   "metadata": {},
   "outputs": [],
   "source": [
    "# Import necessary packages\n",
    "import pandas as pd\n",
    "import numpy as np\n",
    "import pprint as pp # for printing\n",
    "import scipy.stats as st # for Normal PDF\n",
    "import warnings # for silencing warnings\n",
    "warnings.filterwarnings(\"ignore\")"
   ]
  },
  {
   "cell_type": "code",
   "execution_count": 2,
   "id": "5cd5eeed",
   "metadata": {},
   "outputs": [],
   "source": [
    "# Load in the data\n",
    "vote_data = pd.read_csv(\"/Users/nikhilaiyer/Documents/GRAD SCHOOL/ppol564/coding_discussions_ppol564_fall2021/05_coding_discussion/turnout.csv\").drop(columns = 'id')"
   ]
  },
  {
   "cell_type": "code",
   "execution_count": 3,
   "id": "4d436fbb",
   "metadata": {},
   "outputs": [
    {
     "name": "stdout",
     "output_type": "stream",
     "text": [
      "Training Data: 1600 \n",
      "Test Data: 400\n"
     ]
    },
    {
     "data": {
      "text/html": [
       "<div>\n",
       "<style scoped>\n",
       "    .dataframe tbody tr th:only-of-type {\n",
       "        vertical-align: middle;\n",
       "    }\n",
       "\n",
       "    .dataframe tbody tr th {\n",
       "        vertical-align: top;\n",
       "    }\n",
       "\n",
       "    .dataframe thead th {\n",
       "        text-align: right;\n",
       "    }\n",
       "</style>\n",
       "<table border=\"1\" class=\"dataframe\">\n",
       "  <thead>\n",
       "    <tr style=\"text-align: right;\">\n",
       "      <th></th>\n",
       "      <th>age</th>\n",
       "      <th>educate</th>\n",
       "      <th>income</th>\n",
       "      <th>vote</th>\n",
       "      <th>white</th>\n",
       "    </tr>\n",
       "  </thead>\n",
       "  <tbody>\n",
       "    <tr>\n",
       "      <th>0</th>\n",
       "      <td>33</td>\n",
       "      <td>12.0</td>\n",
       "      <td>4.6493</td>\n",
       "      <td>1</td>\n",
       "      <td>1</td>\n",
       "    </tr>\n",
       "    <tr>\n",
       "      <th>1</th>\n",
       "      <td>64</td>\n",
       "      <td>10.0</td>\n",
       "      <td>1.6472</td>\n",
       "      <td>1</td>\n",
       "      <td>1</td>\n",
       "    </tr>\n",
       "    <tr>\n",
       "      <th>2</th>\n",
       "      <td>28</td>\n",
       "      <td>12.0</td>\n",
       "      <td>2.9170</td>\n",
       "      <td>1</td>\n",
       "      <td>1</td>\n",
       "    </tr>\n",
       "    <tr>\n",
       "      <th>3</th>\n",
       "      <td>22</td>\n",
       "      <td>12.0</td>\n",
       "      <td>1.7443</td>\n",
       "      <td>1</td>\n",
       "      <td>1</td>\n",
       "    </tr>\n",
       "    <tr>\n",
       "      <th>4</th>\n",
       "      <td>66</td>\n",
       "      <td>14.0</td>\n",
       "      <td>7.5945</td>\n",
       "      <td>0</td>\n",
       "      <td>1</td>\n",
       "    </tr>\n",
       "  </tbody>\n",
       "</table>\n",
       "</div>"
      ],
      "text/plain": [
       "   age  educate  income  vote  white\n",
       "0   33     12.0  4.6493     1      1\n",
       "1   64     10.0  1.6472     1      1\n",
       "2   28     12.0  2.9170     1      1\n",
       "3   22     12.0  1.7443     1      1\n",
       "4   66     14.0  7.5945     0      1"
      ]
     },
     "execution_count": 3,
     "metadata": {},
     "output_type": "execute_result"
    }
   ],
   "source": [
    "# Split the data (train - test)\n",
    "train = vote_data.sample(frac=.8).reset_index(drop=True)\n",
    "test = vote_data.drop(train.index).reset_index(drop=True)\n",
    "\n",
    "# Print off the split count to check\n",
    "print(\"Training Data:\",train.shape[0],\n",
    "      \"\\nTest Data:\",test.shape[0])\n",
    "\n",
    "# Look at the head of the data\n",
    "train.head()"
   ]
  },
  {
   "cell_type": "code",
   "execution_count": 4,
   "id": "6f9b74ee",
   "metadata": {},
   "outputs": [],
   "source": [
    "# Predicting multiple observations with binary data\n",
    "def calc_probs(data, focus_var = \"\"):\n",
    "    '''\n",
    "    Takes in a dataset and a focus variable which is the outcome of importance and gets the conditional and class probability\n",
    "   \n",
    "    Arguments\n",
    "    --------------\n",
    "    data : a dataset\n",
    "    focus_var: string with a focus outcome name\n",
    "    \n",
    "    Returns\n",
    "    --------------\n",
    "    dict(2): class and conditional probabilities in dictionaries\n",
    "    '''\n",
    "    # Make empty dictionary containers\n",
    "    class_probs = {}\n",
    "    cond_probs = {}\n",
    "    # Get all the variables that are not the outcome variable\n",
    "    vars = [v for v in data.columns if v != focus_var]\n",
    "    for focus_outcome, focus_data in data.groupby(focus_var):\n",
    "        class_probs.update({focus_outcome: focus_data.shape[0]/data.shape[0]})\n",
    "        for var_name in vars:\n",
    "            # calculate the conditional probabilities for each variable given the class.\n",
    "            prob = focus_data[var_name].sum()/focus_data.shape[0]\n",
    "            cond_probs[(var_name, 1, focus_outcome)] = prob\n",
    "            cond_probs[(var_name, 0, focus_outcome)] = 1 - prob\n",
    "    return class_probs, cond_probs"
   ]
  },
  {
   "cell_type": "code",
   "execution_count": 5,
   "id": "ddd9bc58",
   "metadata": {},
   "outputs": [],
   "source": [
    "class_probs, cond_probs = calc_probs(train[['vote', 'white']], focus_var = \"vote\")"
   ]
  },
  {
   "cell_type": "code",
   "execution_count": 6,
   "id": "8ca452f4",
   "metadata": {},
   "outputs": [
    {
     "name": "stdout",
     "output_type": "stream",
     "text": [
      "class probabilities\n",
      "\n",
      "{0: 0.241875, 1: 0.758125}\n",
      "\n",
      "\n",
      "conditional probabilities\n",
      "\n",
      "{('white', 0, 0): 0.20155038759689925,\n",
      " ('white', 0, 1): 0.11953833470733721,\n",
      " ('white', 1, 0): 0.7984496124031008,\n",
      " ('white', 1, 1): 0.8804616652926628}\n"
     ]
    }
   ],
   "source": [
    "# Print\n",
    "print(\"class probabilities\",end=\"\\n\\n\")\n",
    "pp.pprint(class_probs)\n",
    "print(\"\\n\")\n",
    "print(\"conditional probabilities\",end=\"\\n\\n\")\n",
    "pp.pprint(cond_probs)"
   ]
  },
  {
   "cell_type": "code",
   "execution_count": 7,
   "id": "657a1d6c",
   "metadata": {},
   "outputs": [],
   "source": [
    "def bin_predict(data, class_probs, cond_probs):\n",
    "    '''\n",
    "    Function calculates the conditional probability for membership into each class.\n",
    "    Then returns both the probabilities and the most likely class. \n",
    "    '''\n",
    "    store_preds = []\n",
    "    for i, row in data.iterrows():\n",
    "        pr_0 = 1; pr_1 = 1\n",
    "        for j in range(1,len(row.index)):            \n",
    "            pr_0 *= cond_probs[(row.index[j], row.values[j], 0)]\n",
    "            pr_1 *= cond_probs[(row.index[j], row.values[j], 1)]     \n",
    "        pr_0 *= class_probs[0]\n",
    "        pr_1 *= class_probs[1]\n",
    "        store_preds.append([pr_0,pr_1,max([(pr_0,0),(pr_1,1)])[1]])\n",
    "    return pd.DataFrame(store_preds,columns=[\"pr_0\",\"pr_1\",\"pred\"])"
   ]
  },
  {
   "cell_type": "code",
   "execution_count": 9,
   "id": "eabd2866",
   "metadata": {},
   "outputs": [
    {
     "data": {
      "text/html": [
       "<div>\n",
       "<style scoped>\n",
       "    .dataframe tbody tr th:only-of-type {\n",
       "        vertical-align: middle;\n",
       "    }\n",
       "\n",
       "    .dataframe tbody tr th {\n",
       "        vertical-align: top;\n",
       "    }\n",
       "\n",
       "    .dataframe thead th {\n",
       "        text-align: right;\n",
       "    }\n",
       "</style>\n",
       "<table border=\"1\" class=\"dataframe\">\n",
       "  <thead>\n",
       "    <tr style=\"text-align: right;\">\n",
       "      <th></th>\n",
       "      <th>pr_0</th>\n",
       "      <th>pr_1</th>\n",
       "      <th>pred</th>\n",
       "    </tr>\n",
       "  </thead>\n",
       "  <tbody>\n",
       "    <tr>\n",
       "      <th>0</th>\n",
       "      <td>0.193125</td>\n",
       "      <td>0.6675</td>\n",
       "      <td>1</td>\n",
       "    </tr>\n",
       "    <tr>\n",
       "      <th>1</th>\n",
       "      <td>0.193125</td>\n",
       "      <td>0.6675</td>\n",
       "      <td>1</td>\n",
       "    </tr>\n",
       "    <tr>\n",
       "      <th>2</th>\n",
       "      <td>0.193125</td>\n",
       "      <td>0.6675</td>\n",
       "      <td>1</td>\n",
       "    </tr>\n",
       "    <tr>\n",
       "      <th>3</th>\n",
       "      <td>0.193125</td>\n",
       "      <td>0.6675</td>\n",
       "      <td>1</td>\n",
       "    </tr>\n",
       "    <tr>\n",
       "      <th>4</th>\n",
       "      <td>0.193125</td>\n",
       "      <td>0.6675</td>\n",
       "      <td>1</td>\n",
       "    </tr>\n",
       "  </tbody>\n",
       "</table>\n",
       "</div>"
      ],
      "text/plain": [
       "       pr_0    pr_1  pred\n",
       "0  0.193125  0.6675     1\n",
       "1  0.193125  0.6675     1\n",
       "2  0.193125  0.6675     1\n",
       "3  0.193125  0.6675     1\n",
       "4  0.193125  0.6675     1"
      ]
     },
     "execution_count": 9,
     "metadata": {},
     "output_type": "execute_result"
    }
   ],
   "source": [
    "# Run the table to present probabilities\n",
    "preds_bin_table = bin_predict(train[['vote', 'white']], class_probs, cond_probs)\n",
    "preds_bin_table.head()"
   ]
  },
  {
   "cell_type": "code",
   "execution_count": 10,
   "id": "f5bbf080",
   "metadata": {},
   "outputs": [
    {
     "data": {
      "text/plain": [
       "0.758125"
      ]
     },
     "execution_count": 10,
     "metadata": {},
     "output_type": "execute_result"
    }
   ],
   "source": [
    "# Showing the accuracy of the predictions\n",
    "bin_accuracy = sum(train.vote == preds_bin_table.pred)/train.shape[0]\n",
    "bin_accuracy"
   ]
  },
  {
   "cell_type": "code",
   "execution_count": 13,
   "id": "612d5c18",
   "metadata": {},
   "outputs": [],
   "source": [
    "# Setting up dataset of just continuous variables (without binary)\n",
    "train_cont = train[['vote', \"age\", \"educate\", \"income\"]]\n",
    "vote1 = train.query(\"vote == 1\")\n",
    "vote0 = train.query(\"vote == 0\")"
   ]
  },
  {
   "cell_type": "code",
   "execution_count": 14,
   "id": "c9c9bc2f",
   "metadata": {},
   "outputs": [
    {
     "name": "stdout",
     "output_type": "stream",
     "text": [
      "{('age', 0): {'mean': 42.5968992248062, 'sd': 18.68841293221688},\n",
      " ('age', 1): {'mean': 46.04122011541632, 'sd': 16.92630939293045},\n",
      " ('educate', 0): {'mean': 10.813953488372093, 'sd': 3.115274358613906},\n",
      " ('educate', 1): {'mean': 12.53833470733718, 'sd': 3.251994492862486},\n",
      " ('income', 0): {'mean': 2.879895348837209, 'sd': 2.275269279953376},\n",
      " ('income', 1): {'mean': 4.275148639736191, 'sd': 2.920399047028736}}\n"
     ]
    }
   ],
   "source": [
    "# Finding the mean and std of each conditional variable\n",
    "dist_locs = \\\n",
    "{(\"age\",1):{'mean':vote1.age.mean(),'sd':vote1.age.std()},\n",
    " (\"age\",0):{'mean':vote0.age.mean(),'sd':vote0.age.std()},\n",
    " (\"educate\",1):{'mean':vote1.educate.mean(),'sd':vote1.educate.std()},\n",
    " (\"educate\",0):{'mean':vote0.educate.mean(),'sd':vote0.educate.std()},\n",
    " (\"income\",1):{'mean':vote1.income.mean(),'sd':vote1.income.std()},\n",
    " (\"income\",0):{'mean':vote0.income.mean(),'sd':vote0.income.std()}\n",
    "}\n",
    "\n",
    "pp.pprint(dist_locs)"
   ]
  },
  {
   "cell_type": "code",
   "execution_count": 15,
   "id": "75aa8b1a",
   "metadata": {},
   "outputs": [],
   "source": [
    "def cont_predict(data, dist_locs):\n",
    "    '''\n",
    "    Takes in data, and the means and standard deviations for each conditional variable, calculates the conditional\n",
    "    probabilities and returns both probabilities plus a prediction in a dataframe.\n",
    "   \n",
    "    Arguments\n",
    "    --------------\n",
    "    data : dataset subsetting of continous variables\n",
    "    dist_locs: dictionary of means and standard deviations\n",
    "    \n",
    "    Return\n",
    "    --------------\n",
    "    dataframe: of conditional probablities for each class with the expected prediction  \n",
    "    '''\n",
    "    store_preds = []\n",
    "    for i, row in data.iterrows():\n",
    "        pr_0 = 1; pr_1 = 1\n",
    "        for j in range(1, len(row)):\n",
    "            pr_0 *= st.norm(dist_locs[(row.index[j],0)]['mean'],\n",
    "                            dist_locs[(row.index[j],0)]['sd']).pdf(row.values[j])\n",
    "            pr_1 *= st.norm(dist_locs[(row.index[j],1)]['mean'], \n",
    "                            dist_locs[(row.index[j],1)]['sd']).pdf(row.values[j])\n",
    "        pr_0 *= class_probs[0]\n",
    "        pr_1 *= class_probs[1]\n",
    "        if pr_0 >= pr_1:\n",
    "            class_pred = 0\n",
    "        else:\n",
    "            class_pred = 1\n",
    "        store_preds.append([pr_0, pr_1, class_pred])\n",
    "    return pd.DataFrame(store_preds, columns=[\"pr_0\", \"pr_1\", \"pred\"]) "
   ]
  },
  {
   "cell_type": "code",
   "execution_count": 16,
   "id": "893824d1",
   "metadata": {},
   "outputs": [
    {
     "data": {
      "text/html": [
       "<div>\n",
       "<style scoped>\n",
       "    .dataframe tbody tr th:only-of-type {\n",
       "        vertical-align: middle;\n",
       "    }\n",
       "\n",
       "    .dataframe tbody tr th {\n",
       "        vertical-align: top;\n",
       "    }\n",
       "\n",
       "    .dataframe thead th {\n",
       "        text-align: right;\n",
       "    }\n",
       "</style>\n",
       "<table border=\"1\" class=\"dataframe\">\n",
       "  <thead>\n",
       "    <tr style=\"text-align: right;\">\n",
       "      <th></th>\n",
       "      <th>pr_0</th>\n",
       "      <th>pr_1</th>\n",
       "      <th>pred</th>\n",
       "    </tr>\n",
       "  </thead>\n",
       "  <tbody>\n",
       "    <tr>\n",
       "      <th>0</th>\n",
       "      <td>0.000070</td>\n",
       "      <td>0.000218</td>\n",
       "      <td>1</td>\n",
       "    </tr>\n",
       "    <tr>\n",
       "      <th>1</th>\n",
       "      <td>0.000050</td>\n",
       "      <td>0.000084</td>\n",
       "      <td>1</td>\n",
       "    </tr>\n",
       "    <tr>\n",
       "      <th>2</th>\n",
       "      <td>0.000079</td>\n",
       "      <td>0.000150</td>\n",
       "      <td>1</td>\n",
       "    </tr>\n",
       "    <tr>\n",
       "      <th>3</th>\n",
       "      <td>0.000052</td>\n",
       "      <td>0.000074</td>\n",
       "      <td>1</td>\n",
       "    </tr>\n",
       "    <tr>\n",
       "      <th>4</th>\n",
       "      <td>0.000004</td>\n",
       "      <td>0.000071</td>\n",
       "      <td>1</td>\n",
       "    </tr>\n",
       "    <tr>\n",
       "      <th>5</th>\n",
       "      <td>0.000004</td>\n",
       "      <td>0.000062</td>\n",
       "      <td>1</td>\n",
       "    </tr>\n",
       "    <tr>\n",
       "      <th>6</th>\n",
       "      <td>0.000010</td>\n",
       "      <td>0.000008</td>\n",
       "      <td>0</td>\n",
       "    </tr>\n",
       "    <tr>\n",
       "      <th>7</th>\n",
       "      <td>0.000067</td>\n",
       "      <td>0.000231</td>\n",
       "      <td>1</td>\n",
       "    </tr>\n",
       "    <tr>\n",
       "      <th>8</th>\n",
       "      <td>0.000002</td>\n",
       "      <td>0.000078</td>\n",
       "      <td>1</td>\n",
       "    </tr>\n",
       "    <tr>\n",
       "      <th>9</th>\n",
       "      <td>0.000019</td>\n",
       "      <td>0.000023</td>\n",
       "      <td>1</td>\n",
       "    </tr>\n",
       "  </tbody>\n",
       "</table>\n",
       "</div>"
      ],
      "text/plain": [
       "       pr_0      pr_1  pred\n",
       "0  0.000070  0.000218     1\n",
       "1  0.000050  0.000084     1\n",
       "2  0.000079  0.000150     1\n",
       "3  0.000052  0.000074     1\n",
       "4  0.000004  0.000071     1\n",
       "5  0.000004  0.000062     1\n",
       "6  0.000010  0.000008     0\n",
       "7  0.000067  0.000231     1\n",
       "8  0.000002  0.000078     1\n",
       "9  0.000019  0.000023     1"
      ]
     },
     "execution_count": 16,
     "metadata": {},
     "output_type": "execute_result"
    }
   ],
   "source": [
    "preds_cont_table = cont_predict(train_cont, dist_locs)\n",
    "preds_cont_table.head(10)"
   ]
  },
  {
   "cell_type": "code",
   "execution_count": 17,
   "id": "4f77460d",
   "metadata": {},
   "outputs": [],
   "source": [
    "test_cont = test[['vote', \"age\", \"educate\", \"income\"]]"
   ]
  },
  {
   "cell_type": "code",
   "execution_count": 19,
   "id": "a064087b",
   "metadata": {},
   "outputs": [
    {
     "data": {
      "text/plain": [
       "0.755625"
      ]
     },
     "execution_count": 19,
     "metadata": {},
     "output_type": "execute_result"
    }
   ],
   "source": [
    "# Calculating the accuracy for the training data\n",
    "cont_acccuracy = sum(train.vote == preds_cont_table.pred)/train.shape[0]\n",
    "cont_acccuracy"
   ]
  },
  {
   "cell_type": "code",
   "execution_count": null,
   "id": "85fe7767",
   "metadata": {},
   "outputs": [],
   "source": []
  }
 ],
 "metadata": {
  "kernelspec": {
   "display_name": "Python 3 (ipykernel)",
   "language": "python",
   "name": "python3"
  },
  "language_info": {
   "codemirror_mode": {
    "name": "ipython",
    "version": 3
   },
   "file_extension": ".py",
   "mimetype": "text/x-python",
   "name": "python",
   "nbconvert_exporter": "python",
   "pygments_lexer": "ipython3",
   "version": "3.9.7"
  }
 },
 "nbformat": 4,
 "nbformat_minor": 5
}
