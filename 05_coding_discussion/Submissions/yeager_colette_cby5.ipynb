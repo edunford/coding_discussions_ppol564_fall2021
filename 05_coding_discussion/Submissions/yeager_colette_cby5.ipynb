{
 "cells": [
  {
   "cell_type": "markdown",
   "id": "c90c1db9",
   "metadata": {},
   "source": [
    "# Coding Discussion 5\n",
    "### Colette Yeager"
   ]
  },
  {
   "cell_type": "code",
   "execution_count": 144,
   "id": "d55d3315",
   "metadata": {},
   "outputs": [],
   "source": [
    "# Import packages\n",
    "import numpy as np\n",
    "import pandas as pd\n",
    "import scipy.stats as st"
   ]
  },
  {
   "cell_type": "code",
   "execution_count": 145,
   "id": "40898a26",
   "metadata": {},
   "outputs": [
    {
     "name": "stdout",
     "output_type": "stream",
     "text": [
      "Training Data: 1600 \n",
      "Test Data: 400\n"
     ]
    },
    {
     "data": {
      "text/html": [
       "<div>\n",
       "<style scoped>\n",
       "    .dataframe tbody tr th:only-of-type {\n",
       "        vertical-align: middle;\n",
       "    }\n",
       "\n",
       "    .dataframe tbody tr th {\n",
       "        vertical-align: top;\n",
       "    }\n",
       "\n",
       "    .dataframe thead th {\n",
       "        text-align: right;\n",
       "    }\n",
       "</style>\n",
       "<table border=\"1\" class=\"dataframe\">\n",
       "  <thead>\n",
       "    <tr style=\"text-align: right;\">\n",
       "      <th></th>\n",
       "      <th>id</th>\n",
       "      <th>age</th>\n",
       "      <th>educate</th>\n",
       "      <th>income</th>\n",
       "      <th>vote</th>\n",
       "      <th>white</th>\n",
       "    </tr>\n",
       "  </thead>\n",
       "  <tbody>\n",
       "    <tr>\n",
       "      <th>0</th>\n",
       "      <td>1749</td>\n",
       "      <td>78</td>\n",
       "      <td>16.0</td>\n",
       "      <td>1.3131</td>\n",
       "      <td>1</td>\n",
       "      <td>1</td>\n",
       "    </tr>\n",
       "    <tr>\n",
       "      <th>1</th>\n",
       "      <td>935</td>\n",
       "      <td>72</td>\n",
       "      <td>3.0</td>\n",
       "      <td>0.6765</td>\n",
       "      <td>1</td>\n",
       "      <td>0</td>\n",
       "    </tr>\n",
       "    <tr>\n",
       "      <th>2</th>\n",
       "      <td>1034</td>\n",
       "      <td>64</td>\n",
       "      <td>10.0</td>\n",
       "      <td>1.3131</td>\n",
       "      <td>1</td>\n",
       "      <td>1</td>\n",
       "    </tr>\n",
       "    <tr>\n",
       "      <th>3</th>\n",
       "      <td>244</td>\n",
       "      <td>80</td>\n",
       "      <td>8.0</td>\n",
       "      <td>1.1839</td>\n",
       "      <td>1</td>\n",
       "      <td>1</td>\n",
       "    </tr>\n",
       "    <tr>\n",
       "      <th>4</th>\n",
       "      <td>929</td>\n",
       "      <td>19</td>\n",
       "      <td>14.0</td>\n",
       "      <td>2.9072</td>\n",
       "      <td>1</td>\n",
       "      <td>1</td>\n",
       "    </tr>\n",
       "  </tbody>\n",
       "</table>\n",
       "</div>"
      ],
      "text/plain": [
       "     id  age  educate  income  vote  white\n",
       "0  1749   78     16.0  1.3131     1      1\n",
       "1   935   72      3.0  0.6765     1      0\n",
       "2  1034   64     10.0  1.3131     1      1\n",
       "3   244   80      8.0  1.1839     1      1\n",
       "4   929   19     14.0  2.9072     1      1"
      ]
     },
     "execution_count": 145,
     "metadata": {},
     "output_type": "execute_result"
    }
   ],
   "source": [
    "# Read in data and set training and test datasets\n",
    "\n",
    "# Set seed\n",
    "np.random.seed(1234)\n",
    "\n",
    "# Read in data\n",
    "data = pd.read_csv(\"/Users/coletteyeager/coding_discussions_ppol564_fall2021/05_coding_discussion/turnout.csv\")\n",
    "\n",
    "# Train-Test split\n",
    "train = data.sample(frac=.8).reset_index(drop=True)\n",
    "test = data.drop(train.index).reset_index(drop=True)\n",
    "\n",
    "# Print off the split count \n",
    "print(\"Training Data:\",train.shape[0],\n",
    "      \"\\nTest Data:\",test.shape[0])\n",
    "\n",
    "# Look at the head of the data\n",
    "train.head()"
   ]
  },
  {
   "cell_type": "code",
   "execution_count": 146,
   "id": "d45f3bb7",
   "metadata": {},
   "outputs": [
    {
     "data": {
      "text/plain": [
       "[0.2575, 0.7425]"
      ]
     },
     "execution_count": 146,
     "metadata": {},
     "output_type": "execute_result"
    }
   ],
   "source": [
    "# Calculate vote probabilities\n",
    "\n",
    "# Query data\n",
    "v1 = train.query(\"vote == 1\")\n",
    "v0 = train.query(\"vote == 0\")\n",
    "\n",
    "# Vote probabilities\n",
    "pr_v1 = v1.shape[0]/train.shape[0]\n",
    "pr_v0 = v0.shape[0]/train.shape[0]\n",
    "class_probs = [pr_v0, pr_v1]\n",
    "class_probs"
   ]
  },
  {
   "cell_type": "code",
   "execution_count": 147,
   "id": "efd55af0",
   "metadata": {},
   "outputs": [],
   "source": [
    "# Subset into binary and continuous variable datasets\n",
    "binary = train[['vote', 'white']]\n",
    "continuous = train[['vote', 'age', 'educate', 'income']]"
   ]
  },
  {
   "cell_type": "code",
   "execution_count": 148,
   "id": "d6c8d011",
   "metadata": {},
   "outputs": [],
   "source": [
    "# Binary calculation\n",
    "\n",
    "def calc_probs(data, outcome_var = \"\"):\n",
    "    '''\n",
    "    This function calculates the conditional probabilities for the binary variable.\n",
    "    \n",
    "    Arguments\n",
    "    ---------\n",
    "    data: DataFrame\n",
    "        A data set containing the binary variables \n",
    "    outcome_var: str\n",
    "        A string with the name of the variable being looked at\n",
    "    \n",
    "    Return\n",
    "    ------\n",
    "    cond_probs: dictionary\n",
    "        A dictionary containing the conditional probabilities for the binary variables\n",
    "    '''\n",
    "    \n",
    "    # Create empty dictionary\n",
    "    cond_probs = {}\n",
    "    # Get non-outcome variables from the data\n",
    "    vars = [v for v in binary.columns if v!= outcome_var]\n",
    "    for y, d in data.groupby(outcome_var):\n",
    "        for v in vars:\n",
    "            # Get conditinoal probabilities\n",
    "            pr = d[v].sum()/d.shape[0]\n",
    "            cond_probs[(v, 1, y)] = pr\n",
    "            cond_probs[(v, 0, y)] = 1 - pr\n",
    "    return cond_probs"
   ]
  },
  {
   "cell_type": "code",
   "execution_count": 149,
   "id": "72ebd7c7",
   "metadata": {},
   "outputs": [
    {
     "data": {
      "text/plain": [
       "{('white', 1, 0): 0.7985436893203883,\n",
       " ('white', 0, 0): 0.20145631067961167,\n",
       " ('white', 1, 1): 0.8686868686868687,\n",
       " ('white', 0, 1): 0.13131313131313127}"
      ]
     },
     "execution_count": 149,
     "metadata": {},
     "output_type": "execute_result"
    }
   ],
   "source": [
    "# Get the conditional probabilities and print them out\n",
    "cond_probs = calc_probs(binary, \"vote\")\n",
    "cond_probs"
   ]
  },
  {
   "cell_type": "code",
   "execution_count": 150,
   "id": "8f9bfcee",
   "metadata": {},
   "outputs": [
    {
     "data": {
      "text/plain": [
       "{('age', 1): {'mean': 46.32491582491583, 'sd': 16.924844588853716},\n",
       " ('age', 0): {'mean': 42.601941747572816, 'sd': 19.147825402160812},\n",
       " ('educate', 1): {'mean': 12.558922558922559, 'sd': 3.295714127444309},\n",
       " ('educate', 0): {'mean': 10.62864077669903, 'sd': 3.304381091983527},\n",
       " ('income', 1): {'mean': 4.229461952861947, 'sd': 2.8482089910676964},\n",
       " ('income', 0): {'mean': 2.7381618932038836, 'sd': 2.2429913729337625}}"
      ]
     },
     "execution_count": 150,
     "metadata": {},
     "output_type": "execute_result"
    }
   ],
   "source": [
    "# Get the mean and standard deviation for each continuous variable\n",
    "vars = [v for v in continuous.columns if v != \"vote\"] # Collect each variable\n",
    "dist_locs = {} # Create empty dictionary\n",
    "for v in vars:\n",
    "    dist_locs.update({(v, 1): {'mean': v1[v].mean(), 'sd': v1[v].std()}})\n",
    "    dist_locs.update({(v, 0): {'mean': v0[v].mean(), 'sd': v0[v].std()}})\n",
    "    \n",
    "dist_locs"
   ]
  },
  {
   "cell_type": "code",
   "execution_count": 156,
   "id": "acae8ab7",
   "metadata": {},
   "outputs": [],
   "source": [
    "def predict(data, dist_locs, cond_probs, class_probs):\n",
    "    '''\n",
    "    This function calculates the conditional probabilities for the continuous variables.\n",
    "    \n",
    "    Arguments\n",
    "    ---------\n",
    "    data: DataFrame\n",
    "        A data set containing the continuous variables \n",
    "    dist_locs: Dictionary\n",
    "        A dictionary containing the mean and standard deviation for each continuous variable option\n",
    "    cond_probs: Dictionary\n",
    "        A dictionary containing the conditional probability for each binary variable\n",
    "    class_probs: List\n",
    "        A list containing the class probabilities\n",
    "    \n",
    "    Return\n",
    "    ------\n",
    "    pred: DataFrame\n",
    "        A data set containing the conditional probabilities and predicted outcome\n",
    "    '''\n",
    "    \n",
    "    store_preds = []\n",
    "    for i,row in data.iterrows():\n",
    "        # Get the predictions using a Gaussan distribution\n",
    "        pr_0 = 1; pr_1 = 1\n",
    "        for j in range(1, 4): #Subset to only look at continuous variables\n",
    "            # Multiply all the continuous probailities\n",
    "            pr_0 *= st.norm(dist_locs[(row.index[j],0)]['mean'],\n",
    "                            dist_locs[(row.index[j],0)]['sd']).pdf(row.values[j])\n",
    "            pr_1 *= st.norm(dist_locs[(row.index[j],1)]['mean'], \n",
    "                            dist_locs[(row.index[j],1)]['sd']).pdf(row.values[j])\n",
    "        # Multiply by binary probabilities\n",
    "        pr_0 *= cond_probs['white', row['white'], 0]\n",
    "        pr_1 *= cond_probs['white', row['white'], 1]\n",
    "        # Multiple by class proabilities\n",
    "        pr_0 *= class_probs[0]\n",
    "        pr_1 *= class_probs[1]\n",
    "        \n",
    "        # Assign the class designation to the highest probability\n",
    "        if pr_0 >= pr_1:\n",
    "            class_pred = 0\n",
    "        else:\n",
    "            class_pred = 1\n",
    "            \n",
    "        store_preds.append([pr_0,pr_1,class_pred])\n",
    "        \n",
    "        # Turn to DataFrame\n",
    "        pred = pd.DataFrame(store_preds,columns=[\"pr_0\",\"pr_1\",\"pred\"])\n",
    "        \n",
    "    return pred"
   ]
  },
  {
   "cell_type": "code",
   "execution_count": 157,
   "id": "cc3daa86",
   "metadata": {},
   "outputs": [
    {
     "data": {
      "text/html": [
       "<div>\n",
       "<style scoped>\n",
       "    .dataframe tbody tr th:only-of-type {\n",
       "        vertical-align: middle;\n",
       "    }\n",
       "\n",
       "    .dataframe tbody tr th {\n",
       "        vertical-align: top;\n",
       "    }\n",
       "\n",
       "    .dataframe thead th {\n",
       "        text-align: right;\n",
       "    }\n",
       "</style>\n",
       "<table border=\"1\" class=\"dataframe\">\n",
       "  <thead>\n",
       "    <tr style=\"text-align: right;\">\n",
       "      <th></th>\n",
       "      <th>pr_0</th>\n",
       "      <th>pr_1</th>\n",
       "      <th>pred</th>\n",
       "    </tr>\n",
       "  </thead>\n",
       "  <tbody>\n",
       "    <tr>\n",
       "      <th>0</th>\n",
       "      <td>3.632617e-06</td>\n",
       "      <td>1.535617e-05</td>\n",
       "      <td>1</td>\n",
       "    </tr>\n",
       "    <tr>\n",
       "      <th>1</th>\n",
       "      <td>3.258162e-07</td>\n",
       "      <td>8.439931e-08</td>\n",
       "      <td>0</td>\n",
       "    </tr>\n",
       "    <tr>\n",
       "      <th>2</th>\n",
       "      <td>3.954328e-05</td>\n",
       "      <td>6.544042e-05</td>\n",
       "      <td>1</td>\n",
       "    </tr>\n",
       "    <tr>\n",
       "      <th>3</th>\n",
       "      <td>7.829549e-06</td>\n",
       "      <td>7.723286e-06</td>\n",
       "      <td>0</td>\n",
       "    </tr>\n",
       "    <tr>\n",
       "      <th>4</th>\n",
       "      <td>2.550202e-05</td>\n",
       "      <td>5.713713e-05</td>\n",
       "      <td>1</td>\n",
       "    </tr>\n",
       "  </tbody>\n",
       "</table>\n",
       "</div>"
      ],
      "text/plain": [
       "           pr_0          pr_1  pred\n",
       "0  3.632617e-06  1.535617e-05     1\n",
       "1  3.258162e-07  8.439931e-08     0\n",
       "2  3.954328e-05  6.544042e-05     1\n",
       "3  7.829549e-06  7.723286e-06     0\n",
       "4  2.550202e-05  5.713713e-05     1"
      ]
     },
     "execution_count": 157,
     "metadata": {},
     "output_type": "execute_result"
    }
   ],
   "source": [
    "# Run prediction function on training data\n",
    "preds_train = predict(train, dist_locs, cond_probs, class_probs)\n",
    "preds_train.head()"
   ]
  },
  {
   "cell_type": "code",
   "execution_count": 158,
   "id": "bb62c153",
   "metadata": {},
   "outputs": [
    {
     "data": {
      "text/plain": [
       "0.736875"
      ]
     },
     "execution_count": 158,
     "metadata": {},
     "output_type": "execute_result"
    }
   ],
   "source": [
    "# Compare prediction to actual\n",
    "accuracy_train = sum(train.vote == preds_train.pred)/train.shape[0]\n",
    "accuracy_train"
   ]
  },
  {
   "cell_type": "code",
   "execution_count": 160,
   "id": "97c2f5c4",
   "metadata": {},
   "outputs": [
    {
     "data": {
      "text/html": [
       "<div>\n",
       "<style scoped>\n",
       "    .dataframe tbody tr th:only-of-type {\n",
       "        vertical-align: middle;\n",
       "    }\n",
       "\n",
       "    .dataframe tbody tr th {\n",
       "        vertical-align: top;\n",
       "    }\n",
       "\n",
       "    .dataframe thead th {\n",
       "        text-align: right;\n",
       "    }\n",
       "</style>\n",
       "<table border=\"1\" class=\"dataframe\">\n",
       "  <thead>\n",
       "    <tr style=\"text-align: right;\">\n",
       "      <th></th>\n",
       "      <th>pr_0</th>\n",
       "      <th>pr_1</th>\n",
       "      <th>pred</th>\n",
       "    </tr>\n",
       "  </thead>\n",
       "  <tbody>\n",
       "    <tr>\n",
       "      <th>0</th>\n",
       "      <td>0.000004</td>\n",
       "      <td>0.000015</td>\n",
       "      <td>1</td>\n",
       "    </tr>\n",
       "    <tr>\n",
       "      <th>1</th>\n",
       "      <td>0.000020</td>\n",
       "      <td>0.000179</td>\n",
       "      <td>1</td>\n",
       "    </tr>\n",
       "    <tr>\n",
       "      <th>2</th>\n",
       "      <td>0.000030</td>\n",
       "      <td>0.000068</td>\n",
       "      <td>1</td>\n",
       "    </tr>\n",
       "    <tr>\n",
       "      <th>3</th>\n",
       "      <td>0.000073</td>\n",
       "      <td>0.000187</td>\n",
       "      <td>1</td>\n",
       "    </tr>\n",
       "    <tr>\n",
       "      <th>4</th>\n",
       "      <td>0.000002</td>\n",
       "      <td>0.000040</td>\n",
       "      <td>1</td>\n",
       "    </tr>\n",
       "  </tbody>\n",
       "</table>\n",
       "</div>"
      ],
      "text/plain": [
       "       pr_0      pr_1  pred\n",
       "0  0.000004  0.000015     1\n",
       "1  0.000020  0.000179     1\n",
       "2  0.000030  0.000068     1\n",
       "3  0.000073  0.000187     1\n",
       "4  0.000002  0.000040     1"
      ]
     },
     "execution_count": 160,
     "metadata": {},
     "output_type": "execute_result"
    }
   ],
   "source": [
    "# Run prediction functino on test data\n",
    "preds_test = predict(test,dist_locs, cond_probs, class_probs)\n",
    "preds_test.head()"
   ]
  },
  {
   "cell_type": "code",
   "execution_count": 161,
   "id": "b72fcdc8",
   "metadata": {},
   "outputs": [
    {
     "data": {
      "text/plain": [
       "0.715"
      ]
     },
     "execution_count": 161,
     "metadata": {},
     "output_type": "execute_result"
    }
   ],
   "source": [
    "# Compare prediction to actual\n",
    "accuracy_test = sum(test.vote == preds_test.pred)/test.shape[0]\n",
    "accuracy_test"
   ]
  },
  {
   "cell_type": "markdown",
   "id": "0aaddf8c",
   "metadata": {},
   "source": [
    "From the training data, we have a predictive accuracy of 73.68%. From the test data, we have a predictive accuracy of 71.5%. This is definitely better than a coin flip, which has a 50% accuracy. "
   ]
  },
  {
   "cell_type": "code",
   "execution_count": null,
   "id": "8ec205d1",
   "metadata": {},
   "outputs": [],
   "source": []
  }
 ],
 "metadata": {
  "kernelspec": {
   "display_name": "Python 3",
   "language": "python",
   "name": "python3"
  },
  "language_info": {
   "codemirror_mode": {
    "name": "ipython",
    "version": 3
   },
   "file_extension": ".py",
   "mimetype": "text/x-python",
   "name": "python",
   "nbconvert_exporter": "python",
   "pygments_lexer": "ipython3",
   "version": "3.8.8"
  }
 },
 "nbformat": 4,
 "nbformat_minor": 5
}
