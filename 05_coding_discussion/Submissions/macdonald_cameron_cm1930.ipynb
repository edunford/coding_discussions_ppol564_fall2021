{
 "cells": [
  {
   "cell_type": "markdown",
   "id": "6974be29",
   "metadata": {},
   "source": [
    "### Coding Discussions"
   ]
  },
  {
   "cell_type": "code",
   "execution_count": 1,
   "id": "2e78c3e8",
   "metadata": {},
   "outputs": [],
   "source": [
    "# import the necessary packages.\n",
    "import pandas as pd\n",
    "import numpy as np\n",
    "from sklearn.model_selection import train_test_split\n",
    "\n",
    "import pprint as pp # for printing\n",
    "import scipy.stats as st # for Normal PDF\n",
    "\n",
    "import warnings\n",
    "warnings.filterwarnings(\"ignore\")"
   ]
  },
  {
   "cell_type": "code",
   "execution_count": 2,
   "id": "ba4e67c3",
   "metadata": {},
   "outputs": [],
   "source": [
    "# we load the data as a pandas data frame and name it.\n",
    "turnout_whole = pd.read_csv(\"turnout.csv\")"
   ]
  },
  {
   "cell_type": "code",
   "execution_count": 3,
   "id": "70be562b",
   "metadata": {},
   "outputs": [
    {
     "data": {
      "text/html": [
       "<div>\n",
       "<style scoped>\n",
       "    .dataframe tbody tr th:only-of-type {\n",
       "        vertical-align: middle;\n",
       "    }\n",
       "\n",
       "    .dataframe tbody tr th {\n",
       "        vertical-align: top;\n",
       "    }\n",
       "\n",
       "    .dataframe thead th {\n",
       "        text-align: right;\n",
       "    }\n",
       "</style>\n",
       "<table border=\"1\" class=\"dataframe\">\n",
       "  <thead>\n",
       "    <tr style=\"text-align: right;\">\n",
       "      <th></th>\n",
       "      <th>id</th>\n",
       "      <th>age</th>\n",
       "      <th>educate</th>\n",
       "      <th>income</th>\n",
       "      <th>vote</th>\n",
       "      <th>white</th>\n",
       "    </tr>\n",
       "  </thead>\n",
       "  <tbody>\n",
       "    <tr>\n",
       "      <th>0</th>\n",
       "      <td>1</td>\n",
       "      <td>60</td>\n",
       "      <td>14.0</td>\n",
       "      <td>3.3458</td>\n",
       "      <td>1</td>\n",
       "      <td>1</td>\n",
       "    </tr>\n",
       "  </tbody>\n",
       "</table>\n",
       "</div>"
      ],
      "text/plain": [
       "   id  age  educate  income  vote  white\n",
       "0   1   60     14.0  3.3458     1      1"
      ]
     },
     "execution_count": 3,
     "metadata": {},
     "output_type": "execute_result"
    }
   ],
   "source": [
    "# we check the dimensions of the data \n",
    "turnout_whole.head(1)"
   ]
  },
  {
   "cell_type": "markdown",
   "id": "d737dc88",
   "metadata": {},
   "source": [
    "This is as anticipated. There are 2000 observations of 6 variables. "
   ]
  },
  {
   "cell_type": "markdown",
   "id": "3c629710",
   "metadata": {},
   "source": [
    "In order to use machine learning, we have to break the data set into two parts"
   ]
  },
  {
   "cell_type": "code",
   "execution_count": 4,
   "id": "d024941b",
   "metadata": {},
   "outputs": [],
   "source": [
    "# first we label the outcome and the predictors\n",
    "outcome = turnout_whole['vote']\n",
    "predictors = turnout_whole[['age', 'educate', 'income', 'white']]"
   ]
  },
  {
   "cell_type": "code",
   "execution_count": 5,
   "id": "3786077d",
   "metadata": {},
   "outputs": [],
   "source": [
    "# pull out the data out into data sets\n",
    "predictor_train, predictor_test, outcome_train, outcome_test = train_test_split(predictors, outcome, test_size = 0.2 , random_state = 499) "
   ]
  },
  {
   "cell_type": "code",
   "execution_count": 6,
   "id": "d5979a85",
   "metadata": {},
   "outputs": [],
   "source": [
    "# merge to create a single data frame for each of test and train \n",
    "train = pd.merge(predictor_train, outcome_train, left_index=True, right_index=True)\n",
    "\n",
    "# reset and drop previous index to ensure we don't have errors later on\n",
    "train = train.reset_index(drop = True)\n",
    "\n",
    "#repeat.\n",
    "test = pd.merge(predictor_test, outcome_test, left_index=True, right_index=True)\n",
    "test = test.reset_index(drop = True)"
   ]
  },
  {
   "cell_type": "markdown",
   "id": "84055912",
   "metadata": {},
   "source": [
    "For this part, we will only use the training data set. We'll develop the model and then later we will test it on the test data set."
   ]
  },
  {
   "cell_type": "code",
   "execution_count": 7,
   "id": "a4312349",
   "metadata": {
    "scrolled": true
   },
   "outputs": [
    {
     "data": {
      "text/html": [
       "<div>\n",
       "<style scoped>\n",
       "    .dataframe tbody tr th:only-of-type {\n",
       "        vertical-align: middle;\n",
       "    }\n",
       "\n",
       "    .dataframe tbody tr th {\n",
       "        vertical-align: top;\n",
       "    }\n",
       "\n",
       "    .dataframe thead th {\n",
       "        text-align: right;\n",
       "    }\n",
       "</style>\n",
       "<table border=\"1\" class=\"dataframe\">\n",
       "  <thead>\n",
       "    <tr style=\"text-align: right;\">\n",
       "      <th></th>\n",
       "      <th>age</th>\n",
       "      <th>educate</th>\n",
       "      <th>income</th>\n",
       "      <th>white</th>\n",
       "      <th>vote</th>\n",
       "    </tr>\n",
       "  </thead>\n",
       "  <tbody>\n",
       "    <tr>\n",
       "      <th>0</th>\n",
       "      <td>21</td>\n",
       "      <td>12.0</td>\n",
       "      <td>1.8380</td>\n",
       "      <td>1</td>\n",
       "      <td>0</td>\n",
       "    </tr>\n",
       "    <tr>\n",
       "      <th>1</th>\n",
       "      <td>33</td>\n",
       "      <td>12.0</td>\n",
       "      <td>4.4578</td>\n",
       "      <td>1</td>\n",
       "      <td>1</td>\n",
       "    </tr>\n",
       "    <tr>\n",
       "      <th>2</th>\n",
       "      <td>29</td>\n",
       "      <td>19.0</td>\n",
       "      <td>3.8606</td>\n",
       "      <td>1</td>\n",
       "      <td>1</td>\n",
       "    </tr>\n",
       "    <tr>\n",
       "      <th>3</th>\n",
       "      <td>49</td>\n",
       "      <td>12.0</td>\n",
       "      <td>1.8127</td>\n",
       "      <td>1</td>\n",
       "      <td>1</td>\n",
       "    </tr>\n",
       "    <tr>\n",
       "      <th>4</th>\n",
       "      <td>52</td>\n",
       "      <td>11.0</td>\n",
       "      <td>0.7594</td>\n",
       "      <td>0</td>\n",
       "      <td>1</td>\n",
       "    </tr>\n",
       "  </tbody>\n",
       "</table>\n",
       "</div>"
      ],
      "text/plain": [
       "   age  educate  income  white  vote\n",
       "0   21     12.0  1.8380      1     0\n",
       "1   33     12.0  4.4578      1     1\n",
       "2   29     19.0  3.8606      1     1\n",
       "3   49     12.0  1.8127      1     1\n",
       "4   52     11.0  0.7594      0     1"
      ]
     },
     "execution_count": 7,
     "metadata": {},
     "output_type": "execute_result"
    }
   ],
   "source": [
    "# show train\n",
    "train.head()"
   ]
  },
  {
   "cell_type": "code",
   "execution_count": 8,
   "id": "59107799",
   "metadata": {},
   "outputs": [
    {
     "name": "stdout",
     "output_type": "stream",
     "text": [
      "\n",
      "Pr(vote = 1): 0.74625\n",
      "Pr(vote = 0): 0.25375\n",
      "\n"
     ]
    }
   ],
   "source": [
    "# first we calculate the probabilities of each outcome\n",
    "N = train.shape[0]\n",
    "\n",
    "# subset the data by class (group of dependent variable outcomes)\n",
    "vote_1 = train.query(\"vote == 1\")\n",
    "vote_0 = train.query(\"vote == 0\")\n",
    "\n",
    "# calculate the probability for each class\n",
    "pr_vote_1 = vote_1.shape[0]/N\n",
    "pr_vote_0 = vote_0.shape[0]/N\n"
   ]
  },
  {
   "cell_type": "code",
   "execution_count": 9,
   "id": "40fdc7c2",
   "metadata": {
    "scrolled": true
   },
   "outputs": [],
   "source": [
    "def calc_probs(data,outcome_var=\"\",binary_var=[]):\n",
    "    '''\n",
    "    Calc probs, this functon calculates conditional probability for binary variables\n",
    "    \n",
    "    parameters:\n",
    "        data:\n",
    "            a pandas data frame with independent and dependent variables\n",
    "        outcome_var:\n",
    "            a string with the name of the outcome variable's column\n",
    "        binary_var:\n",
    "            a list of string column names.\n",
    "    return:\n",
    "        cond_probs:\n",
    "            a dictionary with a touple key\n",
    "    '''\n",
    "    # generate empty dictionary containers.\n",
    "    class_probs = {}\n",
    "    cond_probs = {}\n",
    "    # locate all variables that are not the outcome.\n",
    "    vars = [v for v in data.columns if v == any()]\n",
    "    # iterate through the class outcomes\n",
    "    for y, d in data.groupby(outcome_var): \n",
    "        # calculate the class probabilities\n",
    "        class_probs.update({y: d.shape[0]/data.shape[0]})\n",
    "        for v in vars:\n",
    "            # calculate the conditional probabilities for each variable given the class.\n",
    "            pr = d[v].sum()/d.shape[0]\n",
    "            cond_probs[(v,1,y)] = pr \n",
    "            cond_probs[(v,0,y)] = 1 - pr\n",
    "    return cond_probs\n",
    "\n",
    "\n",
    "# run\n",
    "cond_probs = calc_probs(train,outcome_var=\"vote\",binary_var=[\"white\"])"
   ]
  },
  {
   "cell_type": "code",
   "execution_count": 11,
   "id": "2f77f5e0",
   "metadata": {
    "scrolled": true
   },
   "outputs": [
    {
     "name": "stdout",
     "output_type": "stream",
     "text": [
      "{('age', 0): {'mean': 43.357142857142854, 'sd': 19.080415548294297},\n",
      " ('age', 1): {'mean': 46.23869346733668, 'sd': 19.080415548294297},\n",
      " ('educate', 0): {'mean': 10.652709359605911, 'sd': 3.1947225075904124},\n",
      " ('educate', 1): {'mean': 12.523031825795645, 'sd': 3.2706391049603347},\n",
      " ('income', 0): {'mean': 2.807944088669951, 'sd': 2.1931252923066418},\n",
      " ('income', 1): {'mean': 4.3193976549413735, 'sd': 2.901648439970187}}\n"
     ]
    }
   ],
   "source": [
    "# collect the mean and standard dev. of each conditional distribution\n",
    "dist_locs = \\\n",
    "{(\"age\",1):{'mean':vote_1.age.mean(),'sd':vote_0.age.std()},\n",
    " (\"age\",0):{'mean':vote_0.age.mean(),'sd':vote_0.age.std()},\n",
    " (\"income\",1):{'mean':vote_1.income.mean(),'sd':vote_1.income.std()},\n",
    " (\"income\",0):{'mean':vote_0.income.mean(),'sd':vote_0.income.std()},\n",
    " (\"educate\",1):{'mean':vote_1.educate.mean(),'sd':vote_1.educate.std()},\n",
    " (\"educate\",0):{'mean':vote_0.educate.mean(),'sd':vote_0.educate.std()}\n",
    "}"
   ]
  },
  {
   "cell_type": "code",
   "execution_count": 28,
   "id": "52c1ecc4",
   "metadata": {},
   "outputs": [],
   "source": [
    "def predict(data,dist_locs,cond_probs,outcome_variable):\n",
    "    '''\n",
    "    Predict takes in a data frame and several dictionaries in order to conduct a classification on the outcome variable. This function 'tests' a model.\n",
    "    \n",
    "    parameters: \n",
    "        data: \n",
    "            a pandas data frame with relevant variables.\n",
    "        dist_locs:\n",
    "            a dictionary of the continuous variable probabilities\n",
    "        cond_probs:\n",
    "            a dictionary of the binary variable probabilities\n",
    "    '''\n",
    "    store_preds = []\n",
    "    for i,row in data.iterrows():\n",
    "        \n",
    "        # get the predictions using a Gaussan distribution\n",
    "        # reset the probabilities\n",
    "        pr_0 = 1; pr_1 = 1\n",
    "        for j in range(1,len(row)):\n",
    "            if row.index[j] != outcome_variable: # ignore the outcome\n",
    "                if row.index[j] != \"white\": # the if statement only works for the continuous variables\n",
    "                    # we use *= to multiply the probabilities\n",
    "                    pr_0 *= st.norm(dist_locs[(row.index[j],0)]['mean'],\n",
    "                            dist_locs[(row.index[j],0)]['sd']).pdf(row.values[j])\n",
    "                    pr_1 *= st.norm(dist_locs[(row.index[j],1)]['mean'], \n",
    "                            dist_locs[(row.index[j],1)]['sd']).pdf(row.values[j])\n",
    "                else: # this code is for the binary variable, white\n",
    "                    pr_0 *= cond_probs[(row.index[j],int(row.values[j]),0)]\n",
    "                    pr_1 *= cond_probs[(row.index[j],int(row.values[j]),1)]\n",
    "        pr_0 *= pr_vote_0\n",
    "        pr_1 *= pr_vote_1\n",
    "        \n",
    "        # assign the class designation to the highest probability\n",
    "        if pr_0 >= pr_1:\n",
    "            class_pred = 0\n",
    "        else:\n",
    "            class_pred = 1\n",
    "            \n",
    "        store_preds.append([pr_0,pr_1,class_pred])\n",
    "        \n",
    "    return pd.DataFrame(store_preds,columns=[\"pr_0\",\"pr_1\",\"pred\"])\n",
    "\n",
    "# Run\n",
    "preds_train = predict(train,dist_locs, cond_probs, \"vote\")"
   ]
  },
  {
   "cell_type": "code",
   "execution_count": 29,
   "id": "8f5ec695",
   "metadata": {
    "scrolled": false
   },
   "outputs": [
    {
     "data": {
      "text/plain": [
       "0.73"
      ]
     },
     "execution_count": 29,
     "metadata": {},
     "output_type": "execute_result"
    }
   ],
   "source": [
    "accuracy = sum(train.vote == preds_train.pred)/train.shape[0]\n",
    "accuracy"
   ]
  },
  {
   "cell_type": "markdown",
   "id": "7edd7bd6",
   "metadata": {},
   "source": [
    "Now, we'll look at the testing data set. We do this to see how well our model does with data we haven't seen before."
   ]
  },
  {
   "cell_type": "code",
   "execution_count": 26,
   "id": "1a790b7c",
   "metadata": {},
   "outputs": [],
   "source": [
    "# run on the test\n",
    "preds_test = predict(test,dist_locs,cond_probs, \"vote\")"
   ]
  },
  {
   "cell_type": "code",
   "execution_count": 27,
   "id": "8a673d62",
   "metadata": {
    "scrolled": true
   },
   "outputs": [
    {
     "data": {
      "text/plain": [
       "0.7575"
      ]
     },
     "execution_count": 27,
     "metadata": {},
     "output_type": "execute_result"
    }
   ],
   "source": [
    "# get test accuracy\n",
    "accuracy = sum(test.vote == preds_test.pred)/test.shape[0]\n",
    "accuracy"
   ]
  },
  {
   "cell_type": "markdown",
   "id": "5c2ae0e0",
   "metadata": {},
   "source": [
    "In the end, our model preforms at 73% accuracy on the test model and slightly better (76% accuracy) on the test data. The model does outpreform a coin flip."
   ]
  }
 ],
 "metadata": {
  "kernelspec": {
   "display_name": "Python 3 (ipykernel)",
   "language": "python",
   "name": "python3"
  },
  "language_info": {
   "codemirror_mode": {
    "name": "ipython",
    "version": 3
   },
   "file_extension": ".py",
   "mimetype": "text/x-python",
   "name": "python",
   "nbconvert_exporter": "python",
   "pygments_lexer": "ipython3",
   "version": "3.9.7"
  }
 },
 "nbformat": 4,
 "nbformat_minor": 5
}
