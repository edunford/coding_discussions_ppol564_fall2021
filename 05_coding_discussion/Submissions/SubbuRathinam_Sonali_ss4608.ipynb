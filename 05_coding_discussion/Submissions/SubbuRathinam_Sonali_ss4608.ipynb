{
 "cells": [
  {
   "cell_type": "markdown",
   "id": "59737007",
   "metadata": {},
   "source": [
    "# PPOL564 | Data Science 1: Foundations \n",
    "\n",
    "## Coding Discussion 5\n",
    "\n",
    "\n",
    "\n",
    "#### By      : Sonali Subbu Rathinam \n",
    "#### NetID : ss4608\n",
    "#### Date   : 14/11/2021"
   ]
  },
  {
   "cell_type": "code",
   "execution_count": 1,
   "id": "d3d906ac",
   "metadata": {},
   "outputs": [],
   "source": [
    "#Importing the required modules\n",
    "\n",
    "import numpy as np \n",
    "import pandas as pd\n",
    "\n",
    "# for printing\n",
    "import pprint as pp \n",
    "\n",
    "# for Normal PDF\n",
    "import scipy.stats as st \n",
    "\n",
    "#To ignore warnings\n",
    "import warnings\n",
    "warnings.filterwarnings(\"ignore\")"
   ]
  },
  {
   "cell_type": "code",
   "execution_count": 2,
   "id": "40a44e4c",
   "metadata": {},
   "outputs": [],
   "source": [
    "#Reading the csv file\n",
    "turnout = pd.read_csv(\"turnout.csv\")"
   ]
  },
  {
   "cell_type": "code",
   "execution_count": 3,
   "id": "3be52dec",
   "metadata": {},
   "outputs": [
    {
     "name": "stdout",
     "output_type": "stream",
     "text": [
      "        id  age  educate  income  vote  white\n",
      "0        1   60     14.0  3.3458     1      1\n",
      "1        2   51     10.0  1.8561     0      1\n",
      "2        3   24     12.0  0.6304     0      1\n",
      "3        4   38      8.0  3.4183     1      1\n",
      "4        5   25     12.0  2.7852     1      1\n",
      "...    ...  ...      ...     ...   ...    ...\n",
      "1995  1996   26     16.0  3.3834     0      1\n",
      "1996  1997   34     12.0  2.9170     1      1\n",
      "1997  1998   51     16.0  7.8949     1      1\n",
      "1998  1999   22     10.0  2.4811     0      1\n",
      "1999  2000   59     10.0  0.5523     0      1\n",
      "\n",
      "[2000 rows x 6 columns]\n"
     ]
    }
   ],
   "source": [
    "#Viewing the data\n",
    "print(turnout)"
   ]
  },
  {
   "cell_type": "code",
   "execution_count": 4,
   "id": "7b4316bc",
   "metadata": {},
   "outputs": [
    {
     "name": "stdout",
     "output_type": "stream",
     "text": [
      "Training Data: 1600 \n",
      "Test Data: 400\n"
     ]
    },
    {
     "data": {
      "text/html": [
       "<div>\n",
       "<style scoped>\n",
       "    .dataframe tbody tr th:only-of-type {\n",
       "        vertical-align: middle;\n",
       "    }\n",
       "\n",
       "    .dataframe tbody tr th {\n",
       "        vertical-align: top;\n",
       "    }\n",
       "\n",
       "    .dataframe thead th {\n",
       "        text-align: right;\n",
       "    }\n",
       "</style>\n",
       "<table border=\"1\" class=\"dataframe\">\n",
       "  <thead>\n",
       "    <tr style=\"text-align: right;\">\n",
       "      <th></th>\n",
       "      <th>id</th>\n",
       "      <th>age</th>\n",
       "      <th>educate</th>\n",
       "      <th>income</th>\n",
       "      <th>vote</th>\n",
       "      <th>white</th>\n",
       "    </tr>\n",
       "  </thead>\n",
       "  <tbody>\n",
       "    <tr>\n",
       "      <th>0</th>\n",
       "      <td>941</td>\n",
       "      <td>38</td>\n",
       "      <td>14.0</td>\n",
       "      <td>4.3348</td>\n",
       "      <td>1</td>\n",
       "      <td>1</td>\n",
       "    </tr>\n",
       "    <tr>\n",
       "      <th>1</th>\n",
       "      <td>1811</td>\n",
       "      <td>31</td>\n",
       "      <td>11.0</td>\n",
       "      <td>2.7068</td>\n",
       "      <td>0</td>\n",
       "      <td>1</td>\n",
       "    </tr>\n",
       "    <tr>\n",
       "      <th>2</th>\n",
       "      <td>1426</td>\n",
       "      <td>86</td>\n",
       "      <td>9.0</td>\n",
       "      <td>0.4118</td>\n",
       "      <td>0</td>\n",
       "      <td>1</td>\n",
       "    </tr>\n",
       "    <tr>\n",
       "      <th>3</th>\n",
       "      <td>1879</td>\n",
       "      <td>48</td>\n",
       "      <td>6.0</td>\n",
       "      <td>0.5523</td>\n",
       "      <td>0</td>\n",
       "      <td>0</td>\n",
       "    </tr>\n",
       "    <tr>\n",
       "      <th>4</th>\n",
       "      <td>532</td>\n",
       "      <td>51</td>\n",
       "      <td>10.0</td>\n",
       "      <td>3.3834</td>\n",
       "      <td>0</td>\n",
       "      <td>1</td>\n",
       "    </tr>\n",
       "  </tbody>\n",
       "</table>\n",
       "</div>"
      ],
      "text/plain": [
       "     id  age  educate  income  vote  white\n",
       "0   941   38     14.0  4.3348     1      1\n",
       "1  1811   31     11.0  2.7068     0      1\n",
       "2  1426   86      9.0  0.4118     0      1\n",
       "3  1879   48      6.0  0.5523     0      0\n",
       "4   532   51     10.0  3.3834     0      1"
      ]
     },
     "execution_count": 4,
     "metadata": {},
     "output_type": "execute_result"
    }
   ],
   "source": [
    "#Splitting the data into training and testing data in a 80:20 ratio. \n",
    "train = turnout.sample(frac=.8).reset_index(drop=True)\n",
    "test = turnout.drop(train.index).reset_index(drop=True)\n",
    "\n",
    "# Print off the split count \n",
    "print(\"Training Data:\",train.shape[0],\n",
    "      \"\\nTest Data:\",test.shape[0])\n",
    "\n",
    "# Look at the head of the training data\n",
    "train.head()"
   ]
  },
  {
   "cell_type": "markdown",
   "id": "9325fd06",
   "metadata": {},
   "source": [
    "The formula for Naive Bayes Classification is as follows:\n",
    "<br><br>\n",
    "\n",
    "$$Pr(class | data) = Pr( x_1| class)\\times Pr( x_2| class) \\times \\dots \\times  Pr(class)$$\n",
    "\n",
    "<br><br>\n",
    "\n",
    "Hence, the following steps are followed to classify each individual respondent in the  data: \n",
    "1. Calculate the class probability. \n",
    "2. Calculate the conditional probabilities of the discrete variables in the data. \n",
    "3. Calculate the conditional probabilities of the continous variables in the data. \n",
    "4. Obtain the product of the aforementioned probabilities for a respondent. \n",
    "5. Obtain the product of the value in the previous step with each class probability. \n",
    "6. An individual respondent is assigned the class with which it has higher probability (higher product value). "
   ]
  },
  {
   "cell_type": "markdown",
   "id": "aefe71bf",
   "metadata": {},
   "source": [
    "#### 1.  Calculate the class probability "
   ]
  },
  {
   "cell_type": "code",
   "execution_count": 5,
   "id": "628351a0",
   "metadata": {},
   "outputs": [],
   "source": [
    "# Subset the data by class \n",
    "vote1 = train.query(\"vote == 1\")\n",
    "vote0 = train.query(\"vote == 0\")"
   ]
  },
  {
   "cell_type": "code",
   "execution_count": 6,
   "id": "3119b68d",
   "metadata": {},
   "outputs": [
    {
     "name": "stdout",
     "output_type": "stream",
     "text": [
      "Vote = 1 :  0.745625 \n",
      "Vote = 0 :  0.254375\n"
     ]
    }
   ],
   "source": [
    "# Class probabilities.\n",
    "pr_vote1 = vote1.shape[0]/train.shape[0]\n",
    "pr_vote0 = vote0.shape[0]/train.shape[0]\n",
    "\n",
    "#Printing the results\n",
    "print(\"Vote = 1 : \", pr_vote1, \"\\nVote = 0 : \", pr_vote0)"
   ]
  },
  {
   "cell_type": "markdown",
   "id": "6107c91b",
   "metadata": {},
   "source": [
    "#### 2. Calculate the conditional probabilities of the discrete variables in the data.\n",
    "\n",
    "As we have only one discrete input variable, *white*, its conditional probability is calculated."
   ]
  },
  {
   "cell_type": "code",
   "execution_count": 7,
   "id": "0b0a3921",
   "metadata": {},
   "outputs": [
    {
     "name": "stdout",
     "output_type": "stream",
     "text": [
      "\n",
      "Pr(white = 1 |vote = 0): 0.7665847665847666\n",
      "Pr(white = 0 |vote = 0): 0.2334152334152334\n",
      "Pr(white = 1 |vote = 1): 0.8801341156747695\n",
      "Pr(white = 0 |vote = 1): 0.11986588432523052\n",
      "\n"
     ]
    }
   ],
   "source": [
    "#Calculating the conditional probability for white\n",
    "\n",
    "#Given vote =0 \n",
    "white1_vote0 = vote0.query(\"white == 1\").shape[0]/vote0.shape[0]\n",
    "white0_vote0 = vote0.query(\"white == 0\").shape[0]/vote0.shape[0]\n",
    "\n",
    "#Given vote =1\n",
    "white1_vote1 = vote1.query(\"white == 1\").shape[0]/vote1.shape[0]\n",
    "white0_vote1 = vote1.query(\"white == 0\").shape[0]/vote1.shape[0]\n",
    "\n",
    "\n",
    "#Printing the results\n",
    "print(\n",
    "f\"\"\"\n",
    "Pr(white = 1 |vote = 0): {white1_vote0}\n",
    "Pr(white = 0 |vote = 0): {white0_vote0}\n",
    "Pr(white = 1 |vote = 1): {white1_vote1}\n",
    "Pr(white = 0 |vote = 1): {white0_vote1}\n",
    "\"\"\")"
   ]
  },
  {
   "cell_type": "markdown",
   "id": "756c2f77",
   "metadata": {},
   "source": [
    "#### 3. Calculate the conditional probabilities of the continous variables in the data.\n",
    "\n",
    "We have three continous variables, *age, educate* and *income*. "
   ]
  },
  {
   "cell_type": "code",
   "execution_count": 8,
   "id": "87d3c4db",
   "metadata": {},
   "outputs": [
    {
     "name": "stdout",
     "output_type": "stream",
     "text": [
      "{('age', 0): {'mean': 43.729729729729726, 'sd': 19.46933108461713},\n",
      " ('age', 1): {'mean': 46.24140821458508, 'sd': 16.935885672695832},\n",
      " ('educate', 0): {'mean': 10.61916461916462, 'sd': 3.2933245349552562},\n",
      " ('educate', 1): {'mean': 12.45222129086337, 'sd': 3.264266135083623},\n",
      " ('income', 0): {'mean': 2.7325761670761706, 'sd': 2.2187345798361373},\n",
      " ('income', 1): {'mean': 4.242505280804694, 'sd': 2.9278864215557983}}\n"
     ]
    }
   ],
   "source": [
    "#Obtaining the mean and standard dev. of each conditional distribution\n",
    "#This is a dictionary whose values contain the values required to calculate the conditional probabilities of each variable. \n",
    "dist_locs = \\\n",
    "{(\"age\",1):{'mean':vote1.age.mean(),'sd':vote1.age.std()},\n",
    " (\"age\",0):{'mean':vote0.age.mean(),'sd':vote0.age.std()},\n",
    " (\"educate\",1):{'mean':vote1.educate.mean(),'sd':vote1.educate.std()},\n",
    " (\"educate\",0):{'mean':vote0.educate.mean(),'sd':vote0.educate.std()},\n",
    " (\"income\",1):{'mean':vote1.income.mean(),'sd':vote1.income.std()},\n",
    " (\"income\",0):{'mean':vote0.income.mean(),'sd':vote0.income.std()},\n",
    "}\n",
    "\n",
    "# Print\n",
    "pp.pprint(dist_locs)"
   ]
  },
  {
   "cell_type": "code",
   "execution_count": 9,
   "id": "0fd9b2f1",
   "metadata": {},
   "outputs": [],
   "source": [
    "def predict(data,dist_locs):\n",
    "    '''\n",
    "    In the predict function, steps 3 -6 are carried out. The conditional probabilities of the continous variables are \n",
    "    multiplied with the conditional probability of the discrete variable for each individual respondent. Then, this is \n",
    "    multiplied with each class probability. The class associated with the higher probability is assigned to each respondent. \n",
    "    -------------------------------------------------------------------------------------------------------------------------\n",
    "    Arguments: \n",
    "    data -> the data we need to work on. \n",
    "    dist_locs -> the dictionary that contains the required values for calculating conditional probabilites of continous\n",
    "    variables\n",
    "    -------------------------------------------------------------------------------------------------------------------------\n",
    "    Return Value: \n",
    "    A dataframe, that contains the predicted class for each respondent. \n",
    "    ------------------------------------------------------------------------------------------------------------------------\n",
    "    '''\n",
    "    \n",
    "    #An empty list that will be used to store data in the function\n",
    "    store_preds = []\n",
    "    \n",
    "    #Iterating through the data\n",
    "    for i,row in data.iterrows():\n",
    "        \n",
    "        \n",
    "        #Initialising the probabilites to 1. \n",
    "        pr_0 = 1; pr_1 = 1\n",
    "        \n",
    "        \n",
    "        # Get the conditional probabilites for continous variables using a Gaussan distribution\n",
    "        for j in range(1,4): #Iterating through the required columns \n",
    "            \n",
    "            pr_0 *= st.norm(dist_locs[(row.index[j],0)]['mean'],\n",
    "                            dist_locs[(row.index[j],0)]['sd']).pdf(row.values[j])\n",
    "            pr_1 *= st.norm(dist_locs[(row.index[j],1)]['mean'], \n",
    "                            dist_locs[(row.index[j],1)]['sd']).pdf(row.values[j])\n",
    "            \n",
    "        \n",
    "        #We are checking for the value of the discrete variable for each individual respondent, and then multiplying the \n",
    "        #appropriate discrete conditional probability\n",
    "        if(row[\"white\"]==0):\n",
    "            pr_0*=white0_vote0\n",
    "        else:\n",
    "            pr_0*=white1_vote0\n",
    "    \n",
    "            \n",
    "        if(row[\"white\"]==0):\n",
    "            pr_1*=white0_vote1\n",
    "        else:\n",
    "            pr_1*=white1_vote1\n",
    "            \n",
    "        \n",
    "        #Multiplying with the class probability \n",
    "        pr_0 *= pr_vote0\n",
    "        pr_1 *= pr_vote1\n",
    "        \n",
    "        \n",
    "        \n",
    "        # Assign the class designation to the highest probability\n",
    "        if pr_0 >= pr_1:\n",
    "            class_pred = 0\n",
    "        else:\n",
    "            class_pred = 1\n",
    "            \n",
    "        store_preds.append([pr_0,pr_1,class_pred])\n",
    "        \n",
    "    return pd.DataFrame(store_preds,columns=[\"pr_0\",\"pr_1\",\"Final_Prediction\"])"
   ]
  },
  {
   "cell_type": "code",
   "execution_count": 10,
   "id": "238b3afb",
   "metadata": {},
   "outputs": [],
   "source": [
    "# Run the function for training data\n",
    "pred_train = predict(train, dist_locs)"
   ]
  },
  {
   "cell_type": "code",
   "execution_count": 11,
   "id": "58a85c87",
   "metadata": {},
   "outputs": [
    {
     "data": {
      "text/html": [
       "<div>\n",
       "<style scoped>\n",
       "    .dataframe tbody tr th:only-of-type {\n",
       "        vertical-align: middle;\n",
       "    }\n",
       "\n",
       "    .dataframe tbody tr th {\n",
       "        vertical-align: top;\n",
       "    }\n",
       "\n",
       "    .dataframe thead th {\n",
       "        text-align: right;\n",
       "    }\n",
       "</style>\n",
       "<table border=\"1\" class=\"dataframe\">\n",
       "  <thead>\n",
       "    <tr style=\"text-align: right;\">\n",
       "      <th></th>\n",
       "      <th>pr_0</th>\n",
       "      <th>pr_1</th>\n",
       "      <th>Final_Prediction</th>\n",
       "    </tr>\n",
       "  </thead>\n",
       "  <tbody>\n",
       "    <tr>\n",
       "      <th>0</th>\n",
       "      <td>0.000038</td>\n",
       "      <td>0.000204</td>\n",
       "      <td>1</td>\n",
       "    </tr>\n",
       "    <tr>\n",
       "      <th>1</th>\n",
       "      <td>0.000070</td>\n",
       "      <td>0.000136</td>\n",
       "      <td>1</td>\n",
       "    </tr>\n",
       "    <tr>\n",
       "      <th>2</th>\n",
       "      <td>0.000004</td>\n",
       "      <td>0.000004</td>\n",
       "      <td>0</td>\n",
       "    </tr>\n",
       "    <tr>\n",
       "      <th>3</th>\n",
       "      <td>0.000006</td>\n",
       "      <td>0.000002</td>\n",
       "      <td>0</td>\n",
       "    </tr>\n",
       "    <tr>\n",
       "      <th>4</th>\n",
       "      <td>0.000076</td>\n",
       "      <td>0.000179</td>\n",
       "      <td>1</td>\n",
       "    </tr>\n",
       "    <tr>\n",
       "      <th>5</th>\n",
       "      <td>0.000003</td>\n",
       "      <td>0.000026</td>\n",
       "      <td>1</td>\n",
       "    </tr>\n",
       "    <tr>\n",
       "      <th>6</th>\n",
       "      <td>0.000003</td>\n",
       "      <td>0.000005</td>\n",
       "      <td>1</td>\n",
       "    </tr>\n",
       "    <tr>\n",
       "      <th>7</th>\n",
       "      <td>0.000030</td>\n",
       "      <td>0.000137</td>\n",
       "      <td>1</td>\n",
       "    </tr>\n",
       "    <tr>\n",
       "      <th>8</th>\n",
       "      <td>0.000028</td>\n",
       "      <td>0.000060</td>\n",
       "      <td>1</td>\n",
       "    </tr>\n",
       "    <tr>\n",
       "      <th>9</th>\n",
       "      <td>0.000055</td>\n",
       "      <td>0.000067</td>\n",
       "      <td>1</td>\n",
       "    </tr>\n",
       "    <tr>\n",
       "      <th>10</th>\n",
       "      <td>0.000013</td>\n",
       "      <td>0.000054</td>\n",
       "      <td>1</td>\n",
       "    </tr>\n",
       "    <tr>\n",
       "      <th>11</th>\n",
       "      <td>0.000061</td>\n",
       "      <td>0.000233</td>\n",
       "      <td>1</td>\n",
       "    </tr>\n",
       "    <tr>\n",
       "      <th>12</th>\n",
       "      <td>0.000053</td>\n",
       "      <td>0.000059</td>\n",
       "      <td>1</td>\n",
       "    </tr>\n",
       "    <tr>\n",
       "      <th>13</th>\n",
       "      <td>0.000039</td>\n",
       "      <td>0.000047</td>\n",
       "      <td>1</td>\n",
       "    </tr>\n",
       "    <tr>\n",
       "      <th>14</th>\n",
       "      <td>0.000030</td>\n",
       "      <td>0.000050</td>\n",
       "      <td>1</td>\n",
       "    </tr>\n",
       "  </tbody>\n",
       "</table>\n",
       "</div>"
      ],
      "text/plain": [
       "        pr_0      pr_1  Final_Prediction\n",
       "0   0.000038  0.000204                 1\n",
       "1   0.000070  0.000136                 1\n",
       "2   0.000004  0.000004                 0\n",
       "3   0.000006  0.000002                 0\n",
       "4   0.000076  0.000179                 1\n",
       "5   0.000003  0.000026                 1\n",
       "6   0.000003  0.000005                 1\n",
       "7   0.000030  0.000137                 1\n",
       "8   0.000028  0.000060                 1\n",
       "9   0.000055  0.000067                 1\n",
       "10  0.000013  0.000054                 1\n",
       "11  0.000061  0.000233                 1\n",
       "12  0.000053  0.000059                 1\n",
       "13  0.000039  0.000047                 1\n",
       "14  0.000030  0.000050                 1"
      ]
     },
     "execution_count": 11,
     "metadata": {},
     "output_type": "execute_result"
    }
   ],
   "source": [
    "#check the result\n",
    "pred_train.head(15)"
   ]
  },
  {
   "cell_type": "code",
   "execution_count": 12,
   "id": "626f00c3",
   "metadata": {},
   "outputs": [
    {
     "data": {
      "text/plain": [
       "0.74125"
      ]
     },
     "execution_count": 12,
     "metadata": {},
     "output_type": "execute_result"
    }
   ],
   "source": [
    "#Accuracy of Prediction for the training data\n",
    "accuracy_train = sum(train.vote == pred_train.Final_Prediction)/train.shape[0]\n",
    "accuracy_train"
   ]
  },
  {
   "cell_type": "code",
   "execution_count": 13,
   "id": "57e3f432",
   "metadata": {},
   "outputs": [],
   "source": [
    "#Run the function for test data\n",
    "pred_test = predict(test, dist_locs)"
   ]
  },
  {
   "cell_type": "code",
   "execution_count": 14,
   "id": "b7244eef",
   "metadata": {},
   "outputs": [
    {
     "data": {
      "text/html": [
       "<div>\n",
       "<style scoped>\n",
       "    .dataframe tbody tr th:only-of-type {\n",
       "        vertical-align: middle;\n",
       "    }\n",
       "\n",
       "    .dataframe tbody tr th {\n",
       "        vertical-align: top;\n",
       "    }\n",
       "\n",
       "    .dataframe thead th {\n",
       "        text-align: right;\n",
       "    }\n",
       "</style>\n",
       "<table border=\"1\" class=\"dataframe\">\n",
       "  <thead>\n",
       "    <tr style=\"text-align: right;\">\n",
       "      <th></th>\n",
       "      <th>pr_0</th>\n",
       "      <th>pr_1</th>\n",
       "      <th>Final_Prediction</th>\n",
       "    </tr>\n",
       "  </thead>\n",
       "  <tbody>\n",
       "    <tr>\n",
       "      <th>0</th>\n",
       "      <td>4.858402e-06</td>\n",
       "      <td>1.288538e-05</td>\n",
       "      <td>1</td>\n",
       "    </tr>\n",
       "    <tr>\n",
       "      <th>1</th>\n",
       "      <td>1.904413e-05</td>\n",
       "      <td>1.823770e-04</td>\n",
       "      <td>1</td>\n",
       "    </tr>\n",
       "    <tr>\n",
       "      <th>2</th>\n",
       "      <td>3.036557e-05</td>\n",
       "      <td>6.995595e-05</td>\n",
       "      <td>1</td>\n",
       "    </tr>\n",
       "    <tr>\n",
       "      <th>3</th>\n",
       "      <td>6.738822e-05</td>\n",
       "      <td>1.880787e-04</td>\n",
       "      <td>1</td>\n",
       "    </tr>\n",
       "    <tr>\n",
       "      <th>4</th>\n",
       "      <td>1.445936e-06</td>\n",
       "      <td>4.353968e-05</td>\n",
       "      <td>1</td>\n",
       "    </tr>\n",
       "    <tr>\n",
       "      <th>5</th>\n",
       "      <td>4.649896e-05</td>\n",
       "      <td>8.456979e-05</td>\n",
       "      <td>1</td>\n",
       "    </tr>\n",
       "    <tr>\n",
       "      <th>6</th>\n",
       "      <td>9.757092e-08</td>\n",
       "      <td>1.388731e-08</td>\n",
       "      <td>0</td>\n",
       "    </tr>\n",
       "    <tr>\n",
       "      <th>7</th>\n",
       "      <td>4.385315e-05</td>\n",
       "      <td>7.626277e-05</td>\n",
       "      <td>1</td>\n",
       "    </tr>\n",
       "    <tr>\n",
       "      <th>8</th>\n",
       "      <td>1.051163e-05</td>\n",
       "      <td>7.446327e-06</td>\n",
       "      <td>0</td>\n",
       "    </tr>\n",
       "    <tr>\n",
       "      <th>9</th>\n",
       "      <td>3.089978e-05</td>\n",
       "      <td>1.071054e-04</td>\n",
       "      <td>1</td>\n",
       "    </tr>\n",
       "    <tr>\n",
       "      <th>10</th>\n",
       "      <td>4.267921e-05</td>\n",
       "      <td>1.832819e-04</td>\n",
       "      <td>1</td>\n",
       "    </tr>\n",
       "    <tr>\n",
       "      <th>11</th>\n",
       "      <td>2.077144e-05</td>\n",
       "      <td>1.172524e-04</td>\n",
       "      <td>1</td>\n",
       "    </tr>\n",
       "    <tr>\n",
       "      <th>12</th>\n",
       "      <td>7.873683e-05</td>\n",
       "      <td>2.067437e-04</td>\n",
       "      <td>1</td>\n",
       "    </tr>\n",
       "    <tr>\n",
       "      <th>13</th>\n",
       "      <td>3.426320e-05</td>\n",
       "      <td>1.467417e-04</td>\n",
       "      <td>1</td>\n",
       "    </tr>\n",
       "    <tr>\n",
       "      <th>14</th>\n",
       "      <td>7.910465e-05</td>\n",
       "      <td>1.599664e-04</td>\n",
       "      <td>1</td>\n",
       "    </tr>\n",
       "  </tbody>\n",
       "</table>\n",
       "</div>"
      ],
      "text/plain": [
       "            pr_0          pr_1  Final_Prediction\n",
       "0   4.858402e-06  1.288538e-05                 1\n",
       "1   1.904413e-05  1.823770e-04                 1\n",
       "2   3.036557e-05  6.995595e-05                 1\n",
       "3   6.738822e-05  1.880787e-04                 1\n",
       "4   1.445936e-06  4.353968e-05                 1\n",
       "5   4.649896e-05  8.456979e-05                 1\n",
       "6   9.757092e-08  1.388731e-08                 0\n",
       "7   4.385315e-05  7.626277e-05                 1\n",
       "8   1.051163e-05  7.446327e-06                 0\n",
       "9   3.089978e-05  1.071054e-04                 1\n",
       "10  4.267921e-05  1.832819e-04                 1\n",
       "11  2.077144e-05  1.172524e-04                 1\n",
       "12  7.873683e-05  2.067437e-04                 1\n",
       "13  3.426320e-05  1.467417e-04                 1\n",
       "14  7.910465e-05  1.599664e-04                 1"
      ]
     },
     "execution_count": 14,
     "metadata": {},
     "output_type": "execute_result"
    }
   ],
   "source": [
    "pred_test.head(15)"
   ]
  },
  {
   "cell_type": "code",
   "execution_count": 15,
   "id": "ede45cdb",
   "metadata": {},
   "outputs": [
    {
     "data": {
      "text/plain": [
       "0.7125"
      ]
     },
     "execution_count": 15,
     "metadata": {},
     "output_type": "execute_result"
    }
   ],
   "source": [
    "#Accuracy of Prediction for the test data\n",
    "accuracy_test = sum(test.vote == pred_test.Final_Prediction)/test.shape[0]\n",
    "accuracy_test"
   ]
  },
  {
   "cell_type": "markdown",
   "id": "75fc7773",
   "metadata": {},
   "source": [
    "From the above results, we know that the predictions on our training data has an accuracy of 74.125%. This is higher than the accuracy of predictions on the test data, which is 71%. Both these predictions perform better than chance/coin flip, which would have an accuracy of about 50%. "
   ]
  }
 ],
 "metadata": {
  "kernelspec": {
   "display_name": "Python 3",
   "language": "python",
   "name": "python3"
  },
  "language_info": {
   "codemirror_mode": {
    "name": "ipython",
    "version": 3
   },
   "file_extension": ".py",
   "mimetype": "text/x-python",
   "name": "python",
   "nbconvert_exporter": "python",
   "pygments_lexer": "ipython3",
   "version": "3.8.8"
  }
 },
 "nbformat": 4,
 "nbformat_minor": 5
}
