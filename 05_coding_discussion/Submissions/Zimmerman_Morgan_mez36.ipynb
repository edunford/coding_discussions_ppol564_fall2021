{
 "cells": [
  {
   "cell_type": "markdown",
   "id": "100f954f",
   "metadata": {},
   "source": [
    "# Coding Discussion #5"
   ]
  },
  {
   "cell_type": "code",
   "execution_count": 21,
   "id": "010b53ff",
   "metadata": {},
   "outputs": [],
   "source": [
    "import pandas as pd\n",
    "import numpy as np\n",
    "import pprint as pp # for printing\n",
    "import scipy.stats as st # for Normal PDF\n",
    "\n",
    "# Plotting libraries \n",
    "import matplotlib.pyplot as plt\n",
    "import seaborn as sns\n",
    "from plotnine import *\n",
    "\n",
    "# Silence warnings \n",
    "import warnings\n",
    "warnings.filterwarnings(\"ignore\")"
   ]
  },
  {
   "cell_type": "code",
   "execution_count": 102,
   "id": "99701902",
   "metadata": {},
   "outputs": [
    {
     "name": "stdout",
     "output_type": "stream",
     "text": [
      "Training Data: 1600 \n",
      "Test Data: 400\n",
      "     id  age  educate  income  vote  white\n",
      "1   935   72      3.0  0.6765     1      0\n",
      "2  1034   64     10.0  1.3131     1      1\n",
      "3   244   80      8.0  1.1839     1      1\n",
      "4   929   19     14.0  2.9072     1      1\n",
      "5  1599   72      4.0  0.5813     0      1\n",
      "6  1838   23     12.0  2.1319     1      1\n",
      "7  1710   23     16.0  3.2949     1      1\n",
      "8  1431   52      8.0  5.1229     1      1\n",
      "9   184   28     14.0  4.0702     1      1\n"
     ]
    }
   ],
   "source": [
    "# Set seed\n",
    "np.random.seed(1234)\n",
    "\n",
    "# read in data\n",
    "data = pd.read_csv(\"/Users/morganzimmerman/Desktop/GitHub/coding_discussions_ppol564_fall2021/05_coding_discussion/turnout.csv\")\n",
    "\n",
    "# Train-Test split (just using Pandas)\n",
    "# Break the data up into a training (1600 entries, 80%) and test dataset (400 entries, 20%)\n",
    "train = data.sample(frac=.8).reset_index(drop=True)\n",
    "test = data.drop(train.index).reset_index(drop=True)\n",
    "\n",
    "# Print off the split count to verify split\n",
    "# Goal: 1600 entries in training dataset, 400 entries in test dataset\n",
    "print(\"Training Data:\",train.shape[0],\n",
    "      \"\\nTest Data:\",test.shape[0])\n",
    "\n",
    "# Preview the top of the data\n",
    "# train.head()\n",
    "print(train[1:10])"
   ]
  },
  {
   "cell_type": "markdown",
   "id": "cd81dfb2",
   "metadata": {},
   "source": [
    "### Calculate Class Probabilities: $Pr(class)$"
   ]
  },
  {
   "cell_type": "markdown",
   "id": "09fab0f8",
   "metadata": {},
   "source": [
    "First, I calculate class probabilities. In other words, what is the probability that an individual will vote and what is the probability that an individual won't vote?"
   ]
  },
  {
   "cell_type": "code",
   "execution_count": 81,
   "id": "d2156dd0",
   "metadata": {},
   "outputs": [
    {
     "name": "stdout",
     "output_type": "stream",
     "text": [
      "\n",
      "Pr(vote = 1): 0.7425\n",
      "Pr(vote = 0): 0.2575\n",
      "\n"
     ]
    }
   ],
   "source": [
    "N = train.shape[0]\n",
    "\n",
    "# Subset the data by class\n",
    "v1 = train.query(\"vote == 1\")\n",
    "v0 = train.query(\"vote == 0\")\n",
    "\n",
    "# Calculate the probability for each class\n",
    "pr_v_1 = v1.shape[0]/N\n",
    "pr_v_0 = v0.shape[0]/N\n",
    "\n",
    "# Print the probabilities\n",
    "print(\n",
    "f\"\"\"\n",
    "Pr(vote = 1): {pr_v_1}\n",
    "Pr(vote = 0): {pr_v_0}\n",
    "\"\"\")"
   ]
  },
  {
   "cell_type": "markdown",
   "id": "987670b4",
   "metadata": {},
   "source": [
    "The probability that an individual votes is 74.2% and the probability that an individual will not vote is 25.8%. This indicates that an individual is roughly 3x more likely to have voted, than to not have voted."
   ]
  },
  {
   "cell_type": "markdown",
   "id": "ca88b16f",
   "metadata": {},
   "source": [
    "### Calculate Conditional Probabilities: $Pr(data | class)$"
   ]
  },
  {
   "cell_type": "markdown",
   "id": "a5388056",
   "metadata": {},
   "source": [
    "*Pr(class|data) = Pr(x1|class) × Pr(x2|class) x ⋯ × Pr(class)*"
   ]
  },
  {
   "cell_type": "code",
   "execution_count": 88,
   "id": "878d22be",
   "metadata": {},
   "outputs": [
    {
     "name": "stdout",
     "output_type": "stream",
     "text": [
      "\n",
      "Pr(white = 0 |vote = 0): 0.2015\n",
      "Pr(white = 1 |vote = 0): 0.7985\n",
      "Pr(white = 0 |vote = 1): 0.1313\n",
      "Pr(white = 1 |vote = 1): 0.8687\n",
      "\n"
     ]
    }
   ],
   "source": [
    "# Given v == 0\n",
    "w0_v0 = v0.query(\"white == 0\").shape[0]/v0.shape[0]\n",
    "w1_v0 = v0.query(\"white == 1\").shape[0]/v0.shape[0]\n",
    "\n",
    "# Given v == 1\n",
    "w0_v1 = v1.query(\"white == 0\").shape[0]/v1.shape[0]\n",
    "w1_v1 = v1.query(\"white == 1\").shape[0]/v1.shape[0]\n",
    "\n",
    "# Print the probabilities\n",
    "print(\n",
    "f\"\"\"\n",
    "Pr(white = 0 |vote = 0): {round(w0_v0,4)}\n",
    "Pr(white = 1 |vote = 0): {round(w1_v0,4)}\n",
    "Pr(white = 0 |vote = 1): {round(w0_v1,4)}\n",
    "Pr(white = 1 |vote = 1): {round(w1_v1,4)}\n",
    "\"\"\")"
   ]
  },
  {
   "cell_type": "markdown",
   "id": "07e4e958",
   "metadata": {},
   "source": [
    "To avoid doing the above manual calculations, I define the function calc_probs below after dropping non-binary variables from the datasets. "
   ]
  },
  {
   "cell_type": "code",
   "execution_count": 92,
   "id": "81ac19bf",
   "metadata": {},
   "outputs": [],
   "source": [
    "# Drop unneeded columns from datasets\n",
    "train1 = train.drop(columns = ['id', 'age', 'educate', 'income'])\n",
    "test1 = test.drop(columns = ['id', 'age', 'educate', 'income'])"
   ]
  },
  {
   "cell_type": "code",
   "execution_count": 93,
   "id": "8a3937af",
   "metadata": {},
   "outputs": [
    {
     "name": "stdout",
     "output_type": "stream",
     "text": [
      "class probabilities -- reported as {class value: class probability}\n",
      "\n",
      "{0: 0.2575, 1: 0.7425}\n",
      "\n",
      "\n",
      "conditional probabilities -- reported as {(variable, its value, conditional class value): probability}\n",
      "\n",
      "{('white', 0, 0): 0.7985,\n",
      " ('white', 0, 1): 0.8687,\n",
      " ('white', 1, 0): 0.2015,\n",
      " ('white', 1, 1): 0.1313}\n"
     ]
    }
   ],
   "source": [
    "def calc_probs(data,outcome_var=\"\"):\n",
    "    '''\n",
    "    This function calculates class and conditional probabilities for binary data.\n",
    "    \n",
    "    Arguments\n",
    "    ---------\n",
    "    data: dataset to be used for calculations\n",
    "    var: the outcome variable that's being conditioned on\n",
    "    \n",
    "    Return\n",
    "    ------\n",
    "    dictionary (with tuple keys): (variable, it's value, and the outcome that's being conditioned on)\n",
    "    '''\n",
    "    # Generate empty dictionary containers\n",
    "    class_probs = {};cond_probs = {}\n",
    "    \n",
    "    # Locate all variables that are not the outcome\n",
    "    vars = [v for v in data.columns if v != outcome_var]\n",
    "    \n",
    "    # Iterate through the class outcomes\n",
    "    for y, d in data.groupby(outcome_var): \n",
    "        \n",
    "        # Calculate the class probabilities\n",
    "        class_probs.update({y: d.shape[0]/data.shape[0]})\n",
    "        \n",
    "        # Calculate the conditional probabilities for each variable given the class\n",
    "        for v in vars:\n",
    "            pr = d[v].sum()/d.shape[0]\n",
    "            cond_probs[(v,0,y)] = round(pr,4)\n",
    "            cond_probs[(v,1,y)] = round(1 - pr,4)\n",
    "            \n",
    "    # Return calculated values\n",
    "    return class_probs, cond_probs\n",
    "\n",
    "\n",
    "# Run the function on the training dataset\n",
    "class_probs, cond_probs = calc_probs(train1,outcome_var=\"vote\")\n",
    "\n",
    "# Print results\n",
    "print(\"class probabilities -- reported as {class value: class probability}\",end=\"\\n\\n\")\n",
    "pp.pprint(class_probs)\n",
    "print(\"\\n\")\n",
    "print(\"conditional probabilities -- reported as {(variable, its value, conditional class value): probability}\",end=\"\\n\\n\")\n",
    "pp.pprint(cond_probs)"
   ]
  },
  {
   "cell_type": "markdown",
   "id": "3ddf5087",
   "metadata": {},
   "source": [
    "The results of the class probabilities indicate there's a 25.8% chance an individual won't vote, and a 74.2% chance that an individual will vote. For the conditional probabilities, given that an individual did not vote, there's a 79.9% chance that they are non-white and a 20.1% chance that they are white. Given that an individual did vote, there's a 86.9% chance that they are non-white and a 13.1% chance that they are white.\n",
    "\n",
    "These are equivalent results to the manually-calculated class probabilities from above."
   ]
  },
  {
   "cell_type": "markdown",
   "id": "9227c397",
   "metadata": {},
   "source": [
    "Now that the probabilities are conveniently stored as dictionaries, I build a prediction function that combs through the observations in the data, calculates probabilities, and makes a class prediction."
   ]
  },
  {
   "cell_type": "code",
   "execution_count": 95,
   "id": "27d81157",
   "metadata": {},
   "outputs": [
    {
     "name": "stdout",
     "output_type": "stream",
     "text": [
      "          pr_0     pr_1  pred\n",
      "0     0.051886  0.09749     1\n",
      "1     0.205614  0.64501     1\n",
      "2     0.051886  0.09749     1\n",
      "3     0.051886  0.09749     1\n",
      "4     0.051886  0.09749     1\n",
      "...        ...      ...   ...\n",
      "1595  0.051886  0.09749     1\n",
      "1596  0.205614  0.64501     1\n",
      "1597  0.051886  0.09749     1\n",
      "1598  0.051886  0.09749     1\n",
      "1599  0.051886  0.09749     1\n",
      "\n",
      "[1600 rows x 3 columns]\n"
     ]
    }
   ],
   "source": [
    "def predict(data,class_probs,cond_probs):\n",
    "    '''\n",
    "    This function calculates the conditional probability for membership into each class, \n",
    "    then returns both the probabilities and the most likely class. \n",
    "    \n",
    "    Arguments\n",
    "    ---------\n",
    "    data: dataset to be used for calculations\n",
    "    class_probs: tuple\n",
    "    cond_probs: tuple\n",
    "    \n",
    "    Return\n",
    "    ------\n",
    "    dataframe: pandas dataframe with conditional probabilities and a prediction of the most likely class\n",
    "    '''\n",
    "    \n",
    "    # Generate empty list to store predictions\n",
    "    store_preds = []\n",
    "    \n",
    "    # Iterate through data\n",
    "    for i,row in data.iterrows():\n",
    "        \n",
    "        # Set values\n",
    "        pr_1 = 1; pr_0 = 1\n",
    "        \n",
    "        # Calculate conditional probabilities\n",
    "        for j in range(1,len(row.index)):\n",
    "            pr_0 *= cond_probs[(row.index[j],row.values[j],0)]\n",
    "            pr_1 *= cond_probs[(row.index[j],row.values[j],1)]    \n",
    "            \n",
    "        # Calculate class probabilites\n",
    "        pr_0 *= class_probs[0]\n",
    "        pr_1 *= class_probs[1]\n",
    "        \n",
    "        # Store the predicitions in the list\n",
    "        store_preds.append([pr_0,pr_1,max([(pr_0,0),(pr_1,1)])[1]])\n",
    "    \n",
    "    # Return a dataframe of the results\n",
    "    return pd.DataFrame(store_preds,columns=[\"pr_0\",\"pr_1\",\"pred\"])\n",
    "\n",
    "# Run the function on the training dataset\n",
    "preds = predict(train1, class_probs, cond_probs)\n",
    "\n",
    "# Print results\n",
    "# preds.head()\n",
    "print(preds)"
   ]
  },
  {
   "cell_type": "markdown",
   "id": "992b8760",
   "metadata": {},
   "source": [
    "Next, I calculate predictive accuracy (i.e. how many correct predictions did I make)."
   ]
  },
  {
   "cell_type": "code",
   "execution_count": 28,
   "id": "7c1cec99",
   "metadata": {},
   "outputs": [
    {
     "data": {
      "text/plain": [
       "0.7425"
      ]
     },
     "execution_count": 28,
     "metadata": {},
     "output_type": "execute_result"
    }
   ],
   "source": [
    "# Calculate predictive accuracy of training dataset\n",
    "accuracy = sum(train.vote == preds.pred)/train.shape[0]\n",
    "accuracy"
   ]
  },
  {
   "cell_type": "markdown",
   "id": "bc551589",
   "metadata": {},
   "source": [
    "This value indicates that I have obtained a predictive accuracy of 74.2% on the training data."
   ]
  },
  {
   "cell_type": "markdown",
   "id": "f45e6642",
   "metadata": {},
   "source": [
    "Now, I calculate predictive accuracy after running the function on the test dataset."
   ]
  },
  {
   "cell_type": "code",
   "execution_count": 96,
   "id": "1ee0ad98",
   "metadata": {},
   "outputs": [
    {
     "data": {
      "text/plain": [
       "0.7"
      ]
     },
     "execution_count": 96,
     "metadata": {},
     "output_type": "execute_result"
    }
   ],
   "source": [
    "# Run the function on the test dataset\n",
    "test_preds = predict(test1, class_probs, cond_probs)\n",
    "\n",
    "# Calculate predictive accuracy of test dataset\n",
    "test_accuracy = sum(test1.vote == test_preds.pred)/test1.shape[0]\n",
    "test_accuracy"
   ]
  },
  {
   "cell_type": "markdown",
   "id": "eae5d93a",
   "metadata": {},
   "source": [
    "This indicates the model predicts accurately 70% of the time. Both of these models are able to predict with better accuracy than a coin flip (which has a 50% predictive accuracy)."
   ]
  },
  {
   "cell_type": "markdown",
   "id": "e6457288",
   "metadata": {},
   "source": [
    "### Naive Bayesian Classifier with Continuous Predictors\n",
    "\n",
    "The modelling strategy used above assumed that we had binary/discrete predictors (values 0 or 1), which is why white/non-white was the only predictor we were able to analyze. So, I first drop non-continuous variables from the training and test datasets, as well as rearrange and rename the columns."
   ]
  },
  {
   "cell_type": "code",
   "execution_count": 51,
   "id": "d4599f5b",
   "metadata": {},
   "outputs": [],
   "source": [
    "# Drop columns in train dataset to only include continuous variables as predictors\n",
    "train2 = train.drop(columns = ['id', 'white', 'age'])\n",
    "# Rearrange order of colunns\n",
    "train2 = train2[['vote', 'educate', 'income']]\n",
    "# Rename columns\n",
    "train2.columns = ['y', 'x1', 'x2']\n",
    "\n",
    "# Drop columns in test dataset to only include continuous variables as predictors\n",
    "test2 = test.drop(columns = ['id', 'white', 'age'])\n",
    "# Rearrange order of colunns\n",
    "test2 = test2[['vote', 'educate', 'income']]\n",
    "# Rename columns\n",
    "test2.columns = ['y', 'x1', 'x2']"
   ]
  },
  {
   "cell_type": "markdown",
   "id": "feb76023",
   "metadata": {},
   "source": [
    "For the continuous variables in this data, I first calculate the conditional mean and standard deviation for each value of the outcome and then calculate the predictions from there for any one of the continuous variables. "
   ]
  },
  {
   "cell_type": "markdown",
   "id": "3593f0b6",
   "metadata": {},
   "source": [
    "### Calculate Class Probabilities: $Pr(class)$\n",
    "First, I calculate class probabilities on the train dataset."
   ]
  },
  {
   "cell_type": "code",
   "execution_count": 53,
   "id": "98d44aa7",
   "metadata": {},
   "outputs": [
    {
     "name": "stdout",
     "output_type": "stream",
     "text": [
      "\n",
      "Pr(vote = 1): 0.2575\n",
      "Pr(vote = 0): 0.7425\n",
      "\n"
     ]
    }
   ],
   "source": [
    "# Subset the data by class\n",
    "y0 = train2.query(\"y == 0\")\n",
    "y0 = pd.DataFrame(y0)\n",
    "y1 = train2.query(\"y == 1\")\n",
    "y1 = pd.DataFrame(y1)\n",
    "\n",
    "# Calculate the probability for each class\n",
    "pr_y0 = y0.shape[0]/train2.shape[0]\n",
    "pr_y1 = y1.shape[0]/train2.shape[0]\n",
    "\n",
    "# Print the probabilities\n",
    "print(\n",
    "f\"\"\"\n",
    "Pr(vote = 1): {pr_y0}\n",
    "Pr(vote = 0): {pr_y1}\n",
    "\"\"\")"
   ]
  },
  {
   "cell_type": "markdown",
   "id": "c184ad34",
   "metadata": {},
   "source": [
    "### Calculate Conditional Means/Standard Deviations"
   ]
  },
  {
   "cell_type": "markdown",
   "id": "bb42b523",
   "metadata": {},
   "source": [
    "Now, I calculate means and standard deviations for the dataset, and plot normal distributions (explained below)."
   ]
  },
  {
   "cell_type": "code",
   "execution_count": 97,
   "id": "317b0ad6",
   "metadata": {},
   "outputs": [
    {
     "name": "stdout",
     "output_type": "stream",
     "text": [
      "{('x1', 0): {'mean': 10.62864077669903, 'sd': 3.3043810919835317},\n",
      " ('x1', 1): {'mean': 12.558922558922559, 'sd': 3.2957141274443202},\n",
      " ('x2', 0): {'mean': 2.738161893203883, 'sd': 2.242991372933763},\n",
      " ('x2', 1): {'mean': 4.229461952861953, 'sd': 2.848208991067699}}\n"
     ]
    },
    {
     "data": {
      "text/plain": [
       "dict"
      ]
     },
     "execution_count": 97,
     "metadata": {},
     "output_type": "execute_result"
    }
   ],
   "source": [
    "# Calculate means and standard deviations for the distributions\n",
    "dist_locs = \\\n",
    "{(\"x1\",1):{'mean':y1.x1.mean(),'sd':y1.x1.std()},\n",
    " (\"x1\",0):{'mean':y0.x1.mean(),'sd':y0.x1.std()},\n",
    " (\"x2\",1):{'mean':y1.x2.mean(),'sd':y1.x2.std()},\n",
    " (\"x2\",0):{'mean':y0.x2.mean(),'sd':y0.x2.std()}\n",
    "}\n",
    "\n",
    "# Print results\n",
    "pp.pprint(dist_locs)"
   ]
  },
  {
   "cell_type": "markdown",
   "id": "9d91a434",
   "metadata": {},
   "source": [
    "To view what these different conditional distributions look like, I use seaborn as a way to map a continuous variables into a probability space. The probability density function for the Gaussian (normal) distribution is used to convert continuous values into probabilities. As a reference, I plot the normal distribution below."
   ]
  },
  {
   "cell_type": "code",
   "execution_count": 72,
   "id": "ec2f327f",
   "metadata": {},
   "outputs": [
    {
     "data": {
      "text/plain": [
       "0.09565679616352402"
      ]
     },
     "execution_count": 72,
     "metadata": {},
     "output_type": "execute_result"
    }
   ],
   "source": [
    "st.norm(0, 1).pdf(-1.69) # using the scipy.stats module"
   ]
  },
  {
   "cell_type": "code",
   "execution_count": 73,
   "id": "32f59512",
   "metadata": {},
   "outputs": [
    {
     "data": {
      "image/png": "[encoded data removed]",
      "text/plain": [
       "<Figure size 1000x400 with 1 Axes>"
      ]
     },
     "metadata": {
      "needs_background": "light"
     },
     "output_type": "display_data"
    },
    {
     "data": {
      "text/plain": [
       "<ggplot: (8782445638391)>"
      ]
     },
     "execution_count": 73,
     "metadata": {},
     "output_type": "execute_result"
    }
   ],
   "source": [
    "# Calculate the CDF for values in-between the interval of -5 and 5\n",
    "d = pd.DataFrame([[i,st.norm(0, 1).pdf(i)] for i in np.linspace(-5,5)],\n",
    "                columns= [\"x\",\"y\"])\n",
    "\n",
    "# Plot (with plotnine/ggplot2)\n",
    "(\n",
    "    ggplot(d,aes(\"x\",\"y\")) +\n",
    "    geom_line(color=\"darkred\",size=1) +\n",
    "    labs(title=\"PDF Normal Distribution\\n(mean = 0, Variance = 1)\",\n",
    "         x = \"X\",y = \"Probability\") +\n",
    "    theme_minimal() +\n",
    "    theme(figure_size=(10,4))\n",
    ")"
   ]
  },
  {
   "cell_type": "markdown",
   "id": "f5cc933c",
   "metadata": {},
   "source": [
    "Now, I plot the probability distributions for the continuous variables in our turnout dataset."
   ]
  },
  {
   "cell_type": "code",
   "execution_count": 56,
   "id": "5111759c",
   "metadata": {},
   "outputs": [
    {
     "data": {
      "image/png": "[encoded data removed]",
      "text/plain": [
       "<Figure size 1500x600 with 1 Axes>"
      ]
     },
     "metadata": {
      "needs_background": "light"
     },
     "output_type": "display_data"
    }
   ],
   "source": [
    "# Plot with seaborn\n",
    "plt.figure(figsize=(10,4),dpi=150)\n",
    "for key in dist_locs.keys():\n",
    "    locs = dist_locs[key]\n",
    "    d = pd.DataFrame([[i,st.norm(locs['mean'], locs['sd']).pdf(i)] \n",
    "                      for i in np.linspace(-3,3)])\n",
    "    ax = sns.lineplot(d[0],d[1],label=f\"{key[0]} where y = {key[1]}\")"
   ]
  },
  {
   "cell_type": "markdown",
   "id": "e7feb930",
   "metadata": {},
   "source": [
    "### Predicting a Single Observation"
   ]
  },
  {
   "cell_type": "code",
   "execution_count": 61,
   "id": "4afed569",
   "metadata": {},
   "outputs": [
    {
     "name": "stdout",
     "output_type": "stream",
     "text": [
      "1.0 3.0 0.6765\n"
     ]
    }
   ],
   "source": [
    "y,x1,x2 = train2.iloc[1,:]\n",
    "print(y,x1,x2)"
   ]
  },
  {
   "cell_type": "code",
   "execution_count": 62,
   "id": "df2d3387",
   "metadata": {},
   "outputs": [
    {
     "name": "stdout",
     "output_type": "stream",
     "text": [
      "\n",
      "    Pr(y == 1| X): 8.617228592896249e-05\n",
      "    Pr(y == 0| X): 0.0002522684672991984\n",
      "\n"
     ]
    }
   ],
   "source": [
    "# Prediction for the 1 class\n",
    "a = st.norm(dist_locs[(\"x1\",1)]['mean'], dist_locs[(\"x1\",1)]['sd']).pdf(x1)\n",
    "b = st.norm(dist_locs[(\"x2\",1)]['mean'], dist_locs[(\"x2\",1)]['sd']).pdf(x2)\n",
    "c = pr_y1\n",
    "pr_1 = a * b * c\n",
    "\n",
    "# Prediction for the 0 class\n",
    "a = st.norm(dist_locs[(\"x1\",0)]['mean'], dist_locs[(\"x1\",0)]['sd']).pdf(x1)\n",
    "b = st.norm(dist_locs[(\"x2\",0)]['mean'], dist_locs[(\"x2\",0)]['sd']).pdf(x2)\n",
    "c = pr_y0\n",
    "pr_0 = a * b * c\n",
    "\n",
    "# Print results\n",
    "print(\n",
    "f'''\n",
    "    Pr(y == 1| X): {pr_1}\n",
    "    Pr(y == 0| X): {pr_0}\n",
    "''')"
   ]
  },
  {
   "cell_type": "markdown",
   "id": "0e81b1ad",
   "metadata": {},
   "source": [
    "The probability when $y=1$ is given in scientific notation. The e-05 portion of that value lets us know that there will be 4 leading zeros to the right of the decimal point. When y is 0, we see 3 leading zeros. With that higher probability, we predict that $y=0$."
   ]
  },
  {
   "cell_type": "markdown",
   "id": "db4b7977",
   "metadata": {},
   "source": [
    "### Predicting Multiple Observations"
   ]
  },
  {
   "cell_type": "code",
   "execution_count": 103,
   "id": "3a4d9a7a",
   "metadata": {},
   "outputs": [
    {
     "name": "stdout",
     "output_type": "stream",
     "text": [
      "       pr_0      pr_1  pred\n",
      "1  0.000252  0.000086     0\n",
      "2  0.004438  0.005513     1\n",
      "3  0.003170  0.002730     0\n",
      "4  0.003276  0.010273     1\n",
      "5  0.000466  0.000190     0\n",
      "6  0.004891  0.009462     1\n",
      "7  0.001431  0.006917     1\n",
      "8  0.002290  0.004604     1\n",
      "9  0.002755  0.011423     1\n"
     ]
    }
   ],
   "source": [
    "def predict(data,dist_locs):\n",
    "    '''\n",
    "    This function predicts whether or not an individual with vote for all observations. \n",
    "    \n",
    "    Arguments\n",
    "    ---------\n",
    "    data: dataset to be used for calculations\n",
    "    dist_locs: dictionary of means and standard deviations for each observation\n",
    "    \n",
    "    Return\n",
    "    ------\n",
    "    dataframe: pandas dataframe with conditional probabilities and a prediction of the most likely class\n",
    "    '''\n",
    "    \n",
    "    # Generate empty list to store predictions\n",
    "    store_preds = []\n",
    "    \n",
    "    # Iterate through data\n",
    "    for i,row in data.iterrows():\n",
    "        \n",
    "        # Get the predictions using a Gaussan distribution\n",
    "        pr_0 = 1; pr_1 = 1\n",
    "        \n",
    "        # For each observation, calculate mean and standard deviation of the distribution\n",
    "        for j in range(1,len(row)):\n",
    "            pr_0 *= st.norm(dist_locs[(row.index[j],0)]['mean'],\n",
    "                            dist_locs[(row.index[j],0)]['sd']).pdf(row.values[j])\n",
    "            pr_1 *= st.norm(dist_locs[(row.index[j],1)]['mean'], \n",
    "                            dist_locs[(row.index[j],1)]['sd']).pdf(row.values[j])\n",
    "        pr_0 *= pr_y0\n",
    "        pr_1 *= pr_y1\n",
    "        \n",
    "        # Assign the class designation to the highest probability\n",
    "        if pr_0 >= pr_1:\n",
    "            class_pred = 0\n",
    "        else:\n",
    "            class_pred = 1\n",
    "        \n",
    "        # Store the predicitions in the list\n",
    "        store_preds.append([pr_0,pr_1,class_pred])\n",
    "    \n",
    "    # Return a dataframe of the results\n",
    "    return pd.DataFrame(store_preds,columns=[\"pr_0\",\"pr_1\",\"pred\"])\n",
    "\n",
    "# Run the function on the training dataset\n",
    "preds_train = predict(train2,dist_locs)\n",
    "\n",
    "# Preview predicted output\n",
    "# preds_train.head(10)\n",
    "print(preds_train[1:10])"
   ]
  },
  {
   "cell_type": "markdown",
   "id": "36b0517d",
   "metadata": {},
   "source": [
    "To examine the predictive accuracy of the training data:"
   ]
  },
  {
   "cell_type": "code",
   "execution_count": 71,
   "id": "94aa0176",
   "metadata": {},
   "outputs": [
    {
     "name": "stdout",
     "output_type": "stream",
     "text": [
      "0.73125\n"
     ]
    }
   ],
   "source": [
    "# Calculate the predictive accuracy of the training data\n",
    "accuracy_train = sum(train2.y == preds_train.pred)/train2.shape[0]\n",
    "accuracy_train"
   ]
  },
  {
   "cell_type": "markdown",
   "id": "01cc5e21",
   "metadata": {},
   "source": [
    "To examine the predictive accuracy of the test data:"
   ]
  },
  {
   "cell_type": "code",
   "execution_count": 70,
   "id": "9f09116c",
   "metadata": {},
   "outputs": [
    {
     "data": {
      "text/plain": [
       "0.7075"
      ]
     },
     "execution_count": 70,
     "metadata": {},
     "output_type": "execute_result"
    }
   ],
   "source": [
    "# Run the function on the test dataset\n",
    "preds_test = predict(test2,dist_locs)\n",
    "\n",
    "# Calculate the predictive accuracy of the test data\n",
    "accuracy_test = sum(test2.y == preds_test.pred)/test2.shape[0]\n",
    "accuracy_test"
   ]
  },
  {
   "cell_type": "markdown",
   "id": "2f7e368e",
   "metadata": {},
   "source": [
    "The training model is able to accurately predict whether or not someone votes 73.1% of the time, whereas the test model is able to predict whether or not someone votes 70.8% of the time. Both of these models are still able to predict with better accuracy than a coin flip (which has a 50% predictive accuracy)."
   ]
  }
 ],
 "metadata": {
  "kernelspec": {
   "display_name": "Python 3 (ipykernel)",
   "language": "python",
   "name": "python3"
  },
  "language_info": {
   "codemirror_mode": {
    "name": "ipython",
    "version": 3
   },
   "file_extension": ".py",
   "mimetype": "text/x-python",
   "name": "python",
   "nbconvert_exporter": "python",
   "pygments_lexer": "ipython3",
   "version": "3.9.5"
  }
 },
 "nbformat": 4,
 "nbformat_minor": 5
}
