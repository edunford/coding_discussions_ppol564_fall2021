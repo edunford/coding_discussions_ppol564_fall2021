{
 "cells": [
  {
   "cell_type": "markdown",
   "id": "eb9754a1",
   "metadata": {},
   "source": [
    "# Coding Discussion 5"
   ]
  },
  {
   "cell_type": "code",
   "execution_count": 1,
   "id": "9b750bdd",
   "metadata": {},
   "outputs": [],
   "source": [
    "#Set up\n",
    "import pandas as pd\n",
    "import numpy as np\n",
    "import pprint as pp # for printing\n",
    "import scipy.stats as st # for Normal PDF\n",
    "\n",
    "# Plotting libraries \n",
    "import matplotlib.pyplot as plt\n",
    "import seaborn as sns\n",
    "from plotnine import *\n",
    "\n",
    "# Silence warnings \n",
    "import warnings\n",
    "warnings.filterwarnings(\"ignore\")"
   ]
  },
  {
   "cell_type": "markdown",
   "id": "39b9bc96",
   "metadata": {},
   "source": [
    "## Using Naive Bayesian Classifier¶ "
   ]
  },
  {
   "cell_type": "code",
   "execution_count": 2,
   "id": "e1361a94",
   "metadata": {},
   "outputs": [],
   "source": [
    "#Read data\n",
    "dta = pd.read_csv(\"~/Desktop/turnout.csv\")"
   ]
  },
  {
   "cell_type": "code",
   "execution_count": 4,
   "id": "32a61f7a",
   "metadata": {},
   "outputs": [
    {
     "name": "stdout",
     "output_type": "stream",
     "text": [
      "Training Data: 1600 \n",
      "Test Data: 400\n"
     ]
    },
    {
     "data": {
      "text/html": [
       "<div>\n",
       "<style scoped>\n",
       "    .dataframe tbody tr th:only-of-type {\n",
       "        vertical-align: middle;\n",
       "    }\n",
       "\n",
       "    .dataframe tbody tr th {\n",
       "        vertical-align: top;\n",
       "    }\n",
       "\n",
       "    .dataframe thead th {\n",
       "        text-align: right;\n",
       "    }\n",
       "</style>\n",
       "<table border=\"1\" class=\"dataframe\">\n",
       "  <thead>\n",
       "    <tr style=\"text-align: right;\">\n",
       "      <th></th>\n",
       "      <th>id</th>\n",
       "      <th>age</th>\n",
       "      <th>educate</th>\n",
       "      <th>income</th>\n",
       "      <th>vote</th>\n",
       "      <th>white</th>\n",
       "    </tr>\n",
       "  </thead>\n",
       "  <tbody>\n",
       "    <tr>\n",
       "      <th>0</th>\n",
       "      <td>793</td>\n",
       "      <td>64</td>\n",
       "      <td>7.0</td>\n",
       "      <td>1.1277</td>\n",
       "      <td>1</td>\n",
       "      <td>1</td>\n",
       "    </tr>\n",
       "    <tr>\n",
       "      <th>1</th>\n",
       "      <td>1938</td>\n",
       "      <td>26</td>\n",
       "      <td>12.0</td>\n",
       "      <td>3.1676</td>\n",
       "      <td>1</td>\n",
       "      <td>0</td>\n",
       "    </tr>\n",
       "    <tr>\n",
       "      <th>2</th>\n",
       "      <td>843</td>\n",
       "      <td>61</td>\n",
       "      <td>19.0</td>\n",
       "      <td>6.9491</td>\n",
       "      <td>1</td>\n",
       "      <td>0</td>\n",
       "    </tr>\n",
       "    <tr>\n",
       "      <th>3</th>\n",
       "      <td>1097</td>\n",
       "      <td>29</td>\n",
       "      <td>12.0</td>\n",
       "      <td>6.7838</td>\n",
       "      <td>1</td>\n",
       "      <td>1</td>\n",
       "    </tr>\n",
       "    <tr>\n",
       "      <th>4</th>\n",
       "      <td>1344</td>\n",
       "      <td>42</td>\n",
       "      <td>12.0</td>\n",
       "      <td>4.0702</td>\n",
       "      <td>1</td>\n",
       "      <td>1</td>\n",
       "    </tr>\n",
       "  </tbody>\n",
       "</table>\n",
       "</div>"
      ],
      "text/plain": [
       "     id  age  educate  income  vote  white\n",
       "0   793   64      7.0  1.1277     1      1\n",
       "1  1938   26     12.0  3.1676     1      0\n",
       "2   843   61     19.0  6.9491     1      0\n",
       "3  1097   29     12.0  6.7838     1      1\n",
       "4  1344   42     12.0  4.0702     1      1"
      ]
     },
     "execution_count": 4,
     "metadata": {},
     "output_type": "execute_result"
    }
   ],
   "source": [
    "# Train-Test split (just using Pandas)\n",
    "train = dta.sample(frac=.8).reset_index(drop=True)\n",
    "test = dta.drop(train.index).reset_index(drop=True)\n",
    "\n",
    "# Print off the split count \n",
    "print(\"Training Data:\",train.shape[0],\n",
    "      \"\\nTest Data:\",test.shape[0])\n",
    "\n",
    "# Look at the head of the data\n",
    "train.head()"
   ]
  },
  {
   "cell_type": "code",
   "execution_count": 6,
   "id": "c4c9e297",
   "metadata": {},
   "outputs": [
    {
     "name": "stdout",
     "output_type": "stream",
     "text": [
      "\n",
      "Pr(vote = 1): 0.73875\n",
      "Pr(vote = 0): 0.26125\n",
      "\n"
     ]
    }
   ],
   "source": [
    "#Calculate Class Probabilities: 𝑃𝑟(𝑐𝑙𝑎𝑠𝑠)\n",
    "\n",
    "N = train.shape[0]\n",
    "\n",
    "# Subset the data by class\n",
    "vote1 = train.query(\"vote == 1\")\n",
    "vote0 = train.query(\"vote == 0\")\n",
    "\n",
    "# Calculate the probability for each class\n",
    "pr_vote_1 = dta1.shape[0]/N\n",
    "pr_vote_0 = dta0.shape[0]/N\n",
    "\n",
    "# Print the probabilities\n",
    "print(\n",
    "f\"\"\"\n",
    "Pr(vote = 1): {pr_vote_1}\n",
    "Pr(vote = 0): {pr_vote_0}\n",
    "\"\"\")"
   ]
  },
  {
   "cell_type": "code",
   "execution_count": 9,
   "id": "154f0fab",
   "metadata": {},
   "outputs": [
    {
     "name": "stdout",
     "output_type": "stream",
     "text": [
      "\n",
      "Pr(white = 1 |vote = 1): 0.8747884940778342\n",
      "Pr(white = 0 |vote = 1): 0.12521150592216582\n",
      "Pr(white = 1 |vote = 0): 0.7894736842105263\n",
      "Pr(white = 0 |vote = 0): 0.21052631578947367\n",
      "\n"
     ]
    }
   ],
   "source": [
    "#Calculate the Conditional Probabilities 𝑃𝑟(𝑑𝑎𝑡𝑎|𝑐𝑙𝑎𝑠𝑠)\n",
    "#Calculate the number of white individuals who voted and did not voted\n",
    "#Calculate the number of non-white individuals who votes and did not vote\n",
    "\n",
    "\n",
    "# Given vote == 1\n",
    "w1_vote1 = vote1.query(\"white == 1\").shape[0]/vote1.shape[0]\n",
    "w0_vote1 = vote1.query(\"white == 0\").shape[0]/vote1.shape[0]\n",
    "\n",
    "\n",
    "# Given Vote == 0\n",
    "w1_vote0 = vote0.query(\"white == 1\").shape[0]/vote0.shape[0]\n",
    "w0_vote0 = vote0.query(\"white == 0\").shape[0]/vote0.shape[0]\n",
    "\n",
    "print(\n",
    "f\"\"\"\n",
    "Pr(white = 1 |vote = 1): {w1_vote1}\n",
    "Pr(white = 0 |vote = 1): {w0_vote1}\n",
    "Pr(white = 1 |vote = 0): {w1_vote0}\n",
    "Pr(white = 0 |vote = 0): {w0_vote0}\n",
    "\"\"\")"
   ]
  },
  {
   "cell_type": "code",
   "execution_count": 10,
   "id": "7f5fdd5e",
   "metadata": {},
   "outputs": [
    {
     "name": "stdout",
     "output_type": "stream",
     "text": [
      "\n",
      "Pr(vote = 1) = 0.0925\n",
      "Pr(vote = 0) = 0.05499999999999999\n",
      "\n"
     ]
    }
   ],
   "source": [
    "#For non-white respondent\n",
    "prob_vote1 = w0_vote1 * pr_vote_1\n",
    "prob_vote0 = w0_vote0 * pr_vote_0\n",
    "\n",
    "print(f\"\"\"\n",
    "Pr(vote = 1) = {prob_vote1}\n",
    "Pr(vote = 0) = {prob_vote0}\n",
    "\"\"\")"
   ]
  },
  {
   "cell_type": "markdown",
   "id": "d5b084cc",
   "metadata": {},
   "source": [
    ".0925  is greater than .055 so we predict a non-white respondent will vote in a presidential election(vote=1)."
   ]
  },
  {
   "cell_type": "code",
   "execution_count": 11,
   "id": "816aaddc",
   "metadata": {},
   "outputs": [
    {
     "name": "stdout",
     "output_type": "stream",
     "text": [
      "\n",
      "Pr(vote = 1) = 0.64625\n",
      "Pr(vote = 0) = 0.20625\n",
      "\n"
     ]
    }
   ],
   "source": [
    "#For white respondent\n",
    "prob_vote1 = w1_vote1 * pr_vote_1\n",
    "prob_vote0 = w1_vote0 * pr_vote_0\n",
    "\n",
    "print(f\"\"\"\n",
    "Pr(vote = 1) = {prob_vote1}\n",
    "Pr(vote = 0) = {prob_vote0}\n",
    "\"\"\")"
   ]
  },
  {
   "cell_type": "markdown",
   "id": "a94e0a19",
   "metadata": {},
   "source": [
    ".0.64625 is greater than .20625 so we predict a white respondent will vote in a presidential election(vote=1)."
   ]
  },
  {
   "cell_type": "code",
   "execution_count": 13,
   "id": "73dfa3aa",
   "metadata": {},
   "outputs": [],
   "source": [
    "# Drop columns we don't need \n",
    "train1 = train.drop(columns=['id', 'age', 'educate', 'income'])\n",
    "test1 = test.drop(columns=['id', 'age', 'educate', 'income'])"
   ]
  },
  {
   "cell_type": "code",
   "execution_count": 14,
   "id": "ec6970d4",
   "metadata": {},
   "outputs": [
    {
     "name": "stdout",
     "output_type": "stream",
     "text": [
      "class probabilities\n",
      "\n",
      "{0: 0.26125, 1: 0.73875}\n",
      "\n",
      "\n",
      "conditional probabilities\n",
      "\n",
      "{('white', 0, 0): 0.21052631578947367,\n",
      " ('white', 0, 1): 0.1252115059221658,\n",
      " ('white', 1, 0): 0.7894736842105263,\n",
      " ('white', 1, 1): 0.8747884940778342}\n"
     ]
    }
   ],
   "source": [
    "# calculate the underlying probabilities and then calculate the predictions for each observation in the data\n",
    "def calc_probs(data,outcome_var=\"\"):\n",
    "    '''\n",
    "    Function calculates the class and conditional probabilities in \n",
    "    the binary data. \n",
    "    \n",
    "    '''\n",
    "    # Generate empty dictionary containers.\n",
    "    class_probs = {};cond_probs = {}\n",
    "    # Locate all variables that are not the outcome.\n",
    "    vars = [v for v in data.columns if v != outcome_var]\n",
    "    # iterate through the class outcomes\n",
    "    for y, d in data.groupby(outcome_var): \n",
    "        # calculate the class probabilities\n",
    "        class_probs.update({y: d.shape[0]/data.shape[0]})\n",
    "        for v in vars:\n",
    "            # calculate the conditional probabilities for each variable given the class.\n",
    "            pr = d[v].sum()/d.shape[0]\n",
    "            cond_probs[(v,1,y)] = pr \n",
    "            cond_probs[(v,0,y)] = 1 - pr\n",
    "    return class_probs, cond_probs\n",
    "\n",
    "\n",
    "# Run\n",
    "class_probs, cond_probs = calc_probs(train1,outcome_var=\"vote\")\n",
    "\n",
    "# Print\n",
    "print(\"class probabilities\",end=\"\\n\\n\")\n",
    "pp.pprint(class_probs)\n",
    "print(\"\\n\")\n",
    "print(\"conditional probabilities\",end=\"\\n\\n\")\n",
    "pp.pprint(cond_probs)"
   ]
  },
  {
   "cell_type": "code",
   "execution_count": 18,
   "id": "1641fcbd",
   "metadata": {},
   "outputs": [
    {
     "data": {
      "text/html": [
       "<div>\n",
       "<style scoped>\n",
       "    .dataframe tbody tr th:only-of-type {\n",
       "        vertical-align: middle;\n",
       "    }\n",
       "\n",
       "    .dataframe tbody tr th {\n",
       "        vertical-align: top;\n",
       "    }\n",
       "\n",
       "    .dataframe thead th {\n",
       "        text-align: right;\n",
       "    }\n",
       "</style>\n",
       "<table border=\"1\" class=\"dataframe\">\n",
       "  <thead>\n",
       "    <tr style=\"text-align: right;\">\n",
       "      <th></th>\n",
       "      <th>pr_0</th>\n",
       "      <th>pr_1</th>\n",
       "      <th>pred</th>\n",
       "    </tr>\n",
       "  </thead>\n",
       "  <tbody>\n",
       "    <tr>\n",
       "      <th>0</th>\n",
       "      <td>0.20625</td>\n",
       "      <td>0.64625</td>\n",
       "      <td>1</td>\n",
       "    </tr>\n",
       "    <tr>\n",
       "      <th>1</th>\n",
       "      <td>0.05500</td>\n",
       "      <td>0.09250</td>\n",
       "      <td>1</td>\n",
       "    </tr>\n",
       "    <tr>\n",
       "      <th>2</th>\n",
       "      <td>0.05500</td>\n",
       "      <td>0.09250</td>\n",
       "      <td>1</td>\n",
       "    </tr>\n",
       "    <tr>\n",
       "      <th>3</th>\n",
       "      <td>0.20625</td>\n",
       "      <td>0.64625</td>\n",
       "      <td>1</td>\n",
       "    </tr>\n",
       "    <tr>\n",
       "      <th>4</th>\n",
       "      <td>0.20625</td>\n",
       "      <td>0.64625</td>\n",
       "      <td>1</td>\n",
       "    </tr>\n",
       "  </tbody>\n",
       "</table>\n",
       "</div>"
      ],
      "text/plain": [
       "      pr_0     pr_1  pred\n",
       "0  0.20625  0.64625     1\n",
       "1  0.05500  0.09250     1\n",
       "2  0.05500  0.09250     1\n",
       "3  0.20625  0.64625     1\n",
       "4  0.20625  0.64625     1"
      ]
     },
     "execution_count": 18,
     "metadata": {},
     "output_type": "execute_result"
    }
   ],
   "source": [
    "#Build a prediction function that combs through the observations in the data and calculates the probabilities and makes a class prediction\n",
    "def predict(data,class_probs,cond_probs):\n",
    "    '''\n",
    "    Function calculates the conditiona probability for membership into each class.\n",
    "    Then returns both the probabilities and the most likely class. \n",
    "    '''\n",
    "    store_preds = []\n",
    "    for i,row in data.iterrows():\n",
    "        pr_1 = 1; pr_0 = 1\n",
    "        for j in range(1,len(row.index)):\n",
    "            pr_0 *= cond_probs[(row.index[j],row.values[j],0)]\n",
    "            pr_1 *= cond_probs[(row.index[j],row.values[j],1)]     \n",
    "        pr_0 *= class_probs[0]\n",
    "        pr_1 *= class_probs[1]\n",
    "        store_preds.append([pr_0,pr_1,max([(pr_0,0),(pr_1,1)])[1]])\n",
    "    return pd.DataFrame(store_preds,columns=[\"pr_0\",\"pr_1\",\"pred\"])\n",
    "\n",
    "# Run \n",
    "preds = predict(train1, class_probs, cond_probs)\n",
    "preds.head()"
   ]
  },
  {
   "cell_type": "code",
   "execution_count": 19,
   "id": "4ccb3e1c",
   "metadata": {},
   "outputs": [
    {
     "data": {
      "text/plain": [
       "0.73875"
      ]
     },
     "execution_count": 19,
     "metadata": {},
     "output_type": "execute_result"
    }
   ],
   "source": [
    "#calculate predictive accuracy\n",
    "accuracy = sum(train1.vote == preds.pred)/train1.shape[0]\n",
    "accuracy"
   ]
  },
  {
   "cell_type": "code",
   "execution_count": 20,
   "id": "554b26ba",
   "metadata": {},
   "outputs": [
    {
     "data": {
      "text/plain": [
       "0.7"
      ]
     },
     "execution_count": 20,
     "metadata": {},
     "output_type": "execute_result"
    }
   ],
   "source": [
    "#Test with the test dataset\n",
    "test_preds = predict(test1, class_probs, cond_probs)\n",
    "test_accuracy = sum(test1.vote == test_preds.pred)/test.shape[0]\n",
    "test_accuracy"
   ]
  },
  {
   "cell_type": "markdown",
   "id": "e391b975",
   "metadata": {},
   "source": [
    "Overall, our model based on race has an out of sample prediction of 70%. The test data was not as accurate as the training data but it is still more accurate than a coin flip."
   ]
  },
  {
   "cell_type": "markdown",
   "id": "cf1af2d3",
   "metadata": {},
   "source": [
    "## Using Naive Bayesian Classifier with Continuous Predictors "
   ]
  },
  {
   "cell_type": "code",
   "execution_count": 49,
   "id": "84cf12c2",
   "metadata": {},
   "outputs": [],
   "source": [
    "#Drop columns we don't need \n",
    "# Drop, rearrange, and rename train df \n",
    "train2 = train.drop(columns=['id', 'white', 'age'])\n",
    "train2 = train2[['vote', 'educate', 'income']]\n",
    "train2.columns = ['y', 'x1', 'x2']\n",
    "\n",
    "# Drop, rearrange, and rename test df \n",
    "test2 = test.drop(columns=['id', 'white', 'age'])\n",
    "test2 = test2[['vote', 'educate', 'income']]\n",
    "test2.columns = ['y', 'x1', 'x2']\n"
   ]
  },
  {
   "cell_type": "code",
   "execution_count": 52,
   "id": "7fddae50",
   "metadata": {},
   "outputs": [],
   "source": [
    "#Calculate the class probabilities Pr(class).\n",
    "y1 = train2.query(\"y == 1\")\n",
    "y0 = train2.query(\"y == 0\")\n",
    "\n",
    "# Class probabilities.\n",
    "pr_y1 = y1.shape[0]/train2.shape[0]\n",
    "pr_y0 = y0.shape[0]/train2.shape[0]\n"
   ]
  },
  {
   "cell_type": "code",
   "execution_count": 53,
   "id": "9d29a4eb",
   "metadata": {},
   "outputs": [
    {
     "name": "stdout",
     "output_type": "stream",
     "text": [
      "{('x1', 0): {'mean': 2.7889291866028723, 'sd': 3.210028412863581},\n",
      " ('x1', 1): {'mean': 4.296558714043997, 'sd': 3.3768621770751674},\n",
      " ('x2', 0): {'mean': 10.726076555023923, 'sd': 2.2746903119776736},\n",
      " ('x2', 1): {'mean': 12.541878172588833, 'sd': 2.9517148888027886}}\n"
     ]
    }
   ],
   "source": [
    "# Collect the mean and standard dev. of each conditional distribution\n",
    "dist_locs = \\\n",
    "{(\"x1\",1):{'mean':y1.x2.mean(),'sd':y1.x1.std()},\n",
    " (\"x1\",0):{'mean':y0.x2.mean(),'sd':y0.x1.std()},\n",
    " (\"x2\",1):{'mean':y1.x1.mean(),'sd':y1.x2.std()},\n",
    " (\"x2\",0):{'mean':y0.x1.mean(),'sd':y0.x2.std()}\n",
    "}\n",
    "\n",
    "# Print\n",
    "pp.pprint(dist_locs)"
   ]
  },
  {
   "cell_type": "code",
   "execution_count": 54,
   "id": "9758ad40",
   "metadata": {},
   "outputs": [
    {
     "data": {
      "image/png": "[encoded data removed]",
      "text/plain": [
       "<Figure size 1500x600 with 1 Axes>"
      ]
     },
     "metadata": {
      "needs_background": "light"
     },
     "output_type": "display_data"
    }
   ],
   "source": [
    "# Plot with seaborn\n",
    "plt.figure(figsize=(10,4),dpi=150)\n",
    "for key in dist_locs.keys():\n",
    "    locs = dist_locs[key]\n",
    "    d = pd.DataFrame([[i,st.norm(locs['mean'], locs['sd']).pdf(i)] \n",
    "                      for i in np.linspace(-3,3)])\n",
    "    ax = sns.lineplot(d[0],d[1],label=f\"{key[0]} where y = {key[1]}\")"
   ]
  },
  {
   "cell_type": "code",
   "execution_count": 55,
   "id": "9e0befe5",
   "metadata": {},
   "outputs": [
    {
     "name": "stdout",
     "output_type": "stream",
     "text": [
      "3.1676 1.0 12.0\n"
     ]
    }
   ],
   "source": [
    "x1,x2,y = train2.iloc[1,:]\n",
    "print(y,x1,x2)"
   ]
  },
  {
   "cell_type": "code",
   "execution_count": 56,
   "id": "2019212d",
   "metadata": {},
   "outputs": [
    {
     "name": "stdout",
     "output_type": "stream",
     "text": [
      "\n",
      "    Pr(y == 1| X): 0.007202268467504869\n",
      "    Pr(y == 0| X): 0.00416770260036113\n",
      "\n"
     ]
    }
   ],
   "source": [
    "#Prediction for single observation\n",
    "# Prediction for the 1 class\n",
    "a = st.norm(dist_locs[(\"x1\",1)]['mean'], dist_locs[(\"x1\",1)]['sd']).pdf(x1)\n",
    "b = st.norm(dist_locs[(\"x2\",1)]['mean'], dist_locs[(\"x2\",1)]['sd']).pdf(x2)\n",
    "c = pr_y1\n",
    "pr_1 = a * b * c \n",
    "\n",
    "# Prediction for the 0 class\n",
    "a = st.norm(dist_locs[(\"x1\",0)]['mean'], dist_locs[(\"x1\",0)]['sd']).pdf(x1)\n",
    "b = st.norm(dist_locs[(\"x2\",0)]['mean'], dist_locs[(\"x2\",0)]['sd']).pdf(x2)\n",
    "c = pr_y0\n",
    "pr_0 = a * b * c \n",
    "\n",
    "print(\n",
    "f'''\n",
    "    Pr(y == 1| X): {pr_1}\n",
    "    Pr(y == 0| X): {pr_0}\n",
    "''')"
   ]
  },
  {
   "cell_type": "markdown",
   "id": "91e7b320",
   "metadata": {},
   "source": [
    "For the single prediction, .007 is greater than .005, so we predict that 𝑦=1."
   ]
  },
  {
   "cell_type": "code",
   "execution_count": 61,
   "id": "b939af6b",
   "metadata": {},
   "outputs": [],
   "source": [
    "#Predicting multiple observations\n",
    "def predict2(data,dist_locs):\n",
    "    ''''''\n",
    "    store_preds = []\n",
    "    for i,row in data.iterrows():\n",
    "        \n",
    "        # Get the predictions using a Gaussan distribution\n",
    "        pr_0 = 1; pr_1 = 1\n",
    "        for j in range(1,len(row)):\n",
    "            \n",
    "            pr_0 *= st.norm(dist_locs[(row.index[j],0)]['mean'],\n",
    "                            dist_locs[(row.index[j],0)]['sd']).pdf(row.values[j])\n",
    "            pr_1 *= st.norm(dist_locs[(row.index[j],1)]['mean'], \n",
    "                            dist_locs[(row.index[j],1)]['sd']).pdf(row.values[j])\n",
    "        pr_0 *= pr_y0\n",
    "        pr_1 *= pr_y1\n",
    "        \n",
    "        # Assign the class designation to the highest probability\n",
    "        if pr_0 >= pr_1:\n",
    "            class_pred = 0\n",
    "        else:\n",
    "            class_pred = 1\n",
    "            \n",
    "        store_preds.append([pr_0,pr_1,class_pred])\n",
    "        \n",
    "    return pd.DataFrame(store_preds,columns=[\"pr_0\",\"pr_1\",\"pred\"])\n",
    "\n",
    "# Run\n",
    "preds_train2 = predict2(train2,dist_locs)"
   ]
  },
  {
   "cell_type": "code",
   "execution_count": 62,
   "id": "5cd1bb52",
   "metadata": {},
   "outputs": [
    {
     "data": {
      "text/html": [
       "<div>\n",
       "<style scoped>\n",
       "    .dataframe tbody tr th:only-of-type {\n",
       "        vertical-align: middle;\n",
       "    }\n",
       "\n",
       "    .dataframe tbody tr th {\n",
       "        vertical-align: top;\n",
       "    }\n",
       "\n",
       "    .dataframe thead th {\n",
       "        text-align: right;\n",
       "    }\n",
       "</style>\n",
       "<table border=\"1\" class=\"dataframe\">\n",
       "  <thead>\n",
       "    <tr style=\"text-align: right;\">\n",
       "      <th></th>\n",
       "      <th>pr_0</th>\n",
       "      <th>pr_1</th>\n",
       "      <th>pred</th>\n",
       "    </tr>\n",
       "  </thead>\n",
       "  <tbody>\n",
       "    <tr>\n",
       "      <th>0</th>\n",
       "      <td>3.276118e-07</td>\n",
       "      <td>4.846869e-06</td>\n",
       "      <td>1</td>\n",
       "    </tr>\n",
       "    <tr>\n",
       "      <th>1</th>\n",
       "      <td>3.714332e-07</td>\n",
       "      <td>5.642794e-06</td>\n",
       "      <td>1</td>\n",
       "    </tr>\n",
       "    <tr>\n",
       "      <th>2</th>\n",
       "      <td>4.155955e-09</td>\n",
       "      <td>1.497250e-07</td>\n",
       "      <td>1</td>\n",
       "    </tr>\n",
       "    <tr>\n",
       "      <th>3</th>\n",
       "      <td>2.066591e-05</td>\n",
       "      <td>1.304180e-04</td>\n",
       "      <td>1</td>\n",
       "    </tr>\n",
       "    <tr>\n",
       "      <th>4</th>\n",
       "      <td>1.283259e-06</td>\n",
       "      <td>1.422174e-05</td>\n",
       "      <td>1</td>\n",
       "    </tr>\n",
       "    <tr>\n",
       "      <th>5</th>\n",
       "      <td>9.058633e-08</td>\n",
       "      <td>2.043145e-06</td>\n",
       "      <td>1</td>\n",
       "    </tr>\n",
       "    <tr>\n",
       "      <th>6</th>\n",
       "      <td>3.096269e-08</td>\n",
       "      <td>9.823474e-07</td>\n",
       "      <td>1</td>\n",
       "    </tr>\n",
       "    <tr>\n",
       "      <th>7</th>\n",
       "      <td>1.842339e-06</td>\n",
       "      <td>1.859531e-05</td>\n",
       "      <td>1</td>\n",
       "    </tr>\n",
       "    <tr>\n",
       "      <th>8</th>\n",
       "      <td>1.465009e-08</td>\n",
       "      <td>5.701709e-07</td>\n",
       "      <td>1</td>\n",
       "    </tr>\n",
       "    <tr>\n",
       "      <th>9</th>\n",
       "      <td>7.662951e-07</td>\n",
       "      <td>9.953548e-06</td>\n",
       "      <td>1</td>\n",
       "    </tr>\n",
       "  </tbody>\n",
       "</table>\n",
       "</div>"
      ],
      "text/plain": [
       "           pr_0          pr_1  pred\n",
       "0  3.276118e-07  4.846869e-06     1\n",
       "1  3.714332e-07  5.642794e-06     1\n",
       "2  4.155955e-09  1.497250e-07     1\n",
       "3  2.066591e-05  1.304180e-04     1\n",
       "4  1.283259e-06  1.422174e-05     1\n",
       "5  9.058633e-08  2.043145e-06     1\n",
       "6  3.096269e-08  9.823474e-07     1\n",
       "7  1.842339e-06  1.859531e-05     1\n",
       "8  1.465009e-08  5.701709e-07     1\n",
       "9  7.662951e-07  9.953548e-06     1"
      ]
     },
     "execution_count": 62,
     "metadata": {},
     "output_type": "execute_result"
    }
   ],
   "source": [
    "# Predicted output\n",
    "preds_train2.head(10)"
   ]
  },
  {
   "cell_type": "code",
   "execution_count": 64,
   "id": "8eb14898",
   "metadata": {},
   "outputs": [
    {
     "data": {
      "text/plain": [
       "0.73875"
      ]
     },
     "execution_count": 64,
     "metadata": {},
     "output_type": "execute_result"
    }
   ],
   "source": [
    "# Examine the predictive accuracy of the training data.\n",
    "accuracy_train2 = sum(train2.y == preds_train2.pred)/train2.shape[0]\n",
    "accuracy_train2"
   ]
  },
  {
   "cell_type": "code",
   "execution_count": 66,
   "id": "d60e6dfb",
   "metadata": {},
   "outputs": [
    {
     "data": {
      "text/plain": [
       "0.7"
      ]
     },
     "execution_count": 66,
     "metadata": {},
     "output_type": "execute_result"
    }
   ],
   "source": [
    "# Examine the predictive accuracy on the test data.\n",
    "preds_test2 = predict2(test2,dist_locs)\n",
    "accuracy_test2 = sum(test2.y == preds_test2.pred)/test2.shape[0]\n",
    "accuracy_test2"
   ]
  },
  {
   "cell_type": "markdown",
   "id": "ff255395",
   "metadata": {},
   "source": [
    "Based on age and income, the model predicted whether someone would vote with 70% accuracy. The test data was not as accurate as the training data but it is still more accurate than a coin flip. "
   ]
  }
 ],
 "metadata": {
  "kernelspec": {
   "display_name": "Python 3",
   "language": "python",
   "name": "python3"
  },
  "language_info": {
   "codemirror_mode": {
    "name": "ipython",
    "version": 3
   },
   "file_extension": ".py",
   "mimetype": "text/x-python",
   "name": "python",
   "nbconvert_exporter": "python",
   "pygments_lexer": "ipython3",
   "version": "3.8.8"
  }
 },
 "nbformat": 4,
 "nbformat_minor": 5
}
