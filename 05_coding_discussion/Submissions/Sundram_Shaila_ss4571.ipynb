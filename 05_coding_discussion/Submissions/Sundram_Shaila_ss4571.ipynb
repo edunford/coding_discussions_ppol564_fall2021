{
 "cells": [
  {
   "cell_type": "code",
   "execution_count": 291,
   "id": "22bf6099",
   "metadata": {},
   "outputs": [],
   "source": [
    "#prepare file\n",
    "import pandas as pd\n",
    "import numpy as np"
   ]
  },
  {
   "cell_type": "code",
   "execution_count": 292,
   "id": "d94c2a60",
   "metadata": {},
   "outputs": [
    {
     "data": {
      "text/html": [
       "<div>\n",
       "<style scoped>\n",
       "    .dataframe tbody tr th:only-of-type {\n",
       "        vertical-align: middle;\n",
       "    }\n",
       "\n",
       "    .dataframe tbody tr th {\n",
       "        vertical-align: top;\n",
       "    }\n",
       "\n",
       "    .dataframe thead th {\n",
       "        text-align: right;\n",
       "    }\n",
       "</style>\n",
       "<table border=\"1\" class=\"dataframe\">\n",
       "  <thead>\n",
       "    <tr style=\"text-align: right;\">\n",
       "      <th></th>\n",
       "      <th>age</th>\n",
       "      <th>educate</th>\n",
       "      <th>income</th>\n",
       "      <th>white</th>\n",
       "      <th>vote</th>\n",
       "    </tr>\n",
       "    <tr>\n",
       "      <th>id</th>\n",
       "      <th></th>\n",
       "      <th></th>\n",
       "      <th></th>\n",
       "      <th></th>\n",
       "      <th></th>\n",
       "    </tr>\n",
       "  </thead>\n",
       "  <tbody>\n",
       "    <tr>\n",
       "      <th>1</th>\n",
       "      <td>60</td>\n",
       "      <td>14.0</td>\n",
       "      <td>3.3458</td>\n",
       "      <td>1</td>\n",
       "      <td>1</td>\n",
       "    </tr>\n",
       "    <tr>\n",
       "      <th>2</th>\n",
       "      <td>51</td>\n",
       "      <td>10.0</td>\n",
       "      <td>1.8561</td>\n",
       "      <td>1</td>\n",
       "      <td>0</td>\n",
       "    </tr>\n",
       "    <tr>\n",
       "      <th>3</th>\n",
       "      <td>24</td>\n",
       "      <td>12.0</td>\n",
       "      <td>0.6304</td>\n",
       "      <td>1</td>\n",
       "      <td>0</td>\n",
       "    </tr>\n",
       "    <tr>\n",
       "      <th>4</th>\n",
       "      <td>38</td>\n",
       "      <td>8.0</td>\n",
       "      <td>3.4183</td>\n",
       "      <td>1</td>\n",
       "      <td>1</td>\n",
       "    </tr>\n",
       "    <tr>\n",
       "      <th>5</th>\n",
       "      <td>25</td>\n",
       "      <td>12.0</td>\n",
       "      <td>2.7852</td>\n",
       "      <td>1</td>\n",
       "      <td>1</td>\n",
       "    </tr>\n",
       "  </tbody>\n",
       "</table>\n",
       "</div>"
      ],
      "text/plain": [
       "    age  educate  income  white  vote\n",
       "id                                   \n",
       "1    60     14.0  3.3458      1     1\n",
       "2    51     10.0  1.8561      1     0\n",
       "3    24     12.0  0.6304      1     0\n",
       "4    38      8.0  3.4183      1     1\n",
       "5    25     12.0  2.7852      1     1"
      ]
     },
     "execution_count": 292,
     "metadata": {},
     "output_type": "execute_result"
    }
   ],
   "source": [
    "#load in data\n",
    "voteData = pd.read_csv('turnout.csv')\n",
    "\n",
    "#reset index to be id\n",
    "voteData = voteData.set_index('id')\n",
    "\n",
    "#rearrange columns so vote is last\n",
    "voteData = voteData[['age', 'educate', 'income', 'white', 'vote']]\n",
    "\n",
    "#display head\n",
    "voteData.head()"
   ]
  },
  {
   "cell_type": "code",
   "execution_count": 293,
   "id": "ecd2d1d9",
   "metadata": {},
   "outputs": [],
   "source": [
    "#create labels for age (use later)\n",
    "mylist = voteData['age'].tolist()\n",
    "labels1 = list(dict.fromkeys(mylist))\n",
    "\n",
    "#create labels for educate (use later)\n",
    "mylist2 = voteData['educate'].tolist()\n",
    "labels2 = list(dict.fromkeys(mylist2))\n",
    "\n",
    "\n",
    "#place income into bins (1-10)\n",
    "labels3 = ['1', '2', '3', '4', '5', '6', '7', '8', '9', '10']\n",
    "for j in voteData.iloc[:,[2]]:\n",
    "    voteData[j] = pd.cut(voteData[j],bins=len(labels3),labels=labels3)\n",
    "\n",
    "#create labels for vote (use later)\n",
    "labels4 = [0, 1]\n"
   ]
  },
  {
   "cell_type": "code",
   "execution_count": 294,
   "id": "e33a0b4b",
   "metadata": {},
   "outputs": [
    {
     "data": {
      "text/html": [
       "<div>\n",
       "<style scoped>\n",
       "    .dataframe tbody tr th:only-of-type {\n",
       "        vertical-align: middle;\n",
       "    }\n",
       "\n",
       "    .dataframe tbody tr th {\n",
       "        vertical-align: top;\n",
       "    }\n",
       "\n",
       "    .dataframe thead th {\n",
       "        text-align: right;\n",
       "    }\n",
       "</style>\n",
       "<table border=\"1\" class=\"dataframe\">\n",
       "  <thead>\n",
       "    <tr style=\"text-align: right;\">\n",
       "      <th></th>\n",
       "      <th>age</th>\n",
       "      <th>educate</th>\n",
       "      <th>income</th>\n",
       "      <th>white</th>\n",
       "      <th>vote</th>\n",
       "    </tr>\n",
       "    <tr>\n",
       "      <th>id</th>\n",
       "      <th></th>\n",
       "      <th></th>\n",
       "      <th></th>\n",
       "      <th></th>\n",
       "      <th></th>\n",
       "    </tr>\n",
       "  </thead>\n",
       "  <tbody>\n",
       "    <tr>\n",
       "      <th>1</th>\n",
       "      <td>60</td>\n",
       "      <td>14.0</td>\n",
       "      <td>3</td>\n",
       "      <td>1</td>\n",
       "      <td>1</td>\n",
       "    </tr>\n",
       "    <tr>\n",
       "      <th>2</th>\n",
       "      <td>51</td>\n",
       "      <td>10.0</td>\n",
       "      <td>2</td>\n",
       "      <td>1</td>\n",
       "      <td>0</td>\n",
       "    </tr>\n",
       "    <tr>\n",
       "      <th>3</th>\n",
       "      <td>24</td>\n",
       "      <td>12.0</td>\n",
       "      <td>1</td>\n",
       "      <td>1</td>\n",
       "      <td>0</td>\n",
       "    </tr>\n",
       "    <tr>\n",
       "      <th>4</th>\n",
       "      <td>38</td>\n",
       "      <td>8.0</td>\n",
       "      <td>3</td>\n",
       "      <td>1</td>\n",
       "      <td>1</td>\n",
       "    </tr>\n",
       "    <tr>\n",
       "      <th>5</th>\n",
       "      <td>25</td>\n",
       "      <td>12.0</td>\n",
       "      <td>2</td>\n",
       "      <td>1</td>\n",
       "      <td>1</td>\n",
       "    </tr>\n",
       "  </tbody>\n",
       "</table>\n",
       "</div>"
      ],
      "text/plain": [
       "    age  educate income  white  vote\n",
       "id                                  \n",
       "1    60     14.0      3      1     1\n",
       "2    51     10.0      2      1     0\n",
       "3    24     12.0      1      1     0\n",
       "4    38      8.0      3      1     1\n",
       "5    25     12.0      2      1     1"
      ]
     },
     "execution_count": 294,
     "metadata": {},
     "output_type": "execute_result"
    }
   ],
   "source": [
    "#display head of data frame with binned income data\n",
    "voteData.head()"
   ]
  },
  {
   "cell_type": "code",
   "execution_count": 295,
   "id": "0a36b33c",
   "metadata": {},
   "outputs": [],
   "source": [
    "#split into Train and Test df\n",
    "dfTrain = voteData.sample(n=400)\n",
    "dfTest = voteData.drop(dfTrain.index)"
   ]
  },
  {
   "cell_type": "code",
   "execution_count": 296,
   "id": "c9ad87a6",
   "metadata": {},
   "outputs": [
    {
     "data": {
      "text/html": [
       "<div>\n",
       "<style scoped>\n",
       "    .dataframe tbody tr th:only-of-type {\n",
       "        vertical-align: middle;\n",
       "    }\n",
       "\n",
       "    .dataframe tbody tr th {\n",
       "        vertical-align: top;\n",
       "    }\n",
       "\n",
       "    .dataframe thead th {\n",
       "        text-align: right;\n",
       "    }\n",
       "</style>\n",
       "<table border=\"1\" class=\"dataframe\">\n",
       "  <thead>\n",
       "    <tr style=\"text-align: right;\">\n",
       "      <th></th>\n",
       "      <th>age</th>\n",
       "      <th>educate</th>\n",
       "      <th>income</th>\n",
       "      <th>white</th>\n",
       "      <th>vote</th>\n",
       "    </tr>\n",
       "    <tr>\n",
       "      <th>id</th>\n",
       "      <th></th>\n",
       "      <th></th>\n",
       "      <th></th>\n",
       "      <th></th>\n",
       "      <th></th>\n",
       "    </tr>\n",
       "  </thead>\n",
       "  <tbody>\n",
       "    <tr>\n",
       "      <th>1</th>\n",
       "      <td>60</td>\n",
       "      <td>14.0</td>\n",
       "      <td>3</td>\n",
       "      <td>1</td>\n",
       "      <td>1</td>\n",
       "    </tr>\n",
       "    <tr>\n",
       "      <th>3</th>\n",
       "      <td>24</td>\n",
       "      <td>12.0</td>\n",
       "      <td>1</td>\n",
       "      <td>1</td>\n",
       "      <td>0</td>\n",
       "    </tr>\n",
       "    <tr>\n",
       "      <th>4</th>\n",
       "      <td>38</td>\n",
       "      <td>8.0</td>\n",
       "      <td>3</td>\n",
       "      <td>1</td>\n",
       "      <td>1</td>\n",
       "    </tr>\n",
       "    <tr>\n",
       "      <th>5</th>\n",
       "      <td>25</td>\n",
       "      <td>12.0</td>\n",
       "      <td>2</td>\n",
       "      <td>1</td>\n",
       "      <td>1</td>\n",
       "    </tr>\n",
       "    <tr>\n",
       "      <th>6</th>\n",
       "      <td>67</td>\n",
       "      <td>12.0</td>\n",
       "      <td>2</td>\n",
       "      <td>1</td>\n",
       "      <td>1</td>\n",
       "    </tr>\n",
       "  </tbody>\n",
       "</table>\n",
       "</div>"
      ],
      "text/plain": [
       "    age  educate income  white  vote\n",
       "id                                  \n",
       "1    60     14.0      3      1     1\n",
       "3    24     12.0      1      1     0\n",
       "4    38      8.0      3      1     1\n",
       "5    25     12.0      2      1     1\n",
       "6    67     12.0      2      1     1"
      ]
     },
     "execution_count": 296,
     "metadata": {},
     "output_type": "execute_result"
    }
   ],
   "source": [
    "#Display Test head\n",
    "dfTest.head()"
   ]
  },
  {
   "cell_type": "code",
   "execution_count": 297,
   "id": "a7405fbe",
   "metadata": {},
   "outputs": [],
   "source": [
    "#Create function to calculate percentages of each vote outcome\n",
    "def count(data,colname,label,target):\n",
    "    '''\n",
    "    This function takes in data frame & counts occurences of each variable for a specified outcome\n",
    "    \n",
    "    Input:\n",
    "    data: data set to be used\n",
    "    colname: neme of column we're using to calculate categorical occurences\n",
    "    label: category the value is in\n",
    "    target: the outcome we're trying to predict\n",
    "    \n",
    "    Output:\n",
    "    The number of times a column's category coincides with a certain outcome \n",
    "    '''\n",
    "    condition = (data[colname] == label) & (data['vote'] == target)\n",
    "    return len(data[condition])"
   ]
  },
  {
   "cell_type": "code",
   "execution_count": 298,
   "id": "57e6a3c6",
   "metadata": {},
   "outputs": [
    {
     "name": "stdout",
     "output_type": "stream",
     "text": [
      "0.27\n",
      "0.73\n"
     ]
    }
   ],
   "source": [
    "#Calculate percentages of each vote outcome\n",
    "count_0 = count(dfTrain,'vote',0,0)\n",
    "count_1 = count(dfTrain,'vote',1,1)\n",
    "\n",
    "#Use counts above to calculate probabilities of each outcome\n",
    "prob_0 = count_0/len(dfTrain)\n",
    "prob_1 = count_1/len(dfTrain)\n",
    "\n",
    "#print probabilities\n",
    "print(prob_0)\n",
    "print(prob_1)"
   ]
  },
  {
   "cell_type": "code",
   "execution_count": 299,
   "id": "10e52adb",
   "metadata": {},
   "outputs": [],
   "source": [
    "#consolidate labels created earlier\n",
    "labels = [labels1, labels2, labels3, labels4]"
   ]
  },
  {
   "cell_type": "code",
   "execution_count": 300,
   "id": "67e35778",
   "metadata": {},
   "outputs": [],
   "source": [
    "#create empty dictionary to store probabilities\n",
    "probabilities = {0:{},1:{}}"
   ]
  },
  {
   "cell_type": "code",
   "execution_count": 301,
   "id": "218bf66e",
   "metadata": {},
   "outputs": [],
   "source": [
    "#Train data\n",
    "\n",
    "#Set counter for column number (use to interate through column labels)\n",
    "counter = 0\n",
    "\n",
    "#Iterate through columns\n",
    "for col in dfTrain.columns[:-1]:\n",
    "        probabilities[0][col] = {}\n",
    "        probabilities[1][col] = {}\n",
    "        \n",
    "        #iterate through column's labels (ie categories)\n",
    "        for category in labels[counter]:\n",
    "            \n",
    "            #calculate counts of each category\n",
    "            count_ct_0 = count(dfTrain,col,category,0)\n",
    "            count_ct_1 = count(dfTrain,col,category,1)\n",
    "            \n",
    "            #calculate probabilities of each category\n",
    "            probabilities[0][col][category] = count_ct_0 / count_0\n",
    "            probabilities[1][col][category] = count_ct_1 / count_1\n",
    "        \n",
    "        #move to next set of labels\n",
    "        counter = counter+1"
   ]
  },
  {
   "cell_type": "code",
   "execution_count": 302,
   "id": "a6146aa6",
   "metadata": {},
   "outputs": [
    {
     "name": "stdout",
     "output_type": "stream",
     "text": [
      "{'age': {60: 0.009259259259259259, 51: 0.046296296296296294, 24: 0.037037037037037035, 38: 0.018518518518518517, 25: 0.037037037037037035, 67: 0.0, 40: 0.009259259259259259, 56: 0.009259259259259259, 32: 0.037037037037037035, 75: 0.0, 46: 0.009259259259259259, 52: 0.009259259259259259, 22: 0.06481481481481481, 30: 0.0, 69: 0.009259259259259259, 34: 0.009259259259259259, 76: 0.0, 29: 0.027777777777777776, 49: 0.0, 47: 0.018518518518518517, 39: 0.0, 58: 0.0, 44: 0.018518518518518517, 31: 0.018518518518518517, 74: 0.009259259259259259, 27: 0.037037037037037035, 65: 0.018518518518518517, 70: 0.009259259259259259, 54: 0.0, 23: 0.018518518518518517, 84: 0.018518518518518517, 37: 0.009259259259259259, 33: 0.018518518518518517, 57: 0.009259259259259259, 26: 0.037037037037037035, 79: 0.009259259259259259, 53: 0.0, 68: 0.0, 28: 0.009259259259259259, 43: 0.0, 80: 0.018518518518518517, 50: 0.018518518518518517, 59: 0.018518518518518517, 35: 0.018518518518518517, 77: 0.009259259259259259, 48: 0.027777777777777776, 42: 0.027777777777777776, 45: 0.009259259259259259, 41: 0.018518518518518517, 83: 0.009259259259259259, 81: 0.018518518518518517, 20: 0.027777777777777776, 72: 0.018518518518518517, 78: 0.009259259259259259, 21: 0.037037037037037035, 71: 0.0, 63: 0.009259259259259259, 64: 0.009259259259259259, 55: 0.018518518518518517, 62: 0.009259259259259259, 66: 0.009259259259259259, 95: 0.0, 36: 0.009259259259259259, 87: 0.0, 17: 0.0, 89: 0.0, 73: 0.0, 82: 0.027777777777777776, 19: 0.009259259259259259, 18: 0.018518518518518517, 92: 0.0, 61: 0.0, 88: 0.0, 85: 0.0, 86: 0.0}, 'educate': {14.0: 0.08333333333333333, 10.0: 0.12037037037037036, 12.0: 0.2777777777777778, 8.0: 0.1388888888888889, 16.0: 0.06481481481481481, 15.0: 0.027777777777777776, 9.0: 0.046296296296296294, 13.0: 0.06481481481481481, 5.0: 0.0, 7.0: 0.05555555555555555, 11.0: 0.046296296296296294, 19.0: 0.009259259259259259, 4.0: 0.0, 6.0: 0.046296296296296294, 17.0: 0.009259259259259259, 3.0: 0.0, 0.5: 0.0, 0.0: 0.009259259259259259, 1.0: 0.0, 2.0: 0.0}, 'income': {'1': 0.4074074074074074, '2': 0.18518518518518517, '3': 0.23148148148148148, '4': 0.07407407407407407, '5': 0.046296296296296294, '6': 0.027777777777777776, '7': 0.009259259259259259, '8': 0.018518518518518517, '9': 0.0, '10': 0.0}, 'white': {0: 0.18518518518518517, 1: 0.8148148148148148}}\n"
     ]
    }
   ],
   "source": [
    "#display categorical probabilities when vote is 0 (for brevity)\n",
    "print(probabilities[0])"
   ]
  },
  {
   "cell_type": "code",
   "execution_count": 303,
   "id": "32aaa799",
   "metadata": {},
   "outputs": [],
   "source": [
    "#initialize empty table for test data predictions\n",
    "predicted = []"
   ]
  },
  {
   "cell_type": "code",
   "execution_count": 304,
   "id": "7293d07a",
   "metadata": {},
   "outputs": [],
   "source": [
    "#iterate through test data\n",
    "for row in range(0,len(dfTest)):\n",
    "        \n",
    "        #initialize variables for final probabilities\n",
    "        prod_0 = prob_0\n",
    "        prod_1 = prob_1\n",
    "        \n",
    "        #calculate final probabilities based on calculated probabilities of categories\n",
    "        for feature in dfTest.columns[:-1]:\n",
    "            prod_0 *= probabilities[0][feature][dfTest[feature].iloc[row]]\n",
    "            prod_1 *= probabilities[1][feature][dfTest[feature].iloc[row]]\n",
    "        \n",
    "        #Predict the outcome\n",
    "        if prod_0 > prod_1:\n",
    "            predicted.append(0)\n",
    "        else:\n",
    "            predicted.append(1)"
   ]
  },
  {
   "cell_type": "code",
   "execution_count": 305,
   "id": "1275691d",
   "metadata": {},
   "outputs": [],
   "source": [
    "#convert predicted to data frame \n",
    "dfPred = pd.DataFrame(predicted)"
   ]
  },
  {
   "cell_type": "code",
   "execution_count": 306,
   "id": "da694804",
   "metadata": {},
   "outputs": [],
   "source": [
    "#re-initialize testing data frame to match indices, and add predictions to it\n",
    "dfTemp = dfTest.reset_index()\n",
    "dfTemp['predicted'] = dfPred"
   ]
  },
  {
   "cell_type": "code",
   "execution_count": 307,
   "id": "9f0a6060",
   "metadata": {},
   "outputs": [],
   "source": [
    "#add a column for where the prediction matches the actual value \n",
    "dfTemp['Same'] = np.where( dfTemp['vote'] == dfTemp['predicted'] , 1, 0)"
   ]
  },
  {
   "cell_type": "code",
   "execution_count": 308,
   "id": "60905940",
   "metadata": {},
   "outputs": [
    {
     "data": {
      "text/html": [
       "<div>\n",
       "<style scoped>\n",
       "    .dataframe tbody tr th:only-of-type {\n",
       "        vertical-align: middle;\n",
       "    }\n",
       "\n",
       "    .dataframe tbody tr th {\n",
       "        vertical-align: top;\n",
       "    }\n",
       "\n",
       "    .dataframe thead th {\n",
       "        text-align: right;\n",
       "    }\n",
       "</style>\n",
       "<table border=\"1\" class=\"dataframe\">\n",
       "  <thead>\n",
       "    <tr style=\"text-align: right;\">\n",
       "      <th></th>\n",
       "      <th>id</th>\n",
       "      <th>age</th>\n",
       "      <th>educate</th>\n",
       "      <th>income</th>\n",
       "      <th>white</th>\n",
       "      <th>vote</th>\n",
       "      <th>predicted</th>\n",
       "      <th>Same</th>\n",
       "    </tr>\n",
       "  </thead>\n",
       "  <tbody>\n",
       "    <tr>\n",
       "      <th>0</th>\n",
       "      <td>1</td>\n",
       "      <td>60</td>\n",
       "      <td>14.0</td>\n",
       "      <td>3</td>\n",
       "      <td>1</td>\n",
       "      <td>1</td>\n",
       "      <td>1</td>\n",
       "      <td>1</td>\n",
       "    </tr>\n",
       "    <tr>\n",
       "      <th>1</th>\n",
       "      <td>3</td>\n",
       "      <td>24</td>\n",
       "      <td>12.0</td>\n",
       "      <td>1</td>\n",
       "      <td>1</td>\n",
       "      <td>0</td>\n",
       "      <td>0</td>\n",
       "      <td>1</td>\n",
       "    </tr>\n",
       "    <tr>\n",
       "      <th>2</th>\n",
       "      <td>4</td>\n",
       "      <td>38</td>\n",
       "      <td>8.0</td>\n",
       "      <td>3</td>\n",
       "      <td>1</td>\n",
       "      <td>1</td>\n",
       "      <td>1</td>\n",
       "      <td>1</td>\n",
       "    </tr>\n",
       "    <tr>\n",
       "      <th>3</th>\n",
       "      <td>5</td>\n",
       "      <td>25</td>\n",
       "      <td>12.0</td>\n",
       "      <td>2</td>\n",
       "      <td>1</td>\n",
       "      <td>1</td>\n",
       "      <td>1</td>\n",
       "      <td>1</td>\n",
       "    </tr>\n",
       "    <tr>\n",
       "      <th>4</th>\n",
       "      <td>6</td>\n",
       "      <td>67</td>\n",
       "      <td>12.0</td>\n",
       "      <td>2</td>\n",
       "      <td>1</td>\n",
       "      <td>1</td>\n",
       "      <td>1</td>\n",
       "      <td>1</td>\n",
       "    </tr>\n",
       "  </tbody>\n",
       "</table>\n",
       "</div>"
      ],
      "text/plain": [
       "   id  age  educate income  white  vote  predicted  Same\n",
       "0   1   60     14.0      3      1     1          1     1\n",
       "1   3   24     12.0      1      1     0          0     1\n",
       "2   4   38      8.0      3      1     1          1     1\n",
       "3   5   25     12.0      2      1     1          1     1\n",
       "4   6   67     12.0      2      1     1          1     1"
      ]
     },
     "execution_count": 308,
     "metadata": {},
     "output_type": "execute_result"
    }
   ],
   "source": [
    "#display\n",
    "dfTemp.head()"
   ]
  },
  {
   "cell_type": "code",
   "execution_count": 309,
   "id": "171ef544",
   "metadata": {},
   "outputs": [
    {
     "data": {
      "text/plain": [
       "Same    0.7375\n",
       "dtype: float64"
      ]
     },
     "execution_count": 309,
     "metadata": {},
     "output_type": "execute_result"
    }
   ],
   "source": [
    "#Count number of times the prediction is accurate, over total num observations\n",
    "dfTemp[[\"Same\"]].sum()/1600"
   ]
  },
  {
   "cell_type": "markdown",
   "id": "e59db224",
   "metadata": {},
   "source": [
    "Per the above output, my model is 73.75% accurate, which is better than a coin flip!"
   ]
  },
  {
   "cell_type": "code",
   "execution_count": null,
   "id": "d9ae3c88",
   "metadata": {},
   "outputs": [],
   "source": []
  }
 ],
 "metadata": {
  "kernelspec": {
   "display_name": "Python 3 (ipykernel)",
   "language": "python",
   "name": "python3"
  },
  "language_info": {
   "codemirror_mode": {
    "name": "ipython",
    "version": 3
   },
   "file_extension": ".py",
   "mimetype": "text/x-python",
   "name": "python",
   "nbconvert_exporter": "python",
   "pygments_lexer": "ipython3",
   "version": "3.9.7"
  }
 },
 "nbformat": 4,
 "nbformat_minor": 5
}
