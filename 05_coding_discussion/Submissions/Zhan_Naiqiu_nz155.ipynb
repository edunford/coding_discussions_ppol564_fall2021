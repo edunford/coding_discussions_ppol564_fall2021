{
 "cells": [
  {
   "cell_type": "code",
   "execution_count": 6,
   "metadata": {},
   "outputs": [],
   "source": [
    "import pandas as pd\n",
    "import numpy as np\n",
    "import pprint as pp # for printing\n",
    "import scipy.stats as st # for Normal PDF\n",
    "\n",
    "# Plotting libraries \n",
    "import matplotlib.pyplot as plt\n",
    "import seaborn as sns\n",
    "from plotnine import *\n",
    "\n",
    "# Silence warnings \n",
    "import warnings\n",
    "warnings.filterwarnings(\"ignore\")"
   ]
  },
  {
   "cell_type": "code",
   "execution_count": 4,
   "metadata": {},
   "outputs": [
    {
     "data": {
      "text/html": [
       "<div>\n",
       "<style scoped>\n",
       "    .dataframe tbody tr th:only-of-type {\n",
       "        vertical-align: middle;\n",
       "    }\n",
       "\n",
       "    .dataframe tbody tr th {\n",
       "        vertical-align: top;\n",
       "    }\n",
       "\n",
       "    .dataframe thead th {\n",
       "        text-align: right;\n",
       "    }\n",
       "</style>\n",
       "<table border=\"1\" class=\"dataframe\">\n",
       "  <thead>\n",
       "    <tr style=\"text-align: right;\">\n",
       "      <th></th>\n",
       "      <th>id</th>\n",
       "      <th>age</th>\n",
       "      <th>educate</th>\n",
       "      <th>income</th>\n",
       "      <th>vote</th>\n",
       "      <th>white</th>\n",
       "    </tr>\n",
       "  </thead>\n",
       "  <tbody>\n",
       "    <tr>\n",
       "      <th>0</th>\n",
       "      <td>1</td>\n",
       "      <td>60</td>\n",
       "      <td>14.0</td>\n",
       "      <td>3.3458</td>\n",
       "      <td>1</td>\n",
       "      <td>1</td>\n",
       "    </tr>\n",
       "    <tr>\n",
       "      <th>1</th>\n",
       "      <td>2</td>\n",
       "      <td>51</td>\n",
       "      <td>10.0</td>\n",
       "      <td>1.8561</td>\n",
       "      <td>0</td>\n",
       "      <td>1</td>\n",
       "    </tr>\n",
       "    <tr>\n",
       "      <th>2</th>\n",
       "      <td>3</td>\n",
       "      <td>24</td>\n",
       "      <td>12.0</td>\n",
       "      <td>0.6304</td>\n",
       "      <td>0</td>\n",
       "      <td>1</td>\n",
       "    </tr>\n",
       "    <tr>\n",
       "      <th>3</th>\n",
       "      <td>4</td>\n",
       "      <td>38</td>\n",
       "      <td>8.0</td>\n",
       "      <td>3.4183</td>\n",
       "      <td>1</td>\n",
       "      <td>1</td>\n",
       "    </tr>\n",
       "    <tr>\n",
       "      <th>4</th>\n",
       "      <td>5</td>\n",
       "      <td>25</td>\n",
       "      <td>12.0</td>\n",
       "      <td>2.7852</td>\n",
       "      <td>1</td>\n",
       "      <td>1</td>\n",
       "    </tr>\n",
       "    <tr>\n",
       "      <th>...</th>\n",
       "      <td>...</td>\n",
       "      <td>...</td>\n",
       "      <td>...</td>\n",
       "      <td>...</td>\n",
       "      <td>...</td>\n",
       "      <td>...</td>\n",
       "    </tr>\n",
       "    <tr>\n",
       "      <th>1995</th>\n",
       "      <td>1996</td>\n",
       "      <td>26</td>\n",
       "      <td>16.0</td>\n",
       "      <td>3.3834</td>\n",
       "      <td>0</td>\n",
       "      <td>1</td>\n",
       "    </tr>\n",
       "    <tr>\n",
       "      <th>1996</th>\n",
       "      <td>1997</td>\n",
       "      <td>34</td>\n",
       "      <td>12.0</td>\n",
       "      <td>2.9170</td>\n",
       "      <td>1</td>\n",
       "      <td>1</td>\n",
       "    </tr>\n",
       "    <tr>\n",
       "      <th>1997</th>\n",
       "      <td>1998</td>\n",
       "      <td>51</td>\n",
       "      <td>16.0</td>\n",
       "      <td>7.8949</td>\n",
       "      <td>1</td>\n",
       "      <td>1</td>\n",
       "    </tr>\n",
       "    <tr>\n",
       "      <th>1998</th>\n",
       "      <td>1999</td>\n",
       "      <td>22</td>\n",
       "      <td>10.0</td>\n",
       "      <td>2.4811</td>\n",
       "      <td>0</td>\n",
       "      <td>1</td>\n",
       "    </tr>\n",
       "    <tr>\n",
       "      <th>1999</th>\n",
       "      <td>2000</td>\n",
       "      <td>59</td>\n",
       "      <td>10.0</td>\n",
       "      <td>0.5523</td>\n",
       "      <td>0</td>\n",
       "      <td>1</td>\n",
       "    </tr>\n",
       "  </tbody>\n",
       "</table>\n",
       "<p>2000 rows × 6 columns</p>\n",
       "</div>"
      ],
      "text/plain": [
       "        id  age  educate  income  vote  white\n",
       "0        1   60     14.0  3.3458     1      1\n",
       "1        2   51     10.0  1.8561     0      1\n",
       "2        3   24     12.0  0.6304     0      1\n",
       "3        4   38      8.0  3.4183     1      1\n",
       "4        5   25     12.0  2.7852     1      1\n",
       "...    ...  ...      ...     ...   ...    ...\n",
       "1995  1996   26     16.0  3.3834     0      1\n",
       "1996  1997   34     12.0  2.9170     1      1\n",
       "1997  1998   51     16.0  7.8949     1      1\n",
       "1998  1999   22     10.0  2.4811     0      1\n",
       "1999  2000   59     10.0  0.5523     0      1\n",
       "\n",
       "[2000 rows x 6 columns]"
      ]
     },
     "execution_count": 4,
     "metadata": {},
     "output_type": "execute_result"
    }
   ],
   "source": [
    "dat = pd.read_csv(\"/Users/Lawrence/Desktop/Georgetown_G1/PPOL_564_DS/coding_discussions_ppol564_fall2021/05_coding_discussion/turnout.csv\")\n",
    "dat"
   ]
  },
  {
   "cell_type": "code",
   "execution_count": 8,
   "metadata": {},
   "outputs": [
    {
     "name": "stdout",
     "output_type": "stream",
     "text": [
      "Training Data: 1600 \n",
      "Test Data: 400\n"
     ]
    },
    {
     "data": {
      "text/html": [
       "<div>\n",
       "<style scoped>\n",
       "    .dataframe tbody tr th:only-of-type {\n",
       "        vertical-align: middle;\n",
       "    }\n",
       "\n",
       "    .dataframe tbody tr th {\n",
       "        vertical-align: top;\n",
       "    }\n",
       "\n",
       "    .dataframe thead th {\n",
       "        text-align: right;\n",
       "    }\n",
       "</style>\n",
       "<table border=\"1\" class=\"dataframe\">\n",
       "  <thead>\n",
       "    <tr style=\"text-align: right;\">\n",
       "      <th></th>\n",
       "      <th>id</th>\n",
       "      <th>age</th>\n",
       "      <th>educate</th>\n",
       "      <th>income</th>\n",
       "      <th>vote</th>\n",
       "      <th>white</th>\n",
       "    </tr>\n",
       "  </thead>\n",
       "  <tbody>\n",
       "    <tr>\n",
       "      <th>0</th>\n",
       "      <td>1026</td>\n",
       "      <td>64</td>\n",
       "      <td>12.0</td>\n",
       "      <td>1.8967</td>\n",
       "      <td>0</td>\n",
       "      <td>1</td>\n",
       "    </tr>\n",
       "    <tr>\n",
       "      <th>1</th>\n",
       "      <td>1209</td>\n",
       "      <td>22</td>\n",
       "      <td>14.0</td>\n",
       "      <td>6.0903</td>\n",
       "      <td>1</td>\n",
       "      <td>1</td>\n",
       "    </tr>\n",
       "    <tr>\n",
       "      <th>2</th>\n",
       "      <td>1056</td>\n",
       "      <td>48</td>\n",
       "      <td>14.0</td>\n",
       "      <td>2.3866</td>\n",
       "      <td>1</td>\n",
       "      <td>1</td>\n",
       "    </tr>\n",
       "    <tr>\n",
       "      <th>3</th>\n",
       "      <td>368</td>\n",
       "      <td>84</td>\n",
       "      <td>7.0</td>\n",
       "      <td>0.2364</td>\n",
       "      <td>1</td>\n",
       "      <td>1</td>\n",
       "    </tr>\n",
       "    <tr>\n",
       "      <th>4</th>\n",
       "      <td>816</td>\n",
       "      <td>30</td>\n",
       "      <td>12.0</td>\n",
       "      <td>2.9193</td>\n",
       "      <td>1</td>\n",
       "      <td>1</td>\n",
       "    </tr>\n",
       "  </tbody>\n",
       "</table>\n",
       "</div>"
      ],
      "text/plain": [
       "     id  age  educate  income  vote  white\n",
       "0  1026   64     12.0  1.8967     0      1\n",
       "1  1209   22     14.0  6.0903     1      1\n",
       "2  1056   48     14.0  2.3866     1      1\n",
       "3   368   84      7.0  0.2364     1      1\n",
       "4   816   30     12.0  2.9193     1      1"
      ]
     },
     "execution_count": 8,
     "metadata": {},
     "output_type": "execute_result"
    }
   ],
   "source": [
    "np.random.seed(100)\n",
    "\n",
    "#Train_Test split\n",
    "train = dat.sample(frac=.8).reset_index(drop=True)\n",
    "test = dat.drop(train.index).reset_index(drop=True)\n",
    "\n",
    "print(\"Training Data:\", train.shape[0],\n",
    "     \"\\nTest Data:\", test.shape[0])\n",
    "\n",
    "train.head()"
   ]
  },
  {
   "cell_type": "code",
   "execution_count": 11,
   "metadata": {},
   "outputs": [],
   "source": [
    "cols_cate = train[['vote', 'white']]\n",
    "cols_cont = train[['age', 'educate', 'income', 'vote']]"
   ]
  },
  {
   "cell_type": "code",
   "execution_count": 38,
   "metadata": {},
   "outputs": [],
   "source": [
    "def calc_probs(data,outcome_var=\"\"):\n",
    "    '''\n",
    "    Function calculates the class and conditional probabilities in \n",
    "    the binary data. \n",
    "    \n",
    "    Note that I'm using dictionaries with tuple keys to keep\n",
    "    track of the variable, it's val, and the outcome, which we're conditioning on. \n",
    "    '''\n",
    "    # Generate empty dictionary containers.\n",
    "    class_probs = {};cond_probs = {}\n",
    "    # Locate all variables that are not the outcome.\n",
    "    vars = [v for v in data.columns if v != outcome_var]\n",
    "    # iterate through the class outcomes\n",
    "    for y, d in data.groupby(outcome_var): \n",
    "        # calculate the class probabilities\n",
    "        class_probs.update({y: d.shape[0]/data.shape[0]})\n",
    "        for v in vars:\n",
    "            # calculate the conditional probabilities for each variable given the class.\n",
    "            pr = d[v].sum()/d.shape[0]\n",
    "            cond_probs[(v,1,y)] = pr \n",
    "            cond_probs[(v,0,y)] = 1 - pr\n",
    "    return class_probs, cond_probs"
   ]
  },
  {
   "cell_type": "code",
   "execution_count": 39,
   "metadata": {},
   "outputs": [],
   "source": [
    "class_probs, cond_probs = calc_probs(cols_cate, 'vote')"
   ]
  },
  {
   "cell_type": "code",
   "execution_count": 41,
   "metadata": {},
   "outputs": [
    {
     "name": "stdout",
     "output_type": "stream",
     "text": [
      "{('age', 1): {'mean': 45.90939597315436, 'sd': 16.823282983666747}, ('age', 0): {'mean': 42.21078431372549, 'sd': 18.7406895835342}, ('educate', 1): {'mean': 12.59270134228188, 'sd': 3.284125431568544}, ('educate', 0): {'mean': 10.713235294117647, 'sd': 3.3343379634605665}, ('income', 1): {'mean': 4.281981879194631, 'sd': 2.8969616440117725}, ('income', 0): {'mean': 2.7734566176470583, 'sd': 2.1651119385592343}}\n"
     ]
    }
   ],
   "source": [
    "#Subset the train data by the 'vote' column.\n",
    "v_1 = train.query(\"vote == 1\")\n",
    "v_0 = train.query(\"vote == 0\")\n",
    "\n",
    "# Collect the mean and standard dev. of each conditional distribution\n",
    "dist_locs = \\\n",
    "{(\"age\",1):{'mean':v_1.age.mean(),'sd':v_1.age.std()},\n",
    " (\"age\",0):{'mean':v_0.age.mean(),'sd':v_0.age.std()},\n",
    " (\"educate\",1):{'mean':v_1.educate.mean(),'sd':v_1.educate.std()},\n",
    " (\"educate\",0):{'mean':v_0.educate.mean(),'sd':v_0.educate.std()},\n",
    " (\"income\",1):{'mean':v_1.income.mean(),'sd':v_1.income.std()},\n",
    " (\"income\",0):{'mean':v_0.income.mean(),'sd':v_0.income.std()}\n",
    "}\n",
    "\n",
    "print(dist_locs)"
   ]
  },
  {
   "cell_type": "code",
   "execution_count": 65,
   "metadata": {},
   "outputs": [],
   "source": [
    "def predict(data,class_probs,cond_probs, dist_locs):\n",
    "    '''\n",
    "    Function calculates the conditiona probability for membership into each class.\n",
    "    Then returns both the probabilities and the most likely class. \n",
    "    '''\n",
    "    store_preds = []\n",
    "    #Iterate through each row.\n",
    "    for i,row in data.iterrows():\n",
    "        #Set the initial probabilities to 0.\n",
    "        pr_1 = 1; pr_0 = 1\n",
    "        #Multiply conditional prob of categorical variable. \n",
    "        pr_0 *= cond_probs[(row.index[5],row.values[5],0)]\n",
    "        pr_1 *= cond_probs[(row.index[5],row.values[5],1)]     \n",
    "        pr_0 *= class_probs[0]\n",
    "        pr_1 *= class_probs[1]\n",
    "        #Multiply the conditional probabilities of continuous variables. \n",
    "        for j in range(1,4):\n",
    "            pr_0 *= st.norm(dist_locs[(row.index[j],0)]['mean'],\n",
    "                            dist_locs[(row.index[j],0)]['sd']).pdf(row.values[j])\n",
    "            pr_1 *= st.norm(dist_locs[(row.index[j],1)]['mean'], \n",
    "                            dist_locs[(row.index[j],1)]['sd']).pdf(row.values[j])\n",
    "    \n",
    "        # Assign the class designation to the highest probability\n",
    "        if pr_0 >= pr_1:\n",
    "            class_pred = 0\n",
    "        else:\n",
    "            class_pred = 1\n",
    "            \n",
    "        store_preds.append([pr_0,pr_1,class_pred])\n",
    "        \n",
    "    return pd.DataFrame(store_preds,columns=[\"pr_0\",\"pr_1\",\"pred\"])"
   ]
  },
  {
   "cell_type": "code",
   "execution_count": 66,
   "metadata": {},
   "outputs": [
    {
     "data": {
      "text/plain": [
       "0.741875"
      ]
     },
     "execution_count": 66,
     "metadata": {},
     "output_type": "execute_result"
    }
   ],
   "source": [
    "preds=predict(train,class_probs,cond_probs,dist_locs)\n",
    "accuracy = sum(train.vote == preds.pred)/train.shape[0]\n",
    "accuracy\n",
    "# Calculate the predictive accuracy on training data. "
   ]
  },
  {
   "cell_type": "code",
   "execution_count": 67,
   "metadata": {},
   "outputs": [
    {
     "data": {
      "text/plain": [
       "0.71"
      ]
     },
     "execution_count": 67,
     "metadata": {},
     "output_type": "execute_result"
    }
   ],
   "source": [
    "test_preds = predict(test, class_probs, cond_probs, dist_locs)\n",
    "test_accuracy = sum(test.vote == test_preds.pred)/test.shape[0]\n",
    "test_accuracy\n",
    "#Calculate the predictive accuracy on test data.\n",
    "#The accuracy is 74.31% and 71%, it is better than coin flips."
   ]
  }
 ],
 "metadata": {
  "kernelspec": {
   "display_name": "Python 3 (ipykernel)",
   "language": "python",
   "name": "python3"
  },
  "language_info": {
   "codemirror_mode": {
    "name": "ipython",
    "version": 3
   },
   "file_extension": ".py",
   "mimetype": "text/x-python",
   "name": "python",
   "nbconvert_exporter": "python",
   "pygments_lexer": "ipython3",
   "version": "3.9.7"
  }
 },
 "nbformat": 4,
 "nbformat_minor": 4
}
