{
 "cells": [
  {
   "cell_type": "markdown",
   "id": "647078ed",
   "metadata": {},
   "source": [
    "### PPOL 564 - Coding Discussion #5<br/>Ryan Ripper<br/>11/14/21"
   ]
  },
  {
   "cell_type": "code",
   "execution_count": 1,
   "id": "689cf9e3",
   "metadata": {},
   "outputs": [],
   "source": [
    "# Import the necessary Python Modules.\n",
    "import pandas as pd # For Pandas.\n",
    "import numpy as np # For Numpy.\n",
    "import pprint as pp # For printing.\n",
    "import scipy.stats as st # For Normal PDF.\n",
    "import matplotlib.pyplot as plt\n",
    "from plotnine import *\n",
    "\n",
    "# Silence warnings.\n",
    "import warnings\n",
    "warnings.filterwarnings(\"ignore\")"
   ]
  },
  {
   "cell_type": "markdown",
   "id": "459013c6",
   "metadata": {},
   "source": [
    "We will build a Naive Bayes Classifier considering both discrete and continous predictors in order to predict whether or not an individual voted in the 2012 Presidential election. In order to handle both discrete and continous predictors, we will build two separate dictionaries to hold the discrete and continous conditional probabilities. Once both dictionaries have been built, we pull in the associated conditional probability when needed. For the discrete predictors, we use the exact conditional probabilities listed in the associated dictionary. For the continous predictors, we estimate the conditional probabiilities using a Gaussian distribution."
   ]
  },
  {
   "cell_type": "code",
   "execution_count": 2,
   "id": "d7985261",
   "metadata": {},
   "outputs": [],
   "source": [
    "# Load in the Turnout data.\n",
    "turnout_data = pd.read_csv(\"../turnout.csv\")\n",
    "\n",
    "# Remove \"id\" and reorder columns in the Turnout data.\n",
    "turnout_data = turnout_data.reindex(columns = [\"vote\", \"age\", \"educate\", \"income\", \"white\"])\n",
    "\n",
    "# Break up the data into training (80% of total) and testing (20% of total) data.\n",
    "train = turnout_data.sample(frac = .8).reset_index(drop = True)\n",
    "test = turnout_data.drop(train.index).reset_index(drop = True)"
   ]
  },
  {
   "cell_type": "code",
   "execution_count": 3,
   "id": "8b0cabf6",
   "metadata": {},
   "outputs": [
    {
     "name": "stdout",
     "output_type": "stream",
     "text": [
      "Training Data: 1600 \n",
      "Test Data: 400\n"
     ]
    },
    {
     "data": {
      "text/html": [
       "<div>\n",
       "<style scoped>\n",
       "    .dataframe tbody tr th:only-of-type {\n",
       "        vertical-align: middle;\n",
       "    }\n",
       "\n",
       "    .dataframe tbody tr th {\n",
       "        vertical-align: top;\n",
       "    }\n",
       "\n",
       "    .dataframe thead th {\n",
       "        text-align: right;\n",
       "    }\n",
       "</style>\n",
       "<table border=\"1\" class=\"dataframe\">\n",
       "  <thead>\n",
       "    <tr style=\"text-align: right;\">\n",
       "      <th></th>\n",
       "      <th>vote</th>\n",
       "      <th>age</th>\n",
       "      <th>educate</th>\n",
       "      <th>income</th>\n",
       "      <th>white</th>\n",
       "    </tr>\n",
       "  </thead>\n",
       "  <tbody>\n",
       "    <tr>\n",
       "      <th>0</th>\n",
       "      <td>1</td>\n",
       "      <td>64</td>\n",
       "      <td>16.0</td>\n",
       "      <td>5.8684</td>\n",
       "      <td>1</td>\n",
       "    </tr>\n",
       "    <tr>\n",
       "      <th>1</th>\n",
       "      <td>1</td>\n",
       "      <td>65</td>\n",
       "      <td>12.0</td>\n",
       "      <td>3.7435</td>\n",
       "      <td>1</td>\n",
       "    </tr>\n",
       "    <tr>\n",
       "      <th>2</th>\n",
       "      <td>0</td>\n",
       "      <td>30</td>\n",
       "      <td>12.0</td>\n",
       "      <td>1.7260</td>\n",
       "      <td>1</td>\n",
       "    </tr>\n",
       "    <tr>\n",
       "      <th>3</th>\n",
       "      <td>0</td>\n",
       "      <td>22</td>\n",
       "      <td>7.0</td>\n",
       "      <td>0.2364</td>\n",
       "      <td>1</td>\n",
       "    </tr>\n",
       "    <tr>\n",
       "      <th>4</th>\n",
       "      <td>1</td>\n",
       "      <td>46</td>\n",
       "      <td>10.0</td>\n",
       "      <td>1.3566</td>\n",
       "      <td>0</td>\n",
       "    </tr>\n",
       "  </tbody>\n",
       "</table>\n",
       "</div>"
      ],
      "text/plain": [
       "   vote  age  educate  income  white\n",
       "0     1   64     16.0  5.8684      1\n",
       "1     1   65     12.0  3.7435      1\n",
       "2     0   30     12.0  1.7260      1\n",
       "3     0   22      7.0  0.2364      1\n",
       "4     1   46     10.0  1.3566      0"
      ]
     },
     "execution_count": 3,
     "metadata": {},
     "output_type": "execute_result"
    }
   ],
   "source": [
    "# Check to make sure the data was loaded properly.\n",
    "\n",
    "# Print off the split count.\n",
    "print(\"Training Data:\", train.shape[0],\n",
    "      \"\\nTest Data:\", test.shape[0])\n",
    "\n",
    "# Look at the head of the training data.\n",
    "train.head()"
   ]
  },
  {
   "cell_type": "code",
   "execution_count": 4,
   "id": "6432752f",
   "metadata": {},
   "outputs": [],
   "source": [
    "# First, calculate class probabilities.\n",
    "\n",
    "# Collect observations that did vote (first subset).\n",
    "vote1 = train.query(\"vote == 1\")\n",
    "\n",
    "# Collect observations that did not vote (second subset).\n",
    "vote0 = train.query(\"vote == 0\")\n",
    "\n",
    "# Calculate class probabilities for observations that did vote and did not vote.\n",
    "pr_vote1 = vote1.shape[0] / train.shape[0]\n",
    "pr_vote0 = vote0.shape[0] / train.shape[0]"
   ]
  },
  {
   "cell_type": "code",
   "execution_count": 5,
   "id": "ff9c5e40",
   "metadata": {},
   "outputs": [],
   "source": [
    "# Second, calculate the conditional probabilities.\n",
    "\n",
    "# Consider the discrete predictors first.\n",
    "\n",
    "# Collect the conditional probabilities in a dictionary with tuple keys (\"white\", [0, 1], [0, 1]).\n",
    "# The second item in the tuple key designates whether or not observation is white.\n",
    "# The third item in the tuple key desginates whether or not observation voted.\n",
    "dist_locs_discrete = \\\n",
    "{\n",
    "    (\"white\", 0, 0) : vote0.query(\"white == 0\").shape[0] / vote0.shape[0],\n",
    "    (\"white\", 0, 1) : vote1.query(\"white == 0\").shape[0] / vote1.shape[0],\n",
    "    (\"white\", 1, 0) : vote0.query(\"white == 1\").shape[0] / vote0.shape[0],\n",
    "    (\"white\", 1, 1) : vote1.query(\"white == 1\").shape[0] / vote1.shape[0]\n",
    "}"
   ]
  },
  {
   "cell_type": "code",
   "execution_count": 6,
   "id": "276098f5",
   "metadata": {},
   "outputs": [],
   "source": [
    "# Consider the continuous predictors.\n",
    "\n",
    "# Collect the mean and standard deviation of each conditional distribution.\n",
    "# The collection of mean and standard deviations are held in a dictionary with tuple keys (predictor, [0, 1])\n",
    "# The first item in the tuple key desginates the associated predictor type.\n",
    "# The second item in the tuple key designates whether or not the observation is white.\n",
    "dist_locs_continuous = \\\n",
    "{\n",
    "    (\"age\", 0) : {\"mean\" : vote0.age.mean(), \"sd\" : vote0.age.std()},\n",
    "    (\"age\", 1) : {\"mean\" : vote1.age.mean(), \"sd\" : vote1.age.std()},\n",
    "    (\"educate\", 0) : {\"mean\" : vote0.educate.mean(), \"sd\" : vote0.educate.std()},\n",
    "    (\"educate\", 1) : {\"mean\" : vote1.educate.mean(), \"sd\" : vote1.educate.std()},\n",
    "    (\"income\", 0) : {\"mean\" : vote0.income.mean(), \"sd\" : vote0.income.std()},\n",
    "    (\"income\", 1) : {\"mean\" : vote1.income.mean(), \"sd\" : vote1.income.std()}   \n",
    "}"
   ]
  },
  {
   "cell_type": "code",
   "execution_count": 7,
   "id": "91744ed2",
   "metadata": {},
   "outputs": [],
   "source": [
    "\"\"\"\n",
    "Create function that takes data along with the conditional probability dictionaries for both discrete and\n",
    "continous predictors to predict multiple observations.\n",
    "\"\"\"\n",
    "def predict(data, dist_locs_discrete, dist_locs_continuous):\n",
    "    \"\"\"\n",
    "    The predict function creates a Pandas DataFrame.\n",
    "    The DataFrame holds the associated probability of the observation voting or not and the corresponding prediction.\n",
    "    \n",
    "    Arguments\n",
    "    -----\n",
    "    data: Pandas DataFrame\n",
    "        A Pandas DataFrame containing observations from the 2012 National Election Survey.\n",
    "        \n",
    "    dist_locs_discrete: dictionary\n",
    "        A dictionary with tuple keys holding the conditional probabilities for the discrete predictors in the data.\n",
    "        \n",
    "    dist_locs_continous: dictionary\n",
    "        A dictionary with tuple keys holding the conditional probabilities for the continous predictors in the data.\n",
    "    \n",
    "    return\n",
    "    -----\n",
    "    A Pandas DataFrame with corresponding probabilities for an observation voting, not voting, and prediction.\n",
    "    \"\"\"\n",
    "    \n",
    "    # Create list to store all the predictions in.\n",
    "    store_preds = []\n",
    "    \n",
    "    # Iterate through all the rows in the data to be predicted.\n",
    "    for i, row in data.iterrows():\n",
    "        \n",
    "        # Initialize the probability to 1 so that we can multiply on to the predicted probability.\n",
    "        pr_0 = 1\n",
    "        pr_1 = 1\n",
    "        \n",
    "        for j in range(1, len(row)):\n",
    "            # Consider only the continuous predictors.\n",
    "            if (row.index[j] != \"white\"):\n",
    "                # Get the predictions using a Gaussan distribution.\n",
    "                pr_0 *= st.norm(dist_locs_continuous[(row.index[j], 0)]['mean'],\n",
    "                                dist_locs_continuous[(row.index[j], 0)]['sd']).pdf(row.values[j])\n",
    "\n",
    "                pr_1 *= st.norm(dist_locs_continuous[(row.index[j], 1)]['mean'], \n",
    "                                dist_locs_continuous[(row.index[j], 1)]['sd']).pdf(row.values[j])\n",
    "            # Consider the discrete predictors.\n",
    "            else:\n",
    "                # Pull in the probability for white when did vote from the dictionary.\n",
    "                pr_0 *= dist_locs_discrete[(row.index[j], row.values[j], 0)]\n",
    "        \n",
    "                # Pull in the probability for white when did not vote fron the dictionary.\n",
    "                pr_1 *= dist_locs_discrete[(row.index[j], row.values[j], 1)]\n",
    "        \n",
    "        # Multiply on the class probability for did not vote.\n",
    "        pr_0 *= pr_vote0\n",
    "        \n",
    "        # Multiply on the class probability for did vote.\n",
    "        pr_1 *= pr_vote1\n",
    "        \n",
    "        # Assign the class designation to the highest probability.\n",
    "        if pr_0 >= pr_1:\n",
    "            class_pred = 0\n",
    "        else:\n",
    "            class_pred = 1\n",
    "        \n",
    "        # Add the prediction to the list of final predictions.\n",
    "        store_preds.append([pr_0, pr_1, class_pred])\n",
    "    \n",
    "    # Return the list of all predictions as a Pandas DataFrame.\n",
    "    return pd.DataFrame(store_preds, columns = [\"pr_0\", \"pr_1\", \"pred\"])"
   ]
  },
  {
   "cell_type": "code",
   "execution_count": 8,
   "id": "b3af6a95",
   "metadata": {},
   "outputs": [],
   "source": [
    "# Run on the training data.\n",
    "preds_train = predict(train, dist_locs_discrete, dist_locs_continuous)"
   ]
  },
  {
   "cell_type": "code",
   "execution_count": 9,
   "id": "69273105",
   "metadata": {},
   "outputs": [
    {
     "data": {
      "text/html": [
       "<div>\n",
       "<style scoped>\n",
       "    .dataframe tbody tr th:only-of-type {\n",
       "        vertical-align: middle;\n",
       "    }\n",
       "\n",
       "    .dataframe tbody tr th {\n",
       "        vertical-align: top;\n",
       "    }\n",
       "\n",
       "    .dataframe thead th {\n",
       "        text-align: right;\n",
       "    }\n",
       "</style>\n",
       "<table border=\"1\" class=\"dataframe\">\n",
       "  <thead>\n",
       "    <tr style=\"text-align: right;\">\n",
       "      <th></th>\n",
       "      <th>pr_0</th>\n",
       "      <th>pr_1</th>\n",
       "      <th>pred</th>\n",
       "    </tr>\n",
       "  </thead>\n",
       "  <tbody>\n",
       "    <tr>\n",
       "      <th>0</th>\n",
       "      <td>0.000004</td>\n",
       "      <td>0.000074</td>\n",
       "      <td>1</td>\n",
       "    </tr>\n",
       "    <tr>\n",
       "      <th>1</th>\n",
       "      <td>0.000039</td>\n",
       "      <td>0.000136</td>\n",
       "      <td>1</td>\n",
       "    </tr>\n",
       "    <tr>\n",
       "      <th>2</th>\n",
       "      <td>0.000059</td>\n",
       "      <td>0.000107</td>\n",
       "      <td>1</td>\n",
       "    </tr>\n",
       "    <tr>\n",
       "      <th>3</th>\n",
       "      <td>0.000014</td>\n",
       "      <td>0.000008</td>\n",
       "      <td>0</td>\n",
       "    </tr>\n",
       "    <tr>\n",
       "      <th>4</th>\n",
       "      <td>0.000021</td>\n",
       "      <td>0.000016</td>\n",
       "      <td>0</td>\n",
       "    </tr>\n",
       "    <tr>\n",
       "      <th>5</th>\n",
       "      <td>0.000006</td>\n",
       "      <td>0.000115</td>\n",
       "      <td>1</td>\n",
       "    </tr>\n",
       "    <tr>\n",
       "      <th>6</th>\n",
       "      <td>0.000001</td>\n",
       "      <td>0.000008</td>\n",
       "      <td>1</td>\n",
       "    </tr>\n",
       "    <tr>\n",
       "      <th>7</th>\n",
       "      <td>0.000015</td>\n",
       "      <td>0.000027</td>\n",
       "      <td>1</td>\n",
       "    </tr>\n",
       "    <tr>\n",
       "      <th>8</th>\n",
       "      <td>0.000027</td>\n",
       "      <td>0.000128</td>\n",
       "      <td>1</td>\n",
       "    </tr>\n",
       "    <tr>\n",
       "      <th>9</th>\n",
       "      <td>0.000011</td>\n",
       "      <td>0.000144</td>\n",
       "      <td>1</td>\n",
       "    </tr>\n",
       "  </tbody>\n",
       "</table>\n",
       "</div>"
      ],
      "text/plain": [
       "       pr_0      pr_1  pred\n",
       "0  0.000004  0.000074     1\n",
       "1  0.000039  0.000136     1\n",
       "2  0.000059  0.000107     1\n",
       "3  0.000014  0.000008     0\n",
       "4  0.000021  0.000016     0\n",
       "5  0.000006  0.000115     1\n",
       "6  0.000001  0.000008     1\n",
       "7  0.000015  0.000027     1\n",
       "8  0.000027  0.000128     1\n",
       "9  0.000011  0.000144     1"
      ]
     },
     "execution_count": 9,
     "metadata": {},
     "output_type": "execute_result"
    }
   ],
   "source": [
    "# Examine the predicted output.\n",
    "preds_train.head(10)"
   ]
  },
  {
   "cell_type": "code",
   "execution_count": 10,
   "id": "1174f33c",
   "metadata": {},
   "outputs": [
    {
     "data": {
      "text/plain": [
       "0.743125"
      ]
     },
     "execution_count": 10,
     "metadata": {},
     "output_type": "execute_result"
    }
   ],
   "source": [
    "# Examine the predictive accuracy of the training data.\n",
    "accuracy_train = sum(train.vote == preds_train.pred) / train.shape[0]\n",
    "accuracy_train"
   ]
  },
  {
   "cell_type": "code",
   "execution_count": 11,
   "id": "132065c8",
   "metadata": {},
   "outputs": [],
   "source": [
    "# Run on the test data.\n",
    "preds_test = predict(test, dist_locs_discrete, dist_locs_continuous)"
   ]
  },
  {
   "cell_type": "code",
   "execution_count": 12,
   "id": "cb2a6f3e",
   "metadata": {},
   "outputs": [
    {
     "data": {
      "text/plain": [
       "0.71"
      ]
     },
     "execution_count": 12,
     "metadata": {},
     "output_type": "execute_result"
    }
   ],
   "source": [
    "# Examine the predictive accuracy on the test data.\n",
    "accuracy_test = sum(test.vote == preds_test.pred) / test.shape[0]\n",
    "accuracy_test"
   ]
  },
  {
   "cell_type": "markdown",
   "id": "2a7dab1d",
   "metadata": {},
   "source": [
    "We see that our model predicts whether or not someone voted in the 2012 Presidential election with 74.3% accuracy on the training data. However, once we examine the accuracy of our model with test data, we have an out of sample prediction of 71%. Ultimately, our model does perform better than chance since we are predicting the vote result correctly a majority of the time."
   ]
  }
 ],
 "metadata": {
  "kernelspec": {
   "display_name": "Python 3 (ipykernel)",
   "language": "python",
   "name": "python3"
  },
  "language_info": {
   "codemirror_mode": {
    "name": "ipython",
    "version": 3
   },
   "file_extension": ".py",
   "mimetype": "text/x-python",
   "name": "python",
   "nbconvert_exporter": "python",
   "pygments_lexer": "ipython3",
   "version": "3.8.4"
  }
 },
 "nbformat": 4,
 "nbformat_minor": 5
}
