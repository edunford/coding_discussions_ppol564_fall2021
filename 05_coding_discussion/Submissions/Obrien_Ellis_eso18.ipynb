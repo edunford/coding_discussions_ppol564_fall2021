{
 "cells": [
  {
   "cell_type": "markdown",
   "id": "4ea0b256",
   "metadata": {},
   "source": [
    "\n",
    "In the discussion folder, you'll find the `turnout.csv` data, which was drawn from the 2012 National Election Survey. The data records the age, eduction level (of total years in school), income, race (caucasian or not), and past voting record (i.e. whether or not the respondent voted in the 2012 Presidential election). The sample is composed of 2000 individual respondents. \n",
    "\n",
    "Please break the data up into a training (1600 entries, 80%) and test dataset (400 entries, 20%). \n",
    "\n",
    "Build a Naive Bayesian Classifier from scratch that tries to predict whether a respondent will vote in a presidential election or not, pr(Vote==1). The classifier must be built from scratch. Do not use a third party ML or statistical package. \n",
    "\n",
    "Run your algorithm and see how it predicts on the test data by calculating the predictive accuracy. \n",
    "\n",
    "Does your model perform better than chance (i.e. coin flip)?"
   ]
  },
  {
   "cell_type": "code",
   "execution_count": 26,
   "id": "96adf183",
   "metadata": {},
   "outputs": [],
   "source": [
    "import numpy as np\n",
    "import pandas as pd\n",
    "import scipy.stats as st \n",
    "import pprint as pp \n"
   ]
  },
  {
   "cell_type": "code",
   "execution_count": 72,
   "id": "a4867540",
   "metadata": {},
   "outputs": [
    {
     "data": {
      "text/html": [
       "<div>\n",
       "<style scoped>\n",
       "    .dataframe tbody tr th:only-of-type {\n",
       "        vertical-align: middle;\n",
       "    }\n",
       "\n",
       "    .dataframe tbody tr th {\n",
       "        vertical-align: top;\n",
       "    }\n",
       "\n",
       "    .dataframe thead th {\n",
       "        text-align: right;\n",
       "    }\n",
       "</style>\n",
       "<table border=\"1\" class=\"dataframe\">\n",
       "  <thead>\n",
       "    <tr style=\"text-align: right;\">\n",
       "      <th></th>\n",
       "      <th>id</th>\n",
       "      <th>age</th>\n",
       "      <th>educate</th>\n",
       "      <th>income</th>\n",
       "      <th>vote</th>\n",
       "      <th>white</th>\n",
       "    </tr>\n",
       "  </thead>\n",
       "  <tbody>\n",
       "    <tr>\n",
       "      <th>0</th>\n",
       "      <td>1</td>\n",
       "      <td>60</td>\n",
       "      <td>14.0</td>\n",
       "      <td>3.3458</td>\n",
       "      <td>1</td>\n",
       "      <td>1</td>\n",
       "    </tr>\n",
       "    <tr>\n",
       "      <th>1</th>\n",
       "      <td>2</td>\n",
       "      <td>51</td>\n",
       "      <td>10.0</td>\n",
       "      <td>1.8561</td>\n",
       "      <td>0</td>\n",
       "      <td>1</td>\n",
       "    </tr>\n",
       "    <tr>\n",
       "      <th>2</th>\n",
       "      <td>3</td>\n",
       "      <td>24</td>\n",
       "      <td>12.0</td>\n",
       "      <td>0.6304</td>\n",
       "      <td>0</td>\n",
       "      <td>1</td>\n",
       "    </tr>\n",
       "    <tr>\n",
       "      <th>3</th>\n",
       "      <td>4</td>\n",
       "      <td>38</td>\n",
       "      <td>8.0</td>\n",
       "      <td>3.4183</td>\n",
       "      <td>1</td>\n",
       "      <td>1</td>\n",
       "    </tr>\n",
       "    <tr>\n",
       "      <th>4</th>\n",
       "      <td>5</td>\n",
       "      <td>25</td>\n",
       "      <td>12.0</td>\n",
       "      <td>2.7852</td>\n",
       "      <td>1</td>\n",
       "      <td>1</td>\n",
       "    </tr>\n",
       "  </tbody>\n",
       "</table>\n",
       "</div>"
      ],
      "text/plain": [
       "   id  age  educate  income  vote  white\n",
       "0   1   60     14.0  3.3458     1      1\n",
       "1   2   51     10.0  1.8561     0      1\n",
       "2   3   24     12.0  0.6304     0      1\n",
       "3   4   38      8.0  3.4183     1      1\n",
       "4   5   25     12.0  2.7852     1      1"
      ]
     },
     "execution_count": 72,
     "metadata": {},
     "output_type": "execute_result"
    }
   ],
   "source": [
    "#importing and viewing data \n",
    "filepath='/Users/ellisobrien/Desktop/Georgetown Semester 1/Data Science/coding_discussions_ppol564_fall2021/05_coding_discussion/turnout.csv'\n",
    "csv = pd.read_csv(filepath)\n",
    "csv.head()\n"
   ]
  },
  {
   "cell_type": "code",
   "execution_count": 73,
   "id": "925b0c89",
   "metadata": {},
   "outputs": [
    {
     "name": "stdout",
     "output_type": "stream",
     "text": [
      "Training Data: 1600 \n",
      "Test Data: 400\n"
     ]
    }
   ],
   "source": [
    "#dropping ID column\n",
    "csv.drop([\"id\"], axis=1, inplace=True)\n",
    "\n",
    "\n",
    "#setting seed\n",
    "np.random.seed(36)\n",
    "\n",
    "#converting data to Training and Test Data\n",
    "TrainData = csv.sample(frac=.8).reset_index(drop=True)\n",
    "TestData = csv.drop(TrainData.index).reset_index(drop=True)\n",
    "bi_vars = TrainData[['vote', 'white']]\n",
    "cont_vars = TrainData[['vote', 'age', 'educate', 'income']]\n",
    "\n",
    "#printing rows of data\n",
    "print(\"Training Data:\",TrainData.shape[0],\n",
    "      \"\\nTest Data:\",TestData.shape[0])\n",
    "\n"
   ]
  },
  {
   "cell_type": "code",
   "execution_count": 74,
   "id": "d731eb24",
   "metadata": {},
   "outputs": [
    {
     "name": "stdout",
     "output_type": "stream",
     "text": [
      "\n",
      "Pr(vote = 1): 0.745\n",
      "Pr(vote = 0): 0.255\n",
      "\n"
     ]
    }
   ],
   "source": [
    "\n",
    "Total = TrainData.shape[0]\n",
    "\n",
    "# Subset the data by who voted\n",
    "vote = TrainData.query(\"vote == 1\")\n",
    "novote = TrainData.query(\"vote == 0\")\n",
    "\n",
    "# Calculate the probabality for each \n",
    "pr_vote = vote.shape[0]/Total\n",
    "pr_no_vote = novote.shape[0]/Total\n",
    "\n",
    "# Print the probabilities\n",
    "print(\n",
    "f\"\"\"\n",
    "Pr(vote = 1): {pr_vote}\n",
    "Pr(vote = 0): {pr_no_vote}\n",
    "\"\"\")"
   ]
  },
  {
   "cell_type": "code",
   "execution_count": 75,
   "id": "709fad01",
   "metadata": {},
   "outputs": [
    {
     "name": "stdout",
     "output_type": "stream",
     "text": [
      "class probabilities\n",
      "\n",
      "{0: 0.255, 1: 0.745}\n",
      "\n",
      "\n",
      "conditional probabilities\n",
      "\n",
      "{('white', 0, 0): 0.20588235294117652,\n",
      " ('white', 0, 1): 0.1174496644295302,\n",
      " ('white', 1, 0): 0.7941176470588235,\n",
      " ('white', 1, 1): 0.8825503355704698}\n"
     ]
    }
   ],
   "source": [
    "\n",
    "def binary_probs(data,outcome_var=\"\"):\n",
    "    '''\n",
    "    Function calculates the class and conditional probabilities in \n",
    "    the binary data. \n",
    "    \n",
    "    Inputs: Data frame of binary vars\n",
    "    Outputs: conditional probabilty for the data\n",
    "    '''\n",
    "    # Generate empty dictionary containers.\n",
    "    class_probs = {};cond_probs = {}\n",
    "    # Locate all variables that are not the outcome.\n",
    "    vars = [v for v in bi_vars.columns if v != outcome_var]\n",
    "    # iterate through the class outcomes\n",
    "    for y, d in bi_vars.groupby(outcome_var): \n",
    "        # calculate the class probabilities\n",
    "        class_probs.update({y: d.shape[0]/data.shape[0]})\n",
    "        for v in vars:\n",
    "            # calculate the conditional probabilities for each variable given the class.\n",
    "            pr = d[v].sum()/d.shape[0]\n",
    "            cond_probs[(v,1,y)] = pr \n",
    "            cond_probs[(v,0,y)] = 1 - pr\n",
    "    return class_probs, cond_probs\n",
    "\n",
    "\n",
    "# Run\n",
    "class_probs, cond_probs = binary_probs(bi_vars,outcome_var=\"vote\")\n",
    "\n",
    "# Print\n",
    "print(\"class probabilities\",end=\"\\n\\n\")\n",
    "pp.pprint(class_probs)\n",
    "print(\"\\n\")\n",
    "print(\"conditional probabilities\",end=\"\\n\\n\")\n",
    "pp.pprint(cond_probs)"
   ]
  },
  {
   "cell_type": "code",
   "execution_count": null,
   "id": "675551c5",
   "metadata": {},
   "outputs": [],
   "source": []
  },
  {
   "cell_type": "code",
   "execution_count": 76,
   "id": "790ab0af",
   "metadata": {},
   "outputs": [
    {
     "data": {
      "text/plain": [
       "{('age', 1): {'mean': 46.23154362416108, 'sd': 16.79350795057688},\n",
       " ('age', 0): {'mean': 42.5514705882353, 'sd': 19.23467634884542},\n",
       " ('educate', 1): {'mean': 12.600671140939598, 'sd': 3.204467843303058},\n",
       " ('educate', 0): {'mean': 10.67156862745098, 'sd': 3.147281575764395},\n",
       " ('income', 1): {'mean': 4.2633896812080465, 'sd': 2.9064856249133473},\n",
       " ('income', 0): {'mean': 2.7019500000000005, 'sd': 2.095294474234877}}"
      ]
     },
     "execution_count": 76,
     "metadata": {},
     "output_type": "execute_result"
    }
   ],
   "source": [
    "# Get the mean and standard deviation for each continuous variable\n",
    "vars = [v for v in cont_vars.columns if v != \"vote\"]\n",
    "dist_locs = {}\n",
    "for v in vars:\n",
    "    dist_locs.update({(v, 1): {'mean': vote[v].mean(), 'sd': vote[v].std()}})\n",
    "    dist_locs.update({(v, 0): {'mean': novote[v].mean(), 'sd': novote[v].std()}})\n",
    "    \n",
    "dist_locs"
   ]
  },
  {
   "cell_type": "code",
   "execution_count": 77,
   "id": "74cd1af9",
   "metadata": {},
   "outputs": [],
   "source": [
    "def predict(data, dist_locs, cond_probs):\n",
    "    '''\n",
    "    \n",
    "    '''\n",
    "    \n",
    "    store_preds = []\n",
    "    for i,row in data.iterrows():\n",
    "        # Get the predictions using a Gaussan distribution\n",
    "        pr_0 = 1; pr_1 = 1\n",
    "        for j in range(0, 3):\n",
    "            pr_0 *= st.norm(dist_locs[(row.index[j],0)]['mean'],\n",
    "                            dist_locs[(row.index[j],0)]['sd']).pdf(row.values[j])\n",
    "            pr_1 *= st.norm(dist_locs[(row.index[j],1)]['mean'], \n",
    "                            dist_locs[(row.index[j],1)]['sd']).pdf(row.values[j])\n",
    "        # Multiple by class proabilities\n",
    "        pr_0 *= pr_no_vote\n",
    "        pr_1 *= pr_vote\n",
    "       # Multiply by conditional probabilities\n",
    "        pr_0 *= cond_probs['white', row['white'], 0]\n",
    "        pr_1 *= cond_probs['white', row['white'], 1]\n",
    "    \n",
    "        \n",
    "        # Assign the class designation to the highest probability\n",
    "        if pr_0 >= pr_1:\n",
    "            class_pred = 0\n",
    "        else:\n",
    "            class_pred = 1\n",
    "            \n",
    "        store_preds.append([pr_0,pr_1,class_pred])\n",
    "        \n",
    "        # Turn to DataFrame\n",
    "        \n",
    " \n",
    "    return pd.DataFrame(store_preds,columns=[\"pr_0\",\"pr_1\",\"pred\"])\n",
    "\n"
   ]
  },
  {
   "cell_type": "code",
   "execution_count": 78,
   "id": "0e74d698",
   "metadata": {},
   "outputs": [
    {
     "data": {
      "text/html": [
       "<div>\n",
       "<style scoped>\n",
       "    .dataframe tbody tr th:only-of-type {\n",
       "        vertical-align: middle;\n",
       "    }\n",
       "\n",
       "    .dataframe tbody tr th {\n",
       "        vertical-align: top;\n",
       "    }\n",
       "\n",
       "    .dataframe thead th {\n",
       "        text-align: right;\n",
       "    }\n",
       "</style>\n",
       "<table border=\"1\" class=\"dataframe\">\n",
       "  <thead>\n",
       "    <tr style=\"text-align: right;\">\n",
       "      <th></th>\n",
       "      <th>pr_0</th>\n",
       "      <th>pr_1</th>\n",
       "      <th>pred</th>\n",
       "    </tr>\n",
       "  </thead>\n",
       "  <tbody>\n",
       "    <tr>\n",
       "      <th>0</th>\n",
       "      <td>1.821826e-05</td>\n",
       "      <td>0.000060</td>\n",
       "      <td>1</td>\n",
       "    </tr>\n",
       "    <tr>\n",
       "      <th>1</th>\n",
       "      <td>3.353160e-06</td>\n",
       "      <td>0.000025</td>\n",
       "      <td>1</td>\n",
       "    </tr>\n",
       "    <tr>\n",
       "      <th>2</th>\n",
       "      <td>1.681127e-06</td>\n",
       "      <td>0.000035</td>\n",
       "      <td>1</td>\n",
       "    </tr>\n",
       "    <tr>\n",
       "      <th>3</th>\n",
       "      <td>1.593059e-06</td>\n",
       "      <td>0.000083</td>\n",
       "      <td>1</td>\n",
       "    </tr>\n",
       "    <tr>\n",
       "      <th>4</th>\n",
       "      <td>6.999225e-05</td>\n",
       "      <td>0.000191</td>\n",
       "      <td>1</td>\n",
       "    </tr>\n",
       "    <tr>\n",
       "      <th>5</th>\n",
       "      <td>6.844807e-06</td>\n",
       "      <td>0.000035</td>\n",
       "      <td>1</td>\n",
       "    </tr>\n",
       "    <tr>\n",
       "      <th>6</th>\n",
       "      <td>4.730186e-08</td>\n",
       "      <td>0.000011</td>\n",
       "      <td>1</td>\n",
       "    </tr>\n",
       "    <tr>\n",
       "      <th>7</th>\n",
       "      <td>1.359446e-10</td>\n",
       "      <td>0.000002</td>\n",
       "      <td>1</td>\n",
       "    </tr>\n",
       "    <tr>\n",
       "      <th>8</th>\n",
       "      <td>3.701611e-06</td>\n",
       "      <td>0.000016</td>\n",
       "      <td>1</td>\n",
       "    </tr>\n",
       "    <tr>\n",
       "      <th>9</th>\n",
       "      <td>3.290427e-07</td>\n",
       "      <td>0.000010</td>\n",
       "      <td>1</td>\n",
       "    </tr>\n",
       "  </tbody>\n",
       "</table>\n",
       "</div>"
      ],
      "text/plain": [
       "           pr_0      pr_1  pred\n",
       "0  1.821826e-05  0.000060     1\n",
       "1  3.353160e-06  0.000025     1\n",
       "2  1.681127e-06  0.000035     1\n",
       "3  1.593059e-06  0.000083     1\n",
       "4  6.999225e-05  0.000191     1\n",
       "5  6.844807e-06  0.000035     1\n",
       "6  4.730186e-08  0.000011     1\n",
       "7  1.359446e-10  0.000002     1\n",
       "8  3.701611e-06  0.000016     1\n",
       "9  3.290427e-07  0.000010     1"
      ]
     },
     "execution_count": 78,
     "metadata": {},
     "output_type": "execute_result"
    }
   ],
   "source": [
    "# Run\n",
    "preds_train = predict(TrainData, dist_locs, cond_probs)\n",
    "preds_train.head(10)"
   ]
  },
  {
   "cell_type": "code",
   "execution_count": 79,
   "id": "19bad971",
   "metadata": {},
   "outputs": [
    {
     "data": {
      "text/plain": [
       "0.74125"
      ]
     },
     "execution_count": 79,
     "metadata": {},
     "output_type": "execute_result"
    }
   ],
   "source": [
    "#testing the training accuracy \n",
    "accuracy_train = sum(TrainData.vote == preds_train.pred)/TrainData.shape[0]\n",
    "accuracy_train"
   ]
  },
  {
   "cell_type": "code",
   "execution_count": 80,
   "id": "f78b28f3",
   "metadata": {},
   "outputs": [
    {
     "data": {
      "text/html": [
       "<div>\n",
       "<style scoped>\n",
       "    .dataframe tbody tr th:only-of-type {\n",
       "        vertical-align: middle;\n",
       "    }\n",
       "\n",
       "    .dataframe tbody tr th {\n",
       "        vertical-align: top;\n",
       "    }\n",
       "\n",
       "    .dataframe thead th {\n",
       "        text-align: right;\n",
       "    }\n",
       "</style>\n",
       "<table border=\"1\" class=\"dataframe\">\n",
       "  <thead>\n",
       "    <tr style=\"text-align: right;\">\n",
       "      <th></th>\n",
       "      <th>pr_0</th>\n",
       "      <th>pr_1</th>\n",
       "      <th>pred</th>\n",
       "    </tr>\n",
       "  </thead>\n",
       "  <tbody>\n",
       "    <tr>\n",
       "      <th>0</th>\n",
       "      <td>4.396933e-06</td>\n",
       "      <td>1.332856e-05</td>\n",
       "      <td>1</td>\n",
       "    </tr>\n",
       "    <tr>\n",
       "      <th>1</th>\n",
       "      <td>1.779160e-05</td>\n",
       "      <td>1.875516e-04</td>\n",
       "      <td>1</td>\n",
       "    </tr>\n",
       "    <tr>\n",
       "      <th>2</th>\n",
       "      <td>3.146377e-05</td>\n",
       "      <td>6.985682e-05</td>\n",
       "      <td>1</td>\n",
       "    </tr>\n",
       "    <tr>\n",
       "      <th>3</th>\n",
       "      <td>7.967350e-05</td>\n",
       "      <td>1.921454e-04</td>\n",
       "      <td>1</td>\n",
       "    </tr>\n",
       "    <tr>\n",
       "      <th>4</th>\n",
       "      <td>1.073979e-06</td>\n",
       "      <td>4.408899e-05</td>\n",
       "      <td>1</td>\n",
       "    </tr>\n",
       "    <tr>\n",
       "      <th>5</th>\n",
       "      <td>5.577799e-05</td>\n",
       "      <td>8.492188e-05</td>\n",
       "      <td>1</td>\n",
       "    </tr>\n",
       "    <tr>\n",
       "      <th>6</th>\n",
       "      <td>5.267228e-08</td>\n",
       "      <td>9.101569e-09</td>\n",
       "      <td>0</td>\n",
       "    </tr>\n",
       "    <tr>\n",
       "      <th>7</th>\n",
       "      <td>4.657539e-05</td>\n",
       "      <td>7.381272e-05</td>\n",
       "      <td>1</td>\n",
       "    </tr>\n",
       "    <tr>\n",
       "      <th>8</th>\n",
       "      <td>1.102416e-05</td>\n",
       "      <td>7.264487e-06</td>\n",
       "      <td>0</td>\n",
       "    </tr>\n",
       "    <tr>\n",
       "      <th>9</th>\n",
       "      <td>3.574112e-05</td>\n",
       "      <td>1.102321e-04</td>\n",
       "      <td>1</td>\n",
       "    </tr>\n",
       "  </tbody>\n",
       "</table>\n",
       "</div>"
      ],
      "text/plain": [
       "           pr_0          pr_1  pred\n",
       "0  4.396933e-06  1.332856e-05     1\n",
       "1  1.779160e-05  1.875516e-04     1\n",
       "2  3.146377e-05  6.985682e-05     1\n",
       "3  7.967350e-05  1.921454e-04     1\n",
       "4  1.073979e-06  4.408899e-05     1\n",
       "5  5.577799e-05  8.492188e-05     1\n",
       "6  5.267228e-08  9.101569e-09     0\n",
       "7  4.657539e-05  7.381272e-05     1\n",
       "8  1.102416e-05  7.264487e-06     0\n",
       "9  3.574112e-05  1.102321e-04     1"
      ]
     },
     "execution_count": 80,
     "metadata": {},
     "output_type": "execute_result"
    }
   ],
   "source": [
    "# Run prediction functino on test data\n",
    "preds_test = predict(TestData,dist_locs, cond_probs)\n",
    "preds_test.head(10)\n",
    "\n"
   ]
  },
  {
   "cell_type": "code",
   "execution_count": 82,
   "id": "e5a00db2",
   "metadata": {},
   "outputs": [
    {
     "data": {
      "text/plain": [
       "0.7125"
      ]
     },
     "execution_count": 82,
     "metadata": {},
     "output_type": "execute_result"
    }
   ],
   "source": [
    "\n",
    "# Compare prediction to actual\n",
    "accuracy_test = sum(TestData.vote == preds_test.pred)/TestData.shape[0]\n",
    "accuracy_test\n"
   ]
  },
  {
   "cell_type": "markdown",
   "id": "c12635b6",
   "metadata": {},
   "source": [
    "## Results "
   ]
  },
  {
   "cell_type": "markdown",
   "id": "34aceef9",
   "metadata": {},
   "source": [
    "This model can accuratley predict whether or not someone will vote 71.25% of the time. 21.25% better than a coin flip. \n"
   ]
  },
  {
   "cell_type": "code",
   "execution_count": null,
   "id": "eb03f1c5",
   "metadata": {},
   "outputs": [],
   "source": []
  }
 ],
 "metadata": {
  "kernelspec": {
   "display_name": "Python 3",
   "language": "python",
   "name": "python3"
  },
  "language_info": {
   "codemirror_mode": {
    "name": "ipython",
    "version": 3
   },
   "file_extension": ".py",
   "mimetype": "text/x-python",
   "name": "python",
   "nbconvert_exporter": "python",
   "pygments_lexer": "ipython3",
   "version": "3.8.8"
  }
 },
 "nbformat": 4,
 "nbformat_minor": 5
}
