{
 "cells": [
  {
   "cell_type": "markdown",
   "id": "34ff0aaa",
   "metadata": {},
   "source": [
    "### Coding Discussion: Classifier"
   ]
  },
  {
   "cell_type": "markdown",
   "id": "385eb47d",
   "metadata": {},
   "source": [
    "Goal: create a classifier to predict whether or not an individual voted"
   ]
  },
  {
   "cell_type": "code",
   "execution_count": 108,
   "id": "155607dd",
   "metadata": {},
   "outputs": [],
   "source": [
    "#import packages\n",
    "import pandas as pd\n",
    "import numpy as np\n",
    "import matplotlib as plt\n",
    "import seaborn as sns\n",
    "\n",
    "#display full \n",
    "pd.set_option(\"display.max_rows\", None, \"display.max_columns\", None)\n",
    "\n",
    "import warnings\n",
    "warnings.filterwarnings(\"ignore\")\n",
    "\n",
    "import pprint as pp # for printing\n",
    "import scipy.stats as st # for Normal PDF"
   ]
  },
  {
   "cell_type": "code",
   "execution_count": 109,
   "id": "0525cb26",
   "metadata": {},
   "outputs": [
    {
     "data": {
      "text/html": [
       "<div>\n",
       "<style scoped>\n",
       "    .dataframe tbody tr th:only-of-type {\n",
       "        vertical-align: middle;\n",
       "    }\n",
       "\n",
       "    .dataframe tbody tr th {\n",
       "        vertical-align: top;\n",
       "    }\n",
       "\n",
       "    .dataframe thead th {\n",
       "        text-align: right;\n",
       "    }\n",
       "</style>\n",
       "<table border=\"1\" class=\"dataframe\">\n",
       "  <thead>\n",
       "    <tr style=\"text-align: right;\">\n",
       "      <th></th>\n",
       "      <th>id</th>\n",
       "      <th>age</th>\n",
       "      <th>educate</th>\n",
       "      <th>income</th>\n",
       "      <th>vote</th>\n",
       "      <th>white</th>\n",
       "    </tr>\n",
       "  </thead>\n",
       "  <tbody>\n",
       "    <tr>\n",
       "      <th>0</th>\n",
       "      <td>1</td>\n",
       "      <td>60</td>\n",
       "      <td>14.0</td>\n",
       "      <td>3.3458</td>\n",
       "      <td>1</td>\n",
       "      <td>1</td>\n",
       "    </tr>\n",
       "    <tr>\n",
       "      <th>1</th>\n",
       "      <td>2</td>\n",
       "      <td>51</td>\n",
       "      <td>10.0</td>\n",
       "      <td>1.8561</td>\n",
       "      <td>0</td>\n",
       "      <td>1</td>\n",
       "    </tr>\n",
       "    <tr>\n",
       "      <th>2</th>\n",
       "      <td>3</td>\n",
       "      <td>24</td>\n",
       "      <td>12.0</td>\n",
       "      <td>0.6304</td>\n",
       "      <td>0</td>\n",
       "      <td>1</td>\n",
       "    </tr>\n",
       "    <tr>\n",
       "      <th>3</th>\n",
       "      <td>4</td>\n",
       "      <td>38</td>\n",
       "      <td>8.0</td>\n",
       "      <td>3.4183</td>\n",
       "      <td>1</td>\n",
       "      <td>1</td>\n",
       "    </tr>\n",
       "    <tr>\n",
       "      <th>4</th>\n",
       "      <td>5</td>\n",
       "      <td>25</td>\n",
       "      <td>12.0</td>\n",
       "      <td>2.7852</td>\n",
       "      <td>1</td>\n",
       "      <td>1</td>\n",
       "    </tr>\n",
       "  </tbody>\n",
       "</table>\n",
       "</div>"
      ],
      "text/plain": [
       "   id  age  educate  income  vote  white\n",
       "0   1   60     14.0  3.3458     1      1\n",
       "1   2   51     10.0  1.8561     0      1\n",
       "2   3   24     12.0  0.6304     0      1\n",
       "3   4   38      8.0  3.4183     1      1\n",
       "4   5   25     12.0  2.7852     1      1"
      ]
     },
     "execution_count": 109,
     "metadata": {},
     "output_type": "execute_result"
    }
   ],
   "source": [
    "#load the data\n",
    "turnout = pd.read_csv('turnout.csv')\n",
    "turnout.head()"
   ]
  },
  {
   "cell_type": "code",
   "execution_count": 110,
   "id": "5c574cbc",
   "metadata": {},
   "outputs": [
    {
     "name": "stdout",
     "output_type": "stream",
     "text": [
      "Training Data: 1600 \n",
      "Test Data: 400\n"
     ]
    }
   ],
   "source": [
    "#break the data into test (1600, 80%) and training (400, 20%) data sets\n",
    "train = turnout.sample(frac=.8).reset_index(drop=True)\n",
    "test = turnout.drop(train.index).reset_index(drop=True)\n",
    "\n",
    "# Print off the split count \n",
    "print(\"Training Data:\",train.shape[0],\n",
    "      \"\\nTest Data:\",test.shape[0])"
   ]
  },
  {
   "cell_type": "code",
   "execution_count": 111,
   "id": "537afb19",
   "metadata": {},
   "outputs": [
    {
     "name": "stdout",
     "output_type": "stream",
     "text": [
      "\n",
      "Pr(vote = 1): 0.753125\n",
      "Pr(vote = 0): 0.246875\n",
      "\n"
     ]
    }
   ],
   "source": [
    "train_binary_vals = train.drop(columns=['id', 'age', 'educate', 'income'])\n",
    "test_binary_vals = train.drop(columns=['id', 'age', 'educate', 'income'])\n",
    "\n",
    "#number \n",
    "N = train.shape[0]\n",
    "\n",
    "#subset the data\n",
    "vote1 = train.query(\"vote==1\")\n",
    "vote0 = train.query(\"vote==0\")\n",
    "\n",
    "#calculate the probability for each class\n",
    "pr_vote_1 = vote1.shape[0]/N\n",
    "pr_vote_0 = vote0.shape[0]/N\n",
    "\n",
    "#print the probabilities \n",
    "print(\n",
    "f\"\"\"\n",
    "Pr(vote = 1): {pr_vote_1}\n",
    "Pr(vote = 0): {pr_vote_0}\n",
    "\"\"\")"
   ]
  },
  {
   "cell_type": "code",
   "execution_count": 112,
   "id": "2d652610",
   "metadata": {},
   "outputs": [
    {
     "name": "stdout",
     "output_type": "stream",
     "text": [
      "\n",
      "Pr(white = 1 |vote = 1): 0.8780082987551867\n",
      "Pr(white = 0 |vote = 1): 0.12199170124481327\n",
      "Pr(white = 1 |vote = 0): 0.789873417721519\n",
      "Pr(white = 0 |vote = 0): 0.21012658227848102\n",
      "\n"
     ]
    }
   ],
   "source": [
    "# Given vote == 1\n",
    "w1_vote1 = vote1.query(\"white == 1\").shape[0]/vote1.shape[0]\n",
    "w0_vote1 = vote1.query(\"white == 0\").shape[0]/vote1.shape[0]\n",
    "\n",
    "\n",
    "# Given vote == 0\n",
    "w1_vote0 = vote0.query(\"white == 1\").shape[0]/vote0.shape[0]\n",
    "w0_vote0 = vote0.query(\"white == 0\").shape[0]/vote0.shape[0]\n",
    "\n",
    "print(\n",
    "f\"\"\"\n",
    "Pr(white = 1 |vote = 1): {w1_vote1}\n",
    "Pr(white = 0 |vote = 1): {w0_vote1}\n",
    "Pr(white = 1 |vote = 0): {w1_vote0}\n",
    "Pr(white = 0 |vote = 0): {w0_vote0}\n",
    "\"\"\")"
   ]
  },
  {
   "cell_type": "code",
   "execution_count": 113,
   "id": "593b2cf5",
   "metadata": {},
   "outputs": [
    {
     "name": "stdout",
     "output_type": "stream",
     "text": [
      "\n",
      "Pr(vote = 1) = 0.091875\n",
      "Pr(vote = 0) = 0.051875000000000004\n",
      "\n"
     ]
    }
   ],
   "source": [
    "prob_vote1 = w0_vote1 * pr_vote_1\n",
    "prob_vote0 = w0_vote0 * pr_vote_0\n",
    "\n",
    "print(f\"\"\"\n",
    "Pr(vote = 1) = {prob_vote1}\n",
    "Pr(vote = 0) = {prob_vote0}\n",
    "\"\"\")"
   ]
  },
  {
   "cell_type": "code",
   "execution_count": 114,
   "id": "603075d3",
   "metadata": {},
   "outputs": [
    {
     "name": "stdout",
     "output_type": "stream",
     "text": [
      "\n",
      "Pr(cw = 1) = 0.66125\n",
      "Pr(cw = 0) = 0.195\n",
      "\n"
     ]
    }
   ],
   "source": [
    "prob_vote1 = w1_vote1 * pr_vote_1\n",
    "prob_vote0 = w1_vote0 * pr_vote_0\n",
    "\n",
    "print(f\"\"\"\n",
    "Pr(cw = 1) = {prob_vote1}\n",
    "Pr(cw = 0) = {prob_vote0}\n",
    "\"\"\")"
   ]
  },
  {
   "cell_type": "code",
   "execution_count": 115,
   "id": "17400906",
   "metadata": {},
   "outputs": [
    {
     "name": "stdout",
     "output_type": "stream",
     "text": [
      "{0: 0.246875, 1: 0.753125}\n"
     ]
    }
   ],
   "source": [
    "#calculate the underlying probabilities and \n",
    "#then calculate the predictions for each observation in the data.\n",
    "\n",
    "def calc_probs(data,outcome_var=\"\"):\n",
    "    '''\n",
    "    calculates the class + conditional probabilities from \n",
    "    the binary data\n",
    "    \n",
    "    Note that I'm using dictionaries with tuple keys to keep\n",
    "    track of the variable, it's val, and the outcome, which we're conditioning on. \n",
    "    '''\n",
    "    # Generate empty dictionary containers.\n",
    "    class_probs = {};cond_probs = {}\n",
    "    # Locate all variables that are not the outcome.\n",
    "    vars = [v for v in data.columns if v != outcome_var]\n",
    "    # iterate through the class outcomes\n",
    "    for y, d in data.groupby(outcome_var): \n",
    "        # calculate the class probabilities\n",
    "        class_probs.update({y: d.shape[0]/data.shape[0]})\n",
    "        for v in vars:\n",
    "            # calculate the conditional probabilities for each variable given the class.\n",
    "            pr = d[v].sum()/d.shape[0]\n",
    "            cond_probs[(v,1,y)] = pr \n",
    "            cond_probs[(v,0,y)] = 1 - pr\n",
    "    return class_probs, cond_probs\n",
    "\n",
    "\n",
    "class_probs, cond_probs = calc_probs(train_binary_vals,outcome_var=\"vote\")\n",
    "\n",
    "print(class_probs)"
   ]
  },
  {
   "cell_type": "code",
   "execution_count": 116,
   "id": "732efd80",
   "metadata": {},
   "outputs": [
    {
     "data": {
      "text/html": [
       "<div>\n",
       "<style scoped>\n",
       "    .dataframe tbody tr th:only-of-type {\n",
       "        vertical-align: middle;\n",
       "    }\n",
       "\n",
       "    .dataframe tbody tr th {\n",
       "        vertical-align: top;\n",
       "    }\n",
       "\n",
       "    .dataframe thead th {\n",
       "        text-align: right;\n",
       "    }\n",
       "</style>\n",
       "<table border=\"1\" class=\"dataframe\">\n",
       "  <thead>\n",
       "    <tr style=\"text-align: right;\">\n",
       "      <th></th>\n",
       "      <th>pr_0</th>\n",
       "      <th>pr_1</th>\n",
       "      <th>pred</th>\n",
       "    </tr>\n",
       "  </thead>\n",
       "  <tbody>\n",
       "    <tr>\n",
       "      <th>0</th>\n",
       "      <td>0.195</td>\n",
       "      <td>0.66125</td>\n",
       "      <td>1</td>\n",
       "    </tr>\n",
       "    <tr>\n",
       "      <th>1</th>\n",
       "      <td>0.195</td>\n",
       "      <td>0.66125</td>\n",
       "      <td>1</td>\n",
       "    </tr>\n",
       "    <tr>\n",
       "      <th>2</th>\n",
       "      <td>0.195</td>\n",
       "      <td>0.66125</td>\n",
       "      <td>1</td>\n",
       "    </tr>\n",
       "    <tr>\n",
       "      <th>3</th>\n",
       "      <td>0.195</td>\n",
       "      <td>0.66125</td>\n",
       "      <td>1</td>\n",
       "    </tr>\n",
       "    <tr>\n",
       "      <th>4</th>\n",
       "      <td>0.195</td>\n",
       "      <td>0.66125</td>\n",
       "      <td>1</td>\n",
       "    </tr>\n",
       "  </tbody>\n",
       "</table>\n",
       "</div>"
      ],
      "text/plain": [
       "    pr_0     pr_1  pred\n",
       "0  0.195  0.66125     1\n",
       "1  0.195  0.66125     1\n",
       "2  0.195  0.66125     1\n",
       "3  0.195  0.66125     1\n",
       "4  0.195  0.66125     1"
      ]
     },
     "execution_count": 116,
     "metadata": {},
     "output_type": "execute_result"
    }
   ],
   "source": [
    "#build a prediction function that combs through the observations in the \n",
    "#data and calculates the probabilities and makes a class prediction.\n",
    "\n",
    "def predict(data,class_probs,cond_probs):\n",
    "    '''\n",
    "    Function calculates the conditiona probability for membership into each class.\n",
    "    Then returns both the probabilities and the most likely class. \n",
    "    '''\n",
    "    store_preds = []\n",
    "    for i,row in data.iterrows():\n",
    "        pr_1 = 1; pr_0 = 1\n",
    "        for j in range(1,len(row.index)):\n",
    "            pr_0 *= cond_probs[(row.index[j],row.values[j],0)]\n",
    "            pr_1 *= cond_probs[(row.index[j],row.values[j],1)]     \n",
    "        pr_0 *= class_probs[0]\n",
    "        pr_1 *= class_probs[1]\n",
    "        store_preds.append([pr_0,pr_1,max([(pr_0,0),(pr_1,1)])[1]])\n",
    "    return pd.DataFrame(store_preds,columns=[\"pr_0\",\"pr_1\",\"pred\"])\n",
    "\n",
    "preds = predict(train_binary_vals, class_probs, cond_probs)\n",
    "preds.head()"
   ]
  },
  {
   "cell_type": "code",
   "execution_count": 117,
   "id": "0b465f52",
   "metadata": {},
   "outputs": [
    {
     "data": {
      "text/plain": [
       "0.753125"
      ]
     },
     "execution_count": 117,
     "metadata": {},
     "output_type": "execute_result"
    }
   ],
   "source": [
    "#calculate predictive accuracy \n",
    "#(i.e. how many correct prediction did we make).\n",
    "\n",
    "accuracy = sum(train_binary_vals.vote == preds.pred)/train.shape[0]\n",
    "accuracy"
   ]
  },
  {
   "cell_type": "code",
   "execution_count": 118,
   "id": "1d5b1717",
   "metadata": {},
   "outputs": [
    {
     "data": {
      "text/plain": [
       "3.0125"
      ]
     },
     "execution_count": 118,
     "metadata": {},
     "output_type": "execute_result"
    }
   ],
   "source": [
    "#We obtained predictive accuracy of 73.8% on the training data, not bad!\n",
    "#now try to predict the outcomes in the test data and see how we do.\n",
    "\n",
    "test_preds = predict(test_binary_vals, class_probs, cond_probs)\n",
    "test_accuracy = sum(test_binary_vals.vote == test_preds.pred)/test.shape[0]\n",
    "test_accuracy"
   ]
  },
  {
   "cell_type": "code",
   "execution_count": 119,
   "id": "f63612f1",
   "metadata": {},
   "outputs": [],
   "source": [
    "# Reorganize the data -- training\n",
    "train_drop = train.drop(columns=['id', 'white', 'age'])\n",
    "train_drop = train_drop[['vote', 'educate', 'income']]\n",
    "y,x1,x2 = train_drop.iloc[1,:]\n",
    "train_drop.columns = ['y', 'x1', 'x2']\n",
    "\n",
    "#test \n",
    "test_drop = test.drop(columns=['id', 'white', 'age'])\n",
    "test_drop = test_drop[['vote', 'educate', 'income']]\n",
    "test_drop.columns = ['y', 'x1', 'x2']"
   ]
  },
  {
   "cell_type": "code",
   "execution_count": 120,
   "id": "72367cb6",
   "metadata": {},
   "outputs": [],
   "source": [
    "#probabilities\n",
    "\n",
    "y1 = train_drop.query(\"y == 1\")\n",
    "y0 = train_drop.query(\"y == 0\")\n",
    "\n",
    "\n",
    "pr_y1 = y1.shape[0]/train_drop.shape[0]\n",
    "pr_y0 = y0.shape[0]/train_drop.shape[0]"
   ]
  },
  {
   "cell_type": "code",
   "execution_count": 121,
   "id": "d0a741fb",
   "metadata": {},
   "outputs": [
    {
     "name": "stdout",
     "output_type": "stream",
     "text": [
      "{('x1', 0): {'mean': 2.6539081012658228, 'sd': 3.1636351995604635},\n",
      " ('x1', 1): {'mean': 4.293774937759336, 'sd': 3.273200337414391},\n",
      " ('x2', 0): {'mean': 10.546835443037974, 'sd': 2.1238444238780207},\n",
      " ('x2', 1): {'mean': 12.569294605809128, 'sd': 2.964062784451219}}\n"
     ]
    }
   ],
   "source": [
    "# mean and standard deviation for each conditional distribution\n",
    "dist_locs = \\\n",
    "{(\"x1\",1):{'mean':y1.x2.mean(),'sd':y1.x1.std()},\n",
    " (\"x1\",0):{'mean':y0.x2.mean(),'sd':y0.x1.std()},\n",
    " (\"x2\",1):{'mean':y1.x1.mean(),'sd':y1.x2.std()},\n",
    " (\"x2\",0):{'mean':y0.x1.mean(),'sd':y0.x2.std()}\n",
    "}\n",
    "\n",
    "# Print\n",
    "pp.pprint(dist_locs)"
   ]
  },
  {
   "cell_type": "code",
   "execution_count": 122,
   "id": "adead154",
   "metadata": {},
   "outputs": [
    {
     "name": "stdout",
     "output_type": "stream",
     "text": [
      "\n",
      "    Pr(y == 1| X): 3.3278635761960385e-06\n",
      "    Pr(y == 0| X): 9.369806075462246e-08\n",
      "\n"
     ]
    }
   ],
   "source": [
    "# Prediction for the 1 class\n",
    "a = st.norm(dist_locs[(\"x1\",1)]['mean'], dist_locs[(\"x1\",1)]['sd']).pdf(x1)\n",
    "b = st.norm(dist_locs[(\"x2\",1)]['mean'], dist_locs[(\"x2\",1)]['sd']).pdf(x2)\n",
    "c = pr_y1\n",
    "pr_1 = a * b * c \n",
    "\n",
    "# Prediction for the 0 class\n",
    "a = st.norm(dist_locs[(\"x1\",0)]['mean'], dist_locs[(\"x1\",0)]['sd']).pdf(x1)\n",
    "b = st.norm(dist_locs[(\"x2\",0)]['mean'], dist_locs[(\"x2\",0)]['sd']).pdf(x2)\n",
    "c = pr_y0\n",
    "pr_0 = a * b * c \n",
    "\n",
    "print(\n",
    "f'''\n",
    "    Pr(y == 1| X): {pr_1}\n",
    "    Pr(y == 0| X): {pr_0}\n",
    "''')"
   ]
  },
  {
   "cell_type": "code",
   "execution_count": 123,
   "id": "e9d6dbc8",
   "metadata": {},
   "outputs": [],
   "source": [
    "def predict(data,dist_locs):\n",
    "    ''''''\n",
    "    store_preds = []\n",
    "    for i,row in data.iterrows():\n",
    "        \n",
    "        # Get the predictions using a Gaussan distribution\n",
    "        pr_0 = 1; pr_1 = 1\n",
    "        for j in range(1,len(row)):\n",
    "            \n",
    "            pr_0 *= st.norm(dist_locs[(row.index[j],0)]['mean'],\n",
    "                            dist_locs[(row.index[j],0)]['sd']).pdf(row.values[j])\n",
    "            pr_1 *= st.norm(dist_locs[(row.index[j],1)]['mean'], \n",
    "                            dist_locs[(row.index[j],1)]['sd']).pdf(row.values[j])\n",
    "        pr_0 *= pr_y0\n",
    "        pr_1 *= pr_y1\n",
    "        \n",
    "        # Assign the class designation to the highest probability\n",
    "        if pr_0 >= pr_1:\n",
    "            class_pred = 0\n",
    "        else:\n",
    "            class_pred = 1\n",
    "            \n",
    "        store_preds.append([pr_0,pr_1,class_pred])\n",
    "        \n",
    "    return pd.DataFrame(store_preds,columns=[\"pr_0\",\"pr_1\",\"pred\"])\n",
    "\n",
    "preds_train = predict(train_drop,dist_locs)"
   ]
  },
  {
   "cell_type": "code",
   "execution_count": 124,
   "id": "6a9b4d40",
   "metadata": {},
   "outputs": [
    {
     "data": {
      "text/plain": [
       "0.753125"
      ]
     },
     "execution_count": 124,
     "metadata": {},
     "output_type": "execute_result"
    }
   ],
   "source": [
    "# Predictive accuracy of training data \n",
    "accuracy_train = sum(train_drop.y == preds_train.pred)/train_drop.shape[0]\n",
    "accuracy_train"
   ]
  },
  {
   "cell_type": "code",
   "execution_count": 125,
   "id": "1746c317",
   "metadata": {},
   "outputs": [
    {
     "data": {
      "text/plain": [
       "0.7"
      ]
     },
     "execution_count": 125,
     "metadata": {},
     "output_type": "execute_result"
    }
   ],
   "source": [
    "# Test test df \n",
    "preds_test = predict(test_drop, dist_locs)\n",
    "\n",
    "# Predictive accuracy of test data \n",
    "accuracy_train = sum(test_drop.y == preds_test.pred)/test_drop.shape[0]\n",
    "accuracy_train"
   ]
  },
  {
   "cell_type": "code",
   "execution_count": 126,
   "id": "6001f4d6",
   "metadata": {},
   "outputs": [
    {
     "data": {
      "text/html": [
       "<div>\n",
       "<style scoped>\n",
       "    .dataframe tbody tr th:only-of-type {\n",
       "        vertical-align: middle;\n",
       "    }\n",
       "\n",
       "    .dataframe tbody tr th {\n",
       "        vertical-align: top;\n",
       "    }\n",
       "\n",
       "    .dataframe thead th {\n",
       "        text-align: right;\n",
       "    }\n",
       "</style>\n",
       "<table border=\"1\" class=\"dataframe\">\n",
       "  <thead>\n",
       "    <tr style=\"text-align: right;\">\n",
       "      <th></th>\n",
       "      <th>pr_0</th>\n",
       "      <th>pr_1</th>\n",
       "      <th>pred</th>\n",
       "    </tr>\n",
       "  </thead>\n",
       "  <tbody>\n",
       "    <tr>\n",
       "      <th>0</th>\n",
       "      <td>1.549384e-05</td>\n",
       "      <td>1.150544e-04</td>\n",
       "      <td>1</td>\n",
       "    </tr>\n",
       "    <tr>\n",
       "      <th>1</th>\n",
       "      <td>9.369806e-08</td>\n",
       "      <td>3.327864e-06</td>\n",
       "      <td>1</td>\n",
       "    </tr>\n",
       "    <tr>\n",
       "      <th>2</th>\n",
       "      <td>1.364836e-08</td>\n",
       "      <td>5.013006e-07</td>\n",
       "      <td>1</td>\n",
       "    </tr>\n",
       "    <tr>\n",
       "      <th>3</th>\n",
       "      <td>5.679197e-10</td>\n",
       "      <td>1.345477e-07</td>\n",
       "      <td>1</td>\n",
       "    </tr>\n",
       "    <tr>\n",
       "      <th>4</th>\n",
       "      <td>7.356374e-08</td>\n",
       "      <td>3.386269e-06</td>\n",
       "      <td>1</td>\n",
       "    </tr>\n",
       "  </tbody>\n",
       "</table>\n",
       "</div>"
      ],
      "text/plain": [
       "           pr_0          pr_1  pred\n",
       "0  1.549384e-05  1.150544e-04     1\n",
       "1  9.369806e-08  3.327864e-06     1\n",
       "2  1.364836e-08  5.013006e-07     1\n",
       "3  5.679197e-10  1.345477e-07     1\n",
       "4  7.356374e-08  3.386269e-06     1"
      ]
     },
     "execution_count": 126,
     "metadata": {},
     "output_type": "execute_result"
    }
   ],
   "source": [
    "#Predicted output\n",
    "preds_train.head()"
   ]
  },
  {
   "cell_type": "code",
   "execution_count": 127,
   "id": "c1694ff5",
   "metadata": {},
   "outputs": [
    {
     "data": {
      "text/html": [
       "<div>\n",
       "<style scoped>\n",
       "    .dataframe tbody tr th:only-of-type {\n",
       "        vertical-align: middle;\n",
       "    }\n",
       "\n",
       "    .dataframe tbody tr th {\n",
       "        vertical-align: top;\n",
       "    }\n",
       "\n",
       "    .dataframe thead th {\n",
       "        text-align: right;\n",
       "    }\n",
       "</style>\n",
       "<table border=\"1\" class=\"dataframe\">\n",
       "  <thead>\n",
       "    <tr style=\"text-align: right;\">\n",
       "      <th></th>\n",
       "      <th>pr_0</th>\n",
       "      <th>pr_1</th>\n",
       "      <th>pred</th>\n",
       "    </tr>\n",
       "  </thead>\n",
       "  <tbody>\n",
       "    <tr>\n",
       "      <th>0</th>\n",
       "      <td>6.321212e-09</td>\n",
       "      <td>2.976234e-07</td>\n",
       "      <td>1</td>\n",
       "    </tr>\n",
       "    <tr>\n",
       "      <th>1</th>\n",
       "      <td>1.042173e-05</td>\n",
       "      <td>8.465148e-05</td>\n",
       "      <td>1</td>\n",
       "    </tr>\n",
       "    <tr>\n",
       "      <th>2</th>\n",
       "      <td>2.113932e-09</td>\n",
       "      <td>3.027764e-07</td>\n",
       "      <td>1</td>\n",
       "    </tr>\n",
       "    <tr>\n",
       "      <th>3</th>\n",
       "      <td>2.520785e-07</td>\n",
       "      <td>6.348042e-06</td>\n",
       "      <td>1</td>\n",
       "    </tr>\n",
       "    <tr>\n",
       "      <th>4</th>\n",
       "      <td>5.214320e-05</td>\n",
       "      <td>3.376867e-04</td>\n",
       "      <td>1</td>\n",
       "    </tr>\n",
       "  </tbody>\n",
       "</table>\n",
       "</div>"
      ],
      "text/plain": [
       "           pr_0          pr_1  pred\n",
       "0  6.321212e-09  2.976234e-07     1\n",
       "1  1.042173e-05  8.465148e-05     1\n",
       "2  2.113932e-09  3.027764e-07     1\n",
       "3  2.520785e-07  6.348042e-06     1\n",
       "4  5.214320e-05  3.376867e-04     1"
      ]
     },
     "execution_count": 127,
     "metadata": {},
     "output_type": "execute_result"
    }
   ],
   "source": [
    "#Predicted output\n",
    "preds_test.head()"
   ]
  },
  {
   "cell_type": "markdown",
   "id": "54b5ef18",
   "metadata": {},
   "source": [
    "Results: The model gives us the ability to predict whether or not someone voted with 70% accuracy (per the test data). Notably, this accuracy is slightly less than that acheived via the training data. However, 70% accuracy is still far better than a coin flip!  "
   ]
  }
 ],
 "metadata": {
  "kernelspec": {
   "display_name": "Python 3",
   "language": "python",
   "name": "python3"
  },
  "language_info": {
   "codemirror_mode": {
    "name": "ipython",
    "version": 3
   },
   "file_extension": ".py",
   "mimetype": "text/x-python",
   "name": "python",
   "nbconvert_exporter": "python",
   "pygments_lexer": "ipython3",
   "version": "3.8.8"
  }
 },
 "nbformat": 4,
 "nbformat_minor": 5
}
