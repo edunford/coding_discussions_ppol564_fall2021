{
 "cells": [
  {
   "cell_type": "code",
   "execution_count": 1,
   "id": "023ac64c",
   "metadata": {},
   "outputs": [],
   "source": [
    "# Modules\n",
    "import pandas as pd\n",
    "import numpy as np\n",
    "import scipy.stats as st # used for Normal PDF"
   ]
  },
  {
   "cell_type": "markdown",
   "id": "34e136d5",
   "metadata": {},
   "source": [
    "# **Can we predict whether someone will vote or not?**\n",
    "\n",
    "In the discussion folder, you'll find the `turnout.csv` data, which was drawn from the 2012 National Election Survey. The data records the age, eduction level (of total years in school), income, race (caucasian or not), and past voting record (i.e. whether or not the respondent voted in the 2012 Presidential election). The sample is composed of 2000 individual respondents. \n",
    "\n",
    "Please break the data up into a training (1600 entries, 80%) and test dataset (400 entries, 20%). \n",
    "\n",
    "Build a Naive Bayesian Classifier from scratch that tries to predict whether a respondent will vote in a presidential election or not, pr(Vote==1). The classifier must be built from scratch. Do not use a third party ML or statistical package. \n",
    "\n",
    "Run your algorithm and see how it predicts on the test data by calculating the predictive accuracy. "
   ]
  },
  {
   "cell_type": "markdown",
   "id": "b3cfec63",
   "metadata": {},
   "source": [
    "### Load, Split, and Inspect Data"
   ]
  },
  {
   "cell_type": "code",
   "execution_count": 2,
   "id": "328efa85",
   "metadata": {},
   "outputs": [
    {
     "name": "stdout",
     "output_type": "stream",
     "text": [
      "Training Data: 1600 \n",
      "Test Data: 400\n"
     ]
    },
    {
     "data": {
      "text/html": [
       "<div>\n",
       "<style scoped>\n",
       "    .dataframe tbody tr th:only-of-type {\n",
       "        vertical-align: middle;\n",
       "    }\n",
       "\n",
       "    .dataframe tbody tr th {\n",
       "        vertical-align: top;\n",
       "    }\n",
       "\n",
       "    .dataframe thead th {\n",
       "        text-align: right;\n",
       "    }\n",
       "</style>\n",
       "<table border=\"1\" class=\"dataframe\">\n",
       "  <thead>\n",
       "    <tr style=\"text-align: right;\">\n",
       "      <th></th>\n",
       "      <th>id</th>\n",
       "      <th>age</th>\n",
       "      <th>educate</th>\n",
       "      <th>income</th>\n",
       "      <th>vote</th>\n",
       "      <th>white</th>\n",
       "    </tr>\n",
       "  </thead>\n",
       "  <tbody>\n",
       "    <tr>\n",
       "      <th>752</th>\n",
       "      <td>727</td>\n",
       "      <td>33</td>\n",
       "      <td>14.0</td>\n",
       "      <td>5.2331</td>\n",
       "      <td>1</td>\n",
       "      <td>1</td>\n",
       "    </tr>\n",
       "    <tr>\n",
       "      <th>1153</th>\n",
       "      <td>655</td>\n",
       "      <td>23</td>\n",
       "      <td>16.0</td>\n",
       "      <td>4.8954</td>\n",
       "      <td>1</td>\n",
       "      <td>1</td>\n",
       "    </tr>\n",
       "    <tr>\n",
       "      <th>615</th>\n",
       "      <td>951</td>\n",
       "      <td>50</td>\n",
       "      <td>10.0</td>\n",
       "      <td>2.9170</td>\n",
       "      <td>1</td>\n",
       "      <td>1</td>\n",
       "    </tr>\n",
       "    <tr>\n",
       "      <th>1389</th>\n",
       "      <td>1499</td>\n",
       "      <td>48</td>\n",
       "      <td>15.0</td>\n",
       "      <td>3.4600</td>\n",
       "      <td>1</td>\n",
       "      <td>1</td>\n",
       "    </tr>\n",
       "    <tr>\n",
       "      <th>472</th>\n",
       "      <td>756</td>\n",
       "      <td>55</td>\n",
       "      <td>13.0</td>\n",
       "      <td>8.7545</td>\n",
       "      <td>1</td>\n",
       "      <td>1</td>\n",
       "    </tr>\n",
       "  </tbody>\n",
       "</table>\n",
       "</div>"
      ],
      "text/plain": [
       "        id  age  educate  income  vote  white\n",
       "752    727   33     14.0  5.2331     1      1\n",
       "1153   655   23     16.0  4.8954     1      1\n",
       "615    951   50     10.0  2.9170     1      1\n",
       "1389  1499   48     15.0  3.4600     1      1\n",
       "472    756   55     13.0  8.7545     1      1"
      ]
     },
     "execution_count": 2,
     "metadata": {},
     "output_type": "execute_result"
    }
   ],
   "source": [
    "# Set seed for replicatability\n",
    "np.random.seed(8191)\n",
    "\n",
    "# Read in data from csv\n",
    "dta = pd.read_csv(\"../turnout.csv\")\n",
    "\n",
    "# Split train-test using Pandas\n",
    "train = dta.sample(frac=.8).reset_index(drop=True)\n",
    "test = dta.drop(train.index).reset_index(drop=True)\n",
    "\n",
    "# Print length of train-test\n",
    "print(\"Training Data:\",train.shape[0],\"\\nTest Data:\",test.shape[0])\n",
    "\n",
    "# Print random sample\n",
    "train.sample(5)"
   ]
  },
  {
   "cell_type": "markdown",
   "id": "57ffa3d6",
   "metadata": {},
   "source": [
    "### Calculate class and conditional probabilities \n",
    "\n",
    "We will need these to calculate the Bayesian probabilities that give this classifier its name."
   ]
  },
  {
   "cell_type": "code",
   "execution_count": 3,
   "id": "601c6008",
   "metadata": {},
   "outputs": [],
   "source": [
    "# Split train data when variable is categorical or consecutive,\n",
    "# these have slightly different processes for calculating Bayesian probabilities \n",
    "categorical = train[['vote', 'white']]\n",
    "continuous = train[['age', 'educate', 'income', 'vote']]"
   ]
  },
  {
   "cell_type": "code",
   "execution_count": 4,
   "id": "987611b6",
   "metadata": {},
   "outputs": [],
   "source": [
    "# Create empty dictionaries to store class and conditional probabilities\n",
    "class_probs = {}\n",
    "conditional_probs = {}\n",
    "\n",
    "# Get list of categorical columns that are not the dependent vraible, 'vote'\n",
    "cat_cols = [col for col in categorical.columns if col != 'vote']\n",
    "\n",
    "# Loop through categorical data grouped by 'vote' dummy variable (2 times only)\n",
    "# y is the value of the dummy(0 or 1), d is the data grouped according to y\n",
    "for y, d in categorical.groupby('vote'): \n",
    "    \n",
    "    # update class probability \n",
    "    class_probs.update({y: d.shape[0]/ categorical.shape[0]})\n",
    "    \n",
    "    # loop through categorical columns (except vote) to calculate Pr then assign to conditional probs dictionary\n",
    "    # this dictionary uses tuples as keys where each key is (col_name,col_value,conditional_prob)\n",
    "    for col in cat_cols:\n",
    "        pr = d[col].sum()/d.shape[0]\n",
    "        conditional_probs[(col,1,y)] = pr \n",
    "        conditional_probs[(col,0,y)] = 1 - pr"
   ]
  },
  {
   "cell_type": "markdown",
   "id": "93515b41",
   "metadata": {},
   "source": [
    "### Get the mean and standard deviation of each conditional distribution\n",
    "We need the mean and standard deviation of each continuous variable to put into the normal pdf function when modifying the Bayesian probability. "
   ]
  },
  {
   "cell_type": "code",
   "execution_count": 5,
   "id": "8c411b4d",
   "metadata": {
    "scrolled": true
   },
   "outputs": [],
   "source": [
    "#Create empty dictionary to store means and st devs\n",
    "dist_locs = {}\n",
    "\n",
    "# loop through all possible conditional continuous probabilities and add mean/st dev to dictionary \n",
    "for i in range(2): # use 2 because vote can be 0 or 1\n",
    "    # create subset of data based on value of vote\n",
    "    sub = train.query(f'vote == {i}')\n",
    "    \n",
    "    # loop through each continuous variable, make sure vote is not included (it shouldn't be anyway)\n",
    "    con_cols = [col for col in continuous.columns if col != 'vote']\n",
    "    \n",
    "    # find and add mean/st dev to dictionary using tuple keys\n",
    "    for col in con_cols:\n",
    "        dist_locs[(col,i)] = {'mean':sub[col].mean(),'sd':sub[col].std()}"
   ]
  },
  {
   "cell_type": "markdown",
   "id": "5beeae1e",
   "metadata": {},
   "source": [
    "### Create the classifier and make the prediciton"
   ]
  },
  {
   "cell_type": "code",
   "execution_count": 6,
   "id": "76dacd0f",
   "metadata": {},
   "outputs": [],
   "source": [
    "def predict(data, class_probs, conditional_probs, dist_locs):\n",
    "    '''\n",
    "    This method predicts whether someone voted using a Bayesian classifier, based on \n",
    "    categorical values (white or not white) and continuous values (age,income,education).\n",
    "    --------------------------\n",
    "    Arguments:\n",
    "        data (df): the training data from turnout database\n",
    "        class_probs (dict): the class probabilities for categorical variables\n",
    "        conditional_probs (dict): the conditional probabilities for categorical variables\n",
    "        dist_locs (dict): the mean and standard deviation of continuous variables\n",
    "    Returns:\n",
    "        pred (df): dataframe containing prediction information on whether each person voted\n",
    "    '''\n",
    "    # create empty list to store predictions \n",
    "    store_preds = []\n",
    "    \n",
    "    # loop through each row in the dataframe\n",
    "    for i,row in data.iterrows():\n",
    "        # initialize both probabilities at 1\n",
    "        pr_0 = pr_1 = 1\n",
    "        \n",
    "        # loop through all continuous columns\n",
    "        for j in ['age','income','educate']:\n",
    "            # adjust Pr0 and Pr1 based on normal pdf of column\n",
    "            pr_0 *= st.norm(dist_locs[(j,0)]['mean'],dist_locs[(j,0)]['sd']).pdf(row[j])\n",
    "            pr_1 *= st.norm(dist_locs[(j,1)]['mean'],dist_locs[(j,1)]['sd']).pdf(row[j])\n",
    "            \n",
    "        # update probabilities based on categorical column\n",
    "        pr_0 *= conditional_probs[('white',row.white,0)]*class_probs[0]\n",
    "        pr_1 *= conditional_probs[('white',row.white,1)]*class_probs[1]\n",
    "        \n",
    "        # classify based on most likely probability \n",
    "        class_pred = 0 if pr_0 >= pr_1 else 1\n",
    "        \n",
    "        # store prediction in list\n",
    "        store_preds.append([pr_0,pr_1,class_pred])\n",
    "    \n",
    "    # create dataframe of prediction info\n",
    "    pred = pd.DataFrame(store_preds,columns=[\"pr_0\",\"pr_1\",\"pred\"])\n",
    "    return pred"
   ]
  },
  {
   "cell_type": "markdown",
   "id": "fbbd8256",
   "metadata": {},
   "source": [
    "### Inspect Training Accuracy\n",
    "Let's see how we did on the training data. A high accuracy score does not necessarily mean we have a good classifier, we might have made some error that overfit the data."
   ]
  },
  {
   "cell_type": "code",
   "execution_count": 7,
   "id": "c15fb7aa",
   "metadata": {},
   "outputs": [
    {
     "data": {
      "text/plain": [
       "0.74"
      ]
     },
     "execution_count": 7,
     "metadata": {},
     "output_type": "execute_result"
    }
   ],
   "source": [
    "# get predicitions of train data\n",
    "train_preds = predict(train, class_probs, conditional_probs, dist_locs)\n",
    "\n",
    "# calculate accuracy of train data\n",
    "train_accuracy = sum(train.vote == train_preds.pred)/train.shape[0]\n",
    "train_accuracy"
   ]
  },
  {
   "cell_type": "markdown",
   "id": "74a8af4a",
   "metadata": {},
   "source": [
    "74% accuracy, not bad! Now we hope to see a similar number in the test data set."
   ]
  },
  {
   "cell_type": "markdown",
   "id": "785df70f",
   "metadata": {},
   "source": [
    "### Inspect Test Accuracy\n",
    "This is where it counts!"
   ]
  },
  {
   "cell_type": "code",
   "execution_count": 8,
   "id": "5eb80c19",
   "metadata": {},
   "outputs": [
    {
     "data": {
      "text/plain": [
       "0.7125"
      ]
     },
     "execution_count": 8,
     "metadata": {},
     "output_type": "execute_result"
    }
   ],
   "source": [
    "# get predicitions of test data\n",
    "test_preds = predict(test, class_probs, conditional_probs, dist_locs)\n",
    "\n",
    "# calculate accuracy of test data\n",
    "test_accuracy = sum(test.vote == test_preds.pred)/test.shape[0]\n",
    "test_accuracy"
   ]
  },
  {
   "cell_type": "markdown",
   "id": "a5d0d55e",
   "metadata": {},
   "source": [
    "### Does your model perform better than chance (i.e. coin flip)?"
   ]
  },
  {
   "cell_type": "markdown",
   "id": "767798ae",
   "metadata": {},
   "source": [
    "71%! That's very close to our training data and much better than a coin flip. The model preformed well, but with such limited variables, we were never going to be able to predict voting with a very high degree of accuracy (since there are so many things that affect voting)"
   ]
  }
 ],
 "metadata": {
  "kernelspec": {
   "display_name": "Python 3 (ipykernel)",
   "language": "python",
   "name": "python3"
  },
  "language_info": {
   "codemirror_mode": {
    "name": "ipython",
    "version": 3
   },
   "file_extension": ".py",
   "mimetype": "text/x-python",
   "name": "python",
   "nbconvert_exporter": "python",
   "pygments_lexer": "ipython3",
   "version": "3.9.6"
  }
 },
 "nbformat": 4,
 "nbformat_minor": 5
}
