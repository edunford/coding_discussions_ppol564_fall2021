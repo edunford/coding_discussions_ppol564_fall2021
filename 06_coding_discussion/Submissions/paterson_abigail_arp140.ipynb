{
 "cells": [
  {
   "cell_type": "markdown",
   "id": "864724d3",
   "metadata": {},
   "source": [
    "## Coding Discussion 6\n",
    "### Abigail Paterson\n",
    "#### arp140"
   ]
  },
  {
   "cell_type": "code",
   "execution_count": 1,
   "id": "a688206b",
   "metadata": {},
   "outputs": [],
   "source": [
    "#import packages\n",
    "import pandas as pd\n",
    "import numpy as np\n",
    "import missingno as miss\n",
    "from plotnine import *\n",
    "import matplotlib.pyplot as plt\n",
    "import warnings\n",
    "warnings.filterwarnings(\"ignore\")\n",
    "\n",
    "#data pre processing\n",
    "from sklearn import preprocessing as pp \n",
    "from sklearn.compose import ColumnTransformer \n",
    "\n",
    "# For splits and CV\n",
    "from sklearn.model_selection import train_test_split\n",
    "from sklearn.model_selection import KFold # Cross validation \n",
    "from sklearn.model_selection import cross_validate # Cross validation \n",
    "from sklearn.model_selection import GridSearchCV # Cross validation + param. tuning.\n",
    "\n",
    "# Machine learning methods \n",
    "from sklearn.linear_model import LinearRegression as LM\n",
    "from sklearn.neighbors import KNeighborsRegressor as KNN\n",
    "from sklearn.tree import DecisionTreeRegressor as DTree\n",
    "from sklearn import tree # For plotting the decision tree rules\n",
    "from sklearn.ensemble import BaggingRegressor as Bag\n",
    "from sklearn.ensemble import RandomForestRegressor as RF\n",
    "\n",
    "# For evaluating our model's performance\n",
    "import sklearn.metrics as m\n",
    "\n",
    "# Pipeline to combine modeling elements\n",
    "from sklearn.pipeline import Pipeline"
   ]
  },
  {
   "cell_type": "code",
   "execution_count": 5,
   "id": "23627de7",
   "metadata": {},
   "outputs": [
    {
     "data": {
      "text/html": [
       "<div>\n",
       "<style scoped>\n",
       "    .dataframe tbody tr th:only-of-type {\n",
       "        vertical-align: middle;\n",
       "    }\n",
       "\n",
       "    .dataframe tbody tr th {\n",
       "        vertical-align: top;\n",
       "    }\n",
       "\n",
       "    .dataframe thead th {\n",
       "        text-align: right;\n",
       "    }\n",
       "</style>\n",
       "<table border=\"1\" class=\"dataframe\">\n",
       "  <thead>\n",
       "    <tr style=\"text-align: right;\">\n",
       "      <th></th>\n",
       "      <th>OBJECTID</th>\n",
       "      <th>SSL</th>\n",
       "      <th>BATHRM</th>\n",
       "      <th>HF_BATHRM</th>\n",
       "      <th>HEAT</th>\n",
       "      <th>HEAT_D</th>\n",
       "      <th>AC</th>\n",
       "      <th>NUM_UNITS</th>\n",
       "      <th>ROOMS</th>\n",
       "      <th>BEDRM</th>\n",
       "      <th>...</th>\n",
       "      <th>ROOF</th>\n",
       "      <th>ROOF_D</th>\n",
       "      <th>INTWALL</th>\n",
       "      <th>INTWALL_D</th>\n",
       "      <th>KITCHENS</th>\n",
       "      <th>FIREPLACES</th>\n",
       "      <th>USECODE</th>\n",
       "      <th>LANDAREA</th>\n",
       "      <th>GIS_LAST_MOD_DTTM</th>\n",
       "      <th>LN_PRICE</th>\n",
       "    </tr>\n",
       "  </thead>\n",
       "  <tbody>\n",
       "    <tr>\n",
       "      <th>0</th>\n",
       "      <td>89279</td>\n",
       "      <td>5260    0823</td>\n",
       "      <td>2.0</td>\n",
       "      <td>1.0</td>\n",
       "      <td>1.0</td>\n",
       "      <td>Forced Air</td>\n",
       "      <td>Y</td>\n",
       "      <td>1.0</td>\n",
       "      <td>6.0</td>\n",
       "      <td>3.0</td>\n",
       "      <td>...</td>\n",
       "      <td>1.0</td>\n",
       "      <td>Comp Shingle</td>\n",
       "      <td>11.0</td>\n",
       "      <td>Hardwood/Carp</td>\n",
       "      <td>1.0</td>\n",
       "      <td>0.0</td>\n",
       "      <td>11</td>\n",
       "      <td>688</td>\n",
       "      <td>2018-07-22T18:01:43.000Z</td>\n",
       "      <td>12.409013</td>\n",
       "    </tr>\n",
       "    <tr>\n",
       "      <th>1</th>\n",
       "      <td>40572</td>\n",
       "      <td>2605    0056</td>\n",
       "      <td>3.0</td>\n",
       "      <td>0.0</td>\n",
       "      <td>13.0</td>\n",
       "      <td>Hot Water Rad</td>\n",
       "      <td>N</td>\n",
       "      <td>2.0</td>\n",
       "      <td>9.0</td>\n",
       "      <td>4.0</td>\n",
       "      <td>...</td>\n",
       "      <td>2.0</td>\n",
       "      <td>Built Up</td>\n",
       "      <td>6.0</td>\n",
       "      <td>Hardwood</td>\n",
       "      <td>2.0</td>\n",
       "      <td>1.0</td>\n",
       "      <td>24</td>\n",
       "      <td>2064</td>\n",
       "      <td>2018-07-22T18:01:43.000Z</td>\n",
       "      <td>13.513053</td>\n",
       "    </tr>\n",
       "    <tr>\n",
       "      <th>2</th>\n",
       "      <td>32817</td>\n",
       "      <td>1956    0116</td>\n",
       "      <td>4.0</td>\n",
       "      <td>1.0</td>\n",
       "      <td>7.0</td>\n",
       "      <td>Warm Cool</td>\n",
       "      <td>Y</td>\n",
       "      <td>1.0</td>\n",
       "      <td>10.0</td>\n",
       "      <td>5.0</td>\n",
       "      <td>...</td>\n",
       "      <td>2.0</td>\n",
       "      <td>Built Up</td>\n",
       "      <td>11.0</td>\n",
       "      <td>Hardwood/Carp</td>\n",
       "      <td>1.0</td>\n",
       "      <td>2.0</td>\n",
       "      <td>12</td>\n",
       "      <td>4583</td>\n",
       "      <td>2018-07-22T18:01:43.000Z</td>\n",
       "      <td>14.417091</td>\n",
       "    </tr>\n",
       "    <tr>\n",
       "      <th>3</th>\n",
       "      <td>12939</td>\n",
       "      <td>0939    0056</td>\n",
       "      <td>3.0</td>\n",
       "      <td>1.0</td>\n",
       "      <td>1.0</td>\n",
       "      <td>Forced Air</td>\n",
       "      <td>Y</td>\n",
       "      <td>1.0</td>\n",
       "      <td>10.0</td>\n",
       "      <td>4.0</td>\n",
       "      <td>...</td>\n",
       "      <td>13.0</td>\n",
       "      <td>Neopren</td>\n",
       "      <td>6.0</td>\n",
       "      <td>Hardwood</td>\n",
       "      <td>1.0</td>\n",
       "      <td>2.0</td>\n",
       "      <td>11</td>\n",
       "      <td>2147</td>\n",
       "      <td>2018-07-22T18:01:43.000Z</td>\n",
       "      <td>13.547631</td>\n",
       "    </tr>\n",
       "    <tr>\n",
       "      <th>4</th>\n",
       "      <td>59018</td>\n",
       "      <td>3200    0254</td>\n",
       "      <td>2.0</td>\n",
       "      <td>0.0</td>\n",
       "      <td>13.0</td>\n",
       "      <td>Hot Water Rad</td>\n",
       "      <td>N</td>\n",
       "      <td>1.0</td>\n",
       "      <td>6.0</td>\n",
       "      <td>3.0</td>\n",
       "      <td>...</td>\n",
       "      <td>2.0</td>\n",
       "      <td>Built Up</td>\n",
       "      <td>6.0</td>\n",
       "      <td>Hardwood</td>\n",
       "      <td>1.0</td>\n",
       "      <td>0.0</td>\n",
       "      <td>13</td>\n",
       "      <td>1576</td>\n",
       "      <td>2018-07-22T18:01:43.000Z</td>\n",
       "      <td>13.023647</td>\n",
       "    </tr>\n",
       "  </tbody>\n",
       "</table>\n",
       "<p>5 rows × 39 columns</p>\n",
       "</div>"
      ],
      "text/plain": [
       "   OBJECTID           SSL  BATHRM  HF_BATHRM  HEAT         HEAT_D AC  \\\n",
       "0     89279  5260    0823     2.0        1.0   1.0     Forced Air  Y   \n",
       "1     40572  2605    0056     3.0        0.0  13.0  Hot Water Rad  N   \n",
       "2     32817  1956    0116     4.0        1.0   7.0      Warm Cool  Y   \n",
       "3     12939  0939    0056     3.0        1.0   1.0     Forced Air  Y   \n",
       "4     59018  3200    0254     2.0        0.0  13.0  Hot Water Rad  N   \n",
       "\n",
       "   NUM_UNITS  ROOMS  BEDRM  ...  ROOF        ROOF_D  INTWALL      INTWALL_D  \\\n",
       "0        1.0    6.0    3.0  ...   1.0  Comp Shingle     11.0  Hardwood/Carp   \n",
       "1        2.0    9.0    4.0  ...   2.0      Built Up      6.0       Hardwood   \n",
       "2        1.0   10.0    5.0  ...   2.0      Built Up     11.0  Hardwood/Carp   \n",
       "3        1.0   10.0    4.0  ...  13.0       Neopren      6.0       Hardwood   \n",
       "4        1.0    6.0    3.0  ...   2.0      Built Up      6.0       Hardwood   \n",
       "\n",
       "  KITCHENS FIREPLACES  USECODE  LANDAREA         GIS_LAST_MOD_DTTM   LN_PRICE  \n",
       "0      1.0        0.0       11       688  2018-07-22T18:01:43.000Z  12.409013  \n",
       "1      2.0        1.0       24      2064  2018-07-22T18:01:43.000Z  13.513053  \n",
       "2      1.0        2.0       12      4583  2018-07-22T18:01:43.000Z  14.417091  \n",
       "3      1.0        2.0       11      2147  2018-07-22T18:01:43.000Z  13.547631  \n",
       "4      1.0        0.0       13      1576  2018-07-22T18:01:43.000Z  13.023647  \n",
       "\n",
       "[5 rows x 39 columns]"
      ]
     },
     "execution_count": 5,
     "metadata": {},
     "output_type": "execute_result"
    }
   ],
   "source": [
    "#load data\n",
    "train = pd.read_csv(\"../train_data.csv\")\n",
    "test = pd.read_csv(\"../test_data.csv\")\n",
    "\n",
    "train.head()"
   ]
  },
  {
   "cell_type": "code",
   "execution_count": 6,
   "id": "f10e47a4",
   "metadata": {},
   "outputs": [
    {
     "data": {
      "text/html": [
       "<div>\n",
       "<style scoped>\n",
       "    .dataframe tbody tr th:only-of-type {\n",
       "        vertical-align: middle;\n",
       "    }\n",
       "\n",
       "    .dataframe tbody tr th {\n",
       "        vertical-align: top;\n",
       "    }\n",
       "\n",
       "    .dataframe thead th {\n",
       "        text-align: right;\n",
       "    }\n",
       "</style>\n",
       "<table border=\"1\" class=\"dataframe\">\n",
       "  <thead>\n",
       "    <tr style=\"text-align: right;\">\n",
       "      <th></th>\n",
       "      <th>OBJECTID</th>\n",
       "      <th>SSL</th>\n",
       "      <th>BATHRM</th>\n",
       "      <th>HF_BATHRM</th>\n",
       "      <th>HEAT</th>\n",
       "      <th>HEAT_D</th>\n",
       "      <th>AC</th>\n",
       "      <th>NUM_UNITS</th>\n",
       "      <th>ROOMS</th>\n",
       "      <th>BEDRM</th>\n",
       "      <th>...</th>\n",
       "      <th>ROOF</th>\n",
       "      <th>ROOF_D</th>\n",
       "      <th>INTWALL</th>\n",
       "      <th>INTWALL_D</th>\n",
       "      <th>KITCHENS</th>\n",
       "      <th>FIREPLACES</th>\n",
       "      <th>USECODE</th>\n",
       "      <th>LANDAREA</th>\n",
       "      <th>GIS_LAST_MOD_DTTM</th>\n",
       "      <th>LN_PRICE</th>\n",
       "    </tr>\n",
       "  </thead>\n",
       "  <tbody>\n",
       "    <tr>\n",
       "      <th>0</th>\n",
       "      <td>89279</td>\n",
       "      <td>5260    0823</td>\n",
       "      <td>2.0</td>\n",
       "      <td>1.0</td>\n",
       "      <td>1.0</td>\n",
       "      <td>Forced Air</td>\n",
       "      <td>Y</td>\n",
       "      <td>1.0</td>\n",
       "      <td>6.0</td>\n",
       "      <td>3.0</td>\n",
       "      <td>...</td>\n",
       "      <td>1.0</td>\n",
       "      <td>Comp Shingle</td>\n",
       "      <td>11.0</td>\n",
       "      <td>Hardwood/Carp</td>\n",
       "      <td>1.0</td>\n",
       "      <td>0.0</td>\n",
       "      <td>11</td>\n",
       "      <td>688</td>\n",
       "      <td>2018-07-22T18:01:43.000Z</td>\n",
       "      <td>12.409013</td>\n",
       "    </tr>\n",
       "    <tr>\n",
       "      <th>1</th>\n",
       "      <td>40572</td>\n",
       "      <td>2605    0056</td>\n",
       "      <td>3.0</td>\n",
       "      <td>0.0</td>\n",
       "      <td>13.0</td>\n",
       "      <td>Hot Water Rad</td>\n",
       "      <td>N</td>\n",
       "      <td>2.0</td>\n",
       "      <td>9.0</td>\n",
       "      <td>4.0</td>\n",
       "      <td>...</td>\n",
       "      <td>2.0</td>\n",
       "      <td>Built Up</td>\n",
       "      <td>6.0</td>\n",
       "      <td>Hardwood</td>\n",
       "      <td>2.0</td>\n",
       "      <td>1.0</td>\n",
       "      <td>24</td>\n",
       "      <td>2064</td>\n",
       "      <td>2018-07-22T18:01:43.000Z</td>\n",
       "      <td>13.513053</td>\n",
       "    </tr>\n",
       "    <tr>\n",
       "      <th>2</th>\n",
       "      <td>32817</td>\n",
       "      <td>1956    0116</td>\n",
       "      <td>4.0</td>\n",
       "      <td>1.0</td>\n",
       "      <td>7.0</td>\n",
       "      <td>Warm Cool</td>\n",
       "      <td>Y</td>\n",
       "      <td>1.0</td>\n",
       "      <td>10.0</td>\n",
       "      <td>5.0</td>\n",
       "      <td>...</td>\n",
       "      <td>2.0</td>\n",
       "      <td>Built Up</td>\n",
       "      <td>11.0</td>\n",
       "      <td>Hardwood/Carp</td>\n",
       "      <td>1.0</td>\n",
       "      <td>2.0</td>\n",
       "      <td>12</td>\n",
       "      <td>4583</td>\n",
       "      <td>2018-07-22T18:01:43.000Z</td>\n",
       "      <td>14.417091</td>\n",
       "    </tr>\n",
       "    <tr>\n",
       "      <th>3</th>\n",
       "      <td>12939</td>\n",
       "      <td>0939    0056</td>\n",
       "      <td>3.0</td>\n",
       "      <td>1.0</td>\n",
       "      <td>1.0</td>\n",
       "      <td>Forced Air</td>\n",
       "      <td>Y</td>\n",
       "      <td>1.0</td>\n",
       "      <td>10.0</td>\n",
       "      <td>4.0</td>\n",
       "      <td>...</td>\n",
       "      <td>13.0</td>\n",
       "      <td>Neopren</td>\n",
       "      <td>6.0</td>\n",
       "      <td>Hardwood</td>\n",
       "      <td>1.0</td>\n",
       "      <td>2.0</td>\n",
       "      <td>11</td>\n",
       "      <td>2147</td>\n",
       "      <td>2018-07-22T18:01:43.000Z</td>\n",
       "      <td>13.547631</td>\n",
       "    </tr>\n",
       "    <tr>\n",
       "      <th>4</th>\n",
       "      <td>59018</td>\n",
       "      <td>3200    0254</td>\n",
       "      <td>2.0</td>\n",
       "      <td>0.0</td>\n",
       "      <td>13.0</td>\n",
       "      <td>Hot Water Rad</td>\n",
       "      <td>N</td>\n",
       "      <td>1.0</td>\n",
       "      <td>6.0</td>\n",
       "      <td>3.0</td>\n",
       "      <td>...</td>\n",
       "      <td>2.0</td>\n",
       "      <td>Built Up</td>\n",
       "      <td>6.0</td>\n",
       "      <td>Hardwood</td>\n",
       "      <td>1.0</td>\n",
       "      <td>0.0</td>\n",
       "      <td>13</td>\n",
       "      <td>1576</td>\n",
       "      <td>2018-07-22T18:01:43.000Z</td>\n",
       "      <td>13.023647</td>\n",
       "    </tr>\n",
       "  </tbody>\n",
       "</table>\n",
       "<p>5 rows × 39 columns</p>\n",
       "</div>"
      ],
      "text/plain": [
       "   OBJECTID           SSL  BATHRM  HF_BATHRM  HEAT         HEAT_D AC  \\\n",
       "0     89279  5260    0823     2.0        1.0   1.0     Forced Air  Y   \n",
       "1     40572  2605    0056     3.0        0.0  13.0  Hot Water Rad  N   \n",
       "2     32817  1956    0116     4.0        1.0   7.0      Warm Cool  Y   \n",
       "3     12939  0939    0056     3.0        1.0   1.0     Forced Air  Y   \n",
       "4     59018  3200    0254     2.0        0.0  13.0  Hot Water Rad  N   \n",
       "\n",
       "   NUM_UNITS  ROOMS  BEDRM  ...  ROOF        ROOF_D  INTWALL      INTWALL_D  \\\n",
       "0        1.0    6.0    3.0  ...   1.0  Comp Shingle     11.0  Hardwood/Carp   \n",
       "1        2.0    9.0    4.0  ...   2.0      Built Up      6.0       Hardwood   \n",
       "2        1.0   10.0    5.0  ...   2.0      Built Up     11.0  Hardwood/Carp   \n",
       "3        1.0   10.0    4.0  ...  13.0       Neopren      6.0       Hardwood   \n",
       "4        1.0    6.0    3.0  ...   2.0      Built Up      6.0       Hardwood   \n",
       "\n",
       "  KITCHENS FIREPLACES  USECODE  LANDAREA         GIS_LAST_MOD_DTTM   LN_PRICE  \n",
       "0      1.0        0.0       11       688  2018-07-22T18:01:43.000Z  12.409013  \n",
       "1      2.0        1.0       24      2064  2018-07-22T18:01:43.000Z  13.513053  \n",
       "2      1.0        2.0       12      4583  2018-07-22T18:01:43.000Z  14.417091  \n",
       "3      1.0        2.0       11      2147  2018-07-22T18:01:43.000Z  13.547631  \n",
       "4      1.0        0.0       13      1576  2018-07-22T18:01:43.000Z  13.023647  \n",
       "\n",
       "[5 rows x 39 columns]"
      ]
     },
     "execution_count": 6,
     "metadata": {},
     "output_type": "execute_result"
    }
   ],
   "source": [
    "test.head()"
   ]
  },
  {
   "cell_type": "markdown",
   "id": "c1f71431",
   "metadata": {},
   "source": [
    "Our objective is to attempt to predict the log selling price of a house in DC based on the features BATHRM(number of bathrooms), BEDRM(number of bedrooms), GBA and LANDAREA(total land area)"
   ]
  },
  {
   "cell_type": "markdown",
   "id": "3bcf3304",
   "metadata": {},
   "source": [
    "### Data Exploration"
   ]
  },
  {
   "cell_type": "code",
   "execution_count": 7,
   "id": "abb713d0",
   "metadata": {},
   "outputs": [
    {
     "data": {
      "text/plain": [
       "<AxesSubplot:>"
      ]
     },
     "execution_count": 7,
     "metadata": {},
     "output_type": "execute_result"
    },
    {
     "data": {
      "image/png": "[encoded data removed]",
      "text/plain": [
       "<Figure size 1800x720 with 2 Axes>"
      ]
     },
     "metadata": {
      "needs_background": "light"
     },
     "output_type": "display_data"
    }
   ],
   "source": [
    "#first look for missing data \n",
    "miss.matrix(train)"
   ]
  },
  {
   "cell_type": "markdown",
   "id": "0048cad9",
   "metadata": {},
   "source": [
    "I notice there is are a lot of missing values in YR_RMDL. I will drop the rows with missing data "
   ]
  },
  {
   "cell_type": "code",
   "execution_count": 50,
   "id": "fb7a0150",
   "metadata": {},
   "outputs": [],
   "source": [
    "train = train.dropna()\n",
    "test = test.dropna()"
   ]
  },
  {
   "cell_type": "code",
   "execution_count": 51,
   "id": "c4acb776",
   "metadata": {},
   "outputs": [
    {
     "data": {
      "image/png": "[encoded data removed]",
      "text/plain": [
       "<Figure size 1000x300 with 4 Axes>"
      ]
     },
     "metadata": {
      "needs_background": "light"
     },
     "output_type": "display_data"
    },
    {
     "data": {
      "text/plain": [
       "<ggplot: (169218245690)>"
      ]
     },
     "execution_count": 51,
     "metadata": {},
     "output_type": "execute_result"
    }
   ],
   "source": [
    "#seaparate data\n",
    "y_train = train[[\"LN_PRICE\"]]\n",
    "X_train = train[['BATHRM', 'BEDRM', 'GBA', 'LANDAREA']]\n",
    "\n",
    "y_test = test['LN_PRICE']\n",
    "X_test = test[['BATHRM', 'BEDRM', 'GBA', 'LANDAREA']]\n",
    "\n",
    "#make GBA and land area logrithmic\n",
    "X_train[\"GBA\"] = np.log(X_train[\"GBA\"])\n",
    "X_train[\"LANDAREA\"] = np.log(X_train[\"LANDAREA\"])\n",
    "\n",
    "X_test[\"GBA\"] = np.log(X_test[\"GBA\"])\n",
    "X_test[\"LANDAREA\"] = np.log(X_test[\"LANDAREA\"])\n",
    "#view each features distribution\n",
    "(\n",
    "    ggplot(X_train.melt(),aes(x=\"value\")) +\n",
    "    geom_histogram() +\n",
    "    facet_wrap(\"variable\",scales=\"free\") +\n",
    "    theme_minimal() +\n",
    "    theme(figure_size = (10,3)) \n",
    ")"
   ]
  },
  {
   "cell_type": "markdown",
   "id": "3d5437d8",
   "metadata": {},
   "source": [
    "This shows that we will need to do scaling later on."
   ]
  },
  {
   "cell_type": "markdown",
   "id": "cb321a09",
   "metadata": {},
   "source": [
    "### Modeling Pipeline"
   ]
  },
  {
   "cell_type": "code",
   "execution_count": 18,
   "id": "c27847d5",
   "metadata": {},
   "outputs": [],
   "source": [
    "#set folds index for comparable samples\n",
    "fold_generator = KFold(n_splits=5, shuffle=True, random_state=111)\n",
    "\n",
    "#specify preprocessing steps\n",
    "preprocess = ColumnTransformer(transformers=[(\"num\", pp.MinMaxScaler(),\n",
    "                            ['BATHRM','BEDRM', 'GBA', 'LANDAREA'])])\n",
    "\n",
    "#create model pipe\n",
    "pipe = Pipeline(steps=[('pre_process', preprocess), ('model',None)])\n"
   ]
  },
  {
   "cell_type": "code",
   "execution_count": 19,
   "id": "b074c19d",
   "metadata": {},
   "outputs": [],
   "source": [
    "#specify the models and their parameters\n",
    "search_space = [\n",
    "    # Linear Model\n",
    "    {'model' : [LM()]},\n",
    "    \n",
    "    # KNN with K tuning param\n",
    "    {'model' : [KNN()],\n",
    "     'model__n_neighbors':[10,15,20,25,30]},\n",
    "    \n",
    "    # Decision Tree with the Max Depth Param\n",
    "    {'model': [DTree()],\n",
    "     'model__max_depth':[1,2,3,5]},\n",
    "    \n",
    "    # The Bagging decision tree model \n",
    "    {'model': [Bag()]},\n",
    "    \n",
    "    # Random forest with the N Estimators tuning param\n",
    "    {'model' : [RF()],\n",
    "     'model__max_depth':[1,2,3],\n",
    "     'model__n_estimators':[500,1000,1250]},\n",
    "]\n"
   ]
  },
  {
   "cell_type": "code",
   "execution_count": 20,
   "id": "94756d97",
   "metadata": {},
   "outputs": [],
   "source": [
    "#set up grid search\n",
    "search = GridSearchCV(pipe, search_space, \n",
    "                      cv = fold_generator,\n",
    "                      scoring='neg_mean_squared_error',\n",
    "                      n_jobs=4)\n"
   ]
  },
  {
   "cell_type": "code",
   "execution_count": 21,
   "id": "035b6d9c",
   "metadata": {},
   "outputs": [
    {
     "data": {
      "text/plain": [
       "GridSearchCV(cv=KFold(n_splits=5, random_state=111, shuffle=True),\n",
       "             estimator=Pipeline(steps=[('pre_process',\n",
       "                                        ColumnTransformer(transformers=[('num',\n",
       "                                                                         MinMaxScaler(),\n",
       "                                                                         ['BATHRM',\n",
       "                                                                          'BEDRM',\n",
       "                                                                          'GBA',\n",
       "                                                                          'LANDAREA'])])),\n",
       "                                       ('model', None)]),\n",
       "             n_jobs=4,\n",
       "             param_grid=[{'model': [LinearRegression()]},\n",
       "                         {'model': [KNeighborsRegressor(n_neighbors=30)],\n",
       "                          'model__n_neighbors': [10, 15, 20, 25, 30]},\n",
       "                         {'model': [DecisionTreeRegressor()],\n",
       "                          'model__max_depth': [1, 2, 3, 5]},\n",
       "                         {'model': [BaggingRegressor()]},\n",
       "                         {'model': [RandomForestRegressor()],\n",
       "                          'model__max_depth': [1, 2, 3],\n",
       "                          'model__n_estimators': [500, 1000, 1250]}],\n",
       "             scoring='neg_mean_squared_error')"
      ]
     },
     "execution_count": 21,
     "metadata": {},
     "output_type": "execute_result"
    }
   ],
   "source": [
    "#fit the model \n",
    "search.fit(X_train, y_train)"
   ]
  },
  {
   "cell_type": "code",
   "execution_count": 22,
   "id": "e8136f10",
   "metadata": {},
   "outputs": [
    {
     "data": {
      "text/plain": [
       "-0.41977230763399137"
      ]
     },
     "execution_count": 22,
     "metadata": {},
     "output_type": "execute_result"
    }
   ],
   "source": [
    "#the mean of sample error\n",
    "search.best_score_"
   ]
  },
  {
   "cell_type": "code",
   "execution_count": 23,
   "id": "f5e46847",
   "metadata": {},
   "outputs": [
    {
     "data": {
      "text/plain": [
       "{'model': KNeighborsRegressor(n_neighbors=30), 'model__n_neighbors': 30}"
      ]
     },
     "execution_count": 23,
     "metadata": {},
     "output_type": "execute_result"
    }
   ],
   "source": [
    "#search for best parameters\n",
    "search.best_params_"
   ]
  },
  {
   "cell_type": "markdown",
   "id": "25882c03",
   "metadata": {},
   "source": [
    "### Test Performance"
   ]
  },
  {
   "cell_type": "code",
   "execution_count": 30,
   "id": "8dd5db6a",
   "metadata": {},
   "outputs": [
    {
     "data": {
      "text/plain": [
       "0.3982886586757687"
      ]
     },
     "execution_count": 30,
     "metadata": {},
     "output_type": "execute_result"
    }
   ],
   "source": [
    "#Predict new values from test data\n",
    "y_pred = search.predict(X_test)\n",
    "m.mean_squared_error(y_test, y_pred)"
   ]
  },
  {
   "cell_type": "code",
   "execution_count": 31,
   "id": "ff789c0e",
   "metadata": {},
   "outputs": [
    {
     "data": {
      "text/plain": [
       "0.34276347631834214"
      ]
     },
     "execution_count": 31,
     "metadata": {},
     "output_type": "execute_result"
    }
   ],
   "source": [
    "# R squared\n",
    "m.r2_score(y_test, y_pred)"
   ]
  },
  {
   "cell_type": "code",
   "execution_count": 41,
   "id": "a06e287a",
   "metadata": {},
   "outputs": [
    {
     "data": {
      "text/plain": [
       "<matplotlib.collections.PathCollection at 0x27664cffa00>"
      ]
     },
     "execution_count": 41,
     "metadata": {},
     "output_type": "execute_result"
    },
    {
     "data": {
      "image/png": "[encoded data removed]",
      "text/plain": [
       "<Figure size 432x288 with 1 Axes>"
      ]
     },
     "metadata": {
      "needs_background": "light"
     },
     "output_type": "display_data"
    }
   ],
   "source": [
    "plt.scatter(y_pred, y_test)\n",
    "plt"
   ]
  },
  {
   "cell_type": "code",
   "execution_count": 55,
   "id": "3fbea82f",
   "metadata": {},
   "outputs": [],
   "source": [
    "#plot line of best fit\n",
    "#(\n",
    "#    ggplot(pd.DataFrame(dict(pred=y_pred,truth=y_test)),\n",
    "#          aes(x='pred',y=\"truth\")) +\n",
    "#    geom_point(alpha=.25) +\n",
    "#    geom_abline(linetype=\"dashed\",color=\"darkred\",size=1) +\n",
    "#    theme_bw() +\n",
    "#    theme(figure_size=(10,7))\n",
    "#)\n",
    "#gave me an \"error must be 1-Dimensional\" error which I do not understand"
   ]
  },
  {
   "cell_type": "code",
   "execution_count": null,
   "id": "afb6e2bd",
   "metadata": {},
   "outputs": [],
   "source": []
  }
 ],
 "metadata": {
  "kernelspec": {
   "display_name": "Python 3 (ipykernel)",
   "language": "python",
   "name": "python3"
  },
  "language_info": {
   "codemirror_mode": {
    "name": "ipython",
    "version": 3
   },
   "file_extension": ".py",
   "mimetype": "text/x-python",
   "name": "python",
   "nbconvert_exporter": "python",
   "pygments_lexer": "ipython3",
   "version": "3.9.7"
  }
 },
 "nbformat": 4,
 "nbformat_minor": 5
}
