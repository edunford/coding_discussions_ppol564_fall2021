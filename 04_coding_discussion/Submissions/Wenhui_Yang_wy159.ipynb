{
 "cells": [
  {
   "cell_type": "markdown",
   "id": "270594a5",
   "metadata": {},
   "source": [
    "# Coding discussion 4\n",
    "### Wenhui Yang"
   ]
  },
  {
   "cell_type": "code",
   "execution_count": 1,
   "id": "beb6aa8f",
   "metadata": {},
   "outputs": [],
   "source": [
    "import pandas as pd\n",
    "import numpy as np\n",
    "import seaborn as sns"
   ]
  },
  {
   "cell_type": "code",
   "execution_count": 2,
   "id": "14103789",
   "metadata": {},
   "outputs": [
    {
     "data": {
      "text/plain": [
       "'!\"#$%&\\'()*+,-./:;<=>?@[\\\\]^_`{|}~“”'"
      ]
     },
     "execution_count": 2,
     "metadata": {},
     "output_type": "execute_result"
    }
   ],
   "source": [
    "from string import punctuation\n",
    "punctuation += (\"“\" + \"”\") \n",
    "punctuation"
   ]
  },
  {
   "cell_type": "code",
   "execution_count": 3,
   "id": "31b87797",
   "metadata": {},
   "outputs": [],
   "source": [
    "# read in the txt files as strings\n",
    "with open(\"bbc-khashoggi.txt\",\"r\",encoding =\"UTF-8\") as file1:\n",
    "    bbc = file1.read()\n",
    "with open(\"cnn-khashoggi.txt\",\"r\",encoding =\"UTF-8\") as file2:\n",
    "    cnn = file2.read()\n",
    "with open(\"fox-khashoggi.txt\",\"r\",encoding =\"UTF-8\") as file3:\n",
    "    fox = file3.read()\n",
    "with open(\"aljazeera-khashoggi.txt\",\"r\",encoding =\"UTF-8\") as file4:\n",
    "    alja = file4.read()\n",
    "with open (\"breitbart-khashoggi.txt\",\"r\",encoding = \"UTF-8\") as file5:\n",
    "    breit = file5.read()\n",
    "    \n",
    "#read in the stop_words.csv as a list\n",
    "stop_words_file = pd.read_csv(\"stop_words.csv\")\n",
    "stop_words = list(stop_words_file.word)"
   ]
  },
  {
   "cell_type": "code",
   "execution_count": 4,
   "id": "01e87194",
   "metadata": {},
   "outputs": [],
   "source": [
    "with open(\"bbc-khashoggi copy.txt\",\"r\",encoding =\"UTF-8\") as file7:\n",
    "    bbc_removed = file7.read()"
   ]
  },
  {
   "cell_type": "code",
   "execution_count": 5,
   "id": "ece2ceb1",
   "metadata": {},
   "outputs": [],
   "source": [
    "def tokenize(text=None):\n",
    "    text = text.lower()\n",
    "    text = text.replace(\"\\'\",\"’\") # It is noticed that the single quotation marks(‘) are different across articles\n",
    "    for i in punctuation: \n",
    "        text = text.replace(i,\" \") # use a for loop to remove all the punctuations\n",
    "    text_list = text.split()\n",
    "    text_list2 = [word for word in text_list if word not in stop_words]\n",
    "    return text_list2"
   ]
  },
  {
   "cell_type": "code",
   "execution_count": 6,
   "id": "bf2d3dd0",
   "metadata": {},
   "outputs": [],
   "source": [
    "def convert_text_to_dtm(txt):\n",
    "    '''\n",
    "    Converts text into a document term matrix.\n",
    "    '''\n",
    "    d = dict()\n",
    "    for word in tokenize(txt):\n",
    "        if word in d:\n",
    "            d[word][0] += 1\n",
    "        else:\n",
    "            d[word] = [1]\n",
    "    return pd.DataFrame(d)"
   ]
  },
  {
   "cell_type": "code",
   "execution_count": 7,
   "id": "4e0757cf",
   "metadata": {},
   "outputs": [],
   "source": [
    "# Build a function that generate document term matrix for a list of texts\n",
    "def gen_DTM(texts=None):\n",
    "    '''\n",
    "    Generate a document term matrix\n",
    "    '''\n",
    "    DTM = pd.DataFrame()\n",
    "    for text in texts:\n",
    "        entry = convert_text_to_dtm(text)\n",
    "        DTM = DTM.append(pd.DataFrame(entry),ignore_index=True,sort=True) # Row bind\n",
    "    \n",
    "    DTM.fillna(0, inplace=True) # Fill in any missing values with 0s (i.e. when a word is in one text but not another)\n",
    "    return DTM\n"
   ]
  },
  {
   "cell_type": "code",
   "execution_count": 8,
   "id": "e42a58e6",
   "metadata": {},
   "outputs": [],
   "source": [
    "articles = [bbc,bbc_removed,cnn,alja,fox,breit]"
   ]
  },
  {
   "cell_type": "code",
   "execution_count": 9,
   "id": "8233dd59",
   "metadata": {
    "scrolled": true
   },
   "outputs": [
    {
     "data": {
      "text/html": [
       "<div>\n",
       "<style scoped>\n",
       "    .dataframe tbody tr th:only-of-type {\n",
       "        vertical-align: middle;\n",
       "    }\n",
       "\n",
       "    .dataframe tbody tr th {\n",
       "        vertical-align: top;\n",
       "    }\n",
       "\n",
       "    .dataframe thead th {\n",
       "        text-align: right;\n",
       "    }\n",
       "</style>\n",
       "<table border=\"1\" class=\"dataframe\">\n",
       "  <thead>\n",
       "    <tr style=\"text-align: right;\">\n",
       "      <th></th>\n",
       "      <th>08</th>\n",
       "      <th>1</th>\n",
       "      <th>11</th>\n",
       "      <th>12</th>\n",
       "      <th>15</th>\n",
       "      <th>18</th>\n",
       "      <th>2</th>\n",
       "      <th>28</th>\n",
       "      <th>2r</th>\n",
       "      <th>30</th>\n",
       "      <th>...</th>\n",
       "      <th>woods</th>\n",
       "      <th>world</th>\n",
       "      <th>worse</th>\n",
       "      <th>writer</th>\n",
       "      <th>yalova</th>\n",
       "      <th>yelova</th>\n",
       "      <th>£38</th>\n",
       "      <th>—</th>\n",
       "      <th>’</th>\n",
       "      <th>’where</th>\n",
       "    </tr>\n",
       "  </thead>\n",
       "  <tbody>\n",
       "    <tr>\n",
       "      <th>0</th>\n",
       "      <td>0.0</td>\n",
       "      <td>0.0</td>\n",
       "      <td>0.0</td>\n",
       "      <td>1.0</td>\n",
       "      <td>0.0</td>\n",
       "      <td>2.0</td>\n",
       "      <td>1.0</td>\n",
       "      <td>0.0</td>\n",
       "      <td>1.0</td>\n",
       "      <td>0.0</td>\n",
       "      <td>...</td>\n",
       "      <td>0.0</td>\n",
       "      <td>1.0</td>\n",
       "      <td>0.0</td>\n",
       "      <td>0.0</td>\n",
       "      <td>0.0</td>\n",
       "      <td>0.0</td>\n",
       "      <td>1.0</td>\n",
       "      <td>0.0</td>\n",
       "      <td>0.0</td>\n",
       "      <td>0.0</td>\n",
       "    </tr>\n",
       "    <tr>\n",
       "      <th>1</th>\n",
       "      <td>0.0</td>\n",
       "      <td>0.0</td>\n",
       "      <td>0.0</td>\n",
       "      <td>1.0</td>\n",
       "      <td>0.0</td>\n",
       "      <td>2.0</td>\n",
       "      <td>1.0</td>\n",
       "      <td>0.0</td>\n",
       "      <td>1.0</td>\n",
       "      <td>0.0</td>\n",
       "      <td>...</td>\n",
       "      <td>0.0</td>\n",
       "      <td>1.0</td>\n",
       "      <td>0.0</td>\n",
       "      <td>0.0</td>\n",
       "      <td>0.0</td>\n",
       "      <td>0.0</td>\n",
       "      <td>1.0</td>\n",
       "      <td>0.0</td>\n",
       "      <td>0.0</td>\n",
       "      <td>0.0</td>\n",
       "    </tr>\n",
       "    <tr>\n",
       "      <th>2</th>\n",
       "      <td>0.0</td>\n",
       "      <td>0.0</td>\n",
       "      <td>0.0</td>\n",
       "      <td>0.0</td>\n",
       "      <td>0.0</td>\n",
       "      <td>1.0</td>\n",
       "      <td>0.0</td>\n",
       "      <td>0.0</td>\n",
       "      <td>0.0</td>\n",
       "      <td>0.0</td>\n",
       "      <td>...</td>\n",
       "      <td>0.0</td>\n",
       "      <td>0.0</td>\n",
       "      <td>0.0</td>\n",
       "      <td>0.0</td>\n",
       "      <td>1.0</td>\n",
       "      <td>0.0</td>\n",
       "      <td>0.0</td>\n",
       "      <td>0.0</td>\n",
       "      <td>0.0</td>\n",
       "      <td>0.0</td>\n",
       "    </tr>\n",
       "    <tr>\n",
       "      <th>3</th>\n",
       "      <td>0.0</td>\n",
       "      <td>0.0</td>\n",
       "      <td>0.0</td>\n",
       "      <td>0.0</td>\n",
       "      <td>1.0</td>\n",
       "      <td>2.0</td>\n",
       "      <td>2.0</td>\n",
       "      <td>1.0</td>\n",
       "      <td>0.0</td>\n",
       "      <td>0.0</td>\n",
       "      <td>...</td>\n",
       "      <td>0.0</td>\n",
       "      <td>0.0</td>\n",
       "      <td>0.0</td>\n",
       "      <td>0.0</td>\n",
       "      <td>0.0</td>\n",
       "      <td>0.0</td>\n",
       "      <td>0.0</td>\n",
       "      <td>0.0</td>\n",
       "      <td>1.0</td>\n",
       "      <td>1.0</td>\n",
       "    </tr>\n",
       "    <tr>\n",
       "      <th>4</th>\n",
       "      <td>1.0</td>\n",
       "      <td>2.0</td>\n",
       "      <td>1.0</td>\n",
       "      <td>0.0</td>\n",
       "      <td>1.0</td>\n",
       "      <td>1.0</td>\n",
       "      <td>1.0</td>\n",
       "      <td>0.0</td>\n",
       "      <td>0.0</td>\n",
       "      <td>1.0</td>\n",
       "      <td>...</td>\n",
       "      <td>1.0</td>\n",
       "      <td>0.0</td>\n",
       "      <td>1.0</td>\n",
       "      <td>2.0</td>\n",
       "      <td>0.0</td>\n",
       "      <td>1.0</td>\n",
       "      <td>0.0</td>\n",
       "      <td>3.0</td>\n",
       "      <td>0.0</td>\n",
       "      <td>0.0</td>\n",
       "    </tr>\n",
       "    <tr>\n",
       "      <th>5</th>\n",
       "      <td>0.0</td>\n",
       "      <td>0.0</td>\n",
       "      <td>0.0</td>\n",
       "      <td>0.0</td>\n",
       "      <td>1.0</td>\n",
       "      <td>0.0</td>\n",
       "      <td>0.0</td>\n",
       "      <td>0.0</td>\n",
       "      <td>0.0</td>\n",
       "      <td>0.0</td>\n",
       "      <td>...</td>\n",
       "      <td>0.0</td>\n",
       "      <td>1.0</td>\n",
       "      <td>0.0</td>\n",
       "      <td>0.0</td>\n",
       "      <td>0.0</td>\n",
       "      <td>0.0</td>\n",
       "      <td>0.0</td>\n",
       "      <td>0.0</td>\n",
       "      <td>0.0</td>\n",
       "      <td>0.0</td>\n",
       "    </tr>\n",
       "  </tbody>\n",
       "</table>\n",
       "<p>6 rows × 666 columns</p>\n",
       "</div>"
      ],
      "text/plain": [
       "    08    1   11   12   15   18    2   28   2r   30  ...  woods  world  worse  \\\n",
       "0  0.0  0.0  0.0  1.0  0.0  2.0  1.0  0.0  1.0  0.0  ...    0.0    1.0    0.0   \n",
       "1  0.0  0.0  0.0  1.0  0.0  2.0  1.0  0.0  1.0  0.0  ...    0.0    1.0    0.0   \n",
       "2  0.0  0.0  0.0  0.0  0.0  1.0  0.0  0.0  0.0  0.0  ...    0.0    0.0    0.0   \n",
       "3  0.0  0.0  0.0  0.0  1.0  2.0  2.0  1.0  0.0  0.0  ...    0.0    0.0    0.0   \n",
       "4  1.0  2.0  1.0  0.0  1.0  1.0  1.0  0.0  0.0  1.0  ...    1.0    0.0    1.0   \n",
       "5  0.0  0.0  0.0  0.0  1.0  0.0  0.0  0.0  0.0  0.0  ...    0.0    1.0    0.0   \n",
       "\n",
       "   writer  yalova  yelova  £38    —    ’  ’where  \n",
       "0     0.0     0.0     0.0  1.0  0.0  0.0     0.0  \n",
       "1     0.0     0.0     0.0  1.0  0.0  0.0     0.0  \n",
       "2     0.0     1.0     0.0  0.0  0.0  0.0     0.0  \n",
       "3     0.0     0.0     0.0  0.0  0.0  1.0     1.0  \n",
       "4     2.0     0.0     1.0  0.0  3.0  0.0     0.0  \n",
       "5     0.0     0.0     0.0  0.0  0.0  0.0     0.0  \n",
       "\n",
       "[6 rows x 666 columns]"
      ]
     },
     "execution_count": 9,
     "metadata": {},
     "output_type": "execute_result"
    }
   ],
   "source": [
    "D = gen_DTM(articles)\n",
    "D"
   ]
  },
  {
   "cell_type": "code",
   "execution_count": 10,
   "id": "d561b5e9",
   "metadata": {},
   "outputs": [],
   "source": [
    "def cosine(a,b):\n",
    "    cos = np.dot(a,b)/(np.sqrt(np.dot(a,a)) * np.sqrt(np.dot(b,b))  )\n",
    "    return cos"
   ]
  },
  {
   "cell_type": "code",
   "execution_count": 11,
   "id": "0fda30dd",
   "metadata": {},
   "outputs": [],
   "source": [
    "values = []\n",
    "for i in range(len(D)):\n",
    "    values.append(D.iloc[i].values)\n",
    "\n",
    "names = ['bbc','bbc_removed', 'cnn', 'alja', 'fox', 'breit']"
   ]
  },
  {
   "cell_type": "code",
   "execution_count": 12,
   "id": "e748be7d",
   "metadata": {},
   "outputs": [
    {
     "name": "stdout",
     "output_type": "stream",
     "text": [
      "Cosine value between bbc and bbc_removed is 0.982\n",
      "Cosine value between bbc and cnn is 0.498\n",
      "Cosine value between bbc and alja is 0.676\n",
      "Cosine value between bbc and fox is 0.636\n",
      "Cosine value between bbc and breit is 0.592\n",
      "Cosine value between bbc_removed and cnn is 0.513\n",
      "Cosine value between bbc_removed and alja is 0.698\n",
      "Cosine value between bbc_removed and fox is 0.651\n",
      "Cosine value between bbc_removed and breit is 0.598\n",
      "Cosine value between cnn and alja is 0.551\n",
      "Cosine value between cnn and fox is 0.545\n",
      "Cosine value between cnn and breit is 0.385\n",
      "Cosine value between alja and fox is 0.687\n",
      "Cosine value between alja and breit is 0.592\n",
      "Cosine value between fox and breit is 0.551\n"
     ]
    }
   ],
   "source": [
    "for i in range(len(values)):\n",
    "    for j in range(i+1, len(values)):\n",
    "        print(\"Cosine value between {} and {} is {}\".format(names[i], names[j], cosine(values[i], values[j]).round(3)))"
   ]
  },
  {
   "cell_type": "code",
   "execution_count": 18,
   "id": "2691765a",
   "metadata": {},
   "outputs": [
    {
     "data": {
      "text/plain": [
       "<AxesSubplot:>"
      ]
     },
     "execution_count": 18,
     "metadata": {},
     "output_type": "execute_result"
    },
    {
     "data": {
      "image/png": "[encoded data removed]",
      "text/plain": [
       "<Figure size 432x288 with 2 Axes>"
      ]
     },
     "metadata": {
      "needs_background": "light"
     },
     "output_type": "display_data"
    }
   ],
   "source": [
    "# create a dictionary that contains the value arrays\n",
    "values_dict = {}\n",
    "for i in range(len(names)):\n",
    "    values_dict[names[i]] = values[i]\n",
    "\n",
    "values_df = pd.DataFrame(values_dict)\n",
    "news_data = values_df.corr(method=cosine)\n",
    "\n",
    "# Get upper triangle of the matrix\n",
    "matrix = np.triu(news_data)\n",
    "\n",
    "# Create a heatmap to visualize cos values\n",
    "sns.heatmap(news_data, annot=True, mask=matrix, cmap = \"Reds\")"
   ]
  },
  {
   "cell_type": "markdown",
   "id": "9e772837",
   "metadata": {},
   "source": [
    "### Does each news site report on these stories in a similar way? Which news sites talk about the Khashoggi scandal in similar/dissimilar ways? If you change what words you remove, does the picture of similarity change?"
   ]
  },
  {
   "cell_type": "markdown",
   "id": "f318837b",
   "metadata": {},
   "source": [
    "Overall, I think none of these versions are highly similar. After removing the stop words and unifying the versions of quotation marks, aljazeera and Fox versions are most similiar, the cos between those versions is 0.687. The versions CNN and breitbart reported are least similar,the cos between these versions is 0.385.\n",
    "\n",
    "I thought about removing the numbers and compare again, but I did not do it in the end, my understanding is that numbers mostly come from time and date, which can represent the degree of details each article reaches.\n",
    "\n",
    "I glanced through the articles and manually removed \"Media playback is unsupported on your device Media caption\" which showed up 3 times in the BBC article. After removing this sentence, the similarity between bbc version and other versions on average increases 0.16. This seems pretty reasonable since the sentence is essentially irrelavent with the incident articles report. "
   ]
  }
 ],
 "metadata": {
  "kernelspec": {
   "display_name": "Python 3",
   "language": "python",
   "name": "python3"
  },
  "language_info": {
   "codemirror_mode": {
    "name": "ipython",
    "version": 3
   },
   "file_extension": ".py",
   "mimetype": "text/x-python",
   "name": "python",
   "nbconvert_exporter": "python",
   "pygments_lexer": "ipython3",
   "version": "3.8.8"
  }
 },
 "nbformat": 4,
 "nbformat_minor": 5
}
