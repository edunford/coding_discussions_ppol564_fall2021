{
 "cells": [
  {
   "cell_type": "markdown",
   "id": "09607018",
   "metadata": {},
   "source": [
    "# PPOL564 | Data Science 1: Foundations \n",
    "\n",
    "## Coding Discussion 4\n",
    "\n",
    "\n",
    "\n",
    "#### By      : Sonali Subbu Rathinam \n",
    "#### NetID : ss4608\n",
    "#### Date   : 06/11/2021"
   ]
  },
  {
   "cell_type": "code",
   "execution_count": 1,
   "id": "66dfb205",
   "metadata": {},
   "outputs": [],
   "source": [
    "#Importing the required modules\n",
    "import pandas as pd\n",
    "import numpy as np"
   ]
  },
  {
   "cell_type": "markdown",
   "id": "b0a4f3e4",
   "metadata": {},
   "source": [
    "#### Function definitions of all the functions used in the notebook"
   ]
  },
  {
   "cell_type": "code",
   "execution_count": 2,
   "id": "e50ba19f",
   "metadata": {},
   "outputs": [],
   "source": [
    "def tokenize(text=None, choice=0):\n",
    "    \"\"\"\n",
    "    tokenize function splits the string passed as argument after performing some modifications - changing all to lower case,\n",
    "    and removing certain punctuations. Then the string is being split as well. \n",
    "    ------------------------------------------------------------------------------------------------------------------------\n",
    "    Arguments:\n",
    "    A string that is given the local name text. It's default value is None. \n",
    "    Choice, which indicates if stop words will be used or not.Its default value is 0, which is no use of stop-words list\n",
    "    ------------------------------------------------------------------------------------------------------------------------\n",
    "    Return Value:\n",
    "    Returning the modified string\n",
    "    ------------------------------------------------------------------------------------------------------------------------   \n",
    "    \"\"\"\n",
    "    \n",
    "    #Changing the string to lower case completely\n",
    "    text = text.lower()\n",
    "    \n",
    "    #Changing certaing punctuations\n",
    "    text = text.replace('.','')\n",
    "    text = text.replace('\\\"','')  \n",
    "    text = text.replace('\\'','')  \n",
    "    text = text.replace('?','')  \n",
    "    text = text.replace('(','')\n",
    "    text = text.replace(')','')\n",
    "    text = text.replace('[','')\n",
    "    text = text.replace(']','')\n",
    "    text = text.replace('“','')\n",
    "    text = text.replace('”','')\n",
    "    text = text.replace(',', '')\n",
    "    \n",
    "    #Splitting the string\n",
    "    text_list = text.split()\n",
    "    \n",
    "    if(choice==0):\n",
    "        text_list_final = text_list\n",
    "    \n",
    "    #Not including stop words in the modified string\n",
    "    if(choice==1):\n",
    "        text_list2 = [word for word in text_list if word not in stop_words_list]\n",
    "        text_list_final = text_list2\n",
    "\n",
    "    #Returning the string\n",
    "    return text_list_final"
   ]
  },
  {
   "cell_type": "code",
   "execution_count": 3,
   "id": "43abfba0",
   "metadata": {},
   "outputs": [],
   "source": [
    "def convert_text_to_dtm(txt, choice=0):\n",
    "    \"\"\"\n",
    "    convert_text_to_dtm will convert the string passed as an argument into a document-term matrix. It counts the number of \n",
    "    times a word is present in the string passed as argument and returns the result as a dataframe.\n",
    "    ------------------------------------------------------------------------------------------------------------------------\n",
    "    Arguments:\n",
    "    A string that is given the local name txt. \n",
    "    Choice, which indicates if stop words will be used or not. Its default value is 0, which is no use of stop-words list\n",
    "    ------------------------------------------------------------------------------------------------------------------------\n",
    "    Return value:\n",
    "    Returning a dataframe, which is the document term matrix of the string\n",
    "    ------------------------------------------------------------------------------------------------------------------------\n",
    "    \"\"\"\n",
    "    \n",
    "    #Initialising empty dictionary\n",
    "    d = dict()\n",
    "    \n",
    "    #For loop to count the number of times a word is present in a string\n",
    "    for word in tokenize(txt, choice):  #Here we are calling the tokenize function so that the string is modified \n",
    "        if word in d:\n",
    "            d[word][0] += 1\n",
    "        else:\n",
    "            d[word] = [1]\n",
    "            \n",
    "    #Returning the result as a dataframe        \n",
    "    return pd.DataFrame(d)"
   ]
  },
  {
   "cell_type": "code",
   "execution_count": 4,
   "id": "d201b3cc",
   "metadata": {},
   "outputs": [],
   "source": [
    "def gen_DTM(texts=None, choice=0):\n",
    "    \"\"\"\n",
    "    gen_DTM will create a document term matrix for all the strings present in the argument.\n",
    "    ------------------------------------------------------------------------------------------------------------------------\n",
    "    Arguments: \n",
    "    A list of strings, which is given the local name texts. Its default value is None. \n",
    "    Choice, which indicates if stop words will be used or not. Its default value is 0, which is no use of stop-words list\n",
    "    ------------------------------------------------------------------------------------------------------------------------\n",
    "    Return value:\n",
    "    Returning a Dataframe, which is the document term matrix of all the strings. \n",
    "    \n",
    "    \"\"\"\n",
    "    \n",
    "    #Initializing empty Dataframe\n",
    "    DTM = pd.DataFrame()\n",
    "    \n",
    "    #For loop to create document term matrix\n",
    "    for text in texts:\n",
    "        # We are calling convert_text_to_dtm function so that we get the document term matrix of a particular string\n",
    "        entry = convert_text_to_dtm(text, choice) \n",
    "        #Appending each result to the dataframe initialized earlier\n",
    "        DTM = DTM.append(entry,ignore_index=True, sort=True) # Row bind\n",
    "    \n",
    "    DTM.fillna(0, inplace=True) # Fill in any missing values with 0s (i.e. when a word is in one text but not another)\n",
    "    \n",
    "    #Returning the dataframe\n",
    "    return DTM"
   ]
  },
  {
   "cell_type": "code",
   "execution_count": 5,
   "id": "5b2d3dc5",
   "metadata": {},
   "outputs": [],
   "source": [
    "def cosine(a,b):\n",
    "    \"\"\"\n",
    "    cosine function calculates the cos value of the angle between the vectors. It is an indication of how similar the two \n",
    "    strings are. \n",
    "    ------------------------------------------------------------------------------------------------------------------------\n",
    "    Arguments:\n",
    "    Two strings, that are locally named a and b\n",
    "    ------------------------------------------------------------------------------------------------------------------------\n",
    "    Return value:\n",
    "    Returning the result, which the cos value between the two strings as vectors\n",
    "    -----------------------------------------------------------------------------------------------------------------------\n",
    "    \"\"\"\n",
    "    \n",
    "    #Calculating the cos\n",
    "    cos = np.dot(a,b)/(np.sqrt(np.dot(a,a)) * np.sqrt(np.dot(b,b)))\n",
    "    \n",
    "    #Returning the result\n",
    "    return cos"
   ]
  },
  {
   "cell_type": "code",
   "execution_count": 6,
   "id": "0ca045c0",
   "metadata": {},
   "outputs": [],
   "source": [
    "#Reading all the news articles\n",
    "\n",
    "#Reading Al-Jazeera\n",
    "with open(\"C:/Users/sonal/coding_discussions_ppol564_fall2021/04_coding_discussion/Data/aljazeera-khashoggi.txt\") as f:\n",
    "    al_jazeera = f.read()\n",
    "    \n",
    "#Reading BBC\n",
    "with open(\"C:/Users/sonal/coding_discussions_ppol564_fall2021/04_coding_discussion/Data/bbc-khashoggi.txt\") as f:\n",
    "    bbc = f.read()\n",
    "    \n",
    "#Reading Breitbart\n",
    "with open(\"C:/Users/sonal/coding_discussions_ppol564_fall2021/04_coding_discussion/Data/breitbart-khashoggi.txt\",encoding='utf8', errors='ignore') as f:\n",
    "    breitbart = f.read()\n",
    "    \n",
    "#Reading CNN\n",
    "with open(\"C:/Users/sonal/coding_discussions_ppol564_fall2021/04_coding_discussion/Data/cnn-khashoggi.txt\",encoding='utf8', errors='ignore') as f:\n",
    "    cnn = f.read()\n",
    "    \n",
    "#Reading Fox\n",
    "with open(\"C:/Users/sonal/coding_discussions_ppol564_fall2021/04_coding_discussion/Data/fox-khashoggi.txt\",encoding='utf8', errors='ignore') as f:\n",
    "    fox = f.read()"
   ]
  },
  {
   "cell_type": "code",
   "execution_count": 7,
   "id": "0942e0d6",
   "metadata": {},
   "outputs": [],
   "source": [
    "#Calling gen_DTM function and saving the result in dtm_news\n",
    "dtm_news=gen_DTM([al_jazeera,bbc,breitbart, cnn, fox], 0)"
   ]
  },
  {
   "cell_type": "code",
   "execution_count": 8,
   "id": "a54f1dfe",
   "metadata": {},
   "outputs": [
    {
     "name": "stdout",
     "output_type": "stream",
     "text": [
      "   $50bn    -    1   11   12   15  15-member   18  1:08    2  ...  world  \\\n",
      "0    0.0  1.0  0.0  0.0  0.0  0.0        1.0  2.0   0.0  2.0  ...    0.0   \n",
      "1    1.0  2.0  0.0  0.0  1.0  0.0        0.0  2.0   0.0  1.0  ...    1.0   \n",
      "2    0.0  0.0  0.0  0.0  0.0  1.0        0.0  0.0   0.0  0.0  ...    1.0   \n",
      "3    0.0  0.0  0.0  0.0  0.0  0.0        0.0  1.0   0.0  0.0  ...    0.0   \n",
      "4    0.0  0.0  1.0  1.0  0.0  1.0        0.0  1.0   1.0  1.0  ...    0.0   \n",
      "\n",
      "   worse  would  writer  yalova  yelova  yet  your  â£385bn    —  \n",
      "0    0.0    1.0     0.0     0.0     0.0  0.0   0.0      0.0  0.0  \n",
      "1    0.0    4.0     0.0     0.0     0.0  0.0   3.0      1.0  0.0  \n",
      "2    0.0    1.0     0.0     0.0     0.0  1.0   0.0      0.0  0.0  \n",
      "3    0.0    0.0     0.0     1.0     0.0  1.0   0.0      0.0  0.0  \n",
      "4    1.0    2.0     2.0     0.0     1.0  0.0   0.0      0.0  3.0  \n",
      "\n",
      "[5 rows x 895 columns]\n"
     ]
    }
   ],
   "source": [
    "#Checking the result\n",
    "print(dtm_news)"
   ]
  },
  {
   "cell_type": "code",
   "execution_count": 9,
   "id": "1c9d7695",
   "metadata": {},
   "outputs": [],
   "source": [
    "#Obtaining the values of each news article to calculate the angle between vectors\n",
    "\n",
    "al_jazeera1 = dtm_news.iloc[0].values\n",
    "bbc1 = dtm_news.iloc[1].values\n",
    "breitbart1 = dtm_news.iloc[2].values\n",
    "cnn1 = dtm_news.iloc[3].values\n",
    "fox1 = dtm_news.iloc[4].values"
   ]
  },
  {
   "cell_type": "code",
   "execution_count": 10,
   "id": "af6154ae",
   "metadata": {},
   "outputs": [],
   "source": [
    "#Saving the values in a list\n",
    "listnews = [al_jazeera1, bbc1, breitbart1, cnn1, fox1]"
   ]
  },
  {
   "cell_type": "code",
   "execution_count": 11,
   "id": "f77c1af8",
   "metadata": {},
   "outputs": [],
   "source": [
    "#Initializing an empty list\n",
    "cos_list = []\n",
    "\n",
    "#For loop to calculate the cos value of angle between strings and appending it to the list initialised in previous step\n",
    "for i in range(0,5):\n",
    "    \n",
    "    #Initialising an empty temporary list\n",
    "    temp_list=[]\n",
    "    \n",
    "    for j in range(0,5):\n",
    "        \n",
    "        #Calculating the cos between two strings and saving the result in temp\n",
    "        temp = cosine(listnews[i], listnews[j])\n",
    "        #Appending each result in temp_list\n",
    "        temp_list.append(temp)\n",
    "    \n",
    "    #Appending the temp_list values in cos_list to obtain each row of correlation matrix\n",
    "    cos_list.append(temp_list)"
   ]
  },
  {
   "cell_type": "code",
   "execution_count": 12,
   "id": "a7b46c53",
   "metadata": {},
   "outputs": [],
   "source": [
    "#Converting cos_list into a dataframe\n",
    "cos_table = pd.DataFrame(cos_list)"
   ]
  },
  {
   "cell_type": "code",
   "execution_count": 13,
   "id": "e3d7fd98",
   "metadata": {},
   "outputs": [
    {
     "data": {
      "text/html": [
       "<div>\n",
       "<style scoped>\n",
       "    .dataframe tbody tr th:only-of-type {\n",
       "        vertical-align: middle;\n",
       "    }\n",
       "\n",
       "    .dataframe tbody tr th {\n",
       "        vertical-align: top;\n",
       "    }\n",
       "\n",
       "    .dataframe thead th {\n",
       "        text-align: right;\n",
       "    }\n",
       "</style>\n",
       "<table border=\"1\" class=\"dataframe\">\n",
       "  <thead>\n",
       "    <tr style=\"text-align: right;\">\n",
       "      <th></th>\n",
       "      <th>0</th>\n",
       "      <th>1</th>\n",
       "      <th>2</th>\n",
       "      <th>3</th>\n",
       "      <th>4</th>\n",
       "    </tr>\n",
       "  </thead>\n",
       "  <tbody>\n",
       "    <tr>\n",
       "      <th>0</th>\n",
       "      <td>1.000000</td>\n",
       "      <td>0.870127</td>\n",
       "      <td>0.836452</td>\n",
       "      <td>0.734566</td>\n",
       "      <td>0.841548</td>\n",
       "    </tr>\n",
       "    <tr>\n",
       "      <th>1</th>\n",
       "      <td>0.870127</td>\n",
       "      <td>1.000000</td>\n",
       "      <td>0.896589</td>\n",
       "      <td>0.743944</td>\n",
       "      <td>0.886466</td>\n",
       "    </tr>\n",
       "    <tr>\n",
       "      <th>2</th>\n",
       "      <td>0.836452</td>\n",
       "      <td>0.896589</td>\n",
       "      <td>1.000000</td>\n",
       "      <td>0.678944</td>\n",
       "      <td>0.867174</td>\n",
       "    </tr>\n",
       "    <tr>\n",
       "      <th>3</th>\n",
       "      <td>0.734566</td>\n",
       "      <td>0.743944</td>\n",
       "      <td>0.678944</td>\n",
       "      <td>1.000000</td>\n",
       "      <td>0.736611</td>\n",
       "    </tr>\n",
       "    <tr>\n",
       "      <th>4</th>\n",
       "      <td>0.841548</td>\n",
       "      <td>0.886466</td>\n",
       "      <td>0.867174</td>\n",
       "      <td>0.736611</td>\n",
       "      <td>1.000000</td>\n",
       "    </tr>\n",
       "  </tbody>\n",
       "</table>\n",
       "</div>"
      ],
      "text/plain": [
       "          0         1         2         3         4\n",
       "0  1.000000  0.870127  0.836452  0.734566  0.841548\n",
       "1  0.870127  1.000000  0.896589  0.743944  0.886466\n",
       "2  0.836452  0.896589  1.000000  0.678944  0.867174\n",
       "3  0.734566  0.743944  0.678944  1.000000  0.736611\n",
       "4  0.841548  0.886466  0.867174  0.736611  1.000000"
      ]
     },
     "metadata": {},
     "output_type": "display_data"
    }
   ],
   "source": [
    "#Printing the correlation matrix\n",
    "display(cos_table)"
   ]
  },
  {
   "cell_type": "code",
   "execution_count": 14,
   "id": "0f242b5d",
   "metadata": {},
   "outputs": [],
   "source": [
    "#Changing the index of the correlation matrix\n",
    "cos_table = cos_table.rename(index={0: 'Al Jazeera', 1: 'BBC', 2: 'Breitbart', 3: 'CNN', 4:'Fox'})\n",
    "\n",
    "#Changing the column names\n",
    "cos_table = cos_table.rename(columns = {0: \"Al Jazeera\", 1: \"BBC\", 2: 'Breitbart', 3: 'CNN', 4:'Fox'  })"
   ]
  },
  {
   "cell_type": "code",
   "execution_count": 15,
   "id": "f1774bda",
   "metadata": {},
   "outputs": [
    {
     "data": {
      "text/html": [
       "<div>\n",
       "<style scoped>\n",
       "    .dataframe tbody tr th:only-of-type {\n",
       "        vertical-align: middle;\n",
       "    }\n",
       "\n",
       "    .dataframe tbody tr th {\n",
       "        vertical-align: top;\n",
       "    }\n",
       "\n",
       "    .dataframe thead th {\n",
       "        text-align: right;\n",
       "    }\n",
       "</style>\n",
       "<table border=\"1\" class=\"dataframe\">\n",
       "  <thead>\n",
       "    <tr style=\"text-align: right;\">\n",
       "      <th></th>\n",
       "      <th>Al Jazeera</th>\n",
       "      <th>BBC</th>\n",
       "      <th>Breitbart</th>\n",
       "      <th>CNN</th>\n",
       "      <th>Fox</th>\n",
       "    </tr>\n",
       "  </thead>\n",
       "  <tbody>\n",
       "    <tr>\n",
       "      <th>Al Jazeera</th>\n",
       "      <td>1.000000</td>\n",
       "      <td>0.870127</td>\n",
       "      <td>0.836452</td>\n",
       "      <td>0.734566</td>\n",
       "      <td>0.841548</td>\n",
       "    </tr>\n",
       "    <tr>\n",
       "      <th>BBC</th>\n",
       "      <td>0.870127</td>\n",
       "      <td>1.000000</td>\n",
       "      <td>0.896589</td>\n",
       "      <td>0.743944</td>\n",
       "      <td>0.886466</td>\n",
       "    </tr>\n",
       "    <tr>\n",
       "      <th>Breitbart</th>\n",
       "      <td>0.836452</td>\n",
       "      <td>0.896589</td>\n",
       "      <td>1.000000</td>\n",
       "      <td>0.678944</td>\n",
       "      <td>0.867174</td>\n",
       "    </tr>\n",
       "    <tr>\n",
       "      <th>CNN</th>\n",
       "      <td>0.734566</td>\n",
       "      <td>0.743944</td>\n",
       "      <td>0.678944</td>\n",
       "      <td>1.000000</td>\n",
       "      <td>0.736611</td>\n",
       "    </tr>\n",
       "    <tr>\n",
       "      <th>Fox</th>\n",
       "      <td>0.841548</td>\n",
       "      <td>0.886466</td>\n",
       "      <td>0.867174</td>\n",
       "      <td>0.736611</td>\n",
       "      <td>1.000000</td>\n",
       "    </tr>\n",
       "  </tbody>\n",
       "</table>\n",
       "</div>"
      ],
      "text/plain": [
       "            Al Jazeera       BBC  Breitbart       CNN       Fox\n",
       "Al Jazeera    1.000000  0.870127   0.836452  0.734566  0.841548\n",
       "BBC           0.870127  1.000000   0.896589  0.743944  0.886466\n",
       "Breitbart     0.836452  0.896589   1.000000  0.678944  0.867174\n",
       "CNN           0.734566  0.743944   0.678944  1.000000  0.736611\n",
       "Fox           0.841548  0.886466   0.867174  0.736611  1.000000"
      ]
     },
     "metadata": {},
     "output_type": "display_data"
    }
   ],
   "source": [
    "#Chencking the result\n",
    "display(cos_table)"
   ]
  },
  {
   "cell_type": "markdown",
   "id": "26ef0ddf",
   "metadata": {},
   "source": [
    "From the above result, it can be observed that the highest similarity is between BBC and Breitbart, which is followed by BBC and Fox. The least similarity is between CNN and Breitbart"
   ]
  },
  {
   "cell_type": "markdown",
   "id": "09c4b62a",
   "metadata": {},
   "source": [
    "#### Performing the same tasks after removing the stop-words"
   ]
  },
  {
   "cell_type": "code",
   "execution_count": 16,
   "id": "7921c4ae",
   "metadata": {},
   "outputs": [
    {
     "name": "stdout",
     "output_type": "stream",
     "text": [
      "         word\n",
      "0           a\n",
      "1         a's\n",
      "2        able\n",
      "3       about\n",
      "4       above\n",
      "..        ...\n",
      "723      year\n",
      "724     years\n",
      "725     young\n",
      "726   younger\n",
      "727  youngest\n",
      "\n",
      "[728 rows x 1 columns]\n"
     ]
    }
   ],
   "source": [
    "#Reading the stop-words file \n",
    "stop_words=pd.read_csv(\"stop_words.csv\")\n",
    "\n",
    "print(stop_words)"
   ]
  },
  {
   "cell_type": "code",
   "execution_count": 17,
   "id": "34ee1f25",
   "metadata": {},
   "outputs": [],
   "source": [
    "#Convert stop_words dataframe into a list\n",
    "\n",
    "stop_words_list = stop_words['word'].values.tolist()"
   ]
  },
  {
   "cell_type": "code",
   "execution_count": 18,
   "id": "8cde1ccd",
   "metadata": {},
   "outputs": [],
   "source": [
    "#Calling the previous functions, but this time the choice argument value is 1. 1 Means stop words list will be used\n",
    "dtm_news_stopwords=gen_DTM([al_jazeera,bbc,breitbart, cnn, fox], 1)"
   ]
  },
  {
   "cell_type": "code",
   "execution_count": 19,
   "id": "2673f7ee",
   "metadata": {},
   "outputs": [
    {
     "name": "stdout",
     "output_type": "stream",
     "text": [
      "   $50bn    -    1   11   12   15  15-member   18  1:08    2  ...  widely  \\\n",
      "0    0.0  1.0  0.0  0.0  0.0  0.0        1.0  2.0   0.0  2.0  ...     0.0   \n",
      "1    1.0  2.0  0.0  0.0  1.0  0.0        0.0  2.0   0.0  1.0  ...     1.0   \n",
      "2    0.0  0.0  0.0  0.0  0.0  1.0        0.0  0.0   0.0  0.0  ...     0.0   \n",
      "3    0.0  0.0  0.0  0.0  0.0  0.0        0.0  1.0   0.0  0.0  ...     0.0   \n",
      "4    0.0  0.0  1.0  1.0  0.0  1.0        0.0  1.0   1.0  1.0  ...     0.0   \n",
      "\n",
      "   withheld  woods  world  worse  writer  yalova  yelova  â£385bn    —  \n",
      "0       0.0    0.0    0.0    0.0     0.0     0.0     0.0      0.0  0.0  \n",
      "1       0.0    0.0    1.0    0.0     0.0     0.0     0.0      1.0  0.0  \n",
      "2       1.0    0.0    1.0    0.0     0.0     0.0     0.0      0.0  0.0  \n",
      "3       0.0    0.0    0.0    0.0     0.0     1.0     0.0      0.0  0.0  \n",
      "4       0.0    1.0    0.0    1.0     2.0     0.0     1.0      0.0  3.0  \n",
      "\n",
      "[5 rows x 670 columns]\n"
     ]
    }
   ],
   "source": [
    "#Checking the result\n",
    "print(dtm_news_stopwords)"
   ]
  },
  {
   "cell_type": "code",
   "execution_count": 20,
   "id": "c31c5617",
   "metadata": {},
   "outputs": [],
   "source": [
    "#Obtaining the values of each news article to calculate the angle between vectors\n",
    "\n",
    "al_jazeera2 = dtm_news_stopwords.iloc[0].values\n",
    "bbc2 = dtm_news_stopwords.iloc[1].values\n",
    "breitbart2 = dtm_news_stopwords.iloc[2].values\n",
    "cnn2 = dtm_news_stopwords.iloc[3].values\n",
    "fox2 = dtm_news_stopwords.iloc[4].values"
   ]
  },
  {
   "cell_type": "code",
   "execution_count": 21,
   "id": "83d6e3ae",
   "metadata": {},
   "outputs": [],
   "source": [
    "#Saving the values in a list\n",
    "listnews2 = [al_jazeera2, bbc2, breitbart2, cnn2, fox2]"
   ]
  },
  {
   "cell_type": "code",
   "execution_count": 22,
   "id": "fca05ee7",
   "metadata": {},
   "outputs": [],
   "source": [
    "#Initializing an empty list\n",
    "cos_list2 = []\n",
    "\n",
    "#For loop to calculate the cos value of angle between strings and appending it to the list initialised in previous step\n",
    "for i in range(0,5):\n",
    "    \n",
    "    #Initialising an empty temporary list\n",
    "    temp_list2=[]\n",
    "    \n",
    "    for j in range(0,5):\n",
    "        \n",
    "        #Calculating the cos between two strings and saving the result in temp\n",
    "        temp2 = cosine(listnews2[i], listnews2[j])\n",
    "        #Appending each result in temp_list\n",
    "        temp_list2.append(temp2)\n",
    "    \n",
    "    #Appending the temp_list values in cos_list to obtain each row of correlation matrix\n",
    "    cos_list2.append(temp_list2)"
   ]
  },
  {
   "cell_type": "code",
   "execution_count": 23,
   "id": "4b71104d",
   "metadata": {},
   "outputs": [],
   "source": [
    "#Converting cos_list2 into a dataframe\n",
    "cos_table2 = pd.DataFrame(cos_list2)"
   ]
  },
  {
   "cell_type": "code",
   "execution_count": 24,
   "id": "5da2930a",
   "metadata": {},
   "outputs": [
    {
     "data": {
      "text/html": [
       "<div>\n",
       "<style scoped>\n",
       "    .dataframe tbody tr th:only-of-type {\n",
       "        vertical-align: middle;\n",
       "    }\n",
       "\n",
       "    .dataframe tbody tr th {\n",
       "        vertical-align: top;\n",
       "    }\n",
       "\n",
       "    .dataframe thead th {\n",
       "        text-align: right;\n",
       "    }\n",
       "</style>\n",
       "<table border=\"1\" class=\"dataframe\">\n",
       "  <thead>\n",
       "    <tr style=\"text-align: right;\">\n",
       "      <th></th>\n",
       "      <th>0</th>\n",
       "      <th>1</th>\n",
       "      <th>2</th>\n",
       "      <th>3</th>\n",
       "      <th>4</th>\n",
       "    </tr>\n",
       "  </thead>\n",
       "  <tbody>\n",
       "    <tr>\n",
       "      <th>0</th>\n",
       "      <td>1.000000</td>\n",
       "      <td>0.677223</td>\n",
       "      <td>0.583719</td>\n",
       "      <td>0.532865</td>\n",
       "      <td>0.679414</td>\n",
       "    </tr>\n",
       "    <tr>\n",
       "      <th>1</th>\n",
       "      <td>0.677223</td>\n",
       "      <td>1.000000</td>\n",
       "      <td>0.578985</td>\n",
       "      <td>0.503408</td>\n",
       "      <td>0.626283</td>\n",
       "    </tr>\n",
       "    <tr>\n",
       "      <th>2</th>\n",
       "      <td>0.583719</td>\n",
       "      <td>0.578985</td>\n",
       "      <td>1.000000</td>\n",
       "      <td>0.367165</td>\n",
       "      <td>0.547029</td>\n",
       "    </tr>\n",
       "    <tr>\n",
       "      <th>3</th>\n",
       "      <td>0.532865</td>\n",
       "      <td>0.503408</td>\n",
       "      <td>0.367165</td>\n",
       "      <td>1.000000</td>\n",
       "      <td>0.517322</td>\n",
       "    </tr>\n",
       "    <tr>\n",
       "      <th>4</th>\n",
       "      <td>0.679414</td>\n",
       "      <td>0.626283</td>\n",
       "      <td>0.547029</td>\n",
       "      <td>0.517322</td>\n",
       "      <td>1.000000</td>\n",
       "    </tr>\n",
       "  </tbody>\n",
       "</table>\n",
       "</div>"
      ],
      "text/plain": [
       "          0         1         2         3         4\n",
       "0  1.000000  0.677223  0.583719  0.532865  0.679414\n",
       "1  0.677223  1.000000  0.578985  0.503408  0.626283\n",
       "2  0.583719  0.578985  1.000000  0.367165  0.547029\n",
       "3  0.532865  0.503408  0.367165  1.000000  0.517322\n",
       "4  0.679414  0.626283  0.547029  0.517322  1.000000"
      ]
     },
     "metadata": {},
     "output_type": "display_data"
    }
   ],
   "source": [
    "#Printing the correlation matrix\n",
    "display(cos_table2)"
   ]
  },
  {
   "cell_type": "code",
   "execution_count": 25,
   "id": "42510715",
   "metadata": {},
   "outputs": [],
   "source": [
    "#Changing the index of the correlation matrix\n",
    "cos_table2 = cos_table2.rename(index={0: 'Al Jazeera', 1: 'BBC', 2: 'Breitbart', 3: 'CNN', 4:'Fox'})\n",
    "\n",
    "#Changing the column names\n",
    "cos_table2 = cos_table2.rename(columns = {0: \"Al Jazeera\", 1: \"BBC\", 2: 'Breitbart', 3: 'CNN', 4:'Fox'  })"
   ]
  },
  {
   "cell_type": "code",
   "execution_count": 26,
   "id": "a2f37295",
   "metadata": {},
   "outputs": [
    {
     "data": {
      "text/html": [
       "<div>\n",
       "<style scoped>\n",
       "    .dataframe tbody tr th:only-of-type {\n",
       "        vertical-align: middle;\n",
       "    }\n",
       "\n",
       "    .dataframe tbody tr th {\n",
       "        vertical-align: top;\n",
       "    }\n",
       "\n",
       "    .dataframe thead th {\n",
       "        text-align: right;\n",
       "    }\n",
       "</style>\n",
       "<table border=\"1\" class=\"dataframe\">\n",
       "  <thead>\n",
       "    <tr style=\"text-align: right;\">\n",
       "      <th></th>\n",
       "      <th>Al Jazeera</th>\n",
       "      <th>BBC</th>\n",
       "      <th>Breitbart</th>\n",
       "      <th>CNN</th>\n",
       "      <th>Fox</th>\n",
       "    </tr>\n",
       "  </thead>\n",
       "  <tbody>\n",
       "    <tr>\n",
       "      <th>Al Jazeera</th>\n",
       "      <td>1.000000</td>\n",
       "      <td>0.677223</td>\n",
       "      <td>0.583719</td>\n",
       "      <td>0.532865</td>\n",
       "      <td>0.679414</td>\n",
       "    </tr>\n",
       "    <tr>\n",
       "      <th>BBC</th>\n",
       "      <td>0.677223</td>\n",
       "      <td>1.000000</td>\n",
       "      <td>0.578985</td>\n",
       "      <td>0.503408</td>\n",
       "      <td>0.626283</td>\n",
       "    </tr>\n",
       "    <tr>\n",
       "      <th>Breitbart</th>\n",
       "      <td>0.583719</td>\n",
       "      <td>0.578985</td>\n",
       "      <td>1.000000</td>\n",
       "      <td>0.367165</td>\n",
       "      <td>0.547029</td>\n",
       "    </tr>\n",
       "    <tr>\n",
       "      <th>CNN</th>\n",
       "      <td>0.532865</td>\n",
       "      <td>0.503408</td>\n",
       "      <td>0.367165</td>\n",
       "      <td>1.000000</td>\n",
       "      <td>0.517322</td>\n",
       "    </tr>\n",
       "    <tr>\n",
       "      <th>Fox</th>\n",
       "      <td>0.679414</td>\n",
       "      <td>0.626283</td>\n",
       "      <td>0.547029</td>\n",
       "      <td>0.517322</td>\n",
       "      <td>1.000000</td>\n",
       "    </tr>\n",
       "  </tbody>\n",
       "</table>\n",
       "</div>"
      ],
      "text/plain": [
       "            Al Jazeera       BBC  Breitbart       CNN       Fox\n",
       "Al Jazeera    1.000000  0.677223   0.583719  0.532865  0.679414\n",
       "BBC           0.677223  1.000000   0.578985  0.503408  0.626283\n",
       "Breitbart     0.583719  0.578985   1.000000  0.367165  0.547029\n",
       "CNN           0.532865  0.503408   0.367165  1.000000  0.517322\n",
       "Fox           0.679414  0.626283   0.547029  0.517322  1.000000"
      ]
     },
     "metadata": {},
     "output_type": "display_data"
    }
   ],
   "source": [
    "#Checking the result\n",
    "display(cos_table2)"
   ]
  },
  {
   "cell_type": "markdown",
   "id": "c1bceeb8",
   "metadata": {},
   "source": [
    "From the above result, we can see that after using stop words, all the cosine values have dropped. Now, the highest similarity is between Al Jazeera and Fox, which is closely followed by Al Jazeera and BBC. The least similarity is between Breitbart and CNN."
   ]
  }
 ],
 "metadata": {
  "kernelspec": {
   "display_name": "Python 3",
   "language": "python",
   "name": "python3"
  },
  "language_info": {
   "codemirror_mode": {
    "name": "ipython",
    "version": 3
   },
   "file_extension": ".py",
   "mimetype": "text/x-python",
   "name": "python",
   "nbconvert_exporter": "python",
   "pygments_lexer": "ipython3",
   "version": "3.8.8"
  }
 },
 "nbformat": 4,
 "nbformat_minor": 5
}
