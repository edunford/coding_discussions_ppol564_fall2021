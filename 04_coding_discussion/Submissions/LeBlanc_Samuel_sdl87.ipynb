{
 "cells": [
  {
   "cell_type": "code",
   "execution_count": 1,
   "metadata": {},
   "outputs": [],
   "source": [
    "# import modules needed for this assignment\n",
    "import csv\n",
    "import pandas as pd\n",
    "import numpy as np\n",
    "import matplotlib.pyplot as plt"
   ]
  },
  {
   "cell_type": "code",
   "execution_count": 2,
   "metadata": {},
   "outputs": [],
   "source": [
    "def get_article_contents(news_stations=[]):\n",
    "    \"\"\"\n",
    "    This method gets the contents of multiple news articles regarding the murder of Jamal Khashoggi. The article\n",
    "    names were nicely made before hand, making them easy to grab now. Specifically, each article is titled\n",
    "    '{news-station}-khashoggi.txt', meaning we can easily access the with just a list of news orgaizations.\n",
    "    ----------------------------\n",
    "    Arguments:\n",
    "        news_stations (list): a list of news orgs with articles about Khashoggi (Aljazeera,BBC,Breitbart,CNN,Fox)\n",
    "    Returns:\n",
    "        contents (list): a list of each article's contents (one for each news org), the content is unedited\n",
    "    \"\"\"\n",
    "    contents = [] # empty list to store content of different news stories\n",
    "    for station in news_stations: # loop through each news org\n",
    "        with open(f'Data/{station.lower()}-khashoggi.txt') as f: # get file name using news org name\n",
    "            contents.append(f.read()) # add the text contents to the list\n",
    "    return contents"
   ]
  },
  {
   "cell_type": "code",
   "execution_count": 3,
   "metadata": {},
   "outputs": [],
   "source": [
    "def get_clean_stop_words():\n",
    "    \"\"\"\n",
    "    This method reads in a list of stop words from stop_words.csv and preapres them for use later on. \n",
    "    Some of the stop words have apostrophes and such that our world list doesn't have, so we remove \n",
    "    those non-letters here.\n",
    "    ----------------------------\n",
    "    Arguments:\n",
    "        None\n",
    "    Returns:\n",
    "        stop_words (list): a list of stop words with all non-letters removed\n",
    "    \"\"\"\n",
    "    with open('Data/stop_words.csv', newline='') as f: # read stop words from csv\n",
    "        reader = csv.reader(f)\n",
    "        stops = list(reader) # convert stop words to list\n",
    "    stop_words = reformat_tokenized_list(stops) # reformat stopwords to elimate non-letters and convert to lower case\n",
    "    return stop_words"
   ]
  },
  {
   "cell_type": "code",
   "execution_count": 4,
   "metadata": {},
   "outputs": [],
   "source": [
    "def reformat_tokenized_list(content_list=[]):\n",
    "    \"\"\"\n",
    "    This combo method converts a list of words into a more user-friendly format. It calls the method \n",
    "    'remove_non_letters' to (you guessed it!) remove all the characters that are not letters. Then, \n",
    "    it converts the word to lower case and returns the final list of fixed words. This method gets\n",
    "    called in two contexts, first for stop words and then for the contents of each article.\n",
    "    ----------------------------\n",
    "    Arguments:\n",
    "        content_list (list): a list of unedited words from the content (article or stop words)\n",
    "    Returns:\n",
    "        word_list (list): the same list of words but now in lower case with all non-letters removed\n",
    "    \"\"\"\n",
    "    word_list = [] # empty list to store words\n",
    "    for word in content_list: # loop through list of words\n",
    "        word = remove_non_letters(word) # remove characters that are not letters\n",
    "        if word: # if there are any characters left (i.e. the word was not a number)\n",
    "            word_list.append(word.lower()) # add to word list\n",
    "    return word_list"
   ]
  },
  {
   "cell_type": "code",
   "execution_count": 5,
   "metadata": {},
   "outputs": [],
   "source": [
    "def remove_non_letters(old_word=\"\"):\n",
    "    \"\"\"\n",
    "    This method takes a word (string) and removes all of the characters that are not letters.\n",
    "    ----------------------------\n",
    "    Arguments: \n",
    "        old_word (string): the word to remove non-letters from\n",
    "    Returns: \n",
    "        new_word (string): the word with all of the non-letters removed\n",
    "    \"\"\"\n",
    "    new_word = \"\" # create empty new word\n",
    "    for letter in old_word: # loop through each character in the word \n",
    "        if letter.isalpha(): # isalpha returns true if the character is in the alphabet\n",
    "            new_word = new_word + letter # if it's a letter, append back onto new_word\n",
    "    return new_word"
   ]
  },
  {
   "cell_type": "code",
   "execution_count": 6,
   "metadata": {},
   "outputs": [],
   "source": [
    "def remove_stop_words(word_list=[], stop_words=[]):\n",
    "    \"\"\"\n",
    "    This method takes a list of words and remove all of the stop words that appear in the stop_words list.\n",
    "    ----------------------------\n",
    "    Arguments: \n",
    "        word_list (list): a list of many words including stop worlds like (I, to, and, the, he, etc.)\n",
    "        stop_words (list): a list of words to remove that are common in regular use (see above list)\n",
    "    Returns: \n",
    "        go_words (list): a list of word with all of the stop words removed (hence these are the 'go words')\n",
    "    \"\"\"\n",
    "    go_words = [] # create empty list of 'go words' to return if they are not stop words\n",
    "    for word in word_list: # loop through all words in list\n",
    "        if word not in stop_words: # check if word is in the stop words\n",
    "            go_words.append(word) # if not, add it to go words\n",
    "    return go_words"
   ]
  },
  {
   "cell_type": "code",
   "execution_count": 7,
   "metadata": {},
   "outputs": [],
   "source": [
    "def count_word_occurences(word_list=[]):\n",
    "    \"\"\"\n",
    "    This methods takes a list of words and counts how many times each word appears in the list.\n",
    "    ----------------------------\n",
    "    Arguments:\n",
    "        word_list (list): a list of words to count the occurences of\n",
    "    Returns:\n",
    "        word_dict (dict): a dictionary where with keys as words, and values as a single list element that \n",
    "            contains the total number of times that word appears in the given word_list. Words not in the\n",
    "            word_list will not appear in the returned word_dict\n",
    "    \"\"\"\n",
    "    word_dict = dict() # create empty dictionary to hold word occurences\n",
    "    for word in word_list: # loop through words in word list\n",
    "        if word in word_dict: # check if word is already in dictionary\n",
    "            word_dict[word][0] += 1 # if it is, add one to the associated list\n",
    "        else:\n",
    "            word_dict[word] = [1] # if not, create a new key with a value of [1]\n",
    "    return word_dict"
   ]
  },
  {
   "cell_type": "code",
   "execution_count": 8,
   "metadata": {},
   "outputs": [],
   "source": [
    "def analyze_single_article(contents=\"\", stop_words=[]):\n",
    "    \"\"\"\n",
    "    This combo method combines all of the needed methods for analyzing a single news article. It splits\n",
    "    the content into a word list, then removes stop words, creates a dictionary of word occurences, and\n",
    "    finally converts it into a document_term_matrix.\n",
    "    ----------------------------\n",
    "    Arguments:\n",
    "        contents (string): the text content of a news article, as one string with no breaks\n",
    "        stop_words (list): a list of stop words for removal, list has already been curated via 'get_clean_stop_words'\n",
    "    Returns:\n",
    "        dtm (dataframe): a document term matrix for the given article, with all stop words removed\n",
    "    \"\"\"\n",
    "    word_list = reformat_tokenized_list(contents.split()) # reformat words to elimate non letters and convert case\n",
    "    word_list = remove_stop_words(word_list, stop_words) # remove stop words from list\n",
    "    word_dict = count_word_occurences(word_list) # create dictionary counting number of occurences per word\n",
    "    dtm = pd.DataFrame(word_dict) # convert dictionary into document term matrix\n",
    "    return dtm"
   ]
  },
  {
   "cell_type": "code",
   "execution_count": 9,
   "metadata": {},
   "outputs": [],
   "source": [
    "def cosine_between_vectors(a=np.array([]),b=np.array([])):\n",
    "    \"\"\"\n",
    "    This method calculates the cosine (angle) between two vectors, as demonstrated in class. Using the formula \n",
    "    from the law of cosines, this method calculates the 'how similar' two vectors are.\n",
    "    ----------------------------\n",
    "    Arguments:\n",
    "        a,b (np.array): two numpy arrays to calculate the angle between (must be same length, duh)\n",
    "    Returns:\n",
    "        cosine: the angle between the two vectors, 1 = point in same direction, 0 = orthogonal\n",
    "    \"\"\"\n",
    "    cosine = np.dot(a,b)/(np.sqrt(np.dot(a,a)) * np.sqrt(np.dot(b,b))) # cosine formula using dot products\n",
    "    return cosine"
   ]
  },
  {
   "cell_type": "code",
   "execution_count": 10,
   "metadata": {},
   "outputs": [],
   "source": [
    "def get_combined_document_term_matrix(contents=[], stop_words=[]):\n",
    "    \"\"\"\n",
    "    This combo method analyzes each news article via 'analyze_single_article', then combines the resulting\n",
    "    document term matrices into one matrix, for easy plotting. \n",
    "    ----------------------------\n",
    "    Arguments:\n",
    "        contents (list): a list of strings, each containing the entire text of one of the news articles\n",
    "        stop_words (list): a list of stop words for removal, list has already been curated via 'get_clean_stop_words'\n",
    "    Returns:\n",
    "        combined_dtm (dataframe): one df containg the DTMs for each article as seperate rows\n",
    "    \"\"\"\n",
    "    combined_dtm = pd.DataFrame() # create empty dataframe to hold all document term matricies\n",
    "    for article in contents: # loop through each article\n",
    "        dtm = analyze_single_article(article, stop_words) # analyze an entire article, returns document term matrix\n",
    "        combined_dtm = combined_dtm.append(dtm,ignore_index=True,sort=True) # combine new dtm with others \n",
    "    combined_dtm.fillna(0, inplace=True) # replace NA with zeros (if a term is in one dtm but not another)\n",
    "    return combined_dtm"
   ]
  },
  {
   "cell_type": "code",
   "execution_count": 11,
   "metadata": {},
   "outputs": [],
   "source": [
    "def create_heat_map_array(combined_dtm=pd.DataFrame()):\n",
    "    \"\"\"\n",
    "    This method converts the combined document term matrix into a 5x5 numpy array, where each cell is the\n",
    "    cosine between the two news articles being compared. This matrix shows the similarity of each news\n",
    "    article when considered as a vector.\n",
    "    ----------------------------\n",
    "    Arguments:\n",
    "        combined_dtm (dataframe): combined_dtm from the previous method, each row describes one article\n",
    "    Returns:\n",
    "        arr: (np array): numpy array showing the similarity between the articles on the x and y axis (by index)\n",
    "    \"\"\"\n",
    "    arr = np.zeros((5,5)) # initialize array to hold cosine values (angle between vectors)\n",
    "    for i in range(0,5): # loop through all possible combos of news stories (5 choose 2)\n",
    "        for ii in range(0,5):\n",
    "            # calculate the angle using cosine dot product formula and round to 2 decimal places\n",
    "            arr[i][ii] = cosine_between_vectors(combined_dtm.iloc[i].values, combined_dtm.iloc[ii].values).round(2)\n",
    "    return arr"
   ]
  },
  {
   "cell_type": "code",
   "execution_count": 12,
   "metadata": {},
   "outputs": [],
   "source": [
    "def create_heat_map_figure(arr=np.array([]), news_stations=[]):\n",
    "    \"\"\"\n",
    "    This method produces the heatmap visual for the combined document term matrix created previously.\n",
    "    ----------------------------\n",
    "    Arguments:\n",
    "        arr (np array): the numpy array created in 'create_heat_map_array' showing similarties between news articles\n",
    "        news_stations (list): list of news stations used for labeling the axis\n",
    "    \"\"\"\n",
    "    # create figure and heatmap base parts\n",
    "    fig, ax = plt.subplots()\n",
    "    im = ax.imshow(arr)\n",
    "\n",
    "    # set figure size\n",
    "    fig.set_size_inches(5,5) \n",
    "\n",
    "    # show ticks for each pair of news stories\n",
    "    ax.set_xticks(np.arange(5))\n",
    "    ax.set_yticks(np.arange(5))\n",
    "    \n",
    "    # set tick labels to be the news organizations\n",
    "    ax.set_xticklabels(news_stations, fontsize=15)\n",
    "    ax.set_yticklabels(news_stations, fontsize=15)\n",
    "\n",
    "    # rotate the tick labels and set their alignment\n",
    "    plt.setp(ax.get_xticklabels(), rotation=45, ha=\"right\", rotation_mode=\"anchor\")\n",
    "\n",
    "    # loop over each element in array, creating data label for each heat map sqaure\n",
    "    for i in range(5):\n",
    "        for j in range(5):\n",
    "            text = ax.text(j, i, arr[i, j], ha=\"center\", va=\"center\", color=\"w\")\n",
    "\n",
    "    # set title of heat map\n",
    "    ax.set_title(\"Khashoggi News Story\\n Similarities by Network\\n\", fontsize=18, fontweight='bold')\n",
    "    \n",
    "    # format heat map layout\n",
    "    fig.tight_layout()\n",
    "    \n",
    "    # show heatmap\n",
    "    plt.show()"
   ]
  },
  {
   "cell_type": "code",
   "execution_count": 13,
   "metadata": {},
   "outputs": [
    {
     "data": {
      "image/png": "[encoded data removed]",
      "text/plain": [
       "<Figure size 360x360 with 1 Axes>"
      ]
     },
     "metadata": {
      "needs_background": "light"
     },
     "output_type": "display_data"
    }
   ],
   "source": [
    "# list of news stations to analyze\n",
    "news_stations = ['Aljazeera','BBC','Breitbart','CNN','Fox']\n",
    "\n",
    "# get article contents from saved news stories in folder\n",
    "contents = get_article_contents(news_stations)\n",
    "\n",
    "# clean and reformat the list of stop words to eliminate\n",
    "stop_words = get_clean_stop_words()\n",
    "\n",
    "# create combined document term matrix used to make heat map\n",
    "df = get_combined_document_term_matrix(contents, stop_words)\n",
    "\n",
    "# create the heat map array showing similarities between each pair of news stories\n",
    "arr = create_heat_map_array(df)\n",
    "\n",
    "# display heat map\n",
    "create_heat_map_figure(arr, news_stations)"
   ]
  },
  {
   "cell_type": "markdown",
   "metadata": {},
   "source": [
    "### Note: I show only the analysis where the stop words are eliminated, but including them would be trivial. I only included the one figure because analyzing with the stop words is more than a little bit futile"
   ]
  },
  {
   "cell_type": "markdown",
   "metadata": {},
   "source": [
    "# Discussion\n",
    "\n",
    "When considering the similarities between the Khashoggi stories printed by different news networks, several things pop out at me. The first is that the diagonal is all 1's, this is a good sanity check because, of course, each news story is identical to itself. The second thing I notice is the lowest score, 0.38, between Breitbart and CNN. This sticks out because it is significantly lower than other combos of news networks. This makes sense based on my outside knowledge since CNN and Breitbart operate on very different ends of the political spectrum. However, this knowledge does not help to explain the relationship between other pairs of news networks. For example, Fox and Breitbart have one of the lower similarities despite having relatively similar viewer bases. Overall, analyzing more articles would certainly help to clarify these scores, since one article is a very small sample size. If we had chosen to include stop words in this analysis, we would find that all the scores go up significantly since (I imagine) there is no significant difference between which networks use the most \"the\" and \"a\" in their stories. When I performed this analysis with stop words, I found exactly this, the discrepancies between networks still existed but the gap was much smaller."
   ]
  }
 ],
 "metadata": {
  "kernelspec": {
   "display_name": "Python 3 (ipykernel)",
   "language": "python",
   "name": "python3"
  },
  "language_info": {
   "codemirror_mode": {
    "name": "ipython",
    "version": 3
   },
   "file_extension": ".py",
   "mimetype": "text/x-python",
   "name": "python",
   "nbconvert_exporter": "python",
   "pygments_lexer": "ipython3",
   "version": "3.8.10"
  }
 },
 "nbformat": 4,
 "nbformat_minor": 4
}
