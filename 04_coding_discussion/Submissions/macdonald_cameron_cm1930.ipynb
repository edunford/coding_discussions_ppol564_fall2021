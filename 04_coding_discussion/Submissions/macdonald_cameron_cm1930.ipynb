{
 "cells": [
  {
   "cell_type": "markdown",
   "id": "a30cce9e",
   "metadata": {},
   "source": [
    "# Coding Discussion 4\n",
    "### Cameron MacDonald\n",
    "#### PPOL564"
   ]
  },
  {
   "cell_type": "code",
   "execution_count": 1,
   "id": "b6e83f32",
   "metadata": {},
   "outputs": [],
   "source": [
    "# load the necessary packages\n",
    "import numpy as np\n",
    "import pandas as pd\n",
    "import requests\n",
    "import csv\n",
    "import copy\n",
    "import seaborn"
   ]
  },
  {
   "cell_type": "markdown",
   "id": "dc84055d",
   "metadata": {},
   "source": [
    "## Main Functions"
   ]
  },
  {
   "cell_type": "code",
   "execution_count": 2,
   "id": "9b4567c1",
   "metadata": {},
   "outputs": [],
   "source": [
    "# get a list of strings from the provided data file\n",
    "def get_string_from_file(list_of_data_files):\n",
    "    \"\"\"\n",
    "    This function reads in a list of text files as strings and stores each article in a list\n",
    "    \n",
    "    parameters:\n",
    "        list_of_data_files:\n",
    "            a list of file paths as strings\n",
    "    returns:\n",
    "        list of articles:\n",
    "            a list of strings from the text data files\n",
    "    \"\"\"\n",
    "    # initialize a length 5 None list for storing values\n",
    "    list_of_articles = [None] * 5\n",
    "    \n",
    "    # iterate through each of the data files\n",
    "    for index, data in enumerate(list_of_data_files):\n",
    "        \n",
    "        # open the file with utf8 encoding to avoid funky characters\n",
    "        with open(data, 'r', encoding = 'utf8') as file:\n",
    "            \n",
    "            # read in the actual file as a string\n",
    "            article = file.read()\n",
    "            \n",
    "            # fix typos in CNN article\n",
    "            article = article.replace('.', ' ')\n",
    "            \n",
    "            # remove all characters that are not spaces or alphabetical\n",
    "            article = ''.join(ch for ch in article if (ch.isalpha() or ch.isspace() == True))\n",
    "            \n",
    "            # store each string in its file's index position on the new list\n",
    "            list_of_articles[index] = article\n",
    "            \n",
    "    # return the list\n",
    "    return list_of_articles"
   ]
  },
  {
   "cell_type": "code",
   "execution_count": 3,
   "id": "aa74a987",
   "metadata": {},
   "outputs": [],
   "source": [
    "# get the stop words\n",
    "\n",
    "# open the file\n",
    "file = open(\"Data/stop_words.csv\", 'r')\n",
    "\n",
    "# get the file into a list\n",
    "stopwords = list(csv.reader(file))\n",
    "\n",
    "# use list comprehension so it is not a list within a list\n",
    "stopwords = [word[0] for word in stopwords]\n",
    "\n",
    "# remove characters that are not alphebetical, to work with function below\n",
    "stopwords = [''.join(ch for ch in word if ch.isalpha()== True) for word in stopwords]\n",
    "\n",
    "# close the file\n",
    "file.close()"
   ]
  },
  {
   "cell_type": "code",
   "execution_count": 4,
   "id": "5defa7fd",
   "metadata": {},
   "outputs": [],
   "source": [
    "# take the acquired list of strings and 'tokenize' each one\n",
    "def tokenize(list_of_strings, stopwords):\n",
    "    \"\"\"\n",
    "    This function takes in a list of strings, clears the punctuation, and splits by ' '\n",
    "    \n",
    "    parameters:\n",
    "        list_of_strings:\n",
    "            a list of article strings\n",
    "        stopwords\n",
    "            a list of word strings to delete\n",
    "    output:\n",
    "        strings_for_analysis:\n",
    "            a list of 'tokenized' strings\n",
    "    \"\"\"\n",
    "    # initialize a length 5 None list for storing values\n",
    "    strings_for_analysis = [None] * 5\n",
    "    \n",
    "    #iterate through each string\n",
    "    for index, string in enumerate(list_of_strings):\n",
    "        \n",
    "        string = string.lower() # lower case all characters in the string\n",
    "        string = string.replace('/n', '') # remove line break\n",
    "        string = string.split() # split each string with space delimiter\n",
    "        string = [word for word in string if word not in stopwords]\n",
    "        strings_for_analysis[index] = string # store each string by its index\n",
    "    \n",
    "    # return the list\n",
    "    return strings_for_analysis"
   ]
  },
  {
   "cell_type": "code",
   "execution_count": 5,
   "id": "744d7403",
   "metadata": {},
   "outputs": [],
   "source": [
    "# this function will turn the strings for analysis into a pandas data frame\n",
    "# the data frame will have a 'count' for each word and 0 for words not present in the string\n",
    "\n",
    "def data_frame_maker(list_of_strings):\n",
    "    \"\"\"\n",
    "    The function makes the list of strings into rows of a data frame and stores them in a data frame where the value is the count of each word per string.\n",
    "    \n",
    "    parameters:\n",
    "        list_of_strings\n",
    "            a list of strings that are words\n",
    "    returns:\n",
    "        a dataframe\n",
    "    \"\"\"\n",
    "    # create the data frame for appending\n",
    "    data_for_matrix_evaluation = pd.DataFrame()\n",
    "    \n",
    "    # iterate through each article in the list_of_strings\n",
    "    for article in list_of_strings:\n",
    "        \n",
    "        # initialize an empty dictionary within the string\n",
    "        dict_loop = dict()\n",
    "        \n",
    "        # iterate through each word in each article's list of strings\n",
    "        for word in article:\n",
    "            \n",
    "            # if the word is already in the dictionary add one to the entry to keep a count\n",
    "            if word in dict_loop:\n",
    "                dict_loop[word][0] += 1\n",
    "            \n",
    "            # if the word is not in the dictionary add the word as a key and set its entry to 1\n",
    "            else:\n",
    "                dict_loop[word] = [1]\n",
    "        \n",
    "        # append the article's dictionary into the data frame\n",
    "        data_for_matrix_evaluation = data_for_matrix_evaluation.append(pd.DataFrame(dict_loop), ignore_index = True, sort = True)\n",
    "    \n",
    "    # fill the empty values with 0\n",
    "    data_for_matrix_evaluation.fillna(0, inplace = True)\n",
    "    \n",
    "    # return the matrix\n",
    "    return data_for_matrix_evaluation"
   ]
  },
  {
   "cell_type": "markdown",
   "id": "22fc50bc",
   "metadata": {},
   "source": [
    "## Analysis"
   ]
  },
  {
   "cell_type": "code",
   "execution_count": 6,
   "id": "fcecbe71",
   "metadata": {},
   "outputs": [],
   "source": [
    "# get the list of files\n",
    "list_of_files = ['Data/aljazeera-khashoggi.txt', 'data/bbc-khashoggi.txt', 'Data/cnn-khashoggi.txt', \"Data/fox-khashoggi.txt\", 'Data/breitbart-khashoggi.txt']"
   ]
  },
  {
   "cell_type": "markdown",
   "id": "aff907dc",
   "metadata": {},
   "source": [
    "#### Canned Stopwords"
   ]
  },
  {
   "cell_type": "code",
   "execution_count": 7,
   "id": "c15e664d",
   "metadata": {
    "scrolled": true
   },
   "outputs": [],
   "source": [
    "# get each files content as a string\n",
    "list_of_articles = get_string_from_file(list_of_files)"
   ]
  },
  {
   "cell_type": "code",
   "execution_count": 8,
   "id": "a27f3d0e",
   "metadata": {},
   "outputs": [],
   "source": [
    "# tokenize the contents of each article string with the initial list of stopwords\n",
    "strings_for_analysis = tokenize(list_of_articles, stopwords)"
   ]
  },
  {
   "cell_type": "code",
   "execution_count": 9,
   "id": "9314f54e",
   "metadata": {},
   "outputs": [],
   "source": [
    "# make the data frame\n",
    "data_frame = data_frame_maker(strings_for_analysis)"
   ]
  },
  {
   "cell_type": "code",
   "execution_count": 10,
   "id": "473290e5",
   "metadata": {},
   "outputs": [],
   "source": [
    "# get the cosine between the two vectors\n",
    "def cosine(a,b):\n",
    "    cos = np.dot(a,b)/(np.sqrt(np.dot(a,a)) * np.sqrt(np.dot(b,b))  )\n",
    "    return cos"
   ]
  },
  {
   "cell_type": "code",
   "execution_count": 11,
   "id": "5308ccb8",
   "metadata": {},
   "outputs": [],
   "source": [
    "# store each row as a vector\n",
    "a = data_frame.iloc[0].values\n",
    "b = data_frame.iloc[1].values\n",
    "c = data_frame.iloc[2].values\n",
    "d = data_frame.iloc[3].values\n",
    "e = data_frame.iloc[4].values"
   ]
  },
  {
   "cell_type": "code",
   "execution_count": 12,
   "id": "74395f05",
   "metadata": {
    "scrolled": true
   },
   "outputs": [
    {
     "data": {
      "text/plain": [
       "<AxesSubplot:>"
      ]
     },
     "execution_count": 12,
     "metadata": {},
     "output_type": "execute_result"
    },
    {
     "data": {
      "image/png": "[encoded data removed]",
      "text/plain": [
       "<Figure size 432x288 with 2 Axes>"
      ]
     },
     "metadata": {
      "needs_background": "light"
     },
     "output_type": "display_data"
    }
   ],
   "source": [
    "# calculate similarities and store them in a list\n",
    "similarity_a = [1.0 , round(cosine(a,b), 3), round(cosine(a,c), 3), round(cosine(a,d), 3), round(cosine(a,e), 3)]\n",
    "similarity_b = [round(cosine(b,a), 3), 1.0, round(cosine(b,c), 3), round(cosine(b,d), 3), round(cosine(b,e), 3)]\n",
    "similarity_c = [round(cosine(c,a), 3), round(cosine(c,b), 3), 1.0, round(cosine(c,d), 3), round(cosine(c,e), 3)]\n",
    "similarity_d = [round(cosine(d,a), 3), round(cosine(d,b), 3), round(cosine(d,c), 3), 1.0, round(cosine(d,e), 3)]\n",
    "similarity_e = [round(cosine(e,a), 3), round(cosine(e,b), 3), round(cosine(e,c), 3), round(cosine(e,d), 3), 1.0]\n",
    "\n",
    "# save a list of these lists\n",
    "similarities = [similarity_a, similarity_b, similarity_c,similarity_d,similarity_e]\n",
    "\n",
    "# create a list of headings for columns and the index\n",
    "index_and_columns = ['Al Jazeera', 'BBC', 'CNN', 'FOX', 'Brietbart']\n",
    "\n",
    "# create a data frame with column and index names\n",
    "visualization_df = pd.DataFrame(data = similarities, columns = index_and_columns, index = index_and_columns)\n",
    "\n",
    "# create an annotated heatmap\n",
    "seaborn.heatmap(visualization_df, annot = visualization_df)"
   ]
  },
  {
   "cell_type": "code",
   "execution_count": 13,
   "id": "414c9224",
   "metadata": {},
   "outputs": [
    {
     "data": {
      "text/plain": [
       "0      saudi\n",
       "1      saudi\n",
       "2    erdogan\n",
       "3    erdogan\n",
       "4      saudi\n",
       "dtype: object"
      ]
     },
     "execution_count": 13,
     "metadata": {},
     "output_type": "execute_result"
    }
   ],
   "source": [
    "# review the max values for each row for whether they should be considered for removal\n",
    "data_frame.idxmax(axis=1)"
   ]
  },
  {
   "cell_type": "markdown",
   "id": "eef03b1a",
   "metadata": {},
   "source": [
    "#### Additional Stopwords"
   ]
  },
  {
   "cell_type": "code",
   "execution_count": 29,
   "id": "a9e749a8",
   "metadata": {},
   "outputs": [],
   "source": [
    "# create a deepcopy of stopwords\n",
    "stopwords2 = copy.deepcopy(stopwords)\n",
    "\n",
    "# extend stopwords2 with words from previous step and general intuition\n",
    "stopwords2.extend(['khashoggi', 'khashoggis',  'pm', 'am', 'saudi', 'arabias', 'arabia' 'jamal', 'istanbul', 'erdogan', 'turkish', 'consulate', 'president', 'salman', 'bin', 'mohammed' ,'mbs', 'trump', 'donald', 'foreign', 'minister', 'crown', 'prince', 'ankara', 'yelova', 'yalova', 'riyadh'])"
   ]
  },
  {
   "cell_type": "code",
   "execution_count": 30,
   "id": "d0775085",
   "metadata": {
    "scrolled": false
   },
   "outputs": [],
   "source": [
    "# run the function for tokenization with the new stopwords\n",
    "strings_for_analysis = tokenize(list_of_articles, stopwords2)\n",
    "\n",
    "# create a new data frame with new results\n",
    "data_frame2 = data_frame_maker(strings_for_analysis)"
   ]
  },
  {
   "cell_type": "code",
   "execution_count": 31,
   "id": "4e69598a",
   "metadata": {},
   "outputs": [],
   "source": [
    "# get the vectors for each column\n",
    "a = data_frame2.iloc[0].values\n",
    "b = data_frame2.iloc[1].values\n",
    "c = data_frame2.iloc[2].values\n",
    "d = data_frame2.iloc[3].values\n",
    "e = data_frame2.iloc[4].values"
   ]
  },
  {
   "cell_type": "code",
   "execution_count": 32,
   "id": "3238aa5a",
   "metadata": {},
   "outputs": [
    {
     "data": {
      "text/plain": [
       "<AxesSubplot:>"
      ]
     },
     "execution_count": 32,
     "metadata": {},
     "output_type": "execute_result"
    },
    {
     "data": {
      "image/png": "[encoded data removed]",
      "text/plain": [
       "<Figure size 432x288 with 2 Axes>"
      ]
     },
     "metadata": {
      "needs_background": "light"
     },
     "output_type": "display_data"
    }
   ],
   "source": [
    "# make the similarity list\n",
    "similarity_a = [1.0, round(cosine(a,b), 3), round(cosine(a,c), 3), round(cosine(a,d), 3), round(cosine(a,e), 3)]\n",
    "similarity_b = [round(cosine(b,a), 3), 1.0, round(cosine(b,c), 3), round(cosine(b,d), 3), round(cosine(b,e), 3)]\n",
    "similarity_c = [round(cosine(c,a), 3), round(cosine(c,b), 3), 1.0, round(cosine(c,d), 3), round(cosine(c,e), 3)]\n",
    "similarity_d = [round(cosine(d,a), 3), round(cosine(d,b), 3), round(cosine(d,c), 3), 1.0, round(cosine(d,e), 3)]\n",
    "similarity_e = [round(cosine(e,a), 3), round(cosine(e,b), 3), round(cosine(e,c), 3), round(cosine(e,d), 3), 1.0,]\n",
    "\n",
    "# save as a list of lists\n",
    "similarities = [similarity_a, similarity_b, similarity_c,similarity_d,similarity_e]\n",
    "\n",
    "# create the heatmap with labelling\n",
    "index_and_columns = ['Al Jazeera', 'BBC', 'CNN', 'FOX', 'Brietbart']\n",
    "visualization_df = pd.DataFrame(data = similarities, columns = index_and_columns, index = index_and_columns)\n",
    "seaborn.heatmap(visualization_df, annot = visualization_df)"
   ]
  },
  {
   "cell_type": "code",
   "execution_count": 18,
   "id": "034971c2",
   "metadata": {
    "scrolled": true
   },
   "outputs": [
    {
     "data": {
      "text/plain": [
       "0     murder\n",
       "1      media\n",
       "2     killed\n",
       "3    killing\n",
       "4      audio\n",
       "dtype: object"
      ]
     },
     "execution_count": 18,
     "metadata": {},
     "output_type": "execute_result"
    }
   ],
   "source": [
    "# review for new stopwords\n",
    "data_frame2.idxmax(axis=1)"
   ]
  },
  {
   "cell_type": "markdown",
   "id": "10460dcf",
   "metadata": {},
   "source": [
    "#### No Stopwords"
   ]
  },
  {
   "cell_type": "code",
   "execution_count": 21,
   "id": "67718b16",
   "metadata": {},
   "outputs": [],
   "source": [
    "stopwords3 = []"
   ]
  },
  {
   "cell_type": "code",
   "execution_count": 22,
   "id": "cde5f387",
   "metadata": {},
   "outputs": [],
   "source": [
    "# run the function for tokenization with the new stopwords\n",
    "strings_for_analysis = tokenize(list_of_articles, stopwords3)\n",
    "\n",
    "# create a new data frame with new results\n",
    "data_frame3 = data_frame_maker(strings_for_analysis)"
   ]
  },
  {
   "cell_type": "code",
   "execution_count": 23,
   "id": "17e18a9d",
   "metadata": {},
   "outputs": [],
   "source": [
    "# get the vectors for each column\n",
    "a = data_frame3.iloc[0].values\n",
    "b = data_frame3.iloc[1].values\n",
    "c = data_frame3.iloc[2].values\n",
    "d = data_frame3.iloc[3].values\n",
    "e = data_frame3.iloc[4].values"
   ]
  },
  {
   "cell_type": "code",
   "execution_count": 24,
   "id": "b069d8f8",
   "metadata": {
    "scrolled": true
   },
   "outputs": [
    {
     "data": {
      "text/plain": [
       "<AxesSubplot:>"
      ]
     },
     "execution_count": 24,
     "metadata": {},
     "output_type": "execute_result"
    },
    {
     "data": {
      "image/png": "[encoded data removed]",
      "text/plain": [
       "<Figure size 432x288 with 2 Axes>"
      ]
     },
     "metadata": {
      "needs_background": "light"
     },
     "output_type": "display_data"
    }
   ],
   "source": [
    "# make the similarity list\n",
    "similarity_a = [1.0, round(cosine(a,b), 3), round(cosine(a,c), 3), round(cosine(a,d), 3), round(cosine(a,e), 3)]\n",
    "similarity_b = [round(cosine(b,a), 3), 1.0, round(cosine(b,c), 3), round(cosine(b,d), 3), round(cosine(b,e), 3)]\n",
    "similarity_c = [round(cosine(c,a), 3), round(cosine(c,b), 3), 1.0, round(cosine(c,d), 3), round(cosine(c,e), 3)]\n",
    "similarity_d = [round(cosine(d,a), 3), round(cosine(d,b), 3), round(cosine(d,c), 3), 1.0, round(cosine(d,e), 3)]\n",
    "similarity_e = [round(cosine(e,a), 3), round(cosine(e,b), 3), round(cosine(e,c), 3), round(cosine(e,d), 3), 1.0,]\n",
    "\n",
    "# save as a list of lists\n",
    "similarities = [similarity_a, similarity_b, similarity_c,similarity_d,similarity_e]\n",
    "\n",
    "# create the heatmap with labelling\n",
    "index_and_columns = ['Al Jazeera', 'BBC', 'CNN', 'FOX', 'Brietbart']\n",
    "visualization_df = pd.DataFrame(data = similarities, columns = index_and_columns, index = index_and_columns)\n",
    "seaborn.heatmap(visualization_df, annot = visualization_df)"
   ]
  },
  {
   "cell_type": "markdown",
   "id": "bdc35986",
   "metadata": {},
   "source": [
    "### Insights"
   ]
  },
  {
   "cell_type": "markdown",
   "id": "06a1496a",
   "metadata": {},
   "source": [
    "Here, we ran the data with three sets of stop words generating heatmaps for the cosine similarity of each news article with each other. We see that the final plot, with no stop words (as expected) yields the largest cosine similarity values. The list of canned stopwords provided by Professor Dunford drops each of the cosine similarity values dramatically. The lowest value on the no stopwords similarity matrix is ~0.69, in the canned stopwords list this value is ~0.39. While the two stories that are most different do not change, we have a better picture of their actual relationship. We can think of the common words in the english language as noise (that all articles will use frequently). Removing the stopwords is removing some of that noise. In this case of analyzing these particular articles, there are words that they will all use in common (such as the names of key figures, countries, nationalities, and locations). There is some risk in doing this as there is some narrative discretion in which figures are named. For this reason I removed the names of all leaders who appeared in the text. One could certainly run the same set of functions without removing political figures to get a 'delta' on the change. \n",
    "\n",
    "As for the merit of our text analysis, it is unsurprising to see that American media outlets thought of as being in direct opposition (Brietbart and CNN) tell very different stories. What may be surprising to an American media consumer is the similarity between Fox and Brietbert to Al Jazeera and BBC relative to CNN, whose article is the most 'distinct.' But there are a variety of reasons why this might be the case, including using similar sources. Another interesting detail is the use of 'killed' and 'killing' relative to 'murder' (very common in the Al Jazeera) in the major American press outlets."
   ]
  }
 ],
 "metadata": {
  "kernelspec": {
   "display_name": "Python 3 (ipykernel)",
   "language": "python",
   "name": "python3"
  },
  "language_info": {
   "codemirror_mode": {
    "name": "ipython",
    "version": 3
   },
   "file_extension": ".py",
   "mimetype": "text/x-python",
   "name": "python",
   "nbconvert_exporter": "python",
   "pygments_lexer": "ipython3",
   "version": "3.9.7"
  }
 },
 "nbformat": 4,
 "nbformat_minor": 5
}
