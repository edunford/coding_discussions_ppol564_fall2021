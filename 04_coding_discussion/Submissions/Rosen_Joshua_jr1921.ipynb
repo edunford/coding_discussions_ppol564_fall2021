{
 "cells": [
  {
   "cell_type": "code",
   "execution_count": 1,
   "id": "9e01c4db",
   "metadata": {},
   "outputs": [],
   "source": [
    "import pandas as pd\n",
    "import numpy as np\n",
    "import matplotlib as plt"
   ]
  },
  {
   "cell_type": "markdown",
   "id": "0bb645bd",
   "metadata": {},
   "source": [
    "### Removing Stop-words, Punctuation, Numbers"
   ]
  },
  {
   "cell_type": "code",
   "execution_count": 2,
   "id": "77bfe7b4",
   "metadata": {},
   "outputs": [],
   "source": [
    "#Load Aljazeera\n",
    "with open('aljazeera-khashoggi.txt') as f:\n",
    "    aljazeera = f.read()"
   ]
  },
  {
   "cell_type": "code",
   "execution_count": 3,
   "id": "21dd7d98",
   "metadata": {},
   "outputs": [],
   "source": [
    "#load BBC\n",
    "with open('BBC-khashoggi.txt') as f:\n",
    "    BBC = f.read()"
   ]
  },
  {
   "cell_type": "code",
   "execution_count": 4,
   "id": "cb700452",
   "metadata": {},
   "outputs": [],
   "source": [
    "#load Breitbart\n",
    "with open('breitbart-khashoggi.txt', encoding='utf8') as f:\n",
    "    breitbart = f.read()"
   ]
  },
  {
   "cell_type": "code",
   "execution_count": 5,
   "id": "bb3255ee",
   "metadata": {},
   "outputs": [],
   "source": [
    "#Load Fox\n",
    "with open('fox-khashoggi.txt', encoding='utf8') as f:\n",
    "    fox = f.read()"
   ]
  },
  {
   "cell_type": "code",
   "execution_count": 6,
   "id": "f386a0ba",
   "metadata": {},
   "outputs": [],
   "source": [
    "#Load CNN\n",
    "with open('cnn-khashoggi.txt') as f:\n",
    "    cnn = f.read()"
   ]
  },
  {
   "cell_type": "code",
   "execution_count": 7,
   "id": "6e0ae64a",
   "metadata": {
    "scrolled": false
   },
   "outputs": [],
   "source": [
    "#convert the stop-words csv to a list\n",
    "stopwords = pd.read_csv(\"stop_words.csv\")\n",
    "stopwordsl=stopwords['word'].to_list()"
   ]
  },
  {
   "cell_type": "code",
   "execution_count": 8,
   "id": "5ee22b03",
   "metadata": {},
   "outputs": [],
   "source": [
    "docs = [aljazeera, BBC, breitbart, fox, cnn]"
   ]
  },
  {
   "cell_type": "code",
   "execution_count": 9,
   "id": "84209f05",
   "metadata": {
    "scrolled": true
   },
   "outputs": [
    {
     "name": "stdout",
     "output_type": "stream",
     "text": [
      "['turkey', 'istanbul', 'turkish', 'president', 'recep', 'tayyip', 'erdogan', 'murder', 'journalist', 'jamal', 'khashoggi', 'kingdoms', 'consulate', 'istanbul', 'planned', 'saudi', 'officials', 'days', 'advance', 'addressing', 'legislators', 'justice', 'development', 'party', 'ak', 'party', 'tuesday', 'erdogan', 'detailed', 'khashoggis', 'disappearance', 'murder', 'stopped', 'short', 'accusing', 'saudi', 'royals', 'savage', 'killing', 'caused', 'global', 'outrage', 'september', 'khashoggi', 'arrived', 'saudi', 'arabian', 'consulate', 'sort', 'wedding', 'paperwork', 'erdogan', 'speech', 'turkish', 'parliament', 'capital', 'ankara', 'time', 'saudi', 'arabian', 'officials', 'started', 'plan', 'roadmap', 'murder', 'added', 'saudi', 'officials', 'left', 'turkey', 'travelled', 'saudi', 'arabia', 'indicating', 'planned', 'murder', 'khashoggi', 'washington', 'post', 'columnist', 'critic', 'powerful', 'saudi', 'crown', 'prince', 'mohammed', 'bin', 'salman', 'disappeared', 'entering', 'saudi', 'consulate', 'october', 'tuesdays', 'speech', 'erdogan', 'remained', 'silent', 'unnamed', 'turkish', 'officials', 'leaked', 'information', 'murder', 'including', 'information', 'saudi', 'assassination', 'team', 'flew', 'istanbul', 'chartered', 'planes', 'wake', 'intense', 'global', 'pressure', 'saudi', 'arabia', 'admitted', 'week', 'khashoggi', 'killed', 'inside', 'istanbul', 'consulate', 'october', 'result', 'fistfight', 'interrogation', 'saudi', 'authorities', 'arrested', 'people', 'connection', 'killing', 'fired', 'top', 'security', 'officials', 'considered', 'close', 'bin', 'salman', 'erdogan', 'called', 'killing', 'political', 'murder', 'adding', 'international', 'investigators', 'included', 'probe', 'turkish', 'leader', 'call', 'killing', 'savage', 'adding', 'ankara', 'continue', 'investigation', 'questions', 'answered', 'saudi', 'team', 'istanbul', 'instruction', 'erdogan', 'adding', 'saudi', 'arabia', 'investigators', 'consulate', 'days', 'body', 'galip', 'dalay', 'visiting', 'scholar', 'university', 'oxford', 'stressed', 'significance', 'erdogans', 'speech', 'erdogan', 'confirmed', 'sort', 'heard', 'channels', 'told', 'al', 'jazeera', 'attributed', 'unnamed', 'turkish', 'officials', 'president', 'turkey', 'confirmed', 'happened', 'dalay', 'erdogan', 'demanded', 'answers', 'happened', 'khashoggis', 'body', 'mentioning', 'reports', 'local', 'cooperator', 'allegedly', 'disposed', 'body', 'claims', 'body', 'local', 'person', 'local', 'person', 'erdogan', 'allowed', 'answering', 'questions', 'added', 'turkish', 'president', 'saudi', 'arabia', 'taking', 'steps', 'ankara', 'investigation', 'carrying', 'arrests', 'dalay', 'nonresident', 'fellow', 'brookings', 'institution', 'doha', 'underlined', 'erdogans', 'distinction', 'speech', 'king', 'salman', 'son', 'bin', 'salman', 'erdogan', 'provided', 'mbs', 'naming', 'crown', 'prince', 'specifically', 'dalay', 'adding', 'turkish', 'president', 'prevent', 'fullblown', 'crisis', 'ankara', 'riyadh', 'sunday', 'speaking', 'exclusive', 'interview', 'fox', 'news', 'saudi', 'arabias', 'foreign', 'minister', 'adel', 'aljubeir', 'khashoggis', 'killing', 'inside', 'consulate', 'terrible', 'tragedy', 'mbs', 'taha', 'ozhan', 'research', 'director', 'ankara', 'institute', 'told', 'al', 'jazeera', 'erdogan', 'taking', 'steps', 'saudis', 'turkey', 'erdogan', 'saudis', 'cooperation']\n",
      "['recep', 'tayyip', 'erdogan', 'questions', 'answered', 'killing', 'journalist', 'jamal', 'khashoggi', 'planned', 'days', 'advance', 'turkish', 'president', 'recep', 'tayyip', 'erdogan', 'told', 'mps', 'ruling', 'party', 'turkey', 'strong', 'evidence', 'khashoggi', 'killed', 'premeditated', 'savage', 'murder', 'saudi', 'consulate', 'istanbul', 'october', 'called', 'suspects', 'istanbul', 'demanded', 'saudi', 'arabia', 'provide', 'answers', 'khashoggis', 'body', 'operation', 'saudi', 'kingdom', 'provided', 'conflicting', 'accounts', 'happened', 'khashoggi', 'resident', 'washington', 'post', 'contributor', 'weeks', 'maintaining', 'alive', 'authorities', 'yearold', 'killed', 'rogue', 'operation', 'erdogans', 'address', 'coincided', 'start', 'investment', 'conference', 'saudi', 'arabia', 'overshadowed', 'khashoggi', 'dozens', 'government', 'business', 'leaders', 'pulled', 'crown', 'prince', 'mohammed', 'bin', 'salman', 'appeared', 'event', 'tuesday', 'world', 'leaders', 'condemned', 'murder', 'prominent', 'saudi', 'critic', 'demanded', 'investigation', 'president', 'donald', 'trump', 'satisfied', 'saudi', 'explanation', 'highlighted', 'kingdoms', 'importance', 'ally', 'cia', 'director', 'gina', 'haspel', 'turkey', 'review', 'matter', 'media', 'playback', 'unsupported', 'device', 'media', 'caption', 'trumps', 'saudi', 'job', 'growing', 'turkish', 'president', 'happened', 'fifteen', 'saudi', 'nationals', 'erdogan', 'arrived', 'istanbul', 'teams', 'separate', 'flights', 'days', 'hours', 'leading', 'murder', 'day', 'killing', 'travelled', 'belgrad', 'forest', 'consulate', 'searched', 'week', 'turkish', 'police', 'body', 'team', 'removed', 'hard', 'drives', 'consulates', 'surveillance', 'camera', 'system', 'prior', 'arrival', 'khashoggi', 'visiting', 'obtain', 'documents', 'forthcoming', 'marriage', 'looked', 'khashoggi', 'wearing', 'outfit', 'glasses', 'fake', 'beard', 'left', 'consulate', 'day', 'killing', 'president', 'added', 'monday', 'cnn', 'broadcast', 'images', 'appearing', 'saudi', 'operative', 'leaving', 'consulate', 'media', 'playback', 'unsupported', 'device', 'media', 'caption', 'video', 'removed', 'rights', 'reasons', 'president', 'erdogan', 'confirmed', 'people', 'arrested', 'saudi', 'arabia', 'told', 'mps', 'ruling', 'ak', 'party', 'istanbul', 'adding', 'played', 'role', 'murder', 'punished', 'saudis', 'erdogan', 'called', 'independent', 'commission', 'set', 'confident', 'king', 'salmans', 'cooperation', 'mention', 'crown', 'prince', 'widely', 'powerful', 'figure', 'kingdom', 'killing', 'saudis', 'deny', 'bbc', 'security', 'correspondent', 'frank', 'gardner', 'erdogans', 'speech', 'notable', 'left', 'left', 'mention', 'muchdiscussed', 'audio', 'tape', 'inside', 'saudi', 'consulate', 'turkish', 'media', 'reveals', 'gruesome', 'details', 'murder', 'trailed', 'expose', 'naked', 'truth', 'speech', 'fell', 'short', 'peoples', 'expectations', 'correspondent', 'saudis', 'stand', 'king', 'salman', 'chaired', 'cabinet', 'meeting', 'tuesday', 'statement', 'saudi', 'arabia', 'hold', 'account', 'responsible', 'killing', 'image', 'copyright', 'epa', 'image', 'caption', 'saudi', 'king', 'crown', 'prince', 'meet', 'khashoggis', 'son', 'salah', 'bin', 'jamal', 'family', 'riyadh', 'media', 'king', 'crown', 'prince', 'held', 'meeting', 'riyadh', 'khashoggi', 'family', 'including', 'khashoggis', 'son', 'salah', 'bin', 'jamal', 'erdogan', 'spoke', 'family', 'phone', 'tuesday', 'offering', 'condolences', 'solve', 'murder', 'saudi', 'arabia', 'conflicting', 'accounts', 'initially', 'khashoggi', 'left', 'building', 'alive', 'killed', 'fistfight', 'inside', 'consulate', 'sunday', 'saudi', 'foreign', 'minister', 'acknowledged', 'khashoggi', 'murdered', 'leadership', 'aware', 'rogue', 'operation', 'individuals', 'scope', 'authority', 'foreign', 'minister', 'adel', 'aljubeir', 'told', 'fox', 'news', 'tremendous', 'mistake', 'compounded', 'mistake', 'attempt', 'cover', 'saudi', 'arabia', 'body', 'unnamed', 'saudi', 'official', 'told', 'reuters', 'news', 'agency', 'sunday', 'khashoggi', 'died', 'chokehold', 'resisting', 'attempts', 'return', 'saudi', 'arabia', 'body', 'rolled', 'rug', 'local', 'cooperator', 'dispose', 'media', 'playback', 'unsupported', 'device', 'media', 'caption', 'jamal', 'khashoggi', 'saudi', 'critics', 'missing', 'president', 'erdogan', 'demanded', 'speech', 'tuesday', 'individuals', 'identity', 'revealed', 'addition', 'arrests', 'saudis', 'sacked', 'crown', 'princes', 'aides', 'set', 'organisation', 'leadership', 'reform', 'intelligence', 'agency', 'killing', 'reuters', 'news', 'agency', 'quoting', 'turkish', 'arabic', 'intelligence', 'sources', 'sacked', 'aides', 'appeared', 'skype', 'khashoggis', 'questioning', 'saud', 'alqahtani', 'quoted', 'giving', 'instructions', 'bring', 'head', 'dog', 'traded', 'insults', 'sources', 'president', 'erdogan', 'copy', 'skype', 'audio', 'refusing', 'hand', 'investment', 'conference', 'bbcs', 'sebastian', 'usher', 'riyadh', 'image', 'copyright', 'sebastian', 'usher', 'image', 'caption', 'media', 'scrum', 'crown', 'prince', 'mohammed', 'bin', 'salman', 'arrives', 'conference', 'odd', 'mixture', 'unreality', 'hardfaced', 'pragmatism', 'attendees', 'theyre', 'stay', 'opportunities', 'saudi', 'arabia', 'haul', 'pressure', 'building', 'short', 'term', 'means', 'urgency', 'outrage', 'killing', 'jamal', 'khashoggi', 'fuelling', 'news', 'absent', 'president', 'erdogan', 'delivering', 'explosive', 'speech', 'conference', 'announced', 'bn', 'â£bn', 'investment', 'megadeals', 'contracts', 'signed', 'flourish', 'host', 'foreign', 'ceos', 'saudi', 'partners', 'applause', 'audience', 'doubt', 'intended', 'resounding', 'vote', 'confidence', 'vision', 'saudi', 'arabias', 'future', 'laid', 'crown', 'prince', 'mohammed', 'bin', 'salman', 'future', 'investments', 'sour', 'mood', 'optimism', 'selfapprobation', 'exhibited']\n",
      "['president', 'donald', 'trump', 'turkish', 'president', 'recep', 'tayyip', 'erdogan', 'pronounced', 'unsatisfied', 'answers', 'saudi', 'arabia', 'killing', 'journalist', 'jamal', 'khashoggi', 'saudi', 'embassy', 'istanbul', 'weeks', 'ago', 'saudis', 'forthcoming', 'operation', 'khashoggi’s', 'death', 'crude', 'efforts', 'create', 'alibi', 'dispose', 'body', 'erdogan', 'forceful', 'speech', 'akp', 'party', 'tuesday', 'short', 'accusing', 'saudi', 'king', 'salman', 'bin', 'abdulaziz', 'crown', 'prince', 'mohammed', 'bin', 'salman', 'direct', 'involvement', 'killing', 'savage', 'murder', 'happen', 'instantly', 'planned', 'erdogan', 'declared', 'dismissing', 'saudi', 'story', 'khashoggi', 'accidentally', 'dying', 'fistfight', 'started', 'visited', 'istanbul', 'consulate', 'team', 'saudi', 'qualifications', 'related', 'incident', 'gathering', 'istanbul', 'day', 'murder', 'turkish', 'president', 'seeking', 'answers', 'question', 'individuals', 'putting', 'burden', 'security', 'intelligence', 'satisfy', 'international', 'community', 'satisfied', 'giving', 'carried', 'called', 'account', 'insisted', 'erodgan', 'called', 'king', 'salman', 'support', 'turkish', 'investigation', 'killing', 'trials', 'turkish', 'court', 'arguing', 'istanbul', 'consulate', 'considered', 'saudi', 'arabian', 'land', 'rests', 'borders', 'turkey', 'demanded', 'saudis', 'reveal', 'local', 'cooperator', 'allegedly', 'disposed', 'khashoggi’s', 'remains', 'erdogan', 'conspicuously', 'praised', 'sincerity', 'custodian', 'holy', 'mosques', 'king', 'salman', 'bin', 'abdulaziz', 'avoided', 'praising', 'condemning', 'daytoday', 'ruler', 'country', 'crown', 'prince', 'mohammed', 'bin', 'salman', 'implied', 'partner', 'crime', 'countries', 'satisfied', 'i’ve', 'heard', 'president', 'trump', 'monday', 'white', 'house', 'don’t', 'lose', 'investment', 'that’s', 'country', 'we’re', 'bottom', 'trump', 'added', 'president', 'trump’s', 'soninlaw', 'jared', 'kushner', 'close', 'friendship', 'crown', 'prince', 'monday', 'urged', 'mbs', 'transparent', 'world', 'watching', 'accusation', 'situation', 'washington', 'post', 'employed', 'khashoggi', 'contributor', 'saturday', 'returned', 'topic', 'muchdiscussed', 'turkish', 'surveillance', 'tape', 'khashoggi’s', 'murder', 'subject', 'media', 'scandal', 'week', 'department', 'secretary', 'mike', 'pompeo', 'strongly', 'refuted', 'turkish', 'media', 'claims', 'pompeo', 'listened', 'audio', 'post', 'audio', 'exists', 'anonymous', 'cia', 'officials', 'heard', 'confirmed', 'authenticity', 'post', 'strongly', 'implied', 'audio', 'deliberately', 'withheld', 'pompeo', 'top', 'officials', 'uncomfortable', 'diplomatic', 'situation', 'saudis']\n",
      "['saudi', 'officials', 'planned', 'savage', 'murder', 'saudi', 'writer', 'jamal', 'khashoggi', 'days', 'death', 'turkish', 'president', 'recep', 'tayyip', 'erdogan', 'tuesday', 'erdogan', 'revealed', 'details', 'country’s', 'investigation', 'khashoggi’s', 'killing', 'walked', 'saudi', 'consulate', 'istanbul', 'oct', 'contradicting', 'saudi', 'arabia’s', 'explanation', 'writer', 'killed', 'fistfight', 'erdogan', 'fell', 'short', 'blaming', 'saudi', 'crown', 'prince', 'mohammed', 'bin', 'salman', 'mention', 'tape', 'exists', 'khashoggis', 'killing', 'pressure', 'kingdom', 'demands', 'punishment', 'people', 'involved', 'murder', 'evidence', 'gathered', 'jamal', 'khashoggi', 'victim', 'savage', 'murder', 'cover', 'savagery', 'hurt', 'human', 'conscience', 'erdogan', 'saudi', 'arabia', 'suspects', 'detained', 'columnist’s', 'killing', 'turkish', 'courts', 'blame', 'incident', 'handful', 'security', 'intelligence', 'satisfy', 'international', 'community', 'erdogan', 'saudi', 'arabia', 'step', 'admitting', 'murder', 'expect', 'openly', 'bring', 'light', 'responsible', '—', 'ranked', 'lowest', '—', 'bring', 'justice', 'erdogan', 'laid', 'timeline', 'events', 'khashoggi’s', 'death', 'including', 'body', 'double', 'decoy', 'people', 'flew', 'riyadh', 'istanbul', 'pm', 'local', 'time', 'oct', 'hotel', 'saudi', 'consulate', 'erdogan', 'sky', 'news', 'team', 'consulate', 'belgrave', 'woods', 'yelova', 'consulate', 'scout', 'day', 'erdogan', 'team', 'saudis', 'met', 'consulate', 'team', 'hard', 'disc', 'consulate’s', 'cctv', 'called', 'khashoggi', 'meeting', 'consulate', 'day', 'evidence', 'gathered', 'jamal', 'khashoggi', 'victim', 'savage', 'murder', '—', 'turkish', 'president', 'erdogan', 'khashoggi', 'arrived', 'consulate', 'pm', 'local', 'time', 'erdogan', 'hours', 'khashoggi’s', 'fiancé', 'alerted', 'authorities', 'detained', 'worse', 'speech', 'erdogan', 'suggested', 'khashoggi', 'victim', 'gruesome', 'murder', 'coverup', 'doubt', 'sincerity', 'king', 'salman', 'independent', 'investigation', 'carried', 'political', 'killing', 'erdogan', 'adding', 'khashoggi’s', 'death', 'meticulously', 'planned', 'erdogan', 'noted', 'spoke', 'president', 'trump', 'killing', 'didn’t', 'reveal', 'details', 'conversation', 'trump', 'monday', 'wasn’t', 'satisfied', 'explanations', 'he’s', 'heard', 'killing', 'khashoggi', 'waiting', 'reports', 'officials', 'returning', 'region', 'bottom', 'people', 'saudi', 'arabia', 'top', 'intelligence', 'people', 'turkey', 'theyre', 'coming', 'tonight', 'tomorrow', 'trump', 'told', 'media', 'leaving', 'rally', 'texas', 'fox', 'news’', 'greg', 'palkot', 'press', 'contributed', 'report']\n",
      "['istanbul', 'turkey', 'cnn', 'jamal', 'khashoggi', 'died', 'result', 'brutal', 'premeditated', 'murder', 'turkeys', 'president', 'recep', 'tayyip', 'erdogan', 'tuesday', 'highly', 'anticipated', 'speech', 'soundly', 'rejected', 'saudi', 'arabias', 'claim', 'journalist', 'killed', 'accidentallyerdogan', 'questioned', 'riyadh', 'carry', 'independent', 'investigation', 'death', 'washington', 'post', 'journalist', 'demanded', 'suspects', 'arrested', 'authorities', 'saudi', 'arabia', 'extradited', 'turkey', 'stand', 'trial', 'istanbulit', 'time', 'official', 'turkey', 'publicly', 'outlined', 'turkish', 'contention', 'khashoggi', 'killed', 'saudi', 'arabias', 'consulate', 'istanbul', 'hit', 'squad', 'riyadh', 'erdogan', 'offer', 'bombshell', 'revelations', 'speech', 'amounted', 'comprehensive', 'rejection', 'saudi', 'arabias', 'khashoggi', 'died', 'accident', 'result', 'brawlpeople', 'gather', 'tv', 'istanbul', 'cafe', 'watch', 'erdogans', 'speechthe', 'information', 'obtained', 'evidence', 'found', 'khashoggi', 'murdered', 'ferocious', 'manner', 'erdogan', 'told', 'lawmakers', 'turkish', 'capital', 'ankaraamong', 'details', 'revealed', 'erdogan', 'allegation', 'day', 'khashoggi', 'killed', 'team', 'consular', 'staff', 'carried', 'reconnaissance', 'mission', 'forest', 'outskirts', 'istanbul', 'yalova', 'city', 'mile', 'kilometer', 'drive', 'south', 'erdogan', 'locations', 'scouted', 'noted', 'khashoggis', 'body', 'foundread']\n"
     ]
    }
   ],
   "source": [
    "#note: I decided to get rid of stop-words, numbers, and punctuation  \n",
    "def tokenize(text=None):\n",
    "    '''\n",
    "    clean the strings: replace punctuation and numbers + remove stop-words\n",
    "    '''\n",
    "    text = text.lower()\n",
    "    text = text.replace('.','')\n",
    "    text = text.replace(')','')\n",
    "    text = text.replace('(','')\n",
    "    text = text.replace('\"','')\n",
    "    text = text.replace('\"','')\n",
    "    text = text.replace(\"”\", \"\")\n",
    "    text = text.replace(\"“\", \"\")\n",
    "    text = text.replace('[','')\n",
    "    text = text.replace(\",\", \"\")\n",
    "    text = text.replace(']','')\n",
    "    text = text.replace('/','')\n",
    "    text = text.replace('\\'','')\n",
    "    text = text.replace('.','')\n",
    "    text = text.replace('!','')\n",
    "    text = text.replace('?','')\n",
    "    text = text.replace(\"$\", \"\")\n",
    "    text = text.replace('-','')\n",
    "    text = text.replace('','')\n",
    "    text = text.replace(':','')\n",
    "    text = text.replace('0','')\n",
    "    text = text.replace('1','')\n",
    "    text = text.replace('2','')\n",
    "    text = text.replace('3','')\n",
    "    text = text.replace('4','')\n",
    "    text = text.replace('5','')\n",
    "    text = text.replace('6','')\n",
    "    text = text.replace('7','')\n",
    "    text = text.replace('8','')\n",
    "    text = text.replace('9','')\n",
    "    text_list = text.split()\n",
    "    text_list2 = [word for word in text_list if word not in stopwordsl]\n",
    "    return text_list2\n",
    "\n",
    "print(tokenize(docs[0]))\n",
    "print(tokenize(docs[1]))\n",
    "print(tokenize(docs[2]))\n",
    "print(tokenize(docs[3]))\n",
    "print(tokenize(docs[4]))"
   ]
  },
  {
   "cell_type": "code",
   "execution_count": 10,
   "id": "9d7f7ba1",
   "metadata": {},
   "outputs": [],
   "source": [
    "def convert_text_to_dtm(txt):\n",
    "    '''\n",
    "    Converts text into a document term matrix.\n",
    "    '''\n",
    "    d = dict()\n",
    "    for word in tokenize(txt):\n",
    "        if word in d:\n",
    "            d[word][0] += 1\n",
    "        else:\n",
    "            d[word] = [1]\n",
    "    return pd.DataFrame(d)"
   ]
  },
  {
   "cell_type": "code",
   "execution_count": 11,
   "id": "8dc62cda",
   "metadata": {},
   "outputs": [],
   "source": [
    "def gen_DTM(texts=None):\n",
    "    '''\n",
    "    Generate a document term matrix\n",
    "    '''\n",
    "    DTM = pd.DataFrame()\n",
    "    for text in texts:\n",
    "        entry = convert_text_to_dtm(text)\n",
    "        DTM = DTM.append(pd.DataFrame(entry),ignore_index=True,sort=True) # Row bind\n",
    "    \n",
    "    DTM.fillna(0, inplace=True) # Fill in any missing values with 0s (i.e. when a word is in one text but not another)\n",
    "    return DTM"
   ]
  },
  {
   "cell_type": "code",
   "execution_count": 12,
   "id": "c1544cff",
   "metadata": {
    "scrolled": true
   },
   "outputs": [],
   "source": [
    "#create arrays for each source\n",
    "DF = gen_DTM(docs)\n",
    "alj_array= DF.iloc[0].values\n",
    "BBC_array= DF.iloc[1].values\n",
    "breitbart_array= DF.iloc[2].values\n",
    "fox_array= DF.iloc[3].values\n",
    "cnn_array= DF.iloc[4].values"
   ]
  },
  {
   "cell_type": "code",
   "execution_count": 13,
   "id": "48afa3df",
   "metadata": {},
   "outputs": [
    {
     "data": {
      "text/html": [
       "<div>\n",
       "<style scoped>\n",
       "    .dataframe tbody tr th:only-of-type {\n",
       "        vertical-align: middle;\n",
       "    }\n",
       "\n",
       "    .dataframe tbody tr th {\n",
       "        vertical-align: top;\n",
       "    }\n",
       "\n",
       "    .dataframe thead th {\n",
       "        text-align: right;\n",
       "    }\n",
       "</style>\n",
       "<table border=\"1\" class=\"dataframe\">\n",
       "  <thead>\n",
       "    <tr style=\"text-align: right;\">\n",
       "      <th></th>\n",
       "      <th>abdulaziz</th>\n",
       "      <th>absent</th>\n",
       "      <th>accident</th>\n",
       "      <th>accidentally</th>\n",
       "      <th>accidentallyerdogan</th>\n",
       "      <th>account</th>\n",
       "      <th>accounts</th>\n",
       "      <th>accusation</th>\n",
       "      <th>accusing</th>\n",
       "      <th>acknowledged</th>\n",
       "      <th>...</th>\n",
       "      <th>withheld</th>\n",
       "      <th>woods</th>\n",
       "      <th>world</th>\n",
       "      <th>worse</th>\n",
       "      <th>writer</th>\n",
       "      <th>yalova</th>\n",
       "      <th>yearold</th>\n",
       "      <th>yelova</th>\n",
       "      <th>â£bn</th>\n",
       "      <th>—</th>\n",
       "    </tr>\n",
       "  </thead>\n",
       "  <tbody>\n",
       "    <tr>\n",
       "      <th>0</th>\n",
       "      <td>0.0</td>\n",
       "      <td>0.0</td>\n",
       "      <td>0.0</td>\n",
       "      <td>0.0</td>\n",
       "      <td>0.0</td>\n",
       "      <td>0.0</td>\n",
       "      <td>0.0</td>\n",
       "      <td>0.0</td>\n",
       "      <td>1.0</td>\n",
       "      <td>0.0</td>\n",
       "      <td>...</td>\n",
       "      <td>0.0</td>\n",
       "      <td>0.0</td>\n",
       "      <td>0.0</td>\n",
       "      <td>0.0</td>\n",
       "      <td>0.0</td>\n",
       "      <td>0.0</td>\n",
       "      <td>0.0</td>\n",
       "      <td>0.0</td>\n",
       "      <td>0.0</td>\n",
       "      <td>0.0</td>\n",
       "    </tr>\n",
       "    <tr>\n",
       "      <th>1</th>\n",
       "      <td>0.0</td>\n",
       "      <td>1.0</td>\n",
       "      <td>0.0</td>\n",
       "      <td>0.0</td>\n",
       "      <td>0.0</td>\n",
       "      <td>1.0</td>\n",
       "      <td>2.0</td>\n",
       "      <td>0.0</td>\n",
       "      <td>0.0</td>\n",
       "      <td>1.0</td>\n",
       "      <td>...</td>\n",
       "      <td>0.0</td>\n",
       "      <td>0.0</td>\n",
       "      <td>1.0</td>\n",
       "      <td>0.0</td>\n",
       "      <td>0.0</td>\n",
       "      <td>0.0</td>\n",
       "      <td>1.0</td>\n",
       "      <td>0.0</td>\n",
       "      <td>1.0</td>\n",
       "      <td>0.0</td>\n",
       "    </tr>\n",
       "    <tr>\n",
       "      <th>2</th>\n",
       "      <td>2.0</td>\n",
       "      <td>0.0</td>\n",
       "      <td>0.0</td>\n",
       "      <td>1.0</td>\n",
       "      <td>0.0</td>\n",
       "      <td>1.0</td>\n",
       "      <td>0.0</td>\n",
       "      <td>1.0</td>\n",
       "      <td>1.0</td>\n",
       "      <td>0.0</td>\n",
       "      <td>...</td>\n",
       "      <td>1.0</td>\n",
       "      <td>0.0</td>\n",
       "      <td>1.0</td>\n",
       "      <td>0.0</td>\n",
       "      <td>0.0</td>\n",
       "      <td>0.0</td>\n",
       "      <td>0.0</td>\n",
       "      <td>0.0</td>\n",
       "      <td>0.0</td>\n",
       "      <td>0.0</td>\n",
       "    </tr>\n",
       "    <tr>\n",
       "      <th>3</th>\n",
       "      <td>0.0</td>\n",
       "      <td>0.0</td>\n",
       "      <td>0.0</td>\n",
       "      <td>0.0</td>\n",
       "      <td>0.0</td>\n",
       "      <td>0.0</td>\n",
       "      <td>0.0</td>\n",
       "      <td>0.0</td>\n",
       "      <td>0.0</td>\n",
       "      <td>0.0</td>\n",
       "      <td>...</td>\n",
       "      <td>0.0</td>\n",
       "      <td>1.0</td>\n",
       "      <td>0.0</td>\n",
       "      <td>1.0</td>\n",
       "      <td>2.0</td>\n",
       "      <td>0.0</td>\n",
       "      <td>0.0</td>\n",
       "      <td>1.0</td>\n",
       "      <td>0.0</td>\n",
       "      <td>3.0</td>\n",
       "    </tr>\n",
       "    <tr>\n",
       "      <th>4</th>\n",
       "      <td>0.0</td>\n",
       "      <td>0.0</td>\n",
       "      <td>1.0</td>\n",
       "      <td>0.0</td>\n",
       "      <td>1.0</td>\n",
       "      <td>0.0</td>\n",
       "      <td>0.0</td>\n",
       "      <td>0.0</td>\n",
       "      <td>0.0</td>\n",
       "      <td>0.0</td>\n",
       "      <td>...</td>\n",
       "      <td>0.0</td>\n",
       "      <td>0.0</td>\n",
       "      <td>0.0</td>\n",
       "      <td>0.0</td>\n",
       "      <td>0.0</td>\n",
       "      <td>1.0</td>\n",
       "      <td>0.0</td>\n",
       "      <td>0.0</td>\n",
       "      <td>0.0</td>\n",
       "      <td>0.0</td>\n",
       "    </tr>\n",
       "  </tbody>\n",
       "</table>\n",
       "<p>5 rows × 653 columns</p>\n",
       "</div>"
      ],
      "text/plain": [
       "   abdulaziz  absent  accident  accidentally  accidentallyerdogan  account  \\\n",
       "0        0.0     0.0       0.0           0.0                  0.0      0.0   \n",
       "1        0.0     1.0       0.0           0.0                  0.0      1.0   \n",
       "2        2.0     0.0       0.0           1.0                  0.0      1.0   \n",
       "3        0.0     0.0       0.0           0.0                  0.0      0.0   \n",
       "4        0.0     0.0       1.0           0.0                  1.0      0.0   \n",
       "\n",
       "   accounts  accusation  accusing  acknowledged  ...  withheld  woods  world  \\\n",
       "0       0.0         0.0       1.0           0.0  ...       0.0    0.0    0.0   \n",
       "1       2.0         0.0       0.0           1.0  ...       0.0    0.0    1.0   \n",
       "2       0.0         1.0       1.0           0.0  ...       1.0    0.0    1.0   \n",
       "3       0.0         0.0       0.0           0.0  ...       0.0    1.0    0.0   \n",
       "4       0.0         0.0       0.0           0.0  ...       0.0    0.0    0.0   \n",
       "\n",
       "   worse  writer  yalova  yearold  yelova  â£bn    —  \n",
       "0    0.0     0.0     0.0      0.0     0.0   0.0  0.0  \n",
       "1    0.0     0.0     0.0      1.0     0.0   1.0  0.0  \n",
       "2    0.0     0.0     0.0      0.0     0.0   0.0  0.0  \n",
       "3    1.0     2.0     0.0      0.0     1.0   0.0  3.0  \n",
       "4    0.0     0.0     1.0      0.0     0.0   0.0  0.0  \n",
       "\n",
       "[5 rows x 653 columns]"
      ]
     },
     "execution_count": 13,
     "metadata": {},
     "output_type": "execute_result"
    }
   ],
   "source": [
    "#show the dataframe\n",
    "DF"
   ]
  },
  {
   "cell_type": "code",
   "execution_count": 14,
   "id": "1d056e1c",
   "metadata": {},
   "outputs": [],
   "source": [
    "#create MY OWN function for creating cosine \n",
    "def cosine_func(v, u):\n",
    "    \"\"\"\n",
    "    v = vector v\n",
    "    u = vector u\n",
    "    cosine = compute the angle between vectors v and u\n",
    "    \n",
    "    \"\"\"\n",
    "    cosine = np.dot(v,u)/(np.sqrt(np.dot(v,v)) * np.sqrt(np.dot(u,u)))\n",
    "    return cosine"
   ]
  },
  {
   "cell_type": "code",
   "execution_count": 15,
   "id": "345d253e",
   "metadata": {},
   "outputs": [],
   "source": [
    "#Cosine combos for Aljazeera\n",
    "Cosine_Aljazeera_BBC = cosine_func(alj_array, BBC_array)\n",
    "Cosine_Aljazeera_Breitbart = cosine_func(alj_array, breitbart_array)\n",
    "Cosine_Aljazeera_CNN = cosine_func(alj_array, cnn_array)\n",
    "Cosine_Aljazeera_fox = cosine_func(alj_array, fox_array)"
   ]
  },
  {
   "cell_type": "code",
   "execution_count": 16,
   "id": "cf4f1e58",
   "metadata": {},
   "outputs": [],
   "source": [
    "#Cosine combos for BBC\n",
    "Cosine_BBC_CNN = cosine_func(BBC_array, cnn_array)\n",
    "Cosine_BBC_Fox = cosine_func(BBC_array, fox_array)\n",
    "Cosine_BBC_Breitbart = cosine_func(BBC_array, breitbart_array)"
   ]
  },
  {
   "cell_type": "code",
   "execution_count": 17,
   "id": "a8b2b4cc",
   "metadata": {},
   "outputs": [],
   "source": [
    "#Cosine combos for Breitart\n",
    "Cosine_Breitbart_CNN = cosine_func(breitbart_array, cnn_array)\n",
    "Cosine_Breitbart_Fox = cosine_func(breitbart_array, fox_array)"
   ]
  },
  {
   "cell_type": "code",
   "execution_count": 18,
   "id": "b58616e5",
   "metadata": {},
   "outputs": [],
   "source": [
    "#Cosine combos for CNN\n",
    "Cosine_CNN_Fox = cosine_func(cnn_array, fox_array)"
   ]
  },
  {
   "cell_type": "code",
   "execution_count": 19,
   "id": "e02a20db",
   "metadata": {},
   "outputs": [],
   "source": [
    "#dataframe for all?\n",
    "All_Cosine_Dict = {\n",
    "    \"Cosine_Aljazeera_BBC\" : [Cosine_Aljazeera_BBC],\n",
    "    \"Cosine_Aljazeera_Breitbart\" : [Cosine_Aljazeera_Breitbart],\n",
    "    \"Cosine_Aljazeera_CNN\" : [Cosine_Aljazeera_CNN],\n",
    "    \"Cosine_Aljazeera_fox\" : [Cosine_Aljazeera_fox],\n",
    "    \"Cosine_BBC_CNN\" : [Cosine_BBC_CNN],\n",
    "    \"Cosine_BBC_Fox\" : [Cosine_BBC_Fox],\n",
    "    \"Cosine_BBC_Breitbart\" : [Cosine_BBC_Breitbart],\n",
    "    \"Cosine_Breitbart_CNN\" : [Cosine_Breitbart_CNN],\n",
    "    \"Cosine_Breitbart_Fox\" : [Cosine_Breitbart_Fox],\n",
    "    \"Cosine_CNN_Fox\" : [Cosine_CNN_Fox],\n",
    "}"
   ]
  },
  {
   "cell_type": "code",
   "execution_count": 20,
   "id": "7c2eed52",
   "metadata": {},
   "outputs": [
    {
     "data": {
      "text/html": [
       "<div>\n",
       "<style scoped>\n",
       "    .dataframe tbody tr th:only-of-type {\n",
       "        vertical-align: middle;\n",
       "    }\n",
       "\n",
       "    .dataframe tbody tr th {\n",
       "        vertical-align: top;\n",
       "    }\n",
       "\n",
       "    .dataframe thead th {\n",
       "        text-align: right;\n",
       "    }\n",
       "</style>\n",
       "<table border=\"1\" class=\"dataframe\">\n",
       "  <thead>\n",
       "    <tr style=\"text-align: right;\">\n",
       "      <th></th>\n",
       "      <th>Cosine_Aljazeera_BBC</th>\n",
       "      <th>Cosine_Aljazeera_Breitbart</th>\n",
       "      <th>Cosine_Aljazeera_CNN</th>\n",
       "      <th>Cosine_Aljazeera_fox</th>\n",
       "      <th>Cosine_BBC_CNN</th>\n",
       "      <th>Cosine_BBC_Fox</th>\n",
       "      <th>Cosine_BBC_Breitbart</th>\n",
       "      <th>Cosine_Breitbart_CNN</th>\n",
       "      <th>Cosine_Breitbart_Fox</th>\n",
       "      <th>Cosine_CNN_Fox</th>\n",
       "      <th>Value</th>\n",
       "    </tr>\n",
       "  </thead>\n",
       "  <tbody>\n",
       "    <tr>\n",
       "      <th>0</th>\n",
       "      <td>0.679561</td>\n",
       "      <td>0.587747</td>\n",
       "      <td>0.53299</td>\n",
       "      <td>0.682478</td>\n",
       "      <td>0.502923</td>\n",
       "      <td>0.629768</td>\n",
       "      <td>0.583276</td>\n",
       "      <td>0.368376</td>\n",
       "      <td>0.548878</td>\n",
       "      <td>0.518818</td>\n",
       "      <td>Cosine</td>\n",
       "    </tr>\n",
       "  </tbody>\n",
       "</table>\n",
       "</div>"
      ],
      "text/plain": [
       "   Cosine_Aljazeera_BBC  Cosine_Aljazeera_Breitbart  Cosine_Aljazeera_CNN  \\\n",
       "0              0.679561                    0.587747               0.53299   \n",
       "\n",
       "   Cosine_Aljazeera_fox  Cosine_BBC_CNN  Cosine_BBC_Fox  Cosine_BBC_Breitbart  \\\n",
       "0              0.682478        0.502923        0.629768              0.583276   \n",
       "\n",
       "   Cosine_Breitbart_CNN  Cosine_Breitbart_Fox  Cosine_CNN_Fox   Value  \n",
       "0              0.368376              0.548878        0.518818  Cosine  "
      ]
     },
     "execution_count": 20,
     "metadata": {},
     "output_type": "execute_result"
    }
   ],
   "source": [
    "#convert dictionary to Dataframe\n",
    "All_Cosine_DF = pd.DataFrame(All_Cosine_Dict)\n",
    "\n",
    "#add row\n",
    "Value = ['Cosine']\n",
    "All_Cosine_DF['Value'] = Value\n",
    "\n",
    "#plot the dataframe\n",
    "All_Cosine_DF"
   ]
  },
  {
   "cell_type": "code",
   "execution_count": 21,
   "id": "d5276f6d",
   "metadata": {
    "scrolled": true
   },
   "outputs": [
    {
     "data": {
      "text/plain": [
       "<AxesSubplot:xlabel='Value'>"
      ]
     },
     "execution_count": 21,
     "metadata": {},
     "output_type": "execute_result"
    },
    {
     "data": {
      "image/png": "[encoded data removed]",
      "text/plain": [
       "<Figure size 1080x720 with 1 Axes>"
      ]
     },
     "metadata": {
      "needs_background": "light"
     },
     "output_type": "display_data"
    }
   ],
   "source": [
    "#plot each relationship\n",
    "All_Cosine_DF.plot(x='Value', y= ['Cosine_Aljazeera_BBC', 'Cosine_Aljazeera_Breitbart', \"Cosine_Aljazeera_CNN\", \"Cosine_Aljazeera_fox\", \"Cosine_BBC_CNN\", \"Cosine_BBC_Fox\", \"Cosine_BBC_Breitbart\", \"Cosine_Breitbart_CNN\", \"Cosine_Breitbart_Fox\", \"Cosine_CNN_Fox\"], kind='bar', figsize=(15,10))"
   ]
  },
  {
   "cell_type": "code",
   "execution_count": null,
   "id": "191898f8",
   "metadata": {},
   "outputs": [],
   "source": []
  },
  {
   "cell_type": "markdown",
   "id": "676017a0",
   "metadata": {},
   "source": [
    "### Only Removing Punctuation, Numbers"
   ]
  },
  {
   "cell_type": "code",
   "execution_count": 22,
   "id": "538cc54b",
   "metadata": {},
   "outputs": [
    {
     "name": "stdout",
     "output_type": "stream",
     "text": [
      "['turkey', 'istanbul', 'turkish', 'president', 'recep', 'tayyip', 'erdogan', 'has', 'said', 'the', 'murder', 'of', 'journalist', 'jamal', 'khashoggi', 'at', 'the', 'kingdoms', 'consulate', 'in', 'istanbul', 'was', 'planned', 'by', 'saudi', 'officials', 'days', 'in', 'advance', 'addressing', 'legislators', 'from', 'his', 'justice', 'and', 'development', 'party', 'ak', 'party', 'on', 'tuesday', 'erdogan', 'detailed', 'khashoggis', 'disappearance', 'and', 'murder', 'but', 'stopped', 'short', 'of', 'accusing', 'saudi', 'royals', 'of', 'the', 'savage', 'killing', 'that', 'has', 'caused', 'global', 'outrage', 'on', 'september', 'khashoggi', 'arrived', 'at', 'the', 'saudi', 'arabian', 'consulate', 'for', 'him', 'to', 'sort', 'out', 'his', 'wedding', 'paperwork', 'erdogan', 'said', 'during', 'the', 'speech', 'in', 'the', 'turkish', 'parliament', 'in', 'the', 'capital', 'ankara', 'it', 'seems', 'that', 'at', 'that', 'time', 'they', 'saudi', 'arabian', 'officials', 'started', 'to', 'plan', 'a', 'roadmap', 'for', 'his', 'murder', 'he', 'added', 'that', 'some', 'saudi', 'officials', 'left', 'turkey', 'and', 'travelled', 'to', 'saudi', 'arabia', 'indicating', 'they', 'planned', 'the', 'murder', 'khashoggi', 'a', 'washington', 'post', 'columnist', 'and', 'critic', 'of', 'the', 'powerful', 'saudi', 'crown', 'prince', 'mohammed', 'bin', 'salman', 'disappeared', 'after', 'entering', 'the', 'saudi', 'consulate', 'on', 'october', 'until', 'tuesdays', 'speech', 'erdogan', 'had', 'remained', 'largely', 'silent', 'on', 'the', 'case', 'although', 'unnamed', 'turkish', 'officials', 'have', 'leaked', 'information', 'about', 'the', 'murder', 'including', 'information', 'about', 'a', 'member', 'saudi', 'assassination', 'team', 'who', 'flew', 'into', 'istanbul', 'on', 'two', 'chartered', 'planes', 'in', 'the', 'wake', 'of', 'intense', 'global', 'pressure', 'saudi', 'arabia', 'admitted', 'last', 'week', 'that', 'khashoggi', 'was', 'killed', 'inside', 'its', 'istanbul', 'consulate', 'on', 'october', 'as', 'a', 'result', 'of', 'a', 'fistfight', 'during', 'an', 'interrogation', 'saudi', 'authorities', 'arrested', 'people', 'in', 'connection', 'with', 'the', 'killing', 'and', 'fired', 'top', 'security', 'officials', 'considered', 'close', 'to', 'bin', 'salman', 'erdogan', 'called', 'the', 'killing', 'a', 'political', 'murder', 'adding', 'that', 'international', 'investigators', 'should', 'be', 'included', 'in', 'the', 'probe', 'the', 'turkish', 'leader', 'went', 'on', 'to', 'call', 'the', 'killing', 'savage', 'adding', 'that', 'ankara', 'would', 'continue', 'its', 'investigation', 'until', 'all', 'questions', 'have', 'been', 'answered', 'why', 'did', 'they', 'the', 'saudi', 'team', 'come', 'to', 'istanbul', 'on', 'instruction', 'by', 'whom', 'erdogan', 'asked', 'adding', 'that', 'saudi', 'arabia', 'should', 'make', 'clear', 'why', 'it', 'did', 'not', 'let', 'investigators', 'into', 'the', 'consulate', 'until', 'days', 'later', 'where', 'is', 'the', 'body', 'galip', 'dalay', 'visiting', 'scholar', 'at', 'the', 'university', 'of', 'oxford', 'stressed', 'the', 'significance', 'of', 'erdogans', 'speech', 'the', 'most', 'important', 'thing', 'is', 'that', 'erdogan', 'confirmed', 'everything', 'we', 'sort', 'of', 'heard', 'through', 'other', 'channels', 'he', 'told', 'al', 'jazeera', 'however', 'now', 'its', 'no', 'longer', 'attributed', 'to', 'unnamed', 'turkish', 'officials', 'but', 'its', 'the', 'president', 'of', 'turkey', 'who', 'has', 'confirmed', 'what', 'has', 'happened', 'dalay', 'said', 'erdogan', 'also', 'demanded', 'answers', 'on', 'what', 'happened', 'to', 'khashoggis', 'body', 'mentioning', 'reports', 'that', 'a', 'local', 'cooperator', 'allegedly', 'disposed', 'of', 'it', 'where', 'is', 'the', 'body', 'there', 'are', 'claims', 'his', 'body', 'has', 'been', 'given', 'to', 'a', 'local', 'person', 'but', 'who', 'is', 'this', 'local', 'person', 'erdogan', 'asked', 'nobody', 'is', 'allowed', 'to', 'think', 'this', 'case', 'will', 'come', 'to', 'an', 'end', 'without', 'answering', 'all', 'these', 'questions', 'he', 'added', 'the', 'turkish', 'president', 'also', 'said', 'saudi', 'arabia', 'was', 'taking', 'the', 'right', 'steps', 'by', 'working', 'with', 'ankara', 'on', 'the', 'investigation', 'and', 'carrying', 'out', 'the', 'arrests', 'dalay', 'who', 'is', 'also', 'a', 'nonresident', 'fellow', 'at', 'brookings', 'institution', 'doha', 'underlined', 'erdogans', 'distinction', 'in', 'his', 'speech', 'between', 'king', 'salman', 'and', 'his', 'son', 'bin', 'salman', 'everything', 'that', 'erdogan', 'provided', 'pointed', 'towards', 'mbs', 'without', 'naming', 'the', 'crown', 'prince', 'specifically', 'said', 'dalay', 'adding', 'that', 'the', 'turkish', 'president', 'was', 'clearly', 'trying', 'to', 'prevent', 'a', 'fullblown', 'crisis', 'between', 'ankara', 'and', 'riyadh', 'on', 'sunday', 'speaking', 'in', 'an', 'exclusive', 'interview', 'with', 'fox', 'news', 'saudi', 'arabias', 'foreign', 'minister', 'adel', 'aljubeir', 'said', 'khashoggis', 'killing', 'inside', 'the', 'consulate', 'was', 'a', 'terrible', 'tragedy', 'and', 'that', 'mbs', 'had', 'nothing', 'to', 'do', 'with', 'it', 'taha', 'ozhan', 'research', 'director', 'at', 'the', 'ankara', 'institute', 'told', 'al', 'jazeera', 'that', 'he', 'thought', 'erdogan', 'was', 'taking', 'the', 'right', 'steps', 'the', 'saudis', 'know', 'very', 'well', 'what', 'turkey', 'knows', 'and', 'what', 'erdogan', 'has', 'been', 'doing', 'is', 'the', 'right', 'thing', 'namely', 'asking', 'the', 'saudis', 'for', 'full', 'cooperation', 'in', 'this', 'case']\n",
      "['recep', 'tayyip', 'erdogan', 'says', 'many', 'questions', 'need', 'to', 'be', 'answered', 'the', 'killing', 'of', 'journalist', 'jamal', 'khashoggi', 'was', 'planned', 'days', 'in', 'advance', 'turkish', 'president', 'recep', 'tayyip', 'erdogan', 'has', 'told', 'mps', 'from', 'his', 'ruling', 'party', 'he', 'said', 'turkey', 'had', 'strong', 'evidence', 'khashoggi', 'was', 'killed', 'in', 'a', 'premeditated', 'and', 'savage', 'murder', 'at', 'the', 'saudi', 'consulate', 'in', 'istanbul', 'on', 'october', 'he', 'also', 'called', 'for', 'the', 'suspects', 'to', 'be', 'tried', 'in', 'istanbul', 'he', 'demanded', 'saudi', 'arabia', 'provide', 'answers', 'about', 'where', 'khashoggis', 'body', 'was', 'and', 'who', 'had', 'ordered', 'the', 'operation', 'the', 'saudi', 'kingdom', 'has', 'provided', 'conflicting', 'accounts', 'of', 'what', 'happened', 'to', 'khashoggi', 'a', 'us', 'resident', 'and', 'washington', 'post', 'contributor', 'after', 'weeks', 'of', 'maintaining', 'he', 'was', 'still', 'alive', 'the', 'authorities', 'now', 'say', 'the', 'yearold', 'was', 'killed', 'in', 'a', 'rogue', 'operation', 'mr', 'erdogans', 'address', 'coincided', 'with', 'the', 'start', 'of', 'an', 'investment', 'conference', 'in', 'saudi', 'arabia', 'that', 'has', 'been', 'overshadowed', 'by', 'the', 'khashoggi', 'case', 'dozens', 'of', 'government', 'and', 'business', 'leaders', 'have', 'pulled', 'out', 'but', 'crown', 'prince', 'mohammed', 'bin', 'salman', 'appeared', 'at', 'the', 'event', 'on', 'tuesday', 'many', 'world', 'leaders', 'have', 'condemned', 'the', 'murder', 'of', 'the', 'prominent', 'saudi', 'critic', 'and', 'demanded', 'a', 'full', 'investigation', 'us', 'president', 'donald', 'trump', 'says', 'he', 'is', 'not', 'satisfied', 'with', 'the', 'saudi', 'explanation', 'but', 'he', 'has', 'also', 'highlighted', 'the', 'kingdoms', 'importance', 'as', 'a', 'us', 'ally', 'cia', 'director', 'gina', 'haspel', 'has', 'been', 'sent', 'to', 'turkey', 'to', 'review', 'the', 'matter', 'media', 'playback', 'is', 'unsupported', 'on', 'your', 'device', 'media', 'caption', 'why', 'do', 'trumps', 'saudi', 'job', 'numbers', 'keep', 'growing', 'what', 'did', 'the', 'turkish', 'president', 'say', 'happened', 'fifteen', 'saudi', 'nationals', 'mr', 'erdogan', 'said', 'arrived', 'in', 'istanbul', 'in', 'three', 'teams', 'on', 'separate', 'flights', 'in', 'the', 'days', 'and', 'hours', 'leading', 'up', 'to', 'the', 'murder', 'a', 'day', 'before', 'the', 'killing', 'he', 'said', 'some', 'members', 'from', 'the', 'group', 'travelled', 'to', 'belgrad', 'forest', 'near', 'the', 'consulate', 'an', 'area', 'searched', 'last', 'week', 'by', 'turkish', 'police', 'looking', 'for', 'the', 'body', 'he', 'also', 'described', 'how', 'the', 'team', 'had', 'removed', 'the', 'hard', 'drives', 'from', 'the', 'consulates', 'surveillance', 'camera', 'system', 'prior', 'to', 'the', 'arrival', 'of', 'khashoggi', 'who', 'was', 'visiting', 'to', 'obtain', 'documents', 'for', 'his', 'forthcoming', 'marriage', 'a', 'man', 'who', 'looked', 'like', 'khashoggi', 'wearing', 'his', 'outfit', 'glasses', 'and', 'a', 'fake', 'beard', 'was', 'among', 'a', 'group', 'who', 'left', 'the', 'consulate', 'the', 'same', 'day', 'as', 'the', 'killing', 'the', 'president', 'added', 'on', 'monday', 'cnn', 'broadcast', 'images', 'appearing', 'to', 'show', 'that', 'saudi', 'operative', 'leaving', 'the', 'consulate', 'media', 'playback', 'is', 'unsupported', 'on', 'your', 'device', 'media', 'caption', 'this', 'video', 'has', 'been', 'removed', 'for', 'rights', 'reasons', 'president', 'erdogan', 'confirmed', 'people', 'had', 'been', 'arrested', 'in', 'saudi', 'arabia', 'over', 'the', 'case', 'he', 'told', 'mps', 'from', 'his', 'ruling', 'ak', 'party', 'the', 'should', 'be', 'tried', 'in', 'istanbul', 'adding', 'that', 'all', 'those', 'who', 'played', 'a', 'role', 'in', 'the', 'murder', 'would', 'be', 'punished', 'what', 'did', 'he', 'say', 'about', 'the', 'saudis', 'mr', 'erdogan', 'called', 'for', 'an', 'independent', 'commission', 'to', 'be', 'set', 'up', 'but', 'said', 'he', 'was', 'confident', 'in', 'king', 'salmans', 'full', 'cooperation', 'he', 'did', 'not', 'mention', 'the', 'crown', 'prince', 'widely', 'seen', 'as', 'the', 'most', 'powerful', 'figure', 'in', 'the', 'kingdom', 'many', 'believe', 'he', 'ordered', 'the', 'killing', 'although', 'the', 'saudis', 'deny', 'this', 'bbc', 'security', 'correspondent', 'frank', 'gardner', 'says', 'mr', 'erdogans', 'speech', 'was', 'notable', 'as', 'much', 'for', 'what', 'it', 'left', 'out', 'as', 'for', 'what', 'it', 'left', 'in', 'there', 'was', 'no', 'mention', 'of', 'the', 'muchdiscussed', 'audio', 'tape', 'from', 'inside', 'the', 'saudi', 'consulate', 'which', 'turkish', 'media', 'say', 'reveals', 'gruesome', 'details', 'of', 'the', 'murder', 'trailed', 'as', 'something', 'that', 'would', 'expose', 'the', 'naked', 'truth', 'the', 'speech', 'fell', 'well', 'short', 'of', 'many', 'peoples', 'expectations', 'our', 'correspondent', 'says', 'where', 'do', 'the', 'saudis', 'stand', 'king', 'salman', 'chaired', 'a', 'cabinet', 'meeting', 'on', 'tuesday', 'after', 'which', 'a', 'statement', 'said', 'that', 'saudi', 'arabia', 'would', 'hold', 'to', 'account', 'those', 'responsible', 'for', 'the', 'killing', 'whoever', 'they', 'might', 'be', 'image', 'copyright', 'epa', 'image', 'caption', 'the', 'saudi', 'king', 'r', 'and', 'crown', 'prince', 'r', 'meet', 'khashoggis', 'son', 'salah', 'bin', 'jamal', 'l', 'and', 'another', 'family', 'member', 'in', 'riyadh', 'state', 'media', 'also', 'said', 'the', 'king', 'and', 'the', 'crown', 'prince', 'had', 'held', 'a', 'meeting', 'in', 'riyadh', 'with', 'members', 'of', 'the', 'khashoggi', 'family', 'including', 'khashoggis', 'son', 'salah', 'bin', 'jamal', 'mr', 'erdogan', 'also', 'spoke', 'to', 'family', 'members', 'by', 'phone', 'on', 'tuesday', 'offering', 'condolences', 'and', 'saying', 'he', 'would', 'do', 'all', 'he', 'could', 'to', 'solve', 'the', 'murder', 'saudi', 'arabia', 'has', 'given', 'conflicting', 'accounts', 'up', 'to', 'now', 'initially', 'saying', 'khashoggi', 'had', 'left', 'the', 'building', 'alive', 'then', 'later', 'saying', 'that', 'he', 'had', 'been', 'killed', 'in', 'a', 'fistfight', 'inside', 'the', 'consulate', 'on', 'sunday', 'the', 'saudi', 'foreign', 'minister', 'acknowledged', 'khashoggi', 'had', 'been', 'murdered', 'but', 'said', 'the', 'leadership', 'had', 'not', 'been', 'aware', 'of', 'the', 'rogue', 'operation', 'the', 'individuals', 'who', 'did', 'this', 'did', 'this', 'outside', 'the', 'scope', 'of', 'their', 'authority', 'foreign', 'minister', 'adel', 'aljubeir', 'told', 'fox', 'news', 'there', 'obviously', 'was', 'a', 'tremendous', 'mistake', 'made', 'and', 'what', 'compounded', 'the', 'mistake', 'was', 'the', 'attempt', 'to', 'try', 'to', 'cover', 'up', 'he', 'said', 'that', 'saudi', 'arabia', 'did', 'not', 'know', 'where', 'the', 'body', 'was', 'an', 'unnamed', 'saudi', 'official', 'told', 'reuters', 'news', 'agency', 'on', 'sunday', 'that', 'khashoggi', 'had', 'died', 'in', 'a', 'chokehold', 'after', 'resisting', 'attempts', 'to', 'return', 'him', 'to', 'saudi', 'arabia', 'his', 'body', 'was', 'then', 'rolled', 'in', 'a', 'rug', 'and', 'given', 'to', 'a', 'local', 'cooperator', 'to', 'dispose', 'of', 'media', 'playback', 'is', 'unsupported', 'on', 'your', 'device', 'media', 'caption', 'jamal', 'khashoggi', 'and', 'how', 'saudi', 'critics', 'keep', 'going', 'missing', 'president', 'erdogan', 'demanded', 'in', 'his', 'speech', 'on', 'tuesday', 'for', 'this', 'individuals', 'identity', 'to', 'be', 'revealed', 'in', 'addition', 'to', 'the', 'arrests', 'the', 'saudis', 'say', 'they', 'have', 'sacked', 'two', 'of', 'the', 'crown', 'princes', 'aides', 'and', 'set', 'up', 'an', 'organisation', 'under', 'his', 'leadership', 'to', 'reform', 'the', 'intelligence', 'agency', 'over', 'the', 'killing', 'according', 'to', 'reuters', 'news', 'agency', 'quoting', 'turkish', 'and', 'arabic', 'intelligence', 'sources', 'one', 'of', 'the', 'sacked', 'aides', 'appeared', 'via', 'skype', 'during', 'khashoggis', 'questioning', 'saud', 'alqahtani', 'was', 'quoted', 'as', 'giving', 'the', 'instructions', 'bring', 'me', 'the', 'head', 'of', 'the', 'dog', 'after', 'the', 'two', 'men', 'traded', 'insults', 'the', 'sources', 'say', 'president', 'erdogan', 'has', 'a', 'copy', 'of', 'the', 'skype', 'audio', 'but', 'is', 'refusing', 'to', 'hand', 'it', 'over', 'to', 'the', 'us', 'who', 'is', 'at', 'the', 'investment', 'conference', 'bbcs', 'sebastian', 'usher', 'in', 'riyadh', 'image', 'copyright', 'sebastian', 'usher', 'image', 'caption', 'a', 'media', 'scrum', 'as', 'crown', 'prince', 'mohammed', 'bin', 'salman', 'arrives', 'at', 'the', 'conference', 'theres', 'an', 'odd', 'mixture', 'of', 'unreality', 'and', 'hardfaced', 'pragmatism', 'here', 'attendees', 'say', 'theyre', 'here', 'to', 'stay', 'with', 'the', 'opportunities', 'saudi', 'arabia', 'provides', 'for', 'the', 'long', 'haul', 'however', 'much', 'pressure', 'may', 'be', 'building', 'in', 'the', 'short', 'term', 'but', 'that', 'means', 'that', 'the', 'urgency', 'and', 'outrage', 'over', 'the', 'killing', 'of', 'jamal', 'khashoggi', 'that', 'is', 'fuelling', 'the', 'news', 'outside', 'is', 'absent', 'here', 'as', 'president', 'erdogan', 'was', 'delivering', 'his', 'explosive', 'speech', 'the', 'conference', 'here', 'announced', 'bn', 'â£bn', 'of', 'investment', 'in', 'megadeals', 'the', 'contracts', 'were', 'signed', 'with', 'a', 'flourish', 'by', 'a', 'host', 'of', 'foreign', 'ceos', 'with', 'their', 'saudi', 'partners', 'to', 'the', 'applause', 'of', 'the', 'audience', 'it', 'was', 'no', 'doubt', 'intended', 'as', 'a', 'resounding', 'vote', 'of', 'confidence', 'in', 'the', 'vision', 'of', 'saudi', 'arabias', 'future', 'laid', 'out', 'by', 'crown', 'prince', 'mohammed', 'bin', 'salman', 'but', 'that', 'future', 'and', 'those', 'investments', 'could', 'still', 'turn', 'sour', 'despite', 'the', 'mood', 'of', 'optimism', 'and', 'selfapprobation', 'exhibited', 'here']\n",
      "['us', 'president', 'donald', 'trump', 'and', 'turkish', 'president', 'recep', 'tayyip', 'erdogan', 'both', 'pronounced', 'themselves', 'unsatisfied', 'with', 'the', 'answers', 'saudi', 'arabia', 'has', 'given', 'for', 'the', 'killing', 'of', 'journalist', 'jamal', 'khashoggi', 'at', 'the', 'saudi', 'embassy', 'in', 'istanbul', 'three', 'weeks', 'ago', 'both', 'said', 'the', 'saudis', 'must', 'be', 'more', 'forthcoming', 'about', 'who', 'ordered', 'the', 'operation', 'that', 'ended', 'with', 'khashoggi’s', 'death', 'followed', 'by', 'crude', 'efforts', 'to', 'create', 'an', 'alibi', 'and', 'dispose', 'of', 'his', 'body', 'erdogan', 'was', 'forceful', 'in', 'a', 'speech', 'to', 'his', 'akp', 'party', 'on', 'tuesday', 'although', 'he', 'came', 'up', 'short', 'of', 'accusing', 'saudi', 'king', 'salman', 'bin', 'abdulaziz', 'or', 'crown', 'prince', 'mohammed', 'bin', 'salman', 'of', 'direct', 'involvement', 'with', 'the', 'killing', 'it', 'is', 'clear', 'that', 'this', 'savage', 'murder', 'did', 'not', 'happen', 'instantly', 'but', 'was', 'planned', 'erdogan', 'declared', 'dismissing', 'the', 'saudi', 'story', 'about', 'khashoggi', 'accidentally', 'dying', 'in', 'a', 'fistfight', 'he', 'started', 'when', 'he', 'visited', 'the', 'istanbul', 'consulate', 'why', 'was', 'a', 'team', 'of', 'saudi', 'men', 'all', 'with', 'qualifications', 'related', 'to', 'the', 'incident', 'gathering', 'in', 'istanbul', 'on', 'the', 'day', 'of', 'the', 'murder', 'the', 'turkish', 'president', 'asked', 'we', 'are', 'seeking', 'answers', 'to', 'this', 'question', 'on', 'whose', 'orders', 'did', 'those', 'individuals', 'go', 'there', 'putting', 'all', 'the', 'burden', 'on', 'a', 'few', 'security', 'and', 'intelligence', 'members', 'would', 'satisfy', 'neither', 'us', 'nor', 'the', 'international', 'community', 'we', 'could', 'be', 'satisfied', 'only', 'if', 'everyone', 'from', 'the', 'one', 'giving', 'the', 'order', 'to', 'the', 'one', 'who', 'carried', 'it', 'out', 'are', 'called', 'to', 'account', 'he', 'insisted', 'erodgan', 'called', 'on', 'king', 'salman', 'to', 'support', 'a', 'turkish', 'investigation', 'of', 'the', 'killing', 'and', 'trials', 'in', 'turkish', 'court', 'arguing', 'the', 'istanbul', 'consulate', 'may', 'be', 'considered', 'saudi', 'arabian', 'land', 'but', 'it', 'rests', 'within', 'the', 'borders', 'of', 'turkey', 'he', 'also', 'demanded', 'the', 'saudis', 'reveal', 'the', 'name', 'of', 'the', 'local', 'cooperator', 'who', 'allegedly', 'disposed', 'of', 'khashoggi’s', 'remains', 'erdogan', 'very', 'conspicuously', 'praised', 'the', 'sincerity', 'of', 'the', 'custodian', 'of', 'the', 'two', 'holy', 'mosques', 'king', 'salman', 'bin', 'abdulaziz', 'but', 'avoided', 'either', 'praising', 'or', 'condemning', 'the', 'daytoday', 'ruler', 'of', 'the', 'country', 'crown', 'prince', 'mohammed', 'bin', 'salman', 'he', 'also', 'implied', 'there', 'might', 'be', 'a', 'partner', 'in', 'crime', 'in', 'other', 'countries', 'i', 'am', 'not', 'satisfied', 'with', 'what', 'i’ve', 'heard', 'president', 'trump', 'said', 'on', 'monday', 'from', 'the', 'white', 'house', 'i', 'don’t', 'want', 'to', 'lose', 'all', 'that', 'investment', 'that’s', 'been', 'made', 'in', 'our', 'country', 'but', 'we’re', 'going', 'to', 'get', 'to', 'the', 'bottom', 'of', 'it', 'trump', 'added', 'president', 'trump’s', 'soninlaw', 'jared', 'kushner', 'who', 'has', 'a', 'close', 'friendship', 'with', 'the', 'crown', 'prince', 'said', 'on', 'monday', 'he', 'has', 'urged', 'mbs', 'to', 'be', 'fully', 'transparent', 'the', 'world', 'is', 'watching', 'this', 'is', 'a', 'very', 'very', 'serious', 'accusation', 'and', 'a', 'very', 'serious', 'situation', 'he', 'said', 'the', 'washington', 'post', 'which', 'employed', 'khashoggi', 'as', 'a', 'contributor', 'on', 'saturday', 'returned', 'to', 'the', 'topic', 'of', 'the', 'muchdiscussed', 'turkish', 'surveillance', 'tape', 'of', 'khashoggi’s', 'murder', 'which', 'became', 'the', 'subject', 'of', 'a', 'media', 'scandal', 'last', 'week', 'when', 'the', 'us', 'state', 'department', 'and', 'secretary', 'of', 'state', 'mike', 'pompeo', 'strongly', 'refuted', 'turkish', 'media', 'claims', 'that', 'pompeo', 'has', 'listened', 'to', 'the', 'audio', 'according', 'to', 'the', 'post', 'the', 'audio', 'exists', 'and', 'anonymous', 'cia', 'officials', 'have', 'heard', 'it', 'but', 'they', 'have', 'not', 'yet', 'confirmed', 'its', 'authenticity', 'the', 'post', 'strongly', 'implied', 'the', 'audio', 'has', 'been', 'deliberately', 'withheld', 'from', 'pompeo', 'and', 'other', 'top', 'officials', 'so', 'they', 'will', 'not', 'be', 'placed', 'in', 'an', 'uncomfortable', 'diplomatic', 'situation', 'with', 'the', 'saudis']\n",
      "['saudi', 'officials', 'planned', 'the', 'savage', 'murder', 'of', 'saudi', 'writer', 'jamal', 'khashoggi', 'days', 'before', 'his', 'death', 'turkish', 'president', 'recep', 'tayyip', 'erdogan', 'said', 'tuesday', 'erdogan', 'revealed', 'the', 'details', 'of', 'the', 'country’s', 'investigation', 'into', 'khashoggi’s', 'killing', 'after', 'he', 'walked', 'into', 'the', 'saudi', 'consulate', 'in', 'istanbul', 'on', 'oct', 'contradicting', 'saudi', 'arabia’s', 'explanation', 'that', 'the', 'writer', 'was', 'killed', 'in', 'a', 'fistfight', 'erdogan', 'fell', 'short', 'of', 'blaming', 'saudi', 'crown', 'prince', 'mohammed', 'bin', 'salman', 'and', 'made', 'no', 'mention', 'of', 'whether', 'a', 'tape', 'exists', 'of', 'khashoggis', 'killing', 'however', 'he', 'kept', 'the', 'pressure', 'on', 'the', 'kingdom', 'with', 'his', 'demands', 'for', 'punishment', 'of', 'all', 'the', 'people', 'involved', 'in', 'the', 'murder', 'all', 'evidence', 'gathered', 'shows', 'that', 'jamal', 'khashoggi', 'was', 'the', 'victim', 'of', 'a', 'savage', 'murder', 'to', 'cover', 'up', 'such', 'a', 'savagery', 'would', 'hurt', 'the', 'human', 'conscience', 'he', 'said', 'erdogan', 'said', 'he', 'wanted', 'saudi', 'arabia', 'to', 'allow', 'the', 'suspects', 'detained', 'in', 'the', 'columnist’s', 'killing', 'to', 'be', 'tried', 'in', 'turkish', 'courts', 'to', 'blame', 'such', 'an', 'incident', 'on', 'a', 'handful', 'of', 'security', 'and', 'intelligence', 'members', 'would', 'not', 'satisfy', 'us', 'or', 'the', 'international', 'community', 'erdogan', 'said', 'saudi', 'arabia', 'has', 'taken', 'an', 'important', 'step', 'by', 'admitting', 'the', 'murder', 'as', 'of', 'now', 'we', 'expect', 'of', 'them', 'to', 'openly', 'bring', 'to', 'light', 'those', 'responsible', '—', 'from', 'the', 'highest', 'ranked', 'to', 'the', 'lowest', '—', 'and', 'to', 'bring', 'them', 'to', 'justice', 'erdogan', 'laid', 'out', 'a', 'timeline', 'of', 'the', 'events', 'before', 'and', 'after', 'khashoggi’s', 'death', 'including', 'the', 'use', 'of', 'a', 'body', 'double', 'as', 'a', 'decoy', 'three', 'people', 'flew', 'from', 'riyadh', 'to', 'istanbul', 'at', 'around', 'pm', 'local', 'time', 'on', 'oct', 'and', 'went', 'to', 'the', 'hotel', 'and', 'later', 'to', 'the', 'saudi', 'consulate', 'erdogan', 'said', 'according', 'to', 'sky', 'news', 'another', 'team', 'went', 'from', 'the', 'consulate', 'to', 'belgrave', 'woods', 'and', 'yelova', 'near', 'the', 'consulate', 'to', 'scout', 'the', 'area', 'he', 'said', 'the', 'next', 'day', 'erdogan', 'said', 'a', 'team', 'of', 'about', 'saudis', 'met', 'at', 'the', 'consulate', 'between', 'am', 'and', 'am', 'he', 'said', 'the', 'team', 'took', 'out', 'the', 'hard', 'disc', 'from', 'the', 'consulate’s', 'cctv', 'and', 'called', 'khashoggi', 'to', 'let', 'him', 'know', 'he', 'had', 'a', 'meeting', 'at', 'the', 'consulate', 'later', 'in', 'the', 'day', 'all', 'evidence', 'gathered', 'shows', 'that', 'jamal', 'khashoggi', 'was', 'the', 'victim', 'of', 'a', 'savage', 'murder', '—', 'turkish', 'president', 'erdogan', 'khashoggi', 'arrived', 'at', 'the', 'consulate', 'at', 'around', 'pm', 'local', 'time', 'and', 'was', 'never', 'seen', 'again', 'erdogan', 'said', 'almost', 'five', 'hours', 'later', 'khashoggi’s', 'fiancé', 'alerted', 'authorities', 'that', 'he', 'had', 'been', 'detained', 'or', 'worse', 'in', 'his', 'speech', 'erdogan', 'suggested', 'khashoggi', 'was', 'the', 'victim', 'of', 'a', 'gruesome', 'murder', 'and', 'said', 'there', 'could', 'be', 'no', 'coverup', 'i', 'do', 'not', 'doubt', 'the', 'sincerity', 'of', 'king', 'salman', 'that', 'being', 'said', 'independent', 'investigation', 'needs', 'to', 'be', 'carried', 'out', 'this', 'is', 'a', 'political', 'killing', 'erdogan', 'said', 'adding', 'khashoggi’s', 'death', 'was', 'meticulously', 'planned', 'erdogan', 'also', 'noted', 'he', 'spoke', 'with', 'president', 'trump', 'about', 'the', 'killing', 'but', 'didn’t', 'reveal', 'details', 'about', 'their', 'conversation', 'trump', 'said', 'monday', 'he', 'wasn’t', 'satisfied', 'with', 'the', 'explanations', 'he’s', 'heard', 'about', 'the', 'killing', 'of', 'khashoggi', 'and', 'was', 'waiting', 'for', 'reports', 'from', 'us', 'officials', 'returning', 'from', 'the', 'region', 'were', 'going', 'to', 'get', 'to', 'the', 'bottom', 'of', 'it', 'we', 'have', 'people', 'over', 'in', 'saudi', 'arabia', 'now', 'we', 'have', 'top', 'intelligence', 'people', 'in', 'turkey', 'theyre', 'coming', 'back', 'either', 'tonight', 'or', 'tomorrow', 'trump', 'told', 'the', 'media', 'before', 'leaving', 'a', 'rally', 'in', 'texas', 'fox', 'news’', 'greg', 'palkot', 'and', 'the', 'associated', 'press', 'contributed', 'to', 'this', 'report']\n",
      "['istanbul', 'turkey', 'cnn', 'jamal', 'khashoggi', 'died', 'as', 'a', 'result', 'of', 'a', 'brutal', 'premeditated', 'murder', 'turkeys', 'president', 'recep', 'tayyip', 'erdogan', 'said', 'on', 'tuesday', 'in', 'a', 'highly', 'anticipated', 'speech', 'in', 'which', 'he', 'soundly', 'rejected', 'saudi', 'arabias', 'claim', 'that', 'the', 'journalist', 'was', 'killed', 'accidentallyerdogan', 'questioned', 'whether', 'riyadh', 'was', 'able', 'to', 'carry', 'out', 'an', 'independent', 'investigation', 'in', 'to', 'the', 'death', 'of', 'the', 'washington', 'post', 'journalist', 'and', 'he', 'demanded', 'that', 'the', 'suspects', 'arrested', 'by', 'authorities', 'in', 'saudi', 'arabia', 'be', 'extradited', 'to', 'turkey', 'to', 'stand', 'trial', 'in', 'istanbulit', 'was', 'the', 'first', 'time', 'that', 'any', 'official', 'in', 'turkey', 'has', 'publicly', 'outlined', 'the', 'turkish', 'contention', 'that', 'khashoggi', 'was', 'killed', 'at', 'saudi', 'arabias', 'consulate', 'in', 'istanbul', 'by', 'a', 'hit', 'squad', 'sent', 'from', 'riyadh', 'while', 'erdogan', 'did', 'not', 'offer', 'any', 'bombshell', 'revelations', 'his', 'speech', 'amounted', 'to', 'a', 'comprehensive', 'rejection', 'of', 'saudi', 'arabias', 'case', 'that', 'khashoggi', 'died', 'by', 'accident', 'as', 'a', 'result', 'of', 'a', 'brawlpeople', 'gather', 'around', 'a', 'tv', 'at', 'an', 'istanbul', 'cafe', 'to', 'watch', 'erdogans', 'speechthe', 'information', 'obtained', 'so', 'far', 'and', 'the', 'evidence', 'found', 'shows', 'that', 'khashoggi', 'was', 'murdered', 'in', 'a', 'ferocious', 'manner', 'erdogan', 'told', 'lawmakers', 'in', 'the', 'turkish', 'capital', 'ankaraamong', 'the', 'new', 'details', 'revealed', 'by', 'erdogan', 'was', 'an', 'allegation', 'that', 'on', 'the', 'day', 'before', 'khashoggi', 'was', 'killed', 'a', 'team', 'of', 'consular', 'staff', 'carried', 'out', 'a', 'reconnaissance', 'mission', 'in', 'a', 'forest', 'on', 'the', 'outskirts', 'of', 'istanbul', 'and', 'at', 'yalova', 'a', 'city', 'about', 'a', 'mile', 'kilometer', 'drive', 'south', 'erdogan', 'did', 'not', 'say', 'why', 'the', 'locations', 'were', 'scouted', 'but', 'he', 'noted', 'later', 'that', 'khashoggis', 'body', 'has', 'yet', 'to', 'be', 'foundread', 'more']\n"
     ]
    }
   ],
   "source": [
    "def tokenize1(text=None):\n",
    "    '''\n",
    "    clean the strings: replace punctuation and numbers\n",
    "    '''\n",
    "    text = text.lower()\n",
    "    text = text.replace('.','')\n",
    "    text = text.replace(')','')\n",
    "    text = text.replace('(','')\n",
    "    text = text.replace('\"','')\n",
    "    text = text.replace('\"','')\n",
    "    text = text.replace(\"”\", \"\")\n",
    "    text = text.replace(\"“\", \"\")\n",
    "    text = text.replace('[','')\n",
    "    text = text.replace(\",\", \"\")\n",
    "    text = text.replace(']','')\n",
    "    text = text.replace('/','')\n",
    "    text = text.replace('\\'','')\n",
    "    text = text.replace('.','')\n",
    "    text = text.replace('!','')\n",
    "    text = text.replace('?','')\n",
    "    text = text.replace(\"$\", \"\")\n",
    "    text = text.replace('-','')\n",
    "    text = text.replace('','')\n",
    "    text = text.replace(':','')\n",
    "    text = text.replace('0','')\n",
    "    text = text.replace('1','')\n",
    "    text = text.replace('2','')\n",
    "    text = text.replace('3','')\n",
    "    text = text.replace('4','')\n",
    "    text = text.replace('5','')\n",
    "    text = text.replace('6','')\n",
    "    text = text.replace('7','')\n",
    "    text = text.replace('8','')\n",
    "    text = text.replace('9','')\n",
    "    text_list = text.split()\n",
    "    return text_list\n",
    "\n",
    "print(tokenize1(docs[0]))\n",
    "print(tokenize1(docs[1]))\n",
    "print(tokenize1(docs[2]))\n",
    "print(tokenize1(docs[3]))\n",
    "print(tokenize1(docs[4]))"
   ]
  },
  {
   "cell_type": "code",
   "execution_count": 23,
   "id": "070ed981",
   "metadata": {},
   "outputs": [],
   "source": [
    "def convert_text_to_dtm1(txt):\n",
    "    '''\n",
    "    Converts text into a document term matrix.\n",
    "    '''\n",
    "    d = dict()\n",
    "    for word in tokenize1(txt):\n",
    "        if word in d:\n",
    "            d[word][0] += 1\n",
    "        else:\n",
    "            d[word] = [1]\n",
    "    return pd.DataFrame(d)"
   ]
  },
  {
   "cell_type": "code",
   "execution_count": 24,
   "id": "558075fa",
   "metadata": {},
   "outputs": [],
   "source": [
    "def gen_DTM1(texts=None):\n",
    "    '''\n",
    "    Generate a document term matrix\n",
    "    '''\n",
    "    DTM = pd.DataFrame()\n",
    "    for text in texts:\n",
    "        entry = convert_text_to_dtm1(text)\n",
    "        DTM = DTM.append(pd.DataFrame(entry),ignore_index=True,sort=True) # Row bind\n",
    "    \n",
    "    DTM.fillna(0, inplace=True) # Fill in any missing values with 0s (i.e. when a word is in one text but not another)\n",
    "    return DTM"
   ]
  },
  {
   "cell_type": "code",
   "execution_count": 25,
   "id": "846abff3",
   "metadata": {},
   "outputs": [],
   "source": [
    "#create arrays for each source\n",
    "DF1 = gen_DTM1(docs)\n",
    "alj_array1= DF1.iloc[0].values\n",
    "BBC_array1= DF1.iloc[1].values\n",
    "breitbart_array1= DF1.iloc[2].values\n",
    "fox_array1= DF1.iloc[3].values\n",
    "cnn_array1= DF1.iloc[4].values"
   ]
  },
  {
   "cell_type": "code",
   "execution_count": 26,
   "id": "2490d848",
   "metadata": {},
   "outputs": [
    {
     "data": {
      "text/html": [
       "<div>\n",
       "<style scoped>\n",
       "    .dataframe tbody tr th:only-of-type {\n",
       "        vertical-align: middle;\n",
       "    }\n",
       "\n",
       "    .dataframe tbody tr th {\n",
       "        vertical-align: top;\n",
       "    }\n",
       "\n",
       "    .dataframe thead th {\n",
       "        text-align: right;\n",
       "    }\n",
       "</style>\n",
       "<table border=\"1\" class=\"dataframe\">\n",
       "  <thead>\n",
       "    <tr style=\"text-align: right;\">\n",
       "      <th></th>\n",
       "      <th>a</th>\n",
       "      <th>abdulaziz</th>\n",
       "      <th>able</th>\n",
       "      <th>about</th>\n",
       "      <th>absent</th>\n",
       "      <th>accident</th>\n",
       "      <th>accidentally</th>\n",
       "      <th>accidentallyerdogan</th>\n",
       "      <th>according</th>\n",
       "      <th>account</th>\n",
       "      <th>...</th>\n",
       "      <th>worse</th>\n",
       "      <th>would</th>\n",
       "      <th>writer</th>\n",
       "      <th>yalova</th>\n",
       "      <th>yearold</th>\n",
       "      <th>yelova</th>\n",
       "      <th>yet</th>\n",
       "      <th>your</th>\n",
       "      <th>â£bn</th>\n",
       "      <th>—</th>\n",
       "    </tr>\n",
       "  </thead>\n",
       "  <tbody>\n",
       "    <tr>\n",
       "      <th>0</th>\n",
       "      <td>11</td>\n",
       "      <td>0.0</td>\n",
       "      <td>0.0</td>\n",
       "      <td>2</td>\n",
       "      <td>0.0</td>\n",
       "      <td>0.0</td>\n",
       "      <td>0.0</td>\n",
       "      <td>0.0</td>\n",
       "      <td>0.0</td>\n",
       "      <td>0.0</td>\n",
       "      <td>...</td>\n",
       "      <td>0.0</td>\n",
       "      <td>1.0</td>\n",
       "      <td>0.0</td>\n",
       "      <td>0.0</td>\n",
       "      <td>0.0</td>\n",
       "      <td>0.0</td>\n",
       "      <td>0.0</td>\n",
       "      <td>0.0</td>\n",
       "      <td>0.0</td>\n",
       "      <td>0.0</td>\n",
       "    </tr>\n",
       "    <tr>\n",
       "      <th>1</th>\n",
       "      <td>23</td>\n",
       "      <td>0.0</td>\n",
       "      <td>0.0</td>\n",
       "      <td>2</td>\n",
       "      <td>1.0</td>\n",
       "      <td>0.0</td>\n",
       "      <td>0.0</td>\n",
       "      <td>0.0</td>\n",
       "      <td>1.0</td>\n",
       "      <td>1.0</td>\n",
       "      <td>...</td>\n",
       "      <td>0.0</td>\n",
       "      <td>4.0</td>\n",
       "      <td>0.0</td>\n",
       "      <td>0.0</td>\n",
       "      <td>1.0</td>\n",
       "      <td>0.0</td>\n",
       "      <td>0.0</td>\n",
       "      <td>3.0</td>\n",
       "      <td>1.0</td>\n",
       "      <td>0.0</td>\n",
       "    </tr>\n",
       "    <tr>\n",
       "      <th>2</th>\n",
       "      <td>11</td>\n",
       "      <td>2.0</td>\n",
       "      <td>0.0</td>\n",
       "      <td>2</td>\n",
       "      <td>0.0</td>\n",
       "      <td>0.0</td>\n",
       "      <td>1.0</td>\n",
       "      <td>0.0</td>\n",
       "      <td>1.0</td>\n",
       "      <td>1.0</td>\n",
       "      <td>...</td>\n",
       "      <td>0.0</td>\n",
       "      <td>1.0</td>\n",
       "      <td>0.0</td>\n",
       "      <td>0.0</td>\n",
       "      <td>0.0</td>\n",
       "      <td>0.0</td>\n",
       "      <td>1.0</td>\n",
       "      <td>0.0</td>\n",
       "      <td>0.0</td>\n",
       "      <td>0.0</td>\n",
       "    </tr>\n",
       "    <tr>\n",
       "      <th>3</th>\n",
       "      <td>14</td>\n",
       "      <td>0.0</td>\n",
       "      <td>0.0</td>\n",
       "      <td>4</td>\n",
       "      <td>0.0</td>\n",
       "      <td>0.0</td>\n",
       "      <td>0.0</td>\n",
       "      <td>0.0</td>\n",
       "      <td>1.0</td>\n",
       "      <td>0.0</td>\n",
       "      <td>...</td>\n",
       "      <td>1.0</td>\n",
       "      <td>2.0</td>\n",
       "      <td>2.0</td>\n",
       "      <td>0.0</td>\n",
       "      <td>0.0</td>\n",
       "      <td>1.0</td>\n",
       "      <td>0.0</td>\n",
       "      <td>0.0</td>\n",
       "      <td>0.0</td>\n",
       "      <td>3.0</td>\n",
       "    </tr>\n",
       "    <tr>\n",
       "      <th>4</th>\n",
       "      <td>14</td>\n",
       "      <td>0.0</td>\n",
       "      <td>1.0</td>\n",
       "      <td>1</td>\n",
       "      <td>0.0</td>\n",
       "      <td>1.0</td>\n",
       "      <td>0.0</td>\n",
       "      <td>1.0</td>\n",
       "      <td>0.0</td>\n",
       "      <td>0.0</td>\n",
       "      <td>...</td>\n",
       "      <td>0.0</td>\n",
       "      <td>0.0</td>\n",
       "      <td>0.0</td>\n",
       "      <td>1.0</td>\n",
       "      <td>0.0</td>\n",
       "      <td>0.0</td>\n",
       "      <td>1.0</td>\n",
       "      <td>0.0</td>\n",
       "      <td>0.0</td>\n",
       "      <td>0.0</td>\n",
       "    </tr>\n",
       "  </tbody>\n",
       "</table>\n",
       "<p>5 rows × 878 columns</p>\n",
       "</div>"
      ],
      "text/plain": [
       "    a  abdulaziz  able  about  absent  accident  accidentally  \\\n",
       "0  11        0.0   0.0      2     0.0       0.0           0.0   \n",
       "1  23        0.0   0.0      2     1.0       0.0           0.0   \n",
       "2  11        2.0   0.0      2     0.0       0.0           1.0   \n",
       "3  14        0.0   0.0      4     0.0       0.0           0.0   \n",
       "4  14        0.0   1.0      1     0.0       1.0           0.0   \n",
       "\n",
       "   accidentallyerdogan  according  account  ...  worse  would  writer  yalova  \\\n",
       "0                  0.0        0.0      0.0  ...    0.0    1.0     0.0     0.0   \n",
       "1                  0.0        1.0      1.0  ...    0.0    4.0     0.0     0.0   \n",
       "2                  0.0        1.0      1.0  ...    0.0    1.0     0.0     0.0   \n",
       "3                  0.0        1.0      0.0  ...    1.0    2.0     2.0     0.0   \n",
       "4                  1.0        0.0      0.0  ...    0.0    0.0     0.0     1.0   \n",
       "\n",
       "   yearold  yelova  yet  your  â£bn    —  \n",
       "0      0.0     0.0  0.0   0.0   0.0  0.0  \n",
       "1      1.0     0.0  0.0   3.0   1.0  0.0  \n",
       "2      0.0     0.0  1.0   0.0   0.0  0.0  \n",
       "3      0.0     1.0  0.0   0.0   0.0  3.0  \n",
       "4      0.0     0.0  1.0   0.0   0.0  0.0  \n",
       "\n",
       "[5 rows x 878 columns]"
      ]
     },
     "execution_count": 26,
     "metadata": {},
     "output_type": "execute_result"
    }
   ],
   "source": [
    "DF1"
   ]
  },
  {
   "cell_type": "code",
   "execution_count": 27,
   "id": "1797572f",
   "metadata": {},
   "outputs": [],
   "source": [
    "#Cosine combos for Aljazeera\n",
    "Cosine_Aljazeera_BBC1 = cosine_func(alj_array1, BBC_array1)\n",
    "Cosine_Aljazeera_Breitbart1 = cosine_func(alj_array1, breitbart_array1)\n",
    "Cosine_Aljazeera_CNN1 = cosine_func(alj_array1, cnn_array1)\n",
    "Cosine_Aljazeera_fox1 = cosine_func(alj_array1, fox_array1)"
   ]
  },
  {
   "cell_type": "code",
   "execution_count": 28,
   "id": "9a2e67d3",
   "metadata": {},
   "outputs": [],
   "source": [
    "#Cosine combos for BBC\n",
    "Cosine_BBC_CNN1 = cosine_func(BBC_array1, cnn_array1)\n",
    "Cosine_BBC_Fox1 = cosine_func(BBC_array1, fox_array1)\n",
    "Cosine_BBC_Breitbart1 = cosine_func(BBC_array1, breitbart_array1)"
   ]
  },
  {
   "cell_type": "code",
   "execution_count": 29,
   "id": "c765753d",
   "metadata": {},
   "outputs": [],
   "source": [
    "#Cosine combos for Breitart\n",
    "Cosine_Breitbart_CNN1 = cosine_func(breitbart_array1, cnn_array1)\n",
    "Cosine_Breitbart_Fox1 = cosine_func(breitbart_array1, fox_array1)"
   ]
  },
  {
   "cell_type": "code",
   "execution_count": 30,
   "id": "2b7f55e4",
   "metadata": {},
   "outputs": [],
   "source": [
    "#Cosine combos for CNN\n",
    "Cosine_CNN_Fox1 = cosine_func(cnn_array1, fox_array1)"
   ]
  },
  {
   "cell_type": "code",
   "execution_count": 31,
   "id": "f50adfa9",
   "metadata": {},
   "outputs": [],
   "source": [
    "All_Cosine_Dict1 = {\n",
    "    \"Cosine_Aljazeera_BBC1\" : [Cosine_Aljazeera_BBC1],\n",
    "    \"Cosine_Aljazeera_Breitbart1\" : [Cosine_Aljazeera_Breitbart1],\n",
    "    \"Cosine_Aljazeera_CNN1\" : [Cosine_Aljazeera_CNN1],\n",
    "    \"Cosine_Aljazeera_fox1\" : [Cosine_Aljazeera_fox1],\n",
    "    \"Cosine_BBC_CNN1\" : [Cosine_BBC_CNN1],\n",
    "    \"Cosine_BBC_Fox1\" : [Cosine_BBC_Fox1],\n",
    "    \"Cosine_BBC_Breitbart1\" : [Cosine_BBC_Breitbart1],\n",
    "    \"Cosine_Breitbart_CNN1\" : [Cosine_Breitbart_CNN1],\n",
    "    \"Cosine_Breitbart_Fox1\" : [Cosine_Breitbart_Fox1],\n",
    "    \"Cosine_CNN_Fox1\" : [Cosine_CNN_Fox1],\n",
    "}"
   ]
  },
  {
   "cell_type": "code",
   "execution_count": 32,
   "id": "11da6f11",
   "metadata": {},
   "outputs": [
    {
     "data": {
      "text/html": [
       "<div>\n",
       "<style scoped>\n",
       "    .dataframe tbody tr th:only-of-type {\n",
       "        vertical-align: middle;\n",
       "    }\n",
       "\n",
       "    .dataframe tbody tr th {\n",
       "        vertical-align: top;\n",
       "    }\n",
       "\n",
       "    .dataframe thead th {\n",
       "        text-align: right;\n",
       "    }\n",
       "</style>\n",
       "<table border=\"1\" class=\"dataframe\">\n",
       "  <thead>\n",
       "    <tr style=\"text-align: right;\">\n",
       "      <th></th>\n",
       "      <th>Cosine_Aljazeera_BBC1</th>\n",
       "      <th>Cosine_Aljazeera_Breitbart1</th>\n",
       "      <th>Cosine_Aljazeera_CNN1</th>\n",
       "      <th>Cosine_Aljazeera_fox1</th>\n",
       "      <th>Cosine_BBC_CNN1</th>\n",
       "      <th>Cosine_BBC_Fox1</th>\n",
       "      <th>Cosine_BBC_Breitbart1</th>\n",
       "      <th>Cosine_Breitbart_CNN1</th>\n",
       "      <th>Cosine_Breitbart_Fox1</th>\n",
       "      <th>Cosine_CNN_Fox1</th>\n",
       "      <th>Value</th>\n",
       "    </tr>\n",
       "  </thead>\n",
       "  <tbody>\n",
       "    <tr>\n",
       "      <th>0</th>\n",
       "      <td>0.871053</td>\n",
       "      <td>0.837733</td>\n",
       "      <td>0.734947</td>\n",
       "      <td>0.842531</td>\n",
       "      <td>0.744003</td>\n",
       "      <td>0.887269</td>\n",
       "      <td>0.897211</td>\n",
       "      <td>0.679386</td>\n",
       "      <td>0.867841</td>\n",
       "      <td>0.737182</td>\n",
       "      <td>Cosine</td>\n",
       "    </tr>\n",
       "  </tbody>\n",
       "</table>\n",
       "</div>"
      ],
      "text/plain": [
       "   Cosine_Aljazeera_BBC1  Cosine_Aljazeera_Breitbart1  Cosine_Aljazeera_CNN1  \\\n",
       "0               0.871053                     0.837733               0.734947   \n",
       "\n",
       "   Cosine_Aljazeera_fox1  Cosine_BBC_CNN1  Cosine_BBC_Fox1  \\\n",
       "0               0.842531         0.744003         0.887269   \n",
       "\n",
       "   Cosine_BBC_Breitbart1  Cosine_Breitbart_CNN1  Cosine_Breitbart_Fox1  \\\n",
       "0               0.897211               0.679386               0.867841   \n",
       "\n",
       "   Cosine_CNN_Fox1   Value  \n",
       "0         0.737182  Cosine  "
      ]
     },
     "execution_count": 32,
     "metadata": {},
     "output_type": "execute_result"
    }
   ],
   "source": [
    "#convert dictionary to Dataframe\n",
    "All_Cosine_DF_Including_SW = pd.DataFrame(All_Cosine_Dict1)\n",
    "\n",
    "#add row\n",
    "Value = ['Cosine']\n",
    "All_Cosine_DF_Including_SW['Value'] = Value\n",
    "\n",
    "#plot the dataframe\n",
    "All_Cosine_DF_Including_SW"
   ]
  },
  {
   "cell_type": "code",
   "execution_count": 33,
   "id": "e7327589",
   "metadata": {},
   "outputs": [
    {
     "data": {
      "text/plain": [
       "<AxesSubplot:xlabel='Value'>"
      ]
     },
     "execution_count": 33,
     "metadata": {},
     "output_type": "execute_result"
    },
    {
     "data": {
      "image/png": "[encoded data removed]",
      "text/plain": [
       "<Figure size 1080x720 with 1 Axes>"
      ]
     },
     "metadata": {
      "needs_background": "light"
     },
     "output_type": "display_data"
    }
   ],
   "source": [
    "#plot each relationship\n",
    "All_Cosine_DF_Including_SW.plot(x='Value', y= ['Cosine_Aljazeera_BBC1', 'Cosine_Aljazeera_Breitbart1', \"Cosine_Aljazeera_CNN1\", \"Cosine_Aljazeera_fox1\", \"Cosine_BBC_CNN1\", \"Cosine_BBC_Fox1\", \"Cosine_BBC_Breitbart1\", \"Cosine_Breitbart_CNN1\", \"Cosine_Breitbart_Fox1\", \"Cosine_CNN_Fox1\"], kind='bar', figsize=(15,10))"
   ]
  },
  {
   "cell_type": "code",
   "execution_count": null,
   "id": "cacb3290",
   "metadata": {},
   "outputs": [],
   "source": []
  },
  {
   "cell_type": "markdown",
   "id": "aa7758f1",
   "metadata": {},
   "source": [
    "### Write-up:"
   ]
  },
  {
   "cell_type": "markdown",
   "id": "7290cb25",
   "metadata": {},
   "source": [
    "After removing stop-words, punctuation, and numbers, the five articles still present the information through roughly similar language. The largest exception to this pattern is the relationship betwen Breitbart and CNN, which score a cosine similarity score of roughly .37. In contrast, the two strongest relationships were between Aljazeera and BBC, and Aljazeera and Fox. \n",
    "\n",
    "Altogether, this tells us that when stop-words, punctuation, and numbers are removed, Aljazeera/BBC and Aljazeera/Fox wrote most similar to one another with regard to the Kashoggi scandal. On the flipside, Breitbart/CNN wrote in the least similar manner. \n",
    "\n",
    "When only punctuation and numbers were removed, all relationships become significantly stronger. However, the new groupings maintain an ordinal relationship to the original. Specifically, while Breitbart and CNN now appear significantly more similar, the relationship maintains the lowest cosine similarity score. Further, the inclusion of stop-words artificially inflates each relationship."
   ]
  }
 ],
 "metadata": {
  "kernelspec": {
   "display_name": "Python 3",
   "language": "python",
   "name": "python3"
  },
  "language_info": {
   "codemirror_mode": {
    "name": "ipython",
    "version": 3
   },
   "file_extension": ".py",
   "mimetype": "text/x-python",
   "name": "python",
   "nbconvert_exporter": "python",
   "pygments_lexer": "ipython3",
   "version": "3.8.8"
  }
 },
 "nbformat": 4,
 "nbformat_minor": 5
}
