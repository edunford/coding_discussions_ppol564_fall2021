{
 "cells": [
  {
   "cell_type": "raw",
   "id": "21ae9f6a",
   "metadata": {},
   "source": [
    "peijin"
   ]
  },
  {
   "cell_type": "code",
   "execution_count": 1,
   "id": "06d028ab",
   "metadata": {},
   "outputs": [],
   "source": [
    "#Import packages\n",
    "import sys\n",
    "import numpy as np\n",
    "import pandas as pd\n",
    "import string \n",
    "##loading stopwords \n",
    "stopwords = pd.read_csv('stop_words.csv')['word'].tolist()"
   ]
  },
  {
   "cell_type": "code",
   "execution_count": 2,
   "id": "2e146f81",
   "metadata": {},
   "outputs": [],
   "source": [
    "with open('aljazeera-khashoggi.txt',encoding = 'utf-8',errors='ignore') as f:##read in the data \n",
    "    aljazeera = f.read()\n",
    "with open('bbc-khashoggi.txt',encoding = 'utf-8',errors='ignore') as f:\n",
    "    bbc = f.read()\n",
    "with open('breitbart-khashoggi.txt',encoding = 'utf-8',errors='ignore') as f:\n",
    "    breitbart = f.read()\n",
    "with open('cnn-khashoggi.txt',encoding = 'utf-8',errors='ignore') as f:\n",
    "    cnn = f.read()\n",
    "with open('fox-khashoggi.txt',encoding = 'utf-8',errors='ignore') as f:\n",
    "    fox = f.read()"
   ]
  },
  {
   "cell_type": "code",
   "execution_count": 18,
   "id": "eaf79e6e",
   "metadata": {},
   "outputs": [],
   "source": [
    "def tokenize(text=None,choice=0):## tokenize function splits the string passed as argument after performing some modifications - changing all to lower case,\n",
    "    text = text.lower()##string to lower case\n",
    "    text = text.replace('.','')##Changing certaing punctuations\n",
    "    text = text.replace('\\\"','')  \n",
    "    text = text.replace('\\'','')  \n",
    "    text = text.replace('?','')  \n",
    "    text = text.replace('0', '')\n",
    "    text = text.replace('1', '')\n",
    "    text = text.replace('2', '')\n",
    "    text = text.replace('3', '')\n",
    "    text = text.replace('4', '')\n",
    "    text = text.replace('5', '')\n",
    "    text = text.replace('6', '')\n",
    "    text = text.replace('7', '')\n",
    "    text = text.replace('8', '')\n",
    "    text = text.replace('9', '')\n",
    "    text = text.replace('$', '')\n",
    "    text = text.replace('(','')\n",
    "    text = text.replace(')','')\n",
    "    text = text.replace('[','')\n",
    "    text = text.replace(']','')\n",
    "    text = text.replace('“','')\n",
    "    text = text.replace('”','')\n",
    "    text = text.replace(',', '')\n",
    "    text_with = text.split()\n",
    "    if(choice==0):##with stopwords\n",
    "        list_final = text_with\n",
    "    if(choice==1):##without stopwords\n",
    "        text_without= [word for word in text_with if word not in stopwords]##Not including stop words in the modified string\n",
    "        list_final =text_without\n",
    "    return list_final#Returning the string"
   ]
  },
  {
   "cell_type": "code",
   "execution_count": 19,
   "id": "1b0502fc",
   "metadata": {},
   "outputs": [],
   "source": [
    "def convert_text_to_dtm(txt, choice=0):##convert_text_to_dtm will convert the string passed as an argument into a document-term matrix.\n",
    "    d = dict()###Initialising empty dictionary\n",
    "    for word in tokenize(txt,choice):\n",
    "        if word in d:\n",
    "            d[word][0] += 1\n",
    "        else:\n",
    "            d[word] = [1]\n",
    "    return pd.DataFrame(d)"
   ]
  },
  {
   "cell_type": "code",
   "execution_count": 20,
   "id": "ea9ad6cc",
   "metadata": {},
   "outputs": [],
   "source": [
    "def gen_DTM(texts=None, choice=0):## gen_DTM will create a document term matrix for all the strings present in the argument.\n",
    "    DTM = pd.DataFrame() #Initializing empty Dataframe\n",
    "    for text in texts:\n",
    "        entry = convert_text_to_dtm(text,choice)###Appending each result to the dataframe initialized earlier\n",
    "        DTM = DTM.append(pd.DataFrame(entry),ignore_index=True,sort=True) # Row bind\n",
    "    \n",
    "    DTM.fillna(0, inplace=True) # Fill in any missing values with 0s (i.e. when a word is in one text but not another)\n",
    "    return DTM"
   ]
  },
  {
   "cell_type": "code",
   "execution_count": 21,
   "id": "3b8c7126",
   "metadata": {},
   "outputs": [],
   "source": [
    "def cosine(a,b):\n",
    "    '''\n",
    "    Calculates cosine distance\n",
    "    ----------------------------\n",
    "    Args: \n",
    "    A set of string documents in this case\n",
    "    ----------------------------\n",
    "    Output:\n",
    "    Cosine distance coefficients\n",
    "    '''\n",
    "    cos = np.dot(a,b)/(np.sqrt(np.dot(a,a)) * np.sqrt(np.dot(b,b)) )##Calculating the cos\n",
    "    return cos"
   ]
  },
  {
   "cell_type": "code",
   "execution_count": 7,
   "id": "2b48683d",
   "metadata": {},
   "outputs": [],
   "source": [
    "##with stopwords"
   ]
  },
  {
   "cell_type": "code",
   "execution_count": 23,
   "id": "03236045",
   "metadata": {
    "scrolled": false
   },
   "outputs": [
    {
     "data": {
      "text/html": [
       "<div>\n",
       "<style scoped>\n",
       "    .dataframe tbody tr th:only-of-type {\n",
       "        vertical-align: middle;\n",
       "    }\n",
       "\n",
       "    .dataframe tbody tr th {\n",
       "        vertical-align: top;\n",
       "    }\n",
       "\n",
       "    .dataframe thead th {\n",
       "        text-align: right;\n",
       "    }\n",
       "</style>\n",
       "<table border=\"1\" class=\"dataframe\">\n",
       "  <thead>\n",
       "    <tr style=\"text-align: right;\">\n",
       "      <th></th>\n",
       "      <th>Aljazeera</th>\n",
       "      <th>BBC</th>\n",
       "      <th>Breitbart</th>\n",
       "      <th>CNN</th>\n",
       "      <th>Fox</th>\n",
       "    </tr>\n",
       "  </thead>\n",
       "  <tbody>\n",
       "    <tr>\n",
       "      <th>Aljazeera</th>\n",
       "      <td>1.000</td>\n",
       "      <td>0.871</td>\n",
       "      <td>0.838</td>\n",
       "      <td>0.735</td>\n",
       "      <td>0.842</td>\n",
       "    </tr>\n",
       "    <tr>\n",
       "      <th>BBC</th>\n",
       "      <td>0.871</td>\n",
       "      <td>1.000</td>\n",
       "      <td>0.897</td>\n",
       "      <td>0.744</td>\n",
       "      <td>0.886</td>\n",
       "    </tr>\n",
       "    <tr>\n",
       "      <th>Breitbart</th>\n",
       "      <td>0.838</td>\n",
       "      <td>0.897</td>\n",
       "      <td>1.000</td>\n",
       "      <td>0.679</td>\n",
       "      <td>0.867</td>\n",
       "    </tr>\n",
       "    <tr>\n",
       "      <th>CNN</th>\n",
       "      <td>0.735</td>\n",
       "      <td>0.744</td>\n",
       "      <td>0.679</td>\n",
       "      <td>1.000</td>\n",
       "      <td>0.736</td>\n",
       "    </tr>\n",
       "    <tr>\n",
       "      <th>Fox</th>\n",
       "      <td>0.842</td>\n",
       "      <td>0.886</td>\n",
       "      <td>0.867</td>\n",
       "      <td>0.736</td>\n",
       "      <td>1.000</td>\n",
       "    </tr>\n",
       "  </tbody>\n",
       "</table>\n",
       "</div>"
      ],
      "text/plain": [
       "           Aljazeera    BBC  Breitbart    CNN    Fox\n",
       "Aljazeera      1.000  0.871      0.838  0.735  0.842\n",
       "BBC            0.871  1.000      0.897  0.744  0.886\n",
       "Breitbart      0.838  0.897      1.000  0.679  0.867\n",
       "CNN            0.735  0.744      0.679  1.000  0.736\n",
       "Fox            0.842  0.886      0.867  0.736  1.000"
      ]
     },
     "execution_count": 23,
     "metadata": {},
     "output_type": "execute_result"
    }
   ],
   "source": [
    "A = gen_DTM([aljazeera, bbc, breitbart, cnn, fox],0)#Index the pandas dataframe to draw out a vector\n",
    "a0 = A.iloc[0].values\n",
    "b0 = A.iloc[1].values\n",
    "c0 = A.iloc[2].values\n",
    "d0 = A.iloc[3].values\n",
    "e0 = A.iloc[4].values\n",
    "df_nostop = {'Aljazeera':a0,'BBC':b0,'Breitbart':c0,'CNN':d0,'Fox':e0} ###Create a new dictionary to assign the corresponding name for each vector\n",
    "df_nostop = pd.DataFrame(df_nostop)#Transfer the dictionary into dataframe form\n",
    "df_nostop_corr = df_nostop.corr(method=cosine).round(3)#Make cosine correlation dataframe for the vectors\n",
    "df_nostop_corr#Dataframe for the correlation betetween vectors(not includes stopwords)"
   ]
  },
  {
   "cell_type": "code",
   "execution_count": 9,
   "id": "979655a7",
   "metadata": {},
   "outputs": [],
   "source": [
    "##without stopwords"
   ]
  },
  {
   "cell_type": "code",
   "execution_count": 24,
   "id": "63c196af",
   "metadata": {
    "scrolled": false
   },
   "outputs": [
    {
     "data": {
      "text/html": [
       "<div>\n",
       "<style scoped>\n",
       "    .dataframe tbody tr th:only-of-type {\n",
       "        vertical-align: middle;\n",
       "    }\n",
       "\n",
       "    .dataframe tbody tr th {\n",
       "        vertical-align: top;\n",
       "    }\n",
       "\n",
       "    .dataframe thead th {\n",
       "        text-align: right;\n",
       "    }\n",
       "</style>\n",
       "<table border=\"1\" class=\"dataframe\">\n",
       "  <thead>\n",
       "    <tr style=\"text-align: right;\">\n",
       "      <th></th>\n",
       "      <th>Aljazeera</th>\n",
       "      <th>BBC</th>\n",
       "      <th>Breitbart</th>\n",
       "      <th>CNN</th>\n",
       "      <th>Fox</th>\n",
       "    </tr>\n",
       "  </thead>\n",
       "  <tbody>\n",
       "    <tr>\n",
       "      <th>Aljazeera</th>\n",
       "      <td>1.000</td>\n",
       "      <td>0.678</td>\n",
       "      <td>0.587</td>\n",
       "      <td>0.532</td>\n",
       "      <td>0.678</td>\n",
       "    </tr>\n",
       "    <tr>\n",
       "      <th>BBC</th>\n",
       "      <td>0.678</td>\n",
       "      <td>1.000</td>\n",
       "      <td>0.581</td>\n",
       "      <td>0.502</td>\n",
       "      <td>0.625</td>\n",
       "    </tr>\n",
       "    <tr>\n",
       "      <th>Breitbart</th>\n",
       "      <td>0.587</td>\n",
       "      <td>0.581</td>\n",
       "      <td>1.000</td>\n",
       "      <td>0.368</td>\n",
       "      <td>0.546</td>\n",
       "    </tr>\n",
       "    <tr>\n",
       "      <th>CNN</th>\n",
       "      <td>0.532</td>\n",
       "      <td>0.502</td>\n",
       "      <td>0.368</td>\n",
       "      <td>1.000</td>\n",
       "      <td>0.516</td>\n",
       "    </tr>\n",
       "    <tr>\n",
       "      <th>Fox</th>\n",
       "      <td>0.678</td>\n",
       "      <td>0.625</td>\n",
       "      <td>0.546</td>\n",
       "      <td>0.516</td>\n",
       "      <td>1.000</td>\n",
       "    </tr>\n",
       "  </tbody>\n",
       "</table>\n",
       "</div>"
      ],
      "text/plain": [
       "           Aljazeera    BBC  Breitbart    CNN    Fox\n",
       "Aljazeera      1.000  0.678      0.587  0.532  0.678\n",
       "BBC            0.678  1.000      0.581  0.502  0.625\n",
       "Breitbart      0.587  0.581      1.000  0.368  0.546\n",
       "CNN            0.532  0.502      0.368  1.000  0.516\n",
       "Fox            0.678  0.625      0.546  0.516  1.000"
      ]
     },
     "execution_count": 24,
     "metadata": {},
     "output_type": "execute_result"
    }
   ],
   "source": [
    "B = gen_DTM([aljazeera, bbc, breitbart, cnn, fox],1)#Index the pandas dataframe to draw out a vector\n",
    "a1 = B.iloc[0].values\n",
    "b1= B.iloc[1].values\n",
    "c1 = B.iloc[2].values\n",
    "d1 = B.iloc[3].values\n",
    "e1 = B.iloc[4].values\n",
    "df_stop = {'Aljazeera':a1,'BBC':b1,'Breitbart':c1,'CNN':d1,'Fox':e1} ###Create a new dictionary to assign the corresponding name for each vector\n",
    "df_stop = pd.DataFrame(df_stop)#Transfer the dictionary into dataframe form\n",
    "df_stop_corr = df_stop.corr(method=cosine).round(3)#Make cosine correlation dataframe for the vectors\n",
    "df_stop_corr#Dataframe for the correlation betetween vectors(not includes stopwords)"
   ]
  },
  {
   "cell_type": "markdown",
   "id": "be6a3ec9",
   "metadata": {},
   "source": [
    "Does each news site report on these stories in a similar way? Which news sites talk about the Khashoggi scandal in similar/dissimilar ways? If you change what words you remove, does the picture of similarity change?"
   ]
  },
  {
   "cell_type": "markdown",
   "id": "3dbd51e9",
   "metadata": {},
   "source": [
    "Conclusion:\n",
    "Each news site report on the story in different ways. There is a highest similarity between BBC and Aljazeera talking about the Khashoggi scandal. Among these news sites, the CNN and BBC have the lowest similarity talking about the scandal. Changing the words removed shall slightly change the specific parameter, yet the picture of similarity will not be changed."
   ]
  }
 ],
 "metadata": {
  "kernelspec": {
   "display_name": "Python 3",
   "language": "python",
   "name": "python3"
  },
  "language_info": {
   "codemirror_mode": {
    "name": "ipython",
    "version": 3
   },
   "file_extension": ".py",
   "mimetype": "text/x-python",
   "name": "python",
   "nbconvert_exporter": "python",
   "pygments_lexer": "ipython3",
   "version": "3.8.8"
  }
 },
 "nbformat": 4,
 "nbformat_minor": 5
}
