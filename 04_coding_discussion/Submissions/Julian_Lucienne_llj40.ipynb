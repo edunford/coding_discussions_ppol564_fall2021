{
 "cells": [
  {
   "cell_type": "code",
   "execution_count": 283,
   "metadata": {},
   "outputs": [],
   "source": [
    "## Importing required packages\n",
    "import numpy as np\n",
    "import pandas as pd\n",
    "import os\n",
    "import seaborn as sns \n",
    "import matplotlib.pyplot as plt "
   ]
  },
  {
   "cell_type": "code",
   "execution_count": 322,
   "metadata": {},
   "outputs": [],
   "source": [
    "## Reading in the stop words \n",
    "stop_words = pd.read_csv(\"../Data/stop_words.csv\")\n",
    "stop_words = list(stop_words['word']) ## Converting into list \n"
   ]
  },
  {
   "cell_type": "code",
   "execution_count": 285,
   "metadata": {},
   "outputs": [
    {
     "data": {
      "text/plain": [
       "'U.S. President Donald Trump and Turkish President Recep Tayyip Erdogan both pronounced themselves unsatisfied with the answers Saudi Arabia has given for the killing of journalist Jamal Khashoggi at the Saudi embassy in Istanbul three weeks ago. Both said the Saudis must be more forthcoming about who ordered the operation that ended with Khashoggi’s death, followed by crude efforts to create an alibi and dispose of his body. Erdogan was forceful in a speech to his AKP party on Tuesday, although he came up short of accusing Saudi King Salman bin Abdulaziz or Crown Prince Mohammed bin Salman of direct involvement with the killing. “It is clear that this savage murder did not happen instantly but was planned,” Erdogan declared, dismissing the Saudi story about Khashoggi accidentally dying in a “fistfight” he started when he visited the Istanbul consulate. “Why was a team of 15 Saudi men, all with qualifications related to the incident, gathering in Istanbul on the day of the murder?” the Turkish president asked. “We are seeking answers to this question. On whose orders did those individuals go there?” “Putting all the burden on a few security and intelligence members would satisfy neither us nor the international community. We could be satisfied only if everyone, from the one giving the order to the one who carried it out, are called to account,” he insisted. Erodgan called on King Salman to support a Turkish investigation of the killing and trials in Turkish court, arguing the Istanbul consulate “may be considered Saudi Arabian land, but it rests within the borders of Turkey.” He also demanded the Saudis reveal the name of the “local cooperator” who allegedly disposed of Khashoggi’s remains. Erdogan very conspicuously praised “the sincerity of the Custodian of the Two Holy Mosques, King Salman bin Abdulaziz,” but avoided either praising or condemning the day-to-day ruler of the country, Crown Prince Mohammed bin Salman. He also implied there might be a “partner in crime” in “other countries.” “I am not satisfied with what I’ve heard,” President Trump said on Monday from the White House. “I don’t want to lose all that investment that’s been made in our country. But we’re going to get to the bottom of it,” Trump added. President Trump’s son-in-law Jared Kushner, who has a close friendship with the crown prince, said on Monday he has urged MBS to be “fully transparent.” “The world is watching. This is a very, very serious accusation and a very serious situation,” he said. The Washington Post, which employed Khashoggi as a contributor, on Saturday returned to the topic of the much-discussed Turkish surveillance tape of Khashoggi’s murder, which became the subject of a media scandal last week when the U.S. State Department and Secretary of State Mike Pompeo strongly refuted Turkish media claims that Pompeo has listened to the audio. According to the Post, the audio exists and anonymous CIA officials have heard it, but they have not yet confirmed its authenticity. The Post strongly implied the audio has been deliberately withheld from Pompeo and other top officials so they will not be placed in an uncomfortable diplomatic situation with the Saudis.'"
      ]
     },
     "execution_count": 285,
     "metadata": {},
     "output_type": "execute_result"
    }
   ],
   "source": [
    "## Reading in the text files \n",
    "news_names = [] ## Initializing empty list to contain names of the different new agencies \n",
    "news_contents = [] ## Initializing empty list to contain content of the articles \n",
    "\n",
    "## Reading in the scraped data as strings and storing it in news_contents list \n",
    "for root, dirs, files in os.walk(\"/Users/julian/Desktop/PPOL_Data_Science/coding_discussions_ppol564_fall2021/04_coding_discussion\") :\n",
    "    for file in files:\n",
    "        if file.endswith('.txt') :\n",
    "            name = file.split('-')\n",
    "            news_names.append(name[0]) ## Getting the name of news agency from file name and appending to list \n",
    "            with open(os.path.join(root, file)) as f:\n",
    "                text = f.read()\n",
    "                news_contents.append(text) ## Reading in the contents as string and appending to list \n",
    "                \n",
    "\n",
    "news_contents[0] ## Displaying text of first article "
   ]
  },
  {
   "cell_type": "code",
   "execution_count": 301,
   "metadata": {},
   "outputs": [],
   "source": [
    "news_lists = pd.Series(news_contents) ## Converting list to pandas series to perform vectorized string operations \n",
    "## Removing unecessary characters from the strings \n",
    "news_lists = news_lists.str.replace('\\\"', '')\n",
    "news_lists = news_lists.str.replace('\\'', '')\n",
    "news_lists = news_lists.str.replace('“', '')\n",
    "news_lists = news_lists.str.replace('”', '')\n",
    "news_lists = news_lists.str.replace('.', '')\n",
    "news_lists = news_lists.str.replace('?', '')\n",
    "news_lists = news_lists.str.replace(',', '')\n",
    "news_lists = news_lists.str.replace('[', '')\n",
    "news_lists = news_lists.str.replace(']', '')\n",
    "news_lists = news_lists.str.replace('(', '')\n",
    "news_lists = news_lists.str.replace(')', '')\n",
    "news_lists = news_lists.str.replace('-', '')\n",
    "## Converting words to lower case \n",
    "news_lists = news_lists.str.lower()\n",
    "## Spliting the string and getting list of words \n",
    "news_lists = news_lists.str.split()"
   ]
  },
  {
   "cell_type": "code",
   "execution_count": 302,
   "metadata": {},
   "outputs": [],
   "source": [
    "def create_data_frame(articles) :\n",
    "    \"\"\"\n",
    "    Function to create data frame of frequency of words from the the news items \n",
    "    \n",
    "    Arguments : \n",
    "    ~~~~~~~~~~~\n",
    "    articles : Series containing the content of the articles\n",
    "    \n",
    "    Returns : \n",
    "    ~~~~~~~~~~~\n",
    "    words_df : Required data frame \n",
    "    \n",
    "    \"\"\"\n",
    "    words_df = pd.DataFrame() ## Initializing empty data frame \n",
    "    \n",
    "    for article in articles :\n",
    "        words_freq = {} ## Intializing emptty dictionary \n",
    "        for word in article :\n",
    "            if word in words_freq :\n",
    "                words_freq[word][0] += 1 ## Creating dictionary with words and their frequency \n",
    "            else :\n",
    "                words_freq[word] = [1]\n",
    "        words_df = words_df.append(pd.DataFrame(words_freq),ignore_index=True,sort=True) ## Appending dictionary to data frame         \n",
    "    \n",
    "    words_df.fillna(0, inplace=True) ## Replacing NAs with 0\n",
    "    \n",
    "    return words_df ## Returning the data frame  \n",
    "\n"
   ]
  },
  {
   "cell_type": "code",
   "execution_count": 303,
   "metadata": {},
   "outputs": [
    {
     "data": {
      "text/html": [
       "<div>\n",
       "<style scoped>\n",
       "    .dataframe tbody tr th:only-of-type {\n",
       "        vertical-align: middle;\n",
       "    }\n",
       "\n",
       "    .dataframe tbody tr th {\n",
       "        vertical-align: top;\n",
       "    }\n",
       "\n",
       "    .dataframe thead th {\n",
       "        text-align: right;\n",
       "    }\n",
       "</style>\n",
       "<table border=\"1\" class=\"dataframe\">\n",
       "  <thead>\n",
       "    <tr style=\"text-align: right;\">\n",
       "      <th></th>\n",
       "      <th>$50bn</th>\n",
       "      <th>1</th>\n",
       "      <th>11</th>\n",
       "      <th>12</th>\n",
       "      <th>15</th>\n",
       "      <th>15member</th>\n",
       "      <th>18</th>\n",
       "      <th>1:08</th>\n",
       "      <th>2</th>\n",
       "      <th>28</th>\n",
       "      <th>...</th>\n",
       "      <th>world</th>\n",
       "      <th>worse</th>\n",
       "      <th>would</th>\n",
       "      <th>writer</th>\n",
       "      <th>yalova</th>\n",
       "      <th>yelova</th>\n",
       "      <th>yet</th>\n",
       "      <th>your</th>\n",
       "      <th>£385bn</th>\n",
       "      <th>—</th>\n",
       "    </tr>\n",
       "  </thead>\n",
       "  <tbody>\n",
       "    <tr>\n",
       "      <th>0</th>\n",
       "      <td>0.0</td>\n",
       "      <td>0.0</td>\n",
       "      <td>0.0</td>\n",
       "      <td>0.0</td>\n",
       "      <td>1.0</td>\n",
       "      <td>0.0</td>\n",
       "      <td>0.0</td>\n",
       "      <td>0.0</td>\n",
       "      <td>0.0</td>\n",
       "      <td>0.0</td>\n",
       "      <td>...</td>\n",
       "      <td>1.0</td>\n",
       "      <td>0.0</td>\n",
       "      <td>1.0</td>\n",
       "      <td>0.0</td>\n",
       "      <td>0.0</td>\n",
       "      <td>0.0</td>\n",
       "      <td>1.0</td>\n",
       "      <td>0.0</td>\n",
       "      <td>0.0</td>\n",
       "      <td>0.0</td>\n",
       "    </tr>\n",
       "    <tr>\n",
       "      <th>1</th>\n",
       "      <td>0.0</td>\n",
       "      <td>0.0</td>\n",
       "      <td>0.0</td>\n",
       "      <td>0.0</td>\n",
       "      <td>0.0</td>\n",
       "      <td>1.0</td>\n",
       "      <td>2.0</td>\n",
       "      <td>0.0</td>\n",
       "      <td>2.0</td>\n",
       "      <td>1.0</td>\n",
       "      <td>...</td>\n",
       "      <td>0.0</td>\n",
       "      <td>0.0</td>\n",
       "      <td>1.0</td>\n",
       "      <td>0.0</td>\n",
       "      <td>0.0</td>\n",
       "      <td>0.0</td>\n",
       "      <td>0.0</td>\n",
       "      <td>0.0</td>\n",
       "      <td>0.0</td>\n",
       "      <td>0.0</td>\n",
       "    </tr>\n",
       "    <tr>\n",
       "      <th>2</th>\n",
       "      <td>0.0</td>\n",
       "      <td>1.0</td>\n",
       "      <td>1.0</td>\n",
       "      <td>0.0</td>\n",
       "      <td>1.0</td>\n",
       "      <td>0.0</td>\n",
       "      <td>1.0</td>\n",
       "      <td>1.0</td>\n",
       "      <td>1.0</td>\n",
       "      <td>0.0</td>\n",
       "      <td>...</td>\n",
       "      <td>0.0</td>\n",
       "      <td>1.0</td>\n",
       "      <td>2.0</td>\n",
       "      <td>2.0</td>\n",
       "      <td>0.0</td>\n",
       "      <td>1.0</td>\n",
       "      <td>0.0</td>\n",
       "      <td>0.0</td>\n",
       "      <td>0.0</td>\n",
       "      <td>3.0</td>\n",
       "    </tr>\n",
       "    <tr>\n",
       "      <th>3</th>\n",
       "      <td>0.0</td>\n",
       "      <td>0.0</td>\n",
       "      <td>0.0</td>\n",
       "      <td>0.0</td>\n",
       "      <td>0.0</td>\n",
       "      <td>0.0</td>\n",
       "      <td>1.0</td>\n",
       "      <td>0.0</td>\n",
       "      <td>0.0</td>\n",
       "      <td>0.0</td>\n",
       "      <td>...</td>\n",
       "      <td>0.0</td>\n",
       "      <td>0.0</td>\n",
       "      <td>0.0</td>\n",
       "      <td>0.0</td>\n",
       "      <td>1.0</td>\n",
       "      <td>0.0</td>\n",
       "      <td>1.0</td>\n",
       "      <td>0.0</td>\n",
       "      <td>0.0</td>\n",
       "      <td>0.0</td>\n",
       "    </tr>\n",
       "    <tr>\n",
       "      <th>4</th>\n",
       "      <td>1.0</td>\n",
       "      <td>0.0</td>\n",
       "      <td>0.0</td>\n",
       "      <td>1.0</td>\n",
       "      <td>0.0</td>\n",
       "      <td>0.0</td>\n",
       "      <td>2.0</td>\n",
       "      <td>0.0</td>\n",
       "      <td>1.0</td>\n",
       "      <td>0.0</td>\n",
       "      <td>...</td>\n",
       "      <td>1.0</td>\n",
       "      <td>0.0</td>\n",
       "      <td>4.0</td>\n",
       "      <td>0.0</td>\n",
       "      <td>0.0</td>\n",
       "      <td>0.0</td>\n",
       "      <td>0.0</td>\n",
       "      <td>3.0</td>\n",
       "      <td>1.0</td>\n",
       "      <td>0.0</td>\n",
       "    </tr>\n",
       "  </tbody>\n",
       "</table>\n",
       "<p>5 rows × 891 columns</p>\n",
       "</div>"
      ],
      "text/plain": [
       "   $50bn    1   11   12   15  15member   18  1:08    2   28  ...  world  \\\n",
       "0    0.0  0.0  0.0  0.0  1.0       0.0  0.0   0.0  0.0  0.0  ...    1.0   \n",
       "1    0.0  0.0  0.0  0.0  0.0       1.0  2.0   0.0  2.0  1.0  ...    0.0   \n",
       "2    0.0  1.0  1.0  0.0  1.0       0.0  1.0   1.0  1.0  0.0  ...    0.0   \n",
       "3    0.0  0.0  0.0  0.0  0.0       0.0  1.0   0.0  0.0  0.0  ...    0.0   \n",
       "4    1.0  0.0  0.0  1.0  0.0       0.0  2.0   0.0  1.0  0.0  ...    1.0   \n",
       "\n",
       "   worse  would  writer  yalova  yelova  yet  your  £385bn    —  \n",
       "0    0.0    1.0     0.0     0.0     0.0  1.0   0.0     0.0  0.0  \n",
       "1    0.0    1.0     0.0     0.0     0.0  0.0   0.0     0.0  0.0  \n",
       "2    1.0    2.0     2.0     0.0     1.0  0.0   0.0     0.0  3.0  \n",
       "3    0.0    0.0     0.0     1.0     0.0  1.0   0.0     0.0  0.0  \n",
       "4    0.0    4.0     0.0     0.0     0.0  0.0   3.0     1.0  0.0  \n",
       "\n",
       "[5 rows x 891 columns]"
      ]
     },
     "execution_count": 303,
     "metadata": {},
     "output_type": "execute_result"
    }
   ],
   "source": [
    "df_news_1 = create_data_frame(news_lists) ## Calling the function \n",
    "df_news_1"
   ]
  },
  {
   "cell_type": "code",
   "execution_count": 304,
   "metadata": {},
   "outputs": [],
   "source": [
    "def cosine_similarity(df) :\n",
    "    \"\"\"\n",
    "    Function to calculate the cosine of the vectors and return back data frame of cosine similarities\n",
    "    \n",
    "    Arguments : \n",
    "    ~~~~~~~~~~~\n",
    "    df : Data frame containing the frequency of words for each article \n",
    "    \n",
    "    Returns :\n",
    "    ~~~~~~~~~~~\n",
    "    cos_df : Data frame of cosine similarities between each article \n",
    "    \n",
    "    \"\"\"    \n",
    "    cos_df = pd.DataFrame() ## Initializing empty data frame \n",
    "    n = df.shape[0] ## Getting the number of articles\n",
    "    for i in range(n):\n",
    "        a = df.iloc[i].values  \n",
    "        a_mag = np.sqrt(np.dot(a,a)) ## Calculating the magnitude\n",
    "        for j in range(n) :\n",
    "            b = df.iloc[j].values\n",
    "            b_mag = np.sqrt(np.dot(b,b)) ## Calculating the magnitude\n",
    "            cos = np.dot(a,b)/(a_mag*b_mag) ## Calculating the cosine from the dot product \n",
    "            l = pd.Series([i+1,j+1,cos])\n",
    "            cos_df = cos_df.append(l, ignore_index=True) ## Appending to data frame as a row \n",
    "         \n",
    "    col_names = ['Article_A', 'Article_B', 'Cosine_Similarity']        \n",
    "    cos_df.columns = col_names \n",
    "    cos_df = pd.pivot_table(cos_df, index = 'Article_A', columns = 'Article_B', values = 'Cosine_Similarity') ## Creating wide format \n",
    "    cos_df.columns = news_names ## Assigning the names of the news agencies \n",
    "    cos_df.index = news_names\n",
    "    return cos_df ## Returning the data frame "
   ]
  },
  {
   "cell_type": "code",
   "execution_count": 307,
   "metadata": {},
   "outputs": [
    {
     "data": {
      "text/html": [
       "<div>\n",
       "<style scoped>\n",
       "    .dataframe tbody tr th:only-of-type {\n",
       "        vertical-align: middle;\n",
       "    }\n",
       "\n",
       "    .dataframe tbody tr th {\n",
       "        vertical-align: top;\n",
       "    }\n",
       "\n",
       "    .dataframe thead th {\n",
       "        text-align: right;\n",
       "    }\n",
       "</style>\n",
       "<table border=\"1\" class=\"dataframe\">\n",
       "  <thead>\n",
       "    <tr style=\"text-align: right;\">\n",
       "      <th></th>\n",
       "      <th>breitbart</th>\n",
       "      <th>aljazeera</th>\n",
       "      <th>fox</th>\n",
       "      <th>cnn</th>\n",
       "      <th>bbc</th>\n",
       "    </tr>\n",
       "  </thead>\n",
       "  <tbody>\n",
       "    <tr>\n",
       "      <th>breitbart</th>\n",
       "      <td>1.000000</td>\n",
       "      <td>0.836558</td>\n",
       "      <td>0.867174</td>\n",
       "      <td>0.678944</td>\n",
       "      <td>0.896972</td>\n",
       "    </tr>\n",
       "    <tr>\n",
       "      <th>aljazeera</th>\n",
       "      <td>0.836558</td>\n",
       "      <td>1.000000</td>\n",
       "      <td>0.841655</td>\n",
       "      <td>0.734659</td>\n",
       "      <td>0.870479</td>\n",
       "    </tr>\n",
       "    <tr>\n",
       "      <th>fox</th>\n",
       "      <td>0.867174</td>\n",
       "      <td>0.841655</td>\n",
       "      <td>1.000000</td>\n",
       "      <td>0.736611</td>\n",
       "      <td>0.886703</td>\n",
       "    </tr>\n",
       "    <tr>\n",
       "      <th>cnn</th>\n",
       "      <td>0.678944</td>\n",
       "      <td>0.734659</td>\n",
       "      <td>0.736611</td>\n",
       "      <td>1.000000</td>\n",
       "      <td>0.744041</td>\n",
       "    </tr>\n",
       "    <tr>\n",
       "      <th>bbc</th>\n",
       "      <td>0.896972</td>\n",
       "      <td>0.870479</td>\n",
       "      <td>0.886703</td>\n",
       "      <td>0.744041</td>\n",
       "      <td>1.000000</td>\n",
       "    </tr>\n",
       "  </tbody>\n",
       "</table>\n",
       "</div>"
      ],
      "text/plain": [
       "           breitbart  aljazeera       fox       cnn       bbc\n",
       "breitbart   1.000000   0.836558  0.867174  0.678944  0.896972\n",
       "aljazeera   0.836558   1.000000  0.841655  0.734659  0.870479\n",
       "fox         0.867174   0.841655  1.000000  0.736611  0.886703\n",
       "cnn         0.678944   0.734659  0.736611  1.000000  0.744041\n",
       "bbc         0.896972   0.870479  0.886703  0.744041  1.000000"
      ]
     },
     "execution_count": 307,
     "metadata": {},
     "output_type": "execute_result"
    }
   ],
   "source": [
    "a = cosine_similarity(df_news_1) ## Calling the function to obtain cosine similarities when stop words are not removed \n",
    "a"
   ]
  },
  {
   "cell_type": "code",
   "execution_count": 320,
   "metadata": {},
   "outputs": [
    {
     "data": {
      "text/plain": [
       "Text(47.77777777777777, 0.5, 'News Agencies')"
      ]
     },
     "execution_count": 320,
     "metadata": {},
     "output_type": "execute_result"
    },
    {
     "data": {
      "image/png": "[encoded data removed]",
      "text/plain": [
       "<Figure size 560x560 with 2 Axes>"
      ]
     },
     "metadata": {
      "needs_background": "light"
     },
     "output_type": "display_data"
    }
   ],
   "source": [
    "## Plotting the cosine similarities \n",
    "plt.figure(figsize = (7,7), dpi =80)\n",
    "plt.title(\"Cosine Similarities for Articles from Different News Agencies\")\n",
    "sns.heatmap(a, vmin = 0.1, cmap = 'Greens')\n",
    "plt.xlabel(\"News Agencies\")\n",
    "plt.ylabel(\"News Agencies\")"
   ]
  },
  {
   "cell_type": "code",
   "execution_count": 309,
   "metadata": {},
   "outputs": [
    {
     "data": {
      "text/html": [
       "<div>\n",
       "<style scoped>\n",
       "    .dataframe tbody tr th:only-of-type {\n",
       "        vertical-align: middle;\n",
       "    }\n",
       "\n",
       "    .dataframe tbody tr th {\n",
       "        vertical-align: top;\n",
       "    }\n",
       "\n",
       "    .dataframe thead th {\n",
       "        text-align: right;\n",
       "    }\n",
       "</style>\n",
       "<table border=\"1\" class=\"dataframe\">\n",
       "  <thead>\n",
       "    <tr style=\"text-align: right;\">\n",
       "      <th></th>\n",
       "      <th>breitbart</th>\n",
       "      <th>aljazeera</th>\n",
       "      <th>fox</th>\n",
       "      <th>cnn</th>\n",
       "      <th>bbc</th>\n",
       "    </tr>\n",
       "  </thead>\n",
       "  <tbody>\n",
       "    <tr>\n",
       "      <th>breitbart</th>\n",
       "      <td>1.000000</td>\n",
       "      <td>0.584001</td>\n",
       "      <td>0.547029</td>\n",
       "      <td>0.367165</td>\n",
       "      <td>0.581631</td>\n",
       "    </tr>\n",
       "    <tr>\n",
       "      <th>aljazeera</th>\n",
       "      <td>0.584001</td>\n",
       "      <td>1.000000</td>\n",
       "      <td>0.679743</td>\n",
       "      <td>0.533123</td>\n",
       "      <td>0.678938</td>\n",
       "    </tr>\n",
       "    <tr>\n",
       "      <th>fox</th>\n",
       "      <td>0.547029</td>\n",
       "      <td>0.679743</td>\n",
       "      <td>1.000000</td>\n",
       "      <td>0.517322</td>\n",
       "      <td>0.627743</td>\n",
       "    </tr>\n",
       "    <tr>\n",
       "      <th>cnn</th>\n",
       "      <td>0.367165</td>\n",
       "      <td>0.533123</td>\n",
       "      <td>0.517322</td>\n",
       "      <td>1.000000</td>\n",
       "      <td>0.503919</td>\n",
       "    </tr>\n",
       "    <tr>\n",
       "      <th>bbc</th>\n",
       "      <td>0.581631</td>\n",
       "      <td>0.678938</td>\n",
       "      <td>0.627743</td>\n",
       "      <td>0.503919</td>\n",
       "      <td>1.000000</td>\n",
       "    </tr>\n",
       "  </tbody>\n",
       "</table>\n",
       "</div>"
      ],
      "text/plain": [
       "           breitbart  aljazeera       fox       cnn       bbc\n",
       "breitbart   1.000000   0.584001  0.547029  0.367165  0.581631\n",
       "aljazeera   0.584001   1.000000  0.679743  0.533123  0.678938\n",
       "fox         0.547029   0.679743  1.000000  0.517322  0.627743\n",
       "cnn         0.367165   0.533123  0.517322  1.000000  0.503919\n",
       "bbc         0.581631   0.678938  0.627743  0.503919  1.000000"
      ]
     },
     "execution_count": 309,
     "metadata": {},
     "output_type": "execute_result"
    }
   ],
   "source": [
    "### Removing the stop words from the articles \n",
    "for i in range(len(news_names)) :\n",
    "    news_lists[i] = [word for word in news_lists[i] if word not in stop_words]\n",
    "\n",
    "## Calling the two functions again to generate cosine similarities \n",
    "df_news_2 = create_data_frame(news_lists)    \n",
    "b = cosine_similarity(df_news_2)\n",
    "b"
   ]
  },
  {
   "cell_type": "code",
   "execution_count": 319,
   "metadata": {},
   "outputs": [
    {
     "data": {
      "text/plain": [
       "Text(47.77777777777777, 0.5, 'News Agencies')"
      ]
     },
     "execution_count": 319,
     "metadata": {},
     "output_type": "execute_result"
    },
    {
     "data": {
      "image/png": "[encoded data removed]",
      "text/plain": [
       "<Figure size 560x560 with 2 Axes>"
      ]
     },
     "metadata": {
      "needs_background": "light"
     },
     "output_type": "display_data"
    }
   ],
   "source": [
    "## Plotting the cosine similarities \n",
    "plt.figure(figsize = (7,7), dpi =80)\n",
    "plt.title(\"Cosine Similarities for Articles from Different News Agencies\")\n",
    "sns.heatmap(b, vmin = 0.1, cmap = 'Greens')\n",
    "plt.xlabel(\"News Agencies\")\n",
    "plt.ylabel(\"News Agencies\")"
   ]
  },
  {
   "cell_type": "markdown",
   "metadata": {},
   "source": [
    "It can be seen from the two tables and graphs above that upon removal of the stop words, the similarities between the articles diminish. Hence the news agencies haven't reported the incident similarly. \n",
    "When the **stop words are not removed** then the articles **most similar** are those from BBC and Breitbart and the articles **least similar** are those from Breitbart and CNN.\n",
    "When **stop words are removed** then the articles **most similar** are those from AlJazeera and BBC and those **least similar** are those from CNN and Breitbart.  "
   ]
  },
  {
   "cell_type": "code",
   "execution_count": 315,
   "metadata": {},
   "outputs": [
    {
     "data": {
      "text/html": [
       "<div>\n",
       "<style scoped>\n",
       "    .dataframe tbody tr th:only-of-type {\n",
       "        vertical-align: middle;\n",
       "    }\n",
       "\n",
       "    .dataframe tbody tr th {\n",
       "        vertical-align: top;\n",
       "    }\n",
       "\n",
       "    .dataframe thead th {\n",
       "        text-align: right;\n",
       "    }\n",
       "</style>\n",
       "<table border=\"1\" class=\"dataframe\">\n",
       "  <thead>\n",
       "    <tr style=\"text-align: right;\">\n",
       "      <th></th>\n",
       "      <th>breitbart</th>\n",
       "      <th>aljazeera</th>\n",
       "      <th>fox</th>\n",
       "      <th>cnn</th>\n",
       "      <th>bbc</th>\n",
       "    </tr>\n",
       "  </thead>\n",
       "  <tbody>\n",
       "    <tr>\n",
       "      <th>breitbart</th>\n",
       "      <td>1.000000</td>\n",
       "      <td>0.473376</td>\n",
       "      <td>0.450546</td>\n",
       "      <td>0.237468</td>\n",
       "      <td>0.501545</td>\n",
       "    </tr>\n",
       "    <tr>\n",
       "      <th>aljazeera</th>\n",
       "      <td>0.473376</td>\n",
       "      <td>1.000000</td>\n",
       "      <td>0.514544</td>\n",
       "      <td>0.338411</td>\n",
       "      <td>0.521143</td>\n",
       "    </tr>\n",
       "    <tr>\n",
       "      <th>fox</th>\n",
       "      <td>0.450546</td>\n",
       "      <td>0.514544</td>\n",
       "      <td>1.000000</td>\n",
       "      <td>0.349501</td>\n",
       "      <td>0.513218</td>\n",
       "    </tr>\n",
       "    <tr>\n",
       "      <th>cnn</th>\n",
       "      <td>0.237468</td>\n",
       "      <td>0.338411</td>\n",
       "      <td>0.349501</td>\n",
       "      <td>1.000000</td>\n",
       "      <td>0.377153</td>\n",
       "    </tr>\n",
       "    <tr>\n",
       "      <th>bbc</th>\n",
       "      <td>0.501545</td>\n",
       "      <td>0.521143</td>\n",
       "      <td>0.513218</td>\n",
       "      <td>0.377153</td>\n",
       "      <td>1.000000</td>\n",
       "    </tr>\n",
       "  </tbody>\n",
       "</table>\n",
       "</div>"
      ],
      "text/plain": [
       "           breitbart  aljazeera       fox       cnn       bbc\n",
       "breitbart   1.000000   0.473376  0.450546  0.237468  0.501545\n",
       "aljazeera   0.473376   1.000000  0.514544  0.338411  0.521143\n",
       "fox         0.450546   0.514544  1.000000  0.349501  0.513218\n",
       "cnn         0.237468   0.338411  0.349501  1.000000  0.377153\n",
       "bbc         0.501545   0.521143  0.513218  0.377153  1.000000"
      ]
     },
     "execution_count": 315,
     "metadata": {},
     "output_type": "execute_result"
    }
   ],
   "source": [
    "## Removing proper nouns and and calculating cosine similarities\n",
    "extra_words = ['erdogan', 'trump', 'saudi', 'arabia', 'turkish', 'turkey'] \n",
    "\n",
    "for i in range(len(news_names)) :\n",
    "    news_lists[i] = [word for word in news_lists[i] if word not in extra_words]\n",
    "    \n",
    "df_news_3 = create_data_frame(news_lists)   \n",
    "c = cosine_similarity(df_news_3)\n",
    "c"
   ]
  },
  {
   "cell_type": "code",
   "execution_count": 318,
   "metadata": {},
   "outputs": [
    {
     "data": {
      "text/plain": [
       "Text(47.77777777777777, 0.5, 'News Agencies')"
      ]
     },
     "execution_count": 318,
     "metadata": {},
     "output_type": "execute_result"
    },
    {
     "data": {
      "image/png": "[encoded data removed]",
      "text/plain": [
       "<Figure size 560x560 with 2 Axes>"
      ]
     },
     "metadata": {
      "needs_background": "light"
     },
     "output_type": "display_data"
    }
   ],
   "source": [
    "## Plotting the cosine similarities \n",
    "plt.figure(figsize = (7,7), dpi =80)\n",
    "plt.title(\"Cosine Similarities for Articles from Different News Agencies\")\n",
    "sns.heatmap(c, vmin = 0.1, cmap = 'Greens')\n",
    "plt.xlabel(\"News Agencies\")\n",
    "plt.ylabel(\"News Agencies\")"
   ]
  },
  {
   "cell_type": "markdown",
   "metadata": {},
   "source": [
    "It is observed that upon removing certain proper nouns and recalculating the cosine similarity, the similarities between articles **further reduce**. "
   ]
  }
 ],
 "metadata": {
  "kernelspec": {
   "display_name": "Python 3",
   "language": "python",
   "name": "python3"
  },
  "language_info": {
   "codemirror_mode": {
    "name": "ipython",
    "version": 3
   },
   "file_extension": ".py",
   "mimetype": "text/x-python",
   "name": "python",
   "nbconvert_exporter": "python",
   "pygments_lexer": "ipython3",
   "version": "3.6.5"
  }
 },
 "nbformat": 4,
 "nbformat_minor": 2
}
