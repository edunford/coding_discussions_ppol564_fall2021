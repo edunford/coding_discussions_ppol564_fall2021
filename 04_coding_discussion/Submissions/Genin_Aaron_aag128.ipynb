{
 "cells": [
  {
   "cell_type": "code",
   "execution_count": 1,
   "metadata": {},
   "outputs": [],
   "source": [
    "import pandas as pd\n",
    "import csv\n",
    "import numpy as np"
   ]
  },
  {
   "cell_type": "code",
   "execution_count": 2,
   "metadata": {},
   "outputs": [],
   "source": [
    "#create a list ahead of time to append each article into\n",
    "texts = []\n",
    "#open each file, the .. representing the folder 1 step outward from the current directory and the r representing read\n",
    "with open ('../Data/aljazeera-khashoggi.txt', 'r') as f:\n",
    "    alj = f.readlines()\n",
    "    #append by [0] so that the product is formatted properly\n",
    "    texts.append(alj[0])\n",
    "with open ('../Data/bbc-khashoggi.txt', 'r') as f:\n",
    "    bbc = f.readlines()\n",
    "    texts.append(bbc[0])\n",
    "#ignore errors because the normal format is not allowing text to be written in, some sort of strange symbol must be present\n",
    "with open ('../Data/breitbart-khashoggi.txt', 'r', errors='ignore') as f:\n",
    "    bbt = f.readlines()\n",
    "    texts.append(bbt[0])\n",
    "with open ('../Data/cnn-khashoggi.txt', 'r') as f:\n",
    "    cnn = f.readlines()\n",
    "    texts.append(cnn[0])\n",
    "with open ('../Data/fox-khashoggi.txt', 'r', errors='ignore') as f:\n",
    "    fox = f.readlines()\n",
    "    texts.append(fox[0])\n",
    "with open('../Data/stop_words.csv') as stop:\n",
    "    reader = csv.reader(stop)\n",
    "    stopwords = []\n",
    "    #other articles are written along the first line, stopwords needs to be looped since it is written a single word per row in the csv file\n",
    "    for row in reader:\n",
    "        stopwords.append(row[0])"
   ]
  },
  {
   "cell_type": "code",
   "execution_count": 4,
   "metadata": {},
   "outputs": [],
   "source": [
    "def tokenize(text=None):\n",
    "    #make all letter lower case\n",
    "    text = text.lower()\n",
    "    #remove irrelevant grammar symbols, include ? since it may connect with impliations in the writing\n",
    "    text = text.replace('.','')\n",
    "    text = text.replace(',','')\n",
    "    text = text.replace('(','')\n",
    "    text = text.replace(')','')\n",
    "    text = text.replace('!','')\n",
    "    text = text.replace(';','')\n",
    "    text = text.replace('/','')\n",
    "    text = text.replace(\"'\",'')\n",
    "    #split along remaining spaces\n",
    "    text_list = text.split()\n",
    "    #remove things that are included in the stop words list\n",
    "    text_list2 = [word for word in text_list if word not in stopwords]\n",
    "    return text_list2\n",
    "def convert_text_to_dtm(txt):\n",
    "    #Convert text into DTM which counts frequency of words used\n",
    "    d = dict()\n",
    "    for word in tokenize(txt):\n",
    "        if word in d:\n",
    "            d[word][0] += 1\n",
    "        else:\n",
    "            d[word] = [1]\n",
    "    return pd.DataFrame(d)\n",
    "def gen_DTM(texts=None):\n",
    "    #generate DTM of a given file\n",
    "    DTM = pd.DataFrame()\n",
    "    for text in texts:\n",
    "        entry = convert_text_to_dtm(text)\n",
    "        DTM = DTM.append(pd.DataFrame(entry),ignore_index=True,sort=True) # Row bind\n",
    "    DTM.fillna(0, inplace=True) # Fill in any missing values with 0s (i.e. when a word is in one text but not another)\n",
    "    return DTM\n",
    "#create cosine function that will check for degree of similarity between two vectors (the vectors being the DTMs)\n",
    "def cosine(a,b):\n",
    "    cos = np.dot(a,b)/(np.sqrt(np.dot(a,a)) * np.sqrt(np.dot(b,b))\n",
    "    return cos"
   ]
  },
  {
   "cell_type": "code",
   "execution_count": 14,
   "metadata": {},
   "outputs": [],
   "source": [
    "dtm = gen_DTM(texts)\n",
    "#define each row in the DTM so that it can be more easily computed\n",
    "alj = dtm.iloc[0].values\n",
    "bbc = dtm.iloc[1].values\n",
    "bbt = dtm.iloc[2].values\n",
    "cnn = dtm.iloc[3].values\n",
    "fox = dtm.iloc[4].values"
   ]
  },
  {
   "cell_type": "code",
   "execution_count": 17,
   "metadata": {},
   "outputs": [
    {
     "data": {
      "text/plain": [
       "0.5157347164850866"
      ]
     },
     "execution_count": 17,
     "metadata": {},
     "output_type": "execute_result"
    }
   ],
   "source": [
    "cosine(bbt,fox)"
   ]
  },
  {
   "cell_type": "code",
   "execution_count": 8,
   "metadata": {},
   "outputs": [
    {
     "data": {
      "text/plain": [
       "0.5137691572405918"
      ]
     },
     "execution_count": 8,
     "metadata": {},
     "output_type": "execute_result"
    }
   ],
   "source": [
    "cosine(cnn, fox)"
   ]
  },
  {
   "cell_type": "code",
   "execution_count": 9,
   "metadata": {},
   "outputs": [
    {
     "data": {
      "text/plain": [
       "0.3527237380899392"
      ]
     },
     "execution_count": 9,
     "metadata": {},
     "output_type": "execute_result"
    }
   ],
   "source": [
    "cosine(bbt,cnn)"
   ]
  },
  {
   "cell_type": "markdown",
   "metadata": {},
   "source": [
    "It appears that the degree of similarity between Breitbart and Fox was relatively comparable to the degree of Similarity between CNN and fox. Despite the similarity there, a direct comparison of Breitbart and CNN demonstrates a much lower degree of similarity in terms their respective DTMs."
   ]
  },
  {
   "cell_type": "code",
   "execution_count": 26,
   "metadata": {},
   "outputs": [
    {
     "data": {
      "text/plain": [
       "0.5993412925976285"
      ]
     },
     "execution_count": 26,
     "metadata": {},
     "output_type": "execute_result"
    }
   ],
   "source": [
    "cosine(fox, bbc)"
   ]
  },
  {
   "cell_type": "code",
   "execution_count": 27,
   "metadata": {},
   "outputs": [
    {
     "data": {
      "text/plain": [
       "0.6337697128800454"
      ]
     },
     "execution_count": 27,
     "metadata": {},
     "output_type": "execute_result"
    }
   ],
   "source": [
    "cosine(fox, alj)"
   ]
  },
  {
   "cell_type": "code",
   "execution_count": 21,
   "metadata": {},
   "outputs": [
    {
     "data": {
      "text/plain": [
       "0.6603550928778185"
      ]
     },
     "execution_count": 21,
     "metadata": {},
     "output_type": "execute_result"
    }
   ],
   "source": [
    "cosine(alj, bbc)"
   ]
  },
  {
   "cell_type": "markdown",
   "metadata": {},
   "source": [
    "Fox did have a higher degree of similarity with both Aljazeera and BBC than with the other two but, unlike the previous case, Aljazeera and BBC demonstrate an even higher degree of similarity with one another."
   ]
  },
  {
   "cell_type": "code",
   "execution_count": 20,
   "metadata": {},
   "outputs": [
    {
     "data": {
      "text/plain": [
       "0.541587378994062"
      ]
     },
     "execution_count": 20,
     "metadata": {},
     "output_type": "execute_result"
    }
   ],
   "source": [
    "cosine(alj, bbt)"
   ]
  },
  {
   "cell_type": "code",
   "execution_count": 23,
   "metadata": {},
   "outputs": [
    {
     "data": {
      "text/plain": [
       "0.5246192538797578"
      ]
     },
     "execution_count": 23,
     "metadata": {},
     "output_type": "execute_result"
    }
   ],
   "source": [
    "cosine(alj, cnn)"
   ]
  },
  {
   "cell_type": "code",
   "execution_count": 10,
   "metadata": {},
   "outputs": [
    {
     "data": {
      "text/plain": [
       "0.5568714820991048"
      ]
     },
     "execution_count": 10,
     "metadata": {},
     "output_type": "execute_result"
    }
   ],
   "source": [
    "cosine(bbc,bbt)"
   ]
  },
  {
   "cell_type": "code",
   "execution_count": 11,
   "metadata": {},
   "outputs": [
    {
     "data": {
      "text/plain": [
       "0.4979090203443717"
      ]
     },
     "execution_count": 11,
     "metadata": {},
     "output_type": "execute_result"
    }
   ],
   "source": [
    "cosine(bbc,cnn)"
   ]
  },
  {
   "cell_type": "markdown",
   "metadata": {},
   "source": [
    "Aside from the BBC and CNN having the second lowest degree of similarity between articles the rest of these do no appear to be that significant."
   ]
  }
 ],
 "metadata": {
  "interpreter": {
   "hash": "28a81214f7478740f45598c48c99274242b50f964bf4d41318ceccbdc4979f9f"
  },
  "kernelspec": {
   "display_name": "Python 3.9.5 64-bit",
   "name": "python3"
  },
  "language_info": {
   "codemirror_mode": {
    "name": "ipython",
    "version": 3
   },
   "file_extension": ".py",
   "mimetype": "text/x-python",
   "name": "python",
   "nbconvert_exporter": "python",
   "pygments_lexer": "ipython3",
   "version": "3.9.5"
  },
  "orig_nbformat": 4
 },
 "nbformat": 4,
 "nbformat_minor": 2
}
