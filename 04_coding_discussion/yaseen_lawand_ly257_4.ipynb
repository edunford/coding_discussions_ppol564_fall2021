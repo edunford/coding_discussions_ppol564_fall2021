{
 "cells": [
  {
   "cell_type": "code",
   "execution_count": 115,
   "id": "924f7564",
   "metadata": {},
   "outputs": [],
   "source": [
    "import numpy as np \n",
    "import pandas as pd"
   ]
  },
  {
   "cell_type": "code",
   "execution_count": 117,
   "id": "019c5fdc",
   "metadata": {},
   "outputs": [],
   "source": [
    "#Loading in Data \n",
    "cnn = open(\"/Users/lawandyaseen/Desktop/coding_discussions_ppol564_fall2021/04_coding_discussion/Data/cnn-khashoggi.txt\", \"r\")\n",
    "aljazeera = open(\"/Users/lawandyaseen/Desktop/coding_discussions_ppol564_fall2021/04_coding_discussion/Data/aljazeera-khashoggi.txt\", \"r\")\n",
    "bbc = open(\"/Users/lawandyaseen/Desktop/coding_discussions_ppol564_fall2021/04_coding_discussion/Data/bbc-khashoggi.txt\", \"r\")\n",
    "breitbart = open(\"/Users/lawandyaseen/Desktop/coding_discussions_ppol564_fall2021/04_coding_discussion/Data/breitbart-khashoggi.txt\", \"r\")\n",
    "fox = open(\"/Users/lawandyaseen/Desktop/coding_discussions_ppol564_fall2021/04_coding_discussion/Data/fox-khashoggi.txt\", \"r\")\n",
    "stop_words = pd.read_csv(\"/Users/lawandyaseen/Desktop/coding_discussions_ppol564_fall2021/04_coding_discussion/Data/stop_words.csv\")"
   ]
  },
  {
   "cell_type": "code",
   "execution_count": 118,
   "id": "4edbcb00",
   "metadata": {},
   "outputs": [],
   "source": [
    "#converting the TXT files into long strings\n",
    "cnn_as_string = cnn.read()\n",
    "aljazeera_as_string = aljazeera.read()\n",
    "bbc_as_string = bbc.read()\n",
    "breitbart_as_string = breitbart.read()\n",
    "fox_as_string = fox.read()\n",
    "stop_words = stop_words[\"word\"].to_list()#converting dataframe into list based on column name"
   ]
  },
  {
   "cell_type": "code",
   "execution_count": 119,
   "id": "b5670a4f",
   "metadata": {},
   "outputs": [],
   "source": [
    "JK_articles = [] #empty list \n",
    "JK_articles.append(cnn_as_string) #adding each article's string into a single list \n",
    "JK_articles.append(aljazeera_as_string)\n",
    "JK_articles.append(bbc_as_string)\n",
    "JK_articles.append(fox_as_string)\n",
    "JK_articles.append(breitbart_as_string)"
   ]
  },
  {
   "cell_type": "code",
   "execution_count": 132,
   "id": "a06561b4",
   "metadata": {},
   "outputs": [],
   "source": [
    "#function to clean up the article content \n",
    "def tokenize(text = None):\n",
    "    '''\n",
    "    Removes any unneeded symbols from strings and removes words from stopwords.csv file provided\n",
    "    \n",
    "    Arguments \n",
    "    --------\n",
    "    text: string \n",
    "    \n",
    "    Return\n",
    "    -------\n",
    "    list with words that are not in stopwords or contain any symbols \n",
    "    '''\n",
    "    text = text.lower() #converting all letters to lowercase \n",
    "    text = text.replace('.','') #following are removing any miscellanous values or signs that were used in the articles\n",
    "    text = text.replace('!','')\n",
    "    text = text.replace('?','')\n",
    "    text = text.replace('-','')\n",
    "    text = text.replace('[','')\n",
    "    text = text.replace(']','')\n",
    "    text = text.replace('(','')\n",
    "    text = text.replace(')','')\n",
    "    text = text.replace(',','')\n",
    "    text = text.replace('\"','')\n",
    "    text = text.replace('”','')\n",
    "    text = text.replace(':','')\n",
    "    text = text.replace('/','')\n",
    "    text = text.replace('1','')\n",
    "    text = text.replace('2','')\n",
    "    text = text.replace('3','')\n",
    "    text = text.replace('4','')\n",
    "    text = text.replace('5','')\n",
    "    text = text.replace('6','')\n",
    "    text = text.replace('7','')\n",
    "    text = text.replace('8','')\n",
    "    text = text.replace('9','')\n",
    "    text = text.replace('“','')\n",
    "    text = text.replace('0','')\n",
    "    text = text.replace('$','')  \n",
    "    text = text.replace('£','')\n",
    "    text = text.replace('—','')\n",
    "    text = text.split() #divides the strings into a list so that stop words can be removed in next step\n",
    "    final_list = [word for word in text if word not in stop_words] #checking for commonly used \"filler\" words\n",
    "    return final_list"
   ]
  },
  {
   "cell_type": "code",
   "execution_count": 133,
   "id": "2063559e",
   "metadata": {},
   "outputs": [],
   "source": [
    "#function to turn it into DTM matrix\n",
    "def convert_text_to_dtm(vals):\n",
    "    '''\n",
    "    Takes string and converts into a document term matrix \n",
    "    \n",
    "    Arguments \n",
    "    --------\n",
    "    vals: string \n",
    "    \n",
    "    Return\n",
    "    -------\n",
    "    dataframe with unique words and count of usage of word in article \n",
    "    '''\n",
    "    word_count = dict()\n",
    "    for word in tokenize(vals):\n",
    "        if word in word_count:\n",
    "            word_count[word][0] += 1\n",
    "        else:\n",
    "            word_count[word] = [1]\n",
    "    return pd.DataFrame(word_count)"
   ]
  },
  {
   "cell_type": "code",
   "execution_count": 136,
   "id": "05280334",
   "metadata": {},
   "outputs": [],
   "source": [
    "def create_DTM(strings =None):\n",
    "    '''\n",
    "    Creating a DTM for each article and merging each DTM together \n",
    "    \n",
    "    Arguments \n",
    "    --------\n",
    "    strings: list of strings\n",
    "    \n",
    "    Return\n",
    "    -------\n",
    "    dataframe with unique words and count of usage of word in each article, each row is different article \n",
    "    '''\n",
    "    DTM = pd.DataFrame()\n",
    "    for string in strings:\n",
    "        val = convert_text_to_dtm(string)\n",
    "        DTM = DTM.append(pd.DataFrame(val),ignore_index=True,sort=True)\n",
    "    \n",
    "    DTM.fillna(0, inplace=True) #NA if word is not used in article\n",
    "    return DTM"
   ]
  },
  {
   "cell_type": "code",
   "execution_count": 125,
   "id": "33030e69",
   "metadata": {},
   "outputs": [],
   "source": [
    "def cosine(x,y):\n",
    "    '''\n",
    "    Calculating cosine similarity given two arrays  \n",
    "    \n",
    "    Arguments \n",
    "    --------\n",
    "    x: Array 1 \n",
    "    y: Array 2\n",
    "    \n",
    "    Return\n",
    "    -------\n",
    "    Value between 0-1 indicating the cosine of the angle between the two arrays\n",
    "    '''\n",
    "    cos = np.dot(x,y)/(np.sqrt(np.dot(x,x)) * np.sqrt(np.dot(y,y))) #using cosine equation as defined in class\n",
    "    return cos"
   ]
  },
  {
   "cell_type": "code",
   "execution_count": 138,
   "id": "0ecfa842",
   "metadata": {},
   "outputs": [],
   "source": [
    "#creating DTM for Jamal Khashoggi articles\n",
    "DTM_results = create_DTM(JK_articles)"
   ]
  },
  {
   "cell_type": "code",
   "execution_count": 139,
   "id": "ef4a4713",
   "metadata": {},
   "outputs": [],
   "source": [
    "#pulling the results from the DTM for each individual articles \n",
    "cnn_results = DTM_results.iloc[0].values\n",
    "aljazeera_results = DTM_results.iloc[1].values\n",
    "bbc_results = DTM_results.iloc[2].values\n",
    "breitbart_results = DTM_results.iloc[3].values\n",
    "fox_results = DTM_results.iloc[4].values"
   ]
  },
  {
   "cell_type": "markdown",
   "id": "a5f5b1a8",
   "metadata": {},
   "source": [
    "#### Comparisons of Interest \n",
    "The following cosine calculations are done to compare the publications' similarity in reporting on Erdogan's response to the murder of Jamal Khashoggi. The comparsions chosen were based on ideological and political points of interest. "
   ]
  },
  {
   "cell_type": "markdown",
   "id": "169d0024",
   "metadata": {},
   "source": [
    "The first comparison was between Breitbart and CNN - two publications with very different political leanings."
   ]
  },
  {
   "cell_type": "code",
   "execution_count": 140,
   "id": "98c1e1ba",
   "metadata": {},
   "outputs": [
    {
     "data": {
      "text/plain": [
       "0.5223686656653737"
      ]
     },
     "execution_count": 140,
     "metadata": {},
     "output_type": "execute_result"
    }
   ],
   "source": [
    "cosine(breitbart_results, cnn_results)"
   ]
  },
  {
   "cell_type": "markdown",
   "id": "4e2410bd",
   "metadata": {},
   "source": [
    "The second comparison is between Fox and Breitbart, who are relatively more ideologically aligned than the previous comparison. There is a slight increase in substantive similarity between the articles."
   ]
  },
  {
   "cell_type": "code",
   "execution_count": 141,
   "id": "94bab740",
   "metadata": {},
   "outputs": [
    {
     "data": {
      "text/plain": [
       "0.5526344598374455"
      ]
     },
     "execution_count": 141,
     "metadata": {},
     "output_type": "execute_result"
    }
   ],
   "source": [
    "cosine(fox_results,breitbart_results)"
   ]
  },
  {
   "cell_type": "markdown",
   "id": "55a54bac",
   "metadata": {},
   "source": [
    "The third comparison looked at the two publications that are not based in the United States. Al-Jazeera is based in Qatar while BBC is a British publication. The content within the reporting is more similar than the comparison of the previous American reporting. "
   ]
  },
  {
   "cell_type": "code",
   "execution_count": 142,
   "id": "76e059f7",
   "metadata": {},
   "outputs": [
    {
     "data": {
      "text/plain": [
       "0.6785708770792225"
      ]
     },
     "execution_count": 142,
     "metadata": {},
     "output_type": "execute_result"
    }
   ],
   "source": [
    "cosine(aljazeera_results,bbc_results)"
   ]
  },
  {
   "cell_type": "markdown",
   "id": "62ba5524",
   "metadata": {},
   "source": [
    "Lastly, as a reference, Al-Jazeera and CNN were compared. The reporting between these two articles had nearly the same level of content similarity than Breitbart and CNN. "
   ]
  },
  {
   "cell_type": "code",
   "execution_count": 143,
   "id": "df44b1e1",
   "metadata": {},
   "outputs": [
    {
     "data": {
      "text/plain": [
       "0.5321942095223737"
      ]
     },
     "execution_count": 143,
     "metadata": {},
     "output_type": "execute_result"
    }
   ],
   "source": [
    "cosine(aljazeera_results, cnn_results)"
   ]
  },
  {
   "cell_type": "markdown",
   "id": "2b0b2b4f",
   "metadata": {},
   "source": [
    "Overall, of the chosen comparsions, Al-Jazeera and BBC had the most similar reporting content. However, there was a level of similarity among all of the comparsions. That may be changed if some of the more common words that are not considered fillers were removed from the DTM, like Jamal Khashoggi's name, or the world leaders involved in the story like Mohammed Bin Salman, Donald Trump and Recip Erdogan.  "
   ]
  }
 ],
 "metadata": {
  "kernelspec": {
   "display_name": "Python 3",
   "language": "python",
   "name": "python3"
  },
  "language_info": {
   "codemirror_mode": {
    "name": "ipython",
    "version": 3
   },
   "file_extension": ".py",
   "mimetype": "text/x-python",
   "name": "python",
   "nbconvert_exporter": "python",
   "pygments_lexer": "ipython3",
   "version": "3.8.8"
  }
 },
 "nbformat": 4,
 "nbformat_minor": 5
}
